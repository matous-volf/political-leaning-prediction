{
 "cells": [
  {
   "cell_type": "code",
   "id": "0",
   "metadata": {},
   "source": [
    "from pathlib import Path\n",
    "\n",
    "import evaluate\n",
    "from datasets import concatenate_datasets\n",
    "from transformers import IntervalStrategy\n",
    "\n",
    "from utils.dataset_utils import get_datasets_for_leave_one_out_benchmark, \\\n",
    "    take_even_class_distribution_sample, \\\n",
    "    transform_for_inference\n",
    "from utils.model_utils import POLITICAL_LEANING_WITH_CENTER_LABEL_MAPPING, finetune_custom_models"
   ],
   "outputs": [],
   "execution_count": null
  },
  {
   "cell_type": "code",
   "id": "1",
   "metadata": {},
   "source": [
    "TRAIN_DATASET_SAMPLE_SIZE = 1_000\n",
    "EVAL_DATASET_SAMPLE_SIZE = 100\n",
    "\n",
    "train_datasets_separate = []\n",
    "eval_datasets = []\n",
    "for dataset in get_datasets_for_leave_one_out_benchmark():\n",
    "    label_mapping = POLITICAL_LEANING_WITH_CENTER_LABEL_MAPPING\n",
    "\n",
    "    eval_dataset = take_even_class_distribution_sample(dataset, EVAL_DATASET_SAMPLE_SIZE)\n",
    "    eval_dataset = transform_for_inference(eval_dataset, label_mapping)\n",
    "\n",
    "    # Remove the eval sample from the source dataframe.\n",
    "    dataset.dataframe = dataset.dataframe.loc[~dataset.dataframe.index.isin(eval_dataset.dataframe.index)]\n",
    "\n",
    "    train_dataset = take_even_class_distribution_sample(dataset, TRAIN_DATASET_SAMPLE_SIZE)\n",
    "    train_dataset = transform_for_inference(train_dataset, label_mapping)\n",
    "\n",
    "    train_datasets_separate.append(train_dataset.to_huggingface())\n",
    "    eval_datasets.append(eval_dataset.to_huggingface())\n",
    "\n",
    "train_datasets = [\n",
    "    concatenate_datasets(\n",
    "        list(filter(\n",
    "            lambda dataset: dataset.info.dataset_name != left_out_dataset.info.dataset_name, train_datasets_separate\n",
    "        )),\n",
    "        info=left_out_dataset.info\n",
    "    ) for left_out_dataset in train_datasets_separate\n",
    "]"
   ],
   "outputs": [],
   "execution_count": null
  },
  {
   "cell_type": "code",
   "id": "2",
   "metadata": {},
   "source": [
    "TRAINING_SEED = 37\n",
    "DATA_SEED = 37\n",
    "METRIC = evaluate.load(\"accuracy\")\n",
    "EVAL_STRATEGY = IntervalStrategy.EPOCH\n",
    "\n",
    "finetune_custom_models(\n",
    "    Path(\"dataset_benchmark\", \"leave_one_out\"),\n",
    "    train_datasets,\n",
    "    eval_datasets,\n",
    "    METRIC,\n",
    "    EVAL_STRATEGY,\n",
    "    TRAINING_SEED,\n",
    "    DATA_SEED\n",
    ")"
   ],
   "outputs": [],
   "execution_count": null
  }
 ],
 "metadata": {
  "kernelspec": {
   "display_name": "Python 3",
   "language": "python",
   "name": "python3"
  },
  "language_info": {
   "codemirror_mode": {
    "name": "ipython",
    "version": 2
   },
   "file_extension": ".py",
   "mimetype": "text/x-python",
   "name": "python",
   "nbconvert_exporter": "python",
   "pygments_lexer": "ipython2",
   "version": "2.7.6"
  }
 },
 "nbformat": 4,
 "nbformat_minor": 5
}
