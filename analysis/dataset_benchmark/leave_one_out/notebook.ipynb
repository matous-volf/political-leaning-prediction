{
 "cells": [
  {
   "metadata": {},
   "cell_type": "code",
   "source": [
    "from pathlib import Path\n",
    "\n",
    "import evaluate\n",
    "from datasets import concatenate_datasets\n",
    "from transformers import IntervalStrategy\n",
    "\n",
    "from utils.dataset_utils import get_politicalness_datasets, leaning_with_center_label_mapping\n",
    "from utils.model_utils import finetune_models"
   ],
   "id": "368698f4f561554c",
   "outputs": [],
   "execution_count": null
  },
  {
   "metadata": {},
   "cell_type": "code",
   "source": [
    "TRAINING_POLITICAL_LEANING = False\n",
    "RESULT_SUBDIRECTORY_NAME = \"politicalness\"\n",
    "GET_DATASETS = lambda: get_politicalness_datasets()\n",
    "TRAIN_DATASET_SAMPLE_SIZE = 1_000\n",
    "EVAL_DATASET_SAMPLE_SIZE = 100\n",
    "\n",
    "train_datasets_separate = []\n",
    "eval_datasets = []\n",
    "for dataset in GET_DATASETS():\n",
    "    eval_dataset = dataset.take_even_class_distribution_sample(EVAL_DATASET_SAMPLE_SIZE)\n",
    "    eval_dataset = eval_dataset.transform_for_inference(\n",
    "        leaning_with_center_label_mapping if TRAINING_POLITICAL_LEANING else None\n",
    "    )\n",
    "    eval_datasets.append(eval_dataset.to_huggingface())\n",
    "\n",
    "    # Remove the eval sample from the source dataframe.\n",
    "    dataset.dataframe = dataset.dataframe.loc[~dataset.dataframe.index.isin(eval_dataset.dataframe.index)]\n",
    "\n",
    "    train_dataset = dataset.take_even_class_distribution_sample(TRAIN_DATASET_SAMPLE_SIZE)\n",
    "    train_dataset = train_dataset.transform_for_inference(\n",
    "        leaning_with_center_label_mapping if TRAINING_POLITICAL_LEANING else None\n",
    "    )\n",
    "    train_datasets_separate.append(train_dataset.to_huggingface())\n",
    "\n",
    "train_datasets = [\n",
    "    concatenate_datasets(\n",
    "        list(filter(\n",
    "            lambda dataset: dataset.info.dataset_name != left_out_dataset.info.dataset_name, train_datasets_separate\n",
    "        )),\n",
    "        info=left_out_dataset.info\n",
    "    ) for left_out_dataset in train_datasets_separate\n",
    "]"
   ],
   "id": "5c3dd5fc2e5328c4",
   "outputs": [],
   "execution_count": null
  },
  {
   "metadata": {},
   "cell_type": "code",
   "source": [
    "TRAINING_SEED = 37\n",
    "DATA_SEED = 37\n",
    "METRIC = evaluate.load(\"accuracy\")\n",
    "EVAL_STRATEGY = IntervalStrategy.EPOCH\n",
    "\n",
    "finetune_models(\n",
    "    Path(\"dataset_benchmark\", \"leave_one_out\", RESULT_SUBDIRECTORY_NAME),\n",
    "    train_datasets,\n",
    "    eval_datasets,\n",
    "    METRIC,\n",
    "    EVAL_STRATEGY,\n",
    "    TRAINING_SEED,\n",
    "    DATA_SEED\n",
    ")"
   ],
   "id": "c721e4ef70d142f3",
   "outputs": [],
   "execution_count": null
  }
 ],
 "metadata": {
  "kernelspec": {
   "display_name": "Python 3",
   "language": "python",
   "name": "python3"
  },
  "language_info": {
   "codemirror_mode": {
    "name": "ipython",
    "version": 2
   },
   "file_extension": ".py",
   "mimetype": "text/x-python",
   "name": "python",
   "nbconvert_exporter": "python",
   "pygments_lexer": "ipython2",
   "version": "2.7.6"
  }
 },
 "nbformat": 4,
 "nbformat_minor": 5
}
