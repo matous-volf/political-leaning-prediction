{
 "cells": [
  {
   "cell_type": "code",
   "id": "0",
   "metadata": {},
   "source": [
    "from pathlib import Path\n",
    "\n",
    "import evaluate\n",
    "from datasets import Dataset, DatasetInfo, concatenate_datasets\n",
    "from transformers import IntervalStrategy\n",
    "\n",
    "from utils.dataset_utils import get_datasets_for_leave_one_out_benchmark, take_even_class_distribution_sample, \\\n",
    "    transform_train_labels\n",
    "from utils.model_utils import POLITICAL_LEANING_WITH_CENTER_LABEL_MAPPING, finetune_custom_models"
   ],
   "outputs": [],
   "execution_count": null
  },
  {
   "cell_type": "code",
   "id": "1",
   "metadata": {},
   "source": [
    "TRAIN_DATASET_SAMPLE_SIZE = 1_000\n",
    "EVAL_DATASET_SAMPLE_SIZE = 100\n",
    "\n",
    "train_datasets_separate = []\n",
    "eval_datasets = []\n",
    "for dataset in get_datasets_for_leave_one_out_benchmark():\n",
    "    dataframe = dataset.dataframe\n",
    "    label_mapping = POLITICAL_LEANING_WITH_CENTER_LABEL_MAPPING\n",
    "\n",
    "    eval_dataframe = take_even_class_distribution_sample(dataframe, EVAL_DATASET_SAMPLE_SIZE)\n",
    "    eval_dataframe = transform_train_labels(eval_dataframe, label_mapping)\n",
    "\n",
    "    # Remove the eval sample from the source dataframe.\n",
    "    dataframe = dataframe.loc[~dataframe.index.isin(eval_dataframe.index)]\n",
    "\n",
    "    train_dataframe = take_even_class_distribution_sample(dataframe, TRAIN_DATASET_SAMPLE_SIZE)\n",
    "    train_dataframe = transform_train_labels(train_dataframe, label_mapping)\n",
    "\n",
    "    train_datasets_separate.append(Dataset.from_pandas(train_dataframe, info=DatasetInfo(dataset_name=dataset.name)))\n",
    "    eval_datasets.append(Dataset.from_pandas(eval_dataframe, info=DatasetInfo(dataset_name=dataset.name)))\n",
    "\n",
    "train_datasets = [\n",
    "    concatenate_datasets(\n",
    "        list(filter(\n",
    "            lambda dataset: dataset.info.dataset_name != left_out_dataset.info.dataset_name, train_datasets_separate\n",
    "        )),\n",
    "        info=left_out_dataset.info\n",
    "    ) for left_out_dataset in train_datasets_separate\n",
    "]"
   ],
   "outputs": [],
   "execution_count": null
  },
  {
   "cell_type": "code",
   "id": "2",
   "metadata": {},
   "source": [
    "TRAINING_SEED = 37\n",
    "DATA_SEED = 37\n",
    "METRIC = evaluate.load(\"accuracy\")\n",
    "EVAL_STRATEGY = IntervalStrategy.EPOCH\n",
    "\n",
    "finetune_custom_models(\n",
    "    Path(\"dataset_benchmark\", \"leave_one_out\"),\n",
    "    train_datasets,\n",
    "    eval_datasets,\n",
    "    METRIC,\n",
    "    EVAL_STRATEGY,\n",
    "    TRAINING_SEED,\n",
    "    DATA_SEED\n",
    ")"
   ],
   "outputs": [],
   "execution_count": null
  }
 ],
 "metadata": {
  "kernelspec": {
   "display_name": "Python 3",
   "language": "python",
   "name": "python3"
  },
  "language_info": {
   "codemirror_mode": {
    "name": "ipython",
    "version": 2
   },
   "file_extension": ".py",
   "mimetype": "text/x-python",
   "name": "python",
   "nbconvert_exporter": "python",
   "pygments_lexer": "ipython2",
   "version": "2.7.6"
  }
 },
 "nbformat": 4,
 "nbformat_minor": 5
}
