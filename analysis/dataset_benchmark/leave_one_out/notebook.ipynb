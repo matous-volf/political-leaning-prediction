{
 "cells": [
  {
   "cell_type": "code",
   "id": "0",
   "metadata": {},
   "source": [
    "from pathlib import Path\n",
    "\n",
    "import numpy as np\n",
    "from datasets import Dataset, DatasetInfo, concatenate_datasets\n",
    "\n",
    "from utils.dataset_utils import get_datasets_for_leave_one_out_benchmark, systematic_sample\n",
    "from utils.model_utils import POLITICAL_LEANING_WITH_CENTER_LABEL_MAPPING, finetune_custom_models"
   ],
   "outputs": [],
   "execution_count": null
  },
  {
   "cell_type": "code",
   "id": "1",
   "metadata": {},
   "source": [
    "DATASET_SAMPLE_SIZE = 1_000\n",
    "\n",
    "datasets_separate = []\n",
    "for dataset in get_datasets_for_leave_one_out_benchmark():\n",
    "    dataframe = dataset.dataframe\n",
    "\n",
    "    n_samples = int(np.ceil(DATASET_SAMPLE_SIZE / dataframe[\"leaning\"].nunique()))\n",
    "    dataframe = (dataframe.groupby(\"leaning\", group_keys=False, observed=True)[[\"body\", \"leaning\"]]\n",
    "                 .apply(lambda group: systematic_sample(group, n_samples))\n",
    "                 .head(DATASET_SAMPLE_SIZE))\n",
    "\n",
    "    dataframe = dataframe.rename(columns={\"leaning\": \"label\"})\n",
    "    # Always map with center, otherwise the non-center datasets would produce wrong labels.\n",
    "    dataframe[\"label\"] = dataframe[\"label\"].cat.rename_categories(POLITICAL_LEANING_WITH_CENTER_LABEL_MAPPING)\n",
    "\n",
    "    datasets_separate.append(Dataset.from_pandas(dataframe, info=DatasetInfo(dataset_name=dataset.name)))\n",
    "\n",
    "datasets = [\n",
    "    concatenate_datasets(\n",
    "        list(filter(\n",
    "            lambda dataset: dataset.info.dataset_name != left_out_dataset.info.dataset_name, datasets_separate\n",
    "        )),\n",
    "        info=left_out_dataset.info\n",
    "    ) for left_out_dataset in datasets_separate\n",
    "]"
   ],
   "outputs": [],
   "execution_count": null
  },
  {
   "cell_type": "code",
   "id": "2",
   "metadata": {},
   "source": [
    "TRAINING_SEED = 37\n",
    "DATA_SEED = 37\n",
    "\n",
    "finetune_custom_models(Path(\"dataset_benchmark\", \"leave_one_out\"), datasets, TRAINING_SEED, DATA_SEED)"
   ],
   "outputs": [],
   "execution_count": null
  }
 ],
 "metadata": {
  "kernelspec": {
   "display_name": "Python 3",
   "language": "python",
   "name": "python3"
  },
  "language_info": {
   "codemirror_mode": {
    "name": "ipython",
    "version": 2
   },
   "file_extension": ".py",
   "mimetype": "text/x-python",
   "name": "python",
   "nbconvert_exporter": "python",
   "pygments_lexer": "ipython2",
   "version": "2.7.6"
  }
 },
 "nbformat": 4,
 "nbformat_minor": 5
}
