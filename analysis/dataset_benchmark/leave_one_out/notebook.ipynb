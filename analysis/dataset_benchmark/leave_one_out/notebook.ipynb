{
 "cells": [
  {
   "metadata": {},
   "cell_type": "code",
   "source": [
    "from itertools import chain\n",
    "from pathlib import Path\n",
    "\n",
    "from utils.dataset_utils import (\n",
    "    get_leaning_datasets_for_leave_one_out_benchmark,\n",
    "    get_leave_one_out_datasets,\n",
    ")\n",
    "from utils.model_utils import finetune_models\n"
   ],
   "id": "65a87d9dbe948a82",
   "outputs": [],
   "execution_count": null
  },
  {
   "metadata": {},
   "cell_type": "code",
   "source": [
    "TRAINING_POLITICAL_LEANING = True\n",
    "GET_DATASETS = lambda: chain(\n",
    "    get_leaning_datasets_for_leave_one_out_benchmark()\n",
    ")\n",
    "TEST_DATASET_SAMPLE_FRACTION = 0.15\n",
    "EVAL_DATASET_SAMPLE_SIZE = 1_000\n",
    "TRAIN_DATASET_SAMPLE_SIZE = 10_000\n",
    "\n",
    "BALANCE_CENTER_LEANING_CLASS = False\n",
    "CENTER_LEANING_CLASS_TRAIN_SIZE_MULTIPLIERS = {\n",
    "    \"article_bias_prediction\": 5,\n",
    "    \"bignewsbln\": 10,  # There is not enough center leaning examples to balance this out.\n",
    "    \"commoncrawl_news_articles\": 5.5,\n",
    "    \"gpt4_political_bias\": 3.25,\n",
    "    \"gpt4_political_ideologies\": 3,\n",
    "    \"qbias\": 3.25,\n",
    "}\n",
    "CENTER_LEANING_CLASS_TRAIN_SIZE_MULTIPLIER_DEFAULT = 2.6\n",
    "\n",
    "train_datasets, eval_datasets = get_leave_one_out_datasets(\n",
    "    list(GET_DATASETS()),\n",
    "    TRAINING_POLITICAL_LEANING,\n",
    "    TEST_DATASET_SAMPLE_FRACTION,\n",
    "    EVAL_DATASET_SAMPLE_SIZE,\n",
    "    TRAIN_DATASET_SAMPLE_SIZE,\n",
    "    BALANCE_CENTER_LEANING_CLASS,\n",
    "    CENTER_LEANING_CLASS_TRAIN_SIZE_MULTIPLIERS,\n",
    "    CENTER_LEANING_CLASS_TRAIN_SIZE_MULTIPLIER_DEFAULT,\n",
    ")\n"
   ],
   "id": "cec1aed2eafd6a3d",
   "outputs": [],
   "execution_count": null
  },
  {
   "metadata": {},
   "cell_type": "code",
   "source": [
    "finetune_models(\n",
    "    Path(\n",
    "        \"dataset_benchmark\",\n",
    "        \"leave_one_out\",\n",
    "        \"political_leaning\" if TRAINING_POLITICAL_LEANING else \"politicalness\",\n",
    "    ),\n",
    "    train_datasets,\n",
    "    eval_datasets,\n",
    ")\n"
   ],
   "id": "bb09a7eec1dd2c5c",
   "outputs": [],
   "execution_count": null
  }
 ],
 "metadata": {
  "kernelspec": {
   "display_name": "Python 3 (ipykernel)",
   "language": "python",
   "name": "python3"
  },
  "language_info": {
   "codemirror_mode": {
    "name": "ipython",
    "version": 3
   },
   "file_extension": ".py",
   "mimetype": "text/x-python",
   "name": "python",
   "nbconvert_exporter": "python",
   "pygments_lexer": "ipython3",
   "version": "3.12.8"
  }
 },
 "nbformat": 4,
 "nbformat_minor": 5
}