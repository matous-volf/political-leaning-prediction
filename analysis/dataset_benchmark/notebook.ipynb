{
 "cells": [
  {
   "cell_type": "code",
   "execution_count": null,
   "id": "0",
   "metadata": {},
   "outputs": [],
   "source": [
    "import numpy as np\n",
    "from datasets import Dataset\n",
    "from transformers import AutoTokenizer, AutoModelForSequenceClassification, TrainingArguments, Trainer\n",
    "\n",
    "from utils.base_directory import BASE_DIRECTORY\n",
    "from utils.datasets import get_datasets"
   ]
  },
  {
   "cell_type": "code",
   "execution_count": null,
   "id": "1",
   "metadata": {},
   "outputs": [],
   "source": [
    "DATASET_SAMPLE_SIZE = 1000\n",
    "\n",
    "\n",
    "def systematic_sample(group, n):\n",
    "    indexes = list(range(0, len(group), max(1, len(group) // n)))[:n]\n",
    "    return group.iloc[indexes]\n",
    "\n",
    "\n",
    "datasets = []\n",
    "dataset_names = []\n",
    "for dataset in get_datasets():\n",
    "    dataframe = dataset.dataframe\n",
    "    dataset_names.append(dataset.name)\n",
    "\n",
    "    n_samples = int(np.ceil(DATASET_SAMPLE_SIZE / dataframe[\"leaning\"].nunique()))\n",
    "    dataframe = (dataframe.groupby(\"leaning\", group_keys=False, observed=True)[[\"body\", \"leaning\"]]\n",
    "                 .apply(lambda group: systematic_sample(group, n_samples))\n",
    "                 .head(DATASET_SAMPLE_SIZE))\n",
    "\n",
    "    dataframe = dataframe.rename(columns={\"leaning\": \"label\"})\n",
    "    dataframe[\"label\"] = dataframe[\"label\"].cat.rename_categories({\"left\": 0, \"center\": 1, \"right\": 2})\n",
    "\n",
    "    datasets.append(Dataset.from_pandas(dataframe))"
   ]
  },
  {
   "cell_type": "code",
   "execution_count": null,
   "id": "2",
   "metadata": {},
   "outputs": [],
   "source": [
    "MODELS_MAX_LENGTH = 512\n",
    "\n",
    "model_names = [\"google-bert/bert-base-cased\", \"FacebookAI/roberta-base\"]\n",
    "\n",
    "for model_name in model_names:\n",
    "    print(f\"fine-tuning {model_name} on:\")\n",
    "\n",
    "    tokenizer = AutoTokenizer.from_pretrained(model_name)\n",
    "    model = AutoModelForSequenceClassification.from_pretrained(model_name, num_labels=3)\n",
    "    for dataset, dataset_name in zip(datasets, dataset_names):\n",
    "        print(f\"  {dataset_name}\")\n",
    "        output_directory = (BASE_DIRECTORY\n",
    "                            / \"models_custom\"\n",
    "                            / \"dataset_benchmark\"\n",
    "                            / model_name.split(\"/\")[-1]\n",
    "                            / dataset_name)\n",
    "\n",
    "        tokenized_dataset = dataset.map(\n",
    "            lambda batch: tokenizer(batch[\"body\"], max_length=MODELS_MAX_LENGTH, truncation=True, padding=\"max_length\"),\n",
    "            batched=True\n",
    "        )\n",
    "        training_arguments = TrainingArguments(\n",
    "            auto_find_batch_size=True,\n",
    "            save_strategy=\"no\",\n",
    "            output_dir=output_directory\n",
    "        )\n",
    "        trainer = Trainer(\n",
    "            model=model,\n",
    "            args=training_arguments,\n",
    "            train_dataset=tokenized_dataset\n",
    "        )\n",
    "        trainer.train()\n",
    "        trainer.save_model(output_directory)"
   ]
  }
 ],
 "metadata": {
  "kernelspec": {
   "display_name": "Python 3",
   "language": "python",
   "name": "python3"
  },
  "language_info": {
   "codemirror_mode": {
    "name": "ipython",
    "version": 2
   },
   "file_extension": ".py",
   "mimetype": "text/x-python",
   "name": "python",
   "nbconvert_exporter": "python",
   "pygments_lexer": "ipython2",
   "version": "2.7.6"
  }
 },
 "nbformat": 4,
 "nbformat_minor": 5
}
