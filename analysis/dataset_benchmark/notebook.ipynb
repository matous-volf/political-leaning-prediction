{
 "cells": [
  {
   "cell_type": "code",
   "id": "0",
   "metadata": {},
   "source": [
    "import numpy as np\n",
    "from datasets import Dataset\n",
    "from transformers import AutoTokenizer, AutoModelForSequenceClassification, TrainingArguments, Trainer\n",
    "\n",
    "from utils.base_directory import BASE_DIRECTORY\n",
    "from utils.datasets import get_datasets, systematic_sample\n",
    "from utils.models import DATASET_BENCHMARK_MODEL_NAMES, POLITICAL_LEANING_LABEL_MAPPING, \\\n",
    "    POLITICAL_LEANING_NO_CENTER_LABEL_MAPPING"
   ],
   "outputs": [],
   "execution_count": null
  },
  {
   "cell_type": "code",
   "id": "1",
   "metadata": {},
   "source": [
    "DATASET_SAMPLE_SIZE = 1_000\n",
    "\n",
    "datasets = []\n",
    "dataset_names = []\n",
    "for dataset in get_datasets():\n",
    "    dataframe = dataset.dataframe\n",
    "    dataset_names.append(dataset.name)\n",
    "\n",
    "    n_samples = int(np.ceil(DATASET_SAMPLE_SIZE / dataframe[\"leaning\"].nunique()))\n",
    "    dataframe = (dataframe.groupby(\"leaning\", group_keys=False, observed=True)[[\"body\", \"leaning\"]]\n",
    "                 .apply(lambda group: systematic_sample(group, n_samples))\n",
    "                 .head(DATASET_SAMPLE_SIZE))\n",
    "\n",
    "    dataframe = dataframe.rename(columns={\"leaning\": \"label\"})\n",
    "    label_mapping = POLITICAL_LEANING_LABEL_MAPPING if len(dataframe[\"label\"].unique()) == 3 \\\n",
    "        else POLITICAL_LEANING_NO_CENTER_LABEL_MAPPING\n",
    "    dataframe[\"label\"] = dataframe[\"label\"].cat.rename_categories(label_mapping)\n",
    "\n",
    "    datasets.append(Dataset.from_pandas(dataframe))"
   ],
   "outputs": [],
   "execution_count": null
  },
  {
   "cell_type": "code",
   "id": "2",
   "metadata": {},
   "source": [
    "MODELS_MAX_LENGTH = 512\n",
    "\n",
    "for model_name in DATASET_BENCHMARK_MODEL_NAMES:\n",
    "    print(f\"fine-tuning {model_name} on:\")\n",
    "\n",
    "    tokenizer = AutoTokenizer.from_pretrained(model_name)\n",
    "    for dataset, dataset_name in zip(datasets, dataset_names):\n",
    "        model = AutoModelForSequenceClassification.from_pretrained(model_name, num_labels=len(dataset.unique(\"label\")))\n",
    "        print(f\"  {dataset_name}\")\n",
    "        output_directory = (BASE_DIRECTORY\n",
    "                            / \"models_custom\"\n",
    "                            / \"dataset_benchmark\"\n",
    "                            / model_name.split(\"/\")[-1]\n",
    "                            / dataset_name)\n",
    "\n",
    "        tokenized_dataset = dataset.map(\n",
    "            lambda batch: tokenizer(batch[\"body\"], max_length=MODELS_MAX_LENGTH, truncation=True, padding=\"max_length\"),\n",
    "            batched=True\n",
    "        )\n",
    "        training_arguments = TrainingArguments(\n",
    "            auto_find_batch_size=True,\n",
    "            save_strategy=\"no\",\n",
    "            output_dir=output_directory\n",
    "        )\n",
    "        trainer = Trainer(\n",
    "            model=model,\n",
    "            args=training_arguments,\n",
    "            train_dataset=tokenized_dataset\n",
    "        )\n",
    "        trainer.train()\n",
    "        trainer.save_model(output_directory)"
   ],
   "outputs": [],
   "execution_count": null
  }
 ],
 "metadata": {
  "kernelspec": {
   "display_name": "Python 3",
   "language": "python",
   "name": "python3"
  },
  "language_info": {
   "codemirror_mode": {
    "name": "ipython",
    "version": 2
   },
   "file_extension": ".py",
   "mimetype": "text/x-python",
   "name": "python",
   "nbconvert_exporter": "python",
   "pygments_lexer": "ipython2",
   "version": "2.7.6"
  }
 },
 "nbformat": 4,
 "nbformat_minor": 5
}
