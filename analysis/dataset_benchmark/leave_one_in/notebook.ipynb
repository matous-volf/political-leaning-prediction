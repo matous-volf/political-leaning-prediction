{
 "cells": [
  {
   "metadata": {},
   "cell_type": "code",
   "source": [
    "from pathlib import Path\n",
    "\n",
    "import evaluate\n",
    "from datasets import Dataset, DatasetInfo\n",
    "from transformers import IntervalStrategy\n",
    "\n",
    "from utils.dataset_utils import get_datasets, take_sample, transform_train_labels\n",
    "from utils.model_utils import POLITICAL_LEANING_NO_CENTER_LABEL_MAPPING, \\\n",
    "    POLITICAL_LEANING_WITH_CENTER_LABEL_MAPPING, finetune_custom_models"
   ],
   "id": "8ccd8e8bd8c69be1",
   "outputs": [],
   "execution_count": null
  },
  {
   "metadata": {
    "jupyter": {
     "is_executing": true
    }
   },
   "cell_type": "code",
   "source": [
    "TRAIN_DATASET_SAMPLE_SIZE = 1_000\n",
    "EVAL_DATASET_SAMPLE_SIZE = 100\n",
    "\n",
    "train_datasets = []\n",
    "eval_datasets = []\n",
    "for dataset in get_datasets():\n",
    "    dataframe = dataset.dataframe\n",
    "    label_mapping = POLITICAL_LEANING_WITH_CENTER_LABEL_MAPPING if len(dataframe[\"leaning\"].unique()) == 3 \\\n",
    "        else POLITICAL_LEANING_NO_CENTER_LABEL_MAPPING\n",
    "\n",
    "    eval_dataframe = take_sample(dataframe, EVAL_DATASET_SAMPLE_SIZE)\n",
    "    eval_dataframe = transform_train_labels(eval_dataframe, label_mapping)\n",
    "\n",
    "    # Remove the eval sample from the source dataframe.\n",
    "    dataframe = dataframe.loc[~dataframe.index.isin(eval_dataframe.index)]\n",
    "\n",
    "    train_dataframe = take_sample(dataframe, TRAIN_DATASET_SAMPLE_SIZE)\n",
    "    train_dataframe = transform_train_labels(train_dataframe, label_mapping)\n",
    "\n",
    "    train_datasets.append(Dataset.from_pandas(train_dataframe, info=DatasetInfo(dataset_name=dataset.name)))\n",
    "    eval_datasets.append(Dataset.from_pandas(eval_dataframe, info=DatasetInfo(dataset_name=dataset.name)))"
   ],
   "id": "d06954cba9ca8f83",
   "outputs": [],
   "execution_count": null
  },
  {
   "metadata": {},
   "cell_type": "code",
   "source": [
    "TRAINING_SEED = 37\n",
    "DATA_SEED = 37\n",
    "METRIC = evaluate.load(\"accuracy\")\n",
    "EVAL_STRATEGY = IntervalStrategy.EPOCH\n",
    "\n",
    "finetune_custom_models(\n",
    "    Path(\"dataset_benchmark\", \"leave_one_in\"),\n",
    "    train_datasets,\n",
    "    eval_datasets,\n",
    "    METRIC,\n",
    "    EVAL_STRATEGY,\n",
    "    TRAINING_SEED,\n",
    "    DATA_SEED\n",
    ")"
   ],
   "id": "dea2f3b8822886e1",
   "outputs": [],
   "execution_count": null
  }
 ],
 "metadata": {
  "kernelspec": {
   "display_name": "Python 3",
   "language": "python",
   "name": "python3"
  },
  "language_info": {
   "codemirror_mode": {
    "name": "ipython",
    "version": 2
   },
   "file_extension": ".py",
   "mimetype": "text/x-python",
   "name": "python",
   "nbconvert_exporter": "python",
   "pygments_lexer": "ipython2",
   "version": "2.7.6"
  }
 },
 "nbformat": 4,
 "nbformat_minor": 5
}
