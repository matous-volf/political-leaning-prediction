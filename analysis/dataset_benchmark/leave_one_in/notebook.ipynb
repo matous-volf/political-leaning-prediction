{
 "cells": [
  {
   "metadata": {},
   "cell_type": "code",
   "source": [
    "\n",
    "from pathlib import Path\n",
    "\n",
    "import evaluate\n",
    "from transformers import IntervalStrategy\n",
    "\n",
    "from utils.dataset_utils import get_leaning_datasets\n",
    "from utils.model_utils import finetune_models"
   ],
   "id": "3f2b2ed0ba8952",
   "outputs": [],
   "execution_count": null
  },
  {
   "metadata": {},
   "cell_type": "code",
   "source": [
    "RESULT_SUBDIRECTORY_NAME = \"political_leaning\"\n",
    "GET_DATASETS = lambda: get_leaning_datasets()\n",
    "TRAIN_DATASET_SAMPLE_SIZE = 1_000\n",
    "EVAL_DATASET_SAMPLE_SIZE = 100\n",
    "\n",
    "train_datasets = []\n",
    "eval_datasets = []\n",
    "for dataset in GET_DATASETS():\n",
    "    eval_dataset = dataset.take_even_class_distribution_sample(EVAL_DATASET_SAMPLE_SIZE)\n",
    "    eval_dataset = eval_dataset.transform_for_inference()\n",
    "\n",
    "    # Remove the eval sample from the source dataframe.\n",
    "    dataset.dataframe = dataset.dataframe.loc[~dataset.dataframe.index.isin(eval_dataset.dataframe.index)]\n",
    "\n",
    "    train_dataset = dataset.take_even_class_distribution_sample(TRAIN_DATASET_SAMPLE_SIZE)\n",
    "    train_dataset = train_dataset.transform_for_inference()\n",
    "\n",
    "    # Skip datasets containing only one class.\n",
    "    if train_dataset.dataframe[\"label\"].nunique() >= 2:\n",
    "        train_datasets.append(train_dataset.to_huggingface())\n",
    "        eval_datasets.append(eval_dataset.to_huggingface())"
   ],
   "id": "1846952f175a7751",
   "outputs": [],
   "execution_count": null
  },
  {
   "metadata": {},
   "cell_type": "code",
   "source": [
    "TRAINING_SEED = 37\n",
    "DATA_SEED = 37\n",
    "EVAL_STRATEGY = IntervalStrategy.EPOCH\n",
    "\n",
    "finetune_models(\n",
    "    Path(\"dataset_benchmark\", \"leave_one_in\", RESULT_SUBDIRECTORY_NAME),\n",
    "    train_datasets,\n",
    "    eval_datasets,\n",
    "    EVAL_STRATEGY,\n",
    "    TRAINING_SEED,\n",
    "    DATA_SEED\n",
    ")"
   ],
   "id": "a74d317cf03ee467",
   "outputs": [],
   "execution_count": null
  }
 ],
 "metadata": {
  "kernelspec": {
   "display_name": "Python 3",
   "language": "python",
   "name": "python3"
  },
  "language_info": {
   "codemirror_mode": {
    "name": "ipython",
    "version": 2
   },
   "file_extension": ".py",
   "mimetype": "text/x-python",
   "name": "python",
   "nbconvert_exporter": "python",
   "pygments_lexer": "ipython2",
   "version": "2.7.6"
  }
 },
 "nbformat": 4,
 "nbformat_minor": 5
}
