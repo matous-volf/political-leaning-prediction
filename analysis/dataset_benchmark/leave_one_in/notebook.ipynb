{
 "cells": [
  {
   "metadata": {},
   "cell_type": "code",
   "source": [
    "from pathlib import Path\n",
    "\n",
    "import numpy as np\n",
    "from datasets import Dataset, DatasetInfo\n",
    "\n",
    "from utils.dataset_utils import get_datasets, systematic_sample\n",
    "from utils.model_utils import POLITICAL_LEANING_NO_CENTER_LABEL_MAPPING, \\\n",
    "    POLITICAL_LEANING_WITH_CENTER_LABEL_MAPPING, finetune_custom_models"
   ],
   "id": "8ccd8e8bd8c69be1",
   "outputs": [],
   "execution_count": null
  },
  {
   "metadata": {},
   "cell_type": "code",
   "source": [
    "DATASET_SAMPLE_SIZE = 1_000\n",
    "\n",
    "datasets = []\n",
    "for dataset in get_datasets():\n",
    "    dataframe = dataset.dataframe\n",
    "\n",
    "    n_samples = int(np.ceil(DATASET_SAMPLE_SIZE / dataframe[\"leaning\"].nunique()))\n",
    "    dataframe = (dataframe.groupby(\"leaning\", group_keys=False, observed=True)[[\"body\", \"leaning\"]]\n",
    "                 .apply(lambda group: systematic_sample(group, n_samples))\n",
    "                 .head(DATASET_SAMPLE_SIZE))\n",
    "\n",
    "    dataframe = dataframe.rename(columns={\"leaning\": \"label\"})\n",
    "    label_mapping = POLITICAL_LEANING_WITH_CENTER_LABEL_MAPPING if len(dataframe[\"label\"].unique()) == 3 \\\n",
    "        else POLITICAL_LEANING_NO_CENTER_LABEL_MAPPING\n",
    "    dataframe[\"label\"] = dataframe[\"label\"].cat.rename_categories(label_mapping)\n",
    "\n",
    "    datasets.append(Dataset.from_pandas(dataframe, info=DatasetInfo(dataset_name=dataset.name)))"
   ],
   "id": "d06954cba9ca8f83",
   "outputs": [],
   "execution_count": null
  },
  {
   "metadata": {},
   "cell_type": "code",
   "source": [
    "TRAINING_SEED = 37\n",
    "DATA_SEED = 37\n",
    "\n",
    "finetune_custom_models(Path(\"dataset_benchmark\", \"leave_one_in\"), datasets, TRAINING_SEED, DATA_SEED)"
   ],
   "id": "dea2f3b8822886e1",
   "outputs": [],
   "execution_count": null
  }
 ],
 "metadata": {
  "kernelspec": {
   "display_name": "Python 3",
   "language": "python",
   "name": "python3"
  },
  "language_info": {
   "codemirror_mode": {
    "name": "ipython",
    "version": 2
   },
   "file_extension": ".py",
   "mimetype": "text/x-python",
   "name": "python",
   "nbconvert_exporter": "python",
   "pygments_lexer": "ipython2",
   "version": "2.7.6"
  }
 },
 "nbformat": 4,
 "nbformat_minor": 5
}
