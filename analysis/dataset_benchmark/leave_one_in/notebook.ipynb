{
 "cells": [
  {
   "metadata": {},
   "cell_type": "code",
   "source": [
    "from pathlib import Path\n",
    "\n",
    "from transformers import IntervalStrategy\n",
    "\n",
    "from utils.dataset_utils import get_leaning_datasets\n",
    "from utils.model_utils import finetune_models"
   ],
   "id": "3f2b2ed0ba8952",
   "outputs": [],
   "execution_count": null
  },
  {
   "metadata": {},
   "cell_type": "code",
   "source": [
    "RESULT_SUBDIRECTORY_NAME = \"political_leaning\"\n",
    "GET_DATASETS = lambda: get_leaning_datasets()\n",
    "TEST_DATASET_SAMPLE_FRACTION = 0.15\n",
    "EVAL_DATASET_SAMPLE_FRACTION = 0.15\n",
    "TRAIN_DATASET_SAMPLE_SIZE = 2_000\n",
    "\n",
    "whole_datasets = list(GET_DATASETS())\n",
    "\n",
    "for dataset in whole_datasets:\n",
    "    test_dataset = dataset.take_even_class_sample_by_fraction(TEST_DATASET_SAMPLE_FRACTION)\n",
    "    # Remove the test sample from the source dataframe.\n",
    "    dataset.dataframe = dataset.dataframe.loc[~dataset.dataframe.index.isin(test_dataset.dataframe.index)]\n",
    "\n",
    "train_datasets = []\n",
    "eval_datasets = []\n",
    "for dataset in whole_datasets:\n",
    "    eval_dataset = (\n",
    "        dataset.take_even_class_sample_by_fraction(EVAL_DATASET_SAMPLE_FRACTION)\n",
    "        .transform_for_inference()\n",
    "    )\n",
    "\n",
    "    # Remove the eval sample from the source dataframe.\n",
    "    dataset.dataframe = dataset.dataframe.loc[~dataset.dataframe.index.isin(eval_dataset.dataframe.index)]\n",
    "\n",
    "    train_dataset = (\n",
    "        dataset.take_even_class_sample_by_size(TRAIN_DATASET_SAMPLE_SIZE)\n",
    "        .transform_for_inference()\n",
    "    )\n",
    "\n",
    "    # Skip datasets containing only one class.\n",
    "    if train_dataset.dataframe[\"label\"].nunique() >= 2:\n",
    "        train_datasets.append(train_dataset.to_huggingface())\n",
    "        eval_datasets.append(eval_dataset.to_huggingface())"
   ],
   "id": "1846952f175a7751",
   "outputs": [],
   "execution_count": null
  },
  {
   "metadata": {},
   "cell_type": "code",
   "source": [
    "finetune_models(\n",
    "    Path(\"dataset_benchmark\", \"leave_one_in\", RESULT_SUBDIRECTORY_NAME),\n",
    "    train_datasets,\n",
    "    eval_datasets,\n",
    ")"
   ],
   "id": "a74d317cf03ee467",
   "outputs": [],
   "execution_count": null
  }
 ],
 "metadata": {
  "kernelspec": {
   "display_name": "Python 3",
   "language": "python",
   "name": "python3"
  },
  "language_info": {
   "codemirror_mode": {
    "name": "ipython",
    "version": 2
   },
   "file_extension": ".py",
   "mimetype": "text/x-python",
   "name": "python",
   "nbconvert_exporter": "python",
   "pygments_lexer": "ipython2",
   "version": "2.7.6"
  }
 },
 "nbformat": 4,
 "nbformat_minor": 5
}
