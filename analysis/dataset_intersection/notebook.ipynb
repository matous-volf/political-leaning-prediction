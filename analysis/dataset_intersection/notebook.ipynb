{
 "cells": [
  {
   "metadata": {},
   "cell_type": "code",
   "source": [
    "import multiprocessing as mp\n",
    "from functools import partial\n",
    "\n",
    "import pandas as pd\n",
    "from tqdm.notebook import tqdm\n",
    "\n",
    "from utils.dataset_utils import get_leaning_datasets, get_politicalness_datasets, systematic_sample\n",
    "\n",
    "tqdm.pandas()"
   ],
   "id": "e2554762d3dfd052",
   "outputs": [],
   "execution_count": null
  },
  {
   "metadata": {
    "jupyter": {
     "is_executing": true
    }
   },
   "cell_type": "code",
   "source": [
    "GET_DATASETS = lambda: get_leaning_datasets()\n",
    "# How much of CPU threads not to use in the parallelization (and so leave free).\n",
    "CPU_THREADS_RESERVED = 1\n",
    "BODY_SLICE_SIZE = 50\n",
    "BODY_ARTICLES_SAMPLE_MAX_SIZE = 10_000\n",
    "\n",
    "\n",
    "def matches(row1, df2) -> int:\n",
    "    count = 0\n",
    "\n",
    "    if row1[\"has_notnull_title\"]:\n",
    "        # noinspection PyUnresolvedReferences\n",
    "        count += (df2[df2[\"has_notnull_title\"]][\"title\"] == row1[\"title\"]).sum()\n",
    "        if row1[\"has_notnull_body\"]:\n",
    "            count += (df2[~df2[\"has_notnull_title\"]][\"body\"].str.contains(row1[\"body_slice\"], regex=False)).sum()\n",
    "        else:\n",
    "            count += (df2[~df2[\"has_notnull_title\"]][\"body\"].str.contains(row1[\"title\"], regex=False)).sum()\n",
    "    else:\n",
    "        count += (df2[df2[\"has_notnull_body\"]][\"body\"].str.contains(row1[\"body_slice\"])).sum()\n",
    "        count += (df2[~df2[\"has_notnull_body\"]]).apply(lambda row2: str(row2[\"title\"]) in row1[\"body\"], axis=1).sum()\n",
    "\n",
    "    return count\n",
    "\n",
    "\n",
    "def match_count(df1, df2) -> int:\n",
    "    return df1.apply(lambda row1: matches(row1, df2), axis=1).sum()\n",
    "\n",
    "\n",
    "def intersection_parallel(df1, df2, n_processes=None):\n",
    "    if n_processes is None:\n",
    "        n_processes = max(1, mp.cpu_count() - CPU_THREADS_RESERVED)\n",
    "\n",
    "    chunk_size = max(len(df1) // n_processes, 1)\n",
    "    chunks = [df1.iloc[i:i + chunk_size] for i in range(0, len(df1), chunk_size)]\n",
    "\n",
    "    worker_func = partial(match_count, df2=df2)\n",
    "\n",
    "    with mp.Pool(processes=n_processes) as pool:\n",
    "        results = list(tqdm(\n",
    "            pool.imap(worker_func, chunks),\n",
    "            total=len(chunks),\n",
    "            desc=\"processing chunks\"\n",
    "        ))\n",
    "\n",
    "    return sum(results)\n",
    "\n",
    "\n",
    "datasets_count = len(list(GET_DATASETS()))\n",
    "results = [[\"\" for _ in range(datasets_count)] for _ in range(datasets_count)]\n",
    "\n",
    "for i1, dataset1 in enumerate(GET_DATASETS()):\n",
    "    dataset1 = dataset1.prepare_for_intersection_comparison(BODY_SLICE_SIZE)\n",
    "    df1 = dataset1.dataframe\n",
    "    df1_sample = systematic_sample(df1, BODY_ARTICLES_SAMPLE_MAX_SIZE)\n",
    "\n",
    "    datasets = enumerate(GET_DATASETS())\n",
    "    # Skip the first `i1` datasets to avoid measuring the intersections twice.\n",
    "    for _ in range(i1):\n",
    "        next(datasets)\n",
    "    for i2, dataset2 in datasets:\n",
    "        print(f\"measuring {dataset1.name} & {dataset2.name}\")\n",
    "\n",
    "        if i1 == i2:\n",
    "            intersection_size = len(df1)\n",
    "        else:\n",
    "            dataset2 = dataset2.prepare_for_intersection_comparison(BODY_SLICE_SIZE)\n",
    "            if dataset1.has_title and dataset2.has_title:\n",
    "                intersection_size = intersection_parallel(df1, dataset2.dataframe)\n",
    "            else:\n",
    "                intersection_size = intersection_parallel(df1_sample, dataset2.dataframe) * len(df1) / len(df1_sample)\n",
    "\n",
    "        # To avoid division by zero.\n",
    "        df1_length = 1 if len(df1) == 0 else len(df1)\n",
    "        df2_length = 1 if len(dataset2.dataframe) == 0 else len(dataset2.dataframe)\n",
    "\n",
    "        intersection_size = round(intersection_size)\n",
    "        results[i1][i2] = f\"{intersection_size} ({intersection_size / df1_length * 100:.1f} %)\"\n",
    "        results[i2][i1] = f\"{intersection_size} ({intersection_size / df2_length * 100:.1f} %)\""
   ],
   "id": "585a353bf4b3e1a0",
   "outputs": [],
   "execution_count": null
  },
  {
   "metadata": {},
   "cell_type": "code",
   "source": [
    "dataset_names = list(map(lambda dataset: dataset.name, GET_DATASETS()))\n",
    "results_df = pd.DataFrame(results, index=dataset_names, columns=dataset_names)\n",
    "results_df"
   ],
   "id": "9e4e6e1ae1f9654b",
   "outputs": [],
   "execution_count": null
  }
 ],
 "metadata": {
  "kernelspec": {
   "display_name": "Python 3 (ipykernel)",
   "language": "python",
   "name": "python3"
  },
  "language_info": {
   "codemirror_mode": {
    "name": "ipython",
    "version": 3
   },
   "file_extension": ".py",
   "mimetype": "text/x-python",
   "name": "python",
   "nbconvert_exporter": "python",
   "pygments_lexer": "ipython3",
   "version": "3.12.8"
  }
 },
 "nbformat": 4,
 "nbformat_minor": 5
}
