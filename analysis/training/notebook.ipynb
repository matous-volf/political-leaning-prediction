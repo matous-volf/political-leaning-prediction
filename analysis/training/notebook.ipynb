{
 "cells": [
  {
   "metadata": {
    "ExecuteTime": {
     "end_time": "2025-03-01T16:23:20.496880Z",
     "start_time": "2025-03-01T16:23:11.806937Z"
    }
   },
   "cell_type": "code",
   "source": [
    "from itertools import chain\n",
    "from pathlib import Path\n",
    "\n",
    "import datasets\n",
    "from datasets import DatasetInfo, concatenate_datasets\n",
    "from transformers import IntervalStrategy\n",
    "\n",
    "from utils import dataset_utils\n",
    "from utils.dataset_utils import get_politicalness_datasets, \\\n",
    "    get_politicalness_datasets_from_leaning_datasets_for_leave_one_out_benchmark, \\\n",
    "    leaning_with_center_label_mapping\n",
    "from utils.model_utils import finetune_models"
   ],
   "id": "65a87d9dbe948a82",
   "outputs": [],
   "execution_count": 1
  },
  {
   "metadata": {
    "ExecuteTime": {
     "end_time": "2025-03-01T16:23:44.316527Z",
     "start_time": "2025-03-01T16:23:20.511776Z"
    }
   },
   "cell_type": "code",
   "source": [
    "TRAINING_POLITICAL_LEANING = False\n",
    "RESULT_SUBDIRECTORY_NAME = \"politicalness\"\n",
    "GET_DATASETS = lambda: chain(\n",
    "    get_politicalness_datasets(),\n",
    "    get_politicalness_datasets_from_leaning_datasets_for_leave_one_out_benchmark()\n",
    ")\n",
    "TEST_DATASET_SAMPLE_FRACTION = 0.15\n",
    "EVAL_DATASET_SAMPLE_SIZE = 100\n",
    "TRAIN_DATASET_SAMPLE_SIZE = 10_000\n",
    "\n",
    "CENTER_LEANING_CLASS_TRAIN_SIZE_MULTIPLIER = 4.5\n",
    "\n",
    "whole_datasets = list(GET_DATASETS())\n",
    "\n",
    "for dataset in whole_datasets:\n",
    "    test_dataset = dataset.take_even_class_sample_by_fraction(TEST_DATASET_SAMPLE_FRACTION)\n",
    "    # Remove the test sample from the source dataframe.\n",
    "    dataset.dataframe = dataset.dataframe.loc[~dataset.dataframe.index.isin(test_dataset.dataframe.index)]\n",
    "\n",
    "\n",
    "def get_eval_dataset(whole_dataset: dataset_utils.Dataset) -> datasets.Dataset:\n",
    "    eval_dataset = whole_dataset.take_even_class_sample_by_size(EVAL_DATASET_SAMPLE_SIZE)\n",
    "    # Remove the eval sample from the source dataframe.\n",
    "    whole_dataset.dataframe = whole_dataset.dataframe.loc[\n",
    "        ~whole_dataset.dataframe.index.isin(eval_dataset.dataframe.index)]\n",
    "    return eval_dataset.transform_for_inference(\n",
    "        leaning_with_center_label_mapping if TRAINING_POLITICAL_LEANING else None\n",
    "    ).to_huggingface()\n",
    "\n",
    "\n",
    "eval_dataset = concatenate_datasets(\n",
    "    [get_eval_dataset(whole_dataset) for whole_dataset in whole_datasets],\n",
    "    info=DatasetInfo(dataset_name=\"eval\")\n",
    ")\n",
    "\n",
    "\n",
    "def get_train_dataset(whole_dataset: dataset_utils.Dataset) -> datasets.Dataset:\n",
    "    if TRAINING_POLITICAL_LEANING:\n",
    "        train_dataset = whole_dataset.take_balanced_class_sample_by_size(\n",
    "            TRAIN_DATASET_SAMPLE_SIZE,\n",
    "            CENTER_LEANING_CLASS_TRAIN_SIZE_MULTIPLIER\n",
    "        )\n",
    "        train_dataset = train_dataset.transform_for_inference(\n",
    "            leaning_with_center_label_mapping\n",
    "        )\n",
    "    else:\n",
    "        train_dataset = whole_dataset.take_even_class_sample_by_size(TRAIN_DATASET_SAMPLE_SIZE)\n",
    "        train_dataset = train_dataset.transform_for_inference()\n",
    "\n",
    "    return train_dataset.to_huggingface()\n",
    "\n",
    "\n",
    "train_dataset = concatenate_datasets(\n",
    "    [get_train_dataset(whole_dataset) for whole_dataset in whole_datasets],\n",
    "    info=DatasetInfo(dataset_name=\"train\")\n",
    ")\n",
    "\n",
    "del whole_datasets\n",
    "\n",
    "train_dataset.to_pandas().groupby(\"label\").count()"
   ],
   "id": "cec1aed2eafd6a3d",
   "outputs": [
    {
     "data": {
      "text/plain": [
       "         text  __index_level_0__\n",
       "label                           \n",
       "0      151776             151776\n",
       "1       93660              93660"
      ],
      "text/html": [
       "<div>\n",
       "<style scoped>\n",
       "    .dataframe tbody tr th:only-of-type {\n",
       "        vertical-align: middle;\n",
       "    }\n",
       "\n",
       "    .dataframe tbody tr th {\n",
       "        vertical-align: top;\n",
       "    }\n",
       "\n",
       "    .dataframe thead th {\n",
       "        text-align: right;\n",
       "    }\n",
       "</style>\n",
       "<table border=\"1\" class=\"dataframe\">\n",
       "  <thead>\n",
       "    <tr style=\"text-align: right;\">\n",
       "      <th></th>\n",
       "      <th>text</th>\n",
       "      <th>__index_level_0__</th>\n",
       "    </tr>\n",
       "    <tr>\n",
       "      <th>label</th>\n",
       "      <th></th>\n",
       "      <th></th>\n",
       "    </tr>\n",
       "  </thead>\n",
       "  <tbody>\n",
       "    <tr>\n",
       "      <th>0</th>\n",
       "      <td>151776</td>\n",
       "      <td>151776</td>\n",
       "    </tr>\n",
       "    <tr>\n",
       "      <th>1</th>\n",
       "      <td>93660</td>\n",
       "      <td>93660</td>\n",
       "    </tr>\n",
       "  </tbody>\n",
       "</table>\n",
       "</div>"
      ]
     },
     "execution_count": 2,
     "metadata": {},
     "output_type": "execute_result"
    }
   ],
   "execution_count": 2
  },
  {
   "metadata": {},
   "cell_type": "code",
   "source": [
    "TRAINING_SEED = 37\n",
    "DATA_SEED = 37\n",
    "EVAL_STRATEGY = IntervalStrategy.EPOCH\n",
    "\n",
    "finetune_models(\n",
    "    Path(\"training\", RESULT_SUBDIRECTORY_NAME),\n",
    "    [train_dataset],\n",
    "    [eval_dataset],\n",
    "    EVAL_STRATEGY,\n",
    "    TRAINING_SEED,\n",
    "    DATA_SEED\n",
    ")"
   ],
   "id": "bb09a7eec1dd2c5c",
   "outputs": [],
   "execution_count": null
  }
 ],
 "metadata": {
  "kernelspec": {
   "display_name": "Python 3 (ipykernel)",
   "language": "python",
   "name": "python3"
  },
  "language_info": {
   "codemirror_mode": {
    "name": "ipython",
    "version": 3
   },
   "file_extension": ".py",
   "mimetype": "text/x-python",
   "name": "python",
   "nbconvert_exporter": "python",
   "pygments_lexer": "ipython3",
   "version": "3.12.8"
  }
 },
 "nbformat": 4,
 "nbformat_minor": 5
}
