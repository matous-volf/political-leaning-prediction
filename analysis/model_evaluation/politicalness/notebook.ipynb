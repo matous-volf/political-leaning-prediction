{
 "cells": [
  {
   "cell_type": "code",
   "execution_count": 1,
   "id": "1a86cf1b770d4e74",
   "metadata": {
    "ExecuteTime": {
     "end_time": "2025-02-06T07:53:03.220263Z",
     "start_time": "2025-02-06T07:53:03.215815Z"
    }
   },
   "outputs": [],
   "source": [
    "from itertools import chain\n",
    "from pathlib import Path\n",
    "\n",
    "from utils.dataset_utils import get_politicalness_datasets, \\\n",
    "    get_politicalness_datasets_from_leaning_datasets\n",
    "from utils.model_utils import evaluate_models, get_custom_politicalness_models"
   ]
  },
  {
   "cell_type": "code",
   "execution_count": 2,
   "id": "5e319e69e5719173",
   "metadata": {
    "ExecuteTime": {
     "end_time": "2025-02-06T07:53:07.814744Z",
     "start_time": "2025-02-06T07:53:03.226147Z"
    }
   },
   "outputs": [],
   "source": [
    "GET_DATASETS = lambda: chain(\n",
    "    get_politicalness_datasets(),\n",
    "    get_politicalness_datasets_from_leaning_datasets()\n",
    ")\n",
    "DATASET_SAMPLE_SIZE = 1_000\n",
    "\n",
    "datasets = list(\n",
    "    map(\n",
    "        lambda dataset: dataset\n",
    "        .take_even_class_distribution_sample(DATASET_SAMPLE_SIZE)\n",
    "        .transform_for_inference()\n",
    "        .to_huggingface(),\n",
    "        GET_DATASETS(),\n",
    "    )\n",
    ")"
   ]
  },
  {
   "cell_type": "code",
   "execution_count": 3,
   "id": "5cf67fea24092d06",
   "metadata": {
    "ExecuteTime": {
     "end_time": "2025-02-06T07:53:08.514641Z",
     "start_time": "2025-02-06T07:53:07.846772Z"
    }
   },
   "outputs": [
    {
     "name": "stdout",
     "output_type": "stream",
     "text": [
      "evaluating dataset_benchmark/leave_one_out/politicalness/bert-base-cased/amazon_reviews_2023 on:\n",
      "  article_bias_prediction\n"
     ]
    },
    {
     "data": {
      "application/vnd.jupyter.widget-view+json": {
       "model_id": "121fcd9de0224cebaea0e606c4396f7d",
       "version_major": 2,
       "version_minor": 0
      },
      "text/plain": [
       "  0%|          | 0/1000 [00:00<?, ?it/s]"
      ]
     },
     "metadata": {},
     "output_type": "display_data"
    },
    {
     "name": "stdout",
     "output_type": "stream",
     "text": [
      "  commoncrawl_news_articles\n"
     ]
    },
    {
     "data": {
      "application/vnd.jupyter.widget-view+json": {
       "model_id": "4e005ed3c8ec4c0ba69979625e00824a",
       "version_major": 2,
       "version_minor": 0
      },
      "text/plain": [
       "  0%|          | 0/1000 [00:00<?, ?it/s]"
      ]
     },
     "metadata": {},
     "output_type": "display_data"
    },
    {
     "name": "stdout",
     "output_type": "stream",
     "text": [
      "  dem_rep_party_platform_topics\n"
     ]
    },
    {
     "data": {
      "application/vnd.jupyter.widget-view+json": {
       "model_id": "6616337804e14c34b1b2ecd253035779",
       "version_major": 2,
       "version_minor": 0
      },
      "text/plain": [
       "  0%|          | 0/1000 [00:00<?, ?it/s]"
      ]
     },
     "metadata": {},
     "output_type": "display_data"
    },
    {
     "name": "stdout",
     "output_type": "stream",
     "text": [
      "  gpt4_political_bias\n"
     ]
    },
    {
     "data": {
      "application/vnd.jupyter.widget-view+json": {
       "model_id": "e7147b60d91f4207a9ddb919645fe875",
       "version_major": 2,
       "version_minor": 0
      },
      "text/plain": [
       "  0%|          | 0/612 [00:00<?, ?it/s]"
      ]
     },
     "metadata": {},
     "output_type": "display_data"
    },
    {
     "name": "stdout",
     "output_type": "stream",
     "text": [
      "  gpt4_political_ideologies\n"
     ]
    },
    {
     "data": {
      "application/vnd.jupyter.widget-view+json": {
       "model_id": "6a85c62fdc60451283da19d82badc923",
       "version_major": 2,
       "version_minor": 0
      },
      "text/plain": [
       "  0%|          | 0/1000 [00:00<?, ?it/s]"
      ]
     },
     "metadata": {},
     "output_type": "display_data"
    },
    {
     "name": "stdout",
     "output_type": "stream",
     "text": [
      "  media_political_stance\n"
     ]
    },
    {
     "data": {
      "application/vnd.jupyter.widget-view+json": {
       "model_id": "d6064f18372b4f2d9b380a3d65434833",
       "version_major": 2,
       "version_minor": 0
      },
      "text/plain": [
       "  0%|          | 0/1000 [00:00<?, ?it/s]"
      ]
     },
     "metadata": {},
     "output_type": "display_data"
    },
    {
     "name": "stdout",
     "output_type": "stream",
     "text": [
      "  parliament_speeches_2024\n"
     ]
    },
    {
     "data": {
      "application/vnd.jupyter.widget-view+json": {
       "model_id": "a7e3c845956d4ff89ba01854821b8922",
       "version_major": 2,
       "version_minor": 0
      },
      "text/plain": [
       "  0%|          | 0/1000 [00:00<?, ?it/s]"
      ]
     },
     "metadata": {},
     "output_type": "display_data"
    },
    {
     "name": "stdout",
     "output_type": "stream",
     "text": [
      "  political_podcasts\n"
     ]
    },
    {
     "data": {
      "application/vnd.jupyter.widget-view+json": {
       "model_id": "2065525958f3453f90e6746b7cd5276c",
       "version_major": 2,
       "version_minor": 0
      },
      "text/plain": [
       "  0%|          | 0/1000 [00:00<?, ?it/s]"
      ]
     },
     "metadata": {},
     "output_type": "display_data"
    },
    {
     "name": "stdout",
     "output_type": "stream",
     "text": [
      "  political_tweets\n"
     ]
    },
    {
     "data": {
      "application/vnd.jupyter.widget-view+json": {
       "model_id": "5f0bd33ffb5f4b769a16eb4bf07293a6",
       "version_major": 2,
       "version_minor": 0
      },
      "text/plain": [
       "  0%|          | 0/1000 [00:00<?, ?it/s]"
      ]
     },
     "metadata": {},
     "output_type": "display_data"
    },
    {
     "name": "stdout",
     "output_type": "stream",
     "text": [
      "  qbias\n"
     ]
    },
    {
     "data": {
      "application/vnd.jupyter.widget-view+json": {
       "model_id": "3159493f8d8a47beb1fbb32e13fe1c86",
       "version_major": 2,
       "version_minor": 0
      },
      "text/plain": [
       "  0%|          | 0/1000 [00:00<?, ?it/s]"
      ]
     },
     "metadata": {},
     "output_type": "display_data"
    },
    {
     "name": "stdout",
     "output_type": "stream",
     "text": [
      "  webis_bias_flipper_18\n"
     ]
    },
    {
     "data": {
      "application/vnd.jupyter.widget-view+json": {
       "model_id": "8069142f2a5546c79a74ae4bbb645787",
       "version_major": 2,
       "version_minor": 0
      },
      "text/plain": [
       "  0%|          | 0/1000 [00:00<?, ?it/s]"
      ]
     },
     "metadata": {},
     "output_type": "display_data"
    },
    {
     "name": "stdout",
     "output_type": "stream",
     "text": [
      "  webis_news_bias_20\n"
     ]
    },
    {
     "data": {
      "application/vnd.jupyter.widget-view+json": {
       "model_id": "2978b09157854736b8a453bcec9a4d2e",
       "version_major": 2,
       "version_minor": 0
      },
      "text/plain": [
       "  0%|          | 0/1000 [00:00<?, ?it/s]"
      ]
     },
     "metadata": {},
     "output_type": "display_data"
    },
    {
     "name": "stdout",
     "output_type": "stream",
     "text": [
      "evaluating dataset_benchmark/leave_one_out/politicalness/bert-base-cased/article_bias_prediction on:\n",
      "  article_bias_prediction\n"
     ]
    },
    {
     "data": {
      "application/vnd.jupyter.widget-view+json": {
       "model_id": "61a61896a10d4fd18e9d3b6f58e82520",
       "version_major": 2,
       "version_minor": 0
      },
      "text/plain": [
       "  0%|          | 0/1000 [00:00<?, ?it/s]"
      ]
     },
     "metadata": {},
     "output_type": "display_data"
    },
    {
     "name": "stdout",
     "output_type": "stream",
     "text": [
      "  commoncrawl_news_articles\n"
     ]
    },
    {
     "data": {
      "application/vnd.jupyter.widget-view+json": {
       "model_id": "17175711f0e54bb0ac418320e902c9a2",
       "version_major": 2,
       "version_minor": 0
      },
      "text/plain": [
       "  0%|          | 0/1000 [00:00<?, ?it/s]"
      ]
     },
     "metadata": {},
     "output_type": "display_data"
    },
    {
     "name": "stdout",
     "output_type": "stream",
     "text": [
      "  dem_rep_party_platform_topics\n"
     ]
    },
    {
     "data": {
      "application/vnd.jupyter.widget-view+json": {
       "model_id": "7627e488a32a47a580a9636969936d1d",
       "version_major": 2,
       "version_minor": 0
      },
      "text/plain": [
       "  0%|          | 0/1000 [00:00<?, ?it/s]"
      ]
     },
     "metadata": {},
     "output_type": "display_data"
    },
    {
     "name": "stdout",
     "output_type": "stream",
     "text": [
      "  gpt4_political_bias\n"
     ]
    },
    {
     "data": {
      "application/vnd.jupyter.widget-view+json": {
       "model_id": "08d438b1e1b1443992875dd108794f34",
       "version_major": 2,
       "version_minor": 0
      },
      "text/plain": [
       "  0%|          | 0/612 [00:00<?, ?it/s]"
      ]
     },
     "metadata": {},
     "output_type": "display_data"
    },
    {
     "name": "stdout",
     "output_type": "stream",
     "text": [
      "  gpt4_political_ideologies\n"
     ]
    },
    {
     "data": {
      "application/vnd.jupyter.widget-view+json": {
       "model_id": "3861bef0df3e48a2bdbd5e30228b6322",
       "version_major": 2,
       "version_minor": 0
      },
      "text/plain": [
       "  0%|          | 0/1000 [00:00<?, ?it/s]"
      ]
     },
     "metadata": {},
     "output_type": "display_data"
    },
    {
     "name": "stdout",
     "output_type": "stream",
     "text": [
      "  media_political_stance\n"
     ]
    },
    {
     "data": {
      "application/vnd.jupyter.widget-view+json": {
       "model_id": "e1dc53901e6344a4bd62710c54d8926a",
       "version_major": 2,
       "version_minor": 0
      },
      "text/plain": [
       "  0%|          | 0/1000 [00:00<?, ?it/s]"
      ]
     },
     "metadata": {},
     "output_type": "display_data"
    },
    {
     "name": "stdout",
     "output_type": "stream",
     "text": [
      "  parliament_speeches_2024\n"
     ]
    },
    {
     "data": {
      "application/vnd.jupyter.widget-view+json": {
       "model_id": "4aab7188e80c4431b0e5a38ac1fee01b",
       "version_major": 2,
       "version_minor": 0
      },
      "text/plain": [
       "  0%|          | 0/1000 [00:00<?, ?it/s]"
      ]
     },
     "metadata": {},
     "output_type": "display_data"
    },
    {
     "name": "stdout",
     "output_type": "stream",
     "text": [
      "  political_podcasts\n"
     ]
    },
    {
     "data": {
      "application/vnd.jupyter.widget-view+json": {
       "model_id": "f3b1470aa7894c2780796db48e8aa353",
       "version_major": 2,
       "version_minor": 0
      },
      "text/plain": [
       "  0%|          | 0/1000 [00:00<?, ?it/s]"
      ]
     },
     "metadata": {},
     "output_type": "display_data"
    },
    {
     "name": "stdout",
     "output_type": "stream",
     "text": [
      "  political_tweets\n"
     ]
    },
    {
     "data": {
      "application/vnd.jupyter.widget-view+json": {
       "model_id": "9aa707d465fa46318925fc1e9f4cc9a4",
       "version_major": 2,
       "version_minor": 0
      },
      "text/plain": [
       "  0%|          | 0/1000 [00:00<?, ?it/s]"
      ]
     },
     "metadata": {},
     "output_type": "display_data"
    },
    {
     "name": "stdout",
     "output_type": "stream",
     "text": [
      "  qbias\n"
     ]
    },
    {
     "data": {
      "application/vnd.jupyter.widget-view+json": {
       "model_id": "97ec781c70c14b6a8ebb9c551cb6c38f",
       "version_major": 2,
       "version_minor": 0
      },
      "text/plain": [
       "  0%|          | 0/1000 [00:00<?, ?it/s]"
      ]
     },
     "metadata": {},
     "output_type": "display_data"
    },
    {
     "name": "stdout",
     "output_type": "stream",
     "text": [
      "  webis_bias_flipper_18\n"
     ]
    },
    {
     "data": {
      "application/vnd.jupyter.widget-view+json": {
       "model_id": "8fe4e7d604084664b938ee53c3c6fdfe",
       "version_major": 2,
       "version_minor": 0
      },
      "text/plain": [
       "  0%|          | 0/1000 [00:00<?, ?it/s]"
      ]
     },
     "metadata": {},
     "output_type": "display_data"
    },
    {
     "name": "stdout",
     "output_type": "stream",
     "text": [
      "  webis_news_bias_20\n"
     ]
    },
    {
     "data": {
      "application/vnd.jupyter.widget-view+json": {
       "model_id": "ea945d8227f24777b9c10f70a11e8bff",
       "version_major": 2,
       "version_minor": 0
      },
      "text/plain": [
       "  0%|          | 0/1000 [00:00<?, ?it/s]"
      ]
     },
     "metadata": {},
     "output_type": "display_data"
    },
    {
     "name": "stdout",
     "output_type": "stream",
     "text": [
      "evaluating dataset_benchmark/leave_one_out/politicalness/bert-base-cased/commoncrawl_news_articles on:\n",
      "  article_bias_prediction\n"
     ]
    },
    {
     "data": {
      "application/vnd.jupyter.widget-view+json": {
       "model_id": "42e5459340604b3f820f15c1c0ac58f8",
       "version_major": 2,
       "version_minor": 0
      },
      "text/plain": [
       "  0%|          | 0/1000 [00:00<?, ?it/s]"
      ]
     },
     "metadata": {},
     "output_type": "display_data"
    },
    {
     "name": "stdout",
     "output_type": "stream",
     "text": [
      "  commoncrawl_news_articles\n"
     ]
    },
    {
     "data": {
      "application/vnd.jupyter.widget-view+json": {
       "model_id": "f280528f49b44d3d9aeac678d4cd24fb",
       "version_major": 2,
       "version_minor": 0
      },
      "text/plain": [
       "  0%|          | 0/1000 [00:00<?, ?it/s]"
      ]
     },
     "metadata": {},
     "output_type": "display_data"
    },
    {
     "name": "stdout",
     "output_type": "stream",
     "text": [
      "  dem_rep_party_platform_topics\n"
     ]
    },
    {
     "data": {
      "application/vnd.jupyter.widget-view+json": {
       "model_id": "c97160cceb4d464292ce1eb0cc9813a7",
       "version_major": 2,
       "version_minor": 0
      },
      "text/plain": [
       "  0%|          | 0/1000 [00:00<?, ?it/s]"
      ]
     },
     "metadata": {},
     "output_type": "display_data"
    },
    {
     "name": "stdout",
     "output_type": "stream",
     "text": [
      "  gpt4_political_bias\n"
     ]
    },
    {
     "data": {
      "application/vnd.jupyter.widget-view+json": {
       "model_id": "d04f992ea2ec431d9f574ee07f2a89b7",
       "version_major": 2,
       "version_minor": 0
      },
      "text/plain": [
       "  0%|          | 0/612 [00:00<?, ?it/s]"
      ]
     },
     "metadata": {},
     "output_type": "display_data"
    },
    {
     "name": "stdout",
     "output_type": "stream",
     "text": [
      "  gpt4_political_ideologies\n"
     ]
    },
    {
     "data": {
      "application/vnd.jupyter.widget-view+json": {
       "model_id": "14c9f64f298044589343c4df7c12dad7",
       "version_major": 2,
       "version_minor": 0
      },
      "text/plain": [
       "  0%|          | 0/1000 [00:00<?, ?it/s]"
      ]
     },
     "metadata": {},
     "output_type": "display_data"
    },
    {
     "name": "stdout",
     "output_type": "stream",
     "text": [
      "  media_political_stance\n"
     ]
    },
    {
     "data": {
      "application/vnd.jupyter.widget-view+json": {
       "model_id": "9498e54f09484c1b90b22d590fa63656",
       "version_major": 2,
       "version_minor": 0
      },
      "text/plain": [
       "  0%|          | 0/1000 [00:00<?, ?it/s]"
      ]
     },
     "metadata": {},
     "output_type": "display_data"
    },
    {
     "name": "stdout",
     "output_type": "stream",
     "text": [
      "  parliament_speeches_2024\n"
     ]
    },
    {
     "data": {
      "application/vnd.jupyter.widget-view+json": {
       "model_id": "a58e629ff51548c49a14e11ba98044bb",
       "version_major": 2,
       "version_minor": 0
      },
      "text/plain": [
       "  0%|          | 0/1000 [00:00<?, ?it/s]"
      ]
     },
     "metadata": {},
     "output_type": "display_data"
    },
    {
     "name": "stdout",
     "output_type": "stream",
     "text": [
      "  political_podcasts\n"
     ]
    },
    {
     "data": {
      "application/vnd.jupyter.widget-view+json": {
       "model_id": "6d5441f3882c478ba5425b972148b75d",
       "version_major": 2,
       "version_minor": 0
      },
      "text/plain": [
       "  0%|          | 0/1000 [00:00<?, ?it/s]"
      ]
     },
     "metadata": {},
     "output_type": "display_data"
    },
    {
     "name": "stdout",
     "output_type": "stream",
     "text": [
      "  political_tweets\n"
     ]
    },
    {
     "data": {
      "application/vnd.jupyter.widget-view+json": {
       "model_id": "952059912ac14e26bcbcf5fc0fd3763f",
       "version_major": 2,
       "version_minor": 0
      },
      "text/plain": [
       "  0%|          | 0/1000 [00:00<?, ?it/s]"
      ]
     },
     "metadata": {},
     "output_type": "display_data"
    },
    {
     "name": "stdout",
     "output_type": "stream",
     "text": [
      "  qbias\n"
     ]
    },
    {
     "data": {
      "application/vnd.jupyter.widget-view+json": {
       "model_id": "cc3ac8d012b641869d53c18fbabd674c",
       "version_major": 2,
       "version_minor": 0
      },
      "text/plain": [
       "  0%|          | 0/1000 [00:00<?, ?it/s]"
      ]
     },
     "metadata": {},
     "output_type": "display_data"
    },
    {
     "name": "stdout",
     "output_type": "stream",
     "text": [
      "  webis_bias_flipper_18\n"
     ]
    },
    {
     "data": {
      "application/vnd.jupyter.widget-view+json": {
       "model_id": "9cba98e67ab546578c00873cc5e21cb6",
       "version_major": 2,
       "version_minor": 0
      },
      "text/plain": [
       "  0%|          | 0/1000 [00:00<?, ?it/s]"
      ]
     },
     "metadata": {},
     "output_type": "display_data"
    },
    {
     "name": "stdout",
     "output_type": "stream",
     "text": [
      "  webis_news_bias_20\n"
     ]
    },
    {
     "data": {
      "application/vnd.jupyter.widget-view+json": {
       "model_id": "40cd95b2ee7e40c5ab4c079642096cdc",
       "version_major": 2,
       "version_minor": 0
      },
      "text/plain": [
       "  0%|          | 0/1000 [00:00<?, ?it/s]"
      ]
     },
     "metadata": {},
     "output_type": "display_data"
    },
    {
     "name": "stdout",
     "output_type": "stream",
     "text": [
      "evaluating dataset_benchmark/leave_one_out/politicalness/bert-base-cased/dem_rep_party_platform_topics on:\n",
      "  article_bias_prediction\n"
     ]
    },
    {
     "data": {
      "application/vnd.jupyter.widget-view+json": {
       "model_id": "85a520a3642a42b49a3c92e791c3ddfd",
       "version_major": 2,
       "version_minor": 0
      },
      "text/plain": [
       "  0%|          | 0/1000 [00:00<?, ?it/s]"
      ]
     },
     "metadata": {},
     "output_type": "display_data"
    },
    {
     "name": "stdout",
     "output_type": "stream",
     "text": [
      "  commoncrawl_news_articles\n"
     ]
    },
    {
     "data": {
      "application/vnd.jupyter.widget-view+json": {
       "model_id": "a7712c3c2300429da1dcbb7858d06013",
       "version_major": 2,
       "version_minor": 0
      },
      "text/plain": [
       "  0%|          | 0/1000 [00:00<?, ?it/s]"
      ]
     },
     "metadata": {},
     "output_type": "display_data"
    },
    {
     "name": "stdout",
     "output_type": "stream",
     "text": [
      "  dem_rep_party_platform_topics\n"
     ]
    },
    {
     "data": {
      "application/vnd.jupyter.widget-view+json": {
       "model_id": "c6b6e03d7802475a854e0899958229b5",
       "version_major": 2,
       "version_minor": 0
      },
      "text/plain": [
       "  0%|          | 0/1000 [00:00<?, ?it/s]"
      ]
     },
     "metadata": {},
     "output_type": "display_data"
    },
    {
     "name": "stdout",
     "output_type": "stream",
     "text": [
      "  gpt4_political_bias\n"
     ]
    },
    {
     "data": {
      "application/vnd.jupyter.widget-view+json": {
       "model_id": "fac9efc86af54e15b7c7f8e43de9d269",
       "version_major": 2,
       "version_minor": 0
      },
      "text/plain": [
       "  0%|          | 0/612 [00:00<?, ?it/s]"
      ]
     },
     "metadata": {},
     "output_type": "display_data"
    },
    {
     "name": "stdout",
     "output_type": "stream",
     "text": [
      "  gpt4_political_ideologies\n"
     ]
    },
    {
     "data": {
      "application/vnd.jupyter.widget-view+json": {
       "model_id": "1f79402344cd44a6aed0af7ff0d90041",
       "version_major": 2,
       "version_minor": 0
      },
      "text/plain": [
       "  0%|          | 0/1000 [00:00<?, ?it/s]"
      ]
     },
     "metadata": {},
     "output_type": "display_data"
    },
    {
     "name": "stdout",
     "output_type": "stream",
     "text": [
      "  media_political_stance\n"
     ]
    },
    {
     "data": {
      "application/vnd.jupyter.widget-view+json": {
       "model_id": "a56fa366365b4a48b5566c2cc89520ed",
       "version_major": 2,
       "version_minor": 0
      },
      "text/plain": [
       "  0%|          | 0/1000 [00:00<?, ?it/s]"
      ]
     },
     "metadata": {},
     "output_type": "display_data"
    },
    {
     "name": "stdout",
     "output_type": "stream",
     "text": [
      "  parliament_speeches_2024\n"
     ]
    },
    {
     "data": {
      "application/vnd.jupyter.widget-view+json": {
       "model_id": "b402c67d2e8e482288e3cab2e3039f84",
       "version_major": 2,
       "version_minor": 0
      },
      "text/plain": [
       "  0%|          | 0/1000 [00:00<?, ?it/s]"
      ]
     },
     "metadata": {},
     "output_type": "display_data"
    },
    {
     "name": "stdout",
     "output_type": "stream",
     "text": [
      "  political_podcasts\n"
     ]
    },
    {
     "data": {
      "application/vnd.jupyter.widget-view+json": {
       "model_id": "8916e556f4484b39a83fbf147e8ee356",
       "version_major": 2,
       "version_minor": 0
      },
      "text/plain": [
       "  0%|          | 0/1000 [00:00<?, ?it/s]"
      ]
     },
     "metadata": {},
     "output_type": "display_data"
    },
    {
     "name": "stdout",
     "output_type": "stream",
     "text": [
      "  political_tweets\n"
     ]
    },
    {
     "data": {
      "application/vnd.jupyter.widget-view+json": {
       "model_id": "93d1dc18522b4ebeba19cc7a70df2b2c",
       "version_major": 2,
       "version_minor": 0
      },
      "text/plain": [
       "  0%|          | 0/1000 [00:00<?, ?it/s]"
      ]
     },
     "metadata": {},
     "output_type": "display_data"
    },
    {
     "name": "stdout",
     "output_type": "stream",
     "text": [
      "  qbias\n"
     ]
    },
    {
     "data": {
      "application/vnd.jupyter.widget-view+json": {
       "model_id": "c0ec1b7627c5481f8ee1bf8b30812178",
       "version_major": 2,
       "version_minor": 0
      },
      "text/plain": [
       "  0%|          | 0/1000 [00:00<?, ?it/s]"
      ]
     },
     "metadata": {},
     "output_type": "display_data"
    },
    {
     "name": "stdout",
     "output_type": "stream",
     "text": [
      "  webis_bias_flipper_18\n"
     ]
    },
    {
     "data": {
      "application/vnd.jupyter.widget-view+json": {
       "model_id": "5282e9710bfa42529b26c282576ead55",
       "version_major": 2,
       "version_minor": 0
      },
      "text/plain": [
       "  0%|          | 0/1000 [00:00<?, ?it/s]"
      ]
     },
     "metadata": {},
     "output_type": "display_data"
    },
    {
     "name": "stdout",
     "output_type": "stream",
     "text": [
      "  webis_news_bias_20\n"
     ]
    },
    {
     "data": {
      "application/vnd.jupyter.widget-view+json": {
       "model_id": "c4d9151d0e624fe6b81c89a5ae036575",
       "version_major": 2,
       "version_minor": 0
      },
      "text/plain": [
       "  0%|          | 0/1000 [00:00<?, ?it/s]"
      ]
     },
     "metadata": {},
     "output_type": "display_data"
    },
    {
     "name": "stdout",
     "output_type": "stream",
     "text": [
      "evaluating dataset_benchmark/leave_one_out/politicalness/bert-base-cased/dialogsum on:\n",
      "  article_bias_prediction\n"
     ]
    },
    {
     "data": {
      "application/vnd.jupyter.widget-view+json": {
       "model_id": "7c93203a2f10479ebdee4e3ffe89e30c",
       "version_major": 2,
       "version_minor": 0
      },
      "text/plain": [
       "  0%|          | 0/1000 [00:00<?, ?it/s]"
      ]
     },
     "metadata": {},
     "output_type": "display_data"
    },
    {
     "name": "stdout",
     "output_type": "stream",
     "text": [
      "  commoncrawl_news_articles\n"
     ]
    },
    {
     "data": {
      "application/vnd.jupyter.widget-view+json": {
       "model_id": "2492d7d18c534de39a10222e9b70ba77",
       "version_major": 2,
       "version_minor": 0
      },
      "text/plain": [
       "  0%|          | 0/1000 [00:00<?, ?it/s]"
      ]
     },
     "metadata": {},
     "output_type": "display_data"
    },
    {
     "name": "stdout",
     "output_type": "stream",
     "text": [
      "  dem_rep_party_platform_topics\n"
     ]
    },
    {
     "data": {
      "application/vnd.jupyter.widget-view+json": {
       "model_id": "4cf8b460f86e4a1c8ee4be2accf263cc",
       "version_major": 2,
       "version_minor": 0
      },
      "text/plain": [
       "  0%|          | 0/1000 [00:00<?, ?it/s]"
      ]
     },
     "metadata": {},
     "output_type": "display_data"
    },
    {
     "name": "stdout",
     "output_type": "stream",
     "text": [
      "  gpt4_political_bias\n"
     ]
    },
    {
     "data": {
      "application/vnd.jupyter.widget-view+json": {
       "model_id": "7dd1f314f09c4625b3843dca69767e2a",
       "version_major": 2,
       "version_minor": 0
      },
      "text/plain": [
       "  0%|          | 0/612 [00:00<?, ?it/s]"
      ]
     },
     "metadata": {},
     "output_type": "display_data"
    },
    {
     "name": "stdout",
     "output_type": "stream",
     "text": [
      "  gpt4_political_ideologies\n"
     ]
    },
    {
     "data": {
      "application/vnd.jupyter.widget-view+json": {
       "model_id": "e7fed090a1a444148cc09c655d4cdf33",
       "version_major": 2,
       "version_minor": 0
      },
      "text/plain": [
       "  0%|          | 0/1000 [00:00<?, ?it/s]"
      ]
     },
     "metadata": {},
     "output_type": "display_data"
    },
    {
     "name": "stdout",
     "output_type": "stream",
     "text": [
      "  media_political_stance\n"
     ]
    },
    {
     "data": {
      "application/vnd.jupyter.widget-view+json": {
       "model_id": "387c7ac0b1444afc87909a0b94b7595c",
       "version_major": 2,
       "version_minor": 0
      },
      "text/plain": [
       "  0%|          | 0/1000 [00:00<?, ?it/s]"
      ]
     },
     "metadata": {},
     "output_type": "display_data"
    },
    {
     "name": "stdout",
     "output_type": "stream",
     "text": [
      "  parliament_speeches_2024\n"
     ]
    },
    {
     "data": {
      "application/vnd.jupyter.widget-view+json": {
       "model_id": "45e2d37ae564424bab2d37ae9514e982",
       "version_major": 2,
       "version_minor": 0
      },
      "text/plain": [
       "  0%|          | 0/1000 [00:00<?, ?it/s]"
      ]
     },
     "metadata": {},
     "output_type": "display_data"
    },
    {
     "name": "stdout",
     "output_type": "stream",
     "text": [
      "  political_podcasts\n"
     ]
    },
    {
     "data": {
      "application/vnd.jupyter.widget-view+json": {
       "model_id": "3e7dad36a4404cc58f34e0e530604d1a",
       "version_major": 2,
       "version_minor": 0
      },
      "text/plain": [
       "  0%|          | 0/1000 [00:00<?, ?it/s]"
      ]
     },
     "metadata": {},
     "output_type": "display_data"
    },
    {
     "name": "stdout",
     "output_type": "stream",
     "text": [
      "  political_tweets\n"
     ]
    },
    {
     "data": {
      "application/vnd.jupyter.widget-view+json": {
       "model_id": "0986f5b6e89241d9b969922e60dc6da6",
       "version_major": 2,
       "version_minor": 0
      },
      "text/plain": [
       "  0%|          | 0/1000 [00:00<?, ?it/s]"
      ]
     },
     "metadata": {},
     "output_type": "display_data"
    },
    {
     "name": "stdout",
     "output_type": "stream",
     "text": [
      "  qbias\n"
     ]
    },
    {
     "data": {
      "application/vnd.jupyter.widget-view+json": {
       "model_id": "abaa228e9a394a5d8b5e5f302fb3a2b3",
       "version_major": 2,
       "version_minor": 0
      },
      "text/plain": [
       "  0%|          | 0/1000 [00:00<?, ?it/s]"
      ]
     },
     "metadata": {},
     "output_type": "display_data"
    },
    {
     "name": "stdout",
     "output_type": "stream",
     "text": [
      "  webis_bias_flipper_18\n"
     ]
    },
    {
     "data": {
      "application/vnd.jupyter.widget-view+json": {
       "model_id": "c2c23b6607474d539b6d7699856bf007",
       "version_major": 2,
       "version_minor": 0
      },
      "text/plain": [
       "  0%|          | 0/1000 [00:00<?, ?it/s]"
      ]
     },
     "metadata": {},
     "output_type": "display_data"
    },
    {
     "name": "stdout",
     "output_type": "stream",
     "text": [
      "  webis_news_bias_20\n"
     ]
    },
    {
     "data": {
      "application/vnd.jupyter.widget-view+json": {
       "model_id": "59cc3b500b904f2b9339b56710ddf559",
       "version_major": 2,
       "version_minor": 0
      },
      "text/plain": [
       "  0%|          | 0/1000 [00:00<?, ?it/s]"
      ]
     },
     "metadata": {},
     "output_type": "display_data"
    },
    {
     "name": "stdout",
     "output_type": "stream",
     "text": [
      "evaluating dataset_benchmark/leave_one_out/politicalness/bert-base-cased/free_news on:\n",
      "  article_bias_prediction\n"
     ]
    },
    {
     "data": {
      "application/vnd.jupyter.widget-view+json": {
       "model_id": "6ad77ad1ea5b44059600839a83232fa4",
       "version_major": 2,
       "version_minor": 0
      },
      "text/plain": [
       "  0%|          | 0/1000 [00:00<?, ?it/s]"
      ]
     },
     "metadata": {},
     "output_type": "display_data"
    },
    {
     "name": "stdout",
     "output_type": "stream",
     "text": [
      "  commoncrawl_news_articles\n"
     ]
    },
    {
     "data": {
      "application/vnd.jupyter.widget-view+json": {
       "model_id": "7a7552a1f0f04b3cb01e4f4fb1b2426e",
       "version_major": 2,
       "version_minor": 0
      },
      "text/plain": [
       "  0%|          | 0/1000 [00:00<?, ?it/s]"
      ]
     },
     "metadata": {},
     "output_type": "display_data"
    },
    {
     "name": "stdout",
     "output_type": "stream",
     "text": [
      "  dem_rep_party_platform_topics\n"
     ]
    },
    {
     "data": {
      "application/vnd.jupyter.widget-view+json": {
       "model_id": "8233ccdcd44644d68dccbedc54f9b942",
       "version_major": 2,
       "version_minor": 0
      },
      "text/plain": [
       "  0%|          | 0/1000 [00:00<?, ?it/s]"
      ]
     },
     "metadata": {},
     "output_type": "display_data"
    },
    {
     "name": "stdout",
     "output_type": "stream",
     "text": [
      "  gpt4_political_bias\n"
     ]
    },
    {
     "data": {
      "application/vnd.jupyter.widget-view+json": {
       "model_id": "ea3e3e319a2f455fbc18f4c88e10c36b",
       "version_major": 2,
       "version_minor": 0
      },
      "text/plain": [
       "  0%|          | 0/612 [00:00<?, ?it/s]"
      ]
     },
     "metadata": {},
     "output_type": "display_data"
    },
    {
     "name": "stdout",
     "output_type": "stream",
     "text": [
      "  gpt4_political_ideologies\n"
     ]
    },
    {
     "data": {
      "application/vnd.jupyter.widget-view+json": {
       "model_id": "4bb62c5488f241e8a114e12790450293",
       "version_major": 2,
       "version_minor": 0
      },
      "text/plain": [
       "  0%|          | 0/1000 [00:00<?, ?it/s]"
      ]
     },
     "metadata": {},
     "output_type": "display_data"
    },
    {
     "name": "stdout",
     "output_type": "stream",
     "text": [
      "  media_political_stance\n"
     ]
    },
    {
     "data": {
      "application/vnd.jupyter.widget-view+json": {
       "model_id": "d246e96b602344f696b5ebde898e9d44",
       "version_major": 2,
       "version_minor": 0
      },
      "text/plain": [
       "  0%|          | 0/1000 [00:00<?, ?it/s]"
      ]
     },
     "metadata": {},
     "output_type": "display_data"
    },
    {
     "name": "stdout",
     "output_type": "stream",
     "text": [
      "  parliament_speeches_2024\n"
     ]
    },
    {
     "data": {
      "application/vnd.jupyter.widget-view+json": {
       "model_id": "5d675084ec054e45a63559b41be9ca8a",
       "version_major": 2,
       "version_minor": 0
      },
      "text/plain": [
       "  0%|          | 0/1000 [00:00<?, ?it/s]"
      ]
     },
     "metadata": {},
     "output_type": "display_data"
    },
    {
     "name": "stdout",
     "output_type": "stream",
     "text": [
      "  political_podcasts\n"
     ]
    },
    {
     "data": {
      "application/vnd.jupyter.widget-view+json": {
       "model_id": "acfef9600caf4065b5257000b76435c1",
       "version_major": 2,
       "version_minor": 0
      },
      "text/plain": [
       "  0%|          | 0/1000 [00:00<?, ?it/s]"
      ]
     },
     "metadata": {},
     "output_type": "display_data"
    },
    {
     "name": "stdout",
     "output_type": "stream",
     "text": [
      "  political_tweets\n"
     ]
    },
    {
     "data": {
      "application/vnd.jupyter.widget-view+json": {
       "model_id": "edd3fe3b386a41b2af1b5657d2430e82",
       "version_major": 2,
       "version_minor": 0
      },
      "text/plain": [
       "  0%|          | 0/1000 [00:00<?, ?it/s]"
      ]
     },
     "metadata": {},
     "output_type": "display_data"
    },
    {
     "name": "stdout",
     "output_type": "stream",
     "text": [
      "  qbias\n"
     ]
    },
    {
     "data": {
      "application/vnd.jupyter.widget-view+json": {
       "model_id": "80273bb6145941e58002d42ab1da0a67",
       "version_major": 2,
       "version_minor": 0
      },
      "text/plain": [
       "  0%|          | 0/1000 [00:00<?, ?it/s]"
      ]
     },
     "metadata": {},
     "output_type": "display_data"
    },
    {
     "name": "stdout",
     "output_type": "stream",
     "text": [
      "  webis_bias_flipper_18\n"
     ]
    },
    {
     "data": {
      "application/vnd.jupyter.widget-view+json": {
       "model_id": "62477233feda4bdd8f2ca05ae1b2fb50",
       "version_major": 2,
       "version_minor": 0
      },
      "text/plain": [
       "  0%|          | 0/1000 [00:00<?, ?it/s]"
      ]
     },
     "metadata": {},
     "output_type": "display_data"
    },
    {
     "name": "stdout",
     "output_type": "stream",
     "text": [
      "  webis_news_bias_20\n"
     ]
    },
    {
     "data": {
      "application/vnd.jupyter.widget-view+json": {
       "model_id": "fdd8683a7b8d4c3eb1f3f44dc1545b62",
       "version_major": 2,
       "version_minor": 0
      },
      "text/plain": [
       "  0%|          | 0/1000 [00:00<?, ?it/s]"
      ]
     },
     "metadata": {},
     "output_type": "display_data"
    },
    {
     "name": "stdout",
     "output_type": "stream",
     "text": [
      "evaluating dataset_benchmark/leave_one_out/politicalness/bert-base-cased/goodreads_book_genres on:\n",
      "  article_bias_prediction\n"
     ]
    },
    {
     "data": {
      "application/vnd.jupyter.widget-view+json": {
       "model_id": "923eb21ec1f242fc9dbddec47a62ab7f",
       "version_major": 2,
       "version_minor": 0
      },
      "text/plain": [
       "  0%|          | 0/1000 [00:00<?, ?it/s]"
      ]
     },
     "metadata": {},
     "output_type": "display_data"
    },
    {
     "name": "stdout",
     "output_type": "stream",
     "text": [
      "  commoncrawl_news_articles\n"
     ]
    },
    {
     "data": {
      "application/vnd.jupyter.widget-view+json": {
       "model_id": "2cff345cea6e42cbaa06d54172ed1197",
       "version_major": 2,
       "version_minor": 0
      },
      "text/plain": [
       "  0%|          | 0/1000 [00:00<?, ?it/s]"
      ]
     },
     "metadata": {},
     "output_type": "display_data"
    },
    {
     "name": "stdout",
     "output_type": "stream",
     "text": [
      "  dem_rep_party_platform_topics\n"
     ]
    },
    {
     "data": {
      "application/vnd.jupyter.widget-view+json": {
       "model_id": "875405c5b3674f3fb16a4a64d5526f93",
       "version_major": 2,
       "version_minor": 0
      },
      "text/plain": [
       "  0%|          | 0/1000 [00:00<?, ?it/s]"
      ]
     },
     "metadata": {},
     "output_type": "display_data"
    },
    {
     "name": "stdout",
     "output_type": "stream",
     "text": [
      "  gpt4_political_bias\n"
     ]
    },
    {
     "data": {
      "application/vnd.jupyter.widget-view+json": {
       "model_id": "4bd7a79c77a54c01915e4215b11aaeb9",
       "version_major": 2,
       "version_minor": 0
      },
      "text/plain": [
       "  0%|          | 0/612 [00:00<?, ?it/s]"
      ]
     },
     "metadata": {},
     "output_type": "display_data"
    },
    {
     "name": "stdout",
     "output_type": "stream",
     "text": [
      "  gpt4_political_ideologies\n"
     ]
    },
    {
     "data": {
      "application/vnd.jupyter.widget-view+json": {
       "model_id": "b8456652342c43ddbb9193ebef4a067b",
       "version_major": 2,
       "version_minor": 0
      },
      "text/plain": [
       "  0%|          | 0/1000 [00:00<?, ?it/s]"
      ]
     },
     "metadata": {},
     "output_type": "display_data"
    },
    {
     "name": "stdout",
     "output_type": "stream",
     "text": [
      "  media_political_stance\n"
     ]
    },
    {
     "data": {
      "application/vnd.jupyter.widget-view+json": {
       "model_id": "fa513ccc4ba143a3a79af4879d76561b",
       "version_major": 2,
       "version_minor": 0
      },
      "text/plain": [
       "  0%|          | 0/1000 [00:00<?, ?it/s]"
      ]
     },
     "metadata": {},
     "output_type": "display_data"
    },
    {
     "name": "stdout",
     "output_type": "stream",
     "text": [
      "  parliament_speeches_2024\n"
     ]
    },
    {
     "data": {
      "application/vnd.jupyter.widget-view+json": {
       "model_id": "9ca374aab65b4c63830177d899bf98a5",
       "version_major": 2,
       "version_minor": 0
      },
      "text/plain": [
       "  0%|          | 0/1000 [00:00<?, ?it/s]"
      ]
     },
     "metadata": {},
     "output_type": "display_data"
    },
    {
     "name": "stdout",
     "output_type": "stream",
     "text": [
      "  political_podcasts\n"
     ]
    },
    {
     "data": {
      "application/vnd.jupyter.widget-view+json": {
       "model_id": "bd9e2921e00346c79db7e311131fee0f",
       "version_major": 2,
       "version_minor": 0
      },
      "text/plain": [
       "  0%|          | 0/1000 [00:00<?, ?it/s]"
      ]
     },
     "metadata": {},
     "output_type": "display_data"
    },
    {
     "name": "stdout",
     "output_type": "stream",
     "text": [
      "  political_tweets\n"
     ]
    },
    {
     "data": {
      "application/vnd.jupyter.widget-view+json": {
       "model_id": "3888ef41a2cc4c4d936cc00011027209",
       "version_major": 2,
       "version_minor": 0
      },
      "text/plain": [
       "  0%|          | 0/1000 [00:00<?, ?it/s]"
      ]
     },
     "metadata": {},
     "output_type": "display_data"
    },
    {
     "name": "stdout",
     "output_type": "stream",
     "text": [
      "  qbias\n"
     ]
    },
    {
     "data": {
      "application/vnd.jupyter.widget-view+json": {
       "model_id": "cb09c117b800430fb6d355d37b1394ba",
       "version_major": 2,
       "version_minor": 0
      },
      "text/plain": [
       "  0%|          | 0/1000 [00:00<?, ?it/s]"
      ]
     },
     "metadata": {},
     "output_type": "display_data"
    },
    {
     "name": "stdout",
     "output_type": "stream",
     "text": [
      "  webis_bias_flipper_18\n"
     ]
    },
    {
     "data": {
      "application/vnd.jupyter.widget-view+json": {
       "model_id": "29eaaed613cc4af6be3bc3b0a918623c",
       "version_major": 2,
       "version_minor": 0
      },
      "text/plain": [
       "  0%|          | 0/1000 [00:00<?, ?it/s]"
      ]
     },
     "metadata": {},
     "output_type": "display_data"
    },
    {
     "name": "stdout",
     "output_type": "stream",
     "text": [
      "  webis_news_bias_20\n"
     ]
    },
    {
     "data": {
      "application/vnd.jupyter.widget-view+json": {
       "model_id": "93a18beb93234e00af1eeb2b8d080a24",
       "version_major": 2,
       "version_minor": 0
      },
      "text/plain": [
       "  0%|          | 0/1000 [00:00<?, ?it/s]"
      ]
     },
     "metadata": {},
     "output_type": "display_data"
    },
    {
     "name": "stdout",
     "output_type": "stream",
     "text": [
      "evaluating dataset_benchmark/leave_one_out/politicalness/bert-base-cased/gpt4_political_bias on:\n",
      "  article_bias_prediction\n"
     ]
    },
    {
     "data": {
      "application/vnd.jupyter.widget-view+json": {
       "model_id": "2068144b758a4ff8a32911c5b49fc987",
       "version_major": 2,
       "version_minor": 0
      },
      "text/plain": [
       "  0%|          | 0/1000 [00:00<?, ?it/s]"
      ]
     },
     "metadata": {},
     "output_type": "display_data"
    },
    {
     "name": "stdout",
     "output_type": "stream",
     "text": [
      "  commoncrawl_news_articles\n"
     ]
    },
    {
     "data": {
      "application/vnd.jupyter.widget-view+json": {
       "model_id": "2aeec54594a649e19f80f2c2e9c1c0d9",
       "version_major": 2,
       "version_minor": 0
      },
      "text/plain": [
       "  0%|          | 0/1000 [00:00<?, ?it/s]"
      ]
     },
     "metadata": {},
     "output_type": "display_data"
    },
    {
     "name": "stdout",
     "output_type": "stream",
     "text": [
      "  dem_rep_party_platform_topics\n"
     ]
    },
    {
     "data": {
      "application/vnd.jupyter.widget-view+json": {
       "model_id": "952c2d05c79843a293cdc37a0e630828",
       "version_major": 2,
       "version_minor": 0
      },
      "text/plain": [
       "  0%|          | 0/1000 [00:00<?, ?it/s]"
      ]
     },
     "metadata": {},
     "output_type": "display_data"
    },
    {
     "name": "stdout",
     "output_type": "stream",
     "text": [
      "  gpt4_political_bias\n"
     ]
    },
    {
     "data": {
      "application/vnd.jupyter.widget-view+json": {
       "model_id": "b3b2ddf4914042c392f46515fa357f47",
       "version_major": 2,
       "version_minor": 0
      },
      "text/plain": [
       "  0%|          | 0/612 [00:00<?, ?it/s]"
      ]
     },
     "metadata": {},
     "output_type": "display_data"
    },
    {
     "name": "stdout",
     "output_type": "stream",
     "text": [
      "  gpt4_political_ideologies\n"
     ]
    },
    {
     "data": {
      "application/vnd.jupyter.widget-view+json": {
       "model_id": "b4faa560513b460db0efc11107bc0e07",
       "version_major": 2,
       "version_minor": 0
      },
      "text/plain": [
       "  0%|          | 0/1000 [00:00<?, ?it/s]"
      ]
     },
     "metadata": {},
     "output_type": "display_data"
    },
    {
     "name": "stdout",
     "output_type": "stream",
     "text": [
      "  media_political_stance\n"
     ]
    },
    {
     "data": {
      "application/vnd.jupyter.widget-view+json": {
       "model_id": "7d01192592b64f72af1bf4f4bb2a956f",
       "version_major": 2,
       "version_minor": 0
      },
      "text/plain": [
       "  0%|          | 0/1000 [00:00<?, ?it/s]"
      ]
     },
     "metadata": {},
     "output_type": "display_data"
    },
    {
     "name": "stdout",
     "output_type": "stream",
     "text": [
      "  parliament_speeches_2024\n"
     ]
    },
    {
     "data": {
      "application/vnd.jupyter.widget-view+json": {
       "model_id": "59a274ef9a934dcebaa77cc7a9c31eee",
       "version_major": 2,
       "version_minor": 0
      },
      "text/plain": [
       "  0%|          | 0/1000 [00:00<?, ?it/s]"
      ]
     },
     "metadata": {},
     "output_type": "display_data"
    },
    {
     "name": "stdout",
     "output_type": "stream",
     "text": [
      "  political_podcasts\n"
     ]
    },
    {
     "data": {
      "application/vnd.jupyter.widget-view+json": {
       "model_id": "37965e393cdc46f5a981312ee82e5dc0",
       "version_major": 2,
       "version_minor": 0
      },
      "text/plain": [
       "  0%|          | 0/1000 [00:00<?, ?it/s]"
      ]
     },
     "metadata": {},
     "output_type": "display_data"
    },
    {
     "name": "stdout",
     "output_type": "stream",
     "text": [
      "  political_tweets\n"
     ]
    },
    {
     "data": {
      "application/vnd.jupyter.widget-view+json": {
       "model_id": "a939e11639b1474fa1128d9ee464dc8c",
       "version_major": 2,
       "version_minor": 0
      },
      "text/plain": [
       "  0%|          | 0/1000 [00:00<?, ?it/s]"
      ]
     },
     "metadata": {},
     "output_type": "display_data"
    },
    {
     "name": "stdout",
     "output_type": "stream",
     "text": [
      "  qbias\n"
     ]
    },
    {
     "data": {
      "application/vnd.jupyter.widget-view+json": {
       "model_id": "4773a720f2034ec5be9702958e379cd6",
       "version_major": 2,
       "version_minor": 0
      },
      "text/plain": [
       "  0%|          | 0/1000 [00:00<?, ?it/s]"
      ]
     },
     "metadata": {},
     "output_type": "display_data"
    },
    {
     "name": "stdout",
     "output_type": "stream",
     "text": [
      "  webis_bias_flipper_18\n"
     ]
    },
    {
     "data": {
      "application/vnd.jupyter.widget-view+json": {
       "model_id": "15d2474e18d94baaaa1ab77b5bf4a9b8",
       "version_major": 2,
       "version_minor": 0
      },
      "text/plain": [
       "  0%|          | 0/1000 [00:00<?, ?it/s]"
      ]
     },
     "metadata": {},
     "output_type": "display_data"
    },
    {
     "name": "stdout",
     "output_type": "stream",
     "text": [
      "  webis_news_bias_20\n"
     ]
    },
    {
     "data": {
      "application/vnd.jupyter.widget-view+json": {
       "model_id": "fa143880a2dd4a2f85f2d32c2083154f",
       "version_major": 2,
       "version_minor": 0
      },
      "text/plain": [
       "  0%|          | 0/1000 [00:00<?, ?it/s]"
      ]
     },
     "metadata": {},
     "output_type": "display_data"
    },
    {
     "name": "stdout",
     "output_type": "stream",
     "text": [
      "evaluating dataset_benchmark/leave_one_out/politicalness/bert-base-cased/gpt4_political_ideologies on:\n",
      "  article_bias_prediction\n"
     ]
    },
    {
     "data": {
      "application/vnd.jupyter.widget-view+json": {
       "model_id": "fd41c5f137584c53a46cf1aa5c302efa",
       "version_major": 2,
       "version_minor": 0
      },
      "text/plain": [
       "  0%|          | 0/1000 [00:00<?, ?it/s]"
      ]
     },
     "metadata": {},
     "output_type": "display_data"
    },
    {
     "name": "stdout",
     "output_type": "stream",
     "text": [
      "  commoncrawl_news_articles\n"
     ]
    },
    {
     "data": {
      "application/vnd.jupyter.widget-view+json": {
       "model_id": "8a1d5210579e4a8fa8fef6fd9aaedbad",
       "version_major": 2,
       "version_minor": 0
      },
      "text/plain": [
       "  0%|          | 0/1000 [00:00<?, ?it/s]"
      ]
     },
     "metadata": {},
     "output_type": "display_data"
    },
    {
     "name": "stdout",
     "output_type": "stream",
     "text": [
      "  dem_rep_party_platform_topics\n"
     ]
    },
    {
     "data": {
      "application/vnd.jupyter.widget-view+json": {
       "model_id": "b8d8a6b9009049dc82d64e50d9922c35",
       "version_major": 2,
       "version_minor": 0
      },
      "text/plain": [
       "  0%|          | 0/1000 [00:00<?, ?it/s]"
      ]
     },
     "metadata": {},
     "output_type": "display_data"
    },
    {
     "name": "stdout",
     "output_type": "stream",
     "text": [
      "  gpt4_political_bias\n"
     ]
    },
    {
     "data": {
      "application/vnd.jupyter.widget-view+json": {
       "model_id": "7bb1d13e34424297abfd20447107de92",
       "version_major": 2,
       "version_minor": 0
      },
      "text/plain": [
       "  0%|          | 0/612 [00:00<?, ?it/s]"
      ]
     },
     "metadata": {},
     "output_type": "display_data"
    },
    {
     "name": "stdout",
     "output_type": "stream",
     "text": [
      "  gpt4_political_ideologies\n"
     ]
    },
    {
     "data": {
      "application/vnd.jupyter.widget-view+json": {
       "model_id": "9cba8c960b5e4bcc85a5b24e56454e0b",
       "version_major": 2,
       "version_minor": 0
      },
      "text/plain": [
       "  0%|          | 0/1000 [00:00<?, ?it/s]"
      ]
     },
     "metadata": {},
     "output_type": "display_data"
    },
    {
     "name": "stdout",
     "output_type": "stream",
     "text": [
      "  media_political_stance\n"
     ]
    },
    {
     "data": {
      "application/vnd.jupyter.widget-view+json": {
       "model_id": "354b2b16c47c4e17895d7e567ab34a5a",
       "version_major": 2,
       "version_minor": 0
      },
      "text/plain": [
       "  0%|          | 0/1000 [00:00<?, ?it/s]"
      ]
     },
     "metadata": {},
     "output_type": "display_data"
    },
    {
     "name": "stdout",
     "output_type": "stream",
     "text": [
      "  parliament_speeches_2024\n"
     ]
    },
    {
     "data": {
      "application/vnd.jupyter.widget-view+json": {
       "model_id": "49a7a4f53846485baab9773f39ffb1b0",
       "version_major": 2,
       "version_minor": 0
      },
      "text/plain": [
       "  0%|          | 0/1000 [00:00<?, ?it/s]"
      ]
     },
     "metadata": {},
     "output_type": "display_data"
    },
    {
     "name": "stdout",
     "output_type": "stream",
     "text": [
      "  political_podcasts\n"
     ]
    },
    {
     "data": {
      "application/vnd.jupyter.widget-view+json": {
       "model_id": "710a064d149d4ef6908eb3847b7021f2",
       "version_major": 2,
       "version_minor": 0
      },
      "text/plain": [
       "  0%|          | 0/1000 [00:00<?, ?it/s]"
      ]
     },
     "metadata": {},
     "output_type": "display_data"
    },
    {
     "name": "stdout",
     "output_type": "stream",
     "text": [
      "  political_tweets\n"
     ]
    },
    {
     "data": {
      "application/vnd.jupyter.widget-view+json": {
       "model_id": "62049fe259d74e418a3ab95e9936bb35",
       "version_major": 2,
       "version_minor": 0
      },
      "text/plain": [
       "  0%|          | 0/1000 [00:00<?, ?it/s]"
      ]
     },
     "metadata": {},
     "output_type": "display_data"
    },
    {
     "name": "stdout",
     "output_type": "stream",
     "text": [
      "  qbias\n"
     ]
    },
    {
     "data": {
      "application/vnd.jupyter.widget-view+json": {
       "model_id": "670ef7e6e0614a848540591afe7213d7",
       "version_major": 2,
       "version_minor": 0
      },
      "text/plain": [
       "  0%|          | 0/1000 [00:00<?, ?it/s]"
      ]
     },
     "metadata": {},
     "output_type": "display_data"
    },
    {
     "name": "stdout",
     "output_type": "stream",
     "text": [
      "  webis_bias_flipper_18\n"
     ]
    },
    {
     "data": {
      "application/vnd.jupyter.widget-view+json": {
       "model_id": "c459f79ec0084cd0b005c51d6f3254b4",
       "version_major": 2,
       "version_minor": 0
      },
      "text/plain": [
       "  0%|          | 0/1000 [00:00<?, ?it/s]"
      ]
     },
     "metadata": {},
     "output_type": "display_data"
    },
    {
     "name": "stdout",
     "output_type": "stream",
     "text": [
      "  webis_news_bias_20\n"
     ]
    },
    {
     "data": {
      "application/vnd.jupyter.widget-view+json": {
       "model_id": "9c3f0c58cd8c4af6b459cec61bc37cd5",
       "version_major": 2,
       "version_minor": 0
      },
      "text/plain": [
       "  0%|          | 0/1000 [00:00<?, ?it/s]"
      ]
     },
     "metadata": {},
     "output_type": "display_data"
    },
    {
     "name": "stdout",
     "output_type": "stream",
     "text": [
      "evaluating dataset_benchmark/leave_one_out/politicalness/bert-base-cased/imdb on:\n",
      "  article_bias_prediction\n"
     ]
    },
    {
     "data": {
      "application/vnd.jupyter.widget-view+json": {
       "model_id": "415dd1a3f74e4525a399e6ae7d492115",
       "version_major": 2,
       "version_minor": 0
      },
      "text/plain": [
       "  0%|          | 0/1000 [00:00<?, ?it/s]"
      ]
     },
     "metadata": {},
     "output_type": "display_data"
    },
    {
     "name": "stdout",
     "output_type": "stream",
     "text": [
      "  commoncrawl_news_articles\n"
     ]
    },
    {
     "data": {
      "application/vnd.jupyter.widget-view+json": {
       "model_id": "d2c93aacb2844ee5b7cb837b9f6c06e0",
       "version_major": 2,
       "version_minor": 0
      },
      "text/plain": [
       "  0%|          | 0/1000 [00:00<?, ?it/s]"
      ]
     },
     "metadata": {},
     "output_type": "display_data"
    },
    {
     "name": "stdout",
     "output_type": "stream",
     "text": [
      "  dem_rep_party_platform_topics\n"
     ]
    },
    {
     "data": {
      "application/vnd.jupyter.widget-view+json": {
       "model_id": "abbd29f0fec74a968d2f5e4eadcbf17a",
       "version_major": 2,
       "version_minor": 0
      },
      "text/plain": [
       "  0%|          | 0/1000 [00:00<?, ?it/s]"
      ]
     },
     "metadata": {},
     "output_type": "display_data"
    },
    {
     "name": "stdout",
     "output_type": "stream",
     "text": [
      "  gpt4_political_bias\n"
     ]
    },
    {
     "data": {
      "application/vnd.jupyter.widget-view+json": {
       "model_id": "a221bb3a3f3b458f8250cda1ff9fadfb",
       "version_major": 2,
       "version_minor": 0
      },
      "text/plain": [
       "  0%|          | 0/612 [00:00<?, ?it/s]"
      ]
     },
     "metadata": {},
     "output_type": "display_data"
    },
    {
     "name": "stdout",
     "output_type": "stream",
     "text": [
      "  gpt4_political_ideologies\n"
     ]
    },
    {
     "data": {
      "application/vnd.jupyter.widget-view+json": {
       "model_id": "550ad054b8284fefb62eb095e34a9e08",
       "version_major": 2,
       "version_minor": 0
      },
      "text/plain": [
       "  0%|          | 0/1000 [00:00<?, ?it/s]"
      ]
     },
     "metadata": {},
     "output_type": "display_data"
    },
    {
     "name": "stdout",
     "output_type": "stream",
     "text": [
      "  media_political_stance\n"
     ]
    },
    {
     "data": {
      "application/vnd.jupyter.widget-view+json": {
       "model_id": "e03786a227264b1c8e5b5c953133dbb1",
       "version_major": 2,
       "version_minor": 0
      },
      "text/plain": [
       "  0%|          | 0/1000 [00:00<?, ?it/s]"
      ]
     },
     "metadata": {},
     "output_type": "display_data"
    },
    {
     "name": "stdout",
     "output_type": "stream",
     "text": [
      "  parliament_speeches_2024\n"
     ]
    },
    {
     "data": {
      "application/vnd.jupyter.widget-view+json": {
       "model_id": "feff48e88ee14fa48f28539644d67115",
       "version_major": 2,
       "version_minor": 0
      },
      "text/plain": [
       "  0%|          | 0/1000 [00:00<?, ?it/s]"
      ]
     },
     "metadata": {},
     "output_type": "display_data"
    },
    {
     "name": "stdout",
     "output_type": "stream",
     "text": [
      "  political_podcasts\n"
     ]
    },
    {
     "data": {
      "application/vnd.jupyter.widget-view+json": {
       "model_id": "c92e4328a21e4c5385fe57751ef57d50",
       "version_major": 2,
       "version_minor": 0
      },
      "text/plain": [
       "  0%|          | 0/1000 [00:00<?, ?it/s]"
      ]
     },
     "metadata": {},
     "output_type": "display_data"
    },
    {
     "name": "stdout",
     "output_type": "stream",
     "text": [
      "  political_tweets\n"
     ]
    },
    {
     "data": {
      "application/vnd.jupyter.widget-view+json": {
       "model_id": "603f1628c5ca4bf7bcb99665181546c0",
       "version_major": 2,
       "version_minor": 0
      },
      "text/plain": [
       "  0%|          | 0/1000 [00:00<?, ?it/s]"
      ]
     },
     "metadata": {},
     "output_type": "display_data"
    },
    {
     "name": "stdout",
     "output_type": "stream",
     "text": [
      "  qbias\n"
     ]
    },
    {
     "data": {
      "application/vnd.jupyter.widget-view+json": {
       "model_id": "52ee769166c441ca90d587a4c9e6f4ca",
       "version_major": 2,
       "version_minor": 0
      },
      "text/plain": [
       "  0%|          | 0/1000 [00:00<?, ?it/s]"
      ]
     },
     "metadata": {},
     "output_type": "display_data"
    },
    {
     "name": "stdout",
     "output_type": "stream",
     "text": [
      "  webis_bias_flipper_18\n"
     ]
    },
    {
     "data": {
      "application/vnd.jupyter.widget-view+json": {
       "model_id": "d001637c8ba44cdba7b1616e2b7c2ddd",
       "version_major": 2,
       "version_minor": 0
      },
      "text/plain": [
       "  0%|          | 0/1000 [00:00<?, ?it/s]"
      ]
     },
     "metadata": {},
     "output_type": "display_data"
    },
    {
     "name": "stdout",
     "output_type": "stream",
     "text": [
      "  webis_news_bias_20\n"
     ]
    },
    {
     "data": {
      "application/vnd.jupyter.widget-view+json": {
       "model_id": "db056c7861a847c98805184019cdeee4",
       "version_major": 2,
       "version_minor": 0
      },
      "text/plain": [
       "  0%|          | 0/1000 [00:00<?, ?it/s]"
      ]
     },
     "metadata": {},
     "output_type": "display_data"
    },
    {
     "name": "stdout",
     "output_type": "stream",
     "text": [
      "evaluating dataset_benchmark/leave_one_out/politicalness/bert-base-cased/imdb_movie_genres on:\n",
      "  article_bias_prediction\n"
     ]
    },
    {
     "data": {
      "application/vnd.jupyter.widget-view+json": {
       "model_id": "98d5220db3e342e69b5333729839c1be",
       "version_major": 2,
       "version_minor": 0
      },
      "text/plain": [
       "  0%|          | 0/1000 [00:00<?, ?it/s]"
      ]
     },
     "metadata": {},
     "output_type": "display_data"
    },
    {
     "name": "stdout",
     "output_type": "stream",
     "text": [
      "  commoncrawl_news_articles\n"
     ]
    },
    {
     "data": {
      "application/vnd.jupyter.widget-view+json": {
       "model_id": "798dd3dd9aec4743bb9cf420d4643154",
       "version_major": 2,
       "version_minor": 0
      },
      "text/plain": [
       "  0%|          | 0/1000 [00:00<?, ?it/s]"
      ]
     },
     "metadata": {},
     "output_type": "display_data"
    },
    {
     "name": "stdout",
     "output_type": "stream",
     "text": [
      "  dem_rep_party_platform_topics\n"
     ]
    },
    {
     "data": {
      "application/vnd.jupyter.widget-view+json": {
       "model_id": "a98dc3359635404f8e7308450b1f60ee",
       "version_major": 2,
       "version_minor": 0
      },
      "text/plain": [
       "  0%|          | 0/1000 [00:00<?, ?it/s]"
      ]
     },
     "metadata": {},
     "output_type": "display_data"
    },
    {
     "name": "stdout",
     "output_type": "stream",
     "text": [
      "  gpt4_political_bias\n"
     ]
    },
    {
     "data": {
      "application/vnd.jupyter.widget-view+json": {
       "model_id": "7e9f5020aafe48dfa24f38fb9d351d3b",
       "version_major": 2,
       "version_minor": 0
      },
      "text/plain": [
       "  0%|          | 0/612 [00:00<?, ?it/s]"
      ]
     },
     "metadata": {},
     "output_type": "display_data"
    },
    {
     "name": "stdout",
     "output_type": "stream",
     "text": [
      "  gpt4_political_ideologies\n"
     ]
    },
    {
     "data": {
      "application/vnd.jupyter.widget-view+json": {
       "model_id": "389814b142824620a0932e491cae18cc",
       "version_major": 2,
       "version_minor": 0
      },
      "text/plain": [
       "  0%|          | 0/1000 [00:00<?, ?it/s]"
      ]
     },
     "metadata": {},
     "output_type": "display_data"
    },
    {
     "name": "stdout",
     "output_type": "stream",
     "text": [
      "  media_political_stance\n"
     ]
    },
    {
     "data": {
      "application/vnd.jupyter.widget-view+json": {
       "model_id": "121423b5ba64492ab48c00a54b30eb8e",
       "version_major": 2,
       "version_minor": 0
      },
      "text/plain": [
       "  0%|          | 0/1000 [00:00<?, ?it/s]"
      ]
     },
     "metadata": {},
     "output_type": "display_data"
    },
    {
     "name": "stdout",
     "output_type": "stream",
     "text": [
      "  parliament_speeches_2024\n"
     ]
    },
    {
     "data": {
      "application/vnd.jupyter.widget-view+json": {
       "model_id": "cd61de564e114df8b463fe3b69943315",
       "version_major": 2,
       "version_minor": 0
      },
      "text/plain": [
       "  0%|          | 0/1000 [00:00<?, ?it/s]"
      ]
     },
     "metadata": {},
     "output_type": "display_data"
    },
    {
     "name": "stdout",
     "output_type": "stream",
     "text": [
      "  political_podcasts\n"
     ]
    },
    {
     "data": {
      "application/vnd.jupyter.widget-view+json": {
       "model_id": "beaca74e992d4de4960e79502f1f5611",
       "version_major": 2,
       "version_minor": 0
      },
      "text/plain": [
       "  0%|          | 0/1000 [00:00<?, ?it/s]"
      ]
     },
     "metadata": {},
     "output_type": "display_data"
    },
    {
     "name": "stdout",
     "output_type": "stream",
     "text": [
      "  political_tweets\n"
     ]
    },
    {
     "data": {
      "application/vnd.jupyter.widget-view+json": {
       "model_id": "2b5d68b1070a459fb6f89939637fc8ac",
       "version_major": 2,
       "version_minor": 0
      },
      "text/plain": [
       "  0%|          | 0/1000 [00:00<?, ?it/s]"
      ]
     },
     "metadata": {},
     "output_type": "display_data"
    },
    {
     "name": "stdout",
     "output_type": "stream",
     "text": [
      "  qbias\n"
     ]
    },
    {
     "data": {
      "application/vnd.jupyter.widget-view+json": {
       "model_id": "e70f9a756b56447d8a4a974a30b767d0",
       "version_major": 2,
       "version_minor": 0
      },
      "text/plain": [
       "  0%|          | 0/1000 [00:00<?, ?it/s]"
      ]
     },
     "metadata": {},
     "output_type": "display_data"
    },
    {
     "name": "stdout",
     "output_type": "stream",
     "text": [
      "  webis_bias_flipper_18\n"
     ]
    },
    {
     "data": {
      "application/vnd.jupyter.widget-view+json": {
       "model_id": "b1659b809a784fbfbabcedc1bd5f314f",
       "version_major": 2,
       "version_minor": 0
      },
      "text/plain": [
       "  0%|          | 0/1000 [00:00<?, ?it/s]"
      ]
     },
     "metadata": {},
     "output_type": "display_data"
    },
    {
     "name": "stdout",
     "output_type": "stream",
     "text": [
      "  webis_news_bias_20\n"
     ]
    },
    {
     "data": {
      "application/vnd.jupyter.widget-view+json": {
       "model_id": "15c73033bfbd40c8959ba255c43e6557",
       "version_major": 2,
       "version_minor": 0
      },
      "text/plain": [
       "  0%|          | 0/1000 [00:00<?, ?it/s]"
      ]
     },
     "metadata": {},
     "output_type": "display_data"
    },
    {
     "name": "stdout",
     "output_type": "stream",
     "text": [
      "evaluating dataset_benchmark/leave_one_out/politicalness/bert-base-cased/media_political_stance on:\n",
      "  article_bias_prediction\n"
     ]
    },
    {
     "data": {
      "application/vnd.jupyter.widget-view+json": {
       "model_id": "6a2b29b1009244c780626fc8a81d38e2",
       "version_major": 2,
       "version_minor": 0
      },
      "text/plain": [
       "  0%|          | 0/1000 [00:00<?, ?it/s]"
      ]
     },
     "metadata": {},
     "output_type": "display_data"
    },
    {
     "name": "stdout",
     "output_type": "stream",
     "text": [
      "  commoncrawl_news_articles\n"
     ]
    },
    {
     "data": {
      "application/vnd.jupyter.widget-view+json": {
       "model_id": "9e91a144faf049b099c127e985b68767",
       "version_major": 2,
       "version_minor": 0
      },
      "text/plain": [
       "  0%|          | 0/1000 [00:00<?, ?it/s]"
      ]
     },
     "metadata": {},
     "output_type": "display_data"
    },
    {
     "name": "stdout",
     "output_type": "stream",
     "text": [
      "  dem_rep_party_platform_topics\n"
     ]
    },
    {
     "data": {
      "application/vnd.jupyter.widget-view+json": {
       "model_id": "7946275f15dc4d69a61869d43faa1884",
       "version_major": 2,
       "version_minor": 0
      },
      "text/plain": [
       "  0%|          | 0/1000 [00:00<?, ?it/s]"
      ]
     },
     "metadata": {},
     "output_type": "display_data"
    },
    {
     "name": "stdout",
     "output_type": "stream",
     "text": [
      "  gpt4_political_bias\n"
     ]
    },
    {
     "data": {
      "application/vnd.jupyter.widget-view+json": {
       "model_id": "8d06b060cfb5449b88b78b2b8e7f175d",
       "version_major": 2,
       "version_minor": 0
      },
      "text/plain": [
       "  0%|          | 0/612 [00:00<?, ?it/s]"
      ]
     },
     "metadata": {},
     "output_type": "display_data"
    },
    {
     "name": "stdout",
     "output_type": "stream",
     "text": [
      "  gpt4_political_ideologies\n"
     ]
    },
    {
     "data": {
      "application/vnd.jupyter.widget-view+json": {
       "model_id": "ffb2f755f15a42159111113a493345d0",
       "version_major": 2,
       "version_minor": 0
      },
      "text/plain": [
       "  0%|          | 0/1000 [00:00<?, ?it/s]"
      ]
     },
     "metadata": {},
     "output_type": "display_data"
    },
    {
     "name": "stdout",
     "output_type": "stream",
     "text": [
      "  media_political_stance\n"
     ]
    },
    {
     "data": {
      "application/vnd.jupyter.widget-view+json": {
       "model_id": "c6fda369a2274ee5bd953501420553dd",
       "version_major": 2,
       "version_minor": 0
      },
      "text/plain": [
       "  0%|          | 0/1000 [00:00<?, ?it/s]"
      ]
     },
     "metadata": {},
     "output_type": "display_data"
    },
    {
     "name": "stdout",
     "output_type": "stream",
     "text": [
      "  parliament_speeches_2024\n"
     ]
    },
    {
     "data": {
      "application/vnd.jupyter.widget-view+json": {
       "model_id": "f2ab069bfa934768a2fc2aabb5a4a7ae",
       "version_major": 2,
       "version_minor": 0
      },
      "text/plain": [
       "  0%|          | 0/1000 [00:00<?, ?it/s]"
      ]
     },
     "metadata": {},
     "output_type": "display_data"
    },
    {
     "name": "stdout",
     "output_type": "stream",
     "text": [
      "  political_podcasts\n"
     ]
    },
    {
     "data": {
      "application/vnd.jupyter.widget-view+json": {
       "model_id": "5e4110eb1b2d4d51a6036d441b1c451d",
       "version_major": 2,
       "version_minor": 0
      },
      "text/plain": [
       "  0%|          | 0/1000 [00:00<?, ?it/s]"
      ]
     },
     "metadata": {},
     "output_type": "display_data"
    },
    {
     "name": "stdout",
     "output_type": "stream",
     "text": [
      "  political_tweets\n"
     ]
    },
    {
     "data": {
      "application/vnd.jupyter.widget-view+json": {
       "model_id": "49b0dfbfee0244ae8ff44ef223b50c57",
       "version_major": 2,
       "version_minor": 0
      },
      "text/plain": [
       "  0%|          | 0/1000 [00:00<?, ?it/s]"
      ]
     },
     "metadata": {},
     "output_type": "display_data"
    },
    {
     "name": "stdout",
     "output_type": "stream",
     "text": [
      "  qbias\n"
     ]
    },
    {
     "data": {
      "application/vnd.jupyter.widget-view+json": {
       "model_id": "fa674c51630b43acbd65e9472df62807",
       "version_major": 2,
       "version_minor": 0
      },
      "text/plain": [
       "  0%|          | 0/1000 [00:00<?, ?it/s]"
      ]
     },
     "metadata": {},
     "output_type": "display_data"
    },
    {
     "name": "stdout",
     "output_type": "stream",
     "text": [
      "  webis_bias_flipper_18\n"
     ]
    },
    {
     "data": {
      "application/vnd.jupyter.widget-view+json": {
       "model_id": "52398acd2efb43398fe95a2354e171ca",
       "version_major": 2,
       "version_minor": 0
      },
      "text/plain": [
       "  0%|          | 0/1000 [00:00<?, ?it/s]"
      ]
     },
     "metadata": {},
     "output_type": "display_data"
    },
    {
     "name": "stdout",
     "output_type": "stream",
     "text": [
      "  webis_news_bias_20\n"
     ]
    },
    {
     "data": {
      "application/vnd.jupyter.widget-view+json": {
       "model_id": "62f8fc5b57334b47a58941b1a1c5b8a8",
       "version_major": 2,
       "version_minor": 0
      },
      "text/plain": [
       "  0%|          | 0/1000 [00:00<?, ?it/s]"
      ]
     },
     "metadata": {},
     "output_type": "display_data"
    },
    {
     "name": "stdout",
     "output_type": "stream",
     "text": [
      "evaluating dataset_benchmark/leave_one_out/politicalness/bert-base-cased/medium_post_titles on:\n",
      "  article_bias_prediction\n"
     ]
    },
    {
     "data": {
      "application/vnd.jupyter.widget-view+json": {
       "model_id": "3724eadfb91b4faf8da2d1d19f9b3a3c",
       "version_major": 2,
       "version_minor": 0
      },
      "text/plain": [
       "  0%|          | 0/1000 [00:00<?, ?it/s]"
      ]
     },
     "metadata": {},
     "output_type": "display_data"
    },
    {
     "name": "stdout",
     "output_type": "stream",
     "text": [
      "  commoncrawl_news_articles\n"
     ]
    },
    {
     "data": {
      "application/vnd.jupyter.widget-view+json": {
       "model_id": "262d7763781c4a2d964ca48c55638803",
       "version_major": 2,
       "version_minor": 0
      },
      "text/plain": [
       "  0%|          | 0/1000 [00:00<?, ?it/s]"
      ]
     },
     "metadata": {},
     "output_type": "display_data"
    },
    {
     "name": "stdout",
     "output_type": "stream",
     "text": [
      "  dem_rep_party_platform_topics\n"
     ]
    },
    {
     "data": {
      "application/vnd.jupyter.widget-view+json": {
       "model_id": "5c3d1381888547ef92aa9b6b505e5efa",
       "version_major": 2,
       "version_minor": 0
      },
      "text/plain": [
       "  0%|          | 0/1000 [00:00<?, ?it/s]"
      ]
     },
     "metadata": {},
     "output_type": "display_data"
    },
    {
     "name": "stdout",
     "output_type": "stream",
     "text": [
      "  gpt4_political_bias\n"
     ]
    },
    {
     "data": {
      "application/vnd.jupyter.widget-view+json": {
       "model_id": "ca9350bc45404edbb87ec6d91ebaef69",
       "version_major": 2,
       "version_minor": 0
      },
      "text/plain": [
       "  0%|          | 0/612 [00:00<?, ?it/s]"
      ]
     },
     "metadata": {},
     "output_type": "display_data"
    },
    {
     "name": "stdout",
     "output_type": "stream",
     "text": [
      "  gpt4_political_ideologies\n"
     ]
    },
    {
     "data": {
      "application/vnd.jupyter.widget-view+json": {
       "model_id": "e56c749bf3314646924320c489fa009b",
       "version_major": 2,
       "version_minor": 0
      },
      "text/plain": [
       "  0%|          | 0/1000 [00:00<?, ?it/s]"
      ]
     },
     "metadata": {},
     "output_type": "display_data"
    },
    {
     "name": "stdout",
     "output_type": "stream",
     "text": [
      "  media_political_stance\n"
     ]
    },
    {
     "data": {
      "application/vnd.jupyter.widget-view+json": {
       "model_id": "4fcbfb33d66d432c8bcf33887ba498a7",
       "version_major": 2,
       "version_minor": 0
      },
      "text/plain": [
       "  0%|          | 0/1000 [00:00<?, ?it/s]"
      ]
     },
     "metadata": {},
     "output_type": "display_data"
    },
    {
     "name": "stdout",
     "output_type": "stream",
     "text": [
      "  parliament_speeches_2024\n"
     ]
    },
    {
     "data": {
      "application/vnd.jupyter.widget-view+json": {
       "model_id": "d019a614485742d094ba39abe6b0d960",
       "version_major": 2,
       "version_minor": 0
      },
      "text/plain": [
       "  0%|          | 0/1000 [00:00<?, ?it/s]"
      ]
     },
     "metadata": {},
     "output_type": "display_data"
    },
    {
     "name": "stdout",
     "output_type": "stream",
     "text": [
      "  political_podcasts\n"
     ]
    },
    {
     "data": {
      "application/vnd.jupyter.widget-view+json": {
       "model_id": "35e4749b30924f5c8fb2622efcb0f54d",
       "version_major": 2,
       "version_minor": 0
      },
      "text/plain": [
       "  0%|          | 0/1000 [00:00<?, ?it/s]"
      ]
     },
     "metadata": {},
     "output_type": "display_data"
    },
    {
     "name": "stdout",
     "output_type": "stream",
     "text": [
      "  political_tweets\n"
     ]
    },
    {
     "data": {
      "application/vnd.jupyter.widget-view+json": {
       "model_id": "79aca166af264468904b38488e506d8b",
       "version_major": 2,
       "version_minor": 0
      },
      "text/plain": [
       "  0%|          | 0/1000 [00:00<?, ?it/s]"
      ]
     },
     "metadata": {},
     "output_type": "display_data"
    },
    {
     "name": "stdout",
     "output_type": "stream",
     "text": [
      "  qbias\n"
     ]
    },
    {
     "data": {
      "application/vnd.jupyter.widget-view+json": {
       "model_id": "46f12507d8304ee4a1ae3137f4bb56f3",
       "version_major": 2,
       "version_minor": 0
      },
      "text/plain": [
       "  0%|          | 0/1000 [00:00<?, ?it/s]"
      ]
     },
     "metadata": {},
     "output_type": "display_data"
    },
    {
     "name": "stdout",
     "output_type": "stream",
     "text": [
      "  webis_bias_flipper_18\n"
     ]
    },
    {
     "data": {
      "application/vnd.jupyter.widget-view+json": {
       "model_id": "965d4042b1c74c27950414d6172f1165",
       "version_major": 2,
       "version_minor": 0
      },
      "text/plain": [
       "  0%|          | 0/1000 [00:00<?, ?it/s]"
      ]
     },
     "metadata": {},
     "output_type": "display_data"
    },
    {
     "name": "stdout",
     "output_type": "stream",
     "text": [
      "  webis_news_bias_20\n"
     ]
    },
    {
     "data": {
      "application/vnd.jupyter.widget-view+json": {
       "model_id": "89d5c454b63244fcafa5bf50961daf00",
       "version_major": 2,
       "version_minor": 0
      },
      "text/plain": [
       "  0%|          | 0/1000 [00:00<?, ?it/s]"
      ]
     },
     "metadata": {},
     "output_type": "display_data"
    },
    {
     "name": "stdout",
     "output_type": "stream",
     "text": [
      "evaluating dataset_benchmark/leave_one_out/politicalness/bert-base-cased/news_category on:\n",
      "  article_bias_prediction\n"
     ]
    },
    {
     "data": {
      "application/vnd.jupyter.widget-view+json": {
       "model_id": "1ea8e27473ec462184cd8e7c28201eb9",
       "version_major": 2,
       "version_minor": 0
      },
      "text/plain": [
       "  0%|          | 0/1000 [00:00<?, ?it/s]"
      ]
     },
     "metadata": {},
     "output_type": "display_data"
    },
    {
     "name": "stdout",
     "output_type": "stream",
     "text": [
      "  commoncrawl_news_articles\n"
     ]
    },
    {
     "data": {
      "application/vnd.jupyter.widget-view+json": {
       "model_id": "323c5c9160484f56b0074c103c9628cb",
       "version_major": 2,
       "version_minor": 0
      },
      "text/plain": [
       "  0%|          | 0/1000 [00:00<?, ?it/s]"
      ]
     },
     "metadata": {},
     "output_type": "display_data"
    },
    {
     "name": "stdout",
     "output_type": "stream",
     "text": [
      "  dem_rep_party_platform_topics\n"
     ]
    },
    {
     "data": {
      "application/vnd.jupyter.widget-view+json": {
       "model_id": "2842df5df59c4a48a2b7765f2e09f447",
       "version_major": 2,
       "version_minor": 0
      },
      "text/plain": [
       "  0%|          | 0/1000 [00:00<?, ?it/s]"
      ]
     },
     "metadata": {},
     "output_type": "display_data"
    },
    {
     "name": "stdout",
     "output_type": "stream",
     "text": [
      "  gpt4_political_bias\n"
     ]
    },
    {
     "data": {
      "application/vnd.jupyter.widget-view+json": {
       "model_id": "802119adaa3941038b0e661236da946a",
       "version_major": 2,
       "version_minor": 0
      },
      "text/plain": [
       "  0%|          | 0/612 [00:00<?, ?it/s]"
      ]
     },
     "metadata": {},
     "output_type": "display_data"
    },
    {
     "name": "stdout",
     "output_type": "stream",
     "text": [
      "  gpt4_political_ideologies\n"
     ]
    },
    {
     "data": {
      "application/vnd.jupyter.widget-view+json": {
       "model_id": "3dab111408af4e3c8280f08af9be89eb",
       "version_major": 2,
       "version_minor": 0
      },
      "text/plain": [
       "  0%|          | 0/1000 [00:00<?, ?it/s]"
      ]
     },
     "metadata": {},
     "output_type": "display_data"
    },
    {
     "name": "stdout",
     "output_type": "stream",
     "text": [
      "  media_political_stance\n"
     ]
    },
    {
     "data": {
      "application/vnd.jupyter.widget-view+json": {
       "model_id": "a845bf7cecab46e29a9ee428034e8cc6",
       "version_major": 2,
       "version_minor": 0
      },
      "text/plain": [
       "  0%|          | 0/1000 [00:00<?, ?it/s]"
      ]
     },
     "metadata": {},
     "output_type": "display_data"
    },
    {
     "name": "stdout",
     "output_type": "stream",
     "text": [
      "  parliament_speeches_2024\n"
     ]
    },
    {
     "data": {
      "application/vnd.jupyter.widget-view+json": {
       "model_id": "4667f859bbb1470f991c1a5258681511",
       "version_major": 2,
       "version_minor": 0
      },
      "text/plain": [
       "  0%|          | 0/1000 [00:00<?, ?it/s]"
      ]
     },
     "metadata": {},
     "output_type": "display_data"
    },
    {
     "name": "stdout",
     "output_type": "stream",
     "text": [
      "  political_podcasts\n"
     ]
    },
    {
     "data": {
      "application/vnd.jupyter.widget-view+json": {
       "model_id": "1c0cd38597f1484e8fbd1cae5e7fc5f4",
       "version_major": 2,
       "version_minor": 0
      },
      "text/plain": [
       "  0%|          | 0/1000 [00:00<?, ?it/s]"
      ]
     },
     "metadata": {},
     "output_type": "display_data"
    },
    {
     "name": "stdout",
     "output_type": "stream",
     "text": [
      "  political_tweets\n"
     ]
    },
    {
     "data": {
      "application/vnd.jupyter.widget-view+json": {
       "model_id": "f6d443b9a2994965a16992f6f928a4dc",
       "version_major": 2,
       "version_minor": 0
      },
      "text/plain": [
       "  0%|          | 0/1000 [00:00<?, ?it/s]"
      ]
     },
     "metadata": {},
     "output_type": "display_data"
    },
    {
     "name": "stdout",
     "output_type": "stream",
     "text": [
      "  qbias\n"
     ]
    },
    {
     "data": {
      "application/vnd.jupyter.widget-view+json": {
       "model_id": "5c81ae86199d4b11af3011ddb90f9fe8",
       "version_major": 2,
       "version_minor": 0
      },
      "text/plain": [
       "  0%|          | 0/1000 [00:00<?, ?it/s]"
      ]
     },
     "metadata": {},
     "output_type": "display_data"
    },
    {
     "name": "stdout",
     "output_type": "stream",
     "text": [
      "  webis_bias_flipper_18\n"
     ]
    },
    {
     "data": {
      "application/vnd.jupyter.widget-view+json": {
       "model_id": "aa19b68f94c44e40b4647efbc719f46a",
       "version_major": 2,
       "version_minor": 0
      },
      "text/plain": [
       "  0%|          | 0/1000 [00:00<?, ?it/s]"
      ]
     },
     "metadata": {},
     "output_type": "display_data"
    },
    {
     "name": "stdout",
     "output_type": "stream",
     "text": [
      "  webis_news_bias_20\n"
     ]
    },
    {
     "data": {
      "application/vnd.jupyter.widget-view+json": {
       "model_id": "8b481c225b7e4480991d47d34016b2bb",
       "version_major": 2,
       "version_minor": 0
      },
      "text/plain": [
       "  0%|          | 0/1000 [00:00<?, ?it/s]"
      ]
     },
     "metadata": {},
     "output_type": "display_data"
    },
    {
     "name": "stdout",
     "output_type": "stream",
     "text": [
      "evaluating dataset_benchmark/leave_one_out/politicalness/bert-base-cased/parliament_speeches_2024 on:\n",
      "  article_bias_prediction\n"
     ]
    },
    {
     "data": {
      "application/vnd.jupyter.widget-view+json": {
       "model_id": "9a15c2791ec743108c9e6e6d4bf62cc3",
       "version_major": 2,
       "version_minor": 0
      },
      "text/plain": [
       "  0%|          | 0/1000 [00:00<?, ?it/s]"
      ]
     },
     "metadata": {},
     "output_type": "display_data"
    },
    {
     "name": "stdout",
     "output_type": "stream",
     "text": [
      "  commoncrawl_news_articles\n"
     ]
    },
    {
     "data": {
      "application/vnd.jupyter.widget-view+json": {
       "model_id": "6de2efb73055492eb759d4f1ac37207e",
       "version_major": 2,
       "version_minor": 0
      },
      "text/plain": [
       "  0%|          | 0/1000 [00:00<?, ?it/s]"
      ]
     },
     "metadata": {},
     "output_type": "display_data"
    },
    {
     "name": "stdout",
     "output_type": "stream",
     "text": [
      "  dem_rep_party_platform_topics\n"
     ]
    },
    {
     "data": {
      "application/vnd.jupyter.widget-view+json": {
       "model_id": "deeb6e248e0b43099c72ac66e0286d7e",
       "version_major": 2,
       "version_minor": 0
      },
      "text/plain": [
       "  0%|          | 0/1000 [00:00<?, ?it/s]"
      ]
     },
     "metadata": {},
     "output_type": "display_data"
    },
    {
     "name": "stdout",
     "output_type": "stream",
     "text": [
      "  gpt4_political_bias\n"
     ]
    },
    {
     "data": {
      "application/vnd.jupyter.widget-view+json": {
       "model_id": "8a88e17f8b44496a8a82aafe62741f02",
       "version_major": 2,
       "version_minor": 0
      },
      "text/plain": [
       "  0%|          | 0/612 [00:00<?, ?it/s]"
      ]
     },
     "metadata": {},
     "output_type": "display_data"
    },
    {
     "name": "stdout",
     "output_type": "stream",
     "text": [
      "  gpt4_political_ideologies\n"
     ]
    },
    {
     "data": {
      "application/vnd.jupyter.widget-view+json": {
       "model_id": "65183e14caf24e668e72ad0349ab4861",
       "version_major": 2,
       "version_minor": 0
      },
      "text/plain": [
       "  0%|          | 0/1000 [00:00<?, ?it/s]"
      ]
     },
     "metadata": {},
     "output_type": "display_data"
    },
    {
     "name": "stdout",
     "output_type": "stream",
     "text": [
      "  media_political_stance\n"
     ]
    },
    {
     "data": {
      "application/vnd.jupyter.widget-view+json": {
       "model_id": "bf22185d6f1348b182ae5859accd1578",
       "version_major": 2,
       "version_minor": 0
      },
      "text/plain": [
       "  0%|          | 0/1000 [00:00<?, ?it/s]"
      ]
     },
     "metadata": {},
     "output_type": "display_data"
    },
    {
     "name": "stdout",
     "output_type": "stream",
     "text": [
      "  parliament_speeches_2024\n"
     ]
    },
    {
     "data": {
      "application/vnd.jupyter.widget-view+json": {
       "model_id": "7147edb3556147a0ba07e2d908882077",
       "version_major": 2,
       "version_minor": 0
      },
      "text/plain": [
       "  0%|          | 0/1000 [00:00<?, ?it/s]"
      ]
     },
     "metadata": {},
     "output_type": "display_data"
    },
    {
     "name": "stdout",
     "output_type": "stream",
     "text": [
      "  political_podcasts\n"
     ]
    },
    {
     "data": {
      "application/vnd.jupyter.widget-view+json": {
       "model_id": "8d43259394e34b06ab870709317e2710",
       "version_major": 2,
       "version_minor": 0
      },
      "text/plain": [
       "  0%|          | 0/1000 [00:00<?, ?it/s]"
      ]
     },
     "metadata": {},
     "output_type": "display_data"
    },
    {
     "name": "stdout",
     "output_type": "stream",
     "text": [
      "  political_tweets\n"
     ]
    },
    {
     "data": {
      "application/vnd.jupyter.widget-view+json": {
       "model_id": "676306ae4db8485ca9d797ffeab3a9b0",
       "version_major": 2,
       "version_minor": 0
      },
      "text/plain": [
       "  0%|          | 0/1000 [00:00<?, ?it/s]"
      ]
     },
     "metadata": {},
     "output_type": "display_data"
    },
    {
     "name": "stdout",
     "output_type": "stream",
     "text": [
      "  qbias\n"
     ]
    },
    {
     "data": {
      "application/vnd.jupyter.widget-view+json": {
       "model_id": "e5707dfb1b4d4b28a882655dc27f13ce",
       "version_major": 2,
       "version_minor": 0
      },
      "text/plain": [
       "  0%|          | 0/1000 [00:00<?, ?it/s]"
      ]
     },
     "metadata": {},
     "output_type": "display_data"
    },
    {
     "name": "stdout",
     "output_type": "stream",
     "text": [
      "  webis_bias_flipper_18\n"
     ]
    },
    {
     "data": {
      "application/vnd.jupyter.widget-view+json": {
       "model_id": "8711c97ff28b48da88576d676f21e57b",
       "version_major": 2,
       "version_minor": 0
      },
      "text/plain": [
       "  0%|          | 0/1000 [00:00<?, ?it/s]"
      ]
     },
     "metadata": {},
     "output_type": "display_data"
    },
    {
     "name": "stdout",
     "output_type": "stream",
     "text": [
      "  webis_news_bias_20\n"
     ]
    },
    {
     "data": {
      "application/vnd.jupyter.widget-view+json": {
       "model_id": "c2d0a3b3b45040f6a0cd03013fb9560d",
       "version_major": 2,
       "version_minor": 0
      },
      "text/plain": [
       "  0%|          | 0/1000 [00:00<?, ?it/s]"
      ]
     },
     "metadata": {},
     "output_type": "display_data"
    },
    {
     "name": "stdout",
     "output_type": "stream",
     "text": [
      "evaluating dataset_benchmark/leave_one_out/politicalness/bert-base-cased/pens on:\n",
      "  article_bias_prediction\n"
     ]
    },
    {
     "data": {
      "application/vnd.jupyter.widget-view+json": {
       "model_id": "ba1ceb10df6a4e8eb41c6dce821a672d",
       "version_major": 2,
       "version_minor": 0
      },
      "text/plain": [
       "  0%|          | 0/1000 [00:00<?, ?it/s]"
      ]
     },
     "metadata": {},
     "output_type": "display_data"
    },
    {
     "name": "stdout",
     "output_type": "stream",
     "text": [
      "  commoncrawl_news_articles\n"
     ]
    },
    {
     "data": {
      "application/vnd.jupyter.widget-view+json": {
       "model_id": "a16ef4d8f354441f84d08be64754d5f6",
       "version_major": 2,
       "version_minor": 0
      },
      "text/plain": [
       "  0%|          | 0/1000 [00:00<?, ?it/s]"
      ]
     },
     "metadata": {},
     "output_type": "display_data"
    },
    {
     "name": "stdout",
     "output_type": "stream",
     "text": [
      "  dem_rep_party_platform_topics\n"
     ]
    },
    {
     "data": {
      "application/vnd.jupyter.widget-view+json": {
       "model_id": "a8002061fee44c6fa8f817e20407fbae",
       "version_major": 2,
       "version_minor": 0
      },
      "text/plain": [
       "  0%|          | 0/1000 [00:00<?, ?it/s]"
      ]
     },
     "metadata": {},
     "output_type": "display_data"
    },
    {
     "name": "stdout",
     "output_type": "stream",
     "text": [
      "  gpt4_political_bias\n"
     ]
    },
    {
     "data": {
      "application/vnd.jupyter.widget-view+json": {
       "model_id": "f4aa4b11f25045ff8fd0ba34c1b072f0",
       "version_major": 2,
       "version_minor": 0
      },
      "text/plain": [
       "  0%|          | 0/612 [00:00<?, ?it/s]"
      ]
     },
     "metadata": {},
     "output_type": "display_data"
    },
    {
     "name": "stdout",
     "output_type": "stream",
     "text": [
      "  gpt4_political_ideologies\n"
     ]
    },
    {
     "data": {
      "application/vnd.jupyter.widget-view+json": {
       "model_id": "04c6fc943e8f4005a2fbaa49d5cb7800",
       "version_major": 2,
       "version_minor": 0
      },
      "text/plain": [
       "  0%|          | 0/1000 [00:00<?, ?it/s]"
      ]
     },
     "metadata": {},
     "output_type": "display_data"
    },
    {
     "name": "stdout",
     "output_type": "stream",
     "text": [
      "  media_political_stance\n"
     ]
    },
    {
     "data": {
      "application/vnd.jupyter.widget-view+json": {
       "model_id": "089e8f9597744b0e999f33b49859a66a",
       "version_major": 2,
       "version_minor": 0
      },
      "text/plain": [
       "  0%|          | 0/1000 [00:00<?, ?it/s]"
      ]
     },
     "metadata": {},
     "output_type": "display_data"
    },
    {
     "name": "stdout",
     "output_type": "stream",
     "text": [
      "  parliament_speeches_2024\n"
     ]
    },
    {
     "data": {
      "application/vnd.jupyter.widget-view+json": {
       "model_id": "5b4fc370d94e4b89af8067012c1b96a2",
       "version_major": 2,
       "version_minor": 0
      },
      "text/plain": [
       "  0%|          | 0/1000 [00:00<?, ?it/s]"
      ]
     },
     "metadata": {},
     "output_type": "display_data"
    },
    {
     "name": "stdout",
     "output_type": "stream",
     "text": [
      "  political_podcasts\n"
     ]
    },
    {
     "data": {
      "application/vnd.jupyter.widget-view+json": {
       "model_id": "e4707eed09ac4d6580d913ffeef4a566",
       "version_major": 2,
       "version_minor": 0
      },
      "text/plain": [
       "  0%|          | 0/1000 [00:00<?, ?it/s]"
      ]
     },
     "metadata": {},
     "output_type": "display_data"
    },
    {
     "name": "stdout",
     "output_type": "stream",
     "text": [
      "  political_tweets\n"
     ]
    },
    {
     "data": {
      "application/vnd.jupyter.widget-view+json": {
       "model_id": "750bd0be77a84813be79c4ab30e7a837",
       "version_major": 2,
       "version_minor": 0
      },
      "text/plain": [
       "  0%|          | 0/1000 [00:00<?, ?it/s]"
      ]
     },
     "metadata": {},
     "output_type": "display_data"
    },
    {
     "name": "stdout",
     "output_type": "stream",
     "text": [
      "  qbias\n"
     ]
    },
    {
     "data": {
      "application/vnd.jupyter.widget-view+json": {
       "model_id": "5de0cffa18964472afb8e0f131df10a3",
       "version_major": 2,
       "version_minor": 0
      },
      "text/plain": [
       "  0%|          | 0/1000 [00:00<?, ?it/s]"
      ]
     },
     "metadata": {},
     "output_type": "display_data"
    },
    {
     "name": "stdout",
     "output_type": "stream",
     "text": [
      "  webis_bias_flipper_18\n"
     ]
    },
    {
     "data": {
      "application/vnd.jupyter.widget-view+json": {
       "model_id": "873d88eeb0204af39524a9ec3918fe91",
       "version_major": 2,
       "version_minor": 0
      },
      "text/plain": [
       "  0%|          | 0/1000 [00:00<?, ?it/s]"
      ]
     },
     "metadata": {},
     "output_type": "display_data"
    },
    {
     "name": "stdout",
     "output_type": "stream",
     "text": [
      "  webis_news_bias_20\n"
     ]
    },
    {
     "data": {
      "application/vnd.jupyter.widget-view+json": {
       "model_id": "88c96311f54b4490b1c6067bd7992983",
       "version_major": 2,
       "version_minor": 0
      },
      "text/plain": [
       "  0%|          | 0/1000 [00:00<?, ?it/s]"
      ]
     },
     "metadata": {},
     "output_type": "display_data"
    },
    {
     "name": "stdout",
     "output_type": "stream",
     "text": [
      "evaluating dataset_benchmark/leave_one_out/politicalness/bert-base-cased/polibertweet on:\n",
      "  article_bias_prediction\n"
     ]
    },
    {
     "data": {
      "application/vnd.jupyter.widget-view+json": {
       "model_id": "26a77bd08efe46f9aa8ff4438b383ecb",
       "version_major": 2,
       "version_minor": 0
      },
      "text/plain": [
       "  0%|          | 0/1000 [00:00<?, ?it/s]"
      ]
     },
     "metadata": {},
     "output_type": "display_data"
    },
    {
     "name": "stdout",
     "output_type": "stream",
     "text": [
      "  commoncrawl_news_articles\n"
     ]
    },
    {
     "data": {
      "application/vnd.jupyter.widget-view+json": {
       "model_id": "22b525ff9f734d42b0d55e59c5eda3c9",
       "version_major": 2,
       "version_minor": 0
      },
      "text/plain": [
       "  0%|          | 0/1000 [00:00<?, ?it/s]"
      ]
     },
     "metadata": {},
     "output_type": "display_data"
    },
    {
     "name": "stdout",
     "output_type": "stream",
     "text": [
      "  dem_rep_party_platform_topics\n"
     ]
    },
    {
     "data": {
      "application/vnd.jupyter.widget-view+json": {
       "model_id": "efdd3d8e29b541e4a6fd2c979c4c7b3b",
       "version_major": 2,
       "version_minor": 0
      },
      "text/plain": [
       "  0%|          | 0/1000 [00:00<?, ?it/s]"
      ]
     },
     "metadata": {},
     "output_type": "display_data"
    },
    {
     "name": "stdout",
     "output_type": "stream",
     "text": [
      "  gpt4_political_bias\n"
     ]
    },
    {
     "data": {
      "application/vnd.jupyter.widget-view+json": {
       "model_id": "ed26b84b59844b05bee19df7e55e8407",
       "version_major": 2,
       "version_minor": 0
      },
      "text/plain": [
       "  0%|          | 0/612 [00:00<?, ?it/s]"
      ]
     },
     "metadata": {},
     "output_type": "display_data"
    },
    {
     "name": "stdout",
     "output_type": "stream",
     "text": [
      "  gpt4_political_ideologies\n"
     ]
    },
    {
     "data": {
      "application/vnd.jupyter.widget-view+json": {
       "model_id": "892d1ba32770402c8ee47236b2fb4010",
       "version_major": 2,
       "version_minor": 0
      },
      "text/plain": [
       "  0%|          | 0/1000 [00:00<?, ?it/s]"
      ]
     },
     "metadata": {},
     "output_type": "display_data"
    },
    {
     "name": "stdout",
     "output_type": "stream",
     "text": [
      "  media_political_stance\n"
     ]
    },
    {
     "data": {
      "application/vnd.jupyter.widget-view+json": {
       "model_id": "f322e2bd3aa448898a4ad6b11dbca2bc",
       "version_major": 2,
       "version_minor": 0
      },
      "text/plain": [
       "  0%|          | 0/1000 [00:00<?, ?it/s]"
      ]
     },
     "metadata": {},
     "output_type": "display_data"
    },
    {
     "name": "stdout",
     "output_type": "stream",
     "text": [
      "  parliament_speeches_2024\n"
     ]
    },
    {
     "data": {
      "application/vnd.jupyter.widget-view+json": {
       "model_id": "a134bc03d9b748f4969c5091fb863957",
       "version_major": 2,
       "version_minor": 0
      },
      "text/plain": [
       "  0%|          | 0/1000 [00:00<?, ?it/s]"
      ]
     },
     "metadata": {},
     "output_type": "display_data"
    },
    {
     "name": "stdout",
     "output_type": "stream",
     "text": [
      "  political_podcasts\n"
     ]
    },
    {
     "data": {
      "application/vnd.jupyter.widget-view+json": {
       "model_id": "5ddc4fddcc4849de9870d129bc41030c",
       "version_major": 2,
       "version_minor": 0
      },
      "text/plain": [
       "  0%|          | 0/1000 [00:00<?, ?it/s]"
      ]
     },
     "metadata": {},
     "output_type": "display_data"
    },
    {
     "name": "stdout",
     "output_type": "stream",
     "text": [
      "  political_tweets\n"
     ]
    },
    {
     "data": {
      "application/vnd.jupyter.widget-view+json": {
       "model_id": "92c89c6806ba4296a8b1481d55850480",
       "version_major": 2,
       "version_minor": 0
      },
      "text/plain": [
       "  0%|          | 0/1000 [00:00<?, ?it/s]"
      ]
     },
     "metadata": {},
     "output_type": "display_data"
    },
    {
     "name": "stdout",
     "output_type": "stream",
     "text": [
      "  qbias\n"
     ]
    },
    {
     "data": {
      "application/vnd.jupyter.widget-view+json": {
       "model_id": "9e124e29377d45cd892bc1444aeb6056",
       "version_major": 2,
       "version_minor": 0
      },
      "text/plain": [
       "  0%|          | 0/1000 [00:00<?, ?it/s]"
      ]
     },
     "metadata": {},
     "output_type": "display_data"
    },
    {
     "name": "stdout",
     "output_type": "stream",
     "text": [
      "  webis_bias_flipper_18\n"
     ]
    },
    {
     "data": {
      "application/vnd.jupyter.widget-view+json": {
       "model_id": "5040f67555f146239b381aa88aa59217",
       "version_major": 2,
       "version_minor": 0
      },
      "text/plain": [
       "  0%|          | 0/1000 [00:00<?, ?it/s]"
      ]
     },
     "metadata": {},
     "output_type": "display_data"
    },
    {
     "name": "stdout",
     "output_type": "stream",
     "text": [
      "  webis_news_bias_20\n"
     ]
    },
    {
     "data": {
      "application/vnd.jupyter.widget-view+json": {
       "model_id": "ab341c98472c4802a57d960ec9eb3af4",
       "version_major": 2,
       "version_minor": 0
      },
      "text/plain": [
       "  0%|          | 0/1000 [00:00<?, ?it/s]"
      ]
     },
     "metadata": {},
     "output_type": "display_data"
    },
    {
     "name": "stdout",
     "output_type": "stream",
     "text": [
      "evaluating dataset_benchmark/leave_one_out/politicalness/bert-base-cased/political_or_not on:\n",
      "  article_bias_prediction\n"
     ]
    },
    {
     "data": {
      "application/vnd.jupyter.widget-view+json": {
       "model_id": "ce035862b201401686eb2ce6b0a30c33",
       "version_major": 2,
       "version_minor": 0
      },
      "text/plain": [
       "  0%|          | 0/1000 [00:00<?, ?it/s]"
      ]
     },
     "metadata": {},
     "output_type": "display_data"
    },
    {
     "name": "stdout",
     "output_type": "stream",
     "text": [
      "  commoncrawl_news_articles\n"
     ]
    },
    {
     "data": {
      "application/vnd.jupyter.widget-view+json": {
       "model_id": "bf770029b5b6460eb67f8cebdec813e1",
       "version_major": 2,
       "version_minor": 0
      },
      "text/plain": [
       "  0%|          | 0/1000 [00:00<?, ?it/s]"
      ]
     },
     "metadata": {},
     "output_type": "display_data"
    },
    {
     "name": "stdout",
     "output_type": "stream",
     "text": [
      "  dem_rep_party_platform_topics\n"
     ]
    },
    {
     "data": {
      "application/vnd.jupyter.widget-view+json": {
       "model_id": "5fdb4f6d539f4e49a9b956d8b8ba7b47",
       "version_major": 2,
       "version_minor": 0
      },
      "text/plain": [
       "  0%|          | 0/1000 [00:00<?, ?it/s]"
      ]
     },
     "metadata": {},
     "output_type": "display_data"
    },
    {
     "name": "stdout",
     "output_type": "stream",
     "text": [
      "  gpt4_political_bias\n"
     ]
    },
    {
     "data": {
      "application/vnd.jupyter.widget-view+json": {
       "model_id": "f78e1d892f434822a923d0a9d4925670",
       "version_major": 2,
       "version_minor": 0
      },
      "text/plain": [
       "  0%|          | 0/612 [00:00<?, ?it/s]"
      ]
     },
     "metadata": {},
     "output_type": "display_data"
    },
    {
     "name": "stdout",
     "output_type": "stream",
     "text": [
      "  gpt4_political_ideologies\n"
     ]
    },
    {
     "data": {
      "application/vnd.jupyter.widget-view+json": {
       "model_id": "f232b611eb8f41b3b894d8f6b46e0929",
       "version_major": 2,
       "version_minor": 0
      },
      "text/plain": [
       "  0%|          | 0/1000 [00:00<?, ?it/s]"
      ]
     },
     "metadata": {},
     "output_type": "display_data"
    },
    {
     "name": "stdout",
     "output_type": "stream",
     "text": [
      "  media_political_stance\n"
     ]
    },
    {
     "data": {
      "application/vnd.jupyter.widget-view+json": {
       "model_id": "ddecedf103d44831864c55966ef75fd3",
       "version_major": 2,
       "version_minor": 0
      },
      "text/plain": [
       "  0%|          | 0/1000 [00:00<?, ?it/s]"
      ]
     },
     "metadata": {},
     "output_type": "display_data"
    },
    {
     "name": "stdout",
     "output_type": "stream",
     "text": [
      "  parliament_speeches_2024\n"
     ]
    },
    {
     "data": {
      "application/vnd.jupyter.widget-view+json": {
       "model_id": "766bdf1b35e44b14887cb761ad0c9c6e",
       "version_major": 2,
       "version_minor": 0
      },
      "text/plain": [
       "  0%|          | 0/1000 [00:00<?, ?it/s]"
      ]
     },
     "metadata": {},
     "output_type": "display_data"
    },
    {
     "name": "stdout",
     "output_type": "stream",
     "text": [
      "  political_podcasts\n"
     ]
    },
    {
     "data": {
      "application/vnd.jupyter.widget-view+json": {
       "model_id": "a2577792b6994389b17e4d518d9d92c9",
       "version_major": 2,
       "version_minor": 0
      },
      "text/plain": [
       "  0%|          | 0/1000 [00:00<?, ?it/s]"
      ]
     },
     "metadata": {},
     "output_type": "display_data"
    },
    {
     "name": "stdout",
     "output_type": "stream",
     "text": [
      "  political_tweets\n"
     ]
    },
    {
     "data": {
      "application/vnd.jupyter.widget-view+json": {
       "model_id": "89b9ca7a9609452baabd60f5dafec095",
       "version_major": 2,
       "version_minor": 0
      },
      "text/plain": [
       "  0%|          | 0/1000 [00:00<?, ?it/s]"
      ]
     },
     "metadata": {},
     "output_type": "display_data"
    },
    {
     "name": "stdout",
     "output_type": "stream",
     "text": [
      "  qbias\n"
     ]
    },
    {
     "data": {
      "application/vnd.jupyter.widget-view+json": {
       "model_id": "40fd2bca193f4b38bed9064ebf9a8e41",
       "version_major": 2,
       "version_minor": 0
      },
      "text/plain": [
       "  0%|          | 0/1000 [00:00<?, ?it/s]"
      ]
     },
     "metadata": {},
     "output_type": "display_data"
    },
    {
     "name": "stdout",
     "output_type": "stream",
     "text": [
      "  webis_bias_flipper_18\n"
     ]
    },
    {
     "data": {
      "application/vnd.jupyter.widget-view+json": {
       "model_id": "25f06bd6ceb0455282e3750c9190a572",
       "version_major": 2,
       "version_minor": 0
      },
      "text/plain": [
       "  0%|          | 0/1000 [00:00<?, ?it/s]"
      ]
     },
     "metadata": {},
     "output_type": "display_data"
    },
    {
     "name": "stdout",
     "output_type": "stream",
     "text": [
      "  webis_news_bias_20\n"
     ]
    },
    {
     "data": {
      "application/vnd.jupyter.widget-view+json": {
       "model_id": "ca75091307d24e489ab5669bf770ad02",
       "version_major": 2,
       "version_minor": 0
      },
      "text/plain": [
       "  0%|          | 0/1000 [00:00<?, ?it/s]"
      ]
     },
     "metadata": {},
     "output_type": "display_data"
    },
    {
     "name": "stdout",
     "output_type": "stream",
     "text": [
      "evaluating dataset_benchmark/leave_one_out/politicalness/bert-base-cased/political_podcasts on:\n",
      "  article_bias_prediction\n"
     ]
    },
    {
     "data": {
      "application/vnd.jupyter.widget-view+json": {
       "model_id": "6a5f7cc2d73046e995155a002f2d0995",
       "version_major": 2,
       "version_minor": 0
      },
      "text/plain": [
       "  0%|          | 0/1000 [00:00<?, ?it/s]"
      ]
     },
     "metadata": {},
     "output_type": "display_data"
    },
    {
     "name": "stdout",
     "output_type": "stream",
     "text": [
      "  commoncrawl_news_articles\n"
     ]
    },
    {
     "data": {
      "application/vnd.jupyter.widget-view+json": {
       "model_id": "115617a47b0c4958a1d35a3cf3ae0f49",
       "version_major": 2,
       "version_minor": 0
      },
      "text/plain": [
       "  0%|          | 0/1000 [00:00<?, ?it/s]"
      ]
     },
     "metadata": {},
     "output_type": "display_data"
    },
    {
     "name": "stdout",
     "output_type": "stream",
     "text": [
      "  dem_rep_party_platform_topics\n"
     ]
    },
    {
     "data": {
      "application/vnd.jupyter.widget-view+json": {
       "model_id": "c22c821bb4684913a42d30a393ceb7c7",
       "version_major": 2,
       "version_minor": 0
      },
      "text/plain": [
       "  0%|          | 0/1000 [00:00<?, ?it/s]"
      ]
     },
     "metadata": {},
     "output_type": "display_data"
    },
    {
     "name": "stdout",
     "output_type": "stream",
     "text": [
      "  gpt4_political_bias\n"
     ]
    },
    {
     "data": {
      "application/vnd.jupyter.widget-view+json": {
       "model_id": "a1108fa923da4249ae74bd0ed7e13b98",
       "version_major": 2,
       "version_minor": 0
      },
      "text/plain": [
       "  0%|          | 0/612 [00:00<?, ?it/s]"
      ]
     },
     "metadata": {},
     "output_type": "display_data"
    },
    {
     "name": "stdout",
     "output_type": "stream",
     "text": [
      "  gpt4_political_ideologies\n"
     ]
    },
    {
     "data": {
      "application/vnd.jupyter.widget-view+json": {
       "model_id": "52b9d12bad134c6fb9019125b56a54db",
       "version_major": 2,
       "version_minor": 0
      },
      "text/plain": [
       "  0%|          | 0/1000 [00:00<?, ?it/s]"
      ]
     },
     "metadata": {},
     "output_type": "display_data"
    },
    {
     "name": "stdout",
     "output_type": "stream",
     "text": [
      "  media_political_stance\n"
     ]
    },
    {
     "data": {
      "application/vnd.jupyter.widget-view+json": {
       "model_id": "7037c4077c28443dac4a70704dd6325f",
       "version_major": 2,
       "version_minor": 0
      },
      "text/plain": [
       "  0%|          | 0/1000 [00:00<?, ?it/s]"
      ]
     },
     "metadata": {},
     "output_type": "display_data"
    },
    {
     "name": "stdout",
     "output_type": "stream",
     "text": [
      "  parliament_speeches_2024\n"
     ]
    },
    {
     "data": {
      "application/vnd.jupyter.widget-view+json": {
       "model_id": "0f53dad0b9264e67ab2865d47000b7b8",
       "version_major": 2,
       "version_minor": 0
      },
      "text/plain": [
       "  0%|          | 0/1000 [00:00<?, ?it/s]"
      ]
     },
     "metadata": {},
     "output_type": "display_data"
    },
    {
     "name": "stdout",
     "output_type": "stream",
     "text": [
      "  political_podcasts\n"
     ]
    },
    {
     "data": {
      "application/vnd.jupyter.widget-view+json": {
       "model_id": "1379d79dcf5c4a26b38e25ab2854aa4e",
       "version_major": 2,
       "version_minor": 0
      },
      "text/plain": [
       "  0%|          | 0/1000 [00:00<?, ?it/s]"
      ]
     },
     "metadata": {},
     "output_type": "display_data"
    },
    {
     "name": "stdout",
     "output_type": "stream",
     "text": [
      "  political_tweets\n"
     ]
    },
    {
     "data": {
      "application/vnd.jupyter.widget-view+json": {
       "model_id": "5fe1f81966524cfc83e808f259018bc5",
       "version_major": 2,
       "version_minor": 0
      },
      "text/plain": [
       "  0%|          | 0/1000 [00:00<?, ?it/s]"
      ]
     },
     "metadata": {},
     "output_type": "display_data"
    },
    {
     "name": "stdout",
     "output_type": "stream",
     "text": [
      "  qbias\n"
     ]
    },
    {
     "data": {
      "application/vnd.jupyter.widget-view+json": {
       "model_id": "5dbe37bdbe824b7b9631d2777cb4aa74",
       "version_major": 2,
       "version_minor": 0
      },
      "text/plain": [
       "  0%|          | 0/1000 [00:00<?, ?it/s]"
      ]
     },
     "metadata": {},
     "output_type": "display_data"
    },
    {
     "name": "stdout",
     "output_type": "stream",
     "text": [
      "  webis_bias_flipper_18\n"
     ]
    },
    {
     "data": {
      "application/vnd.jupyter.widget-view+json": {
       "model_id": "ade53aa4ee8a4e528d488dc91ec33073",
       "version_major": 2,
       "version_minor": 0
      },
      "text/plain": [
       "  0%|          | 0/1000 [00:00<?, ?it/s]"
      ]
     },
     "metadata": {},
     "output_type": "display_data"
    },
    {
     "name": "stdout",
     "output_type": "stream",
     "text": [
      "  webis_news_bias_20\n"
     ]
    },
    {
     "data": {
      "application/vnd.jupyter.widget-view+json": {
       "model_id": "b80f8a9982c0473d97c1548505183cca",
       "version_major": 2,
       "version_minor": 0
      },
      "text/plain": [
       "  0%|          | 0/1000 [00:00<?, ?it/s]"
      ]
     },
     "metadata": {},
     "output_type": "display_data"
    },
    {
     "name": "stdout",
     "output_type": "stream",
     "text": [
      "evaluating dataset_benchmark/leave_one_out/politicalness/bert-base-cased/political_tweets on:\n",
      "  article_bias_prediction\n"
     ]
    },
    {
     "data": {
      "application/vnd.jupyter.widget-view+json": {
       "model_id": "db14ca4f288e420db13c56e5d3ac8546",
       "version_major": 2,
       "version_minor": 0
      },
      "text/plain": [
       "  0%|          | 0/1000 [00:00<?, ?it/s]"
      ]
     },
     "metadata": {},
     "output_type": "display_data"
    },
    {
     "name": "stdout",
     "output_type": "stream",
     "text": [
      "  commoncrawl_news_articles\n"
     ]
    },
    {
     "data": {
      "application/vnd.jupyter.widget-view+json": {
       "model_id": "f81b2a31de354637a63e6aec36e4c72d",
       "version_major": 2,
       "version_minor": 0
      },
      "text/plain": [
       "  0%|          | 0/1000 [00:00<?, ?it/s]"
      ]
     },
     "metadata": {},
     "output_type": "display_data"
    },
    {
     "name": "stdout",
     "output_type": "stream",
     "text": [
      "  dem_rep_party_platform_topics\n"
     ]
    },
    {
     "data": {
      "application/vnd.jupyter.widget-view+json": {
       "model_id": "e36bd684c1da4182bd0fd74f666017a0",
       "version_major": 2,
       "version_minor": 0
      },
      "text/plain": [
       "  0%|          | 0/1000 [00:00<?, ?it/s]"
      ]
     },
     "metadata": {},
     "output_type": "display_data"
    },
    {
     "name": "stdout",
     "output_type": "stream",
     "text": [
      "  gpt4_political_bias\n"
     ]
    },
    {
     "data": {
      "application/vnd.jupyter.widget-view+json": {
       "model_id": "bebadeee0ba24569941ce2baced46c3d",
       "version_major": 2,
       "version_minor": 0
      },
      "text/plain": [
       "  0%|          | 0/612 [00:00<?, ?it/s]"
      ]
     },
     "metadata": {},
     "output_type": "display_data"
    },
    {
     "name": "stdout",
     "output_type": "stream",
     "text": [
      "  gpt4_political_ideologies\n"
     ]
    },
    {
     "data": {
      "application/vnd.jupyter.widget-view+json": {
       "model_id": "51c1056ad8524b719b4dcb512519aad6",
       "version_major": 2,
       "version_minor": 0
      },
      "text/plain": [
       "  0%|          | 0/1000 [00:00<?, ?it/s]"
      ]
     },
     "metadata": {},
     "output_type": "display_data"
    },
    {
     "name": "stdout",
     "output_type": "stream",
     "text": [
      "  media_political_stance\n"
     ]
    },
    {
     "data": {
      "application/vnd.jupyter.widget-view+json": {
       "model_id": "08fc8b1ba7d745d88af2fcdd8be83d8d",
       "version_major": 2,
       "version_minor": 0
      },
      "text/plain": [
       "  0%|          | 0/1000 [00:00<?, ?it/s]"
      ]
     },
     "metadata": {},
     "output_type": "display_data"
    },
    {
     "name": "stdout",
     "output_type": "stream",
     "text": [
      "  parliament_speeches_2024\n"
     ]
    },
    {
     "data": {
      "application/vnd.jupyter.widget-view+json": {
       "model_id": "5ebaa919ae7a4aacb1fc110b92829ee4",
       "version_major": 2,
       "version_minor": 0
      },
      "text/plain": [
       "  0%|          | 0/1000 [00:00<?, ?it/s]"
      ]
     },
     "metadata": {},
     "output_type": "display_data"
    },
    {
     "name": "stdout",
     "output_type": "stream",
     "text": [
      "  political_podcasts\n"
     ]
    },
    {
     "data": {
      "application/vnd.jupyter.widget-view+json": {
       "model_id": "ef67dae339dc4e8e9945b71fefa35f28",
       "version_major": 2,
       "version_minor": 0
      },
      "text/plain": [
       "  0%|          | 0/1000 [00:00<?, ?it/s]"
      ]
     },
     "metadata": {},
     "output_type": "display_data"
    },
    {
     "name": "stdout",
     "output_type": "stream",
     "text": [
      "  political_tweets\n"
     ]
    },
    {
     "data": {
      "application/vnd.jupyter.widget-view+json": {
       "model_id": "b44c1bc37e3143d687a40beac3e1c565",
       "version_major": 2,
       "version_minor": 0
      },
      "text/plain": [
       "  0%|          | 0/1000 [00:00<?, ?it/s]"
      ]
     },
     "metadata": {},
     "output_type": "display_data"
    },
    {
     "name": "stdout",
     "output_type": "stream",
     "text": [
      "  qbias\n"
     ]
    },
    {
     "data": {
      "application/vnd.jupyter.widget-view+json": {
       "model_id": "a6c380ad2a09463395a15220aa89e16d",
       "version_major": 2,
       "version_minor": 0
      },
      "text/plain": [
       "  0%|          | 0/1000 [00:00<?, ?it/s]"
      ]
     },
     "metadata": {},
     "output_type": "display_data"
    },
    {
     "name": "stdout",
     "output_type": "stream",
     "text": [
      "  webis_bias_flipper_18\n"
     ]
    },
    {
     "data": {
      "application/vnd.jupyter.widget-view+json": {
       "model_id": "c2fb6bc45a6048748513264b25660fe8",
       "version_major": 2,
       "version_minor": 0
      },
      "text/plain": [
       "  0%|          | 0/1000 [00:00<?, ?it/s]"
      ]
     },
     "metadata": {},
     "output_type": "display_data"
    },
    {
     "name": "stdout",
     "output_type": "stream",
     "text": [
      "  webis_news_bias_20\n"
     ]
    },
    {
     "data": {
      "application/vnd.jupyter.widget-view+json": {
       "model_id": "1160419ee4fc4f56a9646f35cff6a5f6",
       "version_major": 2,
       "version_minor": 0
      },
      "text/plain": [
       "  0%|          | 0/1000 [00:00<?, ?it/s]"
      ]
     },
     "metadata": {},
     "output_type": "display_data"
    },
    {
     "name": "stdout",
     "output_type": "stream",
     "text": [
      "evaluating dataset_benchmark/leave_one_out/politicalness/bert-base-cased/qbias on:\n",
      "  article_bias_prediction\n"
     ]
    },
    {
     "data": {
      "application/vnd.jupyter.widget-view+json": {
       "model_id": "66680505a00a4a36a5eaf8fb50ba9bdc",
       "version_major": 2,
       "version_minor": 0
      },
      "text/plain": [
       "  0%|          | 0/1000 [00:00<?, ?it/s]"
      ]
     },
     "metadata": {},
     "output_type": "display_data"
    },
    {
     "name": "stdout",
     "output_type": "stream",
     "text": [
      "  commoncrawl_news_articles\n"
     ]
    },
    {
     "data": {
      "application/vnd.jupyter.widget-view+json": {
       "model_id": "90d498a788bf4d11a7d5803e5daa3705",
       "version_major": 2,
       "version_minor": 0
      },
      "text/plain": [
       "  0%|          | 0/1000 [00:00<?, ?it/s]"
      ]
     },
     "metadata": {},
     "output_type": "display_data"
    },
    {
     "name": "stdout",
     "output_type": "stream",
     "text": [
      "  dem_rep_party_platform_topics\n"
     ]
    },
    {
     "data": {
      "application/vnd.jupyter.widget-view+json": {
       "model_id": "12f1c5b224cc4343b26e578742798afd",
       "version_major": 2,
       "version_minor": 0
      },
      "text/plain": [
       "  0%|          | 0/1000 [00:00<?, ?it/s]"
      ]
     },
     "metadata": {},
     "output_type": "display_data"
    },
    {
     "name": "stdout",
     "output_type": "stream",
     "text": [
      "  gpt4_political_bias\n"
     ]
    },
    {
     "data": {
      "application/vnd.jupyter.widget-view+json": {
       "model_id": "5cdf725562aa47a0b36f141609c54452",
       "version_major": 2,
       "version_minor": 0
      },
      "text/plain": [
       "  0%|          | 0/612 [00:00<?, ?it/s]"
      ]
     },
     "metadata": {},
     "output_type": "display_data"
    },
    {
     "name": "stdout",
     "output_type": "stream",
     "text": [
      "  gpt4_political_ideologies\n"
     ]
    },
    {
     "data": {
      "application/vnd.jupyter.widget-view+json": {
       "model_id": "b8060342fa854569bbbc0ef54285795b",
       "version_major": 2,
       "version_minor": 0
      },
      "text/plain": [
       "  0%|          | 0/1000 [00:00<?, ?it/s]"
      ]
     },
     "metadata": {},
     "output_type": "display_data"
    },
    {
     "name": "stdout",
     "output_type": "stream",
     "text": [
      "  media_political_stance\n"
     ]
    },
    {
     "data": {
      "application/vnd.jupyter.widget-view+json": {
       "model_id": "ff3bd21ffc254a5aa17e84de8fcec943",
       "version_major": 2,
       "version_minor": 0
      },
      "text/plain": [
       "  0%|          | 0/1000 [00:00<?, ?it/s]"
      ]
     },
     "metadata": {},
     "output_type": "display_data"
    },
    {
     "name": "stdout",
     "output_type": "stream",
     "text": [
      "  parliament_speeches_2024\n"
     ]
    },
    {
     "data": {
      "application/vnd.jupyter.widget-view+json": {
       "model_id": "ef6d690727f9447d89f4f76f8512c1fd",
       "version_major": 2,
       "version_minor": 0
      },
      "text/plain": [
       "  0%|          | 0/1000 [00:00<?, ?it/s]"
      ]
     },
     "metadata": {},
     "output_type": "display_data"
    },
    {
     "name": "stdout",
     "output_type": "stream",
     "text": [
      "  political_podcasts\n"
     ]
    },
    {
     "data": {
      "application/vnd.jupyter.widget-view+json": {
       "model_id": "bf3f57edf5f74cecaf02db41f78b5a90",
       "version_major": 2,
       "version_minor": 0
      },
      "text/plain": [
       "  0%|          | 0/1000 [00:00<?, ?it/s]"
      ]
     },
     "metadata": {},
     "output_type": "display_data"
    },
    {
     "name": "stdout",
     "output_type": "stream",
     "text": [
      "  political_tweets\n"
     ]
    },
    {
     "data": {
      "application/vnd.jupyter.widget-view+json": {
       "model_id": "268320e021d84f8ba2c17e6b2f398305",
       "version_major": 2,
       "version_minor": 0
      },
      "text/plain": [
       "  0%|          | 0/1000 [00:00<?, ?it/s]"
      ]
     },
     "metadata": {},
     "output_type": "display_data"
    },
    {
     "name": "stdout",
     "output_type": "stream",
     "text": [
      "  qbias\n"
     ]
    },
    {
     "data": {
      "application/vnd.jupyter.widget-view+json": {
       "model_id": "82287f2ee4874ba1a8935b992fa7e471",
       "version_major": 2,
       "version_minor": 0
      },
      "text/plain": [
       "  0%|          | 0/1000 [00:00<?, ?it/s]"
      ]
     },
     "metadata": {},
     "output_type": "display_data"
    },
    {
     "name": "stdout",
     "output_type": "stream",
     "text": [
      "  webis_bias_flipper_18\n"
     ]
    },
    {
     "data": {
      "application/vnd.jupyter.widget-view+json": {
       "model_id": "4ca4126141c24885a77747942a46c7c6",
       "version_major": 2,
       "version_minor": 0
      },
      "text/plain": [
       "  0%|          | 0/1000 [00:00<?, ?it/s]"
      ]
     },
     "metadata": {},
     "output_type": "display_data"
    },
    {
     "name": "stdout",
     "output_type": "stream",
     "text": [
      "  webis_news_bias_20\n"
     ]
    },
    {
     "data": {
      "application/vnd.jupyter.widget-view+json": {
       "model_id": "c3cef60cc9ed4e7384034d0e1e8d55a6",
       "version_major": 2,
       "version_minor": 0
      },
      "text/plain": [
       "  0%|          | 0/1000 [00:00<?, ?it/s]"
      ]
     },
     "metadata": {},
     "output_type": "display_data"
    },
    {
     "name": "stdout",
     "output_type": "stream",
     "text": [
      "evaluating dataset_benchmark/leave_one_out/politicalness/bert-base-cased/recipes on:\n",
      "  article_bias_prediction\n"
     ]
    },
    {
     "data": {
      "application/vnd.jupyter.widget-view+json": {
       "model_id": "325d47bbb9bf4756a4a987089c4d8210",
       "version_major": 2,
       "version_minor": 0
      },
      "text/plain": [
       "  0%|          | 0/1000 [00:00<?, ?it/s]"
      ]
     },
     "metadata": {},
     "output_type": "display_data"
    },
    {
     "name": "stdout",
     "output_type": "stream",
     "text": [
      "  commoncrawl_news_articles\n"
     ]
    },
    {
     "data": {
      "application/vnd.jupyter.widget-view+json": {
       "model_id": "1fbbf9acc8544a908005b8c04a07699c",
       "version_major": 2,
       "version_minor": 0
      },
      "text/plain": [
       "  0%|          | 0/1000 [00:00<?, ?it/s]"
      ]
     },
     "metadata": {},
     "output_type": "display_data"
    },
    {
     "name": "stdout",
     "output_type": "stream",
     "text": [
      "  dem_rep_party_platform_topics\n"
     ]
    },
    {
     "data": {
      "application/vnd.jupyter.widget-view+json": {
       "model_id": "9639c88b1cad41cc9edf62fcc3b60146",
       "version_major": 2,
       "version_minor": 0
      },
      "text/plain": [
       "  0%|          | 0/1000 [00:00<?, ?it/s]"
      ]
     },
     "metadata": {},
     "output_type": "display_data"
    },
    {
     "name": "stdout",
     "output_type": "stream",
     "text": [
      "  gpt4_political_bias\n"
     ]
    },
    {
     "data": {
      "application/vnd.jupyter.widget-view+json": {
       "model_id": "91c1da42317f4d86b905e229dc6f80a0",
       "version_major": 2,
       "version_minor": 0
      },
      "text/plain": [
       "  0%|          | 0/612 [00:00<?, ?it/s]"
      ]
     },
     "metadata": {},
     "output_type": "display_data"
    },
    {
     "name": "stdout",
     "output_type": "stream",
     "text": [
      "  gpt4_political_ideologies\n"
     ]
    },
    {
     "data": {
      "application/vnd.jupyter.widget-view+json": {
       "model_id": "6110b9b29c0b4840a0ac3d1cdec6f8ee",
       "version_major": 2,
       "version_minor": 0
      },
      "text/plain": [
       "  0%|          | 0/1000 [00:00<?, ?it/s]"
      ]
     },
     "metadata": {},
     "output_type": "display_data"
    },
    {
     "name": "stdout",
     "output_type": "stream",
     "text": [
      "  media_political_stance\n"
     ]
    },
    {
     "data": {
      "application/vnd.jupyter.widget-view+json": {
       "model_id": "ba16feba9ad54fa89eb1d4c0ff99f1c4",
       "version_major": 2,
       "version_minor": 0
      },
      "text/plain": [
       "  0%|          | 0/1000 [00:00<?, ?it/s]"
      ]
     },
     "metadata": {},
     "output_type": "display_data"
    },
    {
     "name": "stdout",
     "output_type": "stream",
     "text": [
      "  parliament_speeches_2024\n"
     ]
    },
    {
     "data": {
      "application/vnd.jupyter.widget-view+json": {
       "model_id": "ed6193f6acb24804abd31d464752d2db",
       "version_major": 2,
       "version_minor": 0
      },
      "text/plain": [
       "  0%|          | 0/1000 [00:00<?, ?it/s]"
      ]
     },
     "metadata": {},
     "output_type": "display_data"
    },
    {
     "name": "stdout",
     "output_type": "stream",
     "text": [
      "  political_podcasts\n"
     ]
    },
    {
     "data": {
      "application/vnd.jupyter.widget-view+json": {
       "model_id": "7f37fdc91c6742da843d4b6ea44f038c",
       "version_major": 2,
       "version_minor": 0
      },
      "text/plain": [
       "  0%|          | 0/1000 [00:00<?, ?it/s]"
      ]
     },
     "metadata": {},
     "output_type": "display_data"
    },
    {
     "name": "stdout",
     "output_type": "stream",
     "text": [
      "  political_tweets\n"
     ]
    },
    {
     "data": {
      "application/vnd.jupyter.widget-view+json": {
       "model_id": "7b7e08ba02814e02a0b54c7ef3d3581e",
       "version_major": 2,
       "version_minor": 0
      },
      "text/plain": [
       "  0%|          | 0/1000 [00:00<?, ?it/s]"
      ]
     },
     "metadata": {},
     "output_type": "display_data"
    },
    {
     "name": "stdout",
     "output_type": "stream",
     "text": [
      "  qbias\n"
     ]
    },
    {
     "data": {
      "application/vnd.jupyter.widget-view+json": {
       "model_id": "608f55a504b048c9ad9775286f245740",
       "version_major": 2,
       "version_minor": 0
      },
      "text/plain": [
       "  0%|          | 0/1000 [00:00<?, ?it/s]"
      ]
     },
     "metadata": {},
     "output_type": "display_data"
    },
    {
     "name": "stdout",
     "output_type": "stream",
     "text": [
      "  webis_bias_flipper_18\n"
     ]
    },
    {
     "data": {
      "application/vnd.jupyter.widget-view+json": {
       "model_id": "885a03dcdbf34b1db7b5515c9b905ec0",
       "version_major": 2,
       "version_minor": 0
      },
      "text/plain": [
       "  0%|          | 0/1000 [00:00<?, ?it/s]"
      ]
     },
     "metadata": {},
     "output_type": "display_data"
    },
    {
     "name": "stdout",
     "output_type": "stream",
     "text": [
      "  webis_news_bias_20\n"
     ]
    },
    {
     "data": {
      "application/vnd.jupyter.widget-view+json": {
       "model_id": "f69c6c852a7e4954ae12f0a66ea7397e",
       "version_major": 2,
       "version_minor": 0
      },
      "text/plain": [
       "  0%|          | 0/1000 [00:00<?, ?it/s]"
      ]
     },
     "metadata": {},
     "output_type": "display_data"
    },
    {
     "name": "stdout",
     "output_type": "stream",
     "text": [
      "evaluating dataset_benchmark/leave_one_out/politicalness/bert-base-cased/reddit_comments on:\n",
      "  article_bias_prediction\n"
     ]
    },
    {
     "data": {
      "application/vnd.jupyter.widget-view+json": {
       "model_id": "9467481222a6426dac59f042c3aafa64",
       "version_major": 2,
       "version_minor": 0
      },
      "text/plain": [
       "  0%|          | 0/1000 [00:00<?, ?it/s]"
      ]
     },
     "metadata": {},
     "output_type": "display_data"
    },
    {
     "name": "stdout",
     "output_type": "stream",
     "text": [
      "  commoncrawl_news_articles\n"
     ]
    },
    {
     "data": {
      "application/vnd.jupyter.widget-view+json": {
       "model_id": "017157d1a5df4807b07ed856bc8e649b",
       "version_major": 2,
       "version_minor": 0
      },
      "text/plain": [
       "  0%|          | 0/1000 [00:00<?, ?it/s]"
      ]
     },
     "metadata": {},
     "output_type": "display_data"
    },
    {
     "name": "stdout",
     "output_type": "stream",
     "text": [
      "  dem_rep_party_platform_topics\n"
     ]
    },
    {
     "data": {
      "application/vnd.jupyter.widget-view+json": {
       "model_id": "cd9310bb98f04ef28e25e09ebd743b05",
       "version_major": 2,
       "version_minor": 0
      },
      "text/plain": [
       "  0%|          | 0/1000 [00:00<?, ?it/s]"
      ]
     },
     "metadata": {},
     "output_type": "display_data"
    },
    {
     "name": "stdout",
     "output_type": "stream",
     "text": [
      "  gpt4_political_bias\n"
     ]
    },
    {
     "data": {
      "application/vnd.jupyter.widget-view+json": {
       "model_id": "0dfa877a95a740dba0f8479a62d28764",
       "version_major": 2,
       "version_minor": 0
      },
      "text/plain": [
       "  0%|          | 0/612 [00:00<?, ?it/s]"
      ]
     },
     "metadata": {},
     "output_type": "display_data"
    },
    {
     "name": "stdout",
     "output_type": "stream",
     "text": [
      "  gpt4_political_ideologies\n"
     ]
    },
    {
     "data": {
      "application/vnd.jupyter.widget-view+json": {
       "model_id": "ab728c02ea5f42b1a2ac54a0eb4d5095",
       "version_major": 2,
       "version_minor": 0
      },
      "text/plain": [
       "  0%|          | 0/1000 [00:00<?, ?it/s]"
      ]
     },
     "metadata": {},
     "output_type": "display_data"
    },
    {
     "name": "stdout",
     "output_type": "stream",
     "text": [
      "  media_political_stance\n"
     ]
    },
    {
     "data": {
      "application/vnd.jupyter.widget-view+json": {
       "model_id": "8edd7c2b1be348358415be45d0ba94de",
       "version_major": 2,
       "version_minor": 0
      },
      "text/plain": [
       "  0%|          | 0/1000 [00:00<?, ?it/s]"
      ]
     },
     "metadata": {},
     "output_type": "display_data"
    },
    {
     "name": "stdout",
     "output_type": "stream",
     "text": [
      "  parliament_speeches_2024\n"
     ]
    },
    {
     "data": {
      "application/vnd.jupyter.widget-view+json": {
       "model_id": "79965357d18e450280f006b2c2732c0b",
       "version_major": 2,
       "version_minor": 0
      },
      "text/plain": [
       "  0%|          | 0/1000 [00:00<?, ?it/s]"
      ]
     },
     "metadata": {},
     "output_type": "display_data"
    },
    {
     "name": "stdout",
     "output_type": "stream",
     "text": [
      "  political_podcasts\n"
     ]
    },
    {
     "data": {
      "application/vnd.jupyter.widget-view+json": {
       "model_id": "2bef27d7d17f4913a0986578b43fb038",
       "version_major": 2,
       "version_minor": 0
      },
      "text/plain": [
       "  0%|          | 0/1000 [00:00<?, ?it/s]"
      ]
     },
     "metadata": {},
     "output_type": "display_data"
    },
    {
     "name": "stdout",
     "output_type": "stream",
     "text": [
      "  political_tweets\n"
     ]
    },
    {
     "data": {
      "application/vnd.jupyter.widget-view+json": {
       "model_id": "31c35626908047e9b8ade29579bddede",
       "version_major": 2,
       "version_minor": 0
      },
      "text/plain": [
       "  0%|          | 0/1000 [00:00<?, ?it/s]"
      ]
     },
     "metadata": {},
     "output_type": "display_data"
    },
    {
     "name": "stdout",
     "output_type": "stream",
     "text": [
      "  qbias\n"
     ]
    },
    {
     "data": {
      "application/vnd.jupyter.widget-view+json": {
       "model_id": "7519df925ed14f1a828de2d605b10e7c",
       "version_major": 2,
       "version_minor": 0
      },
      "text/plain": [
       "  0%|          | 0/1000 [00:00<?, ?it/s]"
      ]
     },
     "metadata": {},
     "output_type": "display_data"
    },
    {
     "name": "stdout",
     "output_type": "stream",
     "text": [
      "  webis_bias_flipper_18\n"
     ]
    },
    {
     "data": {
      "application/vnd.jupyter.widget-view+json": {
       "model_id": "ee2ada0ec4654428a0ec25dc1a83de91",
       "version_major": 2,
       "version_minor": 0
      },
      "text/plain": [
       "  0%|          | 0/1000 [00:00<?, ?it/s]"
      ]
     },
     "metadata": {},
     "output_type": "display_data"
    },
    {
     "name": "stdout",
     "output_type": "stream",
     "text": [
      "  webis_news_bias_20\n"
     ]
    },
    {
     "data": {
      "application/vnd.jupyter.widget-view+json": {
       "model_id": "a6df2dca76f94169a28af2ced3e7c8be",
       "version_major": 2,
       "version_minor": 0
      },
      "text/plain": [
       "  0%|          | 0/1000 [00:00<?, ?it/s]"
      ]
     },
     "metadata": {},
     "output_type": "display_data"
    },
    {
     "name": "stdout",
     "output_type": "stream",
     "text": [
      "evaluating dataset_benchmark/leave_one_out/politicalness/bert-base-cased/reddit_submissions on:\n",
      "  article_bias_prediction\n"
     ]
    },
    {
     "data": {
      "application/vnd.jupyter.widget-view+json": {
       "model_id": "911f6d4d6b2048b981f8c0b8f63859cf",
       "version_major": 2,
       "version_minor": 0
      },
      "text/plain": [
       "  0%|          | 0/1000 [00:00<?, ?it/s]"
      ]
     },
     "metadata": {},
     "output_type": "display_data"
    },
    {
     "name": "stdout",
     "output_type": "stream",
     "text": [
      "  commoncrawl_news_articles\n"
     ]
    },
    {
     "data": {
      "application/vnd.jupyter.widget-view+json": {
       "model_id": "bc06e9a54e32478dbbcc8b2362a1b4e9",
       "version_major": 2,
       "version_minor": 0
      },
      "text/plain": [
       "  0%|          | 0/1000 [00:00<?, ?it/s]"
      ]
     },
     "metadata": {},
     "output_type": "display_data"
    },
    {
     "name": "stdout",
     "output_type": "stream",
     "text": [
      "  dem_rep_party_platform_topics\n"
     ]
    },
    {
     "data": {
      "application/vnd.jupyter.widget-view+json": {
       "model_id": "f55700eeb28940c095177af10ee62b58",
       "version_major": 2,
       "version_minor": 0
      },
      "text/plain": [
       "  0%|          | 0/1000 [00:00<?, ?it/s]"
      ]
     },
     "metadata": {},
     "output_type": "display_data"
    },
    {
     "name": "stdout",
     "output_type": "stream",
     "text": [
      "  gpt4_political_bias\n"
     ]
    },
    {
     "data": {
      "application/vnd.jupyter.widget-view+json": {
       "model_id": "97cbce06b19c4c20afe52977e32f0bb0",
       "version_major": 2,
       "version_minor": 0
      },
      "text/plain": [
       "  0%|          | 0/612 [00:00<?, ?it/s]"
      ]
     },
     "metadata": {},
     "output_type": "display_data"
    },
    {
     "name": "stdout",
     "output_type": "stream",
     "text": [
      "  gpt4_political_ideologies\n"
     ]
    },
    {
     "data": {
      "application/vnd.jupyter.widget-view+json": {
       "model_id": "2035a55165e048d8a73f782b7ae1d11f",
       "version_major": 2,
       "version_minor": 0
      },
      "text/plain": [
       "  0%|          | 0/1000 [00:00<?, ?it/s]"
      ]
     },
     "metadata": {},
     "output_type": "display_data"
    },
    {
     "name": "stdout",
     "output_type": "stream",
     "text": [
      "  media_political_stance\n"
     ]
    },
    {
     "data": {
      "application/vnd.jupyter.widget-view+json": {
       "model_id": "7cce2eae07e542789ec5a31050e79d7f",
       "version_major": 2,
       "version_minor": 0
      },
      "text/plain": [
       "  0%|          | 0/1000 [00:00<?, ?it/s]"
      ]
     },
     "metadata": {},
     "output_type": "display_data"
    },
    {
     "name": "stdout",
     "output_type": "stream",
     "text": [
      "  parliament_speeches_2024\n"
     ]
    },
    {
     "data": {
      "application/vnd.jupyter.widget-view+json": {
       "model_id": "64f39016f5bd433ea124e543edd29b91",
       "version_major": 2,
       "version_minor": 0
      },
      "text/plain": [
       "  0%|          | 0/1000 [00:00<?, ?it/s]"
      ]
     },
     "metadata": {},
     "output_type": "display_data"
    },
    {
     "name": "stdout",
     "output_type": "stream",
     "text": [
      "  political_podcasts\n"
     ]
    },
    {
     "data": {
      "application/vnd.jupyter.widget-view+json": {
       "model_id": "c7a68d7bdb3a465ba05e6349e21b2c85",
       "version_major": 2,
       "version_minor": 0
      },
      "text/plain": [
       "  0%|          | 0/1000 [00:00<?, ?it/s]"
      ]
     },
     "metadata": {},
     "output_type": "display_data"
    },
    {
     "name": "stdout",
     "output_type": "stream",
     "text": [
      "  political_tweets\n"
     ]
    },
    {
     "data": {
      "application/vnd.jupyter.widget-view+json": {
       "model_id": "b1b7daecc4a948528c61698c551fbc09",
       "version_major": 2,
       "version_minor": 0
      },
      "text/plain": [
       "  0%|          | 0/1000 [00:00<?, ?it/s]"
      ]
     },
     "metadata": {},
     "output_type": "display_data"
    },
    {
     "name": "stdout",
     "output_type": "stream",
     "text": [
      "  qbias\n"
     ]
    },
    {
     "data": {
      "application/vnd.jupyter.widget-view+json": {
       "model_id": "da96aed70e7947ed96a8583fca0c6758",
       "version_major": 2,
       "version_minor": 0
      },
      "text/plain": [
       "  0%|          | 0/1000 [00:00<?, ?it/s]"
      ]
     },
     "metadata": {},
     "output_type": "display_data"
    },
    {
     "name": "stdout",
     "output_type": "stream",
     "text": [
      "  webis_bias_flipper_18\n"
     ]
    },
    {
     "data": {
      "application/vnd.jupyter.widget-view+json": {
       "model_id": "6892f629ec0e4eaab12a9b1fa8b9809a",
       "version_major": 2,
       "version_minor": 0
      },
      "text/plain": [
       "  0%|          | 0/1000 [00:00<?, ?it/s]"
      ]
     },
     "metadata": {},
     "output_type": "display_data"
    },
    {
     "name": "stdout",
     "output_type": "stream",
     "text": [
      "  webis_news_bias_20\n"
     ]
    },
    {
     "data": {
      "application/vnd.jupyter.widget-view+json": {
       "model_id": "b1f6eeca6d6542eda433cdb43c4df98a",
       "version_major": 2,
       "version_minor": 0
      },
      "text/plain": [
       "  0%|          | 0/1000 [00:00<?, ?it/s]"
      ]
     },
     "metadata": {},
     "output_type": "display_data"
    },
    {
     "name": "stdout",
     "output_type": "stream",
     "text": [
      "evaluating dataset_benchmark/leave_one_out/politicalness/bert-base-cased/rotten_tomatoes on:\n",
      "  article_bias_prediction\n"
     ]
    },
    {
     "data": {
      "application/vnd.jupyter.widget-view+json": {
       "model_id": "1b9b5055b0834b59b2ba8909426cd4c1",
       "version_major": 2,
       "version_minor": 0
      },
      "text/plain": [
       "  0%|          | 0/1000 [00:00<?, ?it/s]"
      ]
     },
     "metadata": {},
     "output_type": "display_data"
    },
    {
     "name": "stdout",
     "output_type": "stream",
     "text": [
      "  commoncrawl_news_articles\n"
     ]
    },
    {
     "data": {
      "application/vnd.jupyter.widget-view+json": {
       "model_id": "4533ca704a5c4c91917802853e1ef63b",
       "version_major": 2,
       "version_minor": 0
      },
      "text/plain": [
       "  0%|          | 0/1000 [00:00<?, ?it/s]"
      ]
     },
     "metadata": {},
     "output_type": "display_data"
    },
    {
     "name": "stdout",
     "output_type": "stream",
     "text": [
      "  dem_rep_party_platform_topics\n"
     ]
    },
    {
     "data": {
      "application/vnd.jupyter.widget-view+json": {
       "model_id": "a98aa13cccd14b1db6cf7275bad18cf5",
       "version_major": 2,
       "version_minor": 0
      },
      "text/plain": [
       "  0%|          | 0/1000 [00:00<?, ?it/s]"
      ]
     },
     "metadata": {},
     "output_type": "display_data"
    },
    {
     "name": "stdout",
     "output_type": "stream",
     "text": [
      "  gpt4_political_bias\n"
     ]
    },
    {
     "data": {
      "application/vnd.jupyter.widget-view+json": {
       "model_id": "2bf9b093daf94def84cbb190738904d8",
       "version_major": 2,
       "version_minor": 0
      },
      "text/plain": [
       "  0%|          | 0/612 [00:00<?, ?it/s]"
      ]
     },
     "metadata": {},
     "output_type": "display_data"
    },
    {
     "name": "stdout",
     "output_type": "stream",
     "text": [
      "  gpt4_political_ideologies\n"
     ]
    },
    {
     "data": {
      "application/vnd.jupyter.widget-view+json": {
       "model_id": "b9a70f5d05114acfb71e27c2d2f3c05a",
       "version_major": 2,
       "version_minor": 0
      },
      "text/plain": [
       "  0%|          | 0/1000 [00:00<?, ?it/s]"
      ]
     },
     "metadata": {},
     "output_type": "display_data"
    },
    {
     "name": "stdout",
     "output_type": "stream",
     "text": [
      "  media_political_stance\n"
     ]
    },
    {
     "data": {
      "application/vnd.jupyter.widget-view+json": {
       "model_id": "ec84f3c92ae046798163d6fd2d17a5bd",
       "version_major": 2,
       "version_minor": 0
      },
      "text/plain": [
       "  0%|          | 0/1000 [00:00<?, ?it/s]"
      ]
     },
     "metadata": {},
     "output_type": "display_data"
    },
    {
     "name": "stdout",
     "output_type": "stream",
     "text": [
      "  parliament_speeches_2024\n"
     ]
    },
    {
     "data": {
      "application/vnd.jupyter.widget-view+json": {
       "model_id": "2128264b58ae4f59931d7ed1b6700e86",
       "version_major": 2,
       "version_minor": 0
      },
      "text/plain": [
       "  0%|          | 0/1000 [00:00<?, ?it/s]"
      ]
     },
     "metadata": {},
     "output_type": "display_data"
    },
    {
     "name": "stdout",
     "output_type": "stream",
     "text": [
      "  political_podcasts\n"
     ]
    },
    {
     "data": {
      "application/vnd.jupyter.widget-view+json": {
       "model_id": "bc3637a5231d45908e52a12063e1f08c",
       "version_major": 2,
       "version_minor": 0
      },
      "text/plain": [
       "  0%|          | 0/1000 [00:00<?, ?it/s]"
      ]
     },
     "metadata": {},
     "output_type": "display_data"
    },
    {
     "name": "stdout",
     "output_type": "stream",
     "text": [
      "  political_tweets\n"
     ]
    },
    {
     "data": {
      "application/vnd.jupyter.widget-view+json": {
       "model_id": "b38dee6f733247e9b70292d56d0b12e4",
       "version_major": 2,
       "version_minor": 0
      },
      "text/plain": [
       "  0%|          | 0/1000 [00:00<?, ?it/s]"
      ]
     },
     "metadata": {},
     "output_type": "display_data"
    },
    {
     "name": "stdout",
     "output_type": "stream",
     "text": [
      "  qbias\n"
     ]
    },
    {
     "data": {
      "application/vnd.jupyter.widget-view+json": {
       "model_id": "a9617883c97c4019b85d91c6f357ecbb",
       "version_major": 2,
       "version_minor": 0
      },
      "text/plain": [
       "  0%|          | 0/1000 [00:00<?, ?it/s]"
      ]
     },
     "metadata": {},
     "output_type": "display_data"
    },
    {
     "name": "stdout",
     "output_type": "stream",
     "text": [
      "  webis_bias_flipper_18\n"
     ]
    },
    {
     "data": {
      "application/vnd.jupyter.widget-view+json": {
       "model_id": "c2fdaa021069425c8b063fbed96ce449",
       "version_major": 2,
       "version_minor": 0
      },
      "text/plain": [
       "  0%|          | 0/1000 [00:00<?, ?it/s]"
      ]
     },
     "metadata": {},
     "output_type": "display_data"
    },
    {
     "name": "stdout",
     "output_type": "stream",
     "text": [
      "  webis_news_bias_20\n"
     ]
    },
    {
     "data": {
      "application/vnd.jupyter.widget-view+json": {
       "model_id": "eb03bb7db5824ed79b939d0372198092",
       "version_major": 2,
       "version_minor": 0
      },
      "text/plain": [
       "  0%|          | 0/1000 [00:00<?, ?it/s]"
      ]
     },
     "metadata": {},
     "output_type": "display_data"
    },
    {
     "name": "stdout",
     "output_type": "stream",
     "text": [
      "evaluating dataset_benchmark/leave_one_out/politicalness/bert-base-cased/textbooks on:\n",
      "  article_bias_prediction\n"
     ]
    },
    {
     "data": {
      "application/vnd.jupyter.widget-view+json": {
       "model_id": "454902e3adb74d57bced6744c199a7ec",
       "version_major": 2,
       "version_minor": 0
      },
      "text/plain": [
       "  0%|          | 0/1000 [00:00<?, ?it/s]"
      ]
     },
     "metadata": {},
     "output_type": "display_data"
    },
    {
     "name": "stdout",
     "output_type": "stream",
     "text": [
      "  commoncrawl_news_articles\n"
     ]
    },
    {
     "data": {
      "application/vnd.jupyter.widget-view+json": {
       "model_id": "6bdfee98275149949a338f72b9040bfb",
       "version_major": 2,
       "version_minor": 0
      },
      "text/plain": [
       "  0%|          | 0/1000 [00:00<?, ?it/s]"
      ]
     },
     "metadata": {},
     "output_type": "display_data"
    },
    {
     "name": "stdout",
     "output_type": "stream",
     "text": [
      "  dem_rep_party_platform_topics\n"
     ]
    },
    {
     "data": {
      "application/vnd.jupyter.widget-view+json": {
       "model_id": "aa268d3504be45ff9b2384d5965b1719",
       "version_major": 2,
       "version_minor": 0
      },
      "text/plain": [
       "  0%|          | 0/1000 [00:00<?, ?it/s]"
      ]
     },
     "metadata": {},
     "output_type": "display_data"
    },
    {
     "name": "stdout",
     "output_type": "stream",
     "text": [
      "  gpt4_political_bias\n"
     ]
    },
    {
     "data": {
      "application/vnd.jupyter.widget-view+json": {
       "model_id": "bee1d46066ce40b1a891253f85c877e6",
       "version_major": 2,
       "version_minor": 0
      },
      "text/plain": [
       "  0%|          | 0/612 [00:00<?, ?it/s]"
      ]
     },
     "metadata": {},
     "output_type": "display_data"
    },
    {
     "name": "stdout",
     "output_type": "stream",
     "text": [
      "  gpt4_political_ideologies\n"
     ]
    },
    {
     "data": {
      "application/vnd.jupyter.widget-view+json": {
       "model_id": "4a9445ef6e1b40219eb69d4e4bf0f149",
       "version_major": 2,
       "version_minor": 0
      },
      "text/plain": [
       "  0%|          | 0/1000 [00:00<?, ?it/s]"
      ]
     },
     "metadata": {},
     "output_type": "display_data"
    },
    {
     "name": "stdout",
     "output_type": "stream",
     "text": [
      "  media_political_stance\n"
     ]
    },
    {
     "data": {
      "application/vnd.jupyter.widget-view+json": {
       "model_id": "da2d693a3c574c869fe00ee53c1b8b64",
       "version_major": 2,
       "version_minor": 0
      },
      "text/plain": [
       "  0%|          | 0/1000 [00:00<?, ?it/s]"
      ]
     },
     "metadata": {},
     "output_type": "display_data"
    },
    {
     "name": "stdout",
     "output_type": "stream",
     "text": [
      "  parliament_speeches_2024\n"
     ]
    },
    {
     "data": {
      "application/vnd.jupyter.widget-view+json": {
       "model_id": "2eb2b88acb1b4bc28d7c7225df25d22e",
       "version_major": 2,
       "version_minor": 0
      },
      "text/plain": [
       "  0%|          | 0/1000 [00:00<?, ?it/s]"
      ]
     },
     "metadata": {},
     "output_type": "display_data"
    },
    {
     "name": "stdout",
     "output_type": "stream",
     "text": [
      "  political_podcasts\n"
     ]
    },
    {
     "data": {
      "application/vnd.jupyter.widget-view+json": {
       "model_id": "cbbbdcac30b444018e9fd3c554a1afd1",
       "version_major": 2,
       "version_minor": 0
      },
      "text/plain": [
       "  0%|          | 0/1000 [00:00<?, ?it/s]"
      ]
     },
     "metadata": {},
     "output_type": "display_data"
    },
    {
     "name": "stdout",
     "output_type": "stream",
     "text": [
      "  political_tweets\n"
     ]
    },
    {
     "data": {
      "application/vnd.jupyter.widget-view+json": {
       "model_id": "c361a30304b248c482261a79c61e3bd6",
       "version_major": 2,
       "version_minor": 0
      },
      "text/plain": [
       "  0%|          | 0/1000 [00:00<?, ?it/s]"
      ]
     },
     "metadata": {},
     "output_type": "display_data"
    },
    {
     "name": "stdout",
     "output_type": "stream",
     "text": [
      "  qbias\n"
     ]
    },
    {
     "data": {
      "application/vnd.jupyter.widget-view+json": {
       "model_id": "0a1cbf24921f497aa6c889030e3660c1",
       "version_major": 2,
       "version_minor": 0
      },
      "text/plain": [
       "  0%|          | 0/1000 [00:00<?, ?it/s]"
      ]
     },
     "metadata": {},
     "output_type": "display_data"
    },
    {
     "name": "stdout",
     "output_type": "stream",
     "text": [
      "  webis_bias_flipper_18\n"
     ]
    },
    {
     "data": {
      "application/vnd.jupyter.widget-view+json": {
       "model_id": "974da674ac4549a6bc14a20fddb40a53",
       "version_major": 2,
       "version_minor": 0
      },
      "text/plain": [
       "  0%|          | 0/1000 [00:00<?, ?it/s]"
      ]
     },
     "metadata": {},
     "output_type": "display_data"
    },
    {
     "name": "stdout",
     "output_type": "stream",
     "text": [
      "  webis_news_bias_20\n"
     ]
    },
    {
     "data": {
      "application/vnd.jupyter.widget-view+json": {
       "model_id": "06ba4423ea38475fa7f1328624722afc",
       "version_major": 2,
       "version_minor": 0
      },
      "text/plain": [
       "  0%|          | 0/1000 [00:00<?, ?it/s]"
      ]
     },
     "metadata": {},
     "output_type": "display_data"
    },
    {
     "name": "stdout",
     "output_type": "stream",
     "text": [
      "evaluating dataset_benchmark/leave_one_out/politicalness/bert-base-cased/tweet_topic_multi on:\n",
      "  article_bias_prediction\n"
     ]
    },
    {
     "data": {
      "application/vnd.jupyter.widget-view+json": {
       "model_id": "87c313da917a4681bd5d966bd75dddb4",
       "version_major": 2,
       "version_minor": 0
      },
      "text/plain": [
       "  0%|          | 0/1000 [00:00<?, ?it/s]"
      ]
     },
     "metadata": {},
     "output_type": "display_data"
    },
    {
     "name": "stdout",
     "output_type": "stream",
     "text": [
      "  commoncrawl_news_articles\n"
     ]
    },
    {
     "data": {
      "application/vnd.jupyter.widget-view+json": {
       "model_id": "d4937980335a447093447f7797bf9ea8",
       "version_major": 2,
       "version_minor": 0
      },
      "text/plain": [
       "  0%|          | 0/1000 [00:00<?, ?it/s]"
      ]
     },
     "metadata": {},
     "output_type": "display_data"
    },
    {
     "name": "stdout",
     "output_type": "stream",
     "text": [
      "  dem_rep_party_platform_topics\n"
     ]
    },
    {
     "data": {
      "application/vnd.jupyter.widget-view+json": {
       "model_id": "d7bc06786caf4d6089c6cff5dfd87474",
       "version_major": 2,
       "version_minor": 0
      },
      "text/plain": [
       "  0%|          | 0/1000 [00:00<?, ?it/s]"
      ]
     },
     "metadata": {},
     "output_type": "display_data"
    },
    {
     "name": "stdout",
     "output_type": "stream",
     "text": [
      "  gpt4_political_bias\n"
     ]
    },
    {
     "data": {
      "application/vnd.jupyter.widget-view+json": {
       "model_id": "e06f69cf368d40e6a79b3518073d2225",
       "version_major": 2,
       "version_minor": 0
      },
      "text/plain": [
       "  0%|          | 0/612 [00:00<?, ?it/s]"
      ]
     },
     "metadata": {},
     "output_type": "display_data"
    },
    {
     "name": "stdout",
     "output_type": "stream",
     "text": [
      "  gpt4_political_ideologies\n"
     ]
    },
    {
     "data": {
      "application/vnd.jupyter.widget-view+json": {
       "model_id": "c7a0954ec222432c921214cb1d9709f8",
       "version_major": 2,
       "version_minor": 0
      },
      "text/plain": [
       "  0%|          | 0/1000 [00:00<?, ?it/s]"
      ]
     },
     "metadata": {},
     "output_type": "display_data"
    },
    {
     "name": "stdout",
     "output_type": "stream",
     "text": [
      "  media_political_stance\n"
     ]
    },
    {
     "data": {
      "application/vnd.jupyter.widget-view+json": {
       "model_id": "4837a05b59e64e02a7659b41c0cd8d34",
       "version_major": 2,
       "version_minor": 0
      },
      "text/plain": [
       "  0%|          | 0/1000 [00:00<?, ?it/s]"
      ]
     },
     "metadata": {},
     "output_type": "display_data"
    },
    {
     "name": "stdout",
     "output_type": "stream",
     "text": [
      "  parliament_speeches_2024\n"
     ]
    },
    {
     "data": {
      "application/vnd.jupyter.widget-view+json": {
       "model_id": "033a8209871e4bf9b696b9b4479f4800",
       "version_major": 2,
       "version_minor": 0
      },
      "text/plain": [
       "  0%|          | 0/1000 [00:00<?, ?it/s]"
      ]
     },
     "metadata": {},
     "output_type": "display_data"
    },
    {
     "name": "stdout",
     "output_type": "stream",
     "text": [
      "  political_podcasts\n"
     ]
    },
    {
     "data": {
      "application/vnd.jupyter.widget-view+json": {
       "model_id": "098134da434a482b82711f86acb10e0c",
       "version_major": 2,
       "version_minor": 0
      },
      "text/plain": [
       "  0%|          | 0/1000 [00:00<?, ?it/s]"
      ]
     },
     "metadata": {},
     "output_type": "display_data"
    },
    {
     "name": "stdout",
     "output_type": "stream",
     "text": [
      "  political_tweets\n"
     ]
    },
    {
     "data": {
      "application/vnd.jupyter.widget-view+json": {
       "model_id": "676738aaa0c14029977ee90079d03d2a",
       "version_major": 2,
       "version_minor": 0
      },
      "text/plain": [
       "  0%|          | 0/1000 [00:00<?, ?it/s]"
      ]
     },
     "metadata": {},
     "output_type": "display_data"
    },
    {
     "name": "stdout",
     "output_type": "stream",
     "text": [
      "  qbias\n"
     ]
    },
    {
     "data": {
      "application/vnd.jupyter.widget-view+json": {
       "model_id": "5c6222b9bf8346adaaffc1b105566d8d",
       "version_major": 2,
       "version_minor": 0
      },
      "text/plain": [
       "  0%|          | 0/1000 [00:00<?, ?it/s]"
      ]
     },
     "metadata": {},
     "output_type": "display_data"
    },
    {
     "name": "stdout",
     "output_type": "stream",
     "text": [
      "  webis_bias_flipper_18\n"
     ]
    },
    {
     "data": {
      "application/vnd.jupyter.widget-view+json": {
       "model_id": "bd8a7c2103334eba83d55720552c6672",
       "version_major": 2,
       "version_minor": 0
      },
      "text/plain": [
       "  0%|          | 0/1000 [00:00<?, ?it/s]"
      ]
     },
     "metadata": {},
     "output_type": "display_data"
    },
    {
     "name": "stdout",
     "output_type": "stream",
     "text": [
      "  webis_news_bias_20\n"
     ]
    },
    {
     "data": {
      "application/vnd.jupyter.widget-view+json": {
       "model_id": "395bb740afb14c6bbfe384c12538ea40",
       "version_major": 2,
       "version_minor": 0
      },
      "text/plain": [
       "  0%|          | 0/1000 [00:00<?, ?it/s]"
      ]
     },
     "metadata": {},
     "output_type": "display_data"
    },
    {
     "name": "stdout",
     "output_type": "stream",
     "text": [
      "evaluating dataset_benchmark/leave_one_out/politicalness/bert-base-cased/yelp_review_full on:\n",
      "  article_bias_prediction\n"
     ]
    },
    {
     "data": {
      "application/vnd.jupyter.widget-view+json": {
       "model_id": "32db7996a4704c86943443b45a063e0d",
       "version_major": 2,
       "version_minor": 0
      },
      "text/plain": [
       "  0%|          | 0/1000 [00:00<?, ?it/s]"
      ]
     },
     "metadata": {},
     "output_type": "display_data"
    },
    {
     "name": "stdout",
     "output_type": "stream",
     "text": [
      "  commoncrawl_news_articles\n"
     ]
    },
    {
     "data": {
      "application/vnd.jupyter.widget-view+json": {
       "model_id": "63baf71df5524881b0094162666877ef",
       "version_major": 2,
       "version_minor": 0
      },
      "text/plain": [
       "  0%|          | 0/1000 [00:00<?, ?it/s]"
      ]
     },
     "metadata": {},
     "output_type": "display_data"
    },
    {
     "name": "stdout",
     "output_type": "stream",
     "text": [
      "  dem_rep_party_platform_topics\n"
     ]
    },
    {
     "data": {
      "application/vnd.jupyter.widget-view+json": {
       "model_id": "f09e174fa0664fb2a9f0b31cd1ccc4e6",
       "version_major": 2,
       "version_minor": 0
      },
      "text/plain": [
       "  0%|          | 0/1000 [00:00<?, ?it/s]"
      ]
     },
     "metadata": {},
     "output_type": "display_data"
    },
    {
     "name": "stdout",
     "output_type": "stream",
     "text": [
      "  gpt4_political_bias\n"
     ]
    },
    {
     "data": {
      "application/vnd.jupyter.widget-view+json": {
       "model_id": "fa597794daea4b758b128b355b27597f",
       "version_major": 2,
       "version_minor": 0
      },
      "text/plain": [
       "  0%|          | 0/612 [00:00<?, ?it/s]"
      ]
     },
     "metadata": {},
     "output_type": "display_data"
    },
    {
     "name": "stdout",
     "output_type": "stream",
     "text": [
      "  gpt4_political_ideologies\n"
     ]
    },
    {
     "data": {
      "application/vnd.jupyter.widget-view+json": {
       "model_id": "edd28f01f295424cbc43c26022ff3fa7",
       "version_major": 2,
       "version_minor": 0
      },
      "text/plain": [
       "  0%|          | 0/1000 [00:00<?, ?it/s]"
      ]
     },
     "metadata": {},
     "output_type": "display_data"
    },
    {
     "name": "stdout",
     "output_type": "stream",
     "text": [
      "  media_political_stance\n"
     ]
    },
    {
     "data": {
      "application/vnd.jupyter.widget-view+json": {
       "model_id": "db21d5ff2f864d6bba2082aa5679f9be",
       "version_major": 2,
       "version_minor": 0
      },
      "text/plain": [
       "  0%|          | 0/1000 [00:00<?, ?it/s]"
      ]
     },
     "metadata": {},
     "output_type": "display_data"
    },
    {
     "name": "stdout",
     "output_type": "stream",
     "text": [
      "  parliament_speeches_2024\n"
     ]
    },
    {
     "data": {
      "application/vnd.jupyter.widget-view+json": {
       "model_id": "0c0cd78ef25448cc83578668fe5846e7",
       "version_major": 2,
       "version_minor": 0
      },
      "text/plain": [
       "  0%|          | 0/1000 [00:00<?, ?it/s]"
      ]
     },
     "metadata": {},
     "output_type": "display_data"
    },
    {
     "name": "stdout",
     "output_type": "stream",
     "text": [
      "  political_podcasts\n"
     ]
    },
    {
     "data": {
      "application/vnd.jupyter.widget-view+json": {
       "model_id": "655bf0b7588f46bd99dd395fc8367fb8",
       "version_major": 2,
       "version_minor": 0
      },
      "text/plain": [
       "  0%|          | 0/1000 [00:00<?, ?it/s]"
      ]
     },
     "metadata": {},
     "output_type": "display_data"
    },
    {
     "name": "stdout",
     "output_type": "stream",
     "text": [
      "  political_tweets\n"
     ]
    },
    {
     "data": {
      "application/vnd.jupyter.widget-view+json": {
       "model_id": "b5e6dcbfc3ee4ff480e7db77976f1d67",
       "version_major": 2,
       "version_minor": 0
      },
      "text/plain": [
       "  0%|          | 0/1000 [00:00<?, ?it/s]"
      ]
     },
     "metadata": {},
     "output_type": "display_data"
    },
    {
     "name": "stdout",
     "output_type": "stream",
     "text": [
      "  qbias\n"
     ]
    },
    {
     "data": {
      "application/vnd.jupyter.widget-view+json": {
       "model_id": "33ce663254a844429ab076039522df01",
       "version_major": 2,
       "version_minor": 0
      },
      "text/plain": [
       "  0%|          | 0/1000 [00:00<?, ?it/s]"
      ]
     },
     "metadata": {},
     "output_type": "display_data"
    },
    {
     "name": "stdout",
     "output_type": "stream",
     "text": [
      "  webis_bias_flipper_18\n"
     ]
    },
    {
     "data": {
      "application/vnd.jupyter.widget-view+json": {
       "model_id": "78929a66fd034b4485c09fe99185dadb",
       "version_major": 2,
       "version_minor": 0
      },
      "text/plain": [
       "  0%|          | 0/1000 [00:00<?, ?it/s]"
      ]
     },
     "metadata": {},
     "output_type": "display_data"
    },
    {
     "name": "stdout",
     "output_type": "stream",
     "text": [
      "  webis_news_bias_20\n"
     ]
    },
    {
     "data": {
      "application/vnd.jupyter.widget-view+json": {
       "model_id": "f8987ce0e6b240a8864f34d4d8c5941a",
       "version_major": 2,
       "version_minor": 0
      },
      "text/plain": [
       "  0%|          | 0/1000 [00:00<?, ?it/s]"
      ]
     },
     "metadata": {},
     "output_type": "display_data"
    },
    {
     "data": {
      "text/html": [
       "<div>\n",
       "<style scoped>\n",
       "    .dataframe tbody tr th:only-of-type {\n",
       "        vertical-align: middle;\n",
       "    }\n",
       "\n",
       "    .dataframe tbody tr th {\n",
       "        vertical-align: top;\n",
       "    }\n",
       "\n",
       "    .dataframe thead th {\n",
       "        text-align: right;\n",
       "    }\n",
       "</style>\n",
       "<table border=\"1\" class=\"dataframe\">\n",
       "  <thead>\n",
       "    <tr style=\"text-align: right;\">\n",
       "      <th></th>\n",
       "      <th>article_bias_prediction</th>\n",
       "      <th>commoncrawl_news_articles</th>\n",
       "      <th>dem_rep_party_platform_topics</th>\n",
       "      <th>gpt4_political_bias</th>\n",
       "      <th>gpt4_political_ideologies</th>\n",
       "      <th>media_political_stance</th>\n",
       "      <th>parliament_speeches_2024</th>\n",
       "      <th>political_podcasts</th>\n",
       "      <th>political_tweets</th>\n",
       "      <th>qbias</th>\n",
       "      <th>webis_bias_flipper_18</th>\n",
       "      <th>webis_news_bias_20</th>\n",
       "      <th>average</th>\n",
       "    </tr>\n",
       "  </thead>\n",
       "  <tbody>\n",
       "    <tr>\n",
       "      <th>dataset_benchmark/leave_one_out/politicalness/bert-base-cased/amazon_reviews_2023</th>\n",
       "      <td>999 / 1000 (100 %)</td>\n",
       "      <td>851 / 1000 (85 %)</td>\n",
       "      <td>974 / 1000 (97 %)</td>\n",
       "      <td>612 / 612 (100 %)</td>\n",
       "      <td>1000 / 1000 (100 %)</td>\n",
       "      <td>945 / 1000 (94 %)</td>\n",
       "      <td>989 / 1000 (99 %)</td>\n",
       "      <td>986 / 1000 (99 %)</td>\n",
       "      <td>972 / 1000 (97 %)</td>\n",
       "      <td>979 / 1000 (98 %)</td>\n",
       "      <td>988 / 1000 (99 %)</td>\n",
       "      <td>993 / 1000 (99 %)</td>\n",
       "      <td>11288 / 11612 (97 %)</td>\n",
       "    </tr>\n",
       "    <tr>\n",
       "      <th>dataset_benchmark/leave_one_out/politicalness/bert-base-cased/article_bias_prediction</th>\n",
       "      <td>996 / 1000 (100 %)</td>\n",
       "      <td>896 / 1000 (90 %)</td>\n",
       "      <td>982 / 1000 (98 %)</td>\n",
       "      <td>612 / 612 (100 %)</td>\n",
       "      <td>1000 / 1000 (100 %)</td>\n",
       "      <td>968 / 1000 (97 %)</td>\n",
       "      <td>998 / 1000 (100 %)</td>\n",
       "      <td>990 / 1000 (99 %)</td>\n",
       "      <td>983 / 1000 (98 %)</td>\n",
       "      <td>981 / 1000 (98 %)</td>\n",
       "      <td>984 / 1000 (98 %)</td>\n",
       "      <td>992 / 1000 (99 %)</td>\n",
       "      <td>10386 / 10612 (98 %)</td>\n",
       "    </tr>\n",
       "    <tr>\n",
       "      <th>dataset_benchmark/leave_one_out/politicalness/bert-base-cased/commoncrawl_news_articles</th>\n",
       "      <td>995 / 1000 (100 %)</td>\n",
       "      <td>738 / 1000 (74 %)</td>\n",
       "      <td>988 / 1000 (99 %)</td>\n",
       "      <td>612 / 612 (100 %)</td>\n",
       "      <td>1000 / 1000 (100 %)</td>\n",
       "      <td>968 / 1000 (97 %)</td>\n",
       "      <td>998 / 1000 (100 %)</td>\n",
       "      <td>992 / 1000 (99 %)</td>\n",
       "      <td>979 / 1000 (98 %)</td>\n",
       "      <td>988 / 1000 (99 %)</td>\n",
       "      <td>988 / 1000 (99 %)</td>\n",
       "      <td>993 / 1000 (99 %)</td>\n",
       "      <td>10501 / 10612 (99 %)</td>\n",
       "    </tr>\n",
       "    <tr>\n",
       "      <th>dataset_benchmark/leave_one_out/politicalness/bert-base-cased/dem_rep_party_platform_topics</th>\n",
       "      <td>998 / 1000 (100 %)</td>\n",
       "      <td>894 / 1000 (89 %)</td>\n",
       "      <td>950 / 1000 (95 %)</td>\n",
       "      <td>612 / 612 (100 %)</td>\n",
       "      <td>1000 / 1000 (100 %)</td>\n",
       "      <td>970 / 1000 (97 %)</td>\n",
       "      <td>996 / 1000 (100 %)</td>\n",
       "      <td>991 / 1000 (99 %)</td>\n",
       "      <td>983 / 1000 (98 %)</td>\n",
       "      <td>976 / 1000 (98 %)</td>\n",
       "      <td>984 / 1000 (98 %)</td>\n",
       "      <td>994 / 1000 (99 %)</td>\n",
       "      <td>10398 / 10612 (98 %)</td>\n",
       "    </tr>\n",
       "    <tr>\n",
       "      <th>dataset_benchmark/leave_one_out/politicalness/bert-base-cased/dialogsum</th>\n",
       "      <td>998 / 1000 (100 %)</td>\n",
       "      <td>895 / 1000 (90 %)</td>\n",
       "      <td>985 / 1000 (98 %)</td>\n",
       "      <td>612 / 612 (100 %)</td>\n",
       "      <td>1000 / 1000 (100 %)</td>\n",
       "      <td>958 / 1000 (96 %)</td>\n",
       "      <td>999 / 1000 (100 %)</td>\n",
       "      <td>989 / 1000 (99 %)</td>\n",
       "      <td>977 / 1000 (98 %)</td>\n",
       "      <td>976 / 1000 (98 %)</td>\n",
       "      <td>981 / 1000 (98 %)</td>\n",
       "      <td>996 / 1000 (100 %)</td>\n",
       "      <td>11366 / 11612 (98 %)</td>\n",
       "    </tr>\n",
       "    <tr>\n",
       "      <th>dataset_benchmark/leave_one_out/politicalness/bert-base-cased/free_news</th>\n",
       "      <td>997 / 1000 (100 %)</td>\n",
       "      <td>883 / 1000 (88 %)</td>\n",
       "      <td>965 / 1000 (96 %)</td>\n",
       "      <td>609 / 612 (100 %)</td>\n",
       "      <td>1000 / 1000 (100 %)</td>\n",
       "      <td>944 / 1000 (94 %)</td>\n",
       "      <td>995 / 1000 (100 %)</td>\n",
       "      <td>977 / 1000 (98 %)</td>\n",
       "      <td>966 / 1000 (97 %)</td>\n",
       "      <td>973 / 1000 (97 %)</td>\n",
       "      <td>981 / 1000 (98 %)</td>\n",
       "      <td>991 / 1000 (99 %)</td>\n",
       "      <td>11281 / 11612 (97 %)</td>\n",
       "    </tr>\n",
       "    <tr>\n",
       "      <th>dataset_benchmark/leave_one_out/politicalness/bert-base-cased/goodreads_book_genres</th>\n",
       "      <td>1000 / 1000 (100 %)</td>\n",
       "      <td>869 / 1000 (87 %)</td>\n",
       "      <td>988 / 1000 (99 %)</td>\n",
       "      <td>612 / 612 (100 %)</td>\n",
       "      <td>999 / 1000 (100 %)</td>\n",
       "      <td>945 / 1000 (94 %)</td>\n",
       "      <td>992 / 1000 (99 %)</td>\n",
       "      <td>982 / 1000 (98 %)</td>\n",
       "      <td>974 / 1000 (97 %)</td>\n",
       "      <td>982 / 1000 (98 %)</td>\n",
       "      <td>981 / 1000 (98 %)</td>\n",
       "      <td>991 / 1000 (99 %)</td>\n",
       "      <td>11315 / 11612 (97 %)</td>\n",
       "    </tr>\n",
       "    <tr>\n",
       "      <th>dataset_benchmark/leave_one_out/politicalness/bert-base-cased/gpt4_political_bias</th>\n",
       "      <td>988 / 1000 (99 %)</td>\n",
       "      <td>738 / 1000 (74 %)</td>\n",
       "      <td>961 / 1000 (96 %)</td>\n",
       "      <td>595 / 612 (97 %)</td>\n",
       "      <td>1000 / 1000 (100 %)</td>\n",
       "      <td>908 / 1000 (91 %)</td>\n",
       "      <td>979 / 1000 (98 %)</td>\n",
       "      <td>905 / 1000 (90 %)</td>\n",
       "      <td>968 / 1000 (97 %)</td>\n",
       "      <td>939 / 1000 (94 %)</td>\n",
       "      <td>969 / 1000 (97 %)</td>\n",
       "      <td>987 / 1000 (99 %)</td>\n",
       "      <td>10342 / 11000 (94 %)</td>\n",
       "    </tr>\n",
       "    <tr>\n",
       "      <th>dataset_benchmark/leave_one_out/politicalness/bert-base-cased/gpt4_political_ideologies</th>\n",
       "      <td>998 / 1000 (100 %)</td>\n",
       "      <td>879 / 1000 (88 %)</td>\n",
       "      <td>990 / 1000 (99 %)</td>\n",
       "      <td>612 / 612 (100 %)</td>\n",
       "      <td>975 / 1000 (98 %)</td>\n",
       "      <td>965 / 1000 (96 %)</td>\n",
       "      <td>999 / 1000 (100 %)</td>\n",
       "      <td>993 / 1000 (99 %)</td>\n",
       "      <td>983 / 1000 (98 %)</td>\n",
       "      <td>988 / 1000 (99 %)</td>\n",
       "      <td>988 / 1000 (99 %)</td>\n",
       "      <td>996 / 1000 (100 %)</td>\n",
       "      <td>10391 / 10612 (98 %)</td>\n",
       "    </tr>\n",
       "    <tr>\n",
       "      <th>dataset_benchmark/leave_one_out/politicalness/bert-base-cased/imdb</th>\n",
       "      <td>999 / 1000 (100 %)</td>\n",
       "      <td>911 / 1000 (91 %)</td>\n",
       "      <td>989 / 1000 (99 %)</td>\n",
       "      <td>612 / 612 (100 %)</td>\n",
       "      <td>1000 / 1000 (100 %)</td>\n",
       "      <td>973 / 1000 (97 %)</td>\n",
       "      <td>995 / 1000 (100 %)</td>\n",
       "      <td>990 / 1000 (99 %)</td>\n",
       "      <td>981 / 1000 (98 %)</td>\n",
       "      <td>988 / 1000 (99 %)</td>\n",
       "      <td>989 / 1000 (99 %)</td>\n",
       "      <td>998 / 1000 (100 %)</td>\n",
       "      <td>11425 / 11612 (98 %)</td>\n",
       "    </tr>\n",
       "    <tr>\n",
       "      <th>dataset_benchmark/leave_one_out/politicalness/bert-base-cased/imdb_movie_genres</th>\n",
       "      <td>998 / 1000 (100 %)</td>\n",
       "      <td>882 / 1000 (88 %)</td>\n",
       "      <td>983 / 1000 (98 %)</td>\n",
       "      <td>612 / 612 (100 %)</td>\n",
       "      <td>1000 / 1000 (100 %)</td>\n",
       "      <td>966 / 1000 (97 %)</td>\n",
       "      <td>1000 / 1000 (100 %)</td>\n",
       "      <td>990 / 1000 (99 %)</td>\n",
       "      <td>980 / 1000 (98 %)</td>\n",
       "      <td>986 / 1000 (99 %)</td>\n",
       "      <td>982 / 1000 (98 %)</td>\n",
       "      <td>994 / 1000 (99 %)</td>\n",
       "      <td>11373 / 11612 (98 %)</td>\n",
       "    </tr>\n",
       "    <tr>\n",
       "      <th>dataset_benchmark/leave_one_out/politicalness/bert-base-cased/media_political_stance</th>\n",
       "      <td>998 / 1000 (100 %)</td>\n",
       "      <td>914 / 1000 (91 %)</td>\n",
       "      <td>989 / 1000 (99 %)</td>\n",
       "      <td>612 / 612 (100 %)</td>\n",
       "      <td>1000 / 1000 (100 %)</td>\n",
       "      <td>940 / 1000 (94 %)</td>\n",
       "      <td>999 / 1000 (100 %)</td>\n",
       "      <td>997 / 1000 (100 %)</td>\n",
       "      <td>982 / 1000 (98 %)</td>\n",
       "      <td>990 / 1000 (99 %)</td>\n",
       "      <td>975 / 1000 (98 %)</td>\n",
       "      <td>990 / 1000 (99 %)</td>\n",
       "      <td>10446 / 10612 (98 %)</td>\n",
       "    </tr>\n",
       "    <tr>\n",
       "      <th>dataset_benchmark/leave_one_out/politicalness/bert-base-cased/medium_post_titles</th>\n",
       "      <td>998 / 1000 (100 %)</td>\n",
       "      <td>887 / 1000 (89 %)</td>\n",
       "      <td>987 / 1000 (99 %)</td>\n",
       "      <td>612 / 612 (100 %)</td>\n",
       "      <td>1000 / 1000 (100 %)</td>\n",
       "      <td>971 / 1000 (97 %)</td>\n",
       "      <td>992 / 1000 (99 %)</td>\n",
       "      <td>991 / 1000 (99 %)</td>\n",
       "      <td>973 / 1000 (97 %)</td>\n",
       "      <td>981 / 1000 (98 %)</td>\n",
       "      <td>981 / 1000 (98 %)</td>\n",
       "      <td>993 / 1000 (99 %)</td>\n",
       "      <td>11366 / 11612 (98 %)</td>\n",
       "    </tr>\n",
       "    <tr>\n",
       "      <th>dataset_benchmark/leave_one_out/politicalness/bert-base-cased/news_category</th>\n",
       "      <td>999 / 1000 (100 %)</td>\n",
       "      <td>866 / 1000 (87 %)</td>\n",
       "      <td>981 / 1000 (98 %)</td>\n",
       "      <td>610 / 612 (100 %)</td>\n",
       "      <td>1000 / 1000 (100 %)</td>\n",
       "      <td>962 / 1000 (96 %)</td>\n",
       "      <td>997 / 1000 (100 %)</td>\n",
       "      <td>992 / 1000 (99 %)</td>\n",
       "      <td>966 / 1000 (97 %)</td>\n",
       "      <td>986 / 1000 (99 %)</td>\n",
       "      <td>993 / 1000 (99 %)</td>\n",
       "      <td>993 / 1000 (99 %)</td>\n",
       "      <td>11345 / 11612 (98 %)</td>\n",
       "    </tr>\n",
       "    <tr>\n",
       "      <th>dataset_benchmark/leave_one_out/politicalness/bert-base-cased/parliament_speeches_2024</th>\n",
       "      <td>999 / 1000 (100 %)</td>\n",
       "      <td>890 / 1000 (89 %)</td>\n",
       "      <td>985 / 1000 (98 %)</td>\n",
       "      <td>611 / 612 (100 %)</td>\n",
       "      <td>1000 / 1000 (100 %)</td>\n",
       "      <td>954 / 1000 (95 %)</td>\n",
       "      <td>936 / 1000 (94 %)</td>\n",
       "      <td>986 / 1000 (99 %)</td>\n",
       "      <td>980 / 1000 (98 %)</td>\n",
       "      <td>980 / 1000 (98 %)</td>\n",
       "      <td>989 / 1000 (99 %)</td>\n",
       "      <td>995 / 1000 (100 %)</td>\n",
       "      <td>10369 / 10612 (98 %)</td>\n",
       "    </tr>\n",
       "    <tr>\n",
       "      <th>dataset_benchmark/leave_one_out/politicalness/bert-base-cased/pens</th>\n",
       "      <td>998 / 1000 (100 %)</td>\n",
       "      <td>906 / 1000 (91 %)</td>\n",
       "      <td>992 / 1000 (99 %)</td>\n",
       "      <td>612 / 612 (100 %)</td>\n",
       "      <td>1000 / 1000 (100 %)</td>\n",
       "      <td>975 / 1000 (98 %)</td>\n",
       "      <td>998 / 1000 (100 %)</td>\n",
       "      <td>986 / 1000 (99 %)</td>\n",
       "      <td>971 / 1000 (97 %)</td>\n",
       "      <td>988 / 1000 (99 %)</td>\n",
       "      <td>983 / 1000 (98 %)</td>\n",
       "      <td>998 / 1000 (100 %)</td>\n",
       "      <td>11407 / 11612 (98 %)</td>\n",
       "    </tr>\n",
       "    <tr>\n",
       "      <th>dataset_benchmark/leave_one_out/politicalness/bert-base-cased/polibertweet</th>\n",
       "      <td>999 / 1000 (100 %)</td>\n",
       "      <td>883 / 1000 (88 %)</td>\n",
       "      <td>976 / 1000 (98 %)</td>\n",
       "      <td>612 / 612 (100 %)</td>\n",
       "      <td>1000 / 1000 (100 %)</td>\n",
       "      <td>957 / 1000 (96 %)</td>\n",
       "      <td>994 / 1000 (99 %)</td>\n",
       "      <td>989 / 1000 (99 %)</td>\n",
       "      <td>974 / 1000 (97 %)</td>\n",
       "      <td>976 / 1000 (98 %)</td>\n",
       "      <td>987 / 1000 (99 %)</td>\n",
       "      <td>995 / 1000 (100 %)</td>\n",
       "      <td>11342 / 11612 (98 %)</td>\n",
       "    </tr>\n",
       "    <tr>\n",
       "      <th>dataset_benchmark/leave_one_out/politicalness/bert-base-cased/political_or_not</th>\n",
       "      <td>1000 / 1000 (100 %)</td>\n",
       "      <td>901 / 1000 (90 %)</td>\n",
       "      <td>986 / 1000 (99 %)</td>\n",
       "      <td>612 / 612 (100 %)</td>\n",
       "      <td>1000 / 1000 (100 %)</td>\n",
       "      <td>965 / 1000 (96 %)</td>\n",
       "      <td>995 / 1000 (100 %)</td>\n",
       "      <td>992 / 1000 (99 %)</td>\n",
       "      <td>982 / 1000 (98 %)</td>\n",
       "      <td>987 / 1000 (99 %)</td>\n",
       "      <td>993 / 1000 (99 %)</td>\n",
       "      <td>996 / 1000 (100 %)</td>\n",
       "      <td>11409 / 11612 (98 %)</td>\n",
       "    </tr>\n",
       "    <tr>\n",
       "      <th>dataset_benchmark/leave_one_out/politicalness/bert-base-cased/political_podcasts</th>\n",
       "      <td>999 / 1000 (100 %)</td>\n",
       "      <td>897 / 1000 (90 %)</td>\n",
       "      <td>993 / 1000 (99 %)</td>\n",
       "      <td>612 / 612 (100 %)</td>\n",
       "      <td>1000 / 1000 (100 %)</td>\n",
       "      <td>964 / 1000 (96 %)</td>\n",
       "      <td>997 / 1000 (100 %)</td>\n",
       "      <td>828 / 1000 (83 %)</td>\n",
       "      <td>982 / 1000 (98 %)</td>\n",
       "      <td>981 / 1000 (98 %)</td>\n",
       "      <td>991 / 1000 (99 %)</td>\n",
       "      <td>994 / 1000 (99 %)</td>\n",
       "      <td>10410 / 10612 (98 %)</td>\n",
       "    </tr>\n",
       "    <tr>\n",
       "      <th>dataset_benchmark/leave_one_out/politicalness/bert-base-cased/political_tweets</th>\n",
       "      <td>999 / 1000 (100 %)</td>\n",
       "      <td>926 / 1000 (93 %)</td>\n",
       "      <td>985 / 1000 (98 %)</td>\n",
       "      <td>612 / 612 (100 %)</td>\n",
       "      <td>1000 / 1000 (100 %)</td>\n",
       "      <td>973 / 1000 (97 %)</td>\n",
       "      <td>997 / 1000 (100 %)</td>\n",
       "      <td>991 / 1000 (99 %)</td>\n",
       "      <td>399 / 1000 (40 %)</td>\n",
       "      <td>978 / 1000 (98 %)</td>\n",
       "      <td>984 / 1000 (98 %)</td>\n",
       "      <td>994 / 1000 (99 %)</td>\n",
       "      <td>10439 / 10612 (98 %)</td>\n",
       "    </tr>\n",
       "    <tr>\n",
       "      <th>dataset_benchmark/leave_one_out/politicalness/bert-base-cased/qbias</th>\n",
       "      <td>999 / 1000 (100 %)</td>\n",
       "      <td>914 / 1000 (91 %)</td>\n",
       "      <td>991 / 1000 (99 %)</td>\n",
       "      <td>612 / 612 (100 %)</td>\n",
       "      <td>1000 / 1000 (100 %)</td>\n",
       "      <td>967 / 1000 (97 %)</td>\n",
       "      <td>999 / 1000 (100 %)</td>\n",
       "      <td>990 / 1000 (99 %)</td>\n",
       "      <td>984 / 1000 (98 %)</td>\n",
       "      <td>950 / 1000 (95 %)</td>\n",
       "      <td>972 / 1000 (97 %)</td>\n",
       "      <td>986 / 1000 (99 %)</td>\n",
       "      <td>10414 / 10612 (98 %)</td>\n",
       "    </tr>\n",
       "    <tr>\n",
       "      <th>dataset_benchmark/leave_one_out/politicalness/bert-base-cased/recipes</th>\n",
       "      <td>1000 / 1000 (100 %)</td>\n",
       "      <td>890 / 1000 (89 %)</td>\n",
       "      <td>984 / 1000 (98 %)</td>\n",
       "      <td>611 / 612 (100 %)</td>\n",
       "      <td>1000 / 1000 (100 %)</td>\n",
       "      <td>961 / 1000 (96 %)</td>\n",
       "      <td>995 / 1000 (100 %)</td>\n",
       "      <td>990 / 1000 (99 %)</td>\n",
       "      <td>983 / 1000 (98 %)</td>\n",
       "      <td>977 / 1000 (98 %)</td>\n",
       "      <td>985 / 1000 (98 %)</td>\n",
       "      <td>992 / 1000 (99 %)</td>\n",
       "      <td>11368 / 11612 (98 %)</td>\n",
       "    </tr>\n",
       "    <tr>\n",
       "      <th>dataset_benchmark/leave_one_out/politicalness/bert-base-cased/reddit_comments</th>\n",
       "      <td>1000 / 1000 (100 %)</td>\n",
       "      <td>878 / 1000 (88 %)</td>\n",
       "      <td>976 / 1000 (98 %)</td>\n",
       "      <td>612 / 612 (100 %)</td>\n",
       "      <td>1000 / 1000 (100 %)</td>\n",
       "      <td>961 / 1000 (96 %)</td>\n",
       "      <td>993 / 1000 (99 %)</td>\n",
       "      <td>984 / 1000 (98 %)</td>\n",
       "      <td>978 / 1000 (98 %)</td>\n",
       "      <td>981 / 1000 (98 %)</td>\n",
       "      <td>992 / 1000 (99 %)</td>\n",
       "      <td>995 / 1000 (100 %)</td>\n",
       "      <td>11350 / 11612 (98 %)</td>\n",
       "    </tr>\n",
       "    <tr>\n",
       "      <th>dataset_benchmark/leave_one_out/politicalness/bert-base-cased/reddit_submissions</th>\n",
       "      <td>999 / 1000 (100 %)</td>\n",
       "      <td>893 / 1000 (89 %)</td>\n",
       "      <td>991 / 1000 (99 %)</td>\n",
       "      <td>612 / 612 (100 %)</td>\n",
       "      <td>1000 / 1000 (100 %)</td>\n",
       "      <td>967 / 1000 (97 %)</td>\n",
       "      <td>999 / 1000 (100 %)</td>\n",
       "      <td>990 / 1000 (99 %)</td>\n",
       "      <td>980 / 1000 (98 %)</td>\n",
       "      <td>987 / 1000 (99 %)</td>\n",
       "      <td>989 / 1000 (99 %)</td>\n",
       "      <td>995 / 1000 (100 %)</td>\n",
       "      <td>11402 / 11612 (98 %)</td>\n",
       "    </tr>\n",
       "    <tr>\n",
       "      <th>dataset_benchmark/leave_one_out/politicalness/bert-base-cased/rotten_tomatoes</th>\n",
       "      <td>995 / 1000 (100 %)</td>\n",
       "      <td>897 / 1000 (90 %)</td>\n",
       "      <td>988 / 1000 (99 %)</td>\n",
       "      <td>611 / 612 (100 %)</td>\n",
       "      <td>1000 / 1000 (100 %)</td>\n",
       "      <td>967 / 1000 (97 %)</td>\n",
       "      <td>998 / 1000 (100 %)</td>\n",
       "      <td>989 / 1000 (99 %)</td>\n",
       "      <td>985 / 1000 (98 %)</td>\n",
       "      <td>980 / 1000 (98 %)</td>\n",
       "      <td>982 / 1000 (98 %)</td>\n",
       "      <td>994 / 1000 (99 %)</td>\n",
       "      <td>11386 / 11612 (98 %)</td>\n",
       "    </tr>\n",
       "    <tr>\n",
       "      <th>dataset_benchmark/leave_one_out/politicalness/bert-base-cased/textbooks</th>\n",
       "      <td>999 / 1000 (100 %)</td>\n",
       "      <td>903 / 1000 (90 %)</td>\n",
       "      <td>990 / 1000 (99 %)</td>\n",
       "      <td>612 / 612 (100 %)</td>\n",
       "      <td>1000 / 1000 (100 %)</td>\n",
       "      <td>962 / 1000 (96 %)</td>\n",
       "      <td>999 / 1000 (100 %)</td>\n",
       "      <td>990 / 1000 (99 %)</td>\n",
       "      <td>980 / 1000 (98 %)</td>\n",
       "      <td>987 / 1000 (99 %)</td>\n",
       "      <td>985 / 1000 (98 %)</td>\n",
       "      <td>994 / 1000 (99 %)</td>\n",
       "      <td>11401 / 11612 (98 %)</td>\n",
       "    </tr>\n",
       "    <tr>\n",
       "      <th>dataset_benchmark/leave_one_out/politicalness/bert-base-cased/tweet_topic_multi</th>\n",
       "      <td>999 / 1000 (100 %)</td>\n",
       "      <td>882 / 1000 (88 %)</td>\n",
       "      <td>990 / 1000 (99 %)</td>\n",
       "      <td>612 / 612 (100 %)</td>\n",
       "      <td>1000 / 1000 (100 %)</td>\n",
       "      <td>960 / 1000 (96 %)</td>\n",
       "      <td>998 / 1000 (100 %)</td>\n",
       "      <td>995 / 1000 (100 %)</td>\n",
       "      <td>982 / 1000 (98 %)</td>\n",
       "      <td>981 / 1000 (98 %)</td>\n",
       "      <td>988 / 1000 (99 %)</td>\n",
       "      <td>996 / 1000 (100 %)</td>\n",
       "      <td>11383 / 11612 (98 %)</td>\n",
       "    </tr>\n",
       "    <tr>\n",
       "      <th>dataset_benchmark/leave_one_out/politicalness/bert-base-cased/yelp_review_full</th>\n",
       "      <td>999 / 1000 (100 %)</td>\n",
       "      <td>820 / 1000 (82 %)</td>\n",
       "      <td>972 / 1000 (97 %)</td>\n",
       "      <td>610 / 612 (100 %)</td>\n",
       "      <td>1000 / 1000 (100 %)</td>\n",
       "      <td>945 / 1000 (94 %)</td>\n",
       "      <td>995 / 1000 (100 %)</td>\n",
       "      <td>973 / 1000 (97 %)</td>\n",
       "      <td>975 / 1000 (98 %)</td>\n",
       "      <td>981 / 1000 (98 %)</td>\n",
       "      <td>989 / 1000 (99 %)</td>\n",
       "      <td>993 / 1000 (99 %)</td>\n",
       "      <td>11252 / 11612 (97 %)</td>\n",
       "    </tr>\n",
       "  </tbody>\n",
       "</table>\n",
       "</div>"
      ],
      "text/plain": [
       "                                                   article_bias_prediction  \\\n",
       "dataset_benchmark/leave_one_out/politicalness/b...      999 / 1000 (100 %)   \n",
       "dataset_benchmark/leave_one_out/politicalness/b...      996 / 1000 (100 %)   \n",
       "dataset_benchmark/leave_one_out/politicalness/b...      995 / 1000 (100 %)   \n",
       "dataset_benchmark/leave_one_out/politicalness/b...      998 / 1000 (100 %)   \n",
       "dataset_benchmark/leave_one_out/politicalness/b...      998 / 1000 (100 %)   \n",
       "dataset_benchmark/leave_one_out/politicalness/b...      997 / 1000 (100 %)   \n",
       "dataset_benchmark/leave_one_out/politicalness/b...     1000 / 1000 (100 %)   \n",
       "dataset_benchmark/leave_one_out/politicalness/b...       988 / 1000 (99 %)   \n",
       "dataset_benchmark/leave_one_out/politicalness/b...      998 / 1000 (100 %)   \n",
       "dataset_benchmark/leave_one_out/politicalness/b...      999 / 1000 (100 %)   \n",
       "dataset_benchmark/leave_one_out/politicalness/b...      998 / 1000 (100 %)   \n",
       "dataset_benchmark/leave_one_out/politicalness/b...      998 / 1000 (100 %)   \n",
       "dataset_benchmark/leave_one_out/politicalness/b...      998 / 1000 (100 %)   \n",
       "dataset_benchmark/leave_one_out/politicalness/b...      999 / 1000 (100 %)   \n",
       "dataset_benchmark/leave_one_out/politicalness/b...      999 / 1000 (100 %)   \n",
       "dataset_benchmark/leave_one_out/politicalness/b...      998 / 1000 (100 %)   \n",
       "dataset_benchmark/leave_one_out/politicalness/b...      999 / 1000 (100 %)   \n",
       "dataset_benchmark/leave_one_out/politicalness/b...     1000 / 1000 (100 %)   \n",
       "dataset_benchmark/leave_one_out/politicalness/b...      999 / 1000 (100 %)   \n",
       "dataset_benchmark/leave_one_out/politicalness/b...      999 / 1000 (100 %)   \n",
       "dataset_benchmark/leave_one_out/politicalness/b...      999 / 1000 (100 %)   \n",
       "dataset_benchmark/leave_one_out/politicalness/b...     1000 / 1000 (100 %)   \n",
       "dataset_benchmark/leave_one_out/politicalness/b...     1000 / 1000 (100 %)   \n",
       "dataset_benchmark/leave_one_out/politicalness/b...      999 / 1000 (100 %)   \n",
       "dataset_benchmark/leave_one_out/politicalness/b...      995 / 1000 (100 %)   \n",
       "dataset_benchmark/leave_one_out/politicalness/b...      999 / 1000 (100 %)   \n",
       "dataset_benchmark/leave_one_out/politicalness/b...      999 / 1000 (100 %)   \n",
       "dataset_benchmark/leave_one_out/politicalness/b...      999 / 1000 (100 %)   \n",
       "\n",
       "                                                   commoncrawl_news_articles  \\\n",
       "dataset_benchmark/leave_one_out/politicalness/b...         851 / 1000 (85 %)   \n",
       "dataset_benchmark/leave_one_out/politicalness/b...         896 / 1000 (90 %)   \n",
       "dataset_benchmark/leave_one_out/politicalness/b...         738 / 1000 (74 %)   \n",
       "dataset_benchmark/leave_one_out/politicalness/b...         894 / 1000 (89 %)   \n",
       "dataset_benchmark/leave_one_out/politicalness/b...         895 / 1000 (90 %)   \n",
       "dataset_benchmark/leave_one_out/politicalness/b...         883 / 1000 (88 %)   \n",
       "dataset_benchmark/leave_one_out/politicalness/b...         869 / 1000 (87 %)   \n",
       "dataset_benchmark/leave_one_out/politicalness/b...         738 / 1000 (74 %)   \n",
       "dataset_benchmark/leave_one_out/politicalness/b...         879 / 1000 (88 %)   \n",
       "dataset_benchmark/leave_one_out/politicalness/b...         911 / 1000 (91 %)   \n",
       "dataset_benchmark/leave_one_out/politicalness/b...         882 / 1000 (88 %)   \n",
       "dataset_benchmark/leave_one_out/politicalness/b...         914 / 1000 (91 %)   \n",
       "dataset_benchmark/leave_one_out/politicalness/b...         887 / 1000 (89 %)   \n",
       "dataset_benchmark/leave_one_out/politicalness/b...         866 / 1000 (87 %)   \n",
       "dataset_benchmark/leave_one_out/politicalness/b...         890 / 1000 (89 %)   \n",
       "dataset_benchmark/leave_one_out/politicalness/b...         906 / 1000 (91 %)   \n",
       "dataset_benchmark/leave_one_out/politicalness/b...         883 / 1000 (88 %)   \n",
       "dataset_benchmark/leave_one_out/politicalness/b...         901 / 1000 (90 %)   \n",
       "dataset_benchmark/leave_one_out/politicalness/b...         897 / 1000 (90 %)   \n",
       "dataset_benchmark/leave_one_out/politicalness/b...         926 / 1000 (93 %)   \n",
       "dataset_benchmark/leave_one_out/politicalness/b...         914 / 1000 (91 %)   \n",
       "dataset_benchmark/leave_one_out/politicalness/b...         890 / 1000 (89 %)   \n",
       "dataset_benchmark/leave_one_out/politicalness/b...         878 / 1000 (88 %)   \n",
       "dataset_benchmark/leave_one_out/politicalness/b...         893 / 1000 (89 %)   \n",
       "dataset_benchmark/leave_one_out/politicalness/b...         897 / 1000 (90 %)   \n",
       "dataset_benchmark/leave_one_out/politicalness/b...         903 / 1000 (90 %)   \n",
       "dataset_benchmark/leave_one_out/politicalness/b...         882 / 1000 (88 %)   \n",
       "dataset_benchmark/leave_one_out/politicalness/b...         820 / 1000 (82 %)   \n",
       "\n",
       "                                                   dem_rep_party_platform_topics  \\\n",
       "dataset_benchmark/leave_one_out/politicalness/b...             974 / 1000 (97 %)   \n",
       "dataset_benchmark/leave_one_out/politicalness/b...             982 / 1000 (98 %)   \n",
       "dataset_benchmark/leave_one_out/politicalness/b...             988 / 1000 (99 %)   \n",
       "dataset_benchmark/leave_one_out/politicalness/b...             950 / 1000 (95 %)   \n",
       "dataset_benchmark/leave_one_out/politicalness/b...             985 / 1000 (98 %)   \n",
       "dataset_benchmark/leave_one_out/politicalness/b...             965 / 1000 (96 %)   \n",
       "dataset_benchmark/leave_one_out/politicalness/b...             988 / 1000 (99 %)   \n",
       "dataset_benchmark/leave_one_out/politicalness/b...             961 / 1000 (96 %)   \n",
       "dataset_benchmark/leave_one_out/politicalness/b...             990 / 1000 (99 %)   \n",
       "dataset_benchmark/leave_one_out/politicalness/b...             989 / 1000 (99 %)   \n",
       "dataset_benchmark/leave_one_out/politicalness/b...             983 / 1000 (98 %)   \n",
       "dataset_benchmark/leave_one_out/politicalness/b...             989 / 1000 (99 %)   \n",
       "dataset_benchmark/leave_one_out/politicalness/b...             987 / 1000 (99 %)   \n",
       "dataset_benchmark/leave_one_out/politicalness/b...             981 / 1000 (98 %)   \n",
       "dataset_benchmark/leave_one_out/politicalness/b...             985 / 1000 (98 %)   \n",
       "dataset_benchmark/leave_one_out/politicalness/b...             992 / 1000 (99 %)   \n",
       "dataset_benchmark/leave_one_out/politicalness/b...             976 / 1000 (98 %)   \n",
       "dataset_benchmark/leave_one_out/politicalness/b...             986 / 1000 (99 %)   \n",
       "dataset_benchmark/leave_one_out/politicalness/b...             993 / 1000 (99 %)   \n",
       "dataset_benchmark/leave_one_out/politicalness/b...             985 / 1000 (98 %)   \n",
       "dataset_benchmark/leave_one_out/politicalness/b...             991 / 1000 (99 %)   \n",
       "dataset_benchmark/leave_one_out/politicalness/b...             984 / 1000 (98 %)   \n",
       "dataset_benchmark/leave_one_out/politicalness/b...             976 / 1000 (98 %)   \n",
       "dataset_benchmark/leave_one_out/politicalness/b...             991 / 1000 (99 %)   \n",
       "dataset_benchmark/leave_one_out/politicalness/b...             988 / 1000 (99 %)   \n",
       "dataset_benchmark/leave_one_out/politicalness/b...             990 / 1000 (99 %)   \n",
       "dataset_benchmark/leave_one_out/politicalness/b...             990 / 1000 (99 %)   \n",
       "dataset_benchmark/leave_one_out/politicalness/b...             972 / 1000 (97 %)   \n",
       "\n",
       "                                                   gpt4_political_bias  \\\n",
       "dataset_benchmark/leave_one_out/politicalness/b...   612 / 612 (100 %)   \n",
       "dataset_benchmark/leave_one_out/politicalness/b...   612 / 612 (100 %)   \n",
       "dataset_benchmark/leave_one_out/politicalness/b...   612 / 612 (100 %)   \n",
       "dataset_benchmark/leave_one_out/politicalness/b...   612 / 612 (100 %)   \n",
       "dataset_benchmark/leave_one_out/politicalness/b...   612 / 612 (100 %)   \n",
       "dataset_benchmark/leave_one_out/politicalness/b...   609 / 612 (100 %)   \n",
       "dataset_benchmark/leave_one_out/politicalness/b...   612 / 612 (100 %)   \n",
       "dataset_benchmark/leave_one_out/politicalness/b...    595 / 612 (97 %)   \n",
       "dataset_benchmark/leave_one_out/politicalness/b...   612 / 612 (100 %)   \n",
       "dataset_benchmark/leave_one_out/politicalness/b...   612 / 612 (100 %)   \n",
       "dataset_benchmark/leave_one_out/politicalness/b...   612 / 612 (100 %)   \n",
       "dataset_benchmark/leave_one_out/politicalness/b...   612 / 612 (100 %)   \n",
       "dataset_benchmark/leave_one_out/politicalness/b...   612 / 612 (100 %)   \n",
       "dataset_benchmark/leave_one_out/politicalness/b...   610 / 612 (100 %)   \n",
       "dataset_benchmark/leave_one_out/politicalness/b...   611 / 612 (100 %)   \n",
       "dataset_benchmark/leave_one_out/politicalness/b...   612 / 612 (100 %)   \n",
       "dataset_benchmark/leave_one_out/politicalness/b...   612 / 612 (100 %)   \n",
       "dataset_benchmark/leave_one_out/politicalness/b...   612 / 612 (100 %)   \n",
       "dataset_benchmark/leave_one_out/politicalness/b...   612 / 612 (100 %)   \n",
       "dataset_benchmark/leave_one_out/politicalness/b...   612 / 612 (100 %)   \n",
       "dataset_benchmark/leave_one_out/politicalness/b...   612 / 612 (100 %)   \n",
       "dataset_benchmark/leave_one_out/politicalness/b...   611 / 612 (100 %)   \n",
       "dataset_benchmark/leave_one_out/politicalness/b...   612 / 612 (100 %)   \n",
       "dataset_benchmark/leave_one_out/politicalness/b...   612 / 612 (100 %)   \n",
       "dataset_benchmark/leave_one_out/politicalness/b...   611 / 612 (100 %)   \n",
       "dataset_benchmark/leave_one_out/politicalness/b...   612 / 612 (100 %)   \n",
       "dataset_benchmark/leave_one_out/politicalness/b...   612 / 612 (100 %)   \n",
       "dataset_benchmark/leave_one_out/politicalness/b...   610 / 612 (100 %)   \n",
       "\n",
       "                                                   gpt4_political_ideologies  \\\n",
       "dataset_benchmark/leave_one_out/politicalness/b...       1000 / 1000 (100 %)   \n",
       "dataset_benchmark/leave_one_out/politicalness/b...       1000 / 1000 (100 %)   \n",
       "dataset_benchmark/leave_one_out/politicalness/b...       1000 / 1000 (100 %)   \n",
       "dataset_benchmark/leave_one_out/politicalness/b...       1000 / 1000 (100 %)   \n",
       "dataset_benchmark/leave_one_out/politicalness/b...       1000 / 1000 (100 %)   \n",
       "dataset_benchmark/leave_one_out/politicalness/b...       1000 / 1000 (100 %)   \n",
       "dataset_benchmark/leave_one_out/politicalness/b...        999 / 1000 (100 %)   \n",
       "dataset_benchmark/leave_one_out/politicalness/b...       1000 / 1000 (100 %)   \n",
       "dataset_benchmark/leave_one_out/politicalness/b...         975 / 1000 (98 %)   \n",
       "dataset_benchmark/leave_one_out/politicalness/b...       1000 / 1000 (100 %)   \n",
       "dataset_benchmark/leave_one_out/politicalness/b...       1000 / 1000 (100 %)   \n",
       "dataset_benchmark/leave_one_out/politicalness/b...       1000 / 1000 (100 %)   \n",
       "dataset_benchmark/leave_one_out/politicalness/b...       1000 / 1000 (100 %)   \n",
       "dataset_benchmark/leave_one_out/politicalness/b...       1000 / 1000 (100 %)   \n",
       "dataset_benchmark/leave_one_out/politicalness/b...       1000 / 1000 (100 %)   \n",
       "dataset_benchmark/leave_one_out/politicalness/b...       1000 / 1000 (100 %)   \n",
       "dataset_benchmark/leave_one_out/politicalness/b...       1000 / 1000 (100 %)   \n",
       "dataset_benchmark/leave_one_out/politicalness/b...       1000 / 1000 (100 %)   \n",
       "dataset_benchmark/leave_one_out/politicalness/b...       1000 / 1000 (100 %)   \n",
       "dataset_benchmark/leave_one_out/politicalness/b...       1000 / 1000 (100 %)   \n",
       "dataset_benchmark/leave_one_out/politicalness/b...       1000 / 1000 (100 %)   \n",
       "dataset_benchmark/leave_one_out/politicalness/b...       1000 / 1000 (100 %)   \n",
       "dataset_benchmark/leave_one_out/politicalness/b...       1000 / 1000 (100 %)   \n",
       "dataset_benchmark/leave_one_out/politicalness/b...       1000 / 1000 (100 %)   \n",
       "dataset_benchmark/leave_one_out/politicalness/b...       1000 / 1000 (100 %)   \n",
       "dataset_benchmark/leave_one_out/politicalness/b...       1000 / 1000 (100 %)   \n",
       "dataset_benchmark/leave_one_out/politicalness/b...       1000 / 1000 (100 %)   \n",
       "dataset_benchmark/leave_one_out/politicalness/b...       1000 / 1000 (100 %)   \n",
       "\n",
       "                                                   media_political_stance  \\\n",
       "dataset_benchmark/leave_one_out/politicalness/b...      945 / 1000 (94 %)   \n",
       "dataset_benchmark/leave_one_out/politicalness/b...      968 / 1000 (97 %)   \n",
       "dataset_benchmark/leave_one_out/politicalness/b...      968 / 1000 (97 %)   \n",
       "dataset_benchmark/leave_one_out/politicalness/b...      970 / 1000 (97 %)   \n",
       "dataset_benchmark/leave_one_out/politicalness/b...      958 / 1000 (96 %)   \n",
       "dataset_benchmark/leave_one_out/politicalness/b...      944 / 1000 (94 %)   \n",
       "dataset_benchmark/leave_one_out/politicalness/b...      945 / 1000 (94 %)   \n",
       "dataset_benchmark/leave_one_out/politicalness/b...      908 / 1000 (91 %)   \n",
       "dataset_benchmark/leave_one_out/politicalness/b...      965 / 1000 (96 %)   \n",
       "dataset_benchmark/leave_one_out/politicalness/b...      973 / 1000 (97 %)   \n",
       "dataset_benchmark/leave_one_out/politicalness/b...      966 / 1000 (97 %)   \n",
       "dataset_benchmark/leave_one_out/politicalness/b...      940 / 1000 (94 %)   \n",
       "dataset_benchmark/leave_one_out/politicalness/b...      971 / 1000 (97 %)   \n",
       "dataset_benchmark/leave_one_out/politicalness/b...      962 / 1000 (96 %)   \n",
       "dataset_benchmark/leave_one_out/politicalness/b...      954 / 1000 (95 %)   \n",
       "dataset_benchmark/leave_one_out/politicalness/b...      975 / 1000 (98 %)   \n",
       "dataset_benchmark/leave_one_out/politicalness/b...      957 / 1000 (96 %)   \n",
       "dataset_benchmark/leave_one_out/politicalness/b...      965 / 1000 (96 %)   \n",
       "dataset_benchmark/leave_one_out/politicalness/b...      964 / 1000 (96 %)   \n",
       "dataset_benchmark/leave_one_out/politicalness/b...      973 / 1000 (97 %)   \n",
       "dataset_benchmark/leave_one_out/politicalness/b...      967 / 1000 (97 %)   \n",
       "dataset_benchmark/leave_one_out/politicalness/b...      961 / 1000 (96 %)   \n",
       "dataset_benchmark/leave_one_out/politicalness/b...      961 / 1000 (96 %)   \n",
       "dataset_benchmark/leave_one_out/politicalness/b...      967 / 1000 (97 %)   \n",
       "dataset_benchmark/leave_one_out/politicalness/b...      967 / 1000 (97 %)   \n",
       "dataset_benchmark/leave_one_out/politicalness/b...      962 / 1000 (96 %)   \n",
       "dataset_benchmark/leave_one_out/politicalness/b...      960 / 1000 (96 %)   \n",
       "dataset_benchmark/leave_one_out/politicalness/b...      945 / 1000 (94 %)   \n",
       "\n",
       "                                                   parliament_speeches_2024  \\\n",
       "dataset_benchmark/leave_one_out/politicalness/b...        989 / 1000 (99 %)   \n",
       "dataset_benchmark/leave_one_out/politicalness/b...       998 / 1000 (100 %)   \n",
       "dataset_benchmark/leave_one_out/politicalness/b...       998 / 1000 (100 %)   \n",
       "dataset_benchmark/leave_one_out/politicalness/b...       996 / 1000 (100 %)   \n",
       "dataset_benchmark/leave_one_out/politicalness/b...       999 / 1000 (100 %)   \n",
       "dataset_benchmark/leave_one_out/politicalness/b...       995 / 1000 (100 %)   \n",
       "dataset_benchmark/leave_one_out/politicalness/b...        992 / 1000 (99 %)   \n",
       "dataset_benchmark/leave_one_out/politicalness/b...        979 / 1000 (98 %)   \n",
       "dataset_benchmark/leave_one_out/politicalness/b...       999 / 1000 (100 %)   \n",
       "dataset_benchmark/leave_one_out/politicalness/b...       995 / 1000 (100 %)   \n",
       "dataset_benchmark/leave_one_out/politicalness/b...      1000 / 1000 (100 %)   \n",
       "dataset_benchmark/leave_one_out/politicalness/b...       999 / 1000 (100 %)   \n",
       "dataset_benchmark/leave_one_out/politicalness/b...        992 / 1000 (99 %)   \n",
       "dataset_benchmark/leave_one_out/politicalness/b...       997 / 1000 (100 %)   \n",
       "dataset_benchmark/leave_one_out/politicalness/b...        936 / 1000 (94 %)   \n",
       "dataset_benchmark/leave_one_out/politicalness/b...       998 / 1000 (100 %)   \n",
       "dataset_benchmark/leave_one_out/politicalness/b...        994 / 1000 (99 %)   \n",
       "dataset_benchmark/leave_one_out/politicalness/b...       995 / 1000 (100 %)   \n",
       "dataset_benchmark/leave_one_out/politicalness/b...       997 / 1000 (100 %)   \n",
       "dataset_benchmark/leave_one_out/politicalness/b...       997 / 1000 (100 %)   \n",
       "dataset_benchmark/leave_one_out/politicalness/b...       999 / 1000 (100 %)   \n",
       "dataset_benchmark/leave_one_out/politicalness/b...       995 / 1000 (100 %)   \n",
       "dataset_benchmark/leave_one_out/politicalness/b...        993 / 1000 (99 %)   \n",
       "dataset_benchmark/leave_one_out/politicalness/b...       999 / 1000 (100 %)   \n",
       "dataset_benchmark/leave_one_out/politicalness/b...       998 / 1000 (100 %)   \n",
       "dataset_benchmark/leave_one_out/politicalness/b...       999 / 1000 (100 %)   \n",
       "dataset_benchmark/leave_one_out/politicalness/b...       998 / 1000 (100 %)   \n",
       "dataset_benchmark/leave_one_out/politicalness/b...       995 / 1000 (100 %)   \n",
       "\n",
       "                                                    political_podcasts  \\\n",
       "dataset_benchmark/leave_one_out/politicalness/b...   986 / 1000 (99 %)   \n",
       "dataset_benchmark/leave_one_out/politicalness/b...   990 / 1000 (99 %)   \n",
       "dataset_benchmark/leave_one_out/politicalness/b...   992 / 1000 (99 %)   \n",
       "dataset_benchmark/leave_one_out/politicalness/b...   991 / 1000 (99 %)   \n",
       "dataset_benchmark/leave_one_out/politicalness/b...   989 / 1000 (99 %)   \n",
       "dataset_benchmark/leave_one_out/politicalness/b...   977 / 1000 (98 %)   \n",
       "dataset_benchmark/leave_one_out/politicalness/b...   982 / 1000 (98 %)   \n",
       "dataset_benchmark/leave_one_out/politicalness/b...   905 / 1000 (90 %)   \n",
       "dataset_benchmark/leave_one_out/politicalness/b...   993 / 1000 (99 %)   \n",
       "dataset_benchmark/leave_one_out/politicalness/b...   990 / 1000 (99 %)   \n",
       "dataset_benchmark/leave_one_out/politicalness/b...   990 / 1000 (99 %)   \n",
       "dataset_benchmark/leave_one_out/politicalness/b...  997 / 1000 (100 %)   \n",
       "dataset_benchmark/leave_one_out/politicalness/b...   991 / 1000 (99 %)   \n",
       "dataset_benchmark/leave_one_out/politicalness/b...   992 / 1000 (99 %)   \n",
       "dataset_benchmark/leave_one_out/politicalness/b...   986 / 1000 (99 %)   \n",
       "dataset_benchmark/leave_one_out/politicalness/b...   986 / 1000 (99 %)   \n",
       "dataset_benchmark/leave_one_out/politicalness/b...   989 / 1000 (99 %)   \n",
       "dataset_benchmark/leave_one_out/politicalness/b...   992 / 1000 (99 %)   \n",
       "dataset_benchmark/leave_one_out/politicalness/b...   828 / 1000 (83 %)   \n",
       "dataset_benchmark/leave_one_out/politicalness/b...   991 / 1000 (99 %)   \n",
       "dataset_benchmark/leave_one_out/politicalness/b...   990 / 1000 (99 %)   \n",
       "dataset_benchmark/leave_one_out/politicalness/b...   990 / 1000 (99 %)   \n",
       "dataset_benchmark/leave_one_out/politicalness/b...   984 / 1000 (98 %)   \n",
       "dataset_benchmark/leave_one_out/politicalness/b...   990 / 1000 (99 %)   \n",
       "dataset_benchmark/leave_one_out/politicalness/b...   989 / 1000 (99 %)   \n",
       "dataset_benchmark/leave_one_out/politicalness/b...   990 / 1000 (99 %)   \n",
       "dataset_benchmark/leave_one_out/politicalness/b...  995 / 1000 (100 %)   \n",
       "dataset_benchmark/leave_one_out/politicalness/b...   973 / 1000 (97 %)   \n",
       "\n",
       "                                                     political_tweets  \\\n",
       "dataset_benchmark/leave_one_out/politicalness/b...  972 / 1000 (97 %)   \n",
       "dataset_benchmark/leave_one_out/politicalness/b...  983 / 1000 (98 %)   \n",
       "dataset_benchmark/leave_one_out/politicalness/b...  979 / 1000 (98 %)   \n",
       "dataset_benchmark/leave_one_out/politicalness/b...  983 / 1000 (98 %)   \n",
       "dataset_benchmark/leave_one_out/politicalness/b...  977 / 1000 (98 %)   \n",
       "dataset_benchmark/leave_one_out/politicalness/b...  966 / 1000 (97 %)   \n",
       "dataset_benchmark/leave_one_out/politicalness/b...  974 / 1000 (97 %)   \n",
       "dataset_benchmark/leave_one_out/politicalness/b...  968 / 1000 (97 %)   \n",
       "dataset_benchmark/leave_one_out/politicalness/b...  983 / 1000 (98 %)   \n",
       "dataset_benchmark/leave_one_out/politicalness/b...  981 / 1000 (98 %)   \n",
       "dataset_benchmark/leave_one_out/politicalness/b...  980 / 1000 (98 %)   \n",
       "dataset_benchmark/leave_one_out/politicalness/b...  982 / 1000 (98 %)   \n",
       "dataset_benchmark/leave_one_out/politicalness/b...  973 / 1000 (97 %)   \n",
       "dataset_benchmark/leave_one_out/politicalness/b...  966 / 1000 (97 %)   \n",
       "dataset_benchmark/leave_one_out/politicalness/b...  980 / 1000 (98 %)   \n",
       "dataset_benchmark/leave_one_out/politicalness/b...  971 / 1000 (97 %)   \n",
       "dataset_benchmark/leave_one_out/politicalness/b...  974 / 1000 (97 %)   \n",
       "dataset_benchmark/leave_one_out/politicalness/b...  982 / 1000 (98 %)   \n",
       "dataset_benchmark/leave_one_out/politicalness/b...  982 / 1000 (98 %)   \n",
       "dataset_benchmark/leave_one_out/politicalness/b...  399 / 1000 (40 %)   \n",
       "dataset_benchmark/leave_one_out/politicalness/b...  984 / 1000 (98 %)   \n",
       "dataset_benchmark/leave_one_out/politicalness/b...  983 / 1000 (98 %)   \n",
       "dataset_benchmark/leave_one_out/politicalness/b...  978 / 1000 (98 %)   \n",
       "dataset_benchmark/leave_one_out/politicalness/b...  980 / 1000 (98 %)   \n",
       "dataset_benchmark/leave_one_out/politicalness/b...  985 / 1000 (98 %)   \n",
       "dataset_benchmark/leave_one_out/politicalness/b...  980 / 1000 (98 %)   \n",
       "dataset_benchmark/leave_one_out/politicalness/b...  982 / 1000 (98 %)   \n",
       "dataset_benchmark/leave_one_out/politicalness/b...  975 / 1000 (98 %)   \n",
       "\n",
       "                                                                qbias  \\\n",
       "dataset_benchmark/leave_one_out/politicalness/b...  979 / 1000 (98 %)   \n",
       "dataset_benchmark/leave_one_out/politicalness/b...  981 / 1000 (98 %)   \n",
       "dataset_benchmark/leave_one_out/politicalness/b...  988 / 1000 (99 %)   \n",
       "dataset_benchmark/leave_one_out/politicalness/b...  976 / 1000 (98 %)   \n",
       "dataset_benchmark/leave_one_out/politicalness/b...  976 / 1000 (98 %)   \n",
       "dataset_benchmark/leave_one_out/politicalness/b...  973 / 1000 (97 %)   \n",
       "dataset_benchmark/leave_one_out/politicalness/b...  982 / 1000 (98 %)   \n",
       "dataset_benchmark/leave_one_out/politicalness/b...  939 / 1000 (94 %)   \n",
       "dataset_benchmark/leave_one_out/politicalness/b...  988 / 1000 (99 %)   \n",
       "dataset_benchmark/leave_one_out/politicalness/b...  988 / 1000 (99 %)   \n",
       "dataset_benchmark/leave_one_out/politicalness/b...  986 / 1000 (99 %)   \n",
       "dataset_benchmark/leave_one_out/politicalness/b...  990 / 1000 (99 %)   \n",
       "dataset_benchmark/leave_one_out/politicalness/b...  981 / 1000 (98 %)   \n",
       "dataset_benchmark/leave_one_out/politicalness/b...  986 / 1000 (99 %)   \n",
       "dataset_benchmark/leave_one_out/politicalness/b...  980 / 1000 (98 %)   \n",
       "dataset_benchmark/leave_one_out/politicalness/b...  988 / 1000 (99 %)   \n",
       "dataset_benchmark/leave_one_out/politicalness/b...  976 / 1000 (98 %)   \n",
       "dataset_benchmark/leave_one_out/politicalness/b...  987 / 1000 (99 %)   \n",
       "dataset_benchmark/leave_one_out/politicalness/b...  981 / 1000 (98 %)   \n",
       "dataset_benchmark/leave_one_out/politicalness/b...  978 / 1000 (98 %)   \n",
       "dataset_benchmark/leave_one_out/politicalness/b...  950 / 1000 (95 %)   \n",
       "dataset_benchmark/leave_one_out/politicalness/b...  977 / 1000 (98 %)   \n",
       "dataset_benchmark/leave_one_out/politicalness/b...  981 / 1000 (98 %)   \n",
       "dataset_benchmark/leave_one_out/politicalness/b...  987 / 1000 (99 %)   \n",
       "dataset_benchmark/leave_one_out/politicalness/b...  980 / 1000 (98 %)   \n",
       "dataset_benchmark/leave_one_out/politicalness/b...  987 / 1000 (99 %)   \n",
       "dataset_benchmark/leave_one_out/politicalness/b...  981 / 1000 (98 %)   \n",
       "dataset_benchmark/leave_one_out/politicalness/b...  981 / 1000 (98 %)   \n",
       "\n",
       "                                                   webis_bias_flipper_18  \\\n",
       "dataset_benchmark/leave_one_out/politicalness/b...     988 / 1000 (99 %)   \n",
       "dataset_benchmark/leave_one_out/politicalness/b...     984 / 1000 (98 %)   \n",
       "dataset_benchmark/leave_one_out/politicalness/b...     988 / 1000 (99 %)   \n",
       "dataset_benchmark/leave_one_out/politicalness/b...     984 / 1000 (98 %)   \n",
       "dataset_benchmark/leave_one_out/politicalness/b...     981 / 1000 (98 %)   \n",
       "dataset_benchmark/leave_one_out/politicalness/b...     981 / 1000 (98 %)   \n",
       "dataset_benchmark/leave_one_out/politicalness/b...     981 / 1000 (98 %)   \n",
       "dataset_benchmark/leave_one_out/politicalness/b...     969 / 1000 (97 %)   \n",
       "dataset_benchmark/leave_one_out/politicalness/b...     988 / 1000 (99 %)   \n",
       "dataset_benchmark/leave_one_out/politicalness/b...     989 / 1000 (99 %)   \n",
       "dataset_benchmark/leave_one_out/politicalness/b...     982 / 1000 (98 %)   \n",
       "dataset_benchmark/leave_one_out/politicalness/b...     975 / 1000 (98 %)   \n",
       "dataset_benchmark/leave_one_out/politicalness/b...     981 / 1000 (98 %)   \n",
       "dataset_benchmark/leave_one_out/politicalness/b...     993 / 1000 (99 %)   \n",
       "dataset_benchmark/leave_one_out/politicalness/b...     989 / 1000 (99 %)   \n",
       "dataset_benchmark/leave_one_out/politicalness/b...     983 / 1000 (98 %)   \n",
       "dataset_benchmark/leave_one_out/politicalness/b...     987 / 1000 (99 %)   \n",
       "dataset_benchmark/leave_one_out/politicalness/b...     993 / 1000 (99 %)   \n",
       "dataset_benchmark/leave_one_out/politicalness/b...     991 / 1000 (99 %)   \n",
       "dataset_benchmark/leave_one_out/politicalness/b...     984 / 1000 (98 %)   \n",
       "dataset_benchmark/leave_one_out/politicalness/b...     972 / 1000 (97 %)   \n",
       "dataset_benchmark/leave_one_out/politicalness/b...     985 / 1000 (98 %)   \n",
       "dataset_benchmark/leave_one_out/politicalness/b...     992 / 1000 (99 %)   \n",
       "dataset_benchmark/leave_one_out/politicalness/b...     989 / 1000 (99 %)   \n",
       "dataset_benchmark/leave_one_out/politicalness/b...     982 / 1000 (98 %)   \n",
       "dataset_benchmark/leave_one_out/politicalness/b...     985 / 1000 (98 %)   \n",
       "dataset_benchmark/leave_one_out/politicalness/b...     988 / 1000 (99 %)   \n",
       "dataset_benchmark/leave_one_out/politicalness/b...     989 / 1000 (99 %)   \n",
       "\n",
       "                                                    webis_news_bias_20  \\\n",
       "dataset_benchmark/leave_one_out/politicalness/b...   993 / 1000 (99 %)   \n",
       "dataset_benchmark/leave_one_out/politicalness/b...   992 / 1000 (99 %)   \n",
       "dataset_benchmark/leave_one_out/politicalness/b...   993 / 1000 (99 %)   \n",
       "dataset_benchmark/leave_one_out/politicalness/b...   994 / 1000 (99 %)   \n",
       "dataset_benchmark/leave_one_out/politicalness/b...  996 / 1000 (100 %)   \n",
       "dataset_benchmark/leave_one_out/politicalness/b...   991 / 1000 (99 %)   \n",
       "dataset_benchmark/leave_one_out/politicalness/b...   991 / 1000 (99 %)   \n",
       "dataset_benchmark/leave_one_out/politicalness/b...   987 / 1000 (99 %)   \n",
       "dataset_benchmark/leave_one_out/politicalness/b...  996 / 1000 (100 %)   \n",
       "dataset_benchmark/leave_one_out/politicalness/b...  998 / 1000 (100 %)   \n",
       "dataset_benchmark/leave_one_out/politicalness/b...   994 / 1000 (99 %)   \n",
       "dataset_benchmark/leave_one_out/politicalness/b...   990 / 1000 (99 %)   \n",
       "dataset_benchmark/leave_one_out/politicalness/b...   993 / 1000 (99 %)   \n",
       "dataset_benchmark/leave_one_out/politicalness/b...   993 / 1000 (99 %)   \n",
       "dataset_benchmark/leave_one_out/politicalness/b...  995 / 1000 (100 %)   \n",
       "dataset_benchmark/leave_one_out/politicalness/b...  998 / 1000 (100 %)   \n",
       "dataset_benchmark/leave_one_out/politicalness/b...  995 / 1000 (100 %)   \n",
       "dataset_benchmark/leave_one_out/politicalness/b...  996 / 1000 (100 %)   \n",
       "dataset_benchmark/leave_one_out/politicalness/b...   994 / 1000 (99 %)   \n",
       "dataset_benchmark/leave_one_out/politicalness/b...   994 / 1000 (99 %)   \n",
       "dataset_benchmark/leave_one_out/politicalness/b...   986 / 1000 (99 %)   \n",
       "dataset_benchmark/leave_one_out/politicalness/b...   992 / 1000 (99 %)   \n",
       "dataset_benchmark/leave_one_out/politicalness/b...  995 / 1000 (100 %)   \n",
       "dataset_benchmark/leave_one_out/politicalness/b...  995 / 1000 (100 %)   \n",
       "dataset_benchmark/leave_one_out/politicalness/b...   994 / 1000 (99 %)   \n",
       "dataset_benchmark/leave_one_out/politicalness/b...   994 / 1000 (99 %)   \n",
       "dataset_benchmark/leave_one_out/politicalness/b...  996 / 1000 (100 %)   \n",
       "dataset_benchmark/leave_one_out/politicalness/b...   993 / 1000 (99 %)   \n",
       "\n",
       "                                                                 average  \n",
       "dataset_benchmark/leave_one_out/politicalness/b...  11288 / 11612 (97 %)  \n",
       "dataset_benchmark/leave_one_out/politicalness/b...  10386 / 10612 (98 %)  \n",
       "dataset_benchmark/leave_one_out/politicalness/b...  10501 / 10612 (99 %)  \n",
       "dataset_benchmark/leave_one_out/politicalness/b...  10398 / 10612 (98 %)  \n",
       "dataset_benchmark/leave_one_out/politicalness/b...  11366 / 11612 (98 %)  \n",
       "dataset_benchmark/leave_one_out/politicalness/b...  11281 / 11612 (97 %)  \n",
       "dataset_benchmark/leave_one_out/politicalness/b...  11315 / 11612 (97 %)  \n",
       "dataset_benchmark/leave_one_out/politicalness/b...  10342 / 11000 (94 %)  \n",
       "dataset_benchmark/leave_one_out/politicalness/b...  10391 / 10612 (98 %)  \n",
       "dataset_benchmark/leave_one_out/politicalness/b...  11425 / 11612 (98 %)  \n",
       "dataset_benchmark/leave_one_out/politicalness/b...  11373 / 11612 (98 %)  \n",
       "dataset_benchmark/leave_one_out/politicalness/b...  10446 / 10612 (98 %)  \n",
       "dataset_benchmark/leave_one_out/politicalness/b...  11366 / 11612 (98 %)  \n",
       "dataset_benchmark/leave_one_out/politicalness/b...  11345 / 11612 (98 %)  \n",
       "dataset_benchmark/leave_one_out/politicalness/b...  10369 / 10612 (98 %)  \n",
       "dataset_benchmark/leave_one_out/politicalness/b...  11407 / 11612 (98 %)  \n",
       "dataset_benchmark/leave_one_out/politicalness/b...  11342 / 11612 (98 %)  \n",
       "dataset_benchmark/leave_one_out/politicalness/b...  11409 / 11612 (98 %)  \n",
       "dataset_benchmark/leave_one_out/politicalness/b...  10410 / 10612 (98 %)  \n",
       "dataset_benchmark/leave_one_out/politicalness/b...  10439 / 10612 (98 %)  \n",
       "dataset_benchmark/leave_one_out/politicalness/b...  10414 / 10612 (98 %)  \n",
       "dataset_benchmark/leave_one_out/politicalness/b...  11368 / 11612 (98 %)  \n",
       "dataset_benchmark/leave_one_out/politicalness/b...  11350 / 11612 (98 %)  \n",
       "dataset_benchmark/leave_one_out/politicalness/b...  11402 / 11612 (98 %)  \n",
       "dataset_benchmark/leave_one_out/politicalness/b...  11386 / 11612 (98 %)  \n",
       "dataset_benchmark/leave_one_out/politicalness/b...  11401 / 11612 (98 %)  \n",
       "dataset_benchmark/leave_one_out/politicalness/b...  11383 / 11612 (98 %)  \n",
       "dataset_benchmark/leave_one_out/politicalness/b...  11252 / 11612 (97 %)  "
      ]
     },
     "execution_count": 3,
     "metadata": {},
     "output_type": "execute_result"
    }
   ],
   "source": [
    "# Lambda, so that the generator can be reused.\n",
    "GET_MODELS = lambda: get_custom_politicalness_models(Path(\"dataset_benchmark\") / \"leave_one_in\" / \"politicalness\")\n",
    "TRUNCATE_TOKENS = True\n",
    "\n",
    "evaluate_models(\n",
    "    GET_MODELS,\n",
    "    datasets,\n",
    "    TRUNCATE_TOKENS\n",
    ")"
   ]
  }
 ],
 "metadata": {
  "kernelspec": {
   "display_name": "Python 3 (ipykernel)",
   "language": "python",
   "name": "python3"
  },
  "language_info": {
   "codemirror_mode": {
    "name": "ipython",
    "version": 3
   },
   "file_extension": ".py",
   "mimetype": "text/x-python",
   "name": "python",
   "nbconvert_exporter": "python",
   "pygments_lexer": "ipython3",
   "version": "3.12.8"
  }
 },
 "nbformat": 4,
 "nbformat_minor": 5
}
