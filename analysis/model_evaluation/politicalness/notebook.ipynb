{
 "cells": [
  {
   "metadata": {
    "ExecuteTime": {
     "end_time": "2025-01-26T20:56:06.955538Z",
     "start_time": "2025-01-26T20:56:06.952562Z"
    }
   },
   "cell_type": "code",
   "source": [
    "from pathlib import Path\n",
    "\n",
    "from utils.dataset_utils import get_politicalness_datasets_for_leave_one_in_benchmark\n",
    "from utils.model_utils import evaluate_models, get_custom_politicalness_models"
   ],
   "id": "1a86cf1b770d4e74",
   "outputs": [],
   "execution_count": 7
  },
  {
   "metadata": {
    "ExecuteTime": {
     "end_time": "2025-01-26T20:56:13.511953Z",
     "start_time": "2025-01-26T20:56:06.964689Z"
    }
   },
   "cell_type": "code",
   "source": [
    "GET_DATASETS = lambda: get_politicalness_datasets_for_leave_one_in_benchmark()\n",
    "DATASET_SAMPLE_SIZE = 1_000\n",
    "\n",
    "datasets = list(map(\n",
    "    lambda dataset: dataset.take_even_class_distribution_sample(DATASET_SAMPLE_SIZE)\n",
    "    .transform_for_inference()\n",
    "    .to_huggingface(),\n",
    "    GET_DATASETS(),\n",
    "))"
   ],
   "id": "5e319e69e5719173",
   "outputs": [],
   "execution_count": 8
  },
  {
   "metadata": {
    "ExecuteTime": {
     "end_time": "2025-01-26T20:56:20.306150Z",
     "start_time": "2025-01-26T20:56:13.537599Z"
    }
   },
   "cell_type": "code",
   "source": [
    "# Lambda, so that the generator can be reused.\n",
    "GET_MODELS = lambda: get_custom_politicalness_models(Path(\"dataset_benchmark\") / \"leave_one_in\" / \"politicalness\")\n",
    "TRUNCATE_TOKENS = True\n",
    "\n",
    "evaluate_models(\n",
    "    GET_MODELS,\n",
    "    datasets,\n",
    "    TRUNCATE_TOKENS\n",
    ")"
   ],
   "id": "5cf67fea24092d06",
   "outputs": [
    {
     "name": "stdout",
     "output_type": "stream",
     "text": [
      "evaluating dataset_benchmark/leave_one_out/politicalness/POLITICS/amazon_reviews_2023 on:\n",
      "  amazon_reviews_2023\n"
     ]
    },
    {
     "data": {
      "text/plain": [
       "  0%|          | 0/2 [00:00<?, ?it/s]"
      ],
      "application/vnd.jupyter.widget-view+json": {
       "version_major": 2,
       "version_minor": 0,
       "model_id": "b7bf64add0894a2098a2c988272de13c"
      }
     },
     "metadata": {},
     "output_type": "display_data"
    },
    {
     "name": "stdout",
     "output_type": "stream",
     "text": [
      "  dialogsum\n"
     ]
    },
    {
     "data": {
      "text/plain": [
       "  0%|          | 0/2 [00:00<?, ?it/s]"
      ],
      "application/vnd.jupyter.widget-view+json": {
       "version_major": 2,
       "version_minor": 0,
       "model_id": "5c6a398abab042c48b094ecf73ae96ad"
      }
     },
     "metadata": {},
     "output_type": "display_data"
    },
    {
     "name": "stdout",
     "output_type": "stream",
     "text": [
      "  free_news\n"
     ]
    },
    {
     "data": {
      "text/plain": [
       "  0%|          | 0/2 [00:00<?, ?it/s]"
      ],
      "application/vnd.jupyter.widget-view+json": {
       "version_major": 2,
       "version_minor": 0,
       "model_id": "52848fdc583445d2abd0f3ace180ffdc"
      }
     },
     "metadata": {},
     "output_type": "display_data"
    },
    {
     "name": "stdout",
     "output_type": "stream",
     "text": [
      "  goodreads_book_genres\n"
     ]
    },
    {
     "data": {
      "text/plain": [
       "  0%|          | 0/2 [00:00<?, ?it/s]"
      ],
      "application/vnd.jupyter.widget-view+json": {
       "version_major": 2,
       "version_minor": 0,
       "model_id": "2444ca4f54b54816bac2229482cad7a6"
      }
     },
     "metadata": {},
     "output_type": "display_data"
    },
    {
     "name": "stdout",
     "output_type": "stream",
     "text": [
      "  imdb\n"
     ]
    },
    {
     "data": {
      "text/plain": [
       "  0%|          | 0/2 [00:00<?, ?it/s]"
      ],
      "application/vnd.jupyter.widget-view+json": {
       "version_major": 2,
       "version_minor": 0,
       "model_id": "9a0ce98469e54ce0aa0bc8c46bf3125c"
      }
     },
     "metadata": {},
     "output_type": "display_data"
    },
    {
     "name": "stdout",
     "output_type": "stream",
     "text": [
      "  imdb_movie_genres\n"
     ]
    },
    {
     "data": {
      "text/plain": [
       "  0%|          | 0/2 [00:00<?, ?it/s]"
      ],
      "application/vnd.jupyter.widget-view+json": {
       "version_major": 2,
       "version_minor": 0,
       "model_id": "1cfb7d30cc1b41b0befdfc242c0070ae"
      }
     },
     "metadata": {},
     "output_type": "display_data"
    },
    {
     "name": "stdout",
     "output_type": "stream",
     "text": [
      "  medium_post_titles\n"
     ]
    },
    {
     "data": {
      "text/plain": [
       "  0%|          | 0/2 [00:00<?, ?it/s]"
      ],
      "application/vnd.jupyter.widget-view+json": {
       "version_major": 2,
       "version_minor": 0,
       "model_id": "47326a2126e64156a30b59f5c96f5a40"
      }
     },
     "metadata": {},
     "output_type": "display_data"
    },
    {
     "name": "stdout",
     "output_type": "stream",
     "text": [
      "  news_category\n"
     ]
    },
    {
     "data": {
      "text/plain": [
       "  0%|          | 0/2 [00:00<?, ?it/s]"
      ],
      "application/vnd.jupyter.widget-view+json": {
       "version_major": 2,
       "version_minor": 0,
       "model_id": "a61fc8c5e82c4aff890d5c9dcdd214e5"
      }
     },
     "metadata": {},
     "output_type": "display_data"
    },
    {
     "name": "stdout",
     "output_type": "stream",
     "text": [
      "  pens\n"
     ]
    },
    {
     "data": {
      "text/plain": [
       "  0%|          | 0/2 [00:00<?, ?it/s]"
      ],
      "application/vnd.jupyter.widget-view+json": {
       "version_major": 2,
       "version_minor": 0,
       "model_id": "795cd77dfedc43aa8e8ccb783784ff65"
      }
     },
     "metadata": {},
     "output_type": "display_data"
    },
    {
     "name": "stdout",
     "output_type": "stream",
     "text": [
      "  polibertweet\n"
     ]
    },
    {
     "data": {
      "text/plain": [
       "  0%|          | 0/2 [00:00<?, ?it/s]"
      ],
      "application/vnd.jupyter.widget-view+json": {
       "version_major": 2,
       "version_minor": 0,
       "model_id": "4d941dfa8662415ebf9df151838b0645"
      }
     },
     "metadata": {},
     "output_type": "display_data"
    },
    {
     "name": "stdout",
     "output_type": "stream",
     "text": [
      "  political_or_not\n"
     ]
    },
    {
     "data": {
      "text/plain": [
       "  0%|          | 0/2 [00:00<?, ?it/s]"
      ],
      "application/vnd.jupyter.widget-view+json": {
       "version_major": 2,
       "version_minor": 0,
       "model_id": "67e5720ff9d840e69081862902ce76cd"
      }
     },
     "metadata": {},
     "output_type": "display_data"
    },
    {
     "name": "stdout",
     "output_type": "stream",
     "text": [
      "  recipes\n"
     ]
    },
    {
     "data": {
      "text/plain": [
       "  0%|          | 0/2 [00:00<?, ?it/s]"
      ],
      "application/vnd.jupyter.widget-view+json": {
       "version_major": 2,
       "version_minor": 0,
       "model_id": "51fb474481cf4a8f80cfbe78ffbafdcb"
      }
     },
     "metadata": {},
     "output_type": "display_data"
    },
    {
     "name": "stdout",
     "output_type": "stream",
     "text": [
      "  reddit_comments\n"
     ]
    },
    {
     "data": {
      "text/plain": [
       "  0%|          | 0/2 [00:00<?, ?it/s]"
      ],
      "application/vnd.jupyter.widget-view+json": {
       "version_major": 2,
       "version_minor": 0,
       "model_id": "347f18ac78bd47c6ba01d042693cc8db"
      }
     },
     "metadata": {},
     "output_type": "display_data"
    },
    {
     "name": "stdout",
     "output_type": "stream",
     "text": [
      "  reddit_submissions\n"
     ]
    },
    {
     "data": {
      "text/plain": [
       "  0%|          | 0/2 [00:00<?, ?it/s]"
      ],
      "application/vnd.jupyter.widget-view+json": {
       "version_major": 2,
       "version_minor": 0,
       "model_id": "b74d7986bb0d42e8b68cd75ca72f59c7"
      }
     },
     "metadata": {},
     "output_type": "display_data"
    },
    {
     "name": "stdout",
     "output_type": "stream",
     "text": [
      "  rotten_tomatoes\n"
     ]
    },
    {
     "data": {
      "text/plain": [
       "  0%|          | 0/2 [00:00<?, ?it/s]"
      ],
      "application/vnd.jupyter.widget-view+json": {
       "version_major": 2,
       "version_minor": 0,
       "model_id": "baa89d9a6c19465bad03b4b455711eb6"
      }
     },
     "metadata": {},
     "output_type": "display_data"
    },
    {
     "name": "stdout",
     "output_type": "stream",
     "text": [
      "  textbooks\n"
     ]
    },
    {
     "data": {
      "text/plain": [
       "  0%|          | 0/2 [00:00<?, ?it/s]"
      ],
      "application/vnd.jupyter.widget-view+json": {
       "version_major": 2,
       "version_minor": 0,
       "model_id": "6a5703bf368543528ec6afd96d0b64a4"
      }
     },
     "metadata": {},
     "output_type": "display_data"
    },
    {
     "name": "stdout",
     "output_type": "stream",
     "text": [
      "  tweet_topic_multi\n"
     ]
    },
    {
     "data": {
      "text/plain": [
       "  0%|          | 0/2 [00:00<?, ?it/s]"
      ],
      "application/vnd.jupyter.widget-view+json": {
       "version_major": 2,
       "version_minor": 0,
       "model_id": "e5923e7c4d0e4fafbc5d3bf3c8976457"
      }
     },
     "metadata": {},
     "output_type": "display_data"
    },
    {
     "name": "stdout",
     "output_type": "stream",
     "text": [
      "  yelp_review_full\n"
     ]
    },
    {
     "data": {
      "text/plain": [
       "  0%|          | 0/2 [00:00<?, ?it/s]"
      ],
      "application/vnd.jupyter.widget-view+json": {
       "version_major": 2,
       "version_minor": 0,
       "model_id": "6dd34ebd6bb24335a3da8f1f055d3c93"
      }
     },
     "metadata": {},
     "output_type": "display_data"
    },
    {
     "data": {
      "text/plain": [
       "                                                   amazon_reviews_2023  \\\n",
       "dataset_benchmark/leave_one_out/politicalness/P...       2 / 2 (100 %)   \n",
       "\n",
       "                                                        dialogsum  \\\n",
       "dataset_benchmark/leave_one_out/politicalness/P...  2 / 2 (100 %)   \n",
       "\n",
       "                                                       free_news  \\\n",
       "dataset_benchmark/leave_one_out/politicalness/P...  1 / 2 (50 %)   \n",
       "\n",
       "                                                   goodreads_book_genres  \\\n",
       "dataset_benchmark/leave_one_out/politicalness/P...         2 / 2 (100 %)   \n",
       "\n",
       "                                                             imdb  \\\n",
       "dataset_benchmark/leave_one_out/politicalness/P...  2 / 2 (100 %)   \n",
       "\n",
       "                                                   imdb_movie_genres  \\\n",
       "dataset_benchmark/leave_one_out/politicalness/P...     2 / 2 (100 %)   \n",
       "\n",
       "                                                   medium_post_titles  \\\n",
       "dataset_benchmark/leave_one_out/politicalness/P...       1 / 2 (50 %)   \n",
       "\n",
       "                                                   news_category  \\\n",
       "dataset_benchmark/leave_one_out/politicalness/P...  1 / 2 (50 %)   \n",
       "\n",
       "                                                            pens  \\\n",
       "dataset_benchmark/leave_one_out/politicalness/P...  1 / 2 (50 %)   \n",
       "\n",
       "                                                    polibertweet  \\\n",
       "dataset_benchmark/leave_one_out/politicalness/P...  1 / 2 (50 %)   \n",
       "\n",
       "                                                   political_or_not  \\\n",
       "dataset_benchmark/leave_one_out/politicalness/P...     1 / 2 (50 %)   \n",
       "\n",
       "                                                          recipes  \\\n",
       "dataset_benchmark/leave_one_out/politicalness/P...  2 / 2 (100 %)   \n",
       "\n",
       "                                                   reddit_comments  \\\n",
       "dataset_benchmark/leave_one_out/politicalness/P...   2 / 2 (100 %)   \n",
       "\n",
       "                                                   reddit_submissions  \\\n",
       "dataset_benchmark/leave_one_out/politicalness/P...      2 / 2 (100 %)   \n",
       "\n",
       "                                                   rotten_tomatoes  \\\n",
       "dataset_benchmark/leave_one_out/politicalness/P...   2 / 2 (100 %)   \n",
       "\n",
       "                                                       textbooks  \\\n",
       "dataset_benchmark/leave_one_out/politicalness/P...  1 / 2 (50 %)   \n",
       "\n",
       "                                                   tweet_topic_multi  \\\n",
       "dataset_benchmark/leave_one_out/politicalness/P...     2 / 2 (100 %)   \n",
       "\n",
       "                                                   yelp_review_full  \\\n",
       "dataset_benchmark/leave_one_out/politicalness/P...    2 / 2 (100 %)   \n",
       "\n",
       "                                                           average  \n",
       "dataset_benchmark/leave_one_out/politicalness/P...  27 / 34 (79 %)  "
      ],
      "text/html": [
       "<div>\n",
       "<style scoped>\n",
       "    .dataframe tbody tr th:only-of-type {\n",
       "        vertical-align: middle;\n",
       "    }\n",
       "\n",
       "    .dataframe tbody tr th {\n",
       "        vertical-align: top;\n",
       "    }\n",
       "\n",
       "    .dataframe thead th {\n",
       "        text-align: right;\n",
       "    }\n",
       "</style>\n",
       "<table border=\"1\" class=\"dataframe\">\n",
       "  <thead>\n",
       "    <tr style=\"text-align: right;\">\n",
       "      <th></th>\n",
       "      <th>amazon_reviews_2023</th>\n",
       "      <th>dialogsum</th>\n",
       "      <th>free_news</th>\n",
       "      <th>goodreads_book_genres</th>\n",
       "      <th>imdb</th>\n",
       "      <th>imdb_movie_genres</th>\n",
       "      <th>medium_post_titles</th>\n",
       "      <th>news_category</th>\n",
       "      <th>pens</th>\n",
       "      <th>polibertweet</th>\n",
       "      <th>political_or_not</th>\n",
       "      <th>recipes</th>\n",
       "      <th>reddit_comments</th>\n",
       "      <th>reddit_submissions</th>\n",
       "      <th>rotten_tomatoes</th>\n",
       "      <th>textbooks</th>\n",
       "      <th>tweet_topic_multi</th>\n",
       "      <th>yelp_review_full</th>\n",
       "      <th>average</th>\n",
       "    </tr>\n",
       "  </thead>\n",
       "  <tbody>\n",
       "    <tr>\n",
       "      <th>dataset_benchmark/leave_one_out/politicalness/POLITICS/amazon_reviews_2023</th>\n",
       "      <td>2 / 2 (100 %)</td>\n",
       "      <td>2 / 2 (100 %)</td>\n",
       "      <td>1 / 2 (50 %)</td>\n",
       "      <td>2 / 2 (100 %)</td>\n",
       "      <td>2 / 2 (100 %)</td>\n",
       "      <td>2 / 2 (100 %)</td>\n",
       "      <td>1 / 2 (50 %)</td>\n",
       "      <td>1 / 2 (50 %)</td>\n",
       "      <td>1 / 2 (50 %)</td>\n",
       "      <td>1 / 2 (50 %)</td>\n",
       "      <td>1 / 2 (50 %)</td>\n",
       "      <td>2 / 2 (100 %)</td>\n",
       "      <td>2 / 2 (100 %)</td>\n",
       "      <td>2 / 2 (100 %)</td>\n",
       "      <td>2 / 2 (100 %)</td>\n",
       "      <td>1 / 2 (50 %)</td>\n",
       "      <td>2 / 2 (100 %)</td>\n",
       "      <td>2 / 2 (100 %)</td>\n",
       "      <td>27 / 34 (79 %)</td>\n",
       "    </tr>\n",
       "  </tbody>\n",
       "</table>\n",
       "</div>"
      ]
     },
     "execution_count": 9,
     "metadata": {},
     "output_type": "execute_result"
    }
   ],
   "execution_count": 9
  }
 ],
 "metadata": {
  "kernelspec": {
   "display_name": "Python 3",
   "language": "python",
   "name": "python3"
  },
  "language_info": {
   "codemirror_mode": {
    "name": "ipython",
    "version": 2
   },
   "file_extension": ".py",
   "mimetype": "text/x-python",
   "name": "python",
   "nbconvert_exporter": "python",
   "pygments_lexer": "ipython2",
   "version": "2.7.6"
  }
 },
 "nbformat": 4,
 "nbformat_minor": 5
}
