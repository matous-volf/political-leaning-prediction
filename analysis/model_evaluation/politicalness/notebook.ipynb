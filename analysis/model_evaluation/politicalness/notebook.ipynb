{
 "cells": [
  {
   "cell_type": "code",
   "id": "1a86cf1b770d4e74",
   "metadata": {},
   "source": [
    "from itertools import chain\n",
    "from pathlib import Path\n",
    "\n",
    "from datasets import concatenate_datasets\n",
    "\n",
    "from utils.dataset_utils import get_politicalness_datasets, \\\n",
    "    get_politicalness_datasets_from_leaning_datasets\n",
    "from utils.model_utils import evaluate_models, get_custom_politicalness_models"
   ],
   "outputs": [],
   "execution_count": null
  },
  {
   "cell_type": "code",
   "id": "5e319e69e5719173",
   "metadata": {},
   "source": [
    "GET_DATASETS = lambda: chain(\n",
    "    get_politicalness_datasets(),\n",
    "    get_politicalness_datasets_from_leaning_datasets()\n",
    ")\n",
    "DATASET_SAMPLE_SIZE = 1_000\n",
    "\n",
    "datasets = list(\n",
    "    map(\n",
    "        lambda dataset: dataset\n",
    "        .take_even_class_distribution_sample(DATASET_SAMPLE_SIZE)\n",
    "        .transform_for_inference()\n",
    "        .to_huggingface(),\n",
    "        GET_DATASETS(),\n",
    "    )\n",
    ")"
   ],
   "outputs": [],
   "execution_count": null
  },
  {
   "cell_type": "code",
   "id": "5cf67fea24092d06",
   "metadata": {},
   "source": [
    "# Lambda, so that the generator can be reused.\n",
    "GET_MODELS = lambda: get_custom_politicalness_models(Path(\"dataset_benchmark\") / \"leave_one_in\" / \"politicalness\")\n",
    "TRUNCATE_TOKENS = True\n",
    "\n",
    "evaluate_models(\n",
    "    GET_MODELS,\n",
    "    datasets,\n",
    "    TRUNCATE_TOKENS\n",
    ")"
   ],
   "outputs": [],
   "execution_count": null
  },
  {
   "metadata": {},
   "cell_type": "code",
   "source": [
    "concatenated_dataset = concatenate_datasets(datasets)\n",
    "\n",
    "evaluate_models(\n",
    "    GET_MODELS,\n",
    "    [concatenated_dataset],\n",
    "    TRUNCATE_TOKENS\n",
    ")"
   ],
   "id": "90e0c5c8a50529ca",
   "outputs": [],
   "execution_count": null
  }
 ],
 "metadata": {
  "kernelspec": {
   "display_name": "Python 3 (ipykernel)",
   "language": "python",
   "name": "python3"
  },
  "language_info": {
   "codemirror_mode": {
    "name": "ipython",
    "version": 3
   },
   "file_extension": ".py",
   "mimetype": "text/x-python",
   "name": "python",
   "nbconvert_exporter": "python",
   "pygments_lexer": "ipython3",
   "version": "3.12.8"
  }
 },
 "nbformat": 4,
 "nbformat_minor": 5
}
