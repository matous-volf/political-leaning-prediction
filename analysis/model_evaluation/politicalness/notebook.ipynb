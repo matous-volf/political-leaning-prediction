{
 "cells": [
  {
   "cell_type": "code",
   "id": "1a86cf1b770d4e74",
   "metadata": {},
   "source": [
    "from itertools import chain\n",
    "from pathlib import Path\n",
    "\n",
    "from datasets import DatasetInfo, concatenate_datasets\n",
    "\n",
    "from utils.base_directory import base_directory\n",
    "from utils.dataset_utils import get_politicalness_datasets, \\\n",
    "    get_politicalness_datasets_from_leaning_datasets, politicalness_label_mapping\n",
    "from utils.model_utils import evaluate_models, get_custom_politicalness_models\n"
   ],
   "outputs": [],
   "execution_count": null
  },
  {
   "cell_type": "code",
   "id": "5e319e69e5719173",
   "metadata": {},
   "source": [
    "GET_DATASETS = lambda: chain(\n",
    "    get_politicalness_datasets(),\n",
    "    get_politicalness_datasets_from_leaning_datasets()\n",
    ")\n",
    "DATASET_SAMPLE_SIZE = 1_000\n",
    "\n",
    "datasets = list(\n",
    "    map(\n",
    "        lambda dataset: dataset\n",
    "        .take_even_class_sample_by_size(DATASET_SAMPLE_SIZE)\n",
    "        .transform_for_inference()\n",
    "        .to_huggingface(),\n",
    "        GET_DATASETS(),\n",
    "    )\n",
    ")"
   ],
   "outputs": [],
   "execution_count": null
  },
  {
   "metadata": {},
   "cell_type": "code",
   "source": [
    "# Lambda, so that the generator can be reused.\n",
    "GET_MODELS = lambda: get_custom_politicalness_models(Path(\"dataset_benchmark\") / \"leave_one_in\" / \"politicalness\")\n",
    "\n",
    "results = evaluate_models(\n",
    "    GET_MODELS,\n",
    "    datasets,\n",
    ")"
   ],
   "id": "6bc8f08a5f5bb281",
   "outputs": [],
   "execution_count": null
  },
  {
   "metadata": {},
   "cell_type": "code",
   "source": "results.count",
   "id": "c10cb8a1c98a9367",
   "outputs": [],
   "execution_count": null
  },
  {
   "metadata": {},
   "cell_type": "code",
   "source": "results.accuracy",
   "id": "287104df0fd9dddf",
   "outputs": [],
   "execution_count": null
  },
  {
   "metadata": {},
   "cell_type": "code",
   "source": "results.f1",
   "id": "e11999c5b0c57e0b",
   "outputs": [],
   "execution_count": null
  },
  {
   "metadata": {},
   "cell_type": "code",
   "source": "results.precision",
   "id": "515919e6d79e525a",
   "outputs": [],
   "execution_count": null
  },
  {
   "metadata": {},
   "cell_type": "code",
   "source": "results.recall",
   "id": "d171206a8e10a030",
   "outputs": [],
   "execution_count": null
  },
  {
   "metadata": {},
   "cell_type": "code",
   "source": [
    "results.save_confusion_matrix_images(\n",
    "    Path(\n",
    "        base_directory,\n",
    "        \"analysis\",\n",
    "        \"model_evaluation\",\n",
    "        \"politicalness\",\n",
    "        \"confusion_matrix_results\",\n",
    "        \"separate\",\n",
    "    ),\n",
    "    politicalness_label_mapping\n",
    ")"
   ],
   "id": "e34dd5d5038def4f",
   "outputs": [],
   "execution_count": null
  },
  {
   "metadata": {},
   "cell_type": "code",
   "source": [
    "aggregate_dataset = concatenate_datasets(datasets, info=DatasetInfo(dataset_name=\"aggregate\"))\n",
    "\n",
    "aggregate_results = evaluate_models(\n",
    "    GET_MODELS,\n",
    "    [aggregate_dataset],\n",
    ")"
   ],
   "id": "c0630a4a94410738",
   "outputs": [],
   "execution_count": null
  },
  {
   "metadata": {},
   "cell_type": "code",
   "source": "aggregate_results.count",
   "id": "e0fbef45d300b5da",
   "outputs": [],
   "execution_count": null
  },
  {
   "metadata": {},
   "cell_type": "code",
   "source": "aggregate_results.accuracy",
   "id": "5fdcee7ab66d79bd",
   "outputs": [],
   "execution_count": null
  },
  {
   "metadata": {},
   "cell_type": "code",
   "source": "aggregate_results.f1",
   "id": "365f0281186fbc32",
   "outputs": [],
   "execution_count": null
  },
  {
   "metadata": {},
   "cell_type": "code",
   "source": "aggregate_results.precision",
   "id": "740782426983b00b",
   "outputs": [],
   "execution_count": null
  },
  {
   "metadata": {},
   "cell_type": "code",
   "source": "aggregate_results.recall",
   "id": "4c4c3be300613d77",
   "outputs": [],
   "execution_count": null
  },
  {
   "metadata": {},
   "cell_type": "code",
   "source": [
    "aggregate_results.save_confusion_matrix_images(\n",
    "    Path(\n",
    "        base_directory,\n",
    "        \"analysis\",\n",
    "        \"model_evaluation\",\n",
    "        \"politicalness\",\n",
    "        \"confusion_matrix_results\",\n",
    "        \"aggregate\",\n",
    "    ),\n",
    "    politicalness_label_mapping\n",
    ")"
   ],
   "id": "718d3f5d37eabb5b",
   "outputs": [],
   "execution_count": null
  }
 ],
 "metadata": {
  "kernelspec": {
   "display_name": "Python 3 (ipykernel)",
   "language": "python",
   "name": "python3"
  },
  "language_info": {
   "codemirror_mode": {
    "name": "ipython",
    "version": 3
   },
   "file_extension": ".py",
   "mimetype": "text/x-python",
   "name": "python",
   "nbconvert_exporter": "python",
   "pygments_lexer": "ipython3",
   "version": "3.12.8"
  }
 },
 "nbformat": 4,
 "nbformat_minor": 5
}
