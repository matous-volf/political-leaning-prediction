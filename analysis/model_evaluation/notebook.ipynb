{
 "cells": [
  {
   "cell_type": "code",
   "id": "0",
   "metadata": {
    "ExecuteTime": {
     "end_time": "2024-11-23T11:08:27.159713Z",
     "start_time": "2024-11-23T11:08:23.845711Z"
    }
   },
   "source": [
    "import numpy as np\n",
    "import pandas as pd\n",
    "from sklearn.metrics import accuracy_score\n",
    "from tqdm import tqdm\n",
    "\n",
    "from utils.datasets import get_datasets\n",
    "from utils.models import get_existing_models, get_dataset_benchmark_models"
   ],
   "outputs": [],
   "execution_count": 1
  },
  {
   "cell_type": "code",
   "id": "1",
   "metadata": {
    "ExecuteTime": {
     "end_time": "2024-11-23T11:08:44.025618Z",
     "start_time": "2024-11-23T11:08:27.240042Z"
    }
   },
   "source": [
    "DATASET_SAMPLE_SIZE = 10\n",
    "\n",
    "datasets = get_datasets()\n",
    "datasets_without_center = get_datasets()\n",
    "\n",
    "for dataset in datasets:\n",
    "    if len(dataset.dataframe) <= DATASET_SAMPLE_SIZE:\n",
    "        continue\n",
    "\n",
    "    dataset.dataframe = dataset.dataframe.iloc[\n",
    "                        ::len(dataset.dataframe) // DATASET_SAMPLE_SIZE\n",
    "                        ].head(DATASET_SAMPLE_SIZE)\n",
    "\n",
    "for dataset in datasets_without_center:\n",
    "    dataset.dataframe = dataset.dataframe[dataset.dataframe[\"leaning\"] != \"center\"]\n",
    "\n",
    "    if len(dataset.dataframe) <= DATASET_SAMPLE_SIZE:\n",
    "        continue\n",
    "\n",
    "    dataset.dataframe = dataset.dataframe.iloc[\n",
    "                        ::len(dataset.dataframe) // DATASET_SAMPLE_SIZE\n",
    "                        ].head(DATASET_SAMPLE_SIZE)"
   ],
   "outputs": [],
   "execution_count": 2
  },
  {
   "cell_type": "code",
   "id": "2",
   "metadata": {
    "ExecuteTime": {
     "end_time": "2024-11-23T11:09:14.396134Z",
     "start_time": "2024-11-23T11:08:44.350743Z"
    }
   },
   "source": [
    "TRUNCATE_TOKENS = True\n",
    "# Lambda, so that the generator can be reused.\n",
    "GET_MODELS = lambda: get_dataset_benchmark_models()\n",
    "\n",
    "accuracy_results = []\n",
    "\n",
    "for model_index, model in enumerate(GET_MODELS()):\n",
    "    print(f\"evaluating {model.name} on:\")\n",
    "    accuracy_results.append([])\n",
    "    for dataset_index in range(len(datasets)):\n",
    "        dataset = datasets[dataset_index] if model.supports_center_leaning else datasets_without_center[dataset_index]\n",
    "        print(f\"  {dataset.name}\")\n",
    "\n",
    "        predictions = []\n",
    "        for body_index, body in enumerate(tqdm(dataset.dataframe[\"body\"])):\n",
    "            try:\n",
    "                predictions.append(model.predict(body, TRUNCATE_TOKENS))\n",
    "            except RuntimeError:\n",
    "                if TRUNCATE_TOKENS:\n",
    "                    raise\n",
    "                predictions.append(None)\n",
    "\n",
    "        valid_indices = [i for i, prediction in enumerate(predictions) if prediction is not None]\n",
    "        predictions = list(map(lambda prediction: prediction.value, [predictions[i] for i in valid_indices]))\n",
    "        accuracy = accuracy_score(\n",
    "            dataset.dataframe[\"leaning\"].iloc[valid_indices].tolist(),\n",
    "            predictions\n",
    "        ) if len(predictions) > 0 else 0\n",
    "        accuracy_results[-1].append(\n",
    "            f\"{len(valid_indices) * accuracy:.0f}/{len(valid_indices)} ({np.round(accuracy * 100, 2)} %)\"\n",
    "        )"
   ],
   "outputs": [
    {
     "name": "stdout",
     "output_type": "stream",
     "text": [
      "evaluating dataset_benchmark/roberta-base/article_bias_prediction on:\n",
      "  commoncrawl_news_articles\n"
     ]
    },
    {
     "name": "stderr",
     "output_type": "stream",
     "text": [
      "100%|██████████| 10/10 [00:00<00:00, 23.53it/s]\n"
     ]
    },
    {
     "name": "stdout",
     "output_type": "stream",
     "text": [
      "  article_bias_prediction\n"
     ]
    },
    {
     "name": "stderr",
     "output_type": "stream",
     "text": [
      "100%|██████████| 10/10 [00:00<00:00, 31.96it/s]\n"
     ]
    },
    {
     "name": "stdout",
     "output_type": "stream",
     "text": [
      "  qbias\n"
     ]
    },
    {
     "name": "stderr",
     "output_type": "stream",
     "text": [
      "100%|██████████| 10/10 [00:00<00:00, 98.71it/s]\n"
     ]
    },
    {
     "name": "stdout",
     "output_type": "stream",
     "text": [
      "  polistance_issue_tweets\n"
     ]
    },
    {
     "name": "stderr",
     "output_type": "stream",
     "text": [
      "100%|██████████| 10/10 [00:00<00:00, 146.53it/s]\n"
     ]
    },
    {
     "name": "stdout",
     "output_type": "stream",
     "text": [
      "  webis_news_bias_20\n"
     ]
    },
    {
     "name": "stderr",
     "output_type": "stream",
     "text": [
      "100%|██████████| 10/10 [00:00<00:00, 32.90it/s]\n"
     ]
    },
    {
     "name": "stdout",
     "output_type": "stream",
     "text": [
      "  webis_bias_flipper_18\n"
     ]
    },
    {
     "name": "stderr",
     "output_type": "stream",
     "text": [
      "100%|██████████| 10/10 [00:00<00:00, 32.22it/s]\n"
     ]
    },
    {
     "name": "stdout",
     "output_type": "stream",
     "text": [
      "  gpt4_political_bias\n"
     ]
    },
    {
     "name": "stderr",
     "output_type": "stream",
     "text": [
      "100%|██████████| 10/10 [00:00<00:00, 154.92it/s]\n"
     ]
    },
    {
     "name": "stdout",
     "output_type": "stream",
     "text": [
      "evaluating dataset_benchmark/roberta-base/commoncrawl_news_articles on:\n",
      "  commoncrawl_news_articles\n"
     ]
    },
    {
     "name": "stderr",
     "output_type": "stream",
     "text": [
      "100%|██████████| 10/10 [00:00<00:00, 40.95it/s]\n"
     ]
    },
    {
     "name": "stdout",
     "output_type": "stream",
     "text": [
      "  article_bias_prediction\n"
     ]
    },
    {
     "name": "stderr",
     "output_type": "stream",
     "text": [
      "100%|██████████| 10/10 [00:00<00:00, 34.98it/s]\n"
     ]
    },
    {
     "name": "stdout",
     "output_type": "stream",
     "text": [
      "  qbias\n"
     ]
    },
    {
     "name": "stderr",
     "output_type": "stream",
     "text": [
      "100%|██████████| 10/10 [00:00<00:00, 122.83it/s]\n"
     ]
    },
    {
     "name": "stdout",
     "output_type": "stream",
     "text": [
      "  polistance_issue_tweets\n"
     ]
    },
    {
     "name": "stderr",
     "output_type": "stream",
     "text": [
      "100%|██████████| 10/10 [00:00<00:00, 146.31it/s]\n"
     ]
    },
    {
     "name": "stdout",
     "output_type": "stream",
     "text": [
      "  webis_news_bias_20\n"
     ]
    },
    {
     "name": "stderr",
     "output_type": "stream",
     "text": [
      "100%|██████████| 10/10 [00:00<00:00, 37.37it/s]\n"
     ]
    },
    {
     "name": "stdout",
     "output_type": "stream",
     "text": [
      "  webis_bias_flipper_18\n"
     ]
    },
    {
     "name": "stderr",
     "output_type": "stream",
     "text": [
      "100%|██████████| 10/10 [00:00<00:00, 36.46it/s]\n"
     ]
    },
    {
     "name": "stdout",
     "output_type": "stream",
     "text": [
      "  gpt4_political_bias\n"
     ]
    },
    {
     "name": "stderr",
     "output_type": "stream",
     "text": [
      "100%|██████████| 10/10 [00:00<00:00, 175.52it/s]\n"
     ]
    },
    {
     "name": "stdout",
     "output_type": "stream",
     "text": [
      "evaluating dataset_benchmark/roberta-base/gpt4_political_bias on:\n",
      "  commoncrawl_news_articles\n"
     ]
    },
    {
     "name": "stderr",
     "output_type": "stream",
     "text": [
      "100%|██████████| 10/10 [00:00<00:00, 37.43it/s]\n"
     ]
    },
    {
     "name": "stdout",
     "output_type": "stream",
     "text": [
      "  article_bias_prediction\n"
     ]
    },
    {
     "name": "stderr",
     "output_type": "stream",
     "text": [
      "100%|██████████| 10/10 [00:00<00:00, 35.77it/s]\n"
     ]
    },
    {
     "name": "stdout",
     "output_type": "stream",
     "text": [
      "  qbias\n"
     ]
    },
    {
     "name": "stderr",
     "output_type": "stream",
     "text": [
      "100%|██████████| 10/10 [00:00<00:00, 121.54it/s]\n"
     ]
    },
    {
     "name": "stdout",
     "output_type": "stream",
     "text": [
      "  polistance_issue_tweets\n"
     ]
    },
    {
     "name": "stderr",
     "output_type": "stream",
     "text": [
      "100%|██████████| 10/10 [00:00<00:00, 129.24it/s]\n"
     ]
    },
    {
     "name": "stdout",
     "output_type": "stream",
     "text": [
      "  webis_news_bias_20\n"
     ]
    },
    {
     "name": "stderr",
     "output_type": "stream",
     "text": [
      "100%|██████████| 10/10 [00:00<00:00, 29.90it/s]\n"
     ]
    },
    {
     "name": "stdout",
     "output_type": "stream",
     "text": [
      "  webis_bias_flipper_18\n"
     ]
    },
    {
     "name": "stderr",
     "output_type": "stream",
     "text": [
      "100%|██████████| 10/10 [00:00<00:00, 35.92it/s]\n"
     ]
    },
    {
     "name": "stdout",
     "output_type": "stream",
     "text": [
      "  gpt4_political_bias\n"
     ]
    },
    {
     "name": "stderr",
     "output_type": "stream",
     "text": [
      "100%|██████████| 10/10 [00:00<00:00, 168.20it/s]\n"
     ]
    },
    {
     "name": "stdout",
     "output_type": "stream",
     "text": [
      "evaluating dataset_benchmark/roberta-base/polistance_issue_tweets on:\n",
      "  commoncrawl_news_articles\n"
     ]
    },
    {
     "name": "stderr",
     "output_type": "stream",
     "text": [
      "100%|██████████| 10/10 [00:00<00:00, 39.33it/s]\n"
     ]
    },
    {
     "name": "stdout",
     "output_type": "stream",
     "text": [
      "  article_bias_prediction\n"
     ]
    },
    {
     "name": "stderr",
     "output_type": "stream",
     "text": [
      "100%|██████████| 10/10 [00:00<00:00, 35.41it/s]\n"
     ]
    },
    {
     "name": "stdout",
     "output_type": "stream",
     "text": [
      "  qbias\n"
     ]
    },
    {
     "name": "stderr",
     "output_type": "stream",
     "text": [
      "100%|██████████| 10/10 [00:00<00:00, 119.38it/s]\n"
     ]
    },
    {
     "name": "stdout",
     "output_type": "stream",
     "text": [
      "  polistance_issue_tweets\n"
     ]
    },
    {
     "name": "stderr",
     "output_type": "stream",
     "text": [
      "100%|██████████| 10/10 [00:00<00:00, 141.01it/s]\n"
     ]
    },
    {
     "name": "stdout",
     "output_type": "stream",
     "text": [
      "  webis_news_bias_20\n"
     ]
    },
    {
     "name": "stderr",
     "output_type": "stream",
     "text": [
      "100%|██████████| 10/10 [00:00<00:00, 37.20it/s]\n"
     ]
    },
    {
     "name": "stdout",
     "output_type": "stream",
     "text": [
      "  webis_bias_flipper_18\n"
     ]
    },
    {
     "name": "stderr",
     "output_type": "stream",
     "text": [
      "100%|██████████| 10/10 [00:00<00:00, 32.71it/s]\n"
     ]
    },
    {
     "name": "stdout",
     "output_type": "stream",
     "text": [
      "  gpt4_political_bias\n"
     ]
    },
    {
     "name": "stderr",
     "output_type": "stream",
     "text": [
      "100%|██████████| 10/10 [00:00<00:00, 156.90it/s]\n"
     ]
    },
    {
     "name": "stdout",
     "output_type": "stream",
     "text": [
      "evaluating dataset_benchmark/roberta-base/qbias on:\n",
      "  commoncrawl_news_articles\n"
     ]
    },
    {
     "name": "stderr",
     "output_type": "stream",
     "text": [
      "100%|██████████| 10/10 [00:00<00:00, 39.48it/s]\n"
     ]
    },
    {
     "name": "stdout",
     "output_type": "stream",
     "text": [
      "  article_bias_prediction\n"
     ]
    },
    {
     "name": "stderr",
     "output_type": "stream",
     "text": [
      "100%|██████████| 10/10 [00:00<00:00, 35.28it/s]\n"
     ]
    },
    {
     "name": "stdout",
     "output_type": "stream",
     "text": [
      "  qbias\n"
     ]
    },
    {
     "name": "stderr",
     "output_type": "stream",
     "text": [
      "100%|██████████| 10/10 [00:00<00:00, 115.99it/s]\n"
     ]
    },
    {
     "name": "stdout",
     "output_type": "stream",
     "text": [
      "  polistance_issue_tweets\n"
     ]
    },
    {
     "name": "stderr",
     "output_type": "stream",
     "text": [
      "100%|██████████| 10/10 [00:00<00:00, 140.59it/s]\n"
     ]
    },
    {
     "name": "stdout",
     "output_type": "stream",
     "text": [
      "  webis_news_bias_20\n"
     ]
    },
    {
     "name": "stderr",
     "output_type": "stream",
     "text": [
      "100%|██████████| 10/10 [00:00<00:00, 31.05it/s]\n"
     ]
    },
    {
     "name": "stdout",
     "output_type": "stream",
     "text": [
      "  webis_bias_flipper_18\n"
     ]
    },
    {
     "name": "stderr",
     "output_type": "stream",
     "text": [
      "100%|██████████| 10/10 [00:00<00:00, 33.99it/s]\n"
     ]
    },
    {
     "name": "stdout",
     "output_type": "stream",
     "text": [
      "  gpt4_political_bias\n"
     ]
    },
    {
     "name": "stderr",
     "output_type": "stream",
     "text": [
      "100%|██████████| 10/10 [00:00<00:00, 161.01it/s]\n"
     ]
    },
    {
     "name": "stdout",
     "output_type": "stream",
     "text": [
      "evaluating dataset_benchmark/roberta-base/webis_bias_flipper_18 on:\n",
      "  commoncrawl_news_articles\n"
     ]
    },
    {
     "name": "stderr",
     "output_type": "stream",
     "text": [
      "100%|██████████| 10/10 [00:00<00:00, 36.41it/s]\n"
     ]
    },
    {
     "name": "stdout",
     "output_type": "stream",
     "text": [
      "  article_bias_prediction\n"
     ]
    },
    {
     "name": "stderr",
     "output_type": "stream",
     "text": [
      "100%|██████████| 10/10 [00:00<00:00, 34.84it/s]\n"
     ]
    },
    {
     "name": "stdout",
     "output_type": "stream",
     "text": [
      "  qbias\n"
     ]
    },
    {
     "name": "stderr",
     "output_type": "stream",
     "text": [
      "100%|██████████| 10/10 [00:00<00:00, 119.22it/s]\n"
     ]
    },
    {
     "name": "stdout",
     "output_type": "stream",
     "text": [
      "  polistance_issue_tweets\n"
     ]
    },
    {
     "name": "stderr",
     "output_type": "stream",
     "text": [
      "100%|██████████| 10/10 [00:00<00:00, 146.26it/s]\n"
     ]
    },
    {
     "name": "stdout",
     "output_type": "stream",
     "text": [
      "  webis_news_bias_20\n"
     ]
    },
    {
     "name": "stderr",
     "output_type": "stream",
     "text": [
      "100%|██████████| 10/10 [00:00<00:00, 36.73it/s]\n"
     ]
    },
    {
     "name": "stdout",
     "output_type": "stream",
     "text": [
      "  webis_bias_flipper_18\n"
     ]
    },
    {
     "name": "stderr",
     "output_type": "stream",
     "text": [
      "100%|██████████| 10/10 [00:00<00:00, 31.35it/s]\n"
     ]
    },
    {
     "name": "stdout",
     "output_type": "stream",
     "text": [
      "  gpt4_political_bias\n"
     ]
    },
    {
     "name": "stderr",
     "output_type": "stream",
     "text": [
      "100%|██████████| 10/10 [00:00<00:00, 147.75it/s]\n"
     ]
    },
    {
     "name": "stdout",
     "output_type": "stream",
     "text": [
      "evaluating dataset_benchmark/roberta-base/webis_news_bias_20 on:\n",
      "  commoncrawl_news_articles\n"
     ]
    },
    {
     "name": "stderr",
     "output_type": "stream",
     "text": [
      "100%|██████████| 10/10 [00:00<00:00, 40.21it/s]\n"
     ]
    },
    {
     "name": "stdout",
     "output_type": "stream",
     "text": [
      "  article_bias_prediction\n"
     ]
    },
    {
     "name": "stderr",
     "output_type": "stream",
     "text": [
      "100%|██████████| 10/10 [00:00<00:00, 34.97it/s]\n"
     ]
    },
    {
     "name": "stdout",
     "output_type": "stream",
     "text": [
      "  qbias\n"
     ]
    },
    {
     "name": "stderr",
     "output_type": "stream",
     "text": [
      "100%|██████████| 10/10 [00:00<00:00, 118.33it/s]\n"
     ]
    },
    {
     "name": "stdout",
     "output_type": "stream",
     "text": [
      "  polistance_issue_tweets\n"
     ]
    },
    {
     "name": "stderr",
     "output_type": "stream",
     "text": [
      "100%|██████████| 10/10 [00:00<00:00, 137.78it/s]\n"
     ]
    },
    {
     "name": "stdout",
     "output_type": "stream",
     "text": [
      "  webis_news_bias_20\n"
     ]
    },
    {
     "name": "stderr",
     "output_type": "stream",
     "text": [
      "100%|██████████| 10/10 [00:00<00:00, 35.83it/s]\n"
     ]
    },
    {
     "name": "stdout",
     "output_type": "stream",
     "text": [
      "  webis_bias_flipper_18\n"
     ]
    },
    {
     "name": "stderr",
     "output_type": "stream",
     "text": [
      "100%|██████████| 10/10 [00:00<00:00, 34.14it/s]\n"
     ]
    },
    {
     "name": "stdout",
     "output_type": "stream",
     "text": [
      "  gpt4_political_bias\n"
     ]
    },
    {
     "name": "stderr",
     "output_type": "stream",
     "text": [
      "100%|██████████| 10/10 [00:00<00:00, 162.57it/s]\n"
     ]
    },
    {
     "name": "stdout",
     "output_type": "stream",
     "text": [
      "evaluating dataset_benchmark/bert-base-cased/article_bias_prediction on:\n",
      "  commoncrawl_news_articles\n"
     ]
    },
    {
     "name": "stderr",
     "output_type": "stream",
     "text": [
      "100%|██████████| 10/10 [00:00<00:00, 40.56it/s]\n"
     ]
    },
    {
     "name": "stdout",
     "output_type": "stream",
     "text": [
      "  article_bias_prediction\n"
     ]
    },
    {
     "name": "stderr",
     "output_type": "stream",
     "text": [
      "100%|██████████| 10/10 [00:00<00:00, 34.85it/s]\n"
     ]
    },
    {
     "name": "stdout",
     "output_type": "stream",
     "text": [
      "  qbias\n"
     ]
    },
    {
     "name": "stderr",
     "output_type": "stream",
     "text": [
      "100%|██████████| 10/10 [00:00<00:00, 120.21it/s]\n"
     ]
    },
    {
     "name": "stdout",
     "output_type": "stream",
     "text": [
      "  polistance_issue_tweets\n"
     ]
    },
    {
     "name": "stderr",
     "output_type": "stream",
     "text": [
      "100%|██████████| 10/10 [00:00<00:00, 140.11it/s]\n"
     ]
    },
    {
     "name": "stdout",
     "output_type": "stream",
     "text": [
      "  webis_news_bias_20\n"
     ]
    },
    {
     "name": "stderr",
     "output_type": "stream",
     "text": [
      "100%|██████████| 10/10 [00:00<00:00, 35.61it/s]\n"
     ]
    },
    {
     "name": "stdout",
     "output_type": "stream",
     "text": [
      "  webis_bias_flipper_18\n"
     ]
    },
    {
     "name": "stderr",
     "output_type": "stream",
     "text": [
      "100%|██████████| 10/10 [00:00<00:00, 36.33it/s]\n"
     ]
    },
    {
     "name": "stdout",
     "output_type": "stream",
     "text": [
      "  gpt4_political_bias\n"
     ]
    },
    {
     "name": "stderr",
     "output_type": "stream",
     "text": [
      "100%|██████████| 10/10 [00:00<00:00, 173.40it/s]\n"
     ]
    },
    {
     "name": "stdout",
     "output_type": "stream",
     "text": [
      "evaluating dataset_benchmark/bert-base-cased/commoncrawl_news_articles on:\n",
      "  commoncrawl_news_articles\n"
     ]
    },
    {
     "name": "stderr",
     "output_type": "stream",
     "text": [
      "100%|██████████| 10/10 [00:00<00:00, 40.66it/s]\n"
     ]
    },
    {
     "name": "stdout",
     "output_type": "stream",
     "text": [
      "  article_bias_prediction\n"
     ]
    },
    {
     "name": "stderr",
     "output_type": "stream",
     "text": [
      "100%|██████████| 10/10 [00:00<00:00, 35.24it/s]\n"
     ]
    },
    {
     "name": "stdout",
     "output_type": "stream",
     "text": [
      "  qbias\n"
     ]
    },
    {
     "name": "stderr",
     "output_type": "stream",
     "text": [
      "100%|██████████| 10/10 [00:00<00:00, 117.65it/s]\n"
     ]
    },
    {
     "name": "stdout",
     "output_type": "stream",
     "text": [
      "  polistance_issue_tweets\n"
     ]
    },
    {
     "name": "stderr",
     "output_type": "stream",
     "text": [
      "100%|██████████| 10/10 [00:00<00:00, 120.72it/s]\n"
     ]
    },
    {
     "name": "stdout",
     "output_type": "stream",
     "text": [
      "  webis_news_bias_20\n"
     ]
    },
    {
     "name": "stderr",
     "output_type": "stream",
     "text": [
      "100%|██████████| 10/10 [00:00<00:00, 33.81it/s]\n"
     ]
    },
    {
     "name": "stdout",
     "output_type": "stream",
     "text": [
      "  webis_bias_flipper_18\n"
     ]
    },
    {
     "name": "stderr",
     "output_type": "stream",
     "text": [
      "100%|██████████| 10/10 [00:00<00:00, 35.42it/s]\n"
     ]
    },
    {
     "name": "stdout",
     "output_type": "stream",
     "text": [
      "  gpt4_political_bias\n"
     ]
    },
    {
     "name": "stderr",
     "output_type": "stream",
     "text": [
      "100%|██████████| 10/10 [00:00<00:00, 170.71it/s]\n"
     ]
    },
    {
     "name": "stdout",
     "output_type": "stream",
     "text": [
      "evaluating dataset_benchmark/bert-base-cased/gpt4_political_bias on:\n",
      "  commoncrawl_news_articles\n"
     ]
    },
    {
     "name": "stderr",
     "output_type": "stream",
     "text": [
      "100%|██████████| 10/10 [00:00<00:00, 40.88it/s]\n"
     ]
    },
    {
     "name": "stdout",
     "output_type": "stream",
     "text": [
      "  article_bias_prediction\n"
     ]
    },
    {
     "name": "stderr",
     "output_type": "stream",
     "text": [
      "100%|██████████| 10/10 [00:00<00:00, 36.08it/s]\n"
     ]
    },
    {
     "name": "stdout",
     "output_type": "stream",
     "text": [
      "  qbias\n"
     ]
    },
    {
     "name": "stderr",
     "output_type": "stream",
     "text": [
      "100%|██████████| 10/10 [00:00<00:00, 132.37it/s]\n"
     ]
    },
    {
     "name": "stdout",
     "output_type": "stream",
     "text": [
      "  polistance_issue_tweets\n"
     ]
    },
    {
     "name": "stderr",
     "output_type": "stream",
     "text": [
      "100%|██████████| 10/10 [00:00<00:00, 160.04it/s]\n"
     ]
    },
    {
     "name": "stdout",
     "output_type": "stream",
     "text": [
      "  webis_news_bias_20\n"
     ]
    },
    {
     "name": "stderr",
     "output_type": "stream",
     "text": [
      "100%|██████████| 10/10 [00:00<00:00, 35.66it/s]\n"
     ]
    },
    {
     "name": "stdout",
     "output_type": "stream",
     "text": [
      "  webis_bias_flipper_18\n"
     ]
    },
    {
     "name": "stderr",
     "output_type": "stream",
     "text": [
      "100%|██████████| 10/10 [00:00<00:00, 34.80it/s]\n"
     ]
    },
    {
     "name": "stdout",
     "output_type": "stream",
     "text": [
      "  gpt4_political_bias\n"
     ]
    },
    {
     "name": "stderr",
     "output_type": "stream",
     "text": [
      "100%|██████████| 10/10 [00:00<00:00, 158.69it/s]\n"
     ]
    },
    {
     "name": "stdout",
     "output_type": "stream",
     "text": [
      "evaluating dataset_benchmark/bert-base-cased/polistance_issue_tweets on:\n",
      "  commoncrawl_news_articles\n"
     ]
    },
    {
     "name": "stderr",
     "output_type": "stream",
     "text": [
      "100%|██████████| 10/10 [00:00<00:00, 39.73it/s]\n"
     ]
    },
    {
     "name": "stdout",
     "output_type": "stream",
     "text": [
      "  article_bias_prediction\n"
     ]
    },
    {
     "name": "stderr",
     "output_type": "stream",
     "text": [
      "100%|██████████| 10/10 [00:00<00:00, 33.90it/s]\n"
     ]
    },
    {
     "name": "stdout",
     "output_type": "stream",
     "text": [
      "  qbias\n"
     ]
    },
    {
     "name": "stderr",
     "output_type": "stream",
     "text": [
      "100%|██████████| 10/10 [00:00<00:00, 107.94it/s]\n"
     ]
    },
    {
     "name": "stdout",
     "output_type": "stream",
     "text": [
      "  polistance_issue_tweets\n"
     ]
    },
    {
     "name": "stderr",
     "output_type": "stream",
     "text": [
      "100%|██████████| 10/10 [00:00<00:00, 138.70it/s]\n"
     ]
    },
    {
     "name": "stdout",
     "output_type": "stream",
     "text": [
      "  webis_news_bias_20\n"
     ]
    },
    {
     "name": "stderr",
     "output_type": "stream",
     "text": [
      "100%|██████████| 10/10 [00:00<00:00, 30.78it/s]\n"
     ]
    },
    {
     "name": "stdout",
     "output_type": "stream",
     "text": [
      "  webis_bias_flipper_18\n"
     ]
    },
    {
     "name": "stderr",
     "output_type": "stream",
     "text": [
      "100%|██████████| 10/10 [00:00<00:00, 35.01it/s]\n"
     ]
    },
    {
     "name": "stdout",
     "output_type": "stream",
     "text": [
      "  gpt4_political_bias\n"
     ]
    },
    {
     "name": "stderr",
     "output_type": "stream",
     "text": [
      "100%|██████████| 10/10 [00:00<00:00, 181.07it/s]\n"
     ]
    },
    {
     "name": "stdout",
     "output_type": "stream",
     "text": [
      "evaluating dataset_benchmark/bert-base-cased/qbias on:\n",
      "  commoncrawl_news_articles\n"
     ]
    },
    {
     "name": "stderr",
     "output_type": "stream",
     "text": [
      "100%|██████████| 10/10 [00:00<00:00, 41.38it/s]\n"
     ]
    },
    {
     "name": "stdout",
     "output_type": "stream",
     "text": [
      "  article_bias_prediction\n"
     ]
    },
    {
     "name": "stderr",
     "output_type": "stream",
     "text": [
      "100%|██████████| 10/10 [00:00<00:00, 35.00it/s]\n"
     ]
    },
    {
     "name": "stdout",
     "output_type": "stream",
     "text": [
      "  qbias\n"
     ]
    },
    {
     "name": "stderr",
     "output_type": "stream",
     "text": [
      "100%|██████████| 10/10 [00:00<00:00, 122.17it/s]\n"
     ]
    },
    {
     "name": "stdout",
     "output_type": "stream",
     "text": [
      "  polistance_issue_tweets\n"
     ]
    },
    {
     "name": "stderr",
     "output_type": "stream",
     "text": [
      "100%|██████████| 10/10 [00:00<00:00, 142.95it/s]\n"
     ]
    },
    {
     "name": "stdout",
     "output_type": "stream",
     "text": [
      "  webis_news_bias_20\n"
     ]
    },
    {
     "name": "stderr",
     "output_type": "stream",
     "text": [
      "100%|██████████| 10/10 [00:00<00:00, 36.82it/s]\n"
     ]
    },
    {
     "name": "stdout",
     "output_type": "stream",
     "text": [
      "  webis_bias_flipper_18\n"
     ]
    },
    {
     "name": "stderr",
     "output_type": "stream",
     "text": [
      "100%|██████████| 10/10 [00:00<00:00, 37.12it/s]\n"
     ]
    },
    {
     "name": "stdout",
     "output_type": "stream",
     "text": [
      "  gpt4_political_bias\n"
     ]
    },
    {
     "name": "stderr",
     "output_type": "stream",
     "text": [
      "100%|██████████| 10/10 [00:00<00:00, 181.58it/s]\n"
     ]
    },
    {
     "name": "stdout",
     "output_type": "stream",
     "text": [
      "evaluating dataset_benchmark/bert-base-cased/webis_bias_flipper_18 on:\n",
      "  commoncrawl_news_articles\n"
     ]
    },
    {
     "name": "stderr",
     "output_type": "stream",
     "text": [
      "100%|██████████| 10/10 [00:00<00:00, 38.79it/s]\n"
     ]
    },
    {
     "name": "stdout",
     "output_type": "stream",
     "text": [
      "  article_bias_prediction\n"
     ]
    },
    {
     "name": "stderr",
     "output_type": "stream",
     "text": [
      "100%|██████████| 10/10 [00:00<00:00, 30.13it/s]\n"
     ]
    },
    {
     "name": "stdout",
     "output_type": "stream",
     "text": [
      "  qbias\n"
     ]
    },
    {
     "name": "stderr",
     "output_type": "stream",
     "text": [
      "100%|██████████| 10/10 [00:00<00:00, 113.33it/s]\n"
     ]
    },
    {
     "name": "stdout",
     "output_type": "stream",
     "text": [
      "  polistance_issue_tweets\n"
     ]
    },
    {
     "name": "stderr",
     "output_type": "stream",
     "text": [
      "100%|██████████| 10/10 [00:00<00:00, 138.09it/s]\n"
     ]
    },
    {
     "name": "stdout",
     "output_type": "stream",
     "text": [
      "  webis_news_bias_20\n"
     ]
    },
    {
     "name": "stderr",
     "output_type": "stream",
     "text": [
      "100%|██████████| 10/10 [00:00<00:00, 37.74it/s]\n"
     ]
    },
    {
     "name": "stdout",
     "output_type": "stream",
     "text": [
      "  webis_bias_flipper_18\n"
     ]
    },
    {
     "name": "stderr",
     "output_type": "stream",
     "text": [
      "100%|██████████| 10/10 [00:00<00:00, 35.66it/s]\n"
     ]
    },
    {
     "name": "stdout",
     "output_type": "stream",
     "text": [
      "  gpt4_political_bias\n"
     ]
    },
    {
     "name": "stderr",
     "output_type": "stream",
     "text": [
      "100%|██████████| 10/10 [00:00<00:00, 177.72it/s]\n"
     ]
    },
    {
     "name": "stdout",
     "output_type": "stream",
     "text": [
      "evaluating dataset_benchmark/bert-base-cased/webis_news_bias_20 on:\n",
      "  commoncrawl_news_articles\n"
     ]
    },
    {
     "name": "stderr",
     "output_type": "stream",
     "text": [
      "100%|██████████| 10/10 [00:00<00:00, 41.82it/s]\n"
     ]
    },
    {
     "name": "stdout",
     "output_type": "stream",
     "text": [
      "  article_bias_prediction\n"
     ]
    },
    {
     "name": "stderr",
     "output_type": "stream",
     "text": [
      "100%|██████████| 10/10 [00:00<00:00, 35.47it/s]\n"
     ]
    },
    {
     "name": "stdout",
     "output_type": "stream",
     "text": [
      "  qbias\n"
     ]
    },
    {
     "name": "stderr",
     "output_type": "stream",
     "text": [
      "100%|██████████| 10/10 [00:00<00:00, 121.65it/s]\n"
     ]
    },
    {
     "name": "stdout",
     "output_type": "stream",
     "text": [
      "  polistance_issue_tweets\n"
     ]
    },
    {
     "name": "stderr",
     "output_type": "stream",
     "text": [
      "100%|██████████| 10/10 [00:00<00:00, 144.59it/s]\n"
     ]
    },
    {
     "name": "stdout",
     "output_type": "stream",
     "text": [
      "  webis_news_bias_20\n"
     ]
    },
    {
     "name": "stderr",
     "output_type": "stream",
     "text": [
      "100%|██████████| 10/10 [00:00<00:00, 36.73it/s]\n"
     ]
    },
    {
     "name": "stdout",
     "output_type": "stream",
     "text": [
      "  webis_bias_flipper_18\n"
     ]
    },
    {
     "name": "stderr",
     "output_type": "stream",
     "text": [
      "100%|██████████| 10/10 [00:00<00:00, 30.88it/s]\n"
     ]
    },
    {
     "name": "stdout",
     "output_type": "stream",
     "text": [
      "  gpt4_political_bias\n"
     ]
    },
    {
     "name": "stderr",
     "output_type": "stream",
     "text": [
      "100%|██████████| 10/10 [00:00<00:00, 159.01it/s]\n"
     ]
    }
   ],
   "execution_count": 3
  },
  {
   "cell_type": "code",
   "id": "3",
   "metadata": {
    "ExecuteTime": {
     "end_time": "2024-11-23T11:09:22.267582Z",
     "start_time": "2024-11-23T11:09:14.498242Z"
    }
   },
   "source": [
    "results_df = pd.DataFrame(\n",
    "    accuracy_results,\n",
    "    index=list(map(lambda model: model.name, GET_MODELS())),\n",
    "    columns=list(map(lambda dataset: dataset.name, datasets)),\n",
    ")\n",
    "\n",
    "results_df"
   ],
   "outputs": [
    {
     "data": {
      "text/plain": [
       "                                                   commoncrawl_news_articles  \\\n",
       "dataset_benchmark/roberta-base/article_bias_pre...             3/10 (30.0 %)   \n",
       "dataset_benchmark/roberta-base/commoncrawl_news...             6/10 (60.0 %)   \n",
       "dataset_benchmark/roberta-base/gpt4_political_bias             3/10 (30.0 %)   \n",
       "dataset_benchmark/roberta-base/polistance_issue...             4/10 (40.0 %)   \n",
       "dataset_benchmark/roberta-base/qbias                           3/10 (30.0 %)   \n",
       "dataset_benchmark/roberta-base/webis_bias_flipp...             3/10 (30.0 %)   \n",
       "dataset_benchmark/roberta-base/webis_news_bias_20              3/10 (30.0 %)   \n",
       "dataset_benchmark/bert-base-cased/article_bias_...             2/10 (20.0 %)   \n",
       "dataset_benchmark/bert-base-cased/commoncrawl_n...             6/10 (60.0 %)   \n",
       "dataset_benchmark/bert-base-cased/gpt4_politica...             6/10 (60.0 %)   \n",
       "dataset_benchmark/bert-base-cased/polistance_is...             6/10 (60.0 %)   \n",
       "dataset_benchmark/bert-base-cased/qbias                        6/10 (60.0 %)   \n",
       "dataset_benchmark/bert-base-cased/webis_bias_fl...             6/10 (60.0 %)   \n",
       "dataset_benchmark/bert-base-cased/webis_news_bi...             3/10 (30.0 %)   \n",
       "\n",
       "                                                   article_bias_prediction  \\\n",
       "dataset_benchmark/roberta-base/article_bias_pre...           6/10 (60.0 %)   \n",
       "dataset_benchmark/roberta-base/commoncrawl_news...           2/10 (20.0 %)   \n",
       "dataset_benchmark/roberta-base/gpt4_political_bias           7/10 (70.0 %)   \n",
       "dataset_benchmark/roberta-base/polistance_issue...           4/10 (40.0 %)   \n",
       "dataset_benchmark/roberta-base/qbias                         7/10 (70.0 %)   \n",
       "dataset_benchmark/roberta-base/webis_bias_flipp...           7/10 (70.0 %)   \n",
       "dataset_benchmark/roberta-base/webis_news_bias_20            7/10 (70.0 %)   \n",
       "dataset_benchmark/bert-base-cased/article_bias_...           2/10 (20.0 %)   \n",
       "dataset_benchmark/bert-base-cased/commoncrawl_n...           2/10 (20.0 %)   \n",
       "dataset_benchmark/bert-base-cased/gpt4_politica...           2/10 (20.0 %)   \n",
       "dataset_benchmark/bert-base-cased/polistance_is...           8/10 (80.0 %)   \n",
       "dataset_benchmark/bert-base-cased/qbias                      2/10 (20.0 %)   \n",
       "dataset_benchmark/bert-base-cased/webis_bias_fl...           5/10 (50.0 %)   \n",
       "dataset_benchmark/bert-base-cased/webis_news_bi...           4/10 (40.0 %)   \n",
       "\n",
       "                                                            qbias  \\\n",
       "dataset_benchmark/roberta-base/article_bias_pre...  2/10 (20.0 %)   \n",
       "dataset_benchmark/roberta-base/commoncrawl_news...  6/10 (60.0 %)   \n",
       "dataset_benchmark/roberta-base/gpt4_political_bias  2/10 (20.0 %)   \n",
       "dataset_benchmark/roberta-base/polistance_issue...  5/10 (50.0 %)   \n",
       "dataset_benchmark/roberta-base/qbias                2/10 (20.0 %)   \n",
       "dataset_benchmark/roberta-base/webis_bias_flipp...  2/10 (20.0 %)   \n",
       "dataset_benchmark/roberta-base/webis_news_bias_20   2/10 (20.0 %)   \n",
       "dataset_benchmark/bert-base-cased/article_bias_...  7/10 (70.0 %)   \n",
       "dataset_benchmark/bert-base-cased/commoncrawl_n...  6/10 (60.0 %)   \n",
       "dataset_benchmark/bert-base-cased/gpt4_politica...  5/10 (50.0 %)   \n",
       "dataset_benchmark/bert-base-cased/polistance_is...  5/10 (50.0 %)   \n",
       "dataset_benchmark/bert-base-cased/qbias             6/10 (60.0 %)   \n",
       "dataset_benchmark/bert-base-cased/webis_bias_fl...  6/10 (60.0 %)   \n",
       "dataset_benchmark/bert-base-cased/webis_news_bi...  6/10 (60.0 %)   \n",
       "\n",
       "                                                   polistance_issue_tweets  \\\n",
       "dataset_benchmark/roberta-base/article_bias_pre...            0/10 (0.0 %)   \n",
       "dataset_benchmark/roberta-base/commoncrawl_news...           4/10 (40.0 %)   \n",
       "dataset_benchmark/roberta-base/gpt4_political_bias            0/10 (0.0 %)   \n",
       "dataset_benchmark/roberta-base/polistance_issue...           6/10 (60.0 %)   \n",
       "dataset_benchmark/roberta-base/qbias                          0/10 (0.0 %)   \n",
       "dataset_benchmark/roberta-base/webis_bias_flipp...            0/10 (0.0 %)   \n",
       "dataset_benchmark/roberta-base/webis_news_bias_20             0/10 (0.0 %)   \n",
       "dataset_benchmark/bert-base-cased/article_bias_...           4/10 (40.0 %)   \n",
       "dataset_benchmark/bert-base-cased/commoncrawl_n...           4/10 (40.0 %)   \n",
       "dataset_benchmark/bert-base-cased/gpt4_politica...           4/10 (40.0 %)   \n",
       "dataset_benchmark/bert-base-cased/polistance_is...           5/10 (50.0 %)   \n",
       "dataset_benchmark/bert-base-cased/qbias                      4/10 (40.0 %)   \n",
       "dataset_benchmark/bert-base-cased/webis_bias_fl...           4/10 (40.0 %)   \n",
       "dataset_benchmark/bert-base-cased/webis_news_bi...           4/10 (40.0 %)   \n",
       "\n",
       "                                                   webis_news_bias_20  \\\n",
       "dataset_benchmark/roberta-base/article_bias_pre...      2/10 (20.0 %)   \n",
       "dataset_benchmark/roberta-base/commoncrawl_news...      4/10 (40.0 %)   \n",
       "dataset_benchmark/roberta-base/gpt4_political_bias      2/10 (20.0 %)   \n",
       "dataset_benchmark/roberta-base/polistance_issue...      5/10 (50.0 %)   \n",
       "dataset_benchmark/roberta-base/qbias                    2/10 (20.0 %)   \n",
       "dataset_benchmark/roberta-base/webis_bias_flipp...      2/10 (20.0 %)   \n",
       "dataset_benchmark/roberta-base/webis_news_bias_20       2/10 (20.0 %)   \n",
       "dataset_benchmark/bert-base-cased/article_bias_...      2/10 (20.0 %)   \n",
       "dataset_benchmark/bert-base-cased/commoncrawl_n...      4/10 (40.0 %)   \n",
       "dataset_benchmark/bert-base-cased/gpt4_politica...      4/10 (40.0 %)   \n",
       "dataset_benchmark/bert-base-cased/polistance_is...      5/10 (50.0 %)   \n",
       "dataset_benchmark/bert-base-cased/qbias                 4/10 (40.0 %)   \n",
       "dataset_benchmark/bert-base-cased/webis_bias_fl...      4/10 (40.0 %)   \n",
       "dataset_benchmark/bert-base-cased/webis_news_bi...      2/10 (20.0 %)   \n",
       "\n",
       "                                                   webis_bias_flipper_18  \\\n",
       "dataset_benchmark/roberta-base/article_bias_pre...         2/10 (20.0 %)   \n",
       "dataset_benchmark/roberta-base/commoncrawl_news...         3/10 (30.0 %)   \n",
       "dataset_benchmark/roberta-base/gpt4_political_bias         2/10 (20.0 %)   \n",
       "dataset_benchmark/roberta-base/polistance_issue...         6/10 (60.0 %)   \n",
       "dataset_benchmark/roberta-base/qbias                       2/10 (20.0 %)   \n",
       "dataset_benchmark/roberta-base/webis_bias_flipp...         2/10 (20.0 %)   \n",
       "dataset_benchmark/roberta-base/webis_news_bias_20          2/10 (20.0 %)   \n",
       "dataset_benchmark/bert-base-cased/article_bias_...         3/10 (30.0 %)   \n",
       "dataset_benchmark/bert-base-cased/commoncrawl_n...         3/10 (30.0 %)   \n",
       "dataset_benchmark/bert-base-cased/gpt4_politica...         3/10 (30.0 %)   \n",
       "dataset_benchmark/bert-base-cased/polistance_is...         4/10 (40.0 %)   \n",
       "dataset_benchmark/bert-base-cased/qbias                    3/10 (30.0 %)   \n",
       "dataset_benchmark/bert-base-cased/webis_bias_fl...         3/10 (30.0 %)   \n",
       "dataset_benchmark/bert-base-cased/webis_news_bi...         1/10 (10.0 %)   \n",
       "\n",
       "                                                   gpt4_political_bias  \n",
       "dataset_benchmark/roberta-base/article_bias_pre...       5/10 (50.0 %)  \n",
       "dataset_benchmark/roberta-base/commoncrawl_news...       1/10 (10.0 %)  \n",
       "dataset_benchmark/roberta-base/gpt4_political_bias       5/10 (50.0 %)  \n",
       "dataset_benchmark/roberta-base/polistance_issue...       6/10 (60.0 %)  \n",
       "dataset_benchmark/roberta-base/qbias                     5/10 (50.0 %)  \n",
       "dataset_benchmark/roberta-base/webis_bias_flipp...       5/10 (50.0 %)  \n",
       "dataset_benchmark/roberta-base/webis_news_bias_20        5/10 (50.0 %)  \n",
       "dataset_benchmark/bert-base-cased/article_bias_...       1/10 (10.0 %)  \n",
       "dataset_benchmark/bert-base-cased/commoncrawl_n...       1/10 (10.0 %)  \n",
       "dataset_benchmark/bert-base-cased/gpt4_politica...       3/10 (30.0 %)  \n",
       "dataset_benchmark/bert-base-cased/polistance_is...       4/10 (40.0 %)  \n",
       "dataset_benchmark/bert-base-cased/qbias                  1/10 (10.0 %)  \n",
       "dataset_benchmark/bert-base-cased/webis_bias_fl...       1/10 (10.0 %)  \n",
       "dataset_benchmark/bert-base-cased/webis_news_bi...       1/10 (10.0 %)  "
      ],
      "text/html": [
       "<div>\n",
       "<style scoped>\n",
       "    .dataframe tbody tr th:only-of-type {\n",
       "        vertical-align: middle;\n",
       "    }\n",
       "\n",
       "    .dataframe tbody tr th {\n",
       "        vertical-align: top;\n",
       "    }\n",
       "\n",
       "    .dataframe thead th {\n",
       "        text-align: right;\n",
       "    }\n",
       "</style>\n",
       "<table border=\"1\" class=\"dataframe\">\n",
       "  <thead>\n",
       "    <tr style=\"text-align: right;\">\n",
       "      <th></th>\n",
       "      <th>commoncrawl_news_articles</th>\n",
       "      <th>article_bias_prediction</th>\n",
       "      <th>qbias</th>\n",
       "      <th>polistance_issue_tweets</th>\n",
       "      <th>webis_news_bias_20</th>\n",
       "      <th>webis_bias_flipper_18</th>\n",
       "      <th>gpt4_political_bias</th>\n",
       "    </tr>\n",
       "  </thead>\n",
       "  <tbody>\n",
       "    <tr>\n",
       "      <th>dataset_benchmark/roberta-base/article_bias_prediction</th>\n",
       "      <td>3/10 (30.0 %)</td>\n",
       "      <td>6/10 (60.0 %)</td>\n",
       "      <td>2/10 (20.0 %)</td>\n",
       "      <td>0/10 (0.0 %)</td>\n",
       "      <td>2/10 (20.0 %)</td>\n",
       "      <td>2/10 (20.0 %)</td>\n",
       "      <td>5/10 (50.0 %)</td>\n",
       "    </tr>\n",
       "    <tr>\n",
       "      <th>dataset_benchmark/roberta-base/commoncrawl_news_articles</th>\n",
       "      <td>6/10 (60.0 %)</td>\n",
       "      <td>2/10 (20.0 %)</td>\n",
       "      <td>6/10 (60.0 %)</td>\n",
       "      <td>4/10 (40.0 %)</td>\n",
       "      <td>4/10 (40.0 %)</td>\n",
       "      <td>3/10 (30.0 %)</td>\n",
       "      <td>1/10 (10.0 %)</td>\n",
       "    </tr>\n",
       "    <tr>\n",
       "      <th>dataset_benchmark/roberta-base/gpt4_political_bias</th>\n",
       "      <td>3/10 (30.0 %)</td>\n",
       "      <td>7/10 (70.0 %)</td>\n",
       "      <td>2/10 (20.0 %)</td>\n",
       "      <td>0/10 (0.0 %)</td>\n",
       "      <td>2/10 (20.0 %)</td>\n",
       "      <td>2/10 (20.0 %)</td>\n",
       "      <td>5/10 (50.0 %)</td>\n",
       "    </tr>\n",
       "    <tr>\n",
       "      <th>dataset_benchmark/roberta-base/polistance_issue_tweets</th>\n",
       "      <td>4/10 (40.0 %)</td>\n",
       "      <td>4/10 (40.0 %)</td>\n",
       "      <td>5/10 (50.0 %)</td>\n",
       "      <td>6/10 (60.0 %)</td>\n",
       "      <td>5/10 (50.0 %)</td>\n",
       "      <td>6/10 (60.0 %)</td>\n",
       "      <td>6/10 (60.0 %)</td>\n",
       "    </tr>\n",
       "    <tr>\n",
       "      <th>dataset_benchmark/roberta-base/qbias</th>\n",
       "      <td>3/10 (30.0 %)</td>\n",
       "      <td>7/10 (70.0 %)</td>\n",
       "      <td>2/10 (20.0 %)</td>\n",
       "      <td>0/10 (0.0 %)</td>\n",
       "      <td>2/10 (20.0 %)</td>\n",
       "      <td>2/10 (20.0 %)</td>\n",
       "      <td>5/10 (50.0 %)</td>\n",
       "    </tr>\n",
       "    <tr>\n",
       "      <th>dataset_benchmark/roberta-base/webis_bias_flipper_18</th>\n",
       "      <td>3/10 (30.0 %)</td>\n",
       "      <td>7/10 (70.0 %)</td>\n",
       "      <td>2/10 (20.0 %)</td>\n",
       "      <td>0/10 (0.0 %)</td>\n",
       "      <td>2/10 (20.0 %)</td>\n",
       "      <td>2/10 (20.0 %)</td>\n",
       "      <td>5/10 (50.0 %)</td>\n",
       "    </tr>\n",
       "    <tr>\n",
       "      <th>dataset_benchmark/roberta-base/webis_news_bias_20</th>\n",
       "      <td>3/10 (30.0 %)</td>\n",
       "      <td>7/10 (70.0 %)</td>\n",
       "      <td>2/10 (20.0 %)</td>\n",
       "      <td>0/10 (0.0 %)</td>\n",
       "      <td>2/10 (20.0 %)</td>\n",
       "      <td>2/10 (20.0 %)</td>\n",
       "      <td>5/10 (50.0 %)</td>\n",
       "    </tr>\n",
       "    <tr>\n",
       "      <th>dataset_benchmark/bert-base-cased/article_bias_prediction</th>\n",
       "      <td>2/10 (20.0 %)</td>\n",
       "      <td>2/10 (20.0 %)</td>\n",
       "      <td>7/10 (70.0 %)</td>\n",
       "      <td>4/10 (40.0 %)</td>\n",
       "      <td>2/10 (20.0 %)</td>\n",
       "      <td>3/10 (30.0 %)</td>\n",
       "      <td>1/10 (10.0 %)</td>\n",
       "    </tr>\n",
       "    <tr>\n",
       "      <th>dataset_benchmark/bert-base-cased/commoncrawl_news_articles</th>\n",
       "      <td>6/10 (60.0 %)</td>\n",
       "      <td>2/10 (20.0 %)</td>\n",
       "      <td>6/10 (60.0 %)</td>\n",
       "      <td>4/10 (40.0 %)</td>\n",
       "      <td>4/10 (40.0 %)</td>\n",
       "      <td>3/10 (30.0 %)</td>\n",
       "      <td>1/10 (10.0 %)</td>\n",
       "    </tr>\n",
       "    <tr>\n",
       "      <th>dataset_benchmark/bert-base-cased/gpt4_political_bias</th>\n",
       "      <td>6/10 (60.0 %)</td>\n",
       "      <td>2/10 (20.0 %)</td>\n",
       "      <td>5/10 (50.0 %)</td>\n",
       "      <td>4/10 (40.0 %)</td>\n",
       "      <td>4/10 (40.0 %)</td>\n",
       "      <td>3/10 (30.0 %)</td>\n",
       "      <td>3/10 (30.0 %)</td>\n",
       "    </tr>\n",
       "    <tr>\n",
       "      <th>dataset_benchmark/bert-base-cased/polistance_issue_tweets</th>\n",
       "      <td>6/10 (60.0 %)</td>\n",
       "      <td>8/10 (80.0 %)</td>\n",
       "      <td>5/10 (50.0 %)</td>\n",
       "      <td>5/10 (50.0 %)</td>\n",
       "      <td>5/10 (50.0 %)</td>\n",
       "      <td>4/10 (40.0 %)</td>\n",
       "      <td>4/10 (40.0 %)</td>\n",
       "    </tr>\n",
       "    <tr>\n",
       "      <th>dataset_benchmark/bert-base-cased/qbias</th>\n",
       "      <td>6/10 (60.0 %)</td>\n",
       "      <td>2/10 (20.0 %)</td>\n",
       "      <td>6/10 (60.0 %)</td>\n",
       "      <td>4/10 (40.0 %)</td>\n",
       "      <td>4/10 (40.0 %)</td>\n",
       "      <td>3/10 (30.0 %)</td>\n",
       "      <td>1/10 (10.0 %)</td>\n",
       "    </tr>\n",
       "    <tr>\n",
       "      <th>dataset_benchmark/bert-base-cased/webis_bias_flipper_18</th>\n",
       "      <td>6/10 (60.0 %)</td>\n",
       "      <td>5/10 (50.0 %)</td>\n",
       "      <td>6/10 (60.0 %)</td>\n",
       "      <td>4/10 (40.0 %)</td>\n",
       "      <td>4/10 (40.0 %)</td>\n",
       "      <td>3/10 (30.0 %)</td>\n",
       "      <td>1/10 (10.0 %)</td>\n",
       "    </tr>\n",
       "    <tr>\n",
       "      <th>dataset_benchmark/bert-base-cased/webis_news_bias_20</th>\n",
       "      <td>3/10 (30.0 %)</td>\n",
       "      <td>4/10 (40.0 %)</td>\n",
       "      <td>6/10 (60.0 %)</td>\n",
       "      <td>4/10 (40.0 %)</td>\n",
       "      <td>2/10 (20.0 %)</td>\n",
       "      <td>1/10 (10.0 %)</td>\n",
       "      <td>1/10 (10.0 %)</td>\n",
       "    </tr>\n",
       "  </tbody>\n",
       "</table>\n",
       "</div>"
      ]
     },
     "execution_count": 4,
     "metadata": {},
     "output_type": "execute_result"
    }
   ],
   "execution_count": 4
  }
 ],
 "metadata": {
  "kernelspec": {
   "display_name": "Python 3",
   "language": "python",
   "name": "python3"
  },
  "language_info": {
   "codemirror_mode": {
    "name": "ipython",
    "version": 2
   },
   "file_extension": ".py",
   "mimetype": "text/x-python",
   "name": "python",
   "nbconvert_exporter": "python",
   "pygments_lexer": "ipython2",
   "version": "2.7.6"
  }
 },
 "nbformat": 4,
 "nbformat_minor": 5
}
