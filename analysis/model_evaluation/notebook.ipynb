{
 "cells": [
  {
   "cell_type": "code",
   "id": "0",
   "metadata": {
    "ExecuteTime": {
     "end_time": "2024-11-22T18:29:11.918383Z",
     "start_time": "2024-11-22T18:29:08.513241Z"
    }
   },
   "source": [
    "import numpy as np\n",
    "import pandas as pd\n",
    "from sklearn.metrics import accuracy_score\n",
    "from tqdm import tqdm\n",
    "\n",
    "from utils.datasets import get_datasets\n",
    "from utils.models import get_existing_models"
   ],
   "outputs": [],
   "execution_count": 1
  },
  {
   "cell_type": "code",
   "id": "1",
   "metadata": {
    "ExecuteTime": {
     "end_time": "2024-11-22T18:29:28.713382Z",
     "start_time": "2024-11-22T18:29:11.922907Z"
    }
   },
   "source": [
    "DATASET_SAMPLE_SIZE = 10\n",
    "\n",
    "datasets = get_datasets()\n",
    "datasets_without_center = get_datasets()\n",
    "\n",
    "for dataset in datasets:\n",
    "    if len(dataset.dataframe) <= DATASET_SAMPLE_SIZE:\n",
    "        continue\n",
    "\n",
    "    dataset.dataframe = dataset.dataframe.iloc[\n",
    "                        ::len(dataset.dataframe) // DATASET_SAMPLE_SIZE\n",
    "                        ].head(DATASET_SAMPLE_SIZE)\n",
    "\n",
    "for dataset in datasets_without_center:\n",
    "    dataset.dataframe = dataset.dataframe[dataset.dataframe[\"leaning\"] != \"center\"]\n",
    "\n",
    "    if len(dataset.dataframe) <= DATASET_SAMPLE_SIZE:\n",
    "        continue\n",
    "\n",
    "    dataset.dataframe = dataset.dataframe.iloc[\n",
    "                        ::len(dataset.dataframe) // DATASET_SAMPLE_SIZE\n",
    "                        ].head(DATASET_SAMPLE_SIZE)"
   ],
   "outputs": [],
   "execution_count": 2
  },
  {
   "cell_type": "code",
   "id": "2",
   "metadata": {
    "ExecuteTime": {
     "end_time": "2024-11-22T18:29:43.473440Z",
     "start_time": "2024-11-22T18:29:28.842916Z"
    }
   },
   "source": [
    "TRUNCATE_TOKENS = True\n",
    "# Lambda, so that the generator can be reused.\n",
    "GET_MODELS = lambda: get_existing_models()\n",
    "\n",
    "accuracy_results = []\n",
    "\n",
    "for model_index, model in enumerate(GET_MODELS()):\n",
    "    print(f\"evaluating {model.name} on:\")\n",
    "    accuracy_results.append([])\n",
    "    for dataset_index in range(len(datasets)):\n",
    "        dataset = datasets[dataset_index] if model.supports_center_leaning else datasets_without_center[dataset_index]\n",
    "        print(f\"  {dataset.name}\")\n",
    "\n",
    "        predictions = []\n",
    "        for body_index, body in enumerate(tqdm(dataset.dataframe[\"body\"])):\n",
    "            try:\n",
    "                predictions.append(model.predict(body, TRUNCATE_TOKENS))\n",
    "            except RuntimeError:\n",
    "                if TRUNCATE_TOKENS:\n",
    "                    raise\n",
    "                predictions.append(None)\n",
    "\n",
    "        valid_indices = [i for i, prediction in enumerate(predictions) if prediction is not None]\n",
    "        predictions = list(map(lambda prediction: prediction.value, [predictions[i] for i in valid_indices]))\n",
    "        accuracy = accuracy_score(\n",
    "            dataset.dataframe[\"leaning\"].iloc[valid_indices].tolist(),\n",
    "            predictions\n",
    "        ) if len(predictions) > 0 else 0\n",
    "        accuracy_results[-1].append(\n",
    "            f\"{len(valid_indices) * accuracy:.0f}/{len(valid_indices)} ({np.round(accuracy * 100, 2)} %)\"\n",
    "        )"
   ],
   "outputs": [
    {
     "name": "stdout",
     "output_type": "stream",
     "text": [
      "evaluating PoliticalBiasBert on:\n",
      "  commoncrawl_news_articles\n"
     ]
    },
    {
     "name": "stderr",
     "output_type": "stream",
     "text": [
      "100%|██████████| 10/10 [00:00<00:00, 23.33it/s]\n"
     ]
    },
    {
     "name": "stdout",
     "output_type": "stream",
     "text": [
      "  article_bias_prediction\n"
     ]
    },
    {
     "name": "stderr",
     "output_type": "stream",
     "text": [
      "100%|██████████| 10/10 [00:00<00:00, 36.67it/s]\n"
     ]
    },
    {
     "name": "stdout",
     "output_type": "stream",
     "text": [
      "  qbias\n"
     ]
    },
    {
     "name": "stderr",
     "output_type": "stream",
     "text": [
      "100%|██████████| 10/10 [00:00<00:00, 103.12it/s]\n"
     ]
    },
    {
     "name": "stdout",
     "output_type": "stream",
     "text": [
      "  webis_news_bias_20\n"
     ]
    },
    {
     "name": "stderr",
     "output_type": "stream",
     "text": [
      "100%|██████████| 10/10 [00:00<00:00, 37.78it/s]\n"
     ]
    },
    {
     "name": "stdout",
     "output_type": "stream",
     "text": [
      "  webis_bias_flipper_18\n"
     ]
    },
    {
     "name": "stderr",
     "output_type": "stream",
     "text": [
      "100%|██████████| 10/10 [00:00<00:00, 34.20it/s]\n"
     ]
    },
    {
     "name": "stdout",
     "output_type": "stream",
     "text": [
      "evaluating PoliticalBiasPredictionAllsidesDeberta on:\n",
      "  commoncrawl_news_articles\n"
     ]
    },
    {
     "name": "stderr",
     "output_type": "stream",
     "text": [
      "100%|██████████| 10/10 [00:01<00:00,  9.09it/s]\n"
     ]
    },
    {
     "name": "stdout",
     "output_type": "stream",
     "text": [
      "  article_bias_prediction\n"
     ]
    },
    {
     "name": "stderr",
     "output_type": "stream",
     "text": [
      "100%|██████████| 10/10 [00:01<00:00,  5.05it/s]\n"
     ]
    },
    {
     "name": "stdout",
     "output_type": "stream",
     "text": [
      "  qbias\n"
     ]
    },
    {
     "name": "stderr",
     "output_type": "stream",
     "text": [
      "100%|██████████| 10/10 [00:00<00:00, 56.13it/s]\n"
     ]
    },
    {
     "name": "stdout",
     "output_type": "stream",
     "text": [
      "  webis_news_bias_20\n"
     ]
    },
    {
     "name": "stderr",
     "output_type": "stream",
     "text": [
      "100%|██████████| 10/10 [00:01<00:00,  6.84it/s]\n"
     ]
    },
    {
     "name": "stdout",
     "output_type": "stream",
     "text": [
      "  webis_bias_flipper_18\n"
     ]
    },
    {
     "name": "stderr",
     "output_type": "stream",
     "text": [
      "100%|██████████| 10/10 [00:01<00:00,  6.61it/s]\n"
     ]
    },
    {
     "name": "stdout",
     "output_type": "stream",
     "text": [
      "evaluating DistilBertPoliticalBias on:\n",
      "  commoncrawl_news_articles\n"
     ]
    },
    {
     "name": "stderr",
     "output_type": "stream",
     "text": [
      "100%|██████████| 10/10 [00:00<00:00, 52.02it/s]\n"
     ]
    },
    {
     "name": "stdout",
     "output_type": "stream",
     "text": [
      "  article_bias_prediction\n"
     ]
    },
    {
     "name": "stderr",
     "output_type": "stream",
     "text": [
      "100%|██████████| 10/10 [00:00<00:00, 49.20it/s]\n"
     ]
    },
    {
     "name": "stdout",
     "output_type": "stream",
     "text": [
      "  qbias\n"
     ]
    },
    {
     "name": "stderr",
     "output_type": "stream",
     "text": [
      "100%|██████████| 10/10 [00:00<00:00, 186.62it/s]\n"
     ]
    },
    {
     "name": "stdout",
     "output_type": "stream",
     "text": [
      "  webis_news_bias_20\n"
     ]
    },
    {
     "name": "stderr",
     "output_type": "stream",
     "text": [
      "100%|██████████| 10/10 [00:00<00:00, 53.91it/s]\n"
     ]
    },
    {
     "name": "stdout",
     "output_type": "stream",
     "text": [
      "  webis_bias_flipper_18\n"
     ]
    },
    {
     "name": "stderr",
     "output_type": "stream",
     "text": [
      "100%|██████████| 10/10 [00:00<00:00, 53.81it/s]\n"
     ]
    },
    {
     "name": "stdout",
     "output_type": "stream",
     "text": [
      "evaluating BertPoliticalBiasFinetune on:\n",
      "  commoncrawl_news_articles\n"
     ]
    },
    {
     "name": "stderr",
     "output_type": "stream",
     "text": [
      "100%|██████████| 10/10 [00:00<00:00, 36.24it/s]\n"
     ]
    },
    {
     "name": "stdout",
     "output_type": "stream",
     "text": [
      "  article_bias_prediction\n"
     ]
    },
    {
     "name": "stderr",
     "output_type": "stream",
     "text": [
      "100%|██████████| 10/10 [00:00<00:00, 30.39it/s]\n"
     ]
    },
    {
     "name": "stdout",
     "output_type": "stream",
     "text": [
      "  qbias\n"
     ]
    },
    {
     "name": "stderr",
     "output_type": "stream",
     "text": [
      "100%|██████████| 10/10 [00:00<00:00, 119.88it/s]\n"
     ]
    },
    {
     "name": "stdout",
     "output_type": "stream",
     "text": [
      "  webis_news_bias_20\n"
     ]
    },
    {
     "name": "stderr",
     "output_type": "stream",
     "text": [
      "100%|██████████| 10/10 [00:00<00:00, 32.71it/s]\n"
     ]
    },
    {
     "name": "stdout",
     "output_type": "stream",
     "text": [
      "  webis_bias_flipper_18\n"
     ]
    },
    {
     "name": "stderr",
     "output_type": "stream",
     "text": [
      "100%|██████████| 10/10 [00:00<00:00, 33.42it/s]\n"
     ]
    },
    {
     "name": "stdout",
     "output_type": "stream",
     "text": [
      "evaluating DistilBertPoliticalFinetune on:\n",
      "  commoncrawl_news_articles\n"
     ]
    },
    {
     "name": "stderr",
     "output_type": "stream",
     "text": [
      "100%|██████████| 10/10 [00:00<00:00, 70.59it/s]\n"
     ]
    },
    {
     "name": "stdout",
     "output_type": "stream",
     "text": [
      "  article_bias_prediction\n"
     ]
    },
    {
     "name": "stderr",
     "output_type": "stream",
     "text": [
      "100%|██████████| 10/10 [00:00<00:00, 61.23it/s]\n"
     ]
    },
    {
     "name": "stdout",
     "output_type": "stream",
     "text": [
      "  qbias\n"
     ]
    },
    {
     "name": "stderr",
     "output_type": "stream",
     "text": [
      "100%|██████████| 10/10 [00:00<00:00, 200.32it/s]\n"
     ]
    },
    {
     "name": "stdout",
     "output_type": "stream",
     "text": [
      "  webis_news_bias_20\n"
     ]
    },
    {
     "name": "stderr",
     "output_type": "stream",
     "text": [
      "100%|██████████| 10/10 [00:00<00:00, 64.96it/s]\n"
     ]
    },
    {
     "name": "stdout",
     "output_type": "stream",
     "text": [
      "  webis_bias_flipper_18\n"
     ]
    },
    {
     "name": "stderr",
     "output_type": "stream",
     "text": [
      "100%|██████████| 10/10 [00:00<00:00, 64.58it/s]\n"
     ]
    }
   ],
   "execution_count": 3
  },
  {
   "cell_type": "code",
   "id": "3",
   "metadata": {
    "ExecuteTime": {
     "end_time": "2024-11-22T18:30:29.078608Z",
     "start_time": "2024-11-22T18:30:26.355626Z"
    }
   },
   "source": [
    "results_df = pd.DataFrame(\n",
    "    accuracy_results,\n",
    "    index=list(map(lambda model: model.name, GET_MODELS())),\n",
    "    columns=list(map(lambda dataset: dataset.name, datasets)),\n",
    ")\n",
    "\n",
    "results_df"
   ],
   "outputs": [
    {
     "data": {
      "text/plain": [
       "                                       commoncrawl_news_articles  \\\n",
       "PoliticalBiasBert                                  1/10 (10.0 %)   \n",
       "PoliticalBiasPredictionAllsidesDeberta             6/10 (60.0 %)   \n",
       "DistilBertPoliticalBias                            1/10 (10.0 %)   \n",
       "BertPoliticalBiasFinetune                          4/10 (40.0 %)   \n",
       "DistilBertPoliticalFinetune                        5/10 (50.0 %)   \n",
       "\n",
       "                                       article_bias_prediction          qbias  \\\n",
       "PoliticalBiasBert                                7/10 (70.0 %)  4/10 (40.0 %)   \n",
       "PoliticalBiasPredictionAllsidesDeberta           1/10 (10.0 %)  7/10 (70.0 %)   \n",
       "DistilBertPoliticalBias                          1/10 (10.0 %)  2/10 (20.0 %)   \n",
       "BertPoliticalBiasFinetune                        7/10 (70.0 %)  6/10 (60.0 %)   \n",
       "DistilBertPoliticalFinetune                      2/10 (20.0 %)  5/10 (50.0 %)   \n",
       "\n",
       "                                       webis_news_bias_20  \\\n",
       "PoliticalBiasBert                           6/10 (60.0 %)   \n",
       "PoliticalBiasPredictionAllsidesDeberta      8/10 (80.0 %)   \n",
       "DistilBertPoliticalBias                     4/10 (40.0 %)   \n",
       "BertPoliticalBiasFinetune                   5/10 (50.0 %)   \n",
       "DistilBertPoliticalFinetune                 3/10 (30.0 %)   \n",
       "\n",
       "                                       webis_bias_flipper_18  \n",
       "PoliticalBiasBert                              6/10 (60.0 %)  \n",
       "PoliticalBiasPredictionAllsidesDeberta         7/10 (70.0 %)  \n",
       "DistilBertPoliticalBias                        4/10 (40.0 %)  \n",
       "BertPoliticalBiasFinetune                      5/10 (50.0 %)  \n",
       "DistilBertPoliticalFinetune                    4/10 (40.0 %)  "
      ],
      "text/html": [
       "<div>\n",
       "<style scoped>\n",
       "    .dataframe tbody tr th:only-of-type {\n",
       "        vertical-align: middle;\n",
       "    }\n",
       "\n",
       "    .dataframe tbody tr th {\n",
       "        vertical-align: top;\n",
       "    }\n",
       "\n",
       "    .dataframe thead th {\n",
       "        text-align: right;\n",
       "    }\n",
       "</style>\n",
       "<table border=\"1\" class=\"dataframe\">\n",
       "  <thead>\n",
       "    <tr style=\"text-align: right;\">\n",
       "      <th></th>\n",
       "      <th>commoncrawl_news_articles</th>\n",
       "      <th>article_bias_prediction</th>\n",
       "      <th>qbias</th>\n",
       "      <th>webis_news_bias_20</th>\n",
       "      <th>webis_bias_flipper_18</th>\n",
       "    </tr>\n",
       "  </thead>\n",
       "  <tbody>\n",
       "    <tr>\n",
       "      <th>PoliticalBiasBert</th>\n",
       "      <td>1/10 (10.0 %)</td>\n",
       "      <td>7/10 (70.0 %)</td>\n",
       "      <td>4/10 (40.0 %)</td>\n",
       "      <td>6/10 (60.0 %)</td>\n",
       "      <td>6/10 (60.0 %)</td>\n",
       "    </tr>\n",
       "    <tr>\n",
       "      <th>PoliticalBiasPredictionAllsidesDeberta</th>\n",
       "      <td>6/10 (60.0 %)</td>\n",
       "      <td>1/10 (10.0 %)</td>\n",
       "      <td>7/10 (70.0 %)</td>\n",
       "      <td>8/10 (80.0 %)</td>\n",
       "      <td>7/10 (70.0 %)</td>\n",
       "    </tr>\n",
       "    <tr>\n",
       "      <th>DistilBertPoliticalBias</th>\n",
       "      <td>1/10 (10.0 %)</td>\n",
       "      <td>1/10 (10.0 %)</td>\n",
       "      <td>2/10 (20.0 %)</td>\n",
       "      <td>4/10 (40.0 %)</td>\n",
       "      <td>4/10 (40.0 %)</td>\n",
       "    </tr>\n",
       "    <tr>\n",
       "      <th>BertPoliticalBiasFinetune</th>\n",
       "      <td>4/10 (40.0 %)</td>\n",
       "      <td>7/10 (70.0 %)</td>\n",
       "      <td>6/10 (60.0 %)</td>\n",
       "      <td>5/10 (50.0 %)</td>\n",
       "      <td>5/10 (50.0 %)</td>\n",
       "    </tr>\n",
       "    <tr>\n",
       "      <th>DistilBertPoliticalFinetune</th>\n",
       "      <td>5/10 (50.0 %)</td>\n",
       "      <td>2/10 (20.0 %)</td>\n",
       "      <td>5/10 (50.0 %)</td>\n",
       "      <td>3/10 (30.0 %)</td>\n",
       "      <td>4/10 (40.0 %)</td>\n",
       "    </tr>\n",
       "  </tbody>\n",
       "</table>\n",
       "</div>"
      ]
     },
     "execution_count": 5,
     "metadata": {},
     "output_type": "execute_result"
    }
   ],
   "execution_count": 5
  }
 ],
 "metadata": {
  "kernelspec": {
   "display_name": "Python 3",
   "language": "python",
   "name": "python3"
  },
  "language_info": {
   "codemirror_mode": {
    "name": "ipython",
    "version": 2
   },
   "file_extension": ".py",
   "mimetype": "text/x-python",
   "name": "python",
   "nbconvert_exporter": "python",
   "pygments_lexer": "ipython2",
   "version": "2.7.6"
  }
 },
 "nbformat": 4,
 "nbformat_minor": 5
}
