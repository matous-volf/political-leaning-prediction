{
 "cells": [
  {
   "cell_type": "code",
   "execution_count": 1,
   "id": "f85bff2f470a1daa",
   "metadata": {},
   "outputs": [],
   "source": [
    "from pathlib import Path\n",
    "\n",
    "from utils.dataset_utils import get_leaning_datasets, leaning_with_center_label_mapping\n",
    "from utils.model_utils import evaluate_models, \\\n",
    "    get_custom_leaning_models"
   ]
  },
  {
   "cell_type": "code",
   "execution_count": 2,
   "id": "caf72f714aa6092c",
   "metadata": {},
   "outputs": [
    {
     "ename": "TypeError",
     "evalue": "Dataset.take_even_class_distribution_sample() missing 1 required positional argument: 'size'",
     "output_type": "error",
     "traceback": [
      "\u001B[0;31m---------------------------------------------------------------------------\u001B[0m",
      "\u001B[0;31mTypeError\u001B[0m                                 Traceback (most recent call last)",
      "Cell \u001B[0;32mIn[2], line 14\u001B[0m\n\u001B[1;32m     11\u001B[0m dataset\u001B[38;5;241m.\u001B[39mdataframe \u001B[38;5;241m=\u001B[39m dataset\u001B[38;5;241m.\u001B[39mdataframe[dataset\u001B[38;5;241m.\u001B[39mdataframe[\u001B[38;5;124m\"\u001B[39m\u001B[38;5;124mleaning\u001B[39m\u001B[38;5;124m\"\u001B[39m] \u001B[38;5;241m!=\u001B[39m \u001B[38;5;124m\"\u001B[39m\u001B[38;5;124mcenter\u001B[39m\u001B[38;5;124m\"\u001B[39m]\n\u001B[1;32m     12\u001B[0m dataset\u001B[38;5;241m.\u001B[39mdataframe[\u001B[38;5;124m\"\u001B[39m\u001B[38;5;124mleaning\u001B[39m\u001B[38;5;124m\"\u001B[39m] \u001B[38;5;241m=\u001B[39m dataset\u001B[38;5;241m.\u001B[39mdataframe[\u001B[38;5;124m\"\u001B[39m\u001B[38;5;124mleaning\u001B[39m\u001B[38;5;124m\"\u001B[39m]\u001B[38;5;241m.\u001B[39mcat\u001B[38;5;241m.\u001B[39mremove_unused_categories()\n\u001B[0;32m---> 14\u001B[0m dataset \u001B[38;5;241m=\u001B[39m \u001B[43mdataset\u001B[49m\u001B[38;5;241;43m.\u001B[39;49m\u001B[43mtake_even_class_distribution_sample\u001B[49m\u001B[43m(\u001B[49m\u001B[43m)\u001B[49m\n\u001B[1;32m     15\u001B[0m datasets_without_center\u001B[38;5;241m.\u001B[39mappend(dataset\u001B[38;5;241m.\u001B[39mtransform_for_inference()\u001B[38;5;241m.\u001B[39mto_huggingface())\n",
      "\u001B[0;31mTypeError\u001B[0m: Dataset.take_even_class_distribution_sample() missing 1 required positional argument: 'size'"
     ]
    }
   ],
   "source": [
    "GET_DATASETS = lambda: get_leaning_datasets()\n",
    "DATASET_SAMPLE_SIZE = 1_000\n",
    "\n",
    "datasets_with_center = []\n",
    "for dataset in GET_DATASETS():\n",
    "    dataset = dataset.take_even_class_distribution_sample(DATASET_SAMPLE_SIZE)\n",
    "    datasets_with_center.append(dataset.transform_for_inference(leaning_with_center_label_mapping).to_huggingface())\n",
    "\n",
    "datasets_without_center = []\n",
    "for dataset in GET_DATASETS():\n",
    "    dataset.dataframe = dataset.dataframe[dataset.dataframe[\"leaning\"] != \"center\"]\n",
    "    dataset.dataframe[\"leaning\"] = dataset.dataframe[\"leaning\"].cat.remove_unused_categories()\n",
    "\n",
    "    dataset = dataset.take_even_class_distribution_sample(DATASET_SAMPLE_SIZE)\n",
    "    datasets_without_center.append(dataset.transform_for_inference().to_huggingface())"
   ]
  },
  {
   "cell_type": "code",
   "execution_count": null,
   "id": "b4d27fe9c8fb0dc5",
   "metadata": {},
   "outputs": [],
   "source": [
    "# Lambda, so that the generator can be reused.\n",
    "GET_MODELS = lambda: get_custom_leaning_models(Path(\"dataset_benchmark\") / \"leave_one_in\" / \"political_leaning\")\n",
    "TRUNCATE_TOKENS = True\n",
    "\n",
    "\n",
    "def get_filtered_models(supports_center_leaning_class: bool):\n",
    "    yield from filter(\n",
    "        lambda model: model.supports_center_leaning_class == supports_center_leaning_class,\n",
    "        GET_MODELS(),\n",
    "    )\n",
    "\n",
    "\n",
    "evaluate_models(\n",
    "    lambda: get_filtered_models(True),\n",
    "    datasets_with_center,\n",
    "    TRUNCATE_TOKENS\n",
    ")"
   ]
  },
  {
   "cell_type": "code",
   "execution_count": null,
   "id": "ca7d3f0ffc4e0e03",
   "metadata": {},
   "outputs": [],
   "source": [
    "evaluate_models(\n",
    "    lambda: get_filtered_models(False),\n",
    "    datasets_without_center,\n",
    "    TRUNCATE_TOKENS\n",
    ")"
   ]
  }
 ],
 "metadata": {
  "kernelspec": {
   "display_name": "Python 3 (ipykernel)",
   "language": "python",
   "name": "python3"
  },
  "language_info": {
   "codemirror_mode": {
    "name": "ipython",
    "version": 3
   },
   "file_extension": ".py",
   "mimetype": "text/x-python",
   "name": "python",
   "nbconvert_exporter": "python",
   "pygments_lexer": "ipython3",
   "version": "3.12.8"
  }
 },
 "nbformat": 4,
 "nbformat_minor": 5
}
