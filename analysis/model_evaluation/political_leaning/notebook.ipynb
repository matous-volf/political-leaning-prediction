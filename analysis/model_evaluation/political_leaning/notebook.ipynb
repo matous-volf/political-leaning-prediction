{
 "cells": [
  {
   "cell_type": "code",
   "id": "f85bff2f470a1daa",
   "metadata": {},
   "source": [
    "from pathlib import Path\n",
    "\n",
    "from utils.dataset_utils import get_leaning_datasets, leaning_with_center_label_mapping\n",
    "from utils.model_utils import evaluate_models, \\\n",
    "    get_custom_leaning_models"
   ],
   "outputs": [],
   "execution_count": null
  },
  {
   "cell_type": "code",
   "id": "caf72f714aa6092c",
   "metadata": {},
   "source": [
    "GET_DATASETS = lambda: get_leaning_datasets()\n",
    "DATASET_SAMPLE_SIZE = 1_000\n",
    "\n",
    "datasets_with_center = []\n",
    "for dataset in GET_DATASETS():\n",
    "    dataset = dataset.take_even_class_distribution_sample(DATASET_SAMPLE_SIZE)\n",
    "    datasets_with_center.append(dataset.transform_for_inference(leaning_with_center_label_mapping).to_huggingface())\n",
    "\n",
    "datasets_without_center = []\n",
    "for dataset in GET_DATASETS():\n",
    "    dataset.dataframe = dataset.dataframe[dataset.dataframe[\"leaning\"] != \"center\"]\n",
    "    dataset.dataframe[\"leaning\"] = dataset.dataframe[\"leaning\"].cat.remove_unused_categories()\n",
    "\n",
    "    dataset = dataset.take_even_class_distribution_sample(DATASET_SAMPLE_SIZE)\n",
    "    datasets_without_center.append(dataset.transform_for_inference().to_huggingface())"
   ],
   "outputs": [],
   "execution_count": null
  },
  {
   "cell_type": "code",
   "id": "b4d27fe9c8fb0dc5",
   "metadata": {},
   "source": [
    "# Lambda, so that the generator can be reused.\n",
    "GET_MODELS = lambda: get_custom_leaning_models(Path(\"dataset_benchmark\") / \"leave_one_in\" / \"political_leaning\")\n",
    "TRUNCATE_TOKENS = True\n",
    "\n",
    "\n",
    "def get_filtered_models(supports_center_leaning_class: bool):\n",
    "    yield from filter(\n",
    "        lambda model: model.supports_center_leaning_class == supports_center_leaning_class,\n",
    "        GET_MODELS(),\n",
    "    )\n",
    "\n",
    "\n",
    "evaluate_models(\n",
    "    lambda: get_filtered_models(True),\n",
    "    datasets_with_center,\n",
    "    TRUNCATE_TOKENS\n",
    ")"
   ],
   "outputs": [],
   "execution_count": null
  },
  {
   "cell_type": "code",
   "id": "ca7d3f0ffc4e0e03",
   "metadata": {},
   "source": [
    "evaluate_models(\n",
    "    lambda: get_filtered_models(False),\n",
    "    datasets_without_center,\n",
    "    TRUNCATE_TOKENS\n",
    ")"
   ],
   "outputs": [],
   "execution_count": null
  }
 ],
 "metadata": {
  "kernelspec": {
   "display_name": "Python 3 (ipykernel)",
   "language": "python",
   "name": "python3"
  },
  "language_info": {
   "codemirror_mode": {
    "name": "ipython",
    "version": 3
   },
   "file_extension": ".py",
   "mimetype": "text/x-python",
   "name": "python",
   "nbconvert_exporter": "python",
   "pygments_lexer": "ipython3",
   "version": "3.12.8"
  }
 },
 "nbformat": 4,
 "nbformat_minor": 5
}
