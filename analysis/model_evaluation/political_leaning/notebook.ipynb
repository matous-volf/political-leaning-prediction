{
 "cells": [
  {
   "metadata": {},
   "cell_type": "code",
   "source": [
    "from pathlib import Path\n",
    "\n",
    "from utils.base_directory import base_directory\n",
    "from utils.dataset_utils import get_leaning_datasets, leaning_no_center_label_mapping, \\\n",
    "    leaning_with_center_label_mapping\n",
    "from utils.model_utils import evaluate_models, get_custom_leaning_models"
   ],
   "id": "c34a2de8615ee926",
   "outputs": [],
   "execution_count": null
  },
  {
   "metadata": {},
   "cell_type": "code",
   "source": [
    "GET_DATASETS = lambda: get_leaning_datasets()\n",
    "DATASET_SAMPLE_SIZE = 1_000\n",
    "\n",
    "datasets_with_center = []\n",
    "for dataset in GET_DATASETS():\n",
    "    dataset = dataset.take_even_class_distribution_sample(DATASET_SAMPLE_SIZE)\n",
    "    datasets_with_center.append(dataset.transform_for_inference(leaning_with_center_label_mapping).to_huggingface())\n",
    "\n",
    "datasets_without_center = []\n",
    "for dataset in GET_DATASETS():\n",
    "    dataset.dataframe = dataset.dataframe[dataset.dataframe[\"leaning\"] != \"center\"]\n",
    "    dataset.dataframe[\"leaning\"] = dataset.dataframe[\"leaning\"].cat.remove_unused_categories()\n",
    "\n",
    "    dataset = dataset.take_even_class_distribution_sample(DATASET_SAMPLE_SIZE)\n",
    "    datasets_without_center.append(dataset.transform_for_inference().to_huggingface())"
   ],
   "id": "c6f51d57fdff9349",
   "outputs": [],
   "execution_count": null
  },
  {
   "metadata": {},
   "cell_type": "code",
   "source": [
    "# Lambda, so that the generator can be reused.\n",
    "GET_MODELS = lambda: get_custom_leaning_models(Path(\"dataset_benchmark\") / \"leave_one_in\" / \"political_leaning\")\n",
    "\n",
    "\n",
    "def get_filtered_models(supports_center_leaning_class: bool):\n",
    "    yield from filter(\n",
    "        lambda model: model.supports_center_leaning_class == supports_center_leaning_class,\n",
    "        GET_MODELS(),\n",
    "    )\n",
    "\n",
    "\n",
    "results_with_center = evaluate_models(\n",
    "    lambda: get_filtered_models(True),\n",
    "    datasets_with_center,\n",
    ")"
   ],
   "id": "abc9373da35a34b",
   "outputs": [],
   "execution_count": null
  },
  {
   "metadata": {},
   "cell_type": "code",
   "source": "results_with_center.count",
   "id": "65cdcd6f2da35c7",
   "outputs": [],
   "execution_count": null
  },
  {
   "metadata": {},
   "cell_type": "code",
   "source": "results_with_center.accuracy",
   "id": "1504df64d122caad",
   "outputs": [],
   "execution_count": null
  },
  {
   "metadata": {},
   "cell_type": "code",
   "source": "results_with_center.f1",
   "id": "cd755373af8ab2f4",
   "outputs": [],
   "execution_count": null
  },
  {
   "metadata": {},
   "cell_type": "code",
   "source": "results_with_center.precision",
   "id": "581b0888bb2f7ea2",
   "outputs": [],
   "execution_count": null
  },
  {
   "metadata": {},
   "cell_type": "code",
   "source": "results_with_center.recall",
   "id": "2329dd40479316ee",
   "outputs": [],
   "execution_count": null
  },
  {
   "metadata": {},
   "cell_type": "code",
   "source": [
    "results_with_center.save_confusion_matrix_images(\n",
    "    Path(\n",
    "        base_directory,\n",
    "        \"analysis\",\n",
    "        \"model_evaluation\",\n",
    "        \"political_leaning\",\n",
    "        \"confusion_matrix_results\",\n",
    "        \"with_center\",\n",
    "    ),\n",
    "    leaning_with_center_label_mapping\n",
    ")"
   ],
   "id": "ad605d30e2619e38",
   "outputs": [],
   "execution_count": null
  },
  {
   "cell_type": "code",
   "id": "ca7d3f0ffc4e0e03",
   "metadata": {},
   "source": [
    "results_without_center = evaluate_models(\n",
    "    lambda: get_filtered_models(False),\n",
    "    datasets_without_center,\n",
    ")"
   ],
   "outputs": [],
   "execution_count": null
  },
  {
   "metadata": {},
   "cell_type": "code",
   "source": "results_without_center.count",
   "id": "3cb242fa76f337e6",
   "outputs": [],
   "execution_count": null
  },
  {
   "metadata": {},
   "cell_type": "code",
   "source": "results_without_center.accuracy",
   "id": "f136b02e1d5e665f",
   "outputs": [],
   "execution_count": null
  },
  {
   "metadata": {},
   "cell_type": "code",
   "source": "results_without_center.f1",
   "id": "e2efc8da93720199",
   "outputs": [],
   "execution_count": null
  },
  {
   "metadata": {},
   "cell_type": "code",
   "source": "results_without_center.precision",
   "id": "175b658cafb999c4",
   "outputs": [],
   "execution_count": null
  },
  {
   "metadata": {},
   "cell_type": "code",
   "source": "results_without_center.recall",
   "id": "d4c73d130ab46797",
   "outputs": [],
   "execution_count": null
  },
  {
   "metadata": {},
   "cell_type": "code",
   "source": [
    "results_without_center.save_confusion_matrix_images(\n",
    "    Path(\n",
    "        base_directory,\n",
    "        \"analysis\",\n",
    "        \"model_evaluation\",\n",
    "        \"political_leaning\",\n",
    "        \"confusion_matrix_results\",\n",
    "        \"no_center\",\n",
    "    ),\n",
    "    leaning_no_center_label_mapping\n",
    ")"
   ],
   "id": "51d2f18e046c2929",
   "outputs": [],
   "execution_count": null
  }
 ],
 "metadata": {
  "kernelspec": {
   "display_name": "Python 3 (ipykernel)",
   "language": "python",
   "name": "python3"
  },
  "language_info": {
   "codemirror_mode": {
    "name": "ipython",
    "version": 3
   },
   "file_extension": ".py",
   "mimetype": "text/x-python",
   "name": "python",
   "nbconvert_exporter": "python",
   "pygments_lexer": "ipython3",
   "version": "3.12.8"
  }
 },
 "nbformat": 4,
 "nbformat_minor": 5
}
