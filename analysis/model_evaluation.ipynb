{
 "cells": [
  {
   "cell_type": "code",
   "id": "0",
   "metadata": {
    "ExecuteTime": {
     "end_time": "2024-10-29T09:33:19.045959Z",
     "start_time": "2024-10-29T09:33:15.762615Z"
    }
   },
   "source": [
    "import numpy as np\n",
    "import pandas as pd\n",
    "from sklearn.metrics import accuracy_score\n",
    "from tqdm import tqdm\n",
    "\n",
    "from utils.datasets import get_datasets\n",
    "from utils.models import get_models"
   ],
   "outputs": [
    {
     "name": "stderr",
     "output_type": "stream",
     "text": [
      "/home/matous/Documents/political-leaning-prediction/.venv/lib/python3.12/site-packages/tqdm/auto.py:21: TqdmWarning: IProgress not found. Please update jupyter and ipywidgets. See https://ipywidgets.readthedocs.io/en/stable/user_install.html\n",
      "  from .autonotebook import tqdm as notebook_tqdm\n"
     ]
    },
    {
     "ename": "RuntimeError",
     "evalue": "Expected one of cpu, cuda, ipu, xpu, mkldnn, opengl, opencl, ideep, hip, ve, fpga, maia, xla, lazy, vulkan, mps, meta, hpu, mtia, privateuseone device type at start of device string: gpu",
     "output_type": "error",
     "traceback": [
      "\u001B[0;31m---------------------------------------------------------------------------\u001B[0m",
      "\u001B[0;31mRuntimeError\u001B[0m                              Traceback (most recent call last)",
      "Cell \u001B[0;32mIn[1], line 7\u001B[0m\n\u001B[1;32m      4\u001B[0m \u001B[38;5;28;01mfrom\u001B[39;00m \u001B[38;5;21;01mtqdm\u001B[39;00m \u001B[38;5;28;01mimport\u001B[39;00m tqdm\n\u001B[1;32m      6\u001B[0m \u001B[38;5;28;01mfrom\u001B[39;00m \u001B[38;5;21;01mutils\u001B[39;00m\u001B[38;5;21;01m.\u001B[39;00m\u001B[38;5;21;01mdatasets\u001B[39;00m \u001B[38;5;28;01mimport\u001B[39;00m get_datasets\n\u001B[0;32m----> 7\u001B[0m \u001B[38;5;28;01mfrom\u001B[39;00m \u001B[38;5;21;01mutils\u001B[39;00m\u001B[38;5;21;01m.\u001B[39;00m\u001B[38;5;21;01mmodels\u001B[39;00m \u001B[38;5;28;01mimport\u001B[39;00m get_models\n",
      "File \u001B[0;32m~/Documents/political-leaning-prediction/utils/models.py:16\u001B[0m\n\u001B[1;32m      5\u001B[0m \u001B[38;5;28;01mimport\u001B[39;00m \u001B[38;5;21;01mtorch\u001B[39;00m\n\u001B[1;32m      6\u001B[0m \u001B[38;5;28;01mfrom\u001B[39;00m \u001B[38;5;21;01mtransformers\u001B[39;00m \u001B[38;5;28;01mimport\u001B[39;00m (\n\u001B[1;32m      7\u001B[0m     AutoModelForSequenceClassification,\n\u001B[1;32m      8\u001B[0m     AutoTokenizer,\n\u001B[0;32m   (...)\u001B[0m\n\u001B[1;32m     12\u001B[0m     pipeline,\n\u001B[1;32m     13\u001B[0m )\n\u001B[0;32m---> 16\u001B[0m DEVICE \u001B[38;5;241m=\u001B[39m \u001B[43mtorch\u001B[49m\u001B[38;5;241;43m.\u001B[39;49m\u001B[43mdevice\u001B[49m\u001B[43m(\u001B[49m\u001B[38;5;124;43m\"\u001B[39;49m\u001B[38;5;124;43mgpu\u001B[39;49m\u001B[38;5;124;43m\"\u001B[39;49m\u001B[43m)\u001B[49m \u001B[38;5;28;01mif\u001B[39;00m torch\u001B[38;5;241m.\u001B[39mcuda\u001B[38;5;241m.\u001B[39mis_available() \u001B[38;5;28;01melse\u001B[39;00m torch\u001B[38;5;241m.\u001B[39mdevice(\u001B[38;5;124m\"\u001B[39m\u001B[38;5;124mcpu\u001B[39m\u001B[38;5;124m\"\u001B[39m)\n\u001B[1;32m     19\u001B[0m \u001B[38;5;28;01mclass\u001B[39;00m \u001B[38;5;21;01mLeaning\u001B[39;00m(Enum):\n\u001B[1;32m     20\u001B[0m     LEFT \u001B[38;5;241m=\u001B[39m \u001B[38;5;124m\"\u001B[39m\u001B[38;5;124mleft\u001B[39m\u001B[38;5;124m\"\u001B[39m\n",
      "\u001B[0;31mRuntimeError\u001B[0m: Expected one of cpu, cuda, ipu, xpu, mkldnn, opengl, opencl, ideep, hip, ve, fpga, maia, xla, lazy, vulkan, mps, meta, hpu, mtia, privateuseone device type at start of device string: gpu"
     ]
    }
   ],
   "execution_count": 1
  },
  {
   "metadata": {},
   "cell_type": "code",
   "source": [
    "DATASET_SAMPLE_SIZE = 1000\n",
    "\n",
    "datasets = get_datasets()\n",
    "datasets_without_center = get_datasets()\n",
    "\n",
    "for dataset in datasets:\n",
    "    if len(dataset.dataframe) <= DATASET_SAMPLE_SIZE:\n",
    "        continue\n",
    "\n",
    "    dataset.dataframe = dataset.dataframe.iloc[\n",
    "                        ::len(dataset.dataframe) // DATASET_SAMPLE_SIZE\n",
    "                        ].head(DATASET_SAMPLE_SIZE)\n",
    "\n",
    "for dataset in datasets_without_center:\n",
    "    dataset.dataframe = dataset.dataframe[dataset.dataframe[\"leaning\"] != \"center\"]\n",
    "\n",
    "    if len(dataset.dataframe) <= DATASET_SAMPLE_SIZE:\n",
    "        continue\n",
    "\n",
    "    dataset.dataframe = dataset.dataframe.iloc[\n",
    "                        ::len(dataset.dataframe) // DATASET_SAMPLE_SIZE\n",
    "                        ].head(DATASET_SAMPLE_SIZE)\n",
    "\n",
    "models = get_models()"
   ],
   "id": "1",
   "outputs": [],
   "execution_count": null
  },
  {
   "cell_type": "code",
   "id": "2",
   "metadata": {},
   "source": [
    "TRUNCATE_TOKENS = True\n",
    "\n",
    "accuracy_results = [[\"\" for _ in range(len(datasets))] for _ in range(len(models))]\n",
    "\n",
    "for model_index, model in enumerate(models):\n",
    "    for dataset_index in range(len(datasets)):\n",
    "        dataset = datasets[dataset_index] if model.supports_center_leaning else datasets_without_center[dataset_index]\n",
    "\n",
    "        predictions = []\n",
    "        for body_index, body in enumerate(tqdm(dataset.dataframe[\"body\"])):\n",
    "            try:\n",
    "                predictions.append(model.predict(body, TRUNCATE_TOKENS))\n",
    "            except RuntimeError:\n",
    "                if TRUNCATE_TOKENS:\n",
    "                    raise\n",
    "                predictions.append(None)\n",
    "\n",
    "        valid_indices = [i for i, prediction in enumerate(predictions) if prediction is not None]\n",
    "        predictions = list(map(lambda prediction: prediction.value, [predictions[i] for i in valid_indices]))\n",
    "        accuracy = accuracy_score(\n",
    "            dataset.dataframe[\"leaning\"].iloc[valid_indices].tolist(),\n",
    "            predictions\n",
    "        ) if len(predictions) > 0 else 0\n",
    "        accuracy_results[model_index][dataset_index] \\\n",
    "            = f\"{len(valid_indices) * accuracy:.0f}/{len(valid_indices)} ({np.round(accuracy * 100, 2)} %)\""
   ],
   "outputs": [],
   "execution_count": null
  },
  {
   "cell_type": "code",
   "id": "3",
   "metadata": {},
   "source": [
    "results_df = pd.DataFrame(\n",
    "    accuracy_results,\n",
    "    index=list(map(lambda model: model.name, models)),\n",
    "    columns=list(map(lambda dataset: dataset.name, datasets)))\n",
    "results_df"
   ],
   "outputs": [],
   "execution_count": null
  }
 ],
 "metadata": {
  "kernelspec": {
   "display_name": "Python 3",
   "language": "python",
   "name": "python3"
  },
  "language_info": {
   "codemirror_mode": {
    "name": "ipython",
    "version": 2
   },
   "file_extension": ".py",
   "mimetype": "text/x-python",
   "name": "python",
   "nbconvert_exporter": "python",
   "pygments_lexer": "ipython2",
   "version": "2.7.6"
  }
 },
 "nbformat": 4,
 "nbformat_minor": 5
}
