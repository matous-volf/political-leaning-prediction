{
 "cells": [
  {
   "cell_type": "code",
   "id": "0",
   "metadata": {
    "ExecuteTime": {
     "end_time": "2024-10-20T17:21:17.363179Z",
     "start_time": "2024-10-20T17:21:11.887114Z"
    }
   },
   "source": [
    "import numpy as np\n",
    "import pandas as pd\n",
    "from sklearn.metrics import accuracy_score\n",
    "from tqdm import tqdm\n",
    "\n",
    "from utils.datasets import get_datasets\n",
    "from utils.models import get_models"
   ],
   "outputs": [
    {
     "name": "stderr",
     "output_type": "stream",
     "text": [
      "/home/matous/Documents/political-leaning-prediction/.venv/lib/python3.12/site-packages/tqdm/auto.py:21: TqdmWarning: IProgress not found. Please update jupyter and ipywidgets. See https://ipywidgets.readthedocs.io/en/stable/user_install.html\n",
      "  from .autonotebook import tqdm as notebook_tqdm\n"
     ]
    }
   ],
   "execution_count": 1
  },
  {
   "metadata": {
    "ExecuteTime": {
     "end_time": "2024-10-20T17:21:42.926980Z",
     "start_time": "2024-10-20T17:21:17.369360Z"
    }
   },
   "cell_type": "code",
   "source": [
    "DATASET_SAMPLE_SIZE = 10\n",
    "\n",
    "datasets = get_datasets()\n",
    "datasets_without_center = get_datasets()\n",
    "\n",
    "for dataset in datasets:\n",
    "    dataset.dataframe = (dataset.dataframe.iloc[::len(dataset.dataframe) // DATASET_SAMPLE_SIZE]\n",
    "                         .head(DATASET_SAMPLE_SIZE))\n",
    "\n",
    "for dataset in datasets_without_center:\n",
    "    dataset.dataframe = dataset.dataframe[dataset.dataframe[\"leaning\"] != \"center\"]\n",
    "    dataset.dataframe = (dataset.dataframe.iloc[::len(dataset.dataframe) // DATASET_SAMPLE_SIZE]\n",
    "                         .head(DATASET_SAMPLE_SIZE))\n",
    "\n",
    "models = get_models()"
   ],
   "id": "edec91687957913d",
   "outputs": [],
   "execution_count": 2
  },
  {
   "cell_type": "code",
   "id": "1",
   "metadata": {
    "ExecuteTime": {
     "end_time": "2024-10-20T17:26:50.519841Z",
     "start_time": "2024-10-20T17:21:43.107438Z"
    }
   },
   "source": [
    "TRUNCATE_TOKENS = True\n",
    "\n",
    "accuracy_results = [[\"\" for _ in range(len(datasets))] for _ in range(len(models))]\n",
    "\n",
    "for model_index, model in enumerate(models):\n",
    "    for dataset_index in range(len(datasets)):\n",
    "        dataset = datasets[dataset_index] if model.supports_center_leaning else datasets_without_center[dataset_index]\n",
    "\n",
    "        predictions = []\n",
    "        for body_index, body in enumerate(tqdm(dataset.dataframe[\"body\"])):\n",
    "            try:\n",
    "                predictions.append(model.predict(body, TRUNCATE_TOKENS))\n",
    "            except RuntimeError:\n",
    "                if TRUNCATE_TOKENS:\n",
    "                    raise\n",
    "                predictions.append(None)\n",
    "\n",
    "        valid_indices = [i for i, prediction in enumerate(predictions) if prediction is not None]\n",
    "        predictions = list(map(lambda prediction: prediction.value, [predictions[i] for i in valid_indices]))\n",
    "        accuracy = accuracy_score(\n",
    "            dataset.dataframe[\"leaning\"].iloc[valid_indices].tolist(),\n",
    "            predictions\n",
    "        ) if len(predictions) > 0 else 0\n",
    "        accuracy_results[model_index][dataset_index] \\\n",
    "            = f\"{len(valid_indices) * accuracy:.0f}/{len(valid_indices)} ({np.round(accuracy * 100, 2)} %)\""
   ],
   "outputs": [
    {
     "name": "stderr",
     "output_type": "stream",
     "text": [
      "100%|██████████| 10/10 [00:14<00:00,  1.44s/it]\n",
      "100%|██████████| 10/10 [00:09<00:00,  1.08it/s]\n",
      "100%|██████████| 10/10 [00:02<00:00,  4.93it/s]\n",
      "100%|██████████| 10/10 [00:11<00:00,  1.14s/it]\n",
      "100%|██████████| 10/10 [00:11<00:00,  1.14s/it]\n",
      "100%|██████████| 10/10 [01:09<00:00,  6.92s/it]\n",
      "100%|██████████| 10/10 [00:28<00:00,  2.81s/it]\n",
      "100%|██████████| 10/10 [00:03<00:00,  2.96it/s]\n",
      "100%|██████████| 10/10 [00:31<00:00,  3.11s/it]\n",
      "100%|██████████| 10/10 [00:43<00:00,  4.32s/it]\n",
      "100%|██████████| 10/10 [00:06<00:00,  1.56it/s]\n",
      "100%|██████████| 10/10 [00:04<00:00,  2.12it/s]\n",
      "100%|██████████| 10/10 [00:00<00:00, 10.37it/s]\n",
      "100%|██████████| 10/10 [00:05<00:00,  1.68it/s]\n",
      "100%|██████████| 10/10 [00:05<00:00,  1.91it/s]\n",
      "100%|██████████| 10/10 [00:09<00:00,  1.04it/s]\n",
      "100%|██████████| 10/10 [00:07<00:00,  1.33it/s]\n",
      "100%|██████████| 10/10 [00:01<00:00,  5.54it/s]\n",
      "100%|██████████| 10/10 [00:11<00:00,  1.18s/it]\n",
      "100%|██████████| 10/10 [00:10<00:00,  1.10s/it]\n",
      "100%|██████████| 10/10 [00:05<00:00,  1.68it/s]\n",
      "100%|██████████| 10/10 [00:03<00:00,  3.28it/s]\n",
      "100%|██████████| 10/10 [00:00<00:00, 14.28it/s]\n",
      "100%|██████████| 10/10 [00:04<00:00,  2.44it/s]\n",
      "100%|██████████| 10/10 [00:05<00:00,  2.00it/s]\n"
     ]
    }
   ],
   "execution_count": 3
  },
  {
   "metadata": {
    "ExecuteTime": {
     "end_time": "2024-10-20T17:26:50.613135Z",
     "start_time": "2024-10-20T17:26:50.544090Z"
    }
   },
   "cell_type": "code",
   "source": [
    "results_df = pd.DataFrame(\n",
    "    accuracy_results,\n",
    "    index=list(map(lambda model: model.name, models)),\n",
    "    columns=list(map(lambda dataset: dataset.name, datasets)))\n",
    "results_df"
   ],
   "id": "7f0f3c50a50883ac",
   "outputs": [
    {
     "data": {
      "text/plain": [
       "                                       article_bias_prediction  \\\n",
       "PoliticalBiasBert                                5/10 (50.0 %)   \n",
       "PoliticalBiasPredictionAllsidesDeberta           5/10 (50.0 %)   \n",
       "DistilBertPoliticalBias                          3/10 (30.0 %)   \n",
       "BertPoliticalBiasFineTune                        3/10 (30.0 %)   \n",
       "DistilBertPoliticalFinetune                      5/10 (50.0 %)   \n",
       "\n",
       "                                       commoncrawl_news_articles  \\\n",
       "PoliticalBiasBert                                  3/10 (30.0 %)   \n",
       "PoliticalBiasPredictionAllsidesDeberta             5/10 (50.0 %)   \n",
       "DistilBertPoliticalBias                            1/10 (10.0 %)   \n",
       "BertPoliticalBiasFineTune                          5/10 (50.0 %)   \n",
       "DistilBertPoliticalFinetune                        4/10 (40.0 %)   \n",
       "\n",
       "                                                qbias webis_bias_flipper_18  \\\n",
       "PoliticalBiasBert                       5/10 (50.0 %)         5/10 (50.0 %)   \n",
       "PoliticalBiasPredictionAllsidesDeberta  7/10 (70.0 %)         6/10 (60.0 %)   \n",
       "DistilBertPoliticalBias                 5/10 (50.0 %)         3/10 (30.0 %)   \n",
       "BertPoliticalBiasFineTune               6/10 (60.0 %)         4/10 (40.0 %)   \n",
       "DistilBertPoliticalFinetune             5/10 (50.0 %)         6/10 (60.0 %)   \n",
       "\n",
       "                                       webis_news_bias_20  \n",
       "PoliticalBiasBert                           3/10 (30.0 %)  \n",
       "PoliticalBiasPredictionAllsidesDeberta      7/10 (70.0 %)  \n",
       "DistilBertPoliticalBias                     6/10 (60.0 %)  \n",
       "BertPoliticalBiasFineTune                   2/10 (20.0 %)  \n",
       "DistilBertPoliticalFinetune                 3/10 (30.0 %)  "
      ],
      "text/html": [
       "<div>\n",
       "<style scoped>\n",
       "    .dataframe tbody tr th:only-of-type {\n",
       "        vertical-align: middle;\n",
       "    }\n",
       "\n",
       "    .dataframe tbody tr th {\n",
       "        vertical-align: top;\n",
       "    }\n",
       "\n",
       "    .dataframe thead th {\n",
       "        text-align: right;\n",
       "    }\n",
       "</style>\n",
       "<table border=\"1\" class=\"dataframe\">\n",
       "  <thead>\n",
       "    <tr style=\"text-align: right;\">\n",
       "      <th></th>\n",
       "      <th>article_bias_prediction</th>\n",
       "      <th>commoncrawl_news_articles</th>\n",
       "      <th>qbias</th>\n",
       "      <th>webis_bias_flipper_18</th>\n",
       "      <th>webis_news_bias_20</th>\n",
       "    </tr>\n",
       "  </thead>\n",
       "  <tbody>\n",
       "    <tr>\n",
       "      <th>PoliticalBiasBert</th>\n",
       "      <td>5/10 (50.0 %)</td>\n",
       "      <td>3/10 (30.0 %)</td>\n",
       "      <td>5/10 (50.0 %)</td>\n",
       "      <td>5/10 (50.0 %)</td>\n",
       "      <td>3/10 (30.0 %)</td>\n",
       "    </tr>\n",
       "    <tr>\n",
       "      <th>PoliticalBiasPredictionAllsidesDeberta</th>\n",
       "      <td>5/10 (50.0 %)</td>\n",
       "      <td>5/10 (50.0 %)</td>\n",
       "      <td>7/10 (70.0 %)</td>\n",
       "      <td>6/10 (60.0 %)</td>\n",
       "      <td>7/10 (70.0 %)</td>\n",
       "    </tr>\n",
       "    <tr>\n",
       "      <th>DistilBertPoliticalBias</th>\n",
       "      <td>3/10 (30.0 %)</td>\n",
       "      <td>1/10 (10.0 %)</td>\n",
       "      <td>5/10 (50.0 %)</td>\n",
       "      <td>3/10 (30.0 %)</td>\n",
       "      <td>6/10 (60.0 %)</td>\n",
       "    </tr>\n",
       "    <tr>\n",
       "      <th>BertPoliticalBiasFineTune</th>\n",
       "      <td>3/10 (30.0 %)</td>\n",
       "      <td>5/10 (50.0 %)</td>\n",
       "      <td>6/10 (60.0 %)</td>\n",
       "      <td>4/10 (40.0 %)</td>\n",
       "      <td>2/10 (20.0 %)</td>\n",
       "    </tr>\n",
       "    <tr>\n",
       "      <th>DistilBertPoliticalFinetune</th>\n",
       "      <td>5/10 (50.0 %)</td>\n",
       "      <td>4/10 (40.0 %)</td>\n",
       "      <td>5/10 (50.0 %)</td>\n",
       "      <td>6/10 (60.0 %)</td>\n",
       "      <td>3/10 (30.0 %)</td>\n",
       "    </tr>\n",
       "  </tbody>\n",
       "</table>\n",
       "</div>"
      ]
     },
     "execution_count": 4,
     "metadata": {},
     "output_type": "execute_result"
    }
   ],
   "execution_count": 4
  }
 ],
 "metadata": {
  "kernelspec": {
   "display_name": "Python 3",
   "language": "python",
   "name": "python3"
  },
  "language_info": {
   "codemirror_mode": {
    "name": "ipython",
    "version": 2
   },
   "file_extension": ".py",
   "mimetype": "text/x-python",
   "name": "python",
   "nbconvert_exporter": "python",
   "pygments_lexer": "ipython2",
   "version": "2.7.6"
  }
 },
 "nbformat": 4,
 "nbformat_minor": 5
}
