{
 "cells": [
  {
   "metadata": {},
   "cell_type": "code",
   "source": [
    "import pandas as pd\n",
    "from matplotlib import pyplot as plt\n",
    "import numpy as np\n",
    "\n",
    "from utils.base_directory import base_directory"
   ],
   "id": "e3877e71028a6330",
   "outputs": [],
   "execution_count": null
  },
  {
   "metadata": {},
   "cell_type": "code",
   "source": [
    "IS_DATASET_ON_POLITICAL_LEANING = True\n",
    "DATASET_NAME = \"commoncrawl_news_articles\"\n",
    "\n",
    "label_column_name = \"leaning\" if IS_DATASET_ON_POLITICAL_LEANING else \"politicalness\"\n",
    "df = pd.read_parquet(\n",
    "    base_directory /\n",
    "    \"datasets\" /\n",
    "    (\"political_leaning\" if IS_DATASET_ON_POLITICAL_LEANING else \"politicalness\") /\n",
    "    \"preprocessed\" /\n",
    "    f\"{DATASET_NAME}.parquet\"\n",
    ")\n",
    "df"
   ],
   "id": "3efdd0fee50b452b",
   "outputs": [],
   "execution_count": null
  },
  {
   "metadata": {},
   "cell_type": "markdown",
   "source": "General statistical information.",
   "id": "f009ea1a77bd2b75"
  },
  {
   "metadata": {},
   "cell_type": "code",
   "source": "df.describe()",
   "id": "9bd6e81aa705d2e1",
   "outputs": [],
   "execution_count": null
  },
  {
   "metadata": {},
   "cell_type": "markdown",
   "source": "Distribution of the title word count.",
   "id": "f0ed270411b981a2"
  },
  {
   "metadata": {},
   "cell_type": "code",
   "source": [
    "if \"title\" in df.columns:\n",
    "    df[\"title_word_count\"].hist(bins=int(np.log(df[\"title_word_count\"].max()) * 5))\n",
    "    plt.xlabel(\"title word count\")\n",
    "    plt.ylabel(\"frequency\")"
   ],
   "id": "7ce9bb23b9b35b78",
   "outputs": [],
   "execution_count": null
  },
  {
   "metadata": {},
   "cell_type": "markdown",
   "source": "Distribution of the body word count.",
   "id": "bd04799486fc21f9"
  },
  {
   "metadata": {},
   "cell_type": "code",
   "source": [
    "percentile_95 = np.percentile(df[\"body_word_count\"], 95)\n",
    "\n",
    "if percentile_95 < 1000:\n",
    "    rounding_factor = 10\n",
    "else:\n",
    "    rounding_factor = 100\n",
    "\n",
    "raw_bin_width = percentile_95 / 6\n",
    "\n",
    "bin_width = int(np.ceil(raw_bin_width / rounding_factor) * rounding_factor)\n",
    "\n",
    "threshold = bin_width * 6\n",
    "\n",
    "bin_edges = [i * bin_width for i in range(7)]\n",
    "\n",
    "bin_labels = []\n",
    "for i in range(len(bin_edges)-1):\n",
    "    if i == 0:\n",
    "        bin_labels.append(f\"0-{int(bin_edges[i+1])}\")\n",
    "    else:\n",
    "        bin_labels.append(f\"{int(bin_edges[i])+1}-{int(bin_edges[i+1])}\")\n",
    "bin_labels.append(f\"more than {int(threshold)}\")\n",
    "\n",
    "counts = []\n",
    "for i in range(len(bin_edges)-1):\n",
    "    if i == 0:\n",
    "        count = ((df[\"body_word_count\"] >= bin_edges[i]) &\n",
    "                 (df[\"body_word_count\"] <= bin_edges[i+1])).sum()\n",
    "    else:\n",
    "        count = ((df[\"body_word_count\"] >= bin_edges[i]+1) &\n",
    "                 (df[\"body_word_count\"] <= bin_edges[i+1])).sum()\n",
    "    counts.append(count)\n",
    "\n",
    "more_than_count = (df[\"body_word_count\"] > threshold).sum()\n",
    "counts.append(more_than_count)\n",
    "\n",
    "fig, ax = plt.subplots(figsize=(7, 6))\n",
    "\n",
    "ax.bar(range(len(bin_labels)), counts)\n",
    "\n",
    "ax.set_xticks(range(len(bin_labels)))\n",
    "ax.set_xticklabels(bin_labels, rotation=45, ha=\"right\")\n",
    "\n",
    "ax.set_ylabel(\"frequency\", fontsize=15)\n",
    "ax.set_xlabel(\"body word count\", fontsize=15)\n",
    "ax.tick_params(axis=\"both\", labelsize=14)\n",
    "ax.set_axisbelow(True)\n",
    "plt.tight_layout(pad=0)"
   ],
   "id": "86a3627dd25894f6",
   "outputs": [],
   "execution_count": null
  },
  {
   "metadata": {},
   "cell_type": "markdown",
   "source": "The label class distribution.",
   "id": "5f1dd44146db8ee0"
  },
  {
   "metadata": {},
   "cell_type": "code",
   "source": [
    "df.groupby(\n",
    "    label_column_name,\n",
    "    observed=True\n",
    ").size().plot.pie(autopct=\"%1.1f %%\");"
   ],
   "id": "63cd3fd946c2dc67",
   "outputs": [],
   "execution_count": null
  }
 ],
 "metadata": {
  "kernelspec": {
   "display_name": "Python 3",
   "language": "python",
   "name": "python3"
  },
  "language_info": {
   "codemirror_mode": {
    "name": "ipython",
    "version": 2
   },
   "file_extension": ".py",
   "mimetype": "text/x-python",
   "name": "python",
   "nbconvert_exporter": "python",
   "pygments_lexer": "ipython2",
   "version": "2.7.6"
  }
 },
 "nbformat": 4,
 "nbformat_minor": 5
}
