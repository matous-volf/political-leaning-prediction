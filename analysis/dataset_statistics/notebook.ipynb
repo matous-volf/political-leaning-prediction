{
 "cells": [
  {
   "cell_type": "code",
   "id": "initial_id",
   "metadata": {
    "collapsed": true
   },
   "source": [
    "import pandas as pd\n",
    "from matplotlib import pyplot as plt\n",
    "import numpy as np\n",
    "\n",
    "from utils.base_directory import base_directory"
   ],
   "outputs": [],
   "execution_count": null
  },
  {
   "metadata": {},
   "cell_type": "code",
   "source": [
    "IS_DATASET_ON_POLITICAL_LEANING = False\n",
    "DATASET_NAME = \"yelp_review_full\"\n",
    "\n",
    "label_column_name = \"leaning\" if IS_DATASET_ON_POLITICAL_LEANING else \"politicalness\"\n",
    "df = pd.read_parquet(\n",
    "    base_directory /\n",
    "    \"datasets\" /\n",
    "    (\"political_leaning\" if IS_DATASET_ON_POLITICAL_LEANING else \"politicalness\") /\n",
    "    \"preprocessed\" /\n",
    "    f\"{DATASET_NAME}.parquet\"\n",
    ")\n",
    "df"
   ],
   "id": "165e822927fafcf8",
   "outputs": [],
   "execution_count": null
  },
  {
   "metadata": {},
   "cell_type": "markdown",
   "source": "General statistical information.",
   "id": "a5046715d23c88e6"
  },
  {
   "metadata": {},
   "cell_type": "code",
   "source": "df.describe()",
   "id": "1464bcdb78fa31f8",
   "outputs": [],
   "execution_count": null
  },
  {
   "metadata": {},
   "cell_type": "markdown",
   "source": "Distribution of the title word count.",
   "id": "62231396f26b09db"
  },
  {
   "metadata": {},
   "cell_type": "code",
   "source": [
    "if \"title\" in df.columns:\n",
    "    df[\"title_word_count\"].hist(bins=int(np.log(df[\"title_word_count\"].max()) * 5))\n",
    "    plt.xlabel(\"title word count\")\n",
    "    plt.ylabel(\"frequency\")"
   ],
   "id": "1d678f018f72e3e5",
   "outputs": [],
   "execution_count": null
  },
  {
   "metadata": {},
   "cell_type": "markdown",
   "source": "Distribution of the body word count.",
   "id": "d0c6f5b7a87bd202"
  },
  {
   "metadata": {},
   "cell_type": "code",
   "source": [
    "df[\"body_word_count\"].hist(bins=int(np.log(df[\"body_word_count\"].max()) * 5))\n",
    "plt.xlabel(\"body word count\")\n",
    "plt.ylabel(\"frequency\");"
   ],
   "id": "1da52d67d5e87779",
   "outputs": [],
   "execution_count": null
  },
  {
   "metadata": {},
   "cell_type": "code",
   "source": [
    "df.groupby(label_column_name, observed=True)[\"body_word_count\"].hist(bins=50, alpha=0.5)\n",
    "plt.xlabel(\"body word count\")\n",
    "plt.legend(df[label_column_name].unique())\n",
    "plt.ylabel(\"frequency\");"
   ],
   "id": "6019d4ac40a217f3",
   "outputs": [],
   "execution_count": null
  },
  {
   "metadata": {},
   "cell_type": "markdown",
   "source": "The label class distribution.",
   "id": "5ff3a95ded14289d"
  },
  {
   "metadata": {},
   "cell_type": "code",
   "source": [
    "df.groupby(\n",
    "    label_column_name,\n",
    "    observed=True\n",
    ").size().plot.pie(autopct=\"%1.1f %%\");"
   ],
   "id": "ed747f5ee063f9e6",
   "outputs": [],
   "execution_count": null
  }
 ],
 "metadata": {
  "kernelspec": {
   "display_name": "Python 3",
   "language": "python",
   "name": "python3"
  },
  "language_info": {
   "codemirror_mode": {
    "name": "ipython",
    "version": 2
   },
   "file_extension": ".py",
   "mimetype": "text/x-python",
   "name": "python",
   "nbconvert_exporter": "python",
   "pygments_lexer": "ipython2",
   "version": "2.7.6"
  }
 },
 "nbformat": 4,
 "nbformat_minor": 5
}
