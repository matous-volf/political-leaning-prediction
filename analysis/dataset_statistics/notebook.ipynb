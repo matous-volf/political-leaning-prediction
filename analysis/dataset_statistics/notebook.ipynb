{
 "cells": [
  {
   "cell_type": "code",
   "id": "initial_id",
   "metadata": {
    "collapsed": true,
    "ExecuteTime": {
     "end_time": "2025-03-06T20:03:23.644193Z",
     "start_time": "2025-03-06T20:03:23.638590Z"
    }
   },
   "source": [
    "import pandas as pd\n",
    "from matplotlib import pyplot as plt\n",
    "import numpy as np\n",
    "\n",
    "from utils.base_directory import base_directory"
   ],
   "outputs": [],
   "execution_count": 15
  },
  {
   "metadata": {
    "ExecuteTime": {
     "end_time": "2025-03-06T20:03:25.066615Z",
     "start_time": "2025-03-06T20:03:23.657889Z"
    }
   },
   "cell_type": "code",
   "source": [
    "IS_DATASET_ON_POLITICAL_LEANING = True\n",
    "DATASET_NAME = \"article_bias_prediction\"\n",
    "\n",
    "label_column_name = \"leaning\" if IS_DATASET_ON_POLITICAL_LEANING else \"politicalness\"\n",
    "df = pd.read_parquet(\n",
    "    base_directory /\n",
    "    \"datasets\" /\n",
    "    (\"political_leaning\" if IS_DATASET_ON_POLITICAL_LEANING else \"politicalness\") /\n",
    "    \"preprocessed\" /\n",
    "    f\"{DATASET_NAME}.parquet\"\n",
    ")\n",
    "df"
   ],
   "id": "165e822927fafcf8",
   "outputs": [
    {
     "data": {
      "text/plain": [
       "                                                   title  \\\n",
       "56     Presidential Double Take: The Difference Four ...   \n",
       "1378   Analysis: Republicans Get Wonky, Actually Deba...   \n",
       "27806  In photos: Easter and Passover celebrated arou...   \n",
       "20584  The Disappearing Political Center: In More Pla...   \n",
       "33215                       Housing Secretary to Stay On   \n",
       "...                                                  ...   \n",
       "503                                      The Second Term   \n",
       "14183                            Michael Cohen Testifies   \n",
       "6248   What states are opening up, and when? States a...   \n",
       "21458  The Billion-Dollar Disinformation Campaign to ...   \n",
       "541                         'It Is Time for Reparations'   \n",
       "\n",
       "                                                    body leaning  \\\n",
       "56     Presidential Double Take : The Difference Four...  center   \n",
       "1378   Rubio does repeat himself , but people don ’ t...   right   \n",
       "27806  Families and communities around the globe are ...  center   \n",
       "20584  For a stark illustration of how the political ...  center   \n",
       "33215  Shaun Donovan will stay in his job as head of ...  center   \n",
       "...                                                  ...     ...   \n",
       "503    In November , 1984 , President Ronald Reagan w...    left   \n",
       "14183  President Trump Donald John TrumpGOP senators ...  center   \n",
       "6248   Some experts believe the United States has pas...  center   \n",
       "21458  Updated at 2:30 p.m . ET on February 10 , 2020...    left   \n",
       "541    Black Americans protesting the violation of th...    left   \n",
       "\n",
       "      politicalness  title_length  title_word_count  body_length  \\\n",
       "56        political            57                 8          309   \n",
       "1378      political            75                11          375   \n",
       "27806     political            74                11          404   \n",
       "20584     political            73                10          407   \n",
       "33215     political            28                 5          711   \n",
       "...             ...           ...               ...          ...   \n",
       "503       political            15                 3        50644   \n",
       "14183     political            23                 3        51367   \n",
       "6248      political           103                17        52449   \n",
       "21458     political            67                 8        53289   \n",
       "541       political            28                 5        53992   \n",
       "\n",
       "       body_word_count  \n",
       "56                  63  \n",
       "1378                79  \n",
       "27806               68  \n",
       "20584               76  \n",
       "33215              129  \n",
       "...                ...  \n",
       "503               9597  \n",
       "14183             9661  \n",
       "6248              9330  \n",
       "21458             9695  \n",
       "541               9703  \n",
       "\n",
       "[37550 rows x 8 columns]"
      ],
      "text/html": [
       "<div>\n",
       "<style scoped>\n",
       "    .dataframe tbody tr th:only-of-type {\n",
       "        vertical-align: middle;\n",
       "    }\n",
       "\n",
       "    .dataframe tbody tr th {\n",
       "        vertical-align: top;\n",
       "    }\n",
       "\n",
       "    .dataframe thead th {\n",
       "        text-align: right;\n",
       "    }\n",
       "</style>\n",
       "<table border=\"1\" class=\"dataframe\">\n",
       "  <thead>\n",
       "    <tr style=\"text-align: right;\">\n",
       "      <th></th>\n",
       "      <th>title</th>\n",
       "      <th>body</th>\n",
       "      <th>leaning</th>\n",
       "      <th>politicalness</th>\n",
       "      <th>title_length</th>\n",
       "      <th>title_word_count</th>\n",
       "      <th>body_length</th>\n",
       "      <th>body_word_count</th>\n",
       "    </tr>\n",
       "  </thead>\n",
       "  <tbody>\n",
       "    <tr>\n",
       "      <th>56</th>\n",
       "      <td>Presidential Double Take: The Difference Four ...</td>\n",
       "      <td>Presidential Double Take : The Difference Four...</td>\n",
       "      <td>center</td>\n",
       "      <td>political</td>\n",
       "      <td>57</td>\n",
       "      <td>8</td>\n",
       "      <td>309</td>\n",
       "      <td>63</td>\n",
       "    </tr>\n",
       "    <tr>\n",
       "      <th>1378</th>\n",
       "      <td>Analysis: Republicans Get Wonky, Actually Deba...</td>\n",
       "      <td>Rubio does repeat himself , but people don ’ t...</td>\n",
       "      <td>right</td>\n",
       "      <td>political</td>\n",
       "      <td>75</td>\n",
       "      <td>11</td>\n",
       "      <td>375</td>\n",
       "      <td>79</td>\n",
       "    </tr>\n",
       "    <tr>\n",
       "      <th>27806</th>\n",
       "      <td>In photos: Easter and Passover celebrated arou...</td>\n",
       "      <td>Families and communities around the globe are ...</td>\n",
       "      <td>center</td>\n",
       "      <td>political</td>\n",
       "      <td>74</td>\n",
       "      <td>11</td>\n",
       "      <td>404</td>\n",
       "      <td>68</td>\n",
       "    </tr>\n",
       "    <tr>\n",
       "      <th>20584</th>\n",
       "      <td>The Disappearing Political Center: In More Pla...</td>\n",
       "      <td>For a stark illustration of how the political ...</td>\n",
       "      <td>center</td>\n",
       "      <td>political</td>\n",
       "      <td>73</td>\n",
       "      <td>10</td>\n",
       "      <td>407</td>\n",
       "      <td>76</td>\n",
       "    </tr>\n",
       "    <tr>\n",
       "      <th>33215</th>\n",
       "      <td>Housing Secretary to Stay On</td>\n",
       "      <td>Shaun Donovan will stay in his job as head of ...</td>\n",
       "      <td>center</td>\n",
       "      <td>political</td>\n",
       "      <td>28</td>\n",
       "      <td>5</td>\n",
       "      <td>711</td>\n",
       "      <td>129</td>\n",
       "    </tr>\n",
       "    <tr>\n",
       "      <th>...</th>\n",
       "      <td>...</td>\n",
       "      <td>...</td>\n",
       "      <td>...</td>\n",
       "      <td>...</td>\n",
       "      <td>...</td>\n",
       "      <td>...</td>\n",
       "      <td>...</td>\n",
       "      <td>...</td>\n",
       "    </tr>\n",
       "    <tr>\n",
       "      <th>503</th>\n",
       "      <td>The Second Term</td>\n",
       "      <td>In November , 1984 , President Ronald Reagan w...</td>\n",
       "      <td>left</td>\n",
       "      <td>political</td>\n",
       "      <td>15</td>\n",
       "      <td>3</td>\n",
       "      <td>50644</td>\n",
       "      <td>9597</td>\n",
       "    </tr>\n",
       "    <tr>\n",
       "      <th>14183</th>\n",
       "      <td>Michael Cohen Testifies</td>\n",
       "      <td>President Trump Donald John TrumpGOP senators ...</td>\n",
       "      <td>center</td>\n",
       "      <td>political</td>\n",
       "      <td>23</td>\n",
       "      <td>3</td>\n",
       "      <td>51367</td>\n",
       "      <td>9661</td>\n",
       "    </tr>\n",
       "    <tr>\n",
       "      <th>6248</th>\n",
       "      <td>What states are opening up, and when? States a...</td>\n",
       "      <td>Some experts believe the United States has pas...</td>\n",
       "      <td>center</td>\n",
       "      <td>political</td>\n",
       "      <td>103</td>\n",
       "      <td>17</td>\n",
       "      <td>52449</td>\n",
       "      <td>9330</td>\n",
       "    </tr>\n",
       "    <tr>\n",
       "      <th>21458</th>\n",
       "      <td>The Billion-Dollar Disinformation Campaign to ...</td>\n",
       "      <td>Updated at 2:30 p.m . ET on February 10 , 2020...</td>\n",
       "      <td>left</td>\n",
       "      <td>political</td>\n",
       "      <td>67</td>\n",
       "      <td>8</td>\n",
       "      <td>53289</td>\n",
       "      <td>9695</td>\n",
       "    </tr>\n",
       "    <tr>\n",
       "      <th>541</th>\n",
       "      <td>'It Is Time for Reparations'</td>\n",
       "      <td>Black Americans protesting the violation of th...</td>\n",
       "      <td>left</td>\n",
       "      <td>political</td>\n",
       "      <td>28</td>\n",
       "      <td>5</td>\n",
       "      <td>53992</td>\n",
       "      <td>9703</td>\n",
       "    </tr>\n",
       "  </tbody>\n",
       "</table>\n",
       "<p>37550 rows × 8 columns</p>\n",
       "</div>"
      ]
     },
     "execution_count": 16,
     "metadata": {},
     "output_type": "execute_result"
    }
   ],
   "execution_count": 16
  },
  {
   "metadata": {},
   "cell_type": "markdown",
   "source": "General statistical information.",
   "id": "a5046715d23c88e6"
  },
  {
   "metadata": {
    "ExecuteTime": {
     "end_time": "2025-03-06T20:03:25.162430Z",
     "start_time": "2025-03-06T20:03:25.133064Z"
    }
   },
   "cell_type": "code",
   "source": "df.describe()",
   "id": "1464bcdb78fa31f8",
   "outputs": [
    {
     "data": {
      "text/plain": [
       "       title_length  title_word_count   body_length  body_word_count\n",
       "count  37550.000000      37550.000000  37550.000000     37550.000000\n",
       "mean      62.501811          9.848415   5848.397443      1084.338961\n",
       "std       20.255034          3.261705   4001.320800       750.705213\n",
       "min        5.000000          1.000000    309.000000        63.000000\n",
       "25%       49.000000          8.000000   3355.000000       619.000000\n",
       "50%       61.000000         10.000000   4950.000000       916.000000\n",
       "75%       75.000000         12.000000   7020.000000      1301.000000\n",
       "max      255.000000         37.000000  53992.000000      9703.000000"
      ],
      "text/html": [
       "<div>\n",
       "<style scoped>\n",
       "    .dataframe tbody tr th:only-of-type {\n",
       "        vertical-align: middle;\n",
       "    }\n",
       "\n",
       "    .dataframe tbody tr th {\n",
       "        vertical-align: top;\n",
       "    }\n",
       "\n",
       "    .dataframe thead th {\n",
       "        text-align: right;\n",
       "    }\n",
       "</style>\n",
       "<table border=\"1\" class=\"dataframe\">\n",
       "  <thead>\n",
       "    <tr style=\"text-align: right;\">\n",
       "      <th></th>\n",
       "      <th>title_length</th>\n",
       "      <th>title_word_count</th>\n",
       "      <th>body_length</th>\n",
       "      <th>body_word_count</th>\n",
       "    </tr>\n",
       "  </thead>\n",
       "  <tbody>\n",
       "    <tr>\n",
       "      <th>count</th>\n",
       "      <td>37550.000000</td>\n",
       "      <td>37550.000000</td>\n",
       "      <td>37550.000000</td>\n",
       "      <td>37550.000000</td>\n",
       "    </tr>\n",
       "    <tr>\n",
       "      <th>mean</th>\n",
       "      <td>62.501811</td>\n",
       "      <td>9.848415</td>\n",
       "      <td>5848.397443</td>\n",
       "      <td>1084.338961</td>\n",
       "    </tr>\n",
       "    <tr>\n",
       "      <th>std</th>\n",
       "      <td>20.255034</td>\n",
       "      <td>3.261705</td>\n",
       "      <td>4001.320800</td>\n",
       "      <td>750.705213</td>\n",
       "    </tr>\n",
       "    <tr>\n",
       "      <th>min</th>\n",
       "      <td>5.000000</td>\n",
       "      <td>1.000000</td>\n",
       "      <td>309.000000</td>\n",
       "      <td>63.000000</td>\n",
       "    </tr>\n",
       "    <tr>\n",
       "      <th>25%</th>\n",
       "      <td>49.000000</td>\n",
       "      <td>8.000000</td>\n",
       "      <td>3355.000000</td>\n",
       "      <td>619.000000</td>\n",
       "    </tr>\n",
       "    <tr>\n",
       "      <th>50%</th>\n",
       "      <td>61.000000</td>\n",
       "      <td>10.000000</td>\n",
       "      <td>4950.000000</td>\n",
       "      <td>916.000000</td>\n",
       "    </tr>\n",
       "    <tr>\n",
       "      <th>75%</th>\n",
       "      <td>75.000000</td>\n",
       "      <td>12.000000</td>\n",
       "      <td>7020.000000</td>\n",
       "      <td>1301.000000</td>\n",
       "    </tr>\n",
       "    <tr>\n",
       "      <th>max</th>\n",
       "      <td>255.000000</td>\n",
       "      <td>37.000000</td>\n",
       "      <td>53992.000000</td>\n",
       "      <td>9703.000000</td>\n",
       "    </tr>\n",
       "  </tbody>\n",
       "</table>\n",
       "</div>"
      ]
     },
     "execution_count": 17,
     "metadata": {},
     "output_type": "execute_result"
    }
   ],
   "execution_count": 17
  },
  {
   "metadata": {},
   "cell_type": "markdown",
   "source": "Distribution of the title word count.",
   "id": "62231396f26b09db"
  },
  {
   "metadata": {
    "ExecuteTime": {
     "end_time": "2025-03-06T20:03:25.473985Z",
     "start_time": "2025-03-06T20:03:25.244655Z"
    }
   },
   "cell_type": "code",
   "source": [
    "if \"title\" in df.columns:\n",
    "    df[\"title_word_count\"].hist(bins=int(np.log(df[\"title_word_count\"].max()) * 5))\n",
    "    plt.xlabel(\"title word count\")\n",
    "    plt.ylabel(\"frequency\")"
   ],
   "id": "1d678f018f72e3e5",
   "outputs": [
    {
     "data": {
      "text/plain": [
       "<Figure size 640x480 with 1 Axes>"
      ],
      "image/png": "[encoded data removed]"
     },
     "metadata": {},
     "output_type": "display_data"
    }
   ],
   "execution_count": 18
  },
  {
   "metadata": {},
   "cell_type": "markdown",
   "source": "Distribution of the body word count.",
   "id": "d0c6f5b7a87bd202"
  },
  {
   "metadata": {
    "ExecuteTime": {
     "end_time": "2025-03-06T20:03:25.803844Z",
     "start_time": "2025-03-06T20:03:25.526823Z"
    }
   },
   "cell_type": "code",
   "source": [
    "df[\"body_word_count\"].hist(bins=int(np.log(df[\"body_word_count\"].max()) * 5))\n",
    "plt.xlabel(\"body word count\")\n",
    "plt.ylabel(\"frequency\");"
   ],
   "id": "1da52d67d5e87779",
   "outputs": [
    {
     "data": {
      "text/plain": [
       "<Figure size 640x480 with 1 Axes>"
      ],
      "image/png": "[encoded data removed]"
     },
     "metadata": {},
     "output_type": "display_data"
    }
   ],
   "execution_count": 19
  },
  {
   "metadata": {
    "ExecuteTime": {
     "end_time": "2025-03-06T20:03:26.458553Z",
     "start_time": "2025-03-06T20:03:25.818913Z"
    }
   },
   "cell_type": "code",
   "source": [
    "df.groupby(label_column_name, observed=True)[\"body_word_count\"].hist(bins=50, alpha=0.5)\n",
    "plt.xlabel(\"body word count\")\n",
    "plt.legend(df[label_column_name].unique())\n",
    "plt.ylabel(\"frequency\");"
   ],
   "id": "6019d4ac40a217f3",
   "outputs": [
    {
     "data": {
      "text/plain": [
       "<Figure size 640x480 with 1 Axes>"
      ],
      "image/png": "[encoded data removed]"
     },
     "metadata": {},
     "output_type": "display_data"
    }
   ],
   "execution_count": 20
  },
  {
   "metadata": {},
   "cell_type": "markdown",
   "source": "The label class distribution.",
   "id": "5ff3a95ded14289d"
  },
  {
   "metadata": {
    "ExecuteTime": {
     "end_time": "2025-03-06T20:03:26.577217Z",
     "start_time": "2025-03-06T20:03:26.487755Z"
    }
   },
   "cell_type": "code",
   "source": [
    "df.groupby(\n",
    "    label_column_name,\n",
    "    observed=True\n",
    ").size().plot.pie(autopct=\"%1.1f %%\");"
   ],
   "id": "ed747f5ee063f9e6",
   "outputs": [
    {
     "data": {
      "text/plain": [
       "<Figure size 640x480 with 1 Axes>"
      ],
      "image/png": "[encoded data removed]"
     },
     "metadata": {},
     "output_type": "display_data"
    }
   ],
   "execution_count": 21
  }
 ],
 "metadata": {
  "kernelspec": {
   "display_name": "Python 3",
   "language": "python",
   "name": "python3"
  },
  "language_info": {
   "codemirror_mode": {
    "name": "ipython",
    "version": 2
   },
   "file_extension": ".py",
   "mimetype": "text/x-python",
   "name": "python",
   "nbconvert_exporter": "python",
   "pygments_lexer": "ipython2",
   "version": "2.7.6"
  }
 },
 "nbformat": 4,
 "nbformat_minor": 5
}
