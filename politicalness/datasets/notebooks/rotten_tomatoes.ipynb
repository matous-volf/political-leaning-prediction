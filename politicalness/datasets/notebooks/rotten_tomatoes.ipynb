{
 "cells": [
  {
   "metadata": {},
   "cell_type": "code",
   "source": [
    "import pandas as pd\n",
    "from datasets import concatenate_datasets, load_dataset"
   ],
   "id": "f006a5f54571ea0c",
   "outputs": [],
   "execution_count": null
  },
  {
   "metadata": {},
   "cell_type": "markdown",
   "source": "Reading the raw dataset.",
   "id": "1a77d091769edef8"
  },
  {
   "cell_type": "code",
   "id": "initial_id",
   "metadata": {
    "collapsed": true
   },
   "source": [
    "ds = load_dataset(\n",
    "    \"cornell-movie-review-data/rotten_tomatoes\",\n",
    "    revision=\"aa13bc287fa6fcab6daf52f0dfb9994269ffea28\"\n",
    ")\n",
    "df = concatenate_datasets(ds.values()).to_pandas()\n",
    "df"
   ],
   "outputs": [],
   "execution_count": null
  },
  {
   "metadata": {},
   "cell_type": "markdown",
   "source": "Dropping useless columns.",
   "id": "1d7a4c7bece5b941"
  },
  {
   "metadata": {},
   "cell_type": "code",
   "source": "df = df.drop(columns=[\"label\"])",
   "id": "b6fbd2caf39b1813",
   "outputs": [],
   "execution_count": null
  },
  {
   "metadata": {},
   "cell_type": "markdown",
   "source": "Dropping rows with missing data.",
   "id": "1decdf712cbf2012"
  },
  {
   "metadata": {},
   "cell_type": "code",
   "source": "df = df.dropna()",
   "id": "8dbd9a70099c7ddf",
   "outputs": [],
   "execution_count": null
  },
  {
   "metadata": {},
   "cell_type": "markdown",
   "source": "Renaming columns.",
   "id": "181767126fbfb022"
  },
  {
   "metadata": {},
   "cell_type": "code",
   "source": "df = df.rename(columns={\"text\": \"body\"})",
   "id": "4e6636980d435539",
   "outputs": [],
   "execution_count": null
  },
  {
   "metadata": {},
   "cell_type": "markdown",
   "source": "Adding the politicalness label column.",
   "id": "d814f07fa252fda1"
  },
  {
   "metadata": {},
   "cell_type": "code",
   "source": "df[\"politicalness\"] = pd.Categorical([\"non-political\"] * len(df))",
   "id": "17aed87dc4f0ddcb",
   "outputs": [],
   "execution_count": null
  },
  {
   "metadata": {},
   "cell_type": "markdown",
   "source": "Inspecting body length.",
   "id": "ff6ce45c7e5cf777"
  },
  {
   "metadata": {},
   "cell_type": "code",
   "source": [
    "df[\"body_length\"] = df[\"body\"].str.len()\n",
    "df[\"body_word_count\"] = df[\"body\"].str.split().str.len()\n",
    "df = df.sort_values(by=\"body_length\")\n",
    "df.head()"
   ],
   "id": "ede6ac13d07cc5be",
   "outputs": [],
   "execution_count": null
  },
  {
   "metadata": {},
   "cell_type": "markdown",
   "source": "After inspection, rows with bodies shorter than 3 words seem to contain no useful value. Removing them.",
   "id": "789814b54db1e8f2"
  },
  {
   "metadata": {},
   "cell_type": "code",
   "source": [
    "body_word_count_lower_bound = 3\n",
    "df = df[df[\"body_word_count\"] >= body_word_count_lower_bound]\n",
    "# Ensuring to include the last (longest) item.\n",
    "downsampled = pd.concat([df[\"body_length\"].iloc[::100], df[\"body_length\"].tail(1)]).drop_duplicates()\n",
    "downsampled.plot.bar().xaxis.set_ticks([]);"
   ],
   "id": "7609ce4a512536a7",
   "outputs": [],
   "execution_count": null
  },
  {
   "metadata": {},
   "cell_type": "code",
   "source": "df[\"body_length\"].mean()",
   "id": "d7294b822a75cfd4",
   "outputs": [],
   "execution_count": null
  },
  {
   "metadata": {},
   "cell_type": "code",
   "source": "df.to_parquet(\"../preprocessed/rotten_tomatoes.parquet\")",
   "id": "b0e42a22a87ab15d",
   "outputs": [],
   "execution_count": null
  }
 ],
 "metadata": {
  "kernelspec": {
   "display_name": "Python 3",
   "language": "python",
   "name": "python3"
  },
  "language_info": {
   "codemirror_mode": {
    "name": "ipython",
    "version": 2
   },
   "file_extension": ".py",
   "mimetype": "text/x-python",
   "name": "python",
   "nbconvert_exporter": "python",
   "pygments_lexer": "ipython2",
   "version": "2.7.6"
  }
 },
 "nbformat": 4,
 "nbformat_minor": 5
}
