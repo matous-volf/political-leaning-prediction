{
 "cells": [
  {
   "metadata": {},
   "cell_type": "code",
   "source": [
    "from pathlib import Path\n",
    "\n",
    "import kagglehub\n",
    "import pandas as pd\n",
    "from matplotlib import pyplot as plt"
   ],
   "id": "f006a5f54571ea0c",
   "outputs": [],
   "execution_count": null
  },
  {
   "metadata": {},
   "cell_type": "markdown",
   "source": "Reading the raw dataset.",
   "id": "1a77d091769edef8"
  },
  {
   "cell_type": "code",
   "id": "initial_id",
   "metadata": {
    "collapsed": true
   },
   "source": [
    "path = kagglehub.dataset_download(\"nulldata/medium-post-titles/versions/1\")\n",
    "df = pd.read_csv(open(Path(path, \"medium_post_titles.csv\")), encoding=\"utf-8\")\n",
    "df"
   ],
   "outputs": [],
   "execution_count": null
  },
  {
   "metadata": {},
   "cell_type": "markdown",
   "source": "Dropping rows with truncated subtitles.",
   "id": "1d7a4c7bece5b941"
  },
  {
   "metadata": {},
   "cell_type": "code",
   "source": "df = df[~df[\"subtitle_truncated_flag\"]]",
   "id": "371a55195e8f2f48",
   "outputs": [],
   "execution_count": null
  },
  {
   "metadata": {},
   "cell_type": "markdown",
   "source": "Dropping rows with missing data.",
   "id": "1decdf712cbf2012"
  },
  {
   "metadata": {},
   "cell_type": "code",
   "source": "df = df.dropna()",
   "id": "8dbd9a70099c7ddf",
   "outputs": [],
   "execution_count": null
  },
  {
   "metadata": {},
   "cell_type": "markdown",
   "source": "Merging the titles and subtitles into a body column.",
   "id": "181767126fbfb022"
  },
  {
   "metadata": {},
   "cell_type": "code",
   "source": [
    "df[\"title\"] = df[\"title\"].str.strip()\n",
    "# Adding a dot at the end if not already present.\n",
    "df[\"title\"] = df[\"title\"].map(lambda x: x if x.endswith(\".\") else x + \".\")\n",
    "df[\"subtitle\"] = df[\"subtitle\"].str.strip()\n",
    "df[\"body\"] = df[\"title\"] + \" \" + df[\"subtitle\"]"
   ],
   "id": "4e6636980d435539",
   "outputs": [],
   "execution_count": null
  },
  {
   "metadata": {},
   "cell_type": "markdown",
   "source": "Dropping useless columns.",
   "id": "21c8b3889900b1ac"
  },
  {
   "metadata": {},
   "cell_type": "code",
   "source": "df = df.drop(columns=[\"title\", \"subtitle\", \"subtitle_truncated_flag\"])",
   "id": "25f186ff7d16e2ab",
   "outputs": [],
   "execution_count": null
  },
  {
   "metadata": {},
   "cell_type": "markdown",
   "source": "Dropping rows with potentially politically ambiguous categories.",
   "id": "56de569ca4b95d25"
  },
  {
   "metadata": {},
   "cell_type": "code",
   "source": "df[\"category\"].unique()",
   "id": "ec101e8b37f71287",
   "outputs": [],
   "execution_count": null
  },
  {
   "metadata": {},
   "cell_type": "code",
   "source": [
    "ambiguous_categories = [\n",
    "    \"lgbtqia\",\n",
    "    \"culture\",\n",
    "    \"environment\",\n",
    "    \"social-media\",\n",
    "    \"media\",\n",
    "    \"world\",\n",
    "    \"books\",\n",
    "    \"economy\",\n",
    "    \"equality\",\n",
    "    \"art\",\n",
    "    \"psychology\",\n",
    "    \"technology\",\n",
    "    \"space\",\n",
    "    \"business\",\n",
    "    \"justice\",\n",
    "    \"future\",\n",
    "    \"podcasts\",\n",
    "    \"women\",\n",
    "    \"humor\",\n",
    "    \"history\",\n",
    "    \"philosophy\",\n",
    "    \"basic-income\",\n",
    "    \"comics\",\n",
    "    \"education\",\n",
    "    \"language\",\n",
    "    \"san-francisco\",\n",
    "    \"gun-control\",\n",
    "    \"medium-magazine\",\n",
    "    \"race\",\n",
    "    \"immigration\",\n",
    "    \"privacy\",\n",
    "]\n",
    "\n",
    "df = df[~df[\"category\"].isin(ambiguous_categories)]"
   ],
   "id": "b5601d5843c910de",
   "outputs": [],
   "execution_count": null
  },
  {
   "metadata": {},
   "cell_type": "markdown",
   "source": "Adding the politicalness label column.",
   "id": "d814f07fa252fda1"
  },
  {
   "metadata": {},
   "cell_type": "code",
   "source": [
    "political_categories = [\n",
    "    \"politics\",\n",
    "    \"election-2020\",\n",
    "]\n",
    "\n",
    "df[\"politicalness\"] = pd.Categorical(\n",
    "    [\"political\" if category in political_categories else \"non-political\" for category in df[\"category\"]]\n",
    ")"
   ],
   "id": "17aed87dc4f0ddcb",
   "outputs": [],
   "execution_count": null
  },
  {
   "metadata": {},
   "cell_type": "markdown",
   "source": "Dropping useless columns.",
   "id": "f46297c490201fa8"
  },
  {
   "metadata": {},
   "cell_type": "code",
   "source": "df = df.drop(columns=[\"category\"])",
   "id": "b71a5a8c2916e133",
   "outputs": [],
   "execution_count": null
  },
  {
   "metadata": {},
   "cell_type": "markdown",
   "source": "Inspecting body length.",
   "id": "e39a9b1ad88c5890"
  },
  {
   "metadata": {},
   "cell_type": "code",
   "source": [
    "df[\"body_length\"] = df[\"body\"].str.len()\n",
    "df[\"body_word_count\"] = df[\"body\"].str.split().str.len()\n",
    "df = df.sort_values(by=\"body_length\")\n",
    "df.head(100)"
   ],
   "id": "9b7b57ab04ccd38",
   "outputs": [],
   "execution_count": null
  },
  {
   "metadata": {},
   "cell_type": "code",
   "source": [
    "# Ensuring to include the last (longest) item.\n",
    "downsampled = pd.concat([df[\"body_length\"].iloc[::100], df[\"body_length\"].tail(1)]).drop_duplicates()\n",
    "downsampled.plot.bar().xaxis.set_ticks([]);"
   ],
   "id": "4d6d5ca2eeb84de",
   "outputs": [],
   "execution_count": null
  },
  {
   "metadata": {},
   "cell_type": "code",
   "source": "df[\"body_length\"].mean()",
   "id": "5bcddd2a321b8f1c",
   "outputs": [],
   "execution_count": null
  },
  {
   "metadata": {},
   "cell_type": "markdown",
   "source": "The politicalness distribution.",
   "id": "2b97c129965172bb"
  },
  {
   "metadata": {},
   "cell_type": "code",
   "source": "df.groupby(\"politicalness\", observed=True).size().plot.pie(autopct=\"%1.1f%%\");",
   "id": "a4f1dabf50a5d20d",
   "outputs": [],
   "execution_count": null
  },
  {
   "metadata": {},
   "cell_type": "markdown",
   "source": "The distribution of body length sums per politicalness.",
   "id": "45e5acca181a175a"
  },
  {
   "metadata": {},
   "cell_type": "code",
   "source": "df.groupby(\"politicalness\", observed=True)[\"body_length\"].sum().plot.pie(autopct=\"%1.1f%%\", ylabel=\"\");",
   "id": "fb578f223297bcb5",
   "outputs": [],
   "execution_count": null
  },
  {
   "metadata": {},
   "cell_type": "markdown",
   "source": "Body length distribution by politicalness.",
   "id": "94390f55c26d3d10"
  },
  {
   "metadata": {},
   "cell_type": "code",
   "source": [
    "plt.figure(figsize=(10, 6))\n",
    "\n",
    "for politicalness in df[\"politicalness\"].unique():\n",
    "    df_politicalness = df[df[\"politicalness\"] == politicalness]\n",
    "    downsampled = pd.concat(\n",
    "        # Ensuring to include the last (longest) item.\n",
    "        [df_politicalness[\"body_length\"].iloc[::10], df_politicalness[\"body_length\"].tail(1)]\n",
    "    ).drop_duplicates().reset_index(drop=True)\n",
    "    plt.plot(downsampled, label=politicalness)\n",
    "\n",
    "plt.xlabel(\"downsampled index\")\n",
    "plt.ylabel(\"body length\")\n",
    "plt.title(\"body length by politicalness\")\n",
    "plt.legend(title=\"politicalness\")\n",
    "plt.show()"
   ],
   "id": "4098e8cdc6e1f759",
   "outputs": [],
   "execution_count": null
  },
  {
   "metadata": {},
   "cell_type": "code",
   "source": "df.to_parquet(\"../preprocessed/medium_post_titles.parquet\")",
   "id": "b0e42a22a87ab15d",
   "outputs": [],
   "execution_count": null
  }
 ],
 "metadata": {
  "kernelspec": {
   "display_name": "Python 3",
   "language": "python",
   "name": "python3"
  },
  "language_info": {
   "codemirror_mode": {
    "name": "ipython",
    "version": 2
   },
   "file_extension": ".py",
   "mimetype": "text/x-python",
   "name": "python",
   "nbconvert_exporter": "python",
   "pygments_lexer": "ipython2",
   "version": "2.7.6"
  }
 },
 "nbformat": 4,
 "nbformat_minor": 5
}
