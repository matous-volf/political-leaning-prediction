{
 "cells": [
  {
   "metadata": {},
   "cell_type": "code",
   "source": [
    "from pathlib import Path\n",
    "\n",
    "import kagglehub\n",
    "import numpy as np\n",
    "import pandas as pd\n",
    "from matplotlib import pyplot as plt\n"
   ],
   "id": "f006a5f54571ea0c",
   "outputs": [],
   "execution_count": null
  },
  {
   "metadata": {},
   "cell_type": "markdown",
   "source": "Reading the raw dataset.",
   "id": "1a77d091769edef8"
  },
  {
   "cell_type": "code",
   "id": "initial_id",
   "metadata": {
    "collapsed": true
   },
   "source": [
    "path = kagglehub.dataset_download(\"nulldata/medium-post-titles/versions/1\")\n",
    "df = pd.read_csv(open(Path(path, \"medium_post_titles.csv\")), encoding=\"utf-8\")\n",
    "df\n"
   ],
   "outputs": [],
   "execution_count": null
  },
  {
   "metadata": {},
   "cell_type": "markdown",
   "source": "Renaming columns.",
   "id": "4bbb16f41d37de30"
  },
  {
   "metadata": {},
   "cell_type": "code",
   "source": [
    "df = df.rename(columns={\"subtitle\": \"body\"})\n"
   ],
   "id": "90fe06685a6a52f6",
   "outputs": [],
   "execution_count": null
  },
  {
   "metadata": {},
   "cell_type": "markdown",
   "source": "Dropping rows with truncated subtitles.",
   "id": "45607470075c54d5"
  },
  {
   "metadata": {},
   "cell_type": "code",
   "source": [
    "df = df[~df[\"subtitle_truncated_flag\"]]\n"
   ],
   "id": "e1bfa2daff3062b0",
   "outputs": [],
   "execution_count": null
  },
  {
   "metadata": {},
   "cell_type": "markdown",
   "source": "Stripping the titles and the bodies.",
   "id": "d559ce911137ef4b"
  },
  {
   "metadata": {},
   "cell_type": "code",
   "source": [
    "df[\"title\"] = (df[\"title\"].str.strip()).replace(\"\", np.nan)\n",
    "df[\"body\"] = (df[\"body\"].str.strip()).replace(\"\", np.nan)\n"
   ],
   "id": "91ded2565bea7eea",
   "outputs": [],
   "execution_count": null
  },
  {
   "metadata": {},
   "cell_type": "markdown",
   "source": "Dropping rows missing either the category or both the title and the body.",
   "id": "bd067f395ff115d4"
  },
  {
   "metadata": {},
   "cell_type": "code",
   "source": [
    "df = df.dropna(subset=[\"category\"])\n",
    "df = df.dropna(subset=[\"title\", \"body\"], how=\"all\")\n"
   ],
   "id": "2429190ce6282860",
   "outputs": [],
   "execution_count": null
  },
  {
   "metadata": {},
   "cell_type": "markdown",
   "source": "Dropping rows with potentially politically ambiguous categories.",
   "id": "56de569ca4b95d25"
  },
  {
   "metadata": {},
   "cell_type": "code",
   "source": [
    "df[\"category\"].unique()\n"
   ],
   "id": "ec101e8b37f71287",
   "outputs": [],
   "execution_count": null
  },
  {
   "metadata": {},
   "cell_type": "code",
   "source": [
    "ambiguous_categories = [\n",
    "    \"lgbtqia\",\n",
    "    \"culture\",\n",
    "    \"environment\",\n",
    "    \"social-media\",\n",
    "    \"media\",\n",
    "    \"world\",\n",
    "    \"books\",\n",
    "    \"economy\",\n",
    "    \"equality\",\n",
    "    \"art\",\n",
    "    \"psychology\",\n",
    "    \"technology\",\n",
    "    \"space\",\n",
    "    \"business\",\n",
    "    \"justice\",\n",
    "    \"future\",\n",
    "    \"podcasts\",\n",
    "    \"women\",\n",
    "    \"humor\",\n",
    "    \"history\",\n",
    "    \"philosophy\",\n",
    "    \"basic-income\",\n",
    "    \"comics\",\n",
    "    \"education\",\n",
    "    \"language\",\n",
    "    \"san-francisco\",\n",
    "    \"gun-control\",\n",
    "    \"medium-magazine\",\n",
    "    \"race\",\n",
    "    \"immigration\",\n",
    "    \"privacy\",\n",
    "]\n",
    "\n",
    "df = df[~df[\"category\"].isin(ambiguous_categories)]\n"
   ],
   "id": "b5601d5843c910de",
   "outputs": [],
   "execution_count": null
  },
  {
   "metadata": {},
   "cell_type": "markdown",
   "source": "Adding the politicalness label column.",
   "id": "d814f07fa252fda1"
  },
  {
   "metadata": {},
   "cell_type": "code",
   "source": [
    "political_categories = [\n",
    "    \"politics\",\n",
    "    \"election-2020\",\n",
    "]\n",
    "\n",
    "df[\"politicalness\"] = pd.Categorical(\n",
    "    [\n",
    "        \"political\" if category in political_categories else \"non-political\"\n",
    "        for category in df[\"category\"]\n",
    "    ]\n",
    ")\n"
   ],
   "id": "17aed87dc4f0ddcb",
   "outputs": [],
   "execution_count": null
  },
  {
   "metadata": {},
   "cell_type": "markdown",
   "source": "Dropping useless columns.",
   "id": "f46297c490201fa8"
  },
  {
   "metadata": {},
   "cell_type": "code",
   "source": [
    "df = df.drop(columns=[\"category\", \"subtitle_truncated_flag\"])\n"
   ],
   "id": "b71a5a8c2916e133",
   "outputs": [],
   "execution_count": null
  },
  {
   "metadata": {},
   "cell_type": "markdown",
   "source": "Inspecting the title and the body length.",
   "id": "e39a9b1ad88c5890"
  },
  {
   "metadata": {},
   "cell_type": "code",
   "source": [
    "df[\"title_length\"] = df[\"title\"].fillna(\"\").str.len()\n",
    "df[\"title_word_count\"] = df[\"title\"].fillna(\"\").str.split().str.len()\n",
    "df[\"body_length\"] = df[\"body\"].fillna(\"\").str.len()\n",
    "df[\"body_word_count\"] = df[\"body\"].fillna(\"\").str.split().str.len()\n",
    "df = df.sort_values(by=\"body_length\")\n",
    "df.head()\n"
   ],
   "id": "dc91e46cc0c110f4",
   "outputs": [],
   "execution_count": null
  },
  {
   "metadata": {},
   "cell_type": "markdown",
   "source": "After the inspection, rows with bodies shorter than 4 words seem to contain no useful value. Removing them.",
   "id": "5ed0e5e86b1cc809"
  },
  {
   "metadata": {},
   "cell_type": "code",
   "source": [
    "body_word_count_lower_bound = 4\n",
    "df = df[\n",
    "    (df[\"body_word_count\"] == 0)\n",
    "    | (df[\"body_word_count\"] >= body_word_count_lower_bound)\n",
    "]\n"
   ],
   "id": "7097e051f7410733",
   "outputs": [],
   "execution_count": null
  },
  {
   "metadata": {},
   "cell_type": "code",
   "source": [
    "df.to_parquet(\"../preprocessed/medium_post_titles.parquet\")\n"
   ],
   "id": "b0e42a22a87ab15d",
   "outputs": [],
   "execution_count": null
  }
 ],
 "metadata": {
  "kernelspec": {
   "display_name": "Python 3",
   "language": "python",
   "name": "python3"
  },
  "language_info": {
   "codemirror_mode": {
    "name": "ipython",
    "version": 2
   },
   "file_extension": ".py",
   "mimetype": "text/x-python",
   "name": "python",
   "nbconvert_exporter": "python",
   "pygments_lexer": "ipython2",
   "version": "2.7.6"
  }
 },
 "nbformat": 4,
 "nbformat_minor": 5
}