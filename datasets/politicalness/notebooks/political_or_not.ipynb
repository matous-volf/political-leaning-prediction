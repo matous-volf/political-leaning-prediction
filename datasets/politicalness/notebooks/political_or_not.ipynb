{
 "cells": [
  {
   "cell_type": "code",
   "id": "0",
   "metadata": {},
   "source": [
    "import numpy as np\n",
    "from datasets import concatenate_datasets, load_dataset\n"
   ],
   "outputs": [],
   "execution_count": null
  },
  {
   "cell_type": "markdown",
   "id": "1",
   "metadata": {},
   "source": [
    "Reading the raw dataset."
   ]
  },
  {
   "cell_type": "code",
   "id": "2",
   "metadata": {},
   "source": [
    "ds = load_dataset(\n",
    "    \"mlburnham/political_or_not\",\n",
    "    revision=\"6fb9b9e4d6d40f7e46d109acb5dbb7e39b2da749\",\n",
    ")\n",
    "df = concatenate_datasets(ds.values()).to_pandas()\n",
    "df\n"
   ],
   "outputs": [],
   "execution_count": null
  },
  {
   "cell_type": "markdown",
   "id": "3",
   "metadata": {},
   "source": [
    "Dropping useless columns."
   ]
  },
  {
   "cell_type": "code",
   "id": "4",
   "metadata": {},
   "source": [
    "df = df.drop(\n",
    "    columns=[\"entailment\", \"dataset\", \"hypothesis\", \"validation_source\"]\n",
    ")\n"
   ],
   "outputs": [],
   "execution_count": null
  },
  {
   "cell_type": "markdown",
   "id": "5",
   "metadata": {},
   "source": [
    "Renaming columns."
   ]
  },
  {
   "cell_type": "code",
   "id": "6",
   "metadata": {},
   "source": [
    "df = df.rename(columns={\"premise\": \"body\", \"validated_label\": \"politicalness\"})\n"
   ],
   "outputs": [],
   "execution_count": null
  },
  {
   "cell_type": "markdown",
   "id": "7",
   "metadata": {},
   "source": "Categorizing the politicalness column."
  },
  {
   "cell_type": "code",
   "id": "8",
   "metadata": {},
   "source": [
    "df[\"politicalness\"].unique()\n"
   ],
   "outputs": [],
   "execution_count": null
  },
  {
   "cell_type": "code",
   "id": "9",
   "metadata": {},
   "source": [
    "df[\"politicalness\"] = df[\"politicalness\"].replace(\n",
    "    {0: \"political\", 1: \"non-political\"}\n",
    ")\n",
    "df[\"politicalness\"] = df[\"politicalness\"].astype(\"category\")\n"
   ],
   "outputs": [],
   "execution_count": null
  },
  {
   "metadata": {},
   "cell_type": "markdown",
   "source": "Stripping the bodies.",
   "id": "2ac3b90db48a2f1a"
  },
  {
   "metadata": {},
   "cell_type": "code",
   "source": [
    "df[\"body\"] = (df[\"body\"].str.strip()).replace(\"\", np.nan)\n"
   ],
   "id": "44fe171598d9d9d0",
   "outputs": [],
   "execution_count": null
  },
  {
   "cell_type": "markdown",
   "id": "10",
   "metadata": {},
   "source": [
    "Dropping rows with missing data."
   ]
  },
  {
   "cell_type": "code",
   "id": "11",
   "metadata": {},
   "source": [
    "df = df.dropna()\n"
   ],
   "outputs": [],
   "execution_count": null
  },
  {
   "cell_type": "markdown",
   "id": "12",
   "metadata": {},
   "source": "Printing body duplicates."
  },
  {
   "cell_type": "code",
   "id": "13",
   "metadata": {},
   "source": [
    "df[df[\"body\"].duplicated(keep=False)]\n"
   ],
   "outputs": [],
   "execution_count": null
  },
  {
   "cell_type": "markdown",
   "id": "14",
   "metadata": {},
   "source": "Dropping the body duplicates."
  },
  {
   "cell_type": "code",
   "id": "15",
   "metadata": {},
   "source": [
    "df = df.drop_duplicates(subset=\"body\")\n"
   ],
   "outputs": [],
   "execution_count": null
  },
  {
   "cell_type": "markdown",
   "id": "18",
   "metadata": {},
   "source": "Inspecting the body length."
  },
  {
   "cell_type": "code",
   "id": "19",
   "metadata": {},
   "source": [
    "df[\"body_length\"] = df[\"body\"].fillna(\"\").str.len()\n",
    "df[\"body_word_count\"] = df[\"body\"].fillna(\"\").str.split().str.len()\n",
    "df = df.sort_values(by=\"body_length\")\n",
    "df.head()\n"
   ],
   "outputs": [],
   "execution_count": null
  },
  {
   "cell_type": "markdown",
   "id": "20",
   "metadata": {},
   "source": "After the inspection, articles with bodies shorter than 2 words seem to contain no political value. Removing them."
  },
  {
   "cell_type": "code",
   "id": "21",
   "metadata": {},
   "source": [
    "body_word_count_lower_bound = 2\n",
    "df = df[df[\"body_word_count\"] >= body_word_count_lower_bound]\n"
   ],
   "outputs": [],
   "execution_count": null
  },
  {
   "cell_type": "code",
   "id": "29",
   "metadata": {},
   "source": [
    "df.to_parquet(\"../preprocessed/political_or_not.parquet\")\n"
   ],
   "outputs": [],
   "execution_count": null
  }
 ],
 "metadata": {
  "kernelspec": {
   "display_name": "Python 3",
   "language": "python",
   "name": "python3"
  },
  "language_info": {
   "codemirror_mode": {
    "name": "ipython",
    "version": 2
   },
   "file_extension": ".py",
   "mimetype": "text/x-python",
   "name": "python",
   "nbconvert_exporter": "python",
   "pygments_lexer": "ipython2",
   "version": "2.7.6"
  }
 },
 "nbformat": 4,
 "nbformat_minor": 5
}
