{
 "cells": [
  {
   "metadata": {},
   "cell_type": "code",
   "source": [
    "import re\n",
    "\n",
    "import pandas as pd\n",
    "from datasets import concatenate_datasets, load_dataset"
   ],
   "id": "f006a5f54571ea0c",
   "outputs": [],
   "execution_count": null
  },
  {
   "metadata": {},
   "cell_type": "markdown",
   "source": "Reading the raw dataset.",
   "id": "1a77d091769edef8"
  },
  {
   "cell_type": "code",
   "id": "initial_id",
   "metadata": {
    "collapsed": true
   },
   "source": [
    "ds = load_dataset(\n",
    "    \"open-phi/textbooks\",\n",
    "    revision=\"292aaae99cbecacad50f692d7327887f05dacaf2\"\n",
    ")\n",
    "df = concatenate_datasets(ds.values()).to_pandas()\n",
    "df"
   ],
   "outputs": [],
   "execution_count": null
  },
  {
   "metadata": {},
   "cell_type": "markdown",
   "source": "Dropping useless columns.",
   "id": "5ec468ce1a3b34b1"
  },
  {
   "metadata": {},
   "cell_type": "code",
   "source": "df = df.drop(columns=[\"topic\", \"model\", \"concepts\", \"outline\", \"subfield\", \"rag\"])",
   "id": "49a46ba382b8a719",
   "outputs": [],
   "execution_count": null
  },
  {
   "metadata": {},
   "cell_type": "markdown",
   "source": "Renaming columns.",
   "id": "e09c7fc49b884072"
  },
  {
   "metadata": {},
   "cell_type": "code",
   "source": "df = df.rename(columns={\"markdown\": \"body\"})",
   "id": "9efd3b71dc41fe0d",
   "outputs": [],
   "execution_count": null
  },
  {
   "metadata": {},
   "cell_type": "markdown",
   "source": "Removing the Markdown heading syntax.",
   "id": "a3252879d66a649a"
  },
  {
   "metadata": {},
   "cell_type": "code",
   "source": "df[\"body\"] = df[\"body\"].str.replace(\"#\", \"\")",
   "id": "7868c516c76ce8f3",
   "outputs": [],
   "execution_count": null
  },
  {
   "metadata": {},
   "cell_type": "markdown",
   "source": "Dropping rows with potentially political fields.",
   "id": "50bba3e3c073909a"
  },
  {
   "metadata": {},
   "cell_type": "code",
   "source": "df[\"field\"].unique()",
   "id": "7eaf25e7a8b2606c",
   "outputs": [],
   "execution_count": null
  },
  {
   "metadata": {},
   "cell_type": "code",
   "source": [
    "ambiguous_fields = [\n",
    "    \"sociology\",\n",
    "    \"economics\",\n",
    "    \"media_studies\",\n",
    "    \"anthropology\",\n",
    "    \"history\",\n",
    "    \"public_administration\",\n",
    "]\n",
    "\n",
    "df = df[~df[\"field\"].isin(ambiguous_fields)]"
   ],
   "id": "c98bf3eae6f5f9f6",
   "outputs": [],
   "execution_count": null
  },
  {
   "metadata": {},
   "cell_type": "markdown",
   "source": "Splitting the bodies into paragraphs.",
   "id": "a868ae6a5308108f"
  },
  {
   "metadata": {},
   "cell_type": "code",
   "source": [
    "body_paragraph_count = 10\n",
    "\n",
    "rows = []\n",
    "for _, row in df.iterrows():\n",
    "    paragraphs = row[\"body\"].split(\"\\n\\n\")\n",
    "    for i in range(0, len(paragraphs), body_paragraph_count):\n",
    "        body = re.sub(r\"\\s+\", \" \", \" \".join(paragraphs[i:i + body_paragraph_count])).strip()\n",
    "        rows.append({\"body\": body, \"field\": row[\"field\"]})\n",
    "\n",
    "df = pd.DataFrame(rows)\n",
    "df"
   ],
   "id": "31e1a7ffc806a536",
   "outputs": [],
   "execution_count": null
  },
  {
   "metadata": {},
   "cell_type": "markdown",
   "source": "Dropping rows with missing data.",
   "id": "fec4846c904d26e8"
  },
  {
   "metadata": {},
   "cell_type": "code",
   "source": "df = df.dropna()",
   "id": "b4790d764c5bfc00",
   "outputs": [],
   "execution_count": null
  },
  {
   "metadata": {},
   "cell_type": "markdown",
   "source": "Adding the politicalness label column.",
   "id": "2f1e1afe28ae4e3"
  },
  {
   "metadata": {},
   "cell_type": "code",
   "source": [
    "political_fields = [\n",
    "    \"political_science\",\n",
    "]\n",
    "\n",
    "df[\"politicalness\"] = pd.Categorical(\n",
    "    [\"political\" if field in political_fields else \"non-political\" for field in df[\"field\"]]\n",
    ")"
   ],
   "id": "4d185a5255489056",
   "outputs": [],
   "execution_count": null
  },
  {
   "metadata": {},
   "cell_type": "markdown",
   "source": "Dropping useless columns.",
   "id": "cc7ff28bd6077789"
  },
  {
   "metadata": {},
   "cell_type": "code",
   "source": "df = df.drop(columns=[\"field\"])",
   "id": "5bf6a483cac217f",
   "outputs": [],
   "execution_count": null
  },
  {
   "metadata": {},
   "cell_type": "markdown",
   "source": "Printing body duplicates.",
   "id": "465fd61feaac850e"
  },
  {
   "metadata": {},
   "cell_type": "code",
   "source": "df[df[\"body\"].duplicated(keep=False)]",
   "id": "6ea36ee7e39205d1",
   "outputs": [],
   "execution_count": null
  },
  {
   "metadata": {},
   "cell_type": "markdown",
   "source": "Dropping the body duplicates.",
   "id": "3a061a10bf090220"
  },
  {
   "metadata": {},
   "cell_type": "code",
   "source": "df = df.drop_duplicates(subset=\"body\")",
   "id": "e87e56832e288ca4",
   "outputs": [],
   "execution_count": null
  },
  {
   "metadata": {},
   "cell_type": "markdown",
   "source": "Inspecting the body length.",
   "id": "ff6ce45c7e5cf777"
  },
  {
   "metadata": {},
   "cell_type": "code",
   "source": [
    "df[\"body_length\"] = df[\"body\"].str.len()\n",
    "df[\"body_word_count\"] = df[\"body\"].str.split().str.len()\n",
    "df = df.sort_values(by=\"body_length\")\n",
    "df.head()"
   ],
   "id": "ede6ac13d07cc5be",
   "outputs": [],
   "execution_count": null
  },
  {
   "metadata": {},
   "cell_type": "code",
   "source": [
    "# Ensuring to include the last (longest) item.\n",
    "downsampled = pd.concat([df[\"body_length\"].iloc[::100], df[\"body_length\"].tail(1)]).drop_duplicates()\n",
    "downsampled.plot.bar().xaxis.set_ticks([]);"
   ],
   "id": "f274d82e29aa5759",
   "outputs": [],
   "execution_count": null
  },
  {
   "metadata": {},
   "cell_type": "code",
   "source": "df[\"body_length\"].mean()",
   "id": "14549f5b05ee9dda",
   "outputs": [],
   "execution_count": null
  },
  {
   "metadata": {},
   "cell_type": "code",
   "source": "df.to_parquet(\"../preprocessed/textbooks.parquet\")",
   "id": "b0e42a22a87ab15d",
   "outputs": [],
   "execution_count": null
  }
 ],
 "metadata": {
  "kernelspec": {
   "display_name": "Python 3",
   "language": "python",
   "name": "python3"
  },
  "language_info": {
   "codemirror_mode": {
    "name": "ipython",
    "version": 2
   },
   "file_extension": ".py",
   "mimetype": "text/x-python",
   "name": "python",
   "nbconvert_exporter": "python",
   "pygments_lexer": "ipython2",
   "version": "2.7.6"
  }
 },
 "nbformat": 4,
 "nbformat_minor": 5
}
