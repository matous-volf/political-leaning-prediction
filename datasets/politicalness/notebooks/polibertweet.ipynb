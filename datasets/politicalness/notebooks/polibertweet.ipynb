{
 "cells": [
  {
   "metadata": {},
   "cell_type": "code",
   "source": [
    "from pathlib import Path\n",
    "\n",
    "import numpy as np\n",
    "import pandas as pd\n",
    "from faker import Faker\n"
   ],
   "id": "f006a5f54571ea0c",
   "outputs": [],
   "execution_count": null
  },
  {
   "metadata": {},
   "cell_type": "markdown",
   "source": "Reading the raw dataset.",
   "id": "1a77d091769edef8"
  },
  {
   "cell_type": "code",
   "id": "initial_id",
   "metadata": {
    "collapsed": true
   },
   "source": [
    "df_political = pd.read_csv(\n",
    "    open(\n",
    "        Path(\n",
    "            \"../raw/polibertweet/published_data_polibertweet-LREC-2022_election_sampled_10000.csv\"\n",
    "        )\n",
    "    ),\n",
    "    encoding=\"utf-8\",\n",
    ")\n",
    "df_political\n"
   ],
   "outputs": [],
   "execution_count": null
  },
  {
   "metadata": {},
   "cell_type": "code",
   "source": [
    "df_non_political = pd.read_csv(\n",
    "    open(\n",
    "        Path(\n",
    "            \"../raw/polibertweet/published_data_polibertweet-LREC-2022_non_election_sampled_10000.csv\"\n",
    "        )\n",
    "    ),\n",
    "    encoding=\"utf-8\",\n",
    ")\n",
    "df_non_political\n"
   ],
   "id": "490a5316e6703a81",
   "outputs": [],
   "execution_count": null
  },
  {
   "metadata": {},
   "cell_type": "markdown",
   "source": "Adding the politicalness label column.",
   "id": "90c46c8bbb2ba56b"
  },
  {
   "metadata": {},
   "cell_type": "code",
   "source": [
    "df_political[\"politicalness\"] = [\"political\"] * len(df_political)\n",
    "df_non_political[\"politicalness\"] = [\"non-political\"] * len(df_non_political)\n",
    "df = pd.concat([df_political, df_non_political])\n",
    "df[\"politicalness\"] = df[\"politicalness\"].astype(\"category\")\n"
   ],
   "id": "9714990b025918a2",
   "outputs": [],
   "execution_count": null
  },
  {
   "metadata": {},
   "cell_type": "markdown",
   "source": "Renaming columns.",
   "id": "7c85fdfbb1056337"
  },
  {
   "metadata": {},
   "cell_type": "code",
   "source": [
    "df = df.rename(columns={\"text\": \"body\"})\n"
   ],
   "id": "f1ff7f42d34b706f",
   "outputs": [],
   "execution_count": null
  },
  {
   "metadata": {},
   "cell_type": "markdown",
   "source": "Stripping the bodies.",
   "id": "88d6a28a89354679"
  },
  {
   "metadata": {},
   "cell_type": "code",
   "source": [
    "df[\"body\"] = (df[\"body\"].str.strip()).replace(\"\", np.nan)\n"
   ],
   "id": "1044cca4ad1e3652",
   "outputs": [],
   "execution_count": null
  },
  {
   "metadata": {},
   "cell_type": "markdown",
   "source": "Dropping rows with missing data.",
   "id": "1decdf712cbf2012"
  },
  {
   "metadata": {},
   "cell_type": "code",
   "source": [
    "df = df.dropna()\n"
   ],
   "id": "8dbd9a70099c7ddf",
   "outputs": [],
   "execution_count": null
  },
  {
   "metadata": {},
   "cell_type": "markdown",
   "source": "Printing body duplicates.",
   "id": "deb5653b24590b68"
  },
  {
   "metadata": {},
   "cell_type": "code",
   "source": [
    "df[df[\"body\"].duplicated(keep=False)]\n"
   ],
   "id": "54cf2cfe9a82e886",
   "outputs": [],
   "execution_count": null
  },
  {
   "metadata": {},
   "cell_type": "markdown",
   "source": "Dropping the body duplicates.",
   "id": "c74ff49322d5eb3e"
  },
  {
   "metadata": {},
   "cell_type": "code",
   "source": [
    "df = df.drop_duplicates(subset=\"body\")\n"
   ],
   "id": "933f5131d3dd3ad4",
   "outputs": [],
   "execution_count": null
  },
  {
   "metadata": {},
   "cell_type": "markdown",
   "source": "Filling username and URL placeholders.",
   "id": "8ac2f0e1c790dbdd"
  },
  {
   "metadata": {},
   "cell_type": "code",
   "source": [
    "fake = Faker()\n",
    "fake.seed_instance(37)\n",
    "df[\"body\"] = df[\"body\"].str.replace(\"@USER\", lambda _: fake.name(), regex=True)\n",
    "df[\"body\"] = df[\"body\"].str.replace(\n",
    "    \"HTTPURL\", lambda _: f\"{fake.url()}{fake.uri_path()}\", regex=True\n",
    ")\n",
    "df\n"
   ],
   "id": "b2492fb5a25b39bf",
   "outputs": [],
   "execution_count": null
  },
  {
   "metadata": {},
   "cell_type": "markdown",
   "source": "Inspecting the body length.",
   "id": "e39a9b1ad88c5890"
  },
  {
   "metadata": {},
   "cell_type": "code",
   "source": [
    "df[\"body_length\"] = df[\"body\"].fillna(\"\").str.len()\n",
    "df[\"body_word_count\"] = df[\"body\"].fillna(\"\").str.split().str.len()\n",
    "df = df.sort_values(by=\"body_length\")\n",
    "df.head()\n"
   ],
   "id": "9b7b57ab04ccd38",
   "outputs": [],
   "execution_count": null
  },
  {
   "metadata": {},
   "cell_type": "code",
   "source": [
    "df.to_parquet(\"../preprocessed/polibertweet.parquet\")\n"
   ],
   "id": "b0e42a22a87ab15d",
   "outputs": [],
   "execution_count": null
  }
 ],
 "metadata": {
  "kernelspec": {
   "display_name": "Python 3",
   "language": "python",
   "name": "python3"
  },
  "language_info": {
   "codemirror_mode": {
    "name": "ipython",
    "version": 2
   },
   "file_extension": ".py",
   "mimetype": "text/x-python",
   "name": "python",
   "nbconvert_exporter": "python",
   "pygments_lexer": "ipython2",
   "version": "2.7.6"
  }
 },
 "nbformat": 4,
 "nbformat_minor": 5
}
