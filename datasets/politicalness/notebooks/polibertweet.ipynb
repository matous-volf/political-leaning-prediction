{
 "cells": [
  {
   "metadata": {},
   "cell_type": "code",
   "source": [
    "from pathlib import Path\n",
    "\n",
    "import numpy as np\n",
    "import pandas as pd\n",
    "from faker import Faker\n",
    "from matplotlib import pyplot as plt"
   ],
   "id": "f006a5f54571ea0c",
   "outputs": [],
   "execution_count": null
  },
  {
   "metadata": {},
   "cell_type": "markdown",
   "source": "Reading the raw dataset.",
   "id": "1a77d091769edef8"
  },
  {
   "cell_type": "code",
   "id": "initial_id",
   "metadata": {
    "collapsed": true
   },
   "source": [
    "df_political = pd.read_csv(\n",
    "    open(Path(\"../raw/polibertweet/published_data_polibertweet-LREC-2022_election_sampled_10000.csv\")),\n",
    "    encoding=\"utf-8\"\n",
    ")\n",
    "df_political"
   ],
   "outputs": [],
   "execution_count": null
  },
  {
   "metadata": {},
   "cell_type": "code",
   "source": [
    "df_non_political = pd.read_csv(\n",
    "    open(Path(\"../raw/polibertweet/published_data_polibertweet-LREC-2022_non_election_sampled_10000.csv\")),\n",
    "    encoding=\"utf-8\"\n",
    ")\n",
    "df_non_political"
   ],
   "id": "490a5316e6703a81",
   "outputs": [],
   "execution_count": null
  },
  {
   "metadata": {},
   "cell_type": "markdown",
   "source": "Adding the politicalness label column.",
   "id": "90c46c8bbb2ba56b"
  },
  {
   "metadata": {},
   "cell_type": "code",
   "source": [
    "df_political[\"politicalness\"] = [\"political\"] * len(df_political)\n",
    "df_non_political[\"politicalness\"] = [\"non-political\"] * len(df_non_political)\n",
    "df = pd.concat([df_political, df_non_political])\n",
    "df[\"politicalness\"] = df[\"politicalness\"].astype(\"category\")"
   ],
   "id": "9714990b025918a2",
   "outputs": [],
   "execution_count": null
  },
  {
   "metadata": {},
   "cell_type": "markdown",
   "source": "Renaming columns.",
   "id": "7c85fdfbb1056337"
  },
  {
   "metadata": {},
   "cell_type": "code",
   "source": "df = df.rename(columns={\"text\": \"body\"})",
   "id": "f1ff7f42d34b706f",
   "outputs": [],
   "execution_count": null
  },
  {
   "metadata": {},
   "cell_type": "markdown",
   "source": "Stripping the bodies.",
   "id": "88d6a28a89354679"
  },
  {
   "metadata": {},
   "cell_type": "code",
   "source": "df[\"body\"] = (df[\"body\"].str.strip()).replace(\"\", np.nan)",
   "id": "1044cca4ad1e3652",
   "outputs": [],
   "execution_count": null
  },
  {
   "metadata": {},
   "cell_type": "markdown",
   "source": "Dropping rows with missing data.",
   "id": "1decdf712cbf2012"
  },
  {
   "metadata": {},
   "cell_type": "code",
   "source": "df = df.dropna()",
   "id": "8dbd9a70099c7ddf",
   "outputs": [],
   "execution_count": null
  },
  {
   "metadata": {},
   "cell_type": "markdown",
   "source": "Printing body duplicates.",
   "id": "deb5653b24590b68"
  },
  {
   "metadata": {},
   "cell_type": "code",
   "source": "df[df[\"body\"].duplicated(keep=False)]",
   "id": "54cf2cfe9a82e886",
   "outputs": [],
   "execution_count": null
  },
  {
   "metadata": {},
   "cell_type": "markdown",
   "source": "Dropping the body duplicates.",
   "id": "c74ff49322d5eb3e"
  },
  {
   "metadata": {},
   "cell_type": "code",
   "source": "df = df.drop_duplicates(subset=\"body\")",
   "id": "933f5131d3dd3ad4",
   "outputs": [],
   "execution_count": null
  },
  {
   "metadata": {},
   "cell_type": "markdown",
   "source": "Filling username and URL placeholders.",
   "id": "8ac2f0e1c790dbdd"
  },
  {
   "metadata": {},
   "cell_type": "code",
   "source": [
    "fake = Faker()\n",
    "fake.seed_instance(37)\n",
    "df[\"body\"] = df[\"body\"].str.replace(\"@USER\", lambda _: fake.name(), regex=True)\n",
    "df[\"body\"] = df[\"body\"].str.replace(\"HTTPURL\", lambda _: f\"{fake.url()}{fake.uri_path()}\", regex=True)\n",
    "df"
   ],
   "id": "b2492fb5a25b39bf",
   "outputs": [],
   "execution_count": null
  },
  {
   "metadata": {},
   "cell_type": "markdown",
   "source": "Inspecting the body length.",
   "id": "e39a9b1ad88c5890"
  },
  {
   "metadata": {},
   "cell_type": "code",
   "source": [
    "df[\"body_length\"] = df[\"body\"].fillna(\"\").str.len()\n",
    "df[\"body_word_count\"] = df[\"body\"].fillna(\"\").str.split().str.len()\n",
    "df = df.sort_values(by=\"body_length\")\n",
    "df.head()"
   ],
   "id": "9b7b57ab04ccd38",
   "outputs": [],
   "execution_count": null
  },
  {
   "metadata": {},
   "cell_type": "code",
   "source": [
    "# Ensuring to include the last (longest) item.\n",
    "downsampled = pd.concat([df[\"body_length\"].iloc[::100], df[\"body_length\"].tail(1)]).drop_duplicates()\n",
    "downsampled.plot.bar().xaxis.set_ticks([]);"
   ],
   "id": "f35d54ce96989ac2",
   "outputs": [],
   "execution_count": null
  },
  {
   "metadata": {},
   "cell_type": "code",
   "source": "df[\"body_word_count\"].median()",
   "id": "5bcddd2a321b8f1c",
   "outputs": [],
   "execution_count": null
  },
  {
   "metadata": {},
   "cell_type": "markdown",
   "source": "The politicalness distribution.",
   "id": "715f9facf4a27737"
  },
  {
   "metadata": {},
   "cell_type": "code",
   "source": "df.groupby(\"politicalness\", observed=True).size().plot.pie(autopct=\"%1.1f%%\");",
   "id": "6d3a05674b019e66",
   "outputs": [],
   "execution_count": null
  },
  {
   "metadata": {},
   "cell_type": "markdown",
   "source": "The distribution of body length sums per politicalness.",
   "id": "54b62373dc97107"
  },
  {
   "metadata": {},
   "cell_type": "code",
   "source": "df.groupby(\"politicalness\", observed=True)[\"body_length\"].sum().plot.pie(autopct=\"%1.1f%%\", ylabel=\"\");",
   "id": "e56181edfe8d9be8",
   "outputs": [],
   "execution_count": null
  },
  {
   "metadata": {},
   "cell_type": "markdown",
   "source": "The body length distribution by politicalness.",
   "id": "27423d8a5914352d"
  },
  {
   "metadata": {},
   "cell_type": "code",
   "source": [
    "plt.figure(figsize=(10, 6))\n",
    "\n",
    "for politicalness in df[\"politicalness\"].unique():\n",
    "    df_politicalness = df[df[\"politicalness\"] == politicalness]\n",
    "    downsampled = pd.concat(\n",
    "        # Ensuring to include the last (longest) item.\n",
    "        [df_politicalness[\"body_length\"].iloc[::10], df_politicalness[\"body_length\"].tail(1)]\n",
    "    ).drop_duplicates().reset_index(drop=True)\n",
    "    plt.plot(downsampled, label=politicalness)\n",
    "\n",
    "plt.xlabel(\"downsampled index\")\n",
    "plt.ylabel(\"body length\")\n",
    "plt.title(\"body length by politicalness\")\n",
    "plt.legend(title=\"politicalness\")\n",
    "plt.show()"
   ],
   "id": "32e1a0ab368866ed",
   "outputs": [],
   "execution_count": null
  },
  {
   "metadata": {},
   "cell_type": "code",
   "source": "df.to_parquet(\"../preprocessed/polibertweet.parquet\")",
   "id": "b0e42a22a87ab15d",
   "outputs": [],
   "execution_count": null
  }
 ],
 "metadata": {
  "kernelspec": {
   "display_name": "Python 3",
   "language": "python",
   "name": "python3"
  },
  "language_info": {
   "codemirror_mode": {
    "name": "ipython",
    "version": 2
   },
   "file_extension": ".py",
   "mimetype": "text/x-python",
   "name": "python",
   "nbconvert_exporter": "python",
   "pygments_lexer": "ipython2",
   "version": "2.7.6"
  }
 },
 "nbformat": 4,
 "nbformat_minor": 5
}
