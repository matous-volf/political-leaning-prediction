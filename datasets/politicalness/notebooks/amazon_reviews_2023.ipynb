{
 "cells": [
  {
   "metadata": {},
   "cell_type": "code",
   "source": [
    "import numpy as np\n",
    "import pandas as pd\n",
    "from datasets import Dataset, concatenate_datasets, load_dataset"
   ],
   "id": "f006a5f54571ea0c",
   "outputs": [],
   "execution_count": null
  },
  {
   "metadata": {},
   "cell_type": "markdown",
   "source": "Reading the raw dataset.",
   "id": "1a77d091769edef8"
  },
  {
   "cell_type": "code",
   "id": "initial_id",
   "metadata": {
    "collapsed": true
   },
   "source": [
    "TRUST_REMOTE_CODE = False\n",
    "\n",
    "category_split_size = 2_000\n",
    "# Removed \"unknown\".\n",
    "categories = [\n",
    "    \"All_Beauty\",\n",
    "    \"Amazon_Fashion\",\n",
    "    \"Appliances\",\n",
    "    \"Arts_Crafts_and_Sewing\",\n",
    "    \"Automotive\",\n",
    "    \"Baby_Products\",\n",
    "    \"Beauty_and_Personal_Care\",\n",
    "    \"Books\",\n",
    "    \"CDs_and_Vinyl\",\n",
    "    \"Cell_Phones_and_Accessories\",\n",
    "    \"Clothing_Shoes_and_Jewelry\",\n",
    "    \"Digital_Music\",\n",
    "    \"Electronics\",\n",
    "    \"Gift_Cards\",\n",
    "    \"Grocery_and_Gourmet_Food\",\n",
    "    \"Handmade_Products\",\n",
    "    \"Health_and_Household\",\n",
    "    \"Health_and_Personal_Care\",\n",
    "    \"Home_and_Kitchen\",\n",
    "    \"Industrial_and_Scientific\",\n",
    "    \"Kindle_Store\",\n",
    "    \"Magazine_Subscriptions\",\n",
    "    \"Movies_and_TV\",\n",
    "    \"Musical_Instruments\",\n",
    "    \"Office_Products\",\n",
    "    \"Patio_Lawn_and_Garden\",\n",
    "    \"Pet_Supplies\",\n",
    "    \"Software\",\n",
    "    \"Sports_and_Outdoors\",\n",
    "    \"Subscription_Boxes\",\n",
    "    \"Tools_and_Home_Improvement\",\n",
    "    \"Toys_and_Games\",\n",
    "    \"Video_Games\",\n",
    "]\n",
    "\n",
    "iterable_dataset = concatenate_datasets(\n",
    "    [load_dataset(\n",
    "        \"McAuley-Lab/Amazon-Reviews-2023\",\n",
    "        f\"raw_review_{category}\",\n",
    "        revision=\"2b6d039ed471f2ba5fd2acb718bf33b0a7e5598e\",\n",
    "        split=f\"full\",\n",
    "        trust_remote_code=TRUST_REMOTE_CODE,\n",
    "        streaming=True,\n",
    "    ).select_columns([\"title\", \"text\"]).take(category_split_size) for category in categories]\n",
    ")\n",
    "df = Dataset.from_generator(lambda: (yield from iterable_dataset), features=iterable_dataset.features).to_pandas()\n",
    "df"
   ],
   "outputs": [],
   "execution_count": null
  },
  {
   "metadata": {},
   "cell_type": "markdown",
   "source": "Renaming columns.",
   "id": "ff480a9bf6f55731"
  },
  {
   "metadata": {},
   "cell_type": "code",
   "source": "df = df.rename(columns={\"text\": \"body\"})",
   "id": "116c75092dbef78b",
   "outputs": [],
   "execution_count": null
  },
  {
   "metadata": {},
   "cell_type": "markdown",
   "source": "Stripping the titles and the bodies.",
   "id": "ee033b4cc375e5f7"
  },
  {
   "metadata": {},
   "cell_type": "code",
   "source": [
    "df[\"title\"] = (df[\"title\"].str.strip()).replace(\"\", np.nan)\n",
    "df[\"body\"] = (df[\"body\"].str.strip()).replace(\"\", np.nan)"
   ],
   "id": "21fab34525c17887",
   "outputs": [],
   "execution_count": null
  },
  {
   "metadata": {},
   "cell_type": "markdown",
   "source": "Dropping rows missing both the title and the body.",
   "id": "51164020d338bba9"
  },
  {
   "metadata": {},
   "cell_type": "code",
   "source": "df = df.dropna(subset=[\"title\", \"body\"], how=\"all\")",
   "id": "d1c74841f75ab399",
   "outputs": [],
   "execution_count": null
  },
  {
   "metadata": {},
   "cell_type": "markdown",
   "source": "Printing body duplicates.",
   "id": "465fd61feaac850e"
  },
  {
   "metadata": {},
   "cell_type": "code",
   "source": "df[df[\"body\"].duplicated(keep=False)]",
   "id": "6ea36ee7e39205d1",
   "outputs": [],
   "execution_count": null
  },
  {
   "metadata": {},
   "cell_type": "markdown",
   "source": "Dropping the body duplicates.",
   "id": "3a061a10bf090220"
  },
  {
   "metadata": {},
   "cell_type": "code",
   "source": "df = df.drop_duplicates(subset=\"body\")",
   "id": "e87e56832e288ca4",
   "outputs": [],
   "execution_count": null
  },
  {
   "metadata": {},
   "cell_type": "markdown",
   "source": "Adding the politicalness label column.",
   "id": "d814f07fa252fda1"
  },
  {
   "metadata": {},
   "cell_type": "code",
   "source": "df[\"politicalness\"] = pd.Categorical([\"non-political\"] * len(df))",
   "id": "17aed87dc4f0ddcb",
   "outputs": [],
   "execution_count": null
  },
  {
   "metadata": {},
   "cell_type": "markdown",
   "source": "Inspecting the title and the body length.",
   "id": "ff6ce45c7e5cf777"
  },
  {
   "metadata": {},
   "cell_type": "code",
   "source": [
    "df[\"title_length\"] = df[\"title\"].fillna(\"\").str.len()\n",
    "df[\"title_word_count\"] = df[\"title\"].fillna(\"\").str.split().str.len()\n",
    "df[\"body_length\"] = df[\"body\"].fillna(\"\").str.len()\n",
    "df[\"body_word_count\"] = df[\"body\"].fillna(\"\").str.split().str.len()\n",
    "df = df.sort_values(by=\"body_length\")\n",
    "df.head()"
   ],
   "id": "ede6ac13d07cc5be",
   "outputs": [],
   "execution_count": null
  },
  {
   "metadata": {},
   "cell_type": "markdown",
   "source": "After the inspection, rows with bodies shorter than 3 words seem to contain no useful value. Removing them.",
   "id": "2bc2c95335869619"
  },
  {
   "metadata": {},
   "cell_type": "code",
   "source": [
    "body_word_count_lower_bound = 3\n",
    "df = df[df[\"body_word_count\"] >= body_word_count_lower_bound]\n",
    "# Ensuring to include the last (longest) item.\n",
    "downsampled = pd.concat([df[\"body_length\"].iloc[::1000], df[\"body_length\"].tail(1)]).drop_duplicates()\n",
    "downsampled.plot.bar().xaxis.set_ticks([]);"
   ],
   "id": "f274d82e29aa5759",
   "outputs": [],
   "execution_count": null
  },
  {
   "metadata": {},
   "cell_type": "code",
   "source": "df[\"title_length\"].mean()",
   "id": "f6eabc53798f2ecc",
   "outputs": [],
   "execution_count": null
  },
  {
   "metadata": {},
   "cell_type": "code",
   "source": "df[\"body_length\"].mean()",
   "id": "14549f5b05ee9dda",
   "outputs": [],
   "execution_count": null
  },
  {
   "metadata": {},
   "cell_type": "code",
   "source": "df.to_parquet(\"../preprocessed/amazon_reviews_2023.parquet\")",
   "id": "b0e42a22a87ab15d",
   "outputs": [],
   "execution_count": null
  }
 ],
 "metadata": {
  "kernelspec": {
   "display_name": "Python 3",
   "language": "python",
   "name": "python3"
  },
  "language_info": {
   "codemirror_mode": {
    "name": "ipython",
    "version": 2
   },
   "file_extension": ".py",
   "mimetype": "text/x-python",
   "name": "python",
   "nbconvert_exporter": "python",
   "pygments_lexer": "ipython2",
   "version": "2.7.6"
  }
 },
 "nbformat": 4,
 "nbformat_minor": 5
}
