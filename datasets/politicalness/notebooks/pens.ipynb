{
 "cells": [
  {
   "metadata": {},
   "cell_type": "code",
   "source": [
    "from pathlib import Path\n",
    "\n",
    "import kagglehub\n",
    "import numpy as np\n",
    "import pandas as pd\n"
   ],
   "id": "f006a5f54571ea0c",
   "outputs": [],
   "execution_count": null
  },
  {
   "metadata": {},
   "cell_type": "markdown",
   "source": "Reading the raw dataset.",
   "id": "1a77d091769edef8"
  },
  {
   "cell_type": "code",
   "id": "initial_id",
   "metadata": {
    "collapsed": true
   },
   "source": [
    "path = kagglehub.dataset_download(\n",
    "    \"divyapatel4/microsoft-pens-personalized-news-headlines/versions/7\"\n",
    ")\n",
    "df = pd.read_csv(\n",
    "    open(Path(path, \"PENS\", \"news.tsv\")), sep=\"\\t\", encoding=\"utf-8\"\n",
    ")\n",
    "df\n"
   ],
   "outputs": [],
   "execution_count": null
  },
  {
   "metadata": {},
   "cell_type": "markdown",
   "source": "Dropping useless columns.",
   "id": "1d7a4c7bece5b941"
  },
  {
   "metadata": {},
   "cell_type": "code",
   "source": [
    "df = df.drop(columns=[\"News ID\", \"Category\", \"Title entity\", \"Entity content\"])\n"
   ],
   "id": "b6fbd2caf39b1813",
   "outputs": [],
   "execution_count": null
  },
  {
   "metadata": {},
   "cell_type": "markdown",
   "source": "Renaming columns.",
   "id": "630f04935b21c615"
  },
  {
   "metadata": {},
   "cell_type": "code",
   "source": [
    "df = df.rename(\n",
    "    columns={\"Topic\": \"topic\", \"Headline\": \"title\", \"News body\": \"body\"}\n",
    ")\n"
   ],
   "id": "100806214d3f828",
   "outputs": [],
   "execution_count": null
  },
  {
   "metadata": {},
   "cell_type": "markdown",
   "source": "Stripping the titles and the bodies.",
   "id": "3557e904921457f8"
  },
  {
   "metadata": {},
   "cell_type": "code",
   "source": [
    "df[\"title\"] = (df[\"title\"].str.strip()).replace(\"\", np.nan)\n",
    "df[\"body\"] = (df[\"body\"].str.strip()).replace(\"\", np.nan)\n"
   ],
   "id": "c015f4c0f8b84da1",
   "outputs": [],
   "execution_count": null
  },
  {
   "metadata": {},
   "cell_type": "markdown",
   "source": "Dropping rows missing either the topic or both the title and the body.",
   "id": "1decdf712cbf2012"
  },
  {
   "metadata": {},
   "cell_type": "code",
   "source": [
    "df = df.dropna(subset=[\"topic\"])\n",
    "df = df.dropna(subset=[\"title\", \"body\"], how=\"all\")\n"
   ],
   "id": "8dbd9a70099c7ddf",
   "outputs": [],
   "execution_count": null
  },
  {
   "metadata": {},
   "cell_type": "markdown",
   "source": "Dropping rows with potentially politically ambiguous topics.",
   "id": "6edd5890afa34bd7"
  },
  {
   "metadata": {},
   "cell_type": "code",
   "source": [
    "df[\"topic\"].unique()\n"
   ],
   "id": "e5278377b8d4e8bd",
   "outputs": [],
   "execution_count": null
  },
  {
   "metadata": {},
   "cell_type": "code",
   "source": [
    "ambiguous_topics = [\n",
    "    \"ads-tax-proof\",\n",
    "    \"binge\",\n",
    "    \"causes\",\n",
    "    \"causes-food-insecurity\",\n",
    "    \"causes-homelessness\",\n",
    "    \"causes-human-rights\",\n",
    "    \"causes-poverty\",\n",
    "    \"columnists\",\n",
    "    \"comedy\",\n",
    "    \"downtime\",\n",
    "    \"finance-companies\",\n",
    "    \"finance-education\",\n",
    "    \"finance-healthcare\",\n",
    "    \"finance-insurance\",\n",
    "    \"finance-retirement\",\n",
    "    \"finance-saving-investing\",\n",
    "    \"finance-top-stocks\",\n",
    "    \"finance-top-stories\",\n",
    "    \"finance-video\",\n",
    "    \"financenews\",\n",
    "    \"healthtrending\",\n",
    "    \"indepth\",\n",
    "    \"lifestyleroyals\",\n",
    "    \"localnews\",\n",
    "    \"markets\",\n",
    "    \"movievideo\",\n",
    "    \"news\",\n",
    "    \"news-causes-lgbt\",\n",
    "    \"newslocal\",\n",
    "    \"newsopinion\",\n",
    "    \"newsphotos\",\n",
    "    \"newsscienceandtechnology\",\n",
    "    \"newstrends\",\n",
    "    \"newsuk\",\n",
    "    \"newsus\",\n",
    "    \"newsvideo\",\n",
    "    \"newsvideos\",\n",
    "    \"newsworld\",\n",
    "    \"northamerica-video\",\n",
    "    \"people-places\",\n",
    "    \"peopleandplaces\",\n",
    "    \"seasonalvideos\",\n",
    "    \"spotlight\",\n",
    "    \"topnews\",\n",
    "    \"tunedin\",\n",
    "    \"tv\",\n",
    "    \"tv-gallery\",\n",
    "    \"tv-recaps\",\n",
    "    \"tvnews\",\n",
    "    \"viral\",\n",
    "    \"watch\",\n",
    "]\n",
    "\n",
    "df = df[~df[\"topic\"].isin(ambiguous_topics)]\n"
   ],
   "id": "dd217b8520020df3",
   "outputs": [],
   "execution_count": null
  },
  {
   "metadata": {},
   "cell_type": "markdown",
   "source": "Printing body duplicates.",
   "id": "deb5653b24590b68"
  },
  {
   "metadata": {},
   "cell_type": "code",
   "source": [
    "df[df[\"body\"].duplicated(keep=False)]\n"
   ],
   "id": "54cf2cfe9a82e886",
   "outputs": [],
   "execution_count": null
  },
  {
   "metadata": {},
   "cell_type": "markdown",
   "source": "Dropping the body duplicates.",
   "id": "c74ff49322d5eb3e"
  },
  {
   "metadata": {},
   "cell_type": "code",
   "source": [
    "df = df.drop_duplicates(subset=\"body\")\n"
   ],
   "id": "933f5131d3dd3ad4",
   "outputs": [],
   "execution_count": null
  },
  {
   "metadata": {},
   "cell_type": "markdown",
   "source": "Adding the politicalness label column.",
   "id": "c4dd44a35c575412"
  },
  {
   "metadata": {},
   "cell_type": "code",
   "source": [
    "political_topics = [\n",
    "    \"brexit\",\n",
    "    \"narendramodi_opinion\",\n",
    "    \"newsfactcheck\",\n",
    "    \"newspolitics\",\n",
    "    \"politicsvideo\",\n",
    "    \"royals\",\n",
    "]\n",
    "\n",
    "df[\"politicalness\"] = pd.Categorical(\n",
    "    [\n",
    "        \"political\" if topic in political_topics else \"non-political\"\n",
    "        for topic in df[\"topic\"]\n",
    "    ]\n",
    ")\n"
   ],
   "id": "23e22c441952beba",
   "outputs": [],
   "execution_count": null
  },
  {
   "metadata": {},
   "cell_type": "markdown",
   "source": "Dropping useless columns.",
   "id": "7b90d05e2d07340d"
  },
  {
   "metadata": {},
   "cell_type": "code",
   "source": [
    "df = df.drop(columns=[\"topic\"])\n"
   ],
   "id": "ae0af6060e397c12",
   "outputs": [],
   "execution_count": null
  },
  {
   "metadata": {},
   "cell_type": "markdown",
   "source": "Inspecting the title and the body length.",
   "id": "e39a9b1ad88c5890"
  },
  {
   "metadata": {},
   "cell_type": "code",
   "source": [
    "df[\"title_length\"] = df[\"title\"].fillna(\"\").str.len()\n",
    "df[\"title_word_count\"] = df[\"title\"].fillna(\"\").str.split().str.len()\n",
    "df[\"body_length\"] = df[\"body\"].fillna(\"\").str.len()\n",
    "df[\"body_word_count\"] = df[\"body\"].fillna(\"\").str.split().str.len()\n",
    "df = df.sort_values(by=\"body_length\")\n",
    "df.head()\n"
   ],
   "id": "9b7b57ab04ccd38",
   "outputs": [],
   "execution_count": null
  },
  {
   "metadata": {},
   "cell_type": "markdown",
   "source": "After the inspection, rows with bodies shorter than 4 words seem to contain no useful value. Removing them.",
   "id": "c3d3fba54d3a3fbd"
  },
  {
   "metadata": {},
   "cell_type": "code",
   "source": [
    "body_word_count_lower_bound = 4\n",
    "df = df[df[\"body_word_count\"] >= body_word_count_lower_bound]\n"
   ],
   "id": "f35d54ce96989ac2",
   "outputs": [],
   "execution_count": null
  },
  {
   "metadata": {},
   "cell_type": "code",
   "source": [
    "df.to_parquet(\"../preprocessed/pens.parquet\")\n"
   ],
   "id": "b0e42a22a87ab15d",
   "outputs": [],
   "execution_count": null
  }
 ],
 "metadata": {
  "kernelspec": {
   "display_name": "Python 3",
   "language": "python",
   "name": "python3"
  },
  "language_info": {
   "codemirror_mode": {
    "name": "ipython",
    "version": 2
   },
   "file_extension": ".py",
   "mimetype": "text/x-python",
   "name": "python",
   "nbconvert_exporter": "python",
   "pygments_lexer": "ipython2",
   "version": "2.7.6"
  }
 },
 "nbformat": 4,
 "nbformat_minor": 5
}
