{
 "cells": [
  {
   "metadata": {},
   "cell_type": "code",
   "source": [
    "from pathlib import Path\n",
    "\n",
    "import kagglehub\n",
    "import numpy as np\n",
    "import pandas as pd\n",
    "from matplotlib import pyplot as plt"
   ],
   "id": "f006a5f54571ea0c",
   "outputs": [],
   "execution_count": null
  },
  {
   "metadata": {},
   "cell_type": "markdown",
   "source": "Reading the raw dataset.",
   "id": "1a77d091769edef8"
  },
  {
   "cell_type": "code",
   "id": "initial_id",
   "metadata": {
    "collapsed": true
   },
   "source": [
    "path = kagglehub.dataset_download(\"divyapatel4/microsoft-pens-personalized-news-headlines/versions/7\")\n",
    "df = pd.read_csv(open(Path(path, \"PENS\", \"news.tsv\")), sep=\"\\t\", encoding=\"utf-8\")\n",
    "df"
   ],
   "outputs": [],
   "execution_count": null
  },
  {
   "metadata": {},
   "cell_type": "markdown",
   "source": "Dropping useless columns.",
   "id": "1d7a4c7bece5b941"
  },
  {
   "metadata": {},
   "cell_type": "code",
   "source": "df = df.drop(columns=[\"News ID\", \"Category\", \"Title entity\", \"Entity content\"])",
   "id": "b6fbd2caf39b1813",
   "outputs": [],
   "execution_count": null
  },
  {
   "metadata": {},
   "cell_type": "markdown",
   "source": "Renaming columns.",
   "id": "630f04935b21c615"
  },
  {
   "metadata": {},
   "cell_type": "code",
   "source": "df = df.rename(columns={\"Topic\": \"topic\", \"Headline\": \"title\", \"News body\": \"body\"})",
   "id": "100806214d3f828",
   "outputs": [],
   "execution_count": null
  },
  {
   "metadata": {},
   "cell_type": "markdown",
   "source": "Stripping the titles and the bodies.",
   "id": "3557e904921457f8"
  },
  {
   "metadata": {},
   "cell_type": "code",
   "source": [
    "df[\"title\"] = (df[\"title\"].str.strip()).replace(\"\", np.nan)\n",
    "df[\"body\"] = (df[\"body\"].str.strip()).replace(\"\", np.nan)"
   ],
   "id": "c015f4c0f8b84da1",
   "outputs": [],
   "execution_count": null
  },
  {
   "metadata": {},
   "cell_type": "markdown",
   "source": "Dropping rows missing either the topic or both the title and the body.",
   "id": "1decdf712cbf2012"
  },
  {
   "metadata": {},
   "cell_type": "code",
   "source": [
    "df = df.dropna(subset=[\"topic\"])\n",
    "df = df.dropna(subset=[\"title\", \"body\"], how=\"all\")"
   ],
   "id": "8dbd9a70099c7ddf",
   "outputs": [],
   "execution_count": null
  },
  {
   "metadata": {},
   "cell_type": "markdown",
   "source": "Dropping rows with potentially politically ambiguous topics.",
   "id": "6edd5890afa34bd7"
  },
  {
   "metadata": {},
   "cell_type": "code",
   "source": "df[\"topic\"].unique()",
   "id": "e5278377b8d4e8bd",
   "outputs": [],
   "execution_count": null
  },
  {
   "metadata": {},
   "cell_type": "code",
   "source": [
    "ambiguous_topics = [\n",
    "    \"ads-tax-proof\",\n",
    "    \"binge\",\n",
    "    \"causes\",\n",
    "    \"causes-food-insecurity\",\n",
    "    \"causes-homelessness\",\n",
    "    \"causes-human-rights\",\n",
    "    \"causes-poverty\",\n",
    "    \"columnists\",\n",
    "    \"comedy\",\n",
    "    \"downtime\",\n",
    "    \"finance-companies\",\n",
    "    \"finance-education\",\n",
    "    \"finance-healthcare\",\n",
    "    \"finance-insurance\",\n",
    "    \"finance-retirement\",\n",
    "    \"finance-saving-investing\",\n",
    "    \"finance-top-stocks\",\n",
    "    \"finance-top-stories\",\n",
    "    \"finance-video\",\n",
    "    \"financenews\",\n",
    "    \"healthtrending\",\n",
    "    \"indepth\",\n",
    "    \"lifestyleroyals\",\n",
    "    \"localnews\",\n",
    "    \"markets\",\n",
    "    \"movievideo\",\n",
    "    \"news\",\n",
    "    \"news-causes-lgbt\",\n",
    "    \"newslocal\",\n",
    "    \"newsopinion\",\n",
    "    \"newsphotos\",\n",
    "    \"newsscienceandtechnology\",\n",
    "    \"newstrends\",\n",
    "    \"newsuk\",\n",
    "    \"newsus\",\n",
    "    \"newsvideo\",\n",
    "    \"newsvideos\",\n",
    "    \"newsworld\",\n",
    "    \"northamerica-video\",\n",
    "    \"people-places\",\n",
    "    \"peopleandplaces\",\n",
    "    \"seasonalvideos\",\n",
    "    \"spotlight\",\n",
    "    \"topnews\",\n",
    "    \"tunedin\",\n",
    "    \"tv\",\n",
    "    \"tv-gallery\",\n",
    "    \"tv-recaps\",\n",
    "    \"tvnews\",\n",
    "    \"viral\",\n",
    "    \"watch\",\n",
    "]\n",
    "\n",
    "df = df[~df[\"topic\"].isin(ambiguous_topics)]"
   ],
   "id": "dd217b8520020df3",
   "outputs": [],
   "execution_count": null
  },
  {
   "metadata": {},
   "cell_type": "markdown",
   "source": "Printing body duplicates.",
   "id": "deb5653b24590b68"
  },
  {
   "metadata": {},
   "cell_type": "code",
   "source": "df[df[\"body\"].duplicated(keep=False)]",
   "id": "54cf2cfe9a82e886",
   "outputs": [],
   "execution_count": null
  },
  {
   "metadata": {},
   "cell_type": "markdown",
   "source": "Dropping the body duplicates.",
   "id": "c74ff49322d5eb3e"
  },
  {
   "metadata": {},
   "cell_type": "code",
   "source": "df = df.drop_duplicates(subset=\"body\")",
   "id": "933f5131d3dd3ad4",
   "outputs": [],
   "execution_count": null
  },
  {
   "metadata": {},
   "cell_type": "markdown",
   "source": "Adding the politicalness label column.",
   "id": "c4dd44a35c575412"
  },
  {
   "metadata": {},
   "cell_type": "code",
   "source": [
    "political_topics = [\n",
    "    \"brexit\",\n",
    "    \"narendramodi_opinion\",\n",
    "    \"newsfactcheck\",\n",
    "    \"newspolitics\",\n",
    "    \"politicsvideo\",\n",
    "    \"royals\",\n",
    "]\n",
    "\n",
    "df[\"politicalness\"] = pd.Categorical(\n",
    "    [\"political\" if topic in political_topics else \"non-political\" for topic in df[\"topic\"]]\n",
    ")"
   ],
   "id": "23e22c441952beba",
   "outputs": [],
   "execution_count": null
  },
  {
   "metadata": {},
   "cell_type": "markdown",
   "source": "Dropping useless columns.",
   "id": "7b90d05e2d07340d"
  },
  {
   "metadata": {},
   "cell_type": "code",
   "source": "df = df.drop(columns=[\"topic\"])",
   "id": "ae0af6060e397c12",
   "outputs": [],
   "execution_count": null
  },
  {
   "metadata": {},
   "cell_type": "markdown",
   "source": "Inspecting the title and the body length.",
   "id": "e39a9b1ad88c5890"
  },
  {
   "metadata": {},
   "cell_type": "code",
   "source": [
    "df[\"title_length\"] = df[\"title\"].str.len()\n",
    "df[\"title_word_count\"] = df[\"title\"].str.split().str.len()\n",
    "df[\"body_length\"] = df[\"body\"].str.len()\n",
    "df[\"body_word_count\"] = df[\"body\"].str.split().str.len()\n",
    "df = df.sort_values(by=\"body_length\")\n",
    "df.head()"
   ],
   "id": "9b7b57ab04ccd38",
   "outputs": [],
   "execution_count": null
  },
  {
   "metadata": {},
   "cell_type": "markdown",
   "source": "After the inspection, rows with bodies shorter than 4 words seem to contain no useful value. Removing them.",
   "id": "c3d3fba54d3a3fbd"
  },
  {
   "metadata": {},
   "cell_type": "code",
   "source": [
    "body_word_count_lower_bound = 4\n",
    "df = df[df[\"body_word_count\"] >= body_word_count_lower_bound]\n",
    "# Ensuring to include the last (longest) item.\n",
    "downsampled = pd.concat([df[\"body_length\"].iloc[::1000], df[\"body_length\"].tail(1)]).drop_duplicates()\n",
    "downsampled.plot.bar().xaxis.set_ticks([]);"
   ],
   "id": "f35d54ce96989ac2",
   "outputs": [],
   "execution_count": null
  },
  {
   "metadata": {},
   "cell_type": "code",
   "source": "df[\"title_length\"].mean()",
   "id": "1932b5af02df36dc",
   "outputs": [],
   "execution_count": null
  },
  {
   "metadata": {},
   "cell_type": "code",
   "source": "df[\"body_length\"].mean()",
   "id": "5bcddd2a321b8f1c",
   "outputs": [],
   "execution_count": null
  },
  {
   "metadata": {},
   "cell_type": "markdown",
   "source": "The politicalness distribution.",
   "id": "af54b750bc888abe"
  },
  {
   "metadata": {},
   "cell_type": "code",
   "source": "df.groupby(\"politicalness\", observed=True).size().plot.pie(autopct=\"%1.1f%%\");",
   "id": "41559a15b87f6ab0",
   "outputs": [],
   "execution_count": null
  },
  {
   "metadata": {},
   "cell_type": "markdown",
   "source": "The distribution of body length sums per politicalness.",
   "id": "3c7f3cd450616dec"
  },
  {
   "metadata": {},
   "cell_type": "code",
   "source": "df.groupby(\"politicalness\", observed=True)[\"body_length\"].sum().plot.pie(autopct=\"%1.1f%%\", ylabel=\"\");",
   "id": "f992a2e0f4e4f788",
   "outputs": [],
   "execution_count": null
  },
  {
   "metadata": {},
   "cell_type": "markdown",
   "source": "The body length distribution by politicalness.",
   "id": "b701aa6e68d691db"
  },
  {
   "metadata": {},
   "cell_type": "code",
   "source": [
    "plt.figure(figsize=(10, 6))\n",
    "\n",
    "for politicalness in df[\"politicalness\"].unique():\n",
    "    df_politicalness = df[df[\"politicalness\"] == politicalness]\n",
    "    downsampled = pd.concat(\n",
    "        # Ensuring to include the last (longest) item.\n",
    "        [df_politicalness[\"body_length\"].iloc[::10], df_politicalness[\"body_length\"].tail(1)]\n",
    "    ).drop_duplicates().reset_index(drop=True)\n",
    "    plt.plot(downsampled, label=politicalness)\n",
    "\n",
    "plt.xlabel(\"downsampled index\")\n",
    "plt.ylabel(\"body length\")\n",
    "plt.title(\"body length by politicalness\")\n",
    "plt.legend(title=\"politicalness\")\n",
    "plt.show()"
   ],
   "id": "7c7e1a54bf0908d5",
   "outputs": [],
   "execution_count": null
  },
  {
   "metadata": {},
   "cell_type": "code",
   "source": "df.to_parquet(\"../preprocessed/pens.parquet\")",
   "id": "b0e42a22a87ab15d",
   "outputs": [],
   "execution_count": null
  }
 ],
 "metadata": {
  "kernelspec": {
   "display_name": "Python 3",
   "language": "python",
   "name": "python3"
  },
  "language_info": {
   "codemirror_mode": {
    "name": "ipython",
    "version": 2
   },
   "file_extension": ".py",
   "mimetype": "text/x-python",
   "name": "python",
   "nbconvert_exporter": "python",
   "pygments_lexer": "ipython2",
   "version": "2.7.6"
  }
 },
 "nbformat": 4,
 "nbformat_minor": 5
}
