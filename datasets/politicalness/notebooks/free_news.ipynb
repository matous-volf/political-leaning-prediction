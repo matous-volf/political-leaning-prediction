{
 "cells": [
  {
   "metadata": {},
   "cell_type": "code",
   "source": [
    "import json\n",
    "import os\n",
    "import zipfile\n",
    "\n",
    "import numpy as np\n",
    "import pandas as pd\n",
    "from matplotlib import pyplot as plt"
   ],
   "id": "f006a5f54571ea0c",
   "outputs": [],
   "execution_count": null
  },
  {
   "metadata": {},
   "cell_type": "markdown",
   "source": "Reading the raw dataset.",
   "id": "1a77d091769edef8"
  },
  {
   "cell_type": "code",
   "id": "initial_id",
   "metadata": {
    "collapsed": true
   },
   "source": [
    "raw_directory = \"../raw/free-news-datasets/News_Datasets\"\n",
    "\n",
    "for filename in os.listdir(raw_directory):\n",
    "    if filename.endswith(\".zip\"):\n",
    "        path = os.path.join(raw_directory, filename)\n",
    "        with zipfile.ZipFile(path, \"r\") as zip_ref:\n",
    "            zip_ref.extractall(raw_directory)\n",
    "\n",
    "data = []\n",
    "for subdirectory_name in os.listdir(raw_directory):\n",
    "    subdirectory_path = os.path.join(raw_directory, subdirectory_name)\n",
    "\n",
    "    if not os.path.isdir(subdirectory_path):\n",
    "        continue\n",
    "\n",
    "    for filename in os.listdir(subdirectory_path):\n",
    "        path = os.path.join(subdirectory_path, filename)\n",
    "        with open(path, \"r\") as file:\n",
    "            data.append(json.load(file))\n",
    "\n",
    "df = pd.DataFrame(data)\n",
    "df"
   ],
   "outputs": [],
   "execution_count": null
  },
  {
   "metadata": {},
   "cell_type": "markdown",
   "source": "Dropping useless columns.",
   "id": "1d7a4c7bece5b941"
  },
  {
   "metadata": {},
   "cell_type": "code",
   "source": "df = df[[\"title\", \"text\", \"categories\", \"language\"]]",
   "id": "b6fbd2caf39b1813",
   "outputs": [],
   "execution_count": null
  },
  {
   "metadata": {},
   "cell_type": "markdown",
   "source": "Renaming columns.",
   "id": "e45a557b8ab8df23"
  },
  {
   "metadata": {},
   "cell_type": "code",
   "source": "df = df.rename(columns={\"text\": \"body\"})",
   "id": "8594f124b6f90699",
   "outputs": [],
   "execution_count": null
  },
  {
   "metadata": {},
   "cell_type": "markdown",
   "source": "Dropping non-English rows.",
   "id": "66e539291f037843"
  },
  {
   "metadata": {},
   "cell_type": "code",
   "source": "df[\"language\"].unique()",
   "id": "7cafdd1a840021b8",
   "outputs": [],
   "execution_count": null
  },
  {
   "metadata": {},
   "cell_type": "code",
   "source": "df = df[df[\"language\"] == \"english\"]",
   "id": "4dd4894cb72e5d8a",
   "outputs": [],
   "execution_count": null
  },
  {
   "metadata": {},
   "cell_type": "markdown",
   "source": "Stripping the titles and the bodies.",
   "id": "fdc79612f0d2be87"
  },
  {
   "metadata": {},
   "cell_type": "code",
   "source": [
    "df[\"title\"] = (df[\"title\"].str.strip()).replace(\"\", np.nan)\n",
    "df[\"body\"] = (df[\"body\"].str.strip()).replace(\"\", np.nan)"
   ],
   "id": "5111c54b378b5209",
   "outputs": [],
   "execution_count": null
  },
  {
   "metadata": {},
   "cell_type": "markdown",
   "source": "Dropping rows missing either the categories or both the title and the body.",
   "id": "31c15b8a9cf72848"
  },
  {
   "metadata": {},
   "cell_type": "code",
   "source": [
    "df = df.dropna(subset=[\"categories\"])\n",
    "df = df.dropna(subset=[\"title\", \"body\"], how=\"all\")"
   ],
   "id": "cd14de31e69ca2f8",
   "outputs": [],
   "execution_count": null
  },
  {
   "metadata": {},
   "cell_type": "markdown",
   "source": "Adding the politicalness label column.",
   "id": "a8cdd139a2cabc14"
  },
  {
   "metadata": {},
   "cell_type": "code",
   "source": "df[\"politicalness\"] = pd.Categorical([\"non-political\"] * len(df), categories=[\"political\", \"non-political\"])",
   "id": "89fa44a297b02c7",
   "outputs": [],
   "execution_count": null
  },
  {
   "metadata": {},
   "cell_type": "markdown",
   "source": "Marking rows with political categories as political.",
   "id": "829c6cb3c9a5f7fe"
  },
  {
   "metadata": {},
   "cell_type": "code",
   "source": "pd.Series([category for categories in df[\"categories\"] for category in categories]).unique()",
   "id": "8a7cb0f012076116",
   "outputs": [],
   "execution_count": null
  },
  {
   "metadata": {},
   "cell_type": "code",
   "source": [
    "political_categories = {\n",
    "    \"Politics\",\n",
    "}\n",
    "\n",
    "df.loc[~df[\"categories\"].map(political_categories.isdisjoint), \"politicalness\"] = \"political\""
   ],
   "id": "7042674f1fa84a7a",
   "outputs": [],
   "execution_count": null
  },
  {
   "metadata": {},
   "cell_type": "markdown",
   "source": "Dropping rows with potentially politically ambiguous categories.",
   "id": "6edd5890afa34bd7"
  },
  {
   "metadata": {},
   "cell_type": "code",
   "source": [
    "ambiguous_categories = {\n",
    "    \"Social Issue\",\n",
    "    \"War, Conflict and Unrest\",\n",
    "    \"Crime, Law and Justice\",\n",
    "    \"Environment\",\n",
    "    \"Financial and Economic News\",\n",
    "    \"Business and Market Analysis\",\n",
    "    \"Corporate Governance and CSR\",\n",
    "    \"Religion and Belief\",\n",
    "}\n",
    "\n",
    "df = df[df[\"categories\"].map(ambiguous_categories.isdisjoint)]"
   ],
   "id": "3b65f6a5775f5e28",
   "outputs": [],
   "execution_count": null
  },
  {
   "metadata": {},
   "cell_type": "markdown",
   "source": "Dropping useless columns.",
   "id": "161596f30885ee82"
  },
  {
   "metadata": {},
   "cell_type": "code",
   "source": "df = df.drop(columns=[\"categories\", \"language\"])",
   "id": "b53da31dec510941",
   "outputs": [],
   "execution_count": null
  },
  {
   "metadata": {},
   "cell_type": "markdown",
   "source": "Printing body duplicates.",
   "id": "deb5653b24590b68"
  },
  {
   "metadata": {},
   "cell_type": "code",
   "source": "df[df.duplicated(subset=\"body\", keep=False)]",
   "id": "54cf2cfe9a82e886",
   "outputs": [],
   "execution_count": null
  },
  {
   "metadata": {},
   "cell_type": "markdown",
   "source": "Dropping the body duplicates.",
   "id": "c74ff49322d5eb3e"
  },
  {
   "metadata": {},
   "cell_type": "code",
   "source": "df = df.drop_duplicates(subset=\"body\")",
   "id": "933f5131d3dd3ad4",
   "outputs": [],
   "execution_count": null
  },
  {
   "metadata": {},
   "cell_type": "markdown",
   "source": "Inspecting the title and the body length.",
   "id": "e39a9b1ad88c5890"
  },
  {
   "metadata": {},
   "cell_type": "code",
   "source": [
    "df[\"title_length\"] = df[\"title\"].fillna(\"\").str.len()\n",
    "df[\"title_word_count\"] = df[\"title\"].fillna(\"\").str.split().str.len()\n",
    "df[\"body_length\"] = df[\"body\"].fillna(\"\").str.len()\n",
    "df[\"body_word_count\"] = df[\"body\"].fillna(\"\").str.split().str.len()\n",
    "df = df.sort_values(by=\"body_length\")\n",
    "df.head()"
   ],
   "id": "9b7b57ab04ccd38",
   "outputs": [],
   "execution_count": null
  },
  {
   "metadata": {},
   "cell_type": "code",
   "source": [
    "# Ensuring to include the last (longest) item.\n",
    "downsampled = pd.concat([df[\"body_length\"].iloc[::100], df[\"body_length\"].tail(1)]).drop_duplicates()\n",
    "downsampled.plot.bar().xaxis.set_ticks([]);"
   ],
   "id": "f35d54ce96989ac2",
   "outputs": [],
   "execution_count": null
  },
  {
   "metadata": {},
   "cell_type": "code",
   "source": "df[\"title_word_count\"].median()",
   "id": "53fa7f3dfe2437d2",
   "outputs": [],
   "execution_count": null
  },
  {
   "metadata": {},
   "cell_type": "code",
   "source": "df[\"body_word_count\"].median()",
   "id": "5bcddd2a321b8f1c",
   "outputs": [],
   "execution_count": null
  },
  {
   "metadata": {},
   "cell_type": "markdown",
   "source": "The politicalness distribution.",
   "id": "af54b750bc888abe"
  },
  {
   "metadata": {},
   "cell_type": "code",
   "source": "df.groupby(\"politicalness\", observed=True).size().plot.pie(autopct=\"%1.1f%%\");",
   "id": "41559a15b87f6ab0",
   "outputs": [],
   "execution_count": null
  },
  {
   "metadata": {},
   "cell_type": "markdown",
   "source": "The distribution of body length sums per politicalness.",
   "id": "3c7f3cd450616dec"
  },
  {
   "metadata": {},
   "cell_type": "code",
   "source": "df.groupby(\"politicalness\", observed=True)[\"body_length\"].sum().plot.pie(autopct=\"%1.1f%%\", ylabel=\"\");",
   "id": "f992a2e0f4e4f788",
   "outputs": [],
   "execution_count": null
  },
  {
   "metadata": {},
   "cell_type": "markdown",
   "source": "The body length distribution by politicalness.",
   "id": "b701aa6e68d691db"
  },
  {
   "metadata": {},
   "cell_type": "code",
   "source": [
    "plt.figure(figsize=(10, 6))\n",
    "\n",
    "for politicalness in df[\"politicalness\"].unique():\n",
    "    df_politicalness = df[df[\"politicalness\"] == politicalness]\n",
    "    downsampled = pd.concat(\n",
    "        # Ensuring to include the last (longest) item.\n",
    "        [df_politicalness[\"body_length\"].iloc[::10], df_politicalness[\"body_length\"].tail(1)]\n",
    "    ).drop_duplicates().reset_index(drop=True)\n",
    "    plt.plot(downsampled, label=politicalness)\n",
    "\n",
    "plt.xlabel(\"downsampled index\")\n",
    "plt.ylabel(\"body length\")\n",
    "plt.title(\"body length by politicalness\")\n",
    "plt.legend(title=\"politicalness\")\n",
    "plt.show()"
   ],
   "id": "7c7e1a54bf0908d5",
   "outputs": [],
   "execution_count": null
  },
  {
   "metadata": {},
   "cell_type": "code",
   "source": "df.to_parquet(\"../preprocessed/free_news.parquet\")",
   "id": "b0e42a22a87ab15d",
   "outputs": [],
   "execution_count": null
  }
 ],
 "metadata": {
  "kernelspec": {
   "display_name": "Python 3",
   "language": "python",
   "name": "python3"
  },
  "language_info": {
   "codemirror_mode": {
    "name": "ipython",
    "version": 2
   },
   "file_extension": ".py",
   "mimetype": "text/x-python",
   "name": "python",
   "nbconvert_exporter": "python",
   "pygments_lexer": "ipython2",
   "version": "2.7.6"
  }
 },
 "nbformat": 4,
 "nbformat_minor": 5
}
