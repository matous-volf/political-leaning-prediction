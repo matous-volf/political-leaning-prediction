{
 "cells": [
  {
   "metadata": {},
   "cell_type": "code",
   "source": [
    "import numpy as np\n",
    "import pandas as pd\n",
    "from datasets import Dataset, concatenate_datasets, load_dataset"
   ],
   "id": "f006a5f54571ea0c",
   "outputs": [],
   "execution_count": null
  },
  {
   "metadata": {},
   "cell_type": "markdown",
   "source": "Reading the raw dataset.",
   "id": "1a77d091769edef8"
  },
  {
   "cell_type": "code",
   "id": "initial_id",
   "metadata": {
    "collapsed": true
   },
   "source": [
    "subreddit_sample_size = 5_000\n",
    "# Removed \"changemyview\" and \"UpliftingNews\", since they may contain significant amount of political topics.\n",
    "subreddits = [\n",
    "    \"tifu\",\n",
    "    \"explainlikeimfive\",\n",
    "    \"WritingPrompts\",\n",
    "    \"LifeProTips\",\n",
    "    \"todayilearned\",\n",
    "    \"science\",\n",
    "    \"askscience\",\n",
    "    \"ifyoulikeblank\",\n",
    "    \"Foodforthought\",\n",
    "    \"IWantToLearn\",\n",
    "    \"bestof\",\n",
    "    \"IAmA\",\n",
    "    \"socialskills\",\n",
    "    \"relationship_advice\",\n",
    "    \"philosophy\",\n",
    "    \"YouShouldKnow\",\n",
    "    \"history\",\n",
    "    \"books\",\n",
    "    \"Showerthoughts\",\n",
    "    \"personalfinance\",\n",
    "    \"buildapc\",\n",
    "    \"EatCheapAndHealthy\",\n",
    "    \"boardgames\",\n",
    "    \"malefashionadvice\",\n",
    "    \"femalefashionadvice\",\n",
    "    \"scifi\",\n",
    "    \"Fantasy\",\n",
    "    \"Games\",\n",
    "    \"bodyweightfitness\",\n",
    "    \"SkincareAddiction\",\n",
    "    \"podcasts\",\n",
    "    \"suggestmeabook\",\n",
    "    \"AskHistorians\",\n",
    "    \"gaming\",\n",
    "    \"DIY\",\n",
    "    \"mildlyinteresting\",\n",
    "    \"sports\",\n",
    "    \"space\",\n",
    "    \"gadgets\",\n",
    "    \"Documentaries\",\n",
    "    \"GetMotivated\",\n",
    "    \"technology\",\n",
    "    \"Fitness\",\n",
    "    \"travel\",\n",
    "    \"lifehacks\",\n",
    "    \"Damnthatsinteresting\",\n",
    "    \"gardening\",\n",
    "    \"programming\",\n",
    "]\n",
    "\n",
    "iterable_dataset = concatenate_datasets(\n",
    "    [load_dataset(\n",
    "        \"HuggingFaceGECLM/REDDIT_comments\",\n",
    "        revision=\"54779d3d1f1c1b12e5989f695e13d38b394a558f\",\n",
    "        split=subreddit,\n",
    "        streaming=True,\n",
    "    ).take(subreddit_sample_size).select_columns([\"body\"]) for subreddit in subreddits]\n",
    ")\n",
    "df = Dataset.from_generator(lambda: (yield from iterable_dataset), features=iterable_dataset.features).to_pandas()\n",
    "df"
   ],
   "outputs": [],
   "execution_count": null
  },
  {
   "metadata": {},
   "cell_type": "markdown",
   "source": "Removing `[deleted]` from the bodies.",
   "id": "e4402af3211285a9"
  },
  {
   "metadata": {},
   "cell_type": "code",
   "source": "df[\"body\"] = df[\"body\"].str.replace(\"[deleted]\", \"\", regex=False)",
   "id": "def4f6b72267c72c",
   "outputs": [],
   "execution_count": null
  },
  {
   "metadata": {},
   "cell_type": "markdown",
   "source": "Stripping the bodies.",
   "id": "565ffe26ced7575a"
  },
  {
   "metadata": {},
   "cell_type": "code",
   "source": "df[\"body\"] = (df[\"body\"].str.strip()).replace(\"\", np.nan)",
   "id": "4b6a22b83468122a",
   "outputs": [],
   "execution_count": null
  },
  {
   "metadata": {},
   "cell_type": "markdown",
   "source": "Dropping rows with missing data.",
   "id": "1decdf712cbf2012"
  },
  {
   "metadata": {},
   "cell_type": "code",
   "source": "df = df.dropna()",
   "id": "8dbd9a70099c7ddf",
   "outputs": [],
   "execution_count": null
  },
  {
   "metadata": {},
   "cell_type": "markdown",
   "source": "Printing body duplicates.",
   "id": "c181baa849a81dcd"
  },
  {
   "metadata": {},
   "cell_type": "code",
   "source": "df[df[\"body\"].duplicated(keep=False)]",
   "id": "dd0ae078f07a75fd",
   "outputs": [],
   "execution_count": null
  },
  {
   "metadata": {},
   "cell_type": "markdown",
   "source": "Dropping the body duplicates.",
   "id": "3a061a10bf090220"
  },
  {
   "metadata": {},
   "cell_type": "code",
   "source": "df = df.drop_duplicates(subset=\"body\")",
   "id": "e87e56832e288ca4",
   "outputs": [],
   "execution_count": null
  },
  {
   "metadata": {},
   "cell_type": "markdown",
   "source": "Adding the politicalness label column.",
   "id": "d814f07fa252fda1"
  },
  {
   "metadata": {},
   "cell_type": "code",
   "source": "df[\"politicalness\"] = pd.Categorical([\"non-political\"] * len(df))",
   "id": "17aed87dc4f0ddcb",
   "outputs": [],
   "execution_count": null
  },
  {
   "metadata": {},
   "cell_type": "markdown",
   "source": "Inspecting the body length.",
   "id": "ff6ce45c7e5cf777"
  },
  {
   "metadata": {},
   "cell_type": "code",
   "source": [
    "df[\"body_length\"] = df[\"body\"].fillna(\"\").str.len()\n",
    "df[\"body_word_count\"] = df[\"body\"].fillna(\"\").str.split().str.len()\n",
    "df = df.sort_values(by=\"body_length\")\n",
    "df.head()"
   ],
   "id": "ede6ac13d07cc5be",
   "outputs": [],
   "execution_count": null
  },
  {
   "metadata": {},
   "cell_type": "markdown",
   "source": "After the inspection, rows with bodies shorter than 3 words seem to contain no useful value. Removing them.",
   "id": "2bc2c95335869619"
  },
  {
   "metadata": {},
   "cell_type": "code",
   "source": [
    "body_word_count_lower_bound = 3\n",
    "df = df[df[\"body_word_count\"] >= body_word_count_lower_bound]\n",
    "# Ensuring to include the last (longest) item.\n",
    "downsampled = pd.concat([df[\"body_length\"].iloc[::1000], df[\"body_length\"].tail(1)]).drop_duplicates()\n",
    "downsampled.plot.bar().xaxis.set_ticks([]);"
   ],
   "id": "f274d82e29aa5759",
   "outputs": [],
   "execution_count": null
  },
  {
   "metadata": {},
   "cell_type": "code",
   "source": "df[\"body_length\"].mean()",
   "id": "14549f5b05ee9dda",
   "outputs": [],
   "execution_count": null
  },
  {
   "metadata": {},
   "cell_type": "code",
   "source": "df.to_parquet(\"../preprocessed/reddit_comments.parquet\")",
   "id": "b0e42a22a87ab15d",
   "outputs": [],
   "execution_count": null
  }
 ],
 "metadata": {
  "kernelspec": {
   "display_name": "Python 3",
   "language": "python",
   "name": "python3"
  },
  "language_info": {
   "codemirror_mode": {
    "name": "ipython",
    "version": 2
   },
   "file_extension": ".py",
   "mimetype": "text/x-python",
   "name": "python",
   "nbconvert_exporter": "python",
   "pygments_lexer": "ipython2",
   "version": "2.7.6"
  }
 },
 "nbformat": 4,
 "nbformat_minor": 5
}
