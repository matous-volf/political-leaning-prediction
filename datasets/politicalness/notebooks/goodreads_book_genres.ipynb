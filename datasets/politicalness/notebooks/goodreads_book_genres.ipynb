{
 "cells": [
  {
   "metadata": {},
   "cell_type": "code",
   "source": [
    "import numpy as np\n",
    "import pandas as pd\n",
    "from datasets import concatenate_datasets, load_dataset\n"
   ],
   "id": "f006a5f54571ea0c",
   "outputs": [],
   "execution_count": null
  },
  {
   "metadata": {},
   "cell_type": "markdown",
   "source": "Reading the raw dataset.",
   "id": "1a77d091769edef8"
  },
  {
   "cell_type": "code",
   "id": "initial_id",
   "metadata": {
    "collapsed": true
   },
   "source": [
    "ds = load_dataset(\n",
    "    \"pszemraj/goodreads-bookgenres\",\n",
    "    \"default\",\n",
    "    revision=\"c4b00cd5b71cfb62687ddbd0e9c1c9d6a06e8d80\",\n",
    ")\n",
    "df = concatenate_datasets(ds.values()).to_pandas()\n",
    "df\n"
   ],
   "outputs": [],
   "execution_count": null
  },
  {
   "metadata": {},
   "cell_type": "markdown",
   "source": "Dropping useless columns.",
   "id": "1d7a4c7bece5b941"
  },
  {
   "metadata": {},
   "cell_type": "code",
   "source": [
    "df = df.drop(columns=[\"Book\"])\n"
   ],
   "id": "b6fbd2caf39b1813",
   "outputs": [],
   "execution_count": null
  },
  {
   "metadata": {},
   "cell_type": "markdown",
   "source": "Renaming columns.",
   "id": "e039ae0c4d31e0c5"
  },
  {
   "metadata": {},
   "cell_type": "code",
   "source": [
    "df = df.rename(columns={\"Description\": \"body\", \"Genres\": \"genres\"})\n"
   ],
   "id": "6e7057c08427a66b",
   "outputs": [],
   "execution_count": null
  },
  {
   "metadata": {},
   "cell_type": "markdown",
   "source": "Stripping the bodies.",
   "id": "aec7dfbf30be112c"
  },
  {
   "metadata": {},
   "cell_type": "code",
   "source": [
    "df[\"body\"] = (df[\"body\"].str.strip()).replace(\"\", np.nan)\n"
   ],
   "id": "a00255a5155e3445",
   "outputs": [],
   "execution_count": null
  },
  {
   "metadata": {},
   "cell_type": "markdown",
   "source": "Dropping rows with missing data.",
   "id": "1decdf712cbf2012"
  },
  {
   "metadata": {},
   "cell_type": "code",
   "source": [
    "df = df.dropna()\n"
   ],
   "id": "8dbd9a70099c7ddf",
   "outputs": [],
   "execution_count": null
  },
  {
   "metadata": {},
   "cell_type": "markdown",
   "source": "Dropping rows with potentially politically ambiguous genres.",
   "id": "aed74d0c3879dc3"
  },
  {
   "metadata": {},
   "cell_type": "code",
   "source": [
    "genres = [\n",
    "    \"History & Politics\",\n",
    "    \"Health & Medicine\",\n",
    "    \"Mystery & Thriller\",\n",
    "    \"Arts & Design\",\n",
    "    \"Self-Help & Wellness\",\n",
    "    \"Sports & Recreation\",\n",
    "    \"Non-Fiction\",\n",
    "    \"Science Fiction & Fantasy\",\n",
    "    \"Countries & Geography\",\n",
    "    \"Other\",\n",
    "    \"Nature & Environment\",\n",
    "    \"Business & Finance\",\n",
    "    \"Romance\",\n",
    "    \"Philosophy & Religion\",\n",
    "    \"Literature & Fiction\",\n",
    "    \"Science & Technology\",\n",
    "    \"Children & Young Adult\",\n",
    "    \"Food & Cooking\",\n",
    "]\n",
    "\n",
    "ambiguous_genre_indexes = [\n",
    "    genres.index(ambiguous_genre)\n",
    "    for ambiguous_genre in [\n",
    "        \"History & Politics\",\n",
    "        \"Other\",\n",
    "    ]\n",
    "]\n",
    "\n",
    "df = df[\n",
    "    df[\"genres\"].apply(\n",
    "        lambda genres: not any(genres[index] == 1 for index in ambiguous_genre_indexes)\n",
    "    )\n",
    "]\n"
   ],
   "id": "91f1b3bc5519659b",
   "outputs": [],
   "execution_count": null
  },
  {
   "metadata": {},
   "cell_type": "markdown",
   "source": "Dropping useless columns.",
   "id": "f20bd570e8947cd3"
  },
  {
   "metadata": {},
   "cell_type": "code",
   "source": [
    "df = df.drop(columns=[\"genres\"])\n"
   ],
   "id": "179cf8e243b9d536",
   "outputs": [],
   "execution_count": null
  },
  {
   "metadata": {},
   "cell_type": "markdown",
   "source": "Printing body duplicates.",
   "id": "deb5653b24590b68"
  },
  {
   "metadata": {},
   "cell_type": "code",
   "source": [
    "df[df[\"body\"].duplicated(keep=False)]\n"
   ],
   "id": "54cf2cfe9a82e886",
   "outputs": [],
   "execution_count": null
  },
  {
   "metadata": {},
   "cell_type": "markdown",
   "source": "Dropping the body duplicates.",
   "id": "c74ff49322d5eb3e"
  },
  {
   "metadata": {},
   "cell_type": "code",
   "source": [
    "df = df.drop_duplicates(subset=\"body\")\n"
   ],
   "id": "933f5131d3dd3ad4",
   "outputs": [],
   "execution_count": null
  },
  {
   "metadata": {},
   "cell_type": "markdown",
   "source": "Adding the politicalness label column.",
   "id": "d814f07fa252fda1"
  },
  {
   "metadata": {},
   "cell_type": "code",
   "source": [
    "df[\"politicalness\"] = pd.Categorical([\"non-political\"] * len(df))\n"
   ],
   "id": "17aed87dc4f0ddcb",
   "outputs": [],
   "execution_count": null
  },
  {
   "metadata": {},
   "cell_type": "markdown",
   "source": "Inspecting the body length.",
   "id": "e39a9b1ad88c5890"
  },
  {
   "metadata": {},
   "cell_type": "code",
   "source": [
    "df[\"body_length\"] = df[\"body\"].fillna(\"\").str.len()\n",
    "df[\"body_word_count\"] = df[\"body\"].fillna(\"\").str.split().str.len()\n",
    "df = df.sort_values(by=\"body_length\")\n",
    "df.head()\n"
   ],
   "id": "9b7b57ab04ccd38",
   "outputs": [],
   "execution_count": null
  },
  {
   "metadata": {},
   "cell_type": "code",
   "source": [
    "df.to_parquet(\"../preprocessed/goodreads_book_genres.parquet\")\n"
   ],
   "id": "b0e42a22a87ab15d",
   "outputs": [],
   "execution_count": null
  }
 ],
 "metadata": {
  "kernelspec": {
   "display_name": "Python 3",
   "language": "python",
   "name": "python3"
  },
  "language_info": {
   "codemirror_mode": {
    "name": "ipython",
    "version": 2
   },
   "file_extension": ".py",
   "mimetype": "text/x-python",
   "name": "python",
   "nbconvert_exporter": "python",
   "pygments_lexer": "ipython2",
   "version": "2.7.6"
  }
 },
 "nbformat": 4,
 "nbformat_minor": 5
}