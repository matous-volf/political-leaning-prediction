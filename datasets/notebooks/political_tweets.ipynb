{
 "cells": [
  {
   "cell_type": "code",
   "id": "0",
   "metadata": {
    "ExecuteTime": {
     "end_time": "2024-11-28T15:15:21.281551Z",
     "start_time": "2024-11-28T15:15:20.071074Z"
    }
   },
   "source": [
    "import pandas as pd\n",
    "from datasets import load_dataset, concatenate_datasets\n",
    "from matplotlib import pyplot as plt"
   ],
   "outputs": [],
   "execution_count": 1
  },
  {
   "cell_type": "markdown",
   "id": "1",
   "metadata": {},
   "source": [
    "Reading the raw dataset."
   ]
  },
  {
   "cell_type": "code",
   "id": "2",
   "metadata": {
    "ExecuteTime": {
     "end_time": "2024-11-28T15:15:26.900055Z",
     "start_time": "2024-11-28T15:15:21.294405Z"
    }
   },
   "source": [
    "ds = load_dataset(\n",
    "    \"Jacobvs/PoliticalTweets\",\n",
    "    revision=\"1ddaa14beed79edda621fdd72ad22fd654d760b3\"\n",
    ")\n",
    "df = concatenate_datasets(ds.values()).to_pandas()\n",
    "df = df.set_index(\"index\").rename_axis(None)\n",
    "df"
   ],
   "outputs": [
    {
     "data": {
      "text/plain": [
       "README.md:   0%|          | 0.00/21.0 [00:00<?, ?B/s]"
      ],
      "application/vnd.jupyter.widget-view+json": {
       "version_major": 2,
       "version_minor": 0,
       "model_id": "51d06303432e400085f71d5a07ff78d3"
      }
     },
     "metadata": {},
     "output_type": "display_data"
    },
    {
     "data": {
      "text/plain": [
       "formatted_data.parquet:   0%|          | 0.00/26.6M [00:00<?, ?B/s]"
      ],
      "application/vnd.jupyter.widget-view+json": {
       "version_major": 2,
       "version_minor": 0,
       "model_id": "ac62a517d76542b1beee1b3afbc1777e"
      }
     },
     "metadata": {},
     "output_type": "display_data"
    },
    {
     "data": {
      "text/plain": [
       "Generating train split: 0 examples [00:00, ? examples/s]"
      ],
      "application/vnd.jupyter.widget-view+json": {
       "version_major": 2,
       "version_minor": 0,
       "model_id": "6ad6f49c86b34df5a109f58dc6c77a5a"
      }
     },
     "metadata": {},
     "output_type": "display_data"
    },
    {
     "data": {
      "text/plain": [
       "                       date                   id         username  \\\n",
       "0       2021-10-13 19:47:44  1448374915636383745    SenatorHassan   \n",
       "1       2021-06-30 14:53:13  1410250073003462656  SenatorMenendez   \n",
       "2       2021-08-08 01:11:29  1424176405881966599   SenBillCassidy   \n",
       "3       2021-04-14 14:02:49  1382333523567185921    SenBlumenthal   \n",
       "4       2021-12-11 16:06:38  1469700160934621188     SenatorBraun   \n",
       "...                     ...                  ...              ...   \n",
       "191475  2022-05-13 15:00:51  1525128949583462402       RepWalberg   \n",
       "191476  2022-05-12 20:36:47  1524851099211120640       RepWalberg   \n",
       "191477  2022-05-12 17:47:11  1524808421488336896       RepWalberg   \n",
       "191478  2022-05-12 15:26:15  1524772953501712384       RepWalberg   \n",
       "191479  2022-05-12 14:42:31  1524761948155437059       RepWalberg   \n",
       "\n",
       "                                                     text       party  labels  \n",
       "0       Happy th birthday to the @USNavy! The strength...    Democrat       1  \n",
       "1       The greatest generation's investment in infras...    Democrat       1  \n",
       "2       Thanks to @SenTedCruz and  @SenatorWarnock, th...  Republican       0  \n",
       "3       / To get lasting change we cant just lock up t...    Democrat       1  \n",
       "4       Today were celebrating years of the Hoosier st...  Republican       0  \n",
       "...                                                   ...         ...     ...  \n",
       "191475  Religious liberty is foundational to America. ...  Republican       0  \n",
       "191476  During #NationalPoliceWeek, I want to give a h...  Republican       0  \n",
       "191477  The same week that gas prices hit a record hig...  Republican       0  \n",
       "191478  Amid another mounting crisis—a nationwide shor...  Republican       0  \n",
       "191479  Unreal. Just one more reason the @DHSgov  \"Dis...  Republican       0  \n",
       "\n",
       "[190491 rows x 6 columns]"
      ],
      "text/html": [
       "<div>\n",
       "<style scoped>\n",
       "    .dataframe tbody tr th:only-of-type {\n",
       "        vertical-align: middle;\n",
       "    }\n",
       "\n",
       "    .dataframe tbody tr th {\n",
       "        vertical-align: top;\n",
       "    }\n",
       "\n",
       "    .dataframe thead th {\n",
       "        text-align: right;\n",
       "    }\n",
       "</style>\n",
       "<table border=\"1\" class=\"dataframe\">\n",
       "  <thead>\n",
       "    <tr style=\"text-align: right;\">\n",
       "      <th></th>\n",
       "      <th>date</th>\n",
       "      <th>id</th>\n",
       "      <th>username</th>\n",
       "      <th>text</th>\n",
       "      <th>party</th>\n",
       "      <th>labels</th>\n",
       "    </tr>\n",
       "  </thead>\n",
       "  <tbody>\n",
       "    <tr>\n",
       "      <th>0</th>\n",
       "      <td>2021-10-13 19:47:44</td>\n",
       "      <td>1448374915636383745</td>\n",
       "      <td>SenatorHassan</td>\n",
       "      <td>Happy th birthday to the @USNavy! The strength...</td>\n",
       "      <td>Democrat</td>\n",
       "      <td>1</td>\n",
       "    </tr>\n",
       "    <tr>\n",
       "      <th>1</th>\n",
       "      <td>2021-06-30 14:53:13</td>\n",
       "      <td>1410250073003462656</td>\n",
       "      <td>SenatorMenendez</td>\n",
       "      <td>The greatest generation's investment in infras...</td>\n",
       "      <td>Democrat</td>\n",
       "      <td>1</td>\n",
       "    </tr>\n",
       "    <tr>\n",
       "      <th>2</th>\n",
       "      <td>2021-08-08 01:11:29</td>\n",
       "      <td>1424176405881966599</td>\n",
       "      <td>SenBillCassidy</td>\n",
       "      <td>Thanks to @SenTedCruz and  @SenatorWarnock, th...</td>\n",
       "      <td>Republican</td>\n",
       "      <td>0</td>\n",
       "    </tr>\n",
       "    <tr>\n",
       "      <th>3</th>\n",
       "      <td>2021-04-14 14:02:49</td>\n",
       "      <td>1382333523567185921</td>\n",
       "      <td>SenBlumenthal</td>\n",
       "      <td>/ To get lasting change we cant just lock up t...</td>\n",
       "      <td>Democrat</td>\n",
       "      <td>1</td>\n",
       "    </tr>\n",
       "    <tr>\n",
       "      <th>4</th>\n",
       "      <td>2021-12-11 16:06:38</td>\n",
       "      <td>1469700160934621188</td>\n",
       "      <td>SenatorBraun</td>\n",
       "      <td>Today were celebrating years of the Hoosier st...</td>\n",
       "      <td>Republican</td>\n",
       "      <td>0</td>\n",
       "    </tr>\n",
       "    <tr>\n",
       "      <th>...</th>\n",
       "      <td>...</td>\n",
       "      <td>...</td>\n",
       "      <td>...</td>\n",
       "      <td>...</td>\n",
       "      <td>...</td>\n",
       "      <td>...</td>\n",
       "    </tr>\n",
       "    <tr>\n",
       "      <th>191475</th>\n",
       "      <td>2022-05-13 15:00:51</td>\n",
       "      <td>1525128949583462402</td>\n",
       "      <td>RepWalberg</td>\n",
       "      <td>Religious liberty is foundational to America. ...</td>\n",
       "      <td>Republican</td>\n",
       "      <td>0</td>\n",
       "    </tr>\n",
       "    <tr>\n",
       "      <th>191476</th>\n",
       "      <td>2022-05-12 20:36:47</td>\n",
       "      <td>1524851099211120640</td>\n",
       "      <td>RepWalberg</td>\n",
       "      <td>During #NationalPoliceWeek, I want to give a h...</td>\n",
       "      <td>Republican</td>\n",
       "      <td>0</td>\n",
       "    </tr>\n",
       "    <tr>\n",
       "      <th>191477</th>\n",
       "      <td>2022-05-12 17:47:11</td>\n",
       "      <td>1524808421488336896</td>\n",
       "      <td>RepWalberg</td>\n",
       "      <td>The same week that gas prices hit a record hig...</td>\n",
       "      <td>Republican</td>\n",
       "      <td>0</td>\n",
       "    </tr>\n",
       "    <tr>\n",
       "      <th>191478</th>\n",
       "      <td>2022-05-12 15:26:15</td>\n",
       "      <td>1524772953501712384</td>\n",
       "      <td>RepWalberg</td>\n",
       "      <td>Amid another mounting crisis—a nationwide shor...</td>\n",
       "      <td>Republican</td>\n",
       "      <td>0</td>\n",
       "    </tr>\n",
       "    <tr>\n",
       "      <th>191479</th>\n",
       "      <td>2022-05-12 14:42:31</td>\n",
       "      <td>1524761948155437059</td>\n",
       "      <td>RepWalberg</td>\n",
       "      <td>Unreal. Just one more reason the @DHSgov  \"Dis...</td>\n",
       "      <td>Republican</td>\n",
       "      <td>0</td>\n",
       "    </tr>\n",
       "  </tbody>\n",
       "</table>\n",
       "<p>190491 rows × 6 columns</p>\n",
       "</div>"
      ]
     },
     "execution_count": 2,
     "metadata": {},
     "output_type": "execute_result"
    }
   ],
   "execution_count": 2
  },
  {
   "cell_type": "markdown",
   "id": "3",
   "metadata": {},
   "source": [
    "Dropping useless columns."
   ]
  },
  {
   "cell_type": "code",
   "id": "4",
   "metadata": {
    "ExecuteTime": {
     "end_time": "2024-11-28T15:15:27.067748Z",
     "start_time": "2024-11-28T15:15:27.056673Z"
    }
   },
   "source": "df = df.drop(columns=[\"id\", \"username\", \"labels\"])",
   "outputs": [],
   "execution_count": 3
  },
  {
   "cell_type": "markdown",
   "id": "5",
   "metadata": {},
   "source": [
    "Renaming columns."
   ]
  },
  {
   "cell_type": "code",
   "id": "6",
   "metadata": {
    "ExecuteTime": {
     "end_time": "2024-11-28T15:15:27.136541Z",
     "start_time": "2024-11-28T15:15:27.120474Z"
    }
   },
   "source": "df = df.rename(columns={\"text\": \"body\", \"party\": \"leaning\"})",
   "outputs": [],
   "execution_count": 4
  },
  {
   "cell_type": "markdown",
   "id": "7",
   "metadata": {},
   "source": [
    "Categorizing the leaning column."
   ]
  },
  {
   "cell_type": "code",
   "id": "8",
   "metadata": {
    "ExecuteTime": {
     "end_time": "2024-11-28T15:15:27.179395Z",
     "start_time": "2024-11-28T15:15:27.160591Z"
    }
   },
   "source": [
    "df[\"leaning\"].unique()"
   ],
   "outputs": [
    {
     "data": {
      "text/plain": [
       "array(['Democrat', 'Republican'], dtype=object)"
      ]
     },
     "execution_count": 5,
     "metadata": {},
     "output_type": "execute_result"
    }
   ],
   "execution_count": 5
  },
  {
   "cell_type": "code",
   "id": "9",
   "metadata": {
    "ExecuteTime": {
     "end_time": "2024-11-28T15:15:27.305670Z",
     "start_time": "2024-11-28T15:15:27.254144Z"
    }
   },
   "source": [
    "df[\"leaning\"] = df[\"leaning\"].replace({\"Democrat\": \"left\", \"Republican\": \"right\"})\n",
    "df[\"leaning\"] = df[\"leaning\"].astype(\"category\")"
   ],
   "outputs": [],
   "execution_count": 6
  },
  {
   "cell_type": "markdown",
   "id": "10",
   "metadata": {},
   "source": [
    "Dropping rows with missing data."
   ]
  },
  {
   "cell_type": "code",
   "id": "11",
   "metadata": {
    "ExecuteTime": {
     "end_time": "2024-11-28T15:15:27.347349Z",
     "start_time": "2024-11-28T15:15:27.315846Z"
    }
   },
   "source": [
    "df = df.dropna()"
   ],
   "outputs": [],
   "execution_count": 7
  },
  {
   "cell_type": "markdown",
   "id": "12",
   "metadata": {},
   "source": [
    "Printing duplicates."
   ]
  },
  {
   "cell_type": "code",
   "id": "13",
   "metadata": {
    "ExecuteTime": {
     "end_time": "2024-11-28T15:15:27.428869Z",
     "start_time": "2024-11-28T15:15:27.363421Z"
    }
   },
   "source": [
    "df[df[\"body\"].duplicated(keep=False)]"
   ],
   "outputs": [
    {
     "data": {
      "text/plain": [
       "                       date  \\\n",
       "250     2021-06-04 22:40:22   \n",
       "907     2021-05-21 18:36:59   \n",
       "1664    2021-06-10 20:55:41   \n",
       "2736    2021-12-01 21:33:25   \n",
       "2800    2021-07-06 13:16:34   \n",
       "...                     ...   \n",
       "188646  2017-09-06 13:53:23   \n",
       "189854  2022-11-01 19:11:54   \n",
       "189870  2022-10-21 13:02:00   \n",
       "189881  2022-10-14 14:30:01   \n",
       "190445  2022-10-10 17:34:33   \n",
       "\n",
       "                                                     body leaning  \n",
       "250     As India fights its #COVID19 crisis, it's impo...   right  \n",
       "907     Find a vaccine location near you: Search https...    left  \n",
       "1664    S.1 makes election fraud easier to commit and ...   right  \n",
       "2736                              https://t.co/nIOlNKmqik    left  \n",
       "2800               There still is a crisis at the border.   right  \n",
       "...                                                   ...     ...  \n",
       "188646  The Huntsville/Madison County Emergency Manage...   right  \n",
       "189854              Border security is national security.   right  \n",
       "189870              Energy security is national security.   right  \n",
       "189881              Energy security is national security.   right  \n",
       "190445                                Happy Columbus Day!   right  \n",
       "\n",
       "[282 rows x 3 columns]"
      ],
      "text/html": [
       "<div>\n",
       "<style scoped>\n",
       "    .dataframe tbody tr th:only-of-type {\n",
       "        vertical-align: middle;\n",
       "    }\n",
       "\n",
       "    .dataframe tbody tr th {\n",
       "        vertical-align: top;\n",
       "    }\n",
       "\n",
       "    .dataframe thead th {\n",
       "        text-align: right;\n",
       "    }\n",
       "</style>\n",
       "<table border=\"1\" class=\"dataframe\">\n",
       "  <thead>\n",
       "    <tr style=\"text-align: right;\">\n",
       "      <th></th>\n",
       "      <th>date</th>\n",
       "      <th>body</th>\n",
       "      <th>leaning</th>\n",
       "    </tr>\n",
       "  </thead>\n",
       "  <tbody>\n",
       "    <tr>\n",
       "      <th>250</th>\n",
       "      <td>2021-06-04 22:40:22</td>\n",
       "      <td>As India fights its #COVID19 crisis, it's impo...</td>\n",
       "      <td>right</td>\n",
       "    </tr>\n",
       "    <tr>\n",
       "      <th>907</th>\n",
       "      <td>2021-05-21 18:36:59</td>\n",
       "      <td>Find a vaccine location near you: Search https...</td>\n",
       "      <td>left</td>\n",
       "    </tr>\n",
       "    <tr>\n",
       "      <th>1664</th>\n",
       "      <td>2021-06-10 20:55:41</td>\n",
       "      <td>S.1 makes election fraud easier to commit and ...</td>\n",
       "      <td>right</td>\n",
       "    </tr>\n",
       "    <tr>\n",
       "      <th>2736</th>\n",
       "      <td>2021-12-01 21:33:25</td>\n",
       "      <td>https://t.co/nIOlNKmqik</td>\n",
       "      <td>left</td>\n",
       "    </tr>\n",
       "    <tr>\n",
       "      <th>2800</th>\n",
       "      <td>2021-07-06 13:16:34</td>\n",
       "      <td>There still is a crisis at the border.</td>\n",
       "      <td>right</td>\n",
       "    </tr>\n",
       "    <tr>\n",
       "      <th>...</th>\n",
       "      <td>...</td>\n",
       "      <td>...</td>\n",
       "      <td>...</td>\n",
       "    </tr>\n",
       "    <tr>\n",
       "      <th>188646</th>\n",
       "      <td>2017-09-06 13:53:23</td>\n",
       "      <td>The Huntsville/Madison County Emergency Manage...</td>\n",
       "      <td>right</td>\n",
       "    </tr>\n",
       "    <tr>\n",
       "      <th>189854</th>\n",
       "      <td>2022-11-01 19:11:54</td>\n",
       "      <td>Border security is national security.</td>\n",
       "      <td>right</td>\n",
       "    </tr>\n",
       "    <tr>\n",
       "      <th>189870</th>\n",
       "      <td>2022-10-21 13:02:00</td>\n",
       "      <td>Energy security is national security.</td>\n",
       "      <td>right</td>\n",
       "    </tr>\n",
       "    <tr>\n",
       "      <th>189881</th>\n",
       "      <td>2022-10-14 14:30:01</td>\n",
       "      <td>Energy security is national security.</td>\n",
       "      <td>right</td>\n",
       "    </tr>\n",
       "    <tr>\n",
       "      <th>190445</th>\n",
       "      <td>2022-10-10 17:34:33</td>\n",
       "      <td>Happy Columbus Day!</td>\n",
       "      <td>right</td>\n",
       "    </tr>\n",
       "  </tbody>\n",
       "</table>\n",
       "<p>282 rows × 3 columns</p>\n",
       "</div>"
      ]
     },
     "execution_count": 8,
     "metadata": {},
     "output_type": "execute_result"
    }
   ],
   "execution_count": 8
  },
  {
   "cell_type": "markdown",
   "id": "14",
   "metadata": {},
   "source": [
    "Dropping the duplicates."
   ]
  },
  {
   "cell_type": "code",
   "id": "15",
   "metadata": {
    "ExecuteTime": {
     "end_time": "2024-11-28T15:15:27.618371Z",
     "start_time": "2024-11-28T15:15:27.573913Z"
    }
   },
   "source": [
    "df = df.drop_duplicates(subset=\"body\")"
   ],
   "outputs": [],
   "execution_count": 9
  },
  {
   "cell_type": "markdown",
   "id": "18",
   "metadata": {},
   "source": [
    "Inspecting body length."
   ]
  },
  {
   "cell_type": "code",
   "id": "19",
   "metadata": {
    "ExecuteTime": {
     "end_time": "2024-11-28T15:15:28.997421Z",
     "start_time": "2024-11-28T15:15:27.670135Z"
    }
   },
   "source": [
    "df[\"body_length\"] = df[\"body\"].str.len()\n",
    "df[\"body_word_count\"] = df[\"body\"].str.split().str.len()\n",
    "df = df.sort_values(by=\"body_length\")\n",
    "df.head(100)"
   ],
   "outputs": [
    {
     "data": {
      "text/plain": [
       "                       date                body leaning  body_length  \\\n",
       "29594   2021-12-05 23:10:13                        left            0   \n",
       "94331   2021-07-27 19:50:25                  vs    left            2   \n",
       "158362  2022-11-29 21:03:26                  🇺🇸   right            2   \n",
       "51544   2021-11-06 22:57:41                 Set   right            3   \n",
       "153201  2022-09-01 20:29:03                utah   right            4   \n",
       "...                     ...                 ...     ...          ...   \n",
       "77476   2021-11-03 03:04:16  God bless America.   right           18   \n",
       "185896  2022-11-29 14:31:17  Secure the border.   right           18   \n",
       "164640  2022-09-28 18:18:05  Finish. The. Wall.   right           18   \n",
       "150470  2023-01-01 18:35:47  Happy New Year!!🎆🎊   right           18   \n",
       "158340  2023-02-13 15:21:33  Education freedom.   right           18   \n",
       "\n",
       "        body_word_count  \n",
       "29594                 0  \n",
       "94331                 1  \n",
       "158362                1  \n",
       "51544                 1  \n",
       "153201                1  \n",
       "...                 ...  \n",
       "77476                 3  \n",
       "185896                3  \n",
       "164640                3  \n",
       "150470                3  \n",
       "158340                2  \n",
       "\n",
       "[100 rows x 5 columns]"
      ],
      "text/html": [
       "<div>\n",
       "<style scoped>\n",
       "    .dataframe tbody tr th:only-of-type {\n",
       "        vertical-align: middle;\n",
       "    }\n",
       "\n",
       "    .dataframe tbody tr th {\n",
       "        vertical-align: top;\n",
       "    }\n",
       "\n",
       "    .dataframe thead th {\n",
       "        text-align: right;\n",
       "    }\n",
       "</style>\n",
       "<table border=\"1\" class=\"dataframe\">\n",
       "  <thead>\n",
       "    <tr style=\"text-align: right;\">\n",
       "      <th></th>\n",
       "      <th>date</th>\n",
       "      <th>body</th>\n",
       "      <th>leaning</th>\n",
       "      <th>body_length</th>\n",
       "      <th>body_word_count</th>\n",
       "    </tr>\n",
       "  </thead>\n",
       "  <tbody>\n",
       "    <tr>\n",
       "      <th>29594</th>\n",
       "      <td>2021-12-05 23:10:13</td>\n",
       "      <td></td>\n",
       "      <td>left</td>\n",
       "      <td>0</td>\n",
       "      <td>0</td>\n",
       "    </tr>\n",
       "    <tr>\n",
       "      <th>94331</th>\n",
       "      <td>2021-07-27 19:50:25</td>\n",
       "      <td>vs</td>\n",
       "      <td>left</td>\n",
       "      <td>2</td>\n",
       "      <td>1</td>\n",
       "    </tr>\n",
       "    <tr>\n",
       "      <th>158362</th>\n",
       "      <td>2022-11-29 21:03:26</td>\n",
       "      <td>🇺🇸</td>\n",
       "      <td>right</td>\n",
       "      <td>2</td>\n",
       "      <td>1</td>\n",
       "    </tr>\n",
       "    <tr>\n",
       "      <th>51544</th>\n",
       "      <td>2021-11-06 22:57:41</td>\n",
       "      <td>Set</td>\n",
       "      <td>right</td>\n",
       "      <td>3</td>\n",
       "      <td>1</td>\n",
       "    </tr>\n",
       "    <tr>\n",
       "      <th>153201</th>\n",
       "      <td>2022-09-01 20:29:03</td>\n",
       "      <td>utah</td>\n",
       "      <td>right</td>\n",
       "      <td>4</td>\n",
       "      <td>1</td>\n",
       "    </tr>\n",
       "    <tr>\n",
       "      <th>...</th>\n",
       "      <td>...</td>\n",
       "      <td>...</td>\n",
       "      <td>...</td>\n",
       "      <td>...</td>\n",
       "      <td>...</td>\n",
       "    </tr>\n",
       "    <tr>\n",
       "      <th>77476</th>\n",
       "      <td>2021-11-03 03:04:16</td>\n",
       "      <td>God bless America.</td>\n",
       "      <td>right</td>\n",
       "      <td>18</td>\n",
       "      <td>3</td>\n",
       "    </tr>\n",
       "    <tr>\n",
       "      <th>185896</th>\n",
       "      <td>2022-11-29 14:31:17</td>\n",
       "      <td>Secure the border.</td>\n",
       "      <td>right</td>\n",
       "      <td>18</td>\n",
       "      <td>3</td>\n",
       "    </tr>\n",
       "    <tr>\n",
       "      <th>164640</th>\n",
       "      <td>2022-09-28 18:18:05</td>\n",
       "      <td>Finish. The. Wall.</td>\n",
       "      <td>right</td>\n",
       "      <td>18</td>\n",
       "      <td>3</td>\n",
       "    </tr>\n",
       "    <tr>\n",
       "      <th>150470</th>\n",
       "      <td>2023-01-01 18:35:47</td>\n",
       "      <td>Happy New Year!!🎆🎊</td>\n",
       "      <td>right</td>\n",
       "      <td>18</td>\n",
       "      <td>3</td>\n",
       "    </tr>\n",
       "    <tr>\n",
       "      <th>158340</th>\n",
       "      <td>2023-02-13 15:21:33</td>\n",
       "      <td>Education freedom.</td>\n",
       "      <td>right</td>\n",
       "      <td>18</td>\n",
       "      <td>2</td>\n",
       "    </tr>\n",
       "  </tbody>\n",
       "</table>\n",
       "<p>100 rows × 5 columns</p>\n",
       "</div>"
      ]
     },
     "execution_count": 10,
     "metadata": {},
     "output_type": "execute_result"
    }
   ],
   "execution_count": 10
  },
  {
   "cell_type": "markdown",
   "id": "20",
   "metadata": {},
   "source": "After inspection, articles with bodies shorter than 2 words seem to contain no political value. Removing them."
  },
  {
   "cell_type": "code",
   "id": "21",
   "metadata": {
    "ExecuteTime": {
     "end_time": "2024-11-28T15:15:29.806519Z",
     "start_time": "2024-11-28T15:15:29.039946Z"
    }
   },
   "source": [
    "body_word_count_lower_bound = 2\n",
    "df = df[df[\"body_word_count\"] >= body_word_count_lower_bound]\n",
    "# Ensuring to include the last (longest) item.\n",
    "downsampled = pd.concat([df[\"body_length\"].iloc[::100], df[\"body_length\"].tail(1)]).drop_duplicates()\n",
    "downsampled.plot.bar().xaxis.set_ticks([]);"
   ],
   "outputs": [
    {
     "data": {
      "text/plain": [
       "<Figure size 640x480 with 1 Axes>"
      ],
      "image/png": "[encoded data removed]"
     },
     "metadata": {},
     "output_type": "display_data"
    }
   ],
   "execution_count": 11
  },
  {
   "cell_type": "code",
   "id": "22",
   "metadata": {
    "ExecuteTime": {
     "end_time": "2024-11-28T15:15:29.936329Z",
     "start_time": "2024-11-28T15:15:29.932256Z"
    }
   },
   "source": [
    "df[\"body_length\"].mean()"
   ],
   "outputs": [
    {
     "data": {
      "text/plain": [
       "np.float64(175.78371146015124)"
      ]
     },
     "execution_count": 12,
     "metadata": {},
     "output_type": "execute_result"
    }
   ],
   "execution_count": 12
  },
  {
   "cell_type": "markdown",
   "id": "23",
   "metadata": {},
   "source": [
    "The leaning distribution."
   ]
  },
  {
   "cell_type": "code",
   "id": "24",
   "metadata": {
    "ExecuteTime": {
     "end_time": "2024-11-28T15:15:30.013854Z",
     "start_time": "2024-11-28T15:15:29.952215Z"
    }
   },
   "source": [
    "df.groupby(\"leaning\", observed=True).size().plot.pie(autopct=\"%1.1f%%\");"
   ],
   "outputs": [
    {
     "data": {
      "text/plain": [
       "<Figure size 640x480 with 1 Axes>"
      ],
      "image/png": "[encoded data removed]"
     },
     "metadata": {},
     "output_type": "display_data"
    }
   ],
   "execution_count": 13
  },
  {
   "cell_type": "markdown",
   "id": "25",
   "metadata": {},
   "source": [
    "The distribution of body length sums per leaning."
   ]
  },
  {
   "cell_type": "code",
   "id": "26",
   "metadata": {
    "ExecuteTime": {
     "end_time": "2024-11-28T15:15:30.086014Z",
     "start_time": "2024-11-28T15:15:30.025789Z"
    }
   },
   "source": [
    "df.groupby(\"leaning\", observed=True)[\"body_length\"].sum().plot.pie(autopct=\"%1.1f%%\", ylabel=\"\");"
   ],
   "outputs": [
    {
     "data": {
      "text/plain": [
       "<Figure size 640x480 with 1 Axes>"
      ],
      "image/png": "[encoded data removed]"
     },
     "metadata": {},
     "output_type": "display_data"
    }
   ],
   "execution_count": 14
  },
  {
   "cell_type": "markdown",
   "id": "27",
   "metadata": {},
   "source": [
    "Body length distribution by leaning."
   ]
  },
  {
   "cell_type": "code",
   "id": "28",
   "metadata": {
    "ExecuteTime": {
     "end_time": "2024-11-28T15:15:30.282153Z",
     "start_time": "2024-11-28T15:15:30.108504Z"
    }
   },
   "source": [
    "plt.figure(figsize=(10, 6))\n",
    "\n",
    "for leaning in df[\"leaning\"].unique():\n",
    "    df_leaning = df[df[\"leaning\"] == leaning]\n",
    "    downsampled = pd.concat(\n",
    "        # Ensuring to include the last (longest) item.\n",
    "        [df_leaning[\"body_length\"].iloc[::100], df_leaning[\"body_length\"].tail(1)]\n",
    "    ).drop_duplicates().reset_index(drop=True)\n",
    "    plt.plot(downsampled, label=leaning)\n",
    "\n",
    "plt.xlabel(\"downsampled index\")\n",
    "plt.ylabel(\"body length\")\n",
    "plt.title(\"body length by political leaning\")\n",
    "plt.legend(title=\"leaning\")\n",
    "plt.show()"
   ],
   "outputs": [
    {
     "data": {
      "text/plain": [
       "<Figure size 1000x600 with 1 Axes>"
      ],
      "image/png": "[encoded data removed]"
     },
     "metadata": {},
     "output_type": "display_data"
    }
   ],
   "execution_count": 15
  },
  {
   "cell_type": "code",
   "id": "29",
   "metadata": {
    "ExecuteTime": {
     "end_time": "2024-11-28T15:15:30.590306Z",
     "start_time": "2024-11-28T15:15:30.295658Z"
    }
   },
   "source": "df.to_parquet(\"../preprocessed/political_tweets.parquet\")",
   "outputs": [],
   "execution_count": 16
  }
 ],
 "metadata": {
  "kernelspec": {
   "display_name": "Python 3",
   "language": "python",
   "name": "python3"
  },
  "language_info": {
   "codemirror_mode": {
    "name": "ipython",
    "version": 2
   },
   "file_extension": ".py",
   "mimetype": "text/x-python",
   "name": "python",
   "nbconvert_exporter": "python",
   "pygments_lexer": "ipython2",
   "version": "2.7.6"
  }
 },
 "nbformat": 4,
 "nbformat_minor": 5
}
