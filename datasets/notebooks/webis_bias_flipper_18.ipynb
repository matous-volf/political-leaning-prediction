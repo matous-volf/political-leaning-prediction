{
 "cells": [
  {
   "cell_type": "code",
   "id": "0",
   "metadata": {
    "ExecuteTime": {
     "end_time": "2024-10-27T12:32:11.182749Z",
     "start_time": "2024-10-27T12:32:11.178151Z"
    }
   },
   "source": [
    "import csv\n",
    "from io import StringIO\n",
    "\n",
    "import pandas as pd\n",
    "from matplotlib import pyplot as plt\n",
    "from pandas import Series"
   ],
   "outputs": [],
   "execution_count": 74
  },
  {
   "cell_type": "markdown",
   "id": "1",
   "metadata": {},
   "source": [
    "Reading the raw dataset. Some rows (e.g. line 1010) contain complex nested quotes and commas, which requires modifying each line before passing it to `pandas.read_csv()`. The outer quotes get replaced by an arbitrary (`\\u2603`, the snowman) character, which is then specified as the quote character used for parsing."
   ]
  },
  {
   "cell_type": "code",
   "id": "2",
   "metadata": {
    "ExecuteTime": {
     "end_time": "2024-10-27T12:32:11.905710Z",
     "start_time": "2024-10-27T12:32:11.256096Z"
    }
   },
   "source": [
    "csv.field_size_limit(4 * 131072)  # 4 times the default\n",
    "\n",
    "with open(\"../raw/webis_bias_flipper_18.csv\", mode=\"r\", encoding=\"utf-8\") as file:\n",
    "    modified_lines = (\n",
    "        \"\\u2603\".join(line.replace(\"\\\",\\\"\", \"\\u2603,\\u2603\").replace(\"\\\"\", \"\\u2603\", 1).rsplit(\"\\\"\", 1))\n",
    "        for line in file\n",
    "    )\n",
    "    df = pd.read_csv(StringIO(\"\".join(modified_lines)), quotechar=\"\\u2603\", encoding=\"utf-8\", engine=\"python\")\n",
    "df"
   ],
   "outputs": [
    {
     "data": {
      "text/plain": [
       "      story_id             bias  \\\n",
       "0            0   From the Right   \n",
       "1            0    From the Left   \n",
       "2            1    From the Left   \n",
       "3            1  From the Center   \n",
       "4            1   From the Right   \n",
       "...        ...              ...   \n",
       "6443      2779  From the Center   \n",
       "6444      2779   From the Right   \n",
       "6445      2780    From the Left   \n",
       "6446      2780   From the Right   \n",
       "6447      2780  From the Center   \n",
       "\n",
       "                                                  title  \\\n",
       "0     Report: DACA-age illegals far more likely to c...   \n",
       "1     Trump’s claim that immigrants bring ‘tremendou...   \n",
       "2     Trump Accuses His Justice Department, FBI Of F...   \n",
       "3     Trump accuses FBI, Justice Department of polit...   \n",
       "4     Trump accuses FBI, DOJ leadership of bias agai...   \n",
       "...                                                 ...   \n",
       "6443  Obama, Romney Duel On Economy In Ohio Where It...   \n",
       "6444        Dueling speeches: Obama, Romney target Ohio   \n",
       "6445          John Edwards Trial: 7 ways he can rebuild   \n",
       "6446  After mistrial in Edwards case, law enforcemen...   \n",
       "6447  Edwards gets acquittal on one count, mistrial ...   \n",
       "\n",
       "                                                   body               source  \\\n",
       "0     A new report about crimes committed by illegal...  Washington Examiner   \n",
       "1     Trump earned Four Pinocchios the last time we ...      Washington Post   \n",
       "2                Many of them are actually Republicans.             HuffPost   \n",
       "3     President Donald Trump attacked the integrity ...              Reuters   \n",
       "4     President Trump said Friday the leaders at the...     Washington Times   \n",
       "...                                                 ...                  ...   \n",
       "6443  Ohio could very well be the state where what's...             NPR News   \n",
       "6444  Dueling from down the road, President Obama an...     Washington Times   \n",
       "6445  John Edwards walked out of court Thursday a fr...             Politico   \n",
       "6446            John Edwards walks -- at least for now.             Fox News   \n",
       "6447  Greensboro, North Carolina (CNN) -- Two-time D...       CNN (Web News)   \n",
       "\n",
       "                                         original_title  \\\n",
       "0     Report: DACA-age illegals far more likely to c...   \n",
       "1     Trump’s claim that immigrants bring ‘tremendou...   \n",
       "2     Trump Accuses His Justice Department, FBI Of F...   \n",
       "3     Explosive memo released as Trump escalates fig...   \n",
       "4     Trump accuses FBI, DOJ leadership of bias agai...   \n",
       "...                                                 ...   \n",
       "6443  Obama, Romney Duel On The Economy In Ohio, Whe...   \n",
       "6444        Dueling speeches: Obama, Romney target Ohio   \n",
       "6445                         7 ways Edwards can rebuild   \n",
       "6446  After mistrial in Edwards case, law enforcemen...   \n",
       "6447  Edwards gets acquittal on one count, mistrial ...   \n",
       "\n",
       "                                          original_body  \n",
       "0     A new report about crimes committed by illegal...  \n",
       "1     “The Democrats are really looking at something...  \n",
       "2     In his latest unprecedented attack on federal ...  \n",
       "3     WASHINGTON (Reuters) - President Donald Trump ...  \n",
       "4     President Trump said Friday the leaders at the...  \n",
       "...                                                 ...  \n",
       "6443  Ohio could very well be the state where what's...  \n",
       "6444  WASHINGTON (AP) — Dueling from down the road, ...  \n",
       "6445  Updated 06/01/2012 01:59 PM EDT John Edwards w...  \n",
       "6446  John Edwards walks -- at least for now. The fa...  \n",
       "6447  Story highlights Edwards says he's \"\"grateful ...  \n",
       "\n",
       "[6448 rows x 7 columns]"
      ],
      "text/html": [
       "<div>\n",
       "<style scoped>\n",
       "    .dataframe tbody tr th:only-of-type {\n",
       "        vertical-align: middle;\n",
       "    }\n",
       "\n",
       "    .dataframe tbody tr th {\n",
       "        vertical-align: top;\n",
       "    }\n",
       "\n",
       "    .dataframe thead th {\n",
       "        text-align: right;\n",
       "    }\n",
       "</style>\n",
       "<table border=\"1\" class=\"dataframe\">\n",
       "  <thead>\n",
       "    <tr style=\"text-align: right;\">\n",
       "      <th></th>\n",
       "      <th>story_id</th>\n",
       "      <th>bias</th>\n",
       "      <th>title</th>\n",
       "      <th>body</th>\n",
       "      <th>source</th>\n",
       "      <th>original_title</th>\n",
       "      <th>original_body</th>\n",
       "    </tr>\n",
       "  </thead>\n",
       "  <tbody>\n",
       "    <tr>\n",
       "      <th>0</th>\n",
       "      <td>0</td>\n",
       "      <td>From the Right</td>\n",
       "      <td>Report: DACA-age illegals far more likely to c...</td>\n",
       "      <td>A new report about crimes committed by illegal...</td>\n",
       "      <td>Washington Examiner</td>\n",
       "      <td>Report: DACA-age illegals far more likely to c...</td>\n",
       "      <td>A new report about crimes committed by illegal...</td>\n",
       "    </tr>\n",
       "    <tr>\n",
       "      <th>1</th>\n",
       "      <td>0</td>\n",
       "      <td>From the Left</td>\n",
       "      <td>Trump’s claim that immigrants bring ‘tremendou...</td>\n",
       "      <td>Trump earned Four Pinocchios the last time we ...</td>\n",
       "      <td>Washington Post</td>\n",
       "      <td>Trump’s claim that immigrants bring ‘tremendou...</td>\n",
       "      <td>“The Democrats are really looking at something...</td>\n",
       "    </tr>\n",
       "    <tr>\n",
       "      <th>2</th>\n",
       "      <td>1</td>\n",
       "      <td>From the Left</td>\n",
       "      <td>Trump Accuses His Justice Department, FBI Of F...</td>\n",
       "      <td>Many of them are actually Republicans.</td>\n",
       "      <td>HuffPost</td>\n",
       "      <td>Trump Accuses His Justice Department, FBI Of F...</td>\n",
       "      <td>In his latest unprecedented attack on federal ...</td>\n",
       "    </tr>\n",
       "    <tr>\n",
       "      <th>3</th>\n",
       "      <td>1</td>\n",
       "      <td>From the Center</td>\n",
       "      <td>Trump accuses FBI, Justice Department of polit...</td>\n",
       "      <td>President Donald Trump attacked the integrity ...</td>\n",
       "      <td>Reuters</td>\n",
       "      <td>Explosive memo released as Trump escalates fig...</td>\n",
       "      <td>WASHINGTON (Reuters) - President Donald Trump ...</td>\n",
       "    </tr>\n",
       "    <tr>\n",
       "      <th>4</th>\n",
       "      <td>1</td>\n",
       "      <td>From the Right</td>\n",
       "      <td>Trump accuses FBI, DOJ leadership of bias agai...</td>\n",
       "      <td>President Trump said Friday the leaders at the...</td>\n",
       "      <td>Washington Times</td>\n",
       "      <td>Trump accuses FBI, DOJ leadership of bias agai...</td>\n",
       "      <td>President Trump said Friday the leaders at the...</td>\n",
       "    </tr>\n",
       "    <tr>\n",
       "      <th>...</th>\n",
       "      <td>...</td>\n",
       "      <td>...</td>\n",
       "      <td>...</td>\n",
       "      <td>...</td>\n",
       "      <td>...</td>\n",
       "      <td>...</td>\n",
       "      <td>...</td>\n",
       "    </tr>\n",
       "    <tr>\n",
       "      <th>6443</th>\n",
       "      <td>2779</td>\n",
       "      <td>From the Center</td>\n",
       "      <td>Obama, Romney Duel On Economy In Ohio Where It...</td>\n",
       "      <td>Ohio could very well be the state where what's...</td>\n",
       "      <td>NPR News</td>\n",
       "      <td>Obama, Romney Duel On The Economy In Ohio, Whe...</td>\n",
       "      <td>Ohio could very well be the state where what's...</td>\n",
       "    </tr>\n",
       "    <tr>\n",
       "      <th>6444</th>\n",
       "      <td>2779</td>\n",
       "      <td>From the Right</td>\n",
       "      <td>Dueling speeches: Obama, Romney target Ohio</td>\n",
       "      <td>Dueling from down the road, President Obama an...</td>\n",
       "      <td>Washington Times</td>\n",
       "      <td>Dueling speeches: Obama, Romney target Ohio</td>\n",
       "      <td>WASHINGTON (AP) — Dueling from down the road, ...</td>\n",
       "    </tr>\n",
       "    <tr>\n",
       "      <th>6445</th>\n",
       "      <td>2780</td>\n",
       "      <td>From the Left</td>\n",
       "      <td>John Edwards Trial: 7 ways he can rebuild</td>\n",
       "      <td>John Edwards walked out of court Thursday a fr...</td>\n",
       "      <td>Politico</td>\n",
       "      <td>7 ways Edwards can rebuild</td>\n",
       "      <td>Updated 06/01/2012 01:59 PM EDT John Edwards w...</td>\n",
       "    </tr>\n",
       "    <tr>\n",
       "      <th>6446</th>\n",
       "      <td>2780</td>\n",
       "      <td>From the Right</td>\n",
       "      <td>After mistrial in Edwards case, law enforcemen...</td>\n",
       "      <td>John Edwards walks -- at least for now.</td>\n",
       "      <td>Fox News</td>\n",
       "      <td>After mistrial in Edwards case, law enforcemen...</td>\n",
       "      <td>John Edwards walks -- at least for now. The fa...</td>\n",
       "    </tr>\n",
       "    <tr>\n",
       "      <th>6447</th>\n",
       "      <td>2780</td>\n",
       "      <td>From the Center</td>\n",
       "      <td>Edwards gets acquittal on one count, mistrial ...</td>\n",
       "      <td>Greensboro, North Carolina (CNN) -- Two-time D...</td>\n",
       "      <td>CNN (Web News)</td>\n",
       "      <td>Edwards gets acquittal on one count, mistrial ...</td>\n",
       "      <td>Story highlights Edwards says he's \"\"grateful ...</td>\n",
       "    </tr>\n",
       "  </tbody>\n",
       "</table>\n",
       "<p>6448 rows × 7 columns</p>\n",
       "</div>"
      ]
     },
     "execution_count": 75,
     "metadata": {},
     "output_type": "execute_result"
    }
   ],
   "execution_count": 75
  },
  {
   "cell_type": "markdown",
   "id": "3",
   "metadata": {},
   "source": [
    "Comparison of the body column (from AllSides) versus the original body column (from the news portals). The text volume of the original columns is much higher, probably because AllSides cuts the length. This means the title and body columns can be dropped and the original ones will be used."
   ]
  },
  {
   "cell_type": "code",
   "id": "4",
   "metadata": {
    "ExecuteTime": {
     "end_time": "2024-10-27T12:32:11.992153Z",
     "start_time": "2024-10-27T12:32:11.946034Z"
    }
   },
   "source": [
    "pd.Series(\n",
    "    [df[\"original_body\"].str.len().sum(), df[\"body\"].str.len().sum()],\n",
    "    index=[\"original body\", \"body\"]\n",
    ").plot.pie(autopct=\"%1.1f%%\");"
   ],
   "outputs": [
    {
     "data": {
      "text/plain": [
       "<Figure size 640x480 with 1 Axes>"
      ],
      "image/png": "[encoded data removed]"
     },
     "metadata": {},
     "output_type": "display_data"
    }
   ],
   "execution_count": 76
  },
  {
   "cell_type": "markdown",
   "id": "5",
   "metadata": {},
   "source": [
    "Dropping useless columns."
   ]
  },
  {
   "cell_type": "code",
   "id": "6",
   "metadata": {
    "ExecuteTime": {
     "end_time": "2024-10-27T12:32:12.105219Z",
     "start_time": "2024-10-27T12:32:12.100890Z"
    }
   },
   "source": [
    "df = df.drop(columns=[\"story_id\", \"title\", \"body\", \"source\"])"
   ],
   "outputs": [],
   "execution_count": 77
  },
  {
   "cell_type": "markdown",
   "id": "7",
   "metadata": {},
   "source": [
    "Renaming and reordering columns."
   ]
  },
  {
   "cell_type": "code",
   "id": "8",
   "metadata": {
    "ExecuteTime": {
     "end_time": "2024-10-27T12:32:12.183868Z",
     "start_time": "2024-10-27T12:32:12.176001Z"
    }
   },
   "source": [
    "df = df.rename(columns={\"original_title\": \"title\", \"original_body\": \"body\", \"bias\": \"leaning\"})\n",
    "df = df[[\"title\", \"body\", \"leaning\"]].copy()"
   ],
   "outputs": [],
   "execution_count": 78
  },
  {
   "cell_type": "markdown",
   "id": "9",
   "metadata": {},
   "source": [
    "Categorizing the leaning column."
   ]
  },
  {
   "cell_type": "code",
   "id": "10",
   "metadata": {
    "ExecuteTime": {
     "end_time": "2024-10-27T12:32:12.238517Z",
     "start_time": "2024-10-27T12:32:12.232653Z"
    }
   },
   "source": [
    "df[\"leaning\"] = df[\"leaning\"].astype(\"category\")\n",
    "df[\"leaning\"] = df[\"leaning\"].cat.rename_categories(\n",
    "    {\"From the Left\": \"left\", \"From the Center\": \"center\", \"From the Right\": \"right\"}\n",
    ")"
   ],
   "outputs": [],
   "execution_count": 79
  },
  {
   "metadata": {},
   "cell_type": "markdown",
   "source": "Dropping rows with missing data.",
   "id": "9780d6bb377d9127"
  },
  {
   "metadata": {
    "ExecuteTime": {
     "end_time": "2024-10-27T12:32:12.296758Z",
     "start_time": "2024-10-27T12:32:12.288481Z"
    }
   },
   "cell_type": "code",
   "source": "df = df.dropna(subset=[\"body\", \"leaning\"])",
   "id": "86f2f6cf8c96ea88",
   "outputs": [],
   "execution_count": 80
  },
  {
   "cell_type": "markdown",
   "id": "11",
   "metadata": {},
   "source": [
    "Printing duplicates."
   ]
  },
  {
   "cell_type": "code",
   "id": "12",
   "metadata": {
    "ExecuteTime": {
     "end_time": "2024-10-27T12:32:12.358124Z",
     "start_time": "2024-10-27T12:32:12.345824Z"
    }
   },
   "source": [
    "df[df[\"body\"].duplicated(keep=False)]"
   ],
   "outputs": [
    {
     "data": {
      "text/plain": [
       "                                                  title  \\\n",
       "466   U.S. states sue to block Trump Obamacare subsi...   \n",
       "477   U.S. states sue to block Trump Obamacare subsi...   \n",
       "918   Rand Paul and 3 Others Reject Senate GOP Healt...   \n",
       "925   Rand Paul and 3 Others Reject Senate GOP Healt...   \n",
       "965   Highlights from Attorney General Jeff Sessions...   \n",
       "...                                                 ...   \n",
       "6302        A Fine Night For Romney, But No Game Change   \n",
       "6327      Romney Reboot? Convention Could Be The Ticket   \n",
       "6330      Romney Reboot? Convention Could Be The Ticket   \n",
       "6378                  Jobs numbers better than expected   \n",
       "6397                  Jobs numbers better than expected   \n",
       "\n",
       "                                                   body leaning  \n",
       "466   WASHINGTON/SAN FRANCISCO (Reuters) - Eighteen ...  center  \n",
       "477   WASHINGTON/SAN FRANCISCO (Reuters) - Eighteen ...  center  \n",
       "918   WASHINGTON -- Sen. Rand Paul, R-Ky., says he a...   right  \n",
       "925   WASHINGTON -- Sen. Rand Paul, R-Ky., says he a...   right  \n",
       "965   Attorney General Jeff Sessions engaged in high...    left  \n",
       "...                                                 ...     ...  \n",
       "6302  It's been the political world's obsession for ...  center  \n",
       "6327  Mitt Romney, 65, has spent the better part of ...  center  \n",
       "6330  Mitt Romney, 65, has spent the better part of ...  center  \n",
       "6378  Updated 08/03/2012 01:41 PM EDT Job growth in ...    left  \n",
       "6397  Updated 08/03/2012 01:41 PM EDT Job growth in ...    left  \n",
       "\n",
       "[85 rows x 3 columns]"
      ],
      "text/html": [
       "<div>\n",
       "<style scoped>\n",
       "    .dataframe tbody tr th:only-of-type {\n",
       "        vertical-align: middle;\n",
       "    }\n",
       "\n",
       "    .dataframe tbody tr th {\n",
       "        vertical-align: top;\n",
       "    }\n",
       "\n",
       "    .dataframe thead th {\n",
       "        text-align: right;\n",
       "    }\n",
       "</style>\n",
       "<table border=\"1\" class=\"dataframe\">\n",
       "  <thead>\n",
       "    <tr style=\"text-align: right;\">\n",
       "      <th></th>\n",
       "      <th>title</th>\n",
       "      <th>body</th>\n",
       "      <th>leaning</th>\n",
       "    </tr>\n",
       "  </thead>\n",
       "  <tbody>\n",
       "    <tr>\n",
       "      <th>466</th>\n",
       "      <td>U.S. states sue to block Trump Obamacare subsi...</td>\n",
       "      <td>WASHINGTON/SAN FRANCISCO (Reuters) - Eighteen ...</td>\n",
       "      <td>center</td>\n",
       "    </tr>\n",
       "    <tr>\n",
       "      <th>477</th>\n",
       "      <td>U.S. states sue to block Trump Obamacare subsi...</td>\n",
       "      <td>WASHINGTON/SAN FRANCISCO (Reuters) - Eighteen ...</td>\n",
       "      <td>center</td>\n",
       "    </tr>\n",
       "    <tr>\n",
       "      <th>918</th>\n",
       "      <td>Rand Paul and 3 Others Reject Senate GOP Healt...</td>\n",
       "      <td>WASHINGTON -- Sen. Rand Paul, R-Ky., says he a...</td>\n",
       "      <td>right</td>\n",
       "    </tr>\n",
       "    <tr>\n",
       "      <th>925</th>\n",
       "      <td>Rand Paul and 3 Others Reject Senate GOP Healt...</td>\n",
       "      <td>WASHINGTON -- Sen. Rand Paul, R-Ky., says he a...</td>\n",
       "      <td>right</td>\n",
       "    </tr>\n",
       "    <tr>\n",
       "      <th>965</th>\n",
       "      <td>Highlights from Attorney General Jeff Sessions...</td>\n",
       "      <td>Attorney General Jeff Sessions engaged in high...</td>\n",
       "      <td>left</td>\n",
       "    </tr>\n",
       "    <tr>\n",
       "      <th>...</th>\n",
       "      <td>...</td>\n",
       "      <td>...</td>\n",
       "      <td>...</td>\n",
       "    </tr>\n",
       "    <tr>\n",
       "      <th>6302</th>\n",
       "      <td>A Fine Night For Romney, But No Game Change</td>\n",
       "      <td>It's been the political world's obsession for ...</td>\n",
       "      <td>center</td>\n",
       "    </tr>\n",
       "    <tr>\n",
       "      <th>6327</th>\n",
       "      <td>Romney Reboot? Convention Could Be The Ticket</td>\n",
       "      <td>Mitt Romney, 65, has spent the better part of ...</td>\n",
       "      <td>center</td>\n",
       "    </tr>\n",
       "    <tr>\n",
       "      <th>6330</th>\n",
       "      <td>Romney Reboot? Convention Could Be The Ticket</td>\n",
       "      <td>Mitt Romney, 65, has spent the better part of ...</td>\n",
       "      <td>center</td>\n",
       "    </tr>\n",
       "    <tr>\n",
       "      <th>6378</th>\n",
       "      <td>Jobs numbers better than expected</td>\n",
       "      <td>Updated 08/03/2012 01:41 PM EDT Job growth in ...</td>\n",
       "      <td>left</td>\n",
       "    </tr>\n",
       "    <tr>\n",
       "      <th>6397</th>\n",
       "      <td>Jobs numbers better than expected</td>\n",
       "      <td>Updated 08/03/2012 01:41 PM EDT Job growth in ...</td>\n",
       "      <td>left</td>\n",
       "    </tr>\n",
       "  </tbody>\n",
       "</table>\n",
       "<p>85 rows × 3 columns</p>\n",
       "</div>"
      ]
     },
     "execution_count": 81,
     "metadata": {},
     "output_type": "execute_result"
    }
   ],
   "execution_count": 81
  },
  {
   "cell_type": "markdown",
   "id": "13",
   "metadata": {},
   "source": [
    "Dropping the duplicates."
   ]
  },
  {
   "cell_type": "code",
   "id": "14",
   "metadata": {
    "ExecuteTime": {
     "end_time": "2024-10-27T12:32:12.419237Z",
     "start_time": "2024-10-27T12:32:12.415029Z"
    }
   },
   "source": [
    "df = df.drop_duplicates(subset=\"body\")"
   ],
   "outputs": [],
   "execution_count": 82
  },
  {
   "cell_type": "markdown",
   "id": "15",
   "metadata": {},
   "source": [
    "Inspecting body length."
   ]
  },
  {
   "cell_type": "code",
   "id": "16",
   "metadata": {
    "ExecuteTime": {
     "end_time": "2024-10-27T12:32:12.867797Z",
     "start_time": "2024-10-27T12:32:12.463084Z"
    }
   },
   "source": [
    "df[\"body_length\"] = df[\"body\"].str.len()\n",
    "df[\"body_word_count\"] = df[\"body\"].str.split().str.len()\n",
    "df = df.sort_values(by=\"body_length\")\n",
    "df.head()"
   ],
   "outputs": [
    {
     "data": {
      "text/plain": [
       "                                                  title  \\\n",
       "5006  Cruz: Harry Reid Unwilling to Compromise Over ...   \n",
       "3229     President Obama Is Fired Up and Ready to Tweet   \n",
       "3075  Happy 4th of July: Americans Worry About Terro...   \n",
       "4876  Rand Paul: Moderate Like Christie Has Little C...   \n",
       "3165  State Dept. spokeswoman sparks Twitter war wit...   \n",
       "\n",
       "                                                   body leaning  body_length  \\\n",
       "5006                       Story continues below video.   right           28   \n",
       "3229            — President Obama (@POTUS) May 18, 2015    left           39   \n",
       "3075  Keep up with this story and more by subscribin...    left           51   \n",
       "4876  See the Steve Malzberg Show on Newsmax TV each...   right           80   \n",
       "3165  [View the story \"\"Harf sparks Twitter war with...  center           89   \n",
       "\n",
       "      body_word_count  \n",
       "5006                4  \n",
       "3229                7  \n",
       "3075               10  \n",
       "4876               15  \n",
       "3165               15  "
      ],
      "text/html": [
       "<div>\n",
       "<style scoped>\n",
       "    .dataframe tbody tr th:only-of-type {\n",
       "        vertical-align: middle;\n",
       "    }\n",
       "\n",
       "    .dataframe tbody tr th {\n",
       "        vertical-align: top;\n",
       "    }\n",
       "\n",
       "    .dataframe thead th {\n",
       "        text-align: right;\n",
       "    }\n",
       "</style>\n",
       "<table border=\"1\" class=\"dataframe\">\n",
       "  <thead>\n",
       "    <tr style=\"text-align: right;\">\n",
       "      <th></th>\n",
       "      <th>title</th>\n",
       "      <th>body</th>\n",
       "      <th>leaning</th>\n",
       "      <th>body_length</th>\n",
       "      <th>body_word_count</th>\n",
       "    </tr>\n",
       "  </thead>\n",
       "  <tbody>\n",
       "    <tr>\n",
       "      <th>5006</th>\n",
       "      <td>Cruz: Harry Reid Unwilling to Compromise Over ...</td>\n",
       "      <td>Story continues below video.</td>\n",
       "      <td>right</td>\n",
       "      <td>28</td>\n",
       "      <td>4</td>\n",
       "    </tr>\n",
       "    <tr>\n",
       "      <th>3229</th>\n",
       "      <td>President Obama Is Fired Up and Ready to Tweet</td>\n",
       "      <td>— President Obama (@POTUS) May 18, 2015</td>\n",
       "      <td>left</td>\n",
       "      <td>39</td>\n",
       "      <td>7</td>\n",
       "    </tr>\n",
       "    <tr>\n",
       "      <th>3075</th>\n",
       "      <td>Happy 4th of July: Americans Worry About Terro...</td>\n",
       "      <td>Keep up with this story and more by subscribin...</td>\n",
       "      <td>left</td>\n",
       "      <td>51</td>\n",
       "      <td>10</td>\n",
       "    </tr>\n",
       "    <tr>\n",
       "      <th>4876</th>\n",
       "      <td>Rand Paul: Moderate Like Christie Has Little C...</td>\n",
       "      <td>See the Steve Malzberg Show on Newsmax TV each...</td>\n",
       "      <td>right</td>\n",
       "      <td>80</td>\n",
       "      <td>15</td>\n",
       "    </tr>\n",
       "    <tr>\n",
       "      <th>3165</th>\n",
       "      <td>State Dept. spokeswoman sparks Twitter war wit...</td>\n",
       "      <td>[View the story \"\"Harf sparks Twitter war with...</td>\n",
       "      <td>center</td>\n",
       "      <td>89</td>\n",
       "      <td>15</td>\n",
       "    </tr>\n",
       "  </tbody>\n",
       "</table>\n",
       "</div>"
      ]
     },
     "execution_count": 83,
     "metadata": {},
     "output_type": "execute_result"
    }
   ],
   "execution_count": 83
  },
  {
   "cell_type": "markdown",
   "id": "19",
   "metadata": {},
   "source": "After inspection, articles with bodies shorter than 15 words seem to contain no political value. Removing them."
  },
  {
   "cell_type": "code",
   "id": "20",
   "metadata": {
    "ExecuteTime": {
     "end_time": "2024-10-27T12:32:14.069270Z",
     "start_time": "2024-10-27T12:32:12.987748Z"
    }
   },
   "source": [
    "body_word_count_lower_bound = 15\n",
    "df = df[df[\"body_word_count\"] >= body_word_count_lower_bound]\n",
    "# Ensuring to include the last (longest) item.\n",
    "downsampled = pd.concat([df[\"body_length\"].iloc[::10], df[\"body_length\"].tail(1)]).drop_duplicates()\n",
    "downsampled.plot.bar().xaxis.set_ticks([]);"
   ],
   "outputs": [
    {
     "data": {
      "text/plain": [
       "<Figure size 640x480 with 1 Axes>"
      ],
      "image/png": "[encoded data removed]"
     },
     "metadata": {},
     "output_type": "display_data"
    }
   ],
   "execution_count": 84
  },
  {
   "cell_type": "code",
   "id": "23",
   "metadata": {
    "ExecuteTime": {
     "end_time": "2024-10-27T12:32:14.124592Z",
     "start_time": "2024-10-27T12:32:14.120781Z"
    }
   },
   "source": [
    "df[\"body_length\"].mean()"
   ],
   "outputs": [
    {
     "data": {
      "text/plain": [
       "np.float64(5390.6144597126795)"
      ]
     },
     "execution_count": 85,
     "metadata": {},
     "output_type": "execute_result"
    }
   ],
   "execution_count": 85
  },
  {
   "cell_type": "markdown",
   "id": "24",
   "metadata": {},
   "source": [
    "The leaning distribution."
   ]
  },
  {
   "cell_type": "code",
   "id": "25",
   "metadata": {
    "ExecuteTime": {
     "end_time": "2024-10-27T12:32:14.253044Z",
     "start_time": "2024-10-27T12:32:14.200974Z"
    }
   },
   "source": [
    "df.groupby(\"leaning\", observed=True).size().plot.pie(autopct=\"%1.1f%%\");"
   ],
   "outputs": [
    {
     "data": {
      "text/plain": [
       "<Figure size 640x480 with 1 Axes>"
      ],
      "image/png": "[encoded data removed]"
     },
     "metadata": {},
     "output_type": "display_data"
    }
   ],
   "execution_count": 86
  },
  {
   "cell_type": "markdown",
   "id": "26",
   "metadata": {},
   "source": [
    "The distribution of body length sums per leaning."
   ]
  },
  {
   "cell_type": "code",
   "id": "27",
   "metadata": {
    "ExecuteTime": {
     "end_time": "2024-10-27T12:32:14.447687Z",
     "start_time": "2024-10-27T12:32:14.392598Z"
    }
   },
   "source": [
    "df.groupby(\"leaning\", observed=True)[\"body_length\"].sum().plot.pie(autopct=\"%1.1f%%\", ylabel=\"\");"
   ],
   "outputs": [
    {
     "data": {
      "text/plain": [
       "<Figure size 640x480 with 1 Axes>"
      ],
      "image/png": "[encoded data removed]"
     },
     "metadata": {},
     "output_type": "display_data"
    }
   ],
   "execution_count": 87
  },
  {
   "cell_type": "markdown",
   "id": "28",
   "metadata": {},
   "source": "Body length distribution by leaning."
  },
  {
   "cell_type": "code",
   "id": "29",
   "metadata": {
    "ExecuteTime": {
     "end_time": "2024-10-27T12:32:14.560945Z",
     "start_time": "2024-10-27T12:32:14.459006Z"
    }
   },
   "source": [
    "plt.figure(figsize=(10, 6))\n",
    "\n",
    "for leaning in df[\"leaning\"].unique():\n",
    "    df_leaning = df[df[\"leaning\"] == leaning]\n",
    "    downsampled = pd.concat(\n",
    "        # Ensuring to include the last (longest) item.\n",
    "        [df_leaning[\"body_length\"].iloc[::10], Series(df_leaning[\"body_length\"].tail(1))]\n",
    "    ).drop_duplicates().reset_index(drop=True)\n",
    "    plt.plot(downsampled, label=leaning)\n",
    "\n",
    "plt.xlabel(\"downsampled index\")\n",
    "plt.ylabel(\"body length\")\n",
    "plt.title(\"body length by political leaning\")\n",
    "plt.legend(title=\"leaning\")\n",
    "plt.show()"
   ],
   "outputs": [
    {
     "data": {
      "text/plain": [
       "<Figure size 1000x600 with 1 Axes>"
      ],
      "image/png": "[encoded data removed]"
     },
     "metadata": {},
     "output_type": "display_data"
    }
   ],
   "execution_count": 88
  },
  {
   "cell_type": "code",
   "id": "34",
   "metadata": {
    "ExecuteTime": {
     "end_time": "2024-10-27T12:32:14.815109Z",
     "start_time": "2024-10-27T12:32:14.572176Z"
    }
   },
   "source": [
    "df.to_parquet(\"../preprocessed/webis_bias_flipper_18.parquet\")"
   ],
   "outputs": [],
   "execution_count": 89
  }
 ],
 "metadata": {
  "kernelspec": {
   "display_name": "Python 3",
   "language": "python",
   "name": "python3"
  },
  "language_info": {
   "codemirror_mode": {
    "name": "ipython",
    "version": 2
   },
   "file_extension": ".py",
   "mimetype": "text/x-python",
   "name": "python",
   "nbconvert_exporter": "python",
   "pygments_lexer": "ipython2",
   "version": "2.7.6"
  }
 },
 "nbformat": 4,
 "nbformat_minor": 5
}
