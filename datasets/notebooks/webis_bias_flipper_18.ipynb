{
 "cells": [
  {
   "cell_type": "code",
   "id": "0",
   "metadata": {
    "ExecuteTime": {
     "end_time": "2024-10-17T15:14:39.574191Z",
     "start_time": "2024-10-17T15:14:39.571149Z"
    }
   },
   "source": [
    "import csv\n",
    "from io import StringIO\n",
    "\n",
    "import numpy as np\n",
    "import pandas as pd"
   ],
   "outputs": [],
   "execution_count": 16
  },
  {
   "cell_type": "markdown",
   "id": "1",
   "metadata": {},
   "source": [
    "Reading the raw dataset. Some rows (e.g. line 1010) contain complex nested quotes and commas, which requires modifying each line before passing it to `pandas.read_csv()`. The outer quotes get replaced by an arbitrary (`\\u2603`, the snowman) character, which is then specified as the quote character used for parsing."
   ]
  },
  {
   "cell_type": "code",
   "id": "2",
   "metadata": {
    "ExecuteTime": {
     "end_time": "2024-10-17T15:14:40.456886Z",
     "start_time": "2024-10-17T15:14:39.592897Z"
    }
   },
   "source": [
    "csv.field_size_limit(4 * 131072)  # 4 times the default\n",
    "\n",
    "with open(\"../raw/webis_bias_flipper_18.csv\", mode=\"r\", encoding=\"utf-8\") as file:\n",
    "    modified_lines = (\n",
    "        \"\\u2603\".join(line.replace(\"\\\",\\\"\", \"\\u2603,\\u2603\").replace(\"\\\"\", \"\\u2603\", 1).rsplit(\"\\\"\", 1))\n",
    "        for line in file\n",
    "    )\n",
    "    df = pd.read_csv(StringIO(\"\".join(modified_lines)), quotechar=\"\\u2603\", encoding=\"utf-8\", engine=\"python\")\n",
    "df"
   ],
   "outputs": [
    {
     "data": {
      "text/plain": [
       "      story_id             bias  \\\n",
       "0            0   From the Right   \n",
       "1            0    From the Left   \n",
       "2            1    From the Left   \n",
       "3            1  From the Center   \n",
       "4            1   From the Right   \n",
       "...        ...              ...   \n",
       "6443      2779  From the Center   \n",
       "6444      2779   From the Right   \n",
       "6445      2780    From the Left   \n",
       "6446      2780   From the Right   \n",
       "6447      2780  From the Center   \n",
       "\n",
       "                                                  title  \\\n",
       "0     Report: DACA-age illegals far more likely to c...   \n",
       "1     Trump’s claim that immigrants bring ‘tremendou...   \n",
       "2     Trump Accuses His Justice Department, FBI Of F...   \n",
       "3     Trump accuses FBI, Justice Department of polit...   \n",
       "4     Trump accuses FBI, DOJ leadership of bias agai...   \n",
       "...                                                 ...   \n",
       "6443  Obama, Romney Duel On Economy In Ohio Where It...   \n",
       "6444        Dueling speeches: Obama, Romney target Ohio   \n",
       "6445          John Edwards Trial: 7 ways he can rebuild   \n",
       "6446  After mistrial in Edwards case, law enforcemen...   \n",
       "6447  Edwards gets acquittal on one count, mistrial ...   \n",
       "\n",
       "                                                   body               source  \\\n",
       "0     A new report about crimes committed by illegal...  Washington Examiner   \n",
       "1     Trump earned Four Pinocchios the last time we ...      Washington Post   \n",
       "2                Many of them are actually Republicans.             HuffPost   \n",
       "3     President Donald Trump attacked the integrity ...              Reuters   \n",
       "4     President Trump said Friday the leaders at the...     Washington Times   \n",
       "...                                                 ...                  ...   \n",
       "6443  Ohio could very well be the state where what's...             NPR News   \n",
       "6444  Dueling from down the road, President Obama an...     Washington Times   \n",
       "6445  John Edwards walked out of court Thursday a fr...             Politico   \n",
       "6446            John Edwards walks -- at least for now.             Fox News   \n",
       "6447  Greensboro, North Carolina (CNN) -- Two-time D...       CNN (Web News)   \n",
       "\n",
       "                                         original_title  \\\n",
       "0     Report: DACA-age illegals far more likely to c...   \n",
       "1     Trump’s claim that immigrants bring ‘tremendou...   \n",
       "2     Trump Accuses His Justice Department, FBI Of F...   \n",
       "3     Explosive memo released as Trump escalates fig...   \n",
       "4     Trump accuses FBI, DOJ leadership of bias agai...   \n",
       "...                                                 ...   \n",
       "6443  Obama, Romney Duel On The Economy In Ohio, Whe...   \n",
       "6444        Dueling speeches: Obama, Romney target Ohio   \n",
       "6445                         7 ways Edwards can rebuild   \n",
       "6446  After mistrial in Edwards case, law enforcemen...   \n",
       "6447  Edwards gets acquittal on one count, mistrial ...   \n",
       "\n",
       "                                          original_body  \n",
       "0     A new report about crimes committed by illegal...  \n",
       "1     “The Democrats are really looking at something...  \n",
       "2     In his latest unprecedented attack on federal ...  \n",
       "3     WASHINGTON (Reuters) - President Donald Trump ...  \n",
       "4     President Trump said Friday the leaders at the...  \n",
       "...                                                 ...  \n",
       "6443  Ohio could very well be the state where what's...  \n",
       "6444  WASHINGTON (AP) — Dueling from down the road, ...  \n",
       "6445  Updated 06/01/2012 01:59 PM EDT John Edwards w...  \n",
       "6446  John Edwards walks -- at least for now. The fa...  \n",
       "6447  Story highlights Edwards says he's \"\"grateful ...  \n",
       "\n",
       "[6448 rows x 7 columns]"
      ],
      "text/html": [
       "<div>\n",
       "<style scoped>\n",
       "    .dataframe tbody tr th:only-of-type {\n",
       "        vertical-align: middle;\n",
       "    }\n",
       "\n",
       "    .dataframe tbody tr th {\n",
       "        vertical-align: top;\n",
       "    }\n",
       "\n",
       "    .dataframe thead th {\n",
       "        text-align: right;\n",
       "    }\n",
       "</style>\n",
       "<table border=\"1\" class=\"dataframe\">\n",
       "  <thead>\n",
       "    <tr style=\"text-align: right;\">\n",
       "      <th></th>\n",
       "      <th>story_id</th>\n",
       "      <th>bias</th>\n",
       "      <th>title</th>\n",
       "      <th>body</th>\n",
       "      <th>source</th>\n",
       "      <th>original_title</th>\n",
       "      <th>original_body</th>\n",
       "    </tr>\n",
       "  </thead>\n",
       "  <tbody>\n",
       "    <tr>\n",
       "      <th>0</th>\n",
       "      <td>0</td>\n",
       "      <td>From the Right</td>\n",
       "      <td>Report: DACA-age illegals far more likely to c...</td>\n",
       "      <td>A new report about crimes committed by illegal...</td>\n",
       "      <td>Washington Examiner</td>\n",
       "      <td>Report: DACA-age illegals far more likely to c...</td>\n",
       "      <td>A new report about crimes committed by illegal...</td>\n",
       "    </tr>\n",
       "    <tr>\n",
       "      <th>1</th>\n",
       "      <td>0</td>\n",
       "      <td>From the Left</td>\n",
       "      <td>Trump’s claim that immigrants bring ‘tremendou...</td>\n",
       "      <td>Trump earned Four Pinocchios the last time we ...</td>\n",
       "      <td>Washington Post</td>\n",
       "      <td>Trump’s claim that immigrants bring ‘tremendou...</td>\n",
       "      <td>“The Democrats are really looking at something...</td>\n",
       "    </tr>\n",
       "    <tr>\n",
       "      <th>2</th>\n",
       "      <td>1</td>\n",
       "      <td>From the Left</td>\n",
       "      <td>Trump Accuses His Justice Department, FBI Of F...</td>\n",
       "      <td>Many of them are actually Republicans.</td>\n",
       "      <td>HuffPost</td>\n",
       "      <td>Trump Accuses His Justice Department, FBI Of F...</td>\n",
       "      <td>In his latest unprecedented attack on federal ...</td>\n",
       "    </tr>\n",
       "    <tr>\n",
       "      <th>3</th>\n",
       "      <td>1</td>\n",
       "      <td>From the Center</td>\n",
       "      <td>Trump accuses FBI, Justice Department of polit...</td>\n",
       "      <td>President Donald Trump attacked the integrity ...</td>\n",
       "      <td>Reuters</td>\n",
       "      <td>Explosive memo released as Trump escalates fig...</td>\n",
       "      <td>WASHINGTON (Reuters) - President Donald Trump ...</td>\n",
       "    </tr>\n",
       "    <tr>\n",
       "      <th>4</th>\n",
       "      <td>1</td>\n",
       "      <td>From the Right</td>\n",
       "      <td>Trump accuses FBI, DOJ leadership of bias agai...</td>\n",
       "      <td>President Trump said Friday the leaders at the...</td>\n",
       "      <td>Washington Times</td>\n",
       "      <td>Trump accuses FBI, DOJ leadership of bias agai...</td>\n",
       "      <td>President Trump said Friday the leaders at the...</td>\n",
       "    </tr>\n",
       "    <tr>\n",
       "      <th>...</th>\n",
       "      <td>...</td>\n",
       "      <td>...</td>\n",
       "      <td>...</td>\n",
       "      <td>...</td>\n",
       "      <td>...</td>\n",
       "      <td>...</td>\n",
       "      <td>...</td>\n",
       "    </tr>\n",
       "    <tr>\n",
       "      <th>6443</th>\n",
       "      <td>2779</td>\n",
       "      <td>From the Center</td>\n",
       "      <td>Obama, Romney Duel On Economy In Ohio Where It...</td>\n",
       "      <td>Ohio could very well be the state where what's...</td>\n",
       "      <td>NPR News</td>\n",
       "      <td>Obama, Romney Duel On The Economy In Ohio, Whe...</td>\n",
       "      <td>Ohio could very well be the state where what's...</td>\n",
       "    </tr>\n",
       "    <tr>\n",
       "      <th>6444</th>\n",
       "      <td>2779</td>\n",
       "      <td>From the Right</td>\n",
       "      <td>Dueling speeches: Obama, Romney target Ohio</td>\n",
       "      <td>Dueling from down the road, President Obama an...</td>\n",
       "      <td>Washington Times</td>\n",
       "      <td>Dueling speeches: Obama, Romney target Ohio</td>\n",
       "      <td>WASHINGTON (AP) — Dueling from down the road, ...</td>\n",
       "    </tr>\n",
       "    <tr>\n",
       "      <th>6445</th>\n",
       "      <td>2780</td>\n",
       "      <td>From the Left</td>\n",
       "      <td>John Edwards Trial: 7 ways he can rebuild</td>\n",
       "      <td>John Edwards walked out of court Thursday a fr...</td>\n",
       "      <td>Politico</td>\n",
       "      <td>7 ways Edwards can rebuild</td>\n",
       "      <td>Updated 06/01/2012 01:59 PM EDT John Edwards w...</td>\n",
       "    </tr>\n",
       "    <tr>\n",
       "      <th>6446</th>\n",
       "      <td>2780</td>\n",
       "      <td>From the Right</td>\n",
       "      <td>After mistrial in Edwards case, law enforcemen...</td>\n",
       "      <td>John Edwards walks -- at least for now.</td>\n",
       "      <td>Fox News</td>\n",
       "      <td>After mistrial in Edwards case, law enforcemen...</td>\n",
       "      <td>John Edwards walks -- at least for now. The fa...</td>\n",
       "    </tr>\n",
       "    <tr>\n",
       "      <th>6447</th>\n",
       "      <td>2780</td>\n",
       "      <td>From the Center</td>\n",
       "      <td>Edwards gets acquittal on one count, mistrial ...</td>\n",
       "      <td>Greensboro, North Carolina (CNN) -- Two-time D...</td>\n",
       "      <td>CNN (Web News)</td>\n",
       "      <td>Edwards gets acquittal on one count, mistrial ...</td>\n",
       "      <td>Story highlights Edwards says he's \"\"grateful ...</td>\n",
       "    </tr>\n",
       "  </tbody>\n",
       "</table>\n",
       "<p>6448 rows × 7 columns</p>\n",
       "</div>"
      ]
     },
     "execution_count": 17,
     "metadata": {},
     "output_type": "execute_result"
    }
   ],
   "execution_count": 17
  },
  {
   "cell_type": "markdown",
   "id": "3",
   "metadata": {},
   "source": [
    "Comparison of the body column (from AllSides) versus the original body column (from the news portals). The text volume of the original columns is much higher, probably because AllSides cuts the length. This means the title and body columns can be dropped and the original ones will be used."
   ]
  },
  {
   "cell_type": "code",
   "id": "4",
   "metadata": {
    "ExecuteTime": {
     "end_time": "2024-10-17T15:14:40.673705Z",
     "start_time": "2024-10-17T15:14:40.560643Z"
    }
   },
   "source": [
    "pd.Series(\n",
    "    [df[\"original_body\"].str.len().sum(), df[\"body\"].str.len().sum()],\n",
    "    index=[\"original body\", \"body\"]\n",
    ").plot.pie(autopct=\"%1.1f%%\");"
   ],
   "outputs": [
    {
     "data": {
      "text/plain": [
       "<Figure size 640x480 with 1 Axes>"
      ],
      "image/png": "[encoded data removed]"
     },
     "metadata": {},
     "output_type": "display_data"
    }
   ],
   "execution_count": 18
  },
  {
   "cell_type": "markdown",
   "id": "5",
   "metadata": {},
   "source": [
    "Dropping useless columns."
   ]
  },
  {
   "cell_type": "code",
   "id": "6",
   "metadata": {
    "ExecuteTime": {
     "end_time": "2024-10-17T15:14:40.811094Z",
     "start_time": "2024-10-17T15:14:40.803114Z"
    }
   },
   "source": [
    "df = df.drop(columns=[\"story_id\", \"title\", \"body\", \"source\"])"
   ],
   "outputs": [],
   "execution_count": 19
  },
  {
   "cell_type": "markdown",
   "id": "7",
   "metadata": {},
   "source": [
    "Renaming and reordering columns."
   ]
  },
  {
   "cell_type": "code",
   "id": "8",
   "metadata": {
    "ExecuteTime": {
     "end_time": "2024-10-17T15:14:40.873559Z",
     "start_time": "2024-10-17T15:14:40.865894Z"
    }
   },
   "source": [
    "df = df.rename(columns={\"original_title\": \"title\", \"original_body\": \"body\", \"bias\": \"leaning\"})\n",
    "df = df[[\"title\", \"body\", \"leaning\"]].copy()"
   ],
   "outputs": [],
   "execution_count": 20
  },
  {
   "cell_type": "markdown",
   "id": "9",
   "metadata": {},
   "source": [
    "Categorizing the leaning column."
   ]
  },
  {
   "cell_type": "code",
   "id": "10",
   "metadata": {
    "ExecuteTime": {
     "end_time": "2024-10-17T15:14:40.926917Z",
     "start_time": "2024-10-17T15:14:40.919625Z"
    }
   },
   "source": [
    "df[\"leaning\"] = df[\"leaning\"].astype(\"category\")\n",
    "df[\"leaning\"] = df[\"leaning\"].cat.rename_categories(\n",
    "    {\"From the Left\": \"left\", \"From the Center\": \"center\", \"From the Right\": \"right\"}\n",
    ")"
   ],
   "outputs": [],
   "execution_count": 21
  },
  {
   "cell_type": "markdown",
   "id": "11",
   "metadata": {},
   "source": [
    "Printing duplicates."
   ]
  },
  {
   "cell_type": "code",
   "id": "12",
   "metadata": {
    "ExecuteTime": {
     "end_time": "2024-10-17T15:14:40.992263Z",
     "start_time": "2024-10-17T15:14:40.977924Z"
    }
   },
   "source": [
    "df[df[\"body\"].duplicated(keep=False)]"
   ],
   "outputs": [
    {
     "data": {
      "text/plain": [
       "                                                  title  \\\n",
       "466   U.S. states sue to block Trump Obamacare subsi...   \n",
       "477   U.S. states sue to block Trump Obamacare subsi...   \n",
       "918   Rand Paul and 3 Others Reject Senate GOP Healt...   \n",
       "925   Rand Paul and 3 Others Reject Senate GOP Healt...   \n",
       "965   Highlights from Attorney General Jeff Sessions...   \n",
       "...                                                 ...   \n",
       "6302        A Fine Night For Romney, But No Game Change   \n",
       "6327      Romney Reboot? Convention Could Be The Ticket   \n",
       "6330      Romney Reboot? Convention Could Be The Ticket   \n",
       "6378                  Jobs numbers better than expected   \n",
       "6397                  Jobs numbers better than expected   \n",
       "\n",
       "                                                   body leaning  \n",
       "466   WASHINGTON/SAN FRANCISCO (Reuters) - Eighteen ...  center  \n",
       "477   WASHINGTON/SAN FRANCISCO (Reuters) - Eighteen ...  center  \n",
       "918   WASHINGTON -- Sen. Rand Paul, R-Ky., says he a...   right  \n",
       "925   WASHINGTON -- Sen. Rand Paul, R-Ky., says he a...   right  \n",
       "965   Attorney General Jeff Sessions engaged in high...    left  \n",
       "...                                                 ...     ...  \n",
       "6302  It's been the political world's obsession for ...  center  \n",
       "6327  Mitt Romney, 65, has spent the better part of ...  center  \n",
       "6330  Mitt Romney, 65, has spent the better part of ...  center  \n",
       "6378  Updated 08/03/2012 01:41 PM EDT Job growth in ...    left  \n",
       "6397  Updated 08/03/2012 01:41 PM EDT Job growth in ...    left  \n",
       "\n",
       "[85 rows x 3 columns]"
      ],
      "text/html": [
       "<div>\n",
       "<style scoped>\n",
       "    .dataframe tbody tr th:only-of-type {\n",
       "        vertical-align: middle;\n",
       "    }\n",
       "\n",
       "    .dataframe tbody tr th {\n",
       "        vertical-align: top;\n",
       "    }\n",
       "\n",
       "    .dataframe thead th {\n",
       "        text-align: right;\n",
       "    }\n",
       "</style>\n",
       "<table border=\"1\" class=\"dataframe\">\n",
       "  <thead>\n",
       "    <tr style=\"text-align: right;\">\n",
       "      <th></th>\n",
       "      <th>title</th>\n",
       "      <th>body</th>\n",
       "      <th>leaning</th>\n",
       "    </tr>\n",
       "  </thead>\n",
       "  <tbody>\n",
       "    <tr>\n",
       "      <th>466</th>\n",
       "      <td>U.S. states sue to block Trump Obamacare subsi...</td>\n",
       "      <td>WASHINGTON/SAN FRANCISCO (Reuters) - Eighteen ...</td>\n",
       "      <td>center</td>\n",
       "    </tr>\n",
       "    <tr>\n",
       "      <th>477</th>\n",
       "      <td>U.S. states sue to block Trump Obamacare subsi...</td>\n",
       "      <td>WASHINGTON/SAN FRANCISCO (Reuters) - Eighteen ...</td>\n",
       "      <td>center</td>\n",
       "    </tr>\n",
       "    <tr>\n",
       "      <th>918</th>\n",
       "      <td>Rand Paul and 3 Others Reject Senate GOP Healt...</td>\n",
       "      <td>WASHINGTON -- Sen. Rand Paul, R-Ky., says he a...</td>\n",
       "      <td>right</td>\n",
       "    </tr>\n",
       "    <tr>\n",
       "      <th>925</th>\n",
       "      <td>Rand Paul and 3 Others Reject Senate GOP Healt...</td>\n",
       "      <td>WASHINGTON -- Sen. Rand Paul, R-Ky., says he a...</td>\n",
       "      <td>right</td>\n",
       "    </tr>\n",
       "    <tr>\n",
       "      <th>965</th>\n",
       "      <td>Highlights from Attorney General Jeff Sessions...</td>\n",
       "      <td>Attorney General Jeff Sessions engaged in high...</td>\n",
       "      <td>left</td>\n",
       "    </tr>\n",
       "    <tr>\n",
       "      <th>...</th>\n",
       "      <td>...</td>\n",
       "      <td>...</td>\n",
       "      <td>...</td>\n",
       "    </tr>\n",
       "    <tr>\n",
       "      <th>6302</th>\n",
       "      <td>A Fine Night For Romney, But No Game Change</td>\n",
       "      <td>It's been the political world's obsession for ...</td>\n",
       "      <td>center</td>\n",
       "    </tr>\n",
       "    <tr>\n",
       "      <th>6327</th>\n",
       "      <td>Romney Reboot? Convention Could Be The Ticket</td>\n",
       "      <td>Mitt Romney, 65, has spent the better part of ...</td>\n",
       "      <td>center</td>\n",
       "    </tr>\n",
       "    <tr>\n",
       "      <th>6330</th>\n",
       "      <td>Romney Reboot? Convention Could Be The Ticket</td>\n",
       "      <td>Mitt Romney, 65, has spent the better part of ...</td>\n",
       "      <td>center</td>\n",
       "    </tr>\n",
       "    <tr>\n",
       "      <th>6378</th>\n",
       "      <td>Jobs numbers better than expected</td>\n",
       "      <td>Updated 08/03/2012 01:41 PM EDT Job growth in ...</td>\n",
       "      <td>left</td>\n",
       "    </tr>\n",
       "    <tr>\n",
       "      <th>6397</th>\n",
       "      <td>Jobs numbers better than expected</td>\n",
       "      <td>Updated 08/03/2012 01:41 PM EDT Job growth in ...</td>\n",
       "      <td>left</td>\n",
       "    </tr>\n",
       "  </tbody>\n",
       "</table>\n",
       "<p>85 rows × 3 columns</p>\n",
       "</div>"
      ]
     },
     "execution_count": 22,
     "metadata": {},
     "output_type": "execute_result"
    }
   ],
   "execution_count": 22
  },
  {
   "cell_type": "markdown",
   "id": "13",
   "metadata": {},
   "source": [
    "Dropping the duplicates."
   ]
  },
  {
   "cell_type": "code",
   "id": "14",
   "metadata": {
    "ExecuteTime": {
     "end_time": "2024-10-17T15:14:41.086029Z",
     "start_time": "2024-10-17T15:14:41.080044Z"
    }
   },
   "source": [
    "df = df.drop_duplicates(subset=\"body\")"
   ],
   "outputs": [],
   "execution_count": 23
  },
  {
   "cell_type": "markdown",
   "id": "15",
   "metadata": {},
   "source": [
    "Inspecting body length."
   ]
  },
  {
   "cell_type": "code",
   "id": "16",
   "metadata": {
    "ExecuteTime": {
     "end_time": "2024-10-17T15:14:41.724500Z",
     "start_time": "2024-10-17T15:14:41.128389Z"
    }
   },
   "source": [
    "df[\"body_length\"] = df[\"body\"].str.len()\n",
    "df[\"body_word_count\"] = df[\"body\"].str.split().str.len()\n",
    "df = df.sort_values(by=\"body_length\")\n",
    "df.head()"
   ],
   "outputs": [
    {
     "data": {
      "text/plain": [
       "                                                  title  \\\n",
       "3776  Zephyr Teachout, Hands Up United and John Oliv...   \n",
       "4518     Ukraine: Photos show undercover Russian troops   \n",
       "543   The Daily 202: Roy Moore’s victory and Bob Cor...   \n",
       "5077  Iranian leader: U.S. will 'definitely suffer' ...   \n",
       "344   The Daily 202: As Roy Moore declines to step a...   \n",
       "\n",
       "                                                   body leaning  body_length  \\\n",
       "3776  Ad Policy This last year was a tough one, with...    left       441688   \n",
       "4518  Story highlights Residents say armed militants...  center        62872   \n",
       "543   With Breanne Deppisch and Joanie Greve THE BIG...    left        55471   \n",
       "5077  Story highlights Opposition group reports 87 d...  center        55106   \n",
       "344   With Breanne Deppisch and Joanie Greve THE BIG...    left        51164   \n",
       "\n",
       "      body_word_count  \n",
       "3776            69708  \n",
       "4518            10254  \n",
       "543              8998  \n",
       "5077             9761  \n",
       "344              8385  "
      ],
      "text/html": [
       "<div>\n",
       "<style scoped>\n",
       "    .dataframe tbody tr th:only-of-type {\n",
       "        vertical-align: middle;\n",
       "    }\n",
       "\n",
       "    .dataframe tbody tr th {\n",
       "        vertical-align: top;\n",
       "    }\n",
       "\n",
       "    .dataframe thead th {\n",
       "        text-align: right;\n",
       "    }\n",
       "</style>\n",
       "<table border=\"1\" class=\"dataframe\">\n",
       "  <thead>\n",
       "    <tr style=\"text-align: right;\">\n",
       "      <th></th>\n",
       "      <th>title</th>\n",
       "      <th>body</th>\n",
       "      <th>leaning</th>\n",
       "      <th>body_length</th>\n",
       "      <th>body_word_count</th>\n",
       "    </tr>\n",
       "  </thead>\n",
       "  <tbody>\n",
       "    <tr>\n",
       "      <th>3776</th>\n",
       "      <td>Zephyr Teachout, Hands Up United and John Oliv...</td>\n",
       "      <td>Ad Policy This last year was a tough one, with...</td>\n",
       "      <td>left</td>\n",
       "      <td>441688</td>\n",
       "      <td>69708</td>\n",
       "    </tr>\n",
       "    <tr>\n",
       "      <th>4518</th>\n",
       "      <td>Ukraine: Photos show undercover Russian troops</td>\n",
       "      <td>Story highlights Residents say armed militants...</td>\n",
       "      <td>center</td>\n",
       "      <td>62872</td>\n",
       "      <td>10254</td>\n",
       "    </tr>\n",
       "    <tr>\n",
       "      <th>543</th>\n",
       "      <td>The Daily 202: Roy Moore’s victory and Bob Cor...</td>\n",
       "      <td>With Breanne Deppisch and Joanie Greve THE BIG...</td>\n",
       "      <td>left</td>\n",
       "      <td>55471</td>\n",
       "      <td>8998</td>\n",
       "    </tr>\n",
       "    <tr>\n",
       "      <th>5077</th>\n",
       "      <td>Iranian leader: U.S. will 'definitely suffer' ...</td>\n",
       "      <td>Story highlights Opposition group reports 87 d...</td>\n",
       "      <td>center</td>\n",
       "      <td>55106</td>\n",
       "      <td>9761</td>\n",
       "    </tr>\n",
       "    <tr>\n",
       "      <th>344</th>\n",
       "      <td>The Daily 202: As Roy Moore declines to step a...</td>\n",
       "      <td>With Breanne Deppisch and Joanie Greve THE BIG...</td>\n",
       "      <td>left</td>\n",
       "      <td>51164</td>\n",
       "      <td>8385</td>\n",
       "    </tr>\n",
       "  </tbody>\n",
       "</table>\n",
       "</div>"
      ]
     },
     "execution_count": 24,
     "metadata": {},
     "output_type": "execute_result"
    }
   ],
   "execution_count": 24
  },
  {
   "cell_type": "code",
   "id": "17",
   "metadata": {
    "ExecuteTime": {
     "end_time": "2024-10-17T15:14:41.925100Z",
     "start_time": "2024-10-17T15:14:41.911271Z"
    }
   },
   "source": "df.tail()",
   "outputs": [
    {
     "data": {
      "text/plain": [
       "                                                  title  \\\n",
       "5006  Cruz: Harry Reid Unwilling to Compromise Over ...   \n",
       "3229     President Obama Is Fired Up and Ready to Tweet   \n",
       "3075  Happy 4th of July: Americans Worry About Terro...   \n",
       "4876  Rand Paul: Moderate Like Christie Has Little C...   \n",
       "3165  State Dept. spokeswoman sparks Twitter war wit...   \n",
       "\n",
       "                                                   body leaning  body_length  \\\n",
       "5006                       Story continues below video.   right           28   \n",
       "3229            — President Obama (@POTUS) May 18, 2015    left           39   \n",
       "3075  Keep up with this story and more by subscribin...    left           51   \n",
       "4876  See the Steve Malzberg Show on Newsmax TV each...   right           80   \n",
       "3165  [View the story \"\"Harf sparks Twitter war with...  center           89   \n",
       "\n",
       "      body_word_count  \n",
       "5006                4  \n",
       "3229                7  \n",
       "3075               10  \n",
       "4876               15  \n",
       "3165               15  "
      ],
      "text/html": [
       "<div>\n",
       "<style scoped>\n",
       "    .dataframe tbody tr th:only-of-type {\n",
       "        vertical-align: middle;\n",
       "    }\n",
       "\n",
       "    .dataframe tbody tr th {\n",
       "        vertical-align: top;\n",
       "    }\n",
       "\n",
       "    .dataframe thead th {\n",
       "        text-align: right;\n",
       "    }\n",
       "</style>\n",
       "<table border=\"1\" class=\"dataframe\">\n",
       "  <thead>\n",
       "    <tr style=\"text-align: right;\">\n",
       "      <th></th>\n",
       "      <th>title</th>\n",
       "      <th>body</th>\n",
       "      <th>leaning</th>\n",
       "      <th>body_length</th>\n",
       "      <th>body_word_count</th>\n",
       "    </tr>\n",
       "  </thead>\n",
       "  <tbody>\n",
       "    <tr>\n",
       "      <th>5006</th>\n",
       "      <td>Cruz: Harry Reid Unwilling to Compromise Over ...</td>\n",
       "      <td>Story continues below video.</td>\n",
       "      <td>right</td>\n",
       "      <td>28</td>\n",
       "      <td>4</td>\n",
       "    </tr>\n",
       "    <tr>\n",
       "      <th>3229</th>\n",
       "      <td>President Obama Is Fired Up and Ready to Tweet</td>\n",
       "      <td>— President Obama (@POTUS) May 18, 2015</td>\n",
       "      <td>left</td>\n",
       "      <td>39</td>\n",
       "      <td>7</td>\n",
       "    </tr>\n",
       "    <tr>\n",
       "      <th>3075</th>\n",
       "      <td>Happy 4th of July: Americans Worry About Terro...</td>\n",
       "      <td>Keep up with this story and more by subscribin...</td>\n",
       "      <td>left</td>\n",
       "      <td>51</td>\n",
       "      <td>10</td>\n",
       "    </tr>\n",
       "    <tr>\n",
       "      <th>4876</th>\n",
       "      <td>Rand Paul: Moderate Like Christie Has Little C...</td>\n",
       "      <td>See the Steve Malzberg Show on Newsmax TV each...</td>\n",
       "      <td>right</td>\n",
       "      <td>80</td>\n",
       "      <td>15</td>\n",
       "    </tr>\n",
       "    <tr>\n",
       "      <th>3165</th>\n",
       "      <td>State Dept. spokeswoman sparks Twitter war wit...</td>\n",
       "      <td>[View the story \"\"Harf sparks Twitter war with...</td>\n",
       "      <td>center</td>\n",
       "      <td>89</td>\n",
       "      <td>15</td>\n",
       "    </tr>\n",
       "  </tbody>\n",
       "</table>\n",
       "</div>"
      ]
     },
     "execution_count": 25,
     "metadata": {},
     "output_type": "execute_result"
    }
   ],
   "execution_count": 25
  },
  {
   "metadata": {
    "ExecuteTime": {
     "end_time": "2024-10-17T15:14:42.673423Z",
     "start_time": "2024-10-17T15:14:42.092167Z"
    }
   },
   "cell_type": "code",
   "source": [
    "# Ensuring to include the last (longest) item.\n",
    "downsampled = pd.concat([df[\"body_length\"].iloc[::100], df[\"body_length\"].iloc[[-1]]]).drop_duplicates()\n",
    "downsampled.plot.bar();"
   ],
   "id": "6469e1e3dcfd8bf1",
   "outputs": [
    {
     "data": {
      "text/plain": [
       "<Figure size 640x480 with 1 Axes>"
      ],
      "image/png": "[encoded data removed]"
     },
     "metadata": {},
     "output_type": "display_data"
    }
   ],
   "execution_count": 26
  },
  {
   "cell_type": "markdown",
   "id": "18",
   "metadata": {},
   "source": [
    "Calculating the bounds for body length."
   ]
  },
  {
   "cell_type": "code",
   "id": "19",
   "metadata": {
    "ExecuteTime": {
     "end_time": "2024-10-17T15:14:42.726140Z",
     "start_time": "2024-10-17T15:14:42.719849Z"
    }
   },
   "source": [
    "q1 = np.percentile(df[\"body_length\"], 25)\n",
    "q3 = np.percentile(df[\"body_length\"], 75)\n",
    "iqr = q3 - q1\n",
    "lower_bound_multiplier = 0.5\n",
    "upper_bound_multiplier = 9\n",
    "lower_bound = q1 - lower_bound_multiplier * iqr\n",
    "upper_bound = q3 + upper_bound_multiplier * iqr\n",
    "lower_bound, upper_bound"
   ],
   "outputs": [
    {
     "data": {
      "text/plain": [
       "(np.float64(755.5), np.float64(42262.0))"
      ]
     },
     "execution_count": 27,
     "metadata": {},
     "output_type": "execute_result"
    }
   ],
   "execution_count": 27
  },
  {
   "cell_type": "markdown",
   "id": "20",
   "metadata": {},
   "source": [
    "Removing the outliers based on the body length."
   ]
  },
  {
   "cell_type": "code",
   "id": "21",
   "metadata": {
    "ExecuteTime": {
     "end_time": "2024-10-17T15:14:43.315819Z",
     "start_time": "2024-10-17T15:14:42.770837Z"
    }
   },
   "source": [
    "df = df[(df[\"body_length\"] >= lower_bound) & (df[\"body_length\"] <= upper_bound)]\n",
    "body_length = df[\"body_length\"].sort_values()\n",
    "# Ensuring to include the last (longest) item.\n",
    "downsampled = pd.concat([body_length.iloc[::100], body_length.iloc[[-1]]]).drop_duplicates()\n",
    "downsampled.plot.bar();"
   ],
   "outputs": [
    {
     "data": {
      "text/plain": [
       "<Figure size 640x480 with 1 Axes>"
      ],
      "image/png": "[encoded data removed]"
     },
     "metadata": {},
     "output_type": "display_data"
    }
   ],
   "execution_count": 28
  },
  {
   "metadata": {},
   "cell_type": "code",
   "outputs": [],
   "execution_count": null,
   "source": "df[\"body_length\"].mean()",
   "id": "729181665ae9ad48"
  },
  {
   "cell_type": "markdown",
   "id": "22",
   "metadata": {},
   "source": [
    "The leaning distribution."
   ]
  },
  {
   "cell_type": "code",
   "id": "23",
   "metadata": {
    "ExecuteTime": {
     "end_time": "2024-10-17T15:14:43.415745Z",
     "start_time": "2024-10-17T15:14:43.349918Z"
    }
   },
   "source": [
    "df.groupby(\"leaning\", observed=True).size().plot.pie(autopct=\"%1.1f%%\");"
   ],
   "outputs": [
    {
     "data": {
      "text/plain": [
       "<Figure size 640x480 with 1 Axes>"
      ],
      "image/png": "[encoded data removed]"
     },
     "metadata": {},
     "output_type": "display_data"
    }
   ],
   "execution_count": 29
  },
  {
   "cell_type": "code",
   "id": "26",
   "metadata": {
    "ExecuteTime": {
     "end_time": "2024-10-17T15:14:43.643199Z",
     "start_time": "2024-10-17T15:14:43.428072Z"
    }
   },
   "source": "df.to_parquet(\"../preprocessed/webis_bias_flipper_18.parquet\")",
   "outputs": [],
   "execution_count": 30
  }
 ],
 "metadata": {
  "kernelspec": {
   "display_name": "Python 3",
   "language": "python",
   "name": "python3"
  },
  "language_info": {
   "codemirror_mode": {
    "name": "ipython",
    "version": 2
   },
   "file_extension": ".py",
   "mimetype": "text/x-python",
   "name": "python",
   "nbconvert_exporter": "python",
   "pygments_lexer": "ipython2",
   "version": "2.7.6"
  }
 },
 "nbformat": 4,
 "nbformat_minor": 5
}
