{
 "cells": [
  {
   "cell_type": "code",
   "id": "0",
   "metadata": {
    "ExecuteTime": {
     "end_time": "2024-10-16T19:26:18.661799Z",
     "start_time": "2024-10-16T19:26:17.968502Z"
    }
   },
   "source": [
    "import sqlite3\n",
    "\n",
    "import numpy as np\n",
    "import pandas as pd"
   ],
   "outputs": [],
   "execution_count": 1
  },
  {
   "cell_type": "markdown",
   "id": "1",
   "metadata": {},
   "source": [
    "Reading the raw dataset."
   ]
  },
  {
   "cell_type": "code",
   "id": "2",
   "metadata": {
    "ExecuteTime": {
     "end_time": "2024-10-16T19:26:38.019638Z",
     "start_time": "2024-10-16T19:26:18.699769Z"
    }
   },
   "source": [
    "connection = sqlite3.connect(\"../raw/commoncrawl_news_articles/articles.db\")\n",
    "\n",
    "df = pd.read_sql(\"SELECT content_preprocessed, au.outlet_name FROM article_contents ac INNER JOIN article_urls au on ac.uuid = au.uuid WHERE language = 'en'\", connection)\n",
    "\n",
    "outlets_df = pd.read_json(open(\"../raw/commoncrawl_news_articles/outlets.json\"))\n",
    "df = df.merge(outlets_df, how=\"outer\", left_on=\"outlet_name\", right_on=\"name\")\n",
    "df"
   ],
   "outputs": [
    {
     "data": {
      "text/plain": [
       "                                     content_preprocessed outlet_name  \\\n",
       "0       Ukraine's president is pleading with citizens ...    ABC News   \n",
       "1       Youtube\\n“It’s a phenomenon, but so is the Her...    ABC News   \n",
       "2       Rep. Liz Cheney leaves House chamber with her ...    ABC News   \n",
       "3       Will Smith, Lady Gaga and Ben Affleck landed i...    ABC News   \n",
       "4       Taiwan says 27 Chinese aircraft entered its ai...    ABC News   \n",
       "...                                                   ...         ...   \n",
       "520799  \"I’m quite concerned,\" warned Goldman's Abby J...   ZeroHedge   \n",
       "520800  A recent report by the Middle East Media Resea...   ZeroHedge   \n",
       "520801  It's that time again when Jeffrey Gundlach, th...   ZeroHedge   \n",
       "520802  As we discussed yesterday, when looking at the...   ZeroHedge   \n",
       "520803  Just before Wednesday's Putin-Xi virtual summi...   ZeroHedge   \n",
       "\n",
       "             name             tld filter allsides_rating      allsides_name  \n",
       "0        ABC News  abcnews.go.com              lean left  ABC News (Online)  \n",
       "1        ABC News  abcnews.go.com              lean left  ABC News (Online)  \n",
       "2        ABC News  abcnews.go.com              lean left  ABC News (Online)  \n",
       "3        ABC News  abcnews.go.com              lean left  ABC News (Online)  \n",
       "4        ABC News  abcnews.go.com              lean left  ABC News (Online)  \n",
       "...           ...             ...    ...             ...                ...  \n",
       "520799  ZeroHedge   zerohedge.com             lean right          ZeroHedge  \n",
       "520800  ZeroHedge   zerohedge.com             lean right          ZeroHedge  \n",
       "520801  ZeroHedge   zerohedge.com             lean right          ZeroHedge  \n",
       "520802  ZeroHedge   zerohedge.com             lean right          ZeroHedge  \n",
       "520803  ZeroHedge   zerohedge.com             lean right          ZeroHedge  \n",
       "\n",
       "[520804 rows x 7 columns]"
      ],
      "text/html": [
       "<div>\n",
       "<style scoped>\n",
       "    .dataframe tbody tr th:only-of-type {\n",
       "        vertical-align: middle;\n",
       "    }\n",
       "\n",
       "    .dataframe tbody tr th {\n",
       "        vertical-align: top;\n",
       "    }\n",
       "\n",
       "    .dataframe thead th {\n",
       "        text-align: right;\n",
       "    }\n",
       "</style>\n",
       "<table border=\"1\" class=\"dataframe\">\n",
       "  <thead>\n",
       "    <tr style=\"text-align: right;\">\n",
       "      <th></th>\n",
       "      <th>content_preprocessed</th>\n",
       "      <th>outlet_name</th>\n",
       "      <th>name</th>\n",
       "      <th>tld</th>\n",
       "      <th>filter</th>\n",
       "      <th>allsides_rating</th>\n",
       "      <th>allsides_name</th>\n",
       "    </tr>\n",
       "  </thead>\n",
       "  <tbody>\n",
       "    <tr>\n",
       "      <th>0</th>\n",
       "      <td>Ukraine's president is pleading with citizens ...</td>\n",
       "      <td>ABC News</td>\n",
       "      <td>ABC News</td>\n",
       "      <td>abcnews.go.com</td>\n",
       "      <td></td>\n",
       "      <td>lean left</td>\n",
       "      <td>ABC News (Online)</td>\n",
       "    </tr>\n",
       "    <tr>\n",
       "      <th>1</th>\n",
       "      <td>Youtube\\n“It’s a phenomenon, but so is the Her...</td>\n",
       "      <td>ABC News</td>\n",
       "      <td>ABC News</td>\n",
       "      <td>abcnews.go.com</td>\n",
       "      <td></td>\n",
       "      <td>lean left</td>\n",
       "      <td>ABC News (Online)</td>\n",
       "    </tr>\n",
       "    <tr>\n",
       "      <th>2</th>\n",
       "      <td>Rep. Liz Cheney leaves House chamber with her ...</td>\n",
       "      <td>ABC News</td>\n",
       "      <td>ABC News</td>\n",
       "      <td>abcnews.go.com</td>\n",
       "      <td></td>\n",
       "      <td>lean left</td>\n",
       "      <td>ABC News (Online)</td>\n",
       "    </tr>\n",
       "    <tr>\n",
       "      <th>3</th>\n",
       "      <td>Will Smith, Lady Gaga and Ben Affleck landed i...</td>\n",
       "      <td>ABC News</td>\n",
       "      <td>ABC News</td>\n",
       "      <td>abcnews.go.com</td>\n",
       "      <td></td>\n",
       "      <td>lean left</td>\n",
       "      <td>ABC News (Online)</td>\n",
       "    </tr>\n",
       "    <tr>\n",
       "      <th>4</th>\n",
       "      <td>Taiwan says 27 Chinese aircraft entered its ai...</td>\n",
       "      <td>ABC News</td>\n",
       "      <td>ABC News</td>\n",
       "      <td>abcnews.go.com</td>\n",
       "      <td></td>\n",
       "      <td>lean left</td>\n",
       "      <td>ABC News (Online)</td>\n",
       "    </tr>\n",
       "    <tr>\n",
       "      <th>...</th>\n",
       "      <td>...</td>\n",
       "      <td>...</td>\n",
       "      <td>...</td>\n",
       "      <td>...</td>\n",
       "      <td>...</td>\n",
       "      <td>...</td>\n",
       "      <td>...</td>\n",
       "    </tr>\n",
       "    <tr>\n",
       "      <th>520799</th>\n",
       "      <td>\"I’m quite concerned,\" warned Goldman's Abby J...</td>\n",
       "      <td>ZeroHedge</td>\n",
       "      <td>ZeroHedge</td>\n",
       "      <td>zerohedge.com</td>\n",
       "      <td></td>\n",
       "      <td>lean right</td>\n",
       "      <td>ZeroHedge</td>\n",
       "    </tr>\n",
       "    <tr>\n",
       "      <th>520800</th>\n",
       "      <td>A recent report by the Middle East Media Resea...</td>\n",
       "      <td>ZeroHedge</td>\n",
       "      <td>ZeroHedge</td>\n",
       "      <td>zerohedge.com</td>\n",
       "      <td></td>\n",
       "      <td>lean right</td>\n",
       "      <td>ZeroHedge</td>\n",
       "    </tr>\n",
       "    <tr>\n",
       "      <th>520801</th>\n",
       "      <td>It's that time again when Jeffrey Gundlach, th...</td>\n",
       "      <td>ZeroHedge</td>\n",
       "      <td>ZeroHedge</td>\n",
       "      <td>zerohedge.com</td>\n",
       "      <td></td>\n",
       "      <td>lean right</td>\n",
       "      <td>ZeroHedge</td>\n",
       "    </tr>\n",
       "    <tr>\n",
       "      <th>520802</th>\n",
       "      <td>As we discussed yesterday, when looking at the...</td>\n",
       "      <td>ZeroHedge</td>\n",
       "      <td>ZeroHedge</td>\n",
       "      <td>zerohedge.com</td>\n",
       "      <td></td>\n",
       "      <td>lean right</td>\n",
       "      <td>ZeroHedge</td>\n",
       "    </tr>\n",
       "    <tr>\n",
       "      <th>520803</th>\n",
       "      <td>Just before Wednesday's Putin-Xi virtual summi...</td>\n",
       "      <td>ZeroHedge</td>\n",
       "      <td>ZeroHedge</td>\n",
       "      <td>zerohedge.com</td>\n",
       "      <td></td>\n",
       "      <td>lean right</td>\n",
       "      <td>ZeroHedge</td>\n",
       "    </tr>\n",
       "  </tbody>\n",
       "</table>\n",
       "<p>520804 rows × 7 columns</p>\n",
       "</div>"
      ]
     },
     "execution_count": 2,
     "metadata": {},
     "output_type": "execute_result"
    }
   ],
   "execution_count": 2
  },
  {
   "cell_type": "markdown",
   "id": "3",
   "metadata": {},
   "source": [
    "Dropping useless columns."
   ]
  },
  {
   "cell_type": "code",
   "id": "4",
   "metadata": {
    "ExecuteTime": {
     "end_time": "2024-10-16T19:26:38.199832Z",
     "start_time": "2024-10-16T19:26:38.176863Z"
    }
   },
   "source": "df = df.drop(columns=[\"outlet_name\", \"name\", \"tld\", \"filter\", \"allsides_name\"])",
   "outputs": [],
   "execution_count": 3
  },
  {
   "cell_type": "markdown",
   "id": "5",
   "metadata": {},
   "source": "Renaming columns."
  },
  {
   "cell_type": "code",
   "id": "6",
   "metadata": {
    "ExecuteTime": {
     "end_time": "2024-10-16T19:26:38.294220Z",
     "start_time": "2024-10-16T19:26:38.204192Z"
    }
   },
   "source": "df = df.rename(columns={\"content_preprocessed\": \"body\", \"allsides_rating\": \"leaning\"})",
   "outputs": [],
   "execution_count": 4
  },
  {
   "cell_type": "markdown",
   "id": "7",
   "metadata": {},
   "source": [
    "Categorizing the leaning column."
   ]
  },
  {
   "metadata": {
    "ExecuteTime": {
     "end_time": "2024-10-16T19:26:38.384379Z",
     "start_time": "2024-10-16T19:26:38.356265Z"
    }
   },
   "cell_type": "code",
   "source": "df[\"leaning\"].unique()",
   "id": "cc8a4f8711566b3d",
   "outputs": [
    {
     "data": {
      "text/plain": [
       "array(['lean left', 'center', 'right', 'left', 'lean right'], dtype=object)"
      ]
     },
     "execution_count": 5,
     "metadata": {},
     "output_type": "execute_result"
    }
   ],
   "execution_count": 5
  },
  {
   "cell_type": "code",
   "id": "8",
   "metadata": {
    "ExecuteTime": {
     "end_time": "2024-10-16T19:26:38.552673Z",
     "start_time": "2024-10-16T19:26:38.464491Z"
    }
   },
   "source": [
    "df[\"leaning\"] = df[\"leaning\"].replace({\"lean left\": \"left\", \"lean right\": \"right\"})\n",
    "df[\"leaning\"] = df[\"leaning\"].astype(\"category\")"
   ],
   "outputs": [],
   "execution_count": 6
  },
  {
   "metadata": {},
   "cell_type": "markdown",
   "source": "Dropping rows with missing data.",
   "id": "41b60cc594e964d8"
  },
  {
   "metadata": {
    "ExecuteTime": {
     "end_time": "2024-10-16T19:26:38.672623Z",
     "start_time": "2024-10-16T19:26:38.566156Z"
    }
   },
   "cell_type": "code",
   "source": "df = df.dropna()",
   "id": "d74e238268b103b0",
   "outputs": [],
   "execution_count": 7
  },
  {
   "cell_type": "markdown",
   "id": "9",
   "metadata": {},
   "source": [
    "Printing duplicates."
   ]
  },
  {
   "cell_type": "code",
   "id": "10",
   "metadata": {
    "ExecuteTime": {
     "end_time": "2024-10-16T19:26:40.300191Z",
     "start_time": "2024-10-16T19:26:38.760499Z"
    }
   },
   "source": [
    "df[df[\"body\"].duplicated(keep=False)]"
   ],
   "outputs": [
    {
     "data": {
      "text/plain": [
       "                                                     body leaning\n",
       "3       Will Smith, Lady Gaga and Ben Affleck landed i...    left\n",
       "20      Interest Successfully Added\\nWe'll notify you ...    left\n",
       "22      Interest Successfully Added\\nWe'll notify you ...    left\n",
       "23      Interest Successfully Added\\nWe'll notify you ...    left\n",
       "25      Nissan Concept 2020 Vision Gran Turismo Nissan...    left\n",
       "...                                                   ...     ...\n",
       "519702  Featured Photo Galleries\\nGreatest gun-toting ...   right\n",
       "519706  ** For in-depth results, click a county above....   right\n",
       "519726  Featured Photo Galleries\\nGreatest gun-toting ...   right\n",
       "519729  Featured Photo Galleries\\nGreatest gun-toting ...   right\n",
       "519731  Featured Photo Galleries\\nGreatest gun-toting ...   right\n",
       "\n",
       "[66886 rows x 2 columns]"
      ],
      "text/html": [
       "<div>\n",
       "<style scoped>\n",
       "    .dataframe tbody tr th:only-of-type {\n",
       "        vertical-align: middle;\n",
       "    }\n",
       "\n",
       "    .dataframe tbody tr th {\n",
       "        vertical-align: top;\n",
       "    }\n",
       "\n",
       "    .dataframe thead th {\n",
       "        text-align: right;\n",
       "    }\n",
       "</style>\n",
       "<table border=\"1\" class=\"dataframe\">\n",
       "  <thead>\n",
       "    <tr style=\"text-align: right;\">\n",
       "      <th></th>\n",
       "      <th>body</th>\n",
       "      <th>leaning</th>\n",
       "    </tr>\n",
       "  </thead>\n",
       "  <tbody>\n",
       "    <tr>\n",
       "      <th>3</th>\n",
       "      <td>Will Smith, Lady Gaga and Ben Affleck landed i...</td>\n",
       "      <td>left</td>\n",
       "    </tr>\n",
       "    <tr>\n",
       "      <th>20</th>\n",
       "      <td>Interest Successfully Added\\nWe'll notify you ...</td>\n",
       "      <td>left</td>\n",
       "    </tr>\n",
       "    <tr>\n",
       "      <th>22</th>\n",
       "      <td>Interest Successfully Added\\nWe'll notify you ...</td>\n",
       "      <td>left</td>\n",
       "    </tr>\n",
       "    <tr>\n",
       "      <th>23</th>\n",
       "      <td>Interest Successfully Added\\nWe'll notify you ...</td>\n",
       "      <td>left</td>\n",
       "    </tr>\n",
       "    <tr>\n",
       "      <th>25</th>\n",
       "      <td>Nissan Concept 2020 Vision Gran Turismo Nissan...</td>\n",
       "      <td>left</td>\n",
       "    </tr>\n",
       "    <tr>\n",
       "      <th>...</th>\n",
       "      <td>...</td>\n",
       "      <td>...</td>\n",
       "    </tr>\n",
       "    <tr>\n",
       "      <th>519702</th>\n",
       "      <td>Featured Photo Galleries\\nGreatest gun-toting ...</td>\n",
       "      <td>right</td>\n",
       "    </tr>\n",
       "    <tr>\n",
       "      <th>519706</th>\n",
       "      <td>** For in-depth results, click a county above....</td>\n",
       "      <td>right</td>\n",
       "    </tr>\n",
       "    <tr>\n",
       "      <th>519726</th>\n",
       "      <td>Featured Photo Galleries\\nGreatest gun-toting ...</td>\n",
       "      <td>right</td>\n",
       "    </tr>\n",
       "    <tr>\n",
       "      <th>519729</th>\n",
       "      <td>Featured Photo Galleries\\nGreatest gun-toting ...</td>\n",
       "      <td>right</td>\n",
       "    </tr>\n",
       "    <tr>\n",
       "      <th>519731</th>\n",
       "      <td>Featured Photo Galleries\\nGreatest gun-toting ...</td>\n",
       "      <td>right</td>\n",
       "    </tr>\n",
       "  </tbody>\n",
       "</table>\n",
       "<p>66886 rows × 2 columns</p>\n",
       "</div>"
      ]
     },
     "execution_count": 8,
     "metadata": {},
     "output_type": "execute_result"
    }
   ],
   "execution_count": 8
  },
  {
   "cell_type": "markdown",
   "id": "11",
   "metadata": {},
   "source": [
    "Dropping the duplicates."
   ]
  },
  {
   "cell_type": "code",
   "id": "12",
   "metadata": {
    "ExecuteTime": {
     "end_time": "2024-10-16T19:26:40.533655Z",
     "start_time": "2024-10-16T19:26:40.367990Z"
    }
   },
   "source": [
    "df = df.drop_duplicates(subset=\"body\")"
   ],
   "outputs": [],
   "execution_count": 9
  },
  {
   "cell_type": "markdown",
   "id": "13",
   "metadata": {},
   "source": [
    "Inspecting body length."
   ]
  },
  {
   "cell_type": "code",
   "id": "14",
   "metadata": {
    "ExecuteTime": {
     "end_time": "2024-10-16T19:31:51.138643Z",
     "start_time": "2024-10-16T19:26:40.586736Z"
    }
   },
   "source": [
    "df[\"body_length\"] = df[\"body\"].str.len()\n",
    "df[\"body_word_count\"] = df[\"body\"].str.split().str.len()\n",
    "df.sort_values(by=\"body_length\", ascending=False).head()"
   ],
   "outputs": [
    {
     "data": {
      "text/plain": [
       "                                                     body leaning  \\\n",
       "308036  Keith plays in a rock & roll band.<SENT_END>An...    left   \n",
       "259915  Editor’s Note: This is the fourth collection o...   right   \n",
       "318293  \"This is my maiden voyage.<SENT_END>My first s...    left   \n",
       "300847  Some of us have spent nearly as much time in S...    left   \n",
       "64377   31 .<SENT_END>People rewarded by capitalism ne...  center   \n",
       "\n",
       "        body_length  body_word_count  \n",
       "308036       115613            17742  \n",
       "259915       111770            16049  \n",
       "318293       109986            16397  \n",
       "300847       109928            16389  \n",
       "64377        109650            17028  "
      ],
      "text/html": [
       "<div>\n",
       "<style scoped>\n",
       "    .dataframe tbody tr th:only-of-type {\n",
       "        vertical-align: middle;\n",
       "    }\n",
       "\n",
       "    .dataframe tbody tr th {\n",
       "        vertical-align: top;\n",
       "    }\n",
       "\n",
       "    .dataframe thead th {\n",
       "        text-align: right;\n",
       "    }\n",
       "</style>\n",
       "<table border=\"1\" class=\"dataframe\">\n",
       "  <thead>\n",
       "    <tr style=\"text-align: right;\">\n",
       "      <th></th>\n",
       "      <th>body</th>\n",
       "      <th>leaning</th>\n",
       "      <th>body_length</th>\n",
       "      <th>body_word_count</th>\n",
       "    </tr>\n",
       "  </thead>\n",
       "  <tbody>\n",
       "    <tr>\n",
       "      <th>308036</th>\n",
       "      <td>Keith plays in a rock &amp; roll band.&lt;SENT_END&gt;An...</td>\n",
       "      <td>left</td>\n",
       "      <td>115613</td>\n",
       "      <td>17742</td>\n",
       "    </tr>\n",
       "    <tr>\n",
       "      <th>259915</th>\n",
       "      <td>Editor’s Note: This is the fourth collection o...</td>\n",
       "      <td>right</td>\n",
       "      <td>111770</td>\n",
       "      <td>16049</td>\n",
       "    </tr>\n",
       "    <tr>\n",
       "      <th>318293</th>\n",
       "      <td>\"This is my maiden voyage.&lt;SENT_END&gt;My first s...</td>\n",
       "      <td>left</td>\n",
       "      <td>109986</td>\n",
       "      <td>16397</td>\n",
       "    </tr>\n",
       "    <tr>\n",
       "      <th>300847</th>\n",
       "      <td>Some of us have spent nearly as much time in S...</td>\n",
       "      <td>left</td>\n",
       "      <td>109928</td>\n",
       "      <td>16389</td>\n",
       "    </tr>\n",
       "    <tr>\n",
       "      <th>64377</th>\n",
       "      <td>31 .&lt;SENT_END&gt;People rewarded by capitalism ne...</td>\n",
       "      <td>center</td>\n",
       "      <td>109650</td>\n",
       "      <td>17028</td>\n",
       "    </tr>\n",
       "  </tbody>\n",
       "</table>\n",
       "</div>"
      ]
     },
     "execution_count": 10,
     "metadata": {},
     "output_type": "execute_result"
    }
   ],
   "execution_count": 10
  },
  {
   "cell_type": "code",
   "id": "15",
   "metadata": {
    "ExecuteTime": {
     "end_time": "2024-10-16T19:31:52.114691Z",
     "start_time": "2024-10-16T19:31:51.964959Z"
    }
   },
   "source": [
    "df.sort_values(by=\"body_length\").head()"
   ],
   "outputs": [
    {
     "data": {
      "text/plain": [
       "                                                     body leaning  \\\n",
       "341484  “I know it was your idea, but it was my idea t...    left   \n",
       "24119   \"We would only do it if it was a challenge, bu...  center   \n",
       "356401  “I don’t tell you how to do your job—don’t tel...    left   \n",
       "351781  “I’ll go to my room and do my homework, but I ...    left   \n",
       "346719  “Keep in mind that by the day of the wedding I...    left   \n",
       "\n",
       "        body_length  body_word_count  \n",
       "341484           63               15  \n",
       "24119            65               15  \n",
       "356401           67               15  \n",
       "351781           68               16  \n",
       "346719           69               15  "
      ],
      "text/html": [
       "<div>\n",
       "<style scoped>\n",
       "    .dataframe tbody tr th:only-of-type {\n",
       "        vertical-align: middle;\n",
       "    }\n",
       "\n",
       "    .dataframe tbody tr th {\n",
       "        vertical-align: top;\n",
       "    }\n",
       "\n",
       "    .dataframe thead th {\n",
       "        text-align: right;\n",
       "    }\n",
       "</style>\n",
       "<table border=\"1\" class=\"dataframe\">\n",
       "  <thead>\n",
       "    <tr style=\"text-align: right;\">\n",
       "      <th></th>\n",
       "      <th>body</th>\n",
       "      <th>leaning</th>\n",
       "      <th>body_length</th>\n",
       "      <th>body_word_count</th>\n",
       "    </tr>\n",
       "  </thead>\n",
       "  <tbody>\n",
       "    <tr>\n",
       "      <th>341484</th>\n",
       "      <td>“I know it was your idea, but it was my idea t...</td>\n",
       "      <td>left</td>\n",
       "      <td>63</td>\n",
       "      <td>15</td>\n",
       "    </tr>\n",
       "    <tr>\n",
       "      <th>24119</th>\n",
       "      <td>\"We would only do it if it was a challenge, bu...</td>\n",
       "      <td>center</td>\n",
       "      <td>65</td>\n",
       "      <td>15</td>\n",
       "    </tr>\n",
       "    <tr>\n",
       "      <th>356401</th>\n",
       "      <td>“I don’t tell you how to do your job—don’t tel...</td>\n",
       "      <td>left</td>\n",
       "      <td>67</td>\n",
       "      <td>15</td>\n",
       "    </tr>\n",
       "    <tr>\n",
       "      <th>351781</th>\n",
       "      <td>“I’ll go to my room and do my homework, but I ...</td>\n",
       "      <td>left</td>\n",
       "      <td>68</td>\n",
       "      <td>16</td>\n",
       "    </tr>\n",
       "    <tr>\n",
       "      <th>346719</th>\n",
       "      <td>“Keep in mind that by the day of the wedding I...</td>\n",
       "      <td>left</td>\n",
       "      <td>69</td>\n",
       "      <td>15</td>\n",
       "    </tr>\n",
       "  </tbody>\n",
       "</table>\n",
       "</div>"
      ]
     },
     "execution_count": 11,
     "metadata": {},
     "output_type": "execute_result"
    }
   ],
   "execution_count": 11
  },
  {
   "metadata": {
    "ExecuteTime": {
     "end_time": "2024-10-16T19:32:32.172421Z",
     "start_time": "2024-10-16T19:31:53.540245Z"
    }
   },
   "cell_type": "code",
   "source": [
    "body_length = df[\"body_length\"].sort_values()\n",
    "# Ensuring to include the last (longest) item.\n",
    "downsampled = pd.concat([body_length.iloc[::100], body_length.iloc[[-1]]]).drop_duplicates()\n",
    "downsampled.plot.bar();"
   ],
   "id": "e84863fd5754e318",
   "outputs": [
    {
     "data": {
      "text/plain": [
       "<Figure size 640x480 with 1 Axes>"
      ],
      "image/png": "[encoded data removed]"
     },
     "metadata": {},
     "output_type": "display_data"
    }
   ],
   "execution_count": 12
  },
  {
   "cell_type": "markdown",
   "id": "16",
   "metadata": {},
   "source": [
    "Calculating the bounds for body length."
   ]
  },
  {
   "cell_type": "code",
   "id": "17",
   "metadata": {
    "ExecuteTime": {
     "end_time": "2024-10-16T19:32:32.271339Z",
     "start_time": "2024-10-16T19:32:32.245262Z"
    }
   },
   "source": [
    "q1 = np.percentile(df[\"body_length\"], 25)\n",
    "q3 = np.percentile(df[\"body_length\"], 75)\n",
    "iqr = q3 - q1\n",
    "lower_bound_multiplier = 0.5\n",
    "upper_bound_multiplier = 9\n",
    "lower_bound = q1 - lower_bound_multiplier * iqr\n",
    "upper_bound = q3 + upper_bound_multiplier * iqr\n",
    "lower_bound, upper_bound"
   ],
   "outputs": [
    {
     "data": {
      "text/plain": [
       "(np.float64(-594.5), np.float64(39841.0))"
      ]
     },
     "execution_count": 13,
     "metadata": {},
     "output_type": "execute_result"
    }
   ],
   "execution_count": 13
  },
  {
   "cell_type": "markdown",
   "id": "18",
   "metadata": {},
   "source": [
    "Removing the outliers based on the body length."
   ]
  },
  {
   "cell_type": "code",
   "id": "19",
   "metadata": {
    "ExecuteTime": {
     "end_time": "2024-10-16T19:33:08.896586Z",
     "start_time": "2024-10-16T19:32:32.288566Z"
    }
   },
   "source": [
    "df = df[(df[\"body_length\"] >= lower_bound) & (df[\"body_length\"] <= upper_bound)]\n",
    "body_length = df[\"body_length\"].sort_values()\n",
    "# Ensuring to include the last (longest) item.\n",
    "downsampled = pd.concat([body_length.iloc[::100], body_length.iloc[[-1]]]).drop_duplicates()\n",
    "downsampled.plot.bar();"
   ],
   "outputs": [
    {
     "data": {
      "text/plain": [
       "<Figure size 640x480 with 1 Axes>"
      ],
      "image/png": "[encoded data removed]"
     },
     "metadata": {},
     "output_type": "display_data"
    }
   ],
   "execution_count": 14
  },
  {
   "cell_type": "markdown",
   "id": "20",
   "metadata": {},
   "source": [
    "The leaning distribution."
   ]
  },
  {
   "cell_type": "code",
   "id": "21",
   "metadata": {
    "ExecuteTime": {
     "end_time": "2024-10-16T19:33:09.039679Z",
     "start_time": "2024-10-16T19:33:08.943224Z"
    }
   },
   "source": [
    "df.groupby(\"leaning\", observed=True).size().plot.pie(autopct=\"%1.1f%%\");"
   ],
   "outputs": [
    {
     "data": {
      "text/plain": [
       "<Figure size 640x480 with 1 Axes>"
      ],
      "image/png": "[encoded data removed]"
     },
     "metadata": {},
     "output_type": "display_data"
    }
   ],
   "execution_count": 15
  },
  {
   "cell_type": "code",
   "id": "22",
   "metadata": {
    "ExecuteTime": {
     "end_time": "2024-10-16T19:34:14.704745Z",
     "start_time": "2024-10-16T19:33:09.068265Z"
    }
   },
   "source": "df.to_csv(\"../preprocessed/commoncrawl_news_articles.csv\")",
   "outputs": [],
   "execution_count": 16
  }
 ],
 "metadata": {
  "kernelspec": {
   "display_name": "Python 3",
   "language": "python",
   "name": "python3"
  },
  "language_info": {
   "codemirror_mode": {
    "name": "ipython",
    "version": 2
   },
   "file_extension": ".py",
   "mimetype": "text/x-python",
   "name": "python",
   "nbconvert_exporter": "python",
   "pygments_lexer": "ipython2",
   "version": "2.7.6"
  }
 },
 "nbformat": 4,
 "nbformat_minor": 5
}
