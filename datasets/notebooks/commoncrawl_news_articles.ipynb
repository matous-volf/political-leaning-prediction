{
 "cells": [
  {
   "cell_type": "code",
   "id": "0",
   "metadata": {
    "ExecuteTime": {
     "end_time": "2024-10-27T14:04:21.595757Z",
     "start_time": "2024-10-27T14:04:20.829009Z"
    }
   },
   "source": [
    "import sqlite3\n",
    "\n",
    "import pandas as pd\n",
    "from matplotlib import pyplot as plt"
   ],
   "outputs": [],
   "execution_count": 1
  },
  {
   "cell_type": "markdown",
   "id": "1",
   "metadata": {},
   "source": [
    "Reading the raw dataset."
   ]
  },
  {
   "cell_type": "code",
   "id": "2",
   "metadata": {
    "ExecuteTime": {
     "end_time": "2024-10-27T14:04:32.146231Z",
     "start_time": "2024-10-27T14:04:21.601426Z"
    }
   },
   "source": [
    "connection = sqlite3.connect(\"../raw/commoncrawl_news_articles/articles.db\")\n",
    "\n",
    "df = pd.read_sql(\n",
    "    \"SELECT content_preprocessed, au.outlet_name FROM article_contents ac INNER JOIN article_urls au on ac.uuid = au.uuid WHERE language = 'en'\",\n",
    "    connection\n",
    ")\n",
    "\n",
    "outlets_df = pd.read_json(open(\"../raw/commoncrawl_news_articles/outlets.json\"))\n",
    "df = df.merge(outlets_df, how=\"outer\", left_on=\"outlet_name\", right_on=\"name\")\n",
    "df"
   ],
   "outputs": [
    {
     "data": {
      "text/plain": [
       "                                     content_preprocessed outlet_name  \\\n",
       "0       Ukraine's president is pleading with citizens ...    ABC News   \n",
       "1       Youtube\\n“It’s a phenomenon, but so is the Her...    ABC News   \n",
       "2       Rep. Liz Cheney leaves House chamber with her ...    ABC News   \n",
       "3       Will Smith, Lady Gaga and Ben Affleck landed i...    ABC News   \n",
       "4       Taiwan says 27 Chinese aircraft entered its ai...    ABC News   \n",
       "...                                                   ...         ...   \n",
       "520799  \"I’m quite concerned,\" warned Goldman's Abby J...   ZeroHedge   \n",
       "520800  A recent report by the Middle East Media Resea...   ZeroHedge   \n",
       "520801  It's that time again when Jeffrey Gundlach, th...   ZeroHedge   \n",
       "520802  As we discussed yesterday, when looking at the...   ZeroHedge   \n",
       "520803  Just before Wednesday's Putin-Xi virtual summi...   ZeroHedge   \n",
       "\n",
       "             name             tld filter allsides_rating      allsides_name  \n",
       "0        ABC News  abcnews.go.com              lean left  ABC News (Online)  \n",
       "1        ABC News  abcnews.go.com              lean left  ABC News (Online)  \n",
       "2        ABC News  abcnews.go.com              lean left  ABC News (Online)  \n",
       "3        ABC News  abcnews.go.com              lean left  ABC News (Online)  \n",
       "4        ABC News  abcnews.go.com              lean left  ABC News (Online)  \n",
       "...           ...             ...    ...             ...                ...  \n",
       "520799  ZeroHedge   zerohedge.com             lean right          ZeroHedge  \n",
       "520800  ZeroHedge   zerohedge.com             lean right          ZeroHedge  \n",
       "520801  ZeroHedge   zerohedge.com             lean right          ZeroHedge  \n",
       "520802  ZeroHedge   zerohedge.com             lean right          ZeroHedge  \n",
       "520803  ZeroHedge   zerohedge.com             lean right          ZeroHedge  \n",
       "\n",
       "[520804 rows x 7 columns]"
      ],
      "text/html": [
       "<div>\n",
       "<style scoped>\n",
       "    .dataframe tbody tr th:only-of-type {\n",
       "        vertical-align: middle;\n",
       "    }\n",
       "\n",
       "    .dataframe tbody tr th {\n",
       "        vertical-align: top;\n",
       "    }\n",
       "\n",
       "    .dataframe thead th {\n",
       "        text-align: right;\n",
       "    }\n",
       "</style>\n",
       "<table border=\"1\" class=\"dataframe\">\n",
       "  <thead>\n",
       "    <tr style=\"text-align: right;\">\n",
       "      <th></th>\n",
       "      <th>content_preprocessed</th>\n",
       "      <th>outlet_name</th>\n",
       "      <th>name</th>\n",
       "      <th>tld</th>\n",
       "      <th>filter</th>\n",
       "      <th>allsides_rating</th>\n",
       "      <th>allsides_name</th>\n",
       "    </tr>\n",
       "  </thead>\n",
       "  <tbody>\n",
       "    <tr>\n",
       "      <th>0</th>\n",
       "      <td>Ukraine's president is pleading with citizens ...</td>\n",
       "      <td>ABC News</td>\n",
       "      <td>ABC News</td>\n",
       "      <td>abcnews.go.com</td>\n",
       "      <td></td>\n",
       "      <td>lean left</td>\n",
       "      <td>ABC News (Online)</td>\n",
       "    </tr>\n",
       "    <tr>\n",
       "      <th>1</th>\n",
       "      <td>Youtube\\n“It’s a phenomenon, but so is the Her...</td>\n",
       "      <td>ABC News</td>\n",
       "      <td>ABC News</td>\n",
       "      <td>abcnews.go.com</td>\n",
       "      <td></td>\n",
       "      <td>lean left</td>\n",
       "      <td>ABC News (Online)</td>\n",
       "    </tr>\n",
       "    <tr>\n",
       "      <th>2</th>\n",
       "      <td>Rep. Liz Cheney leaves House chamber with her ...</td>\n",
       "      <td>ABC News</td>\n",
       "      <td>ABC News</td>\n",
       "      <td>abcnews.go.com</td>\n",
       "      <td></td>\n",
       "      <td>lean left</td>\n",
       "      <td>ABC News (Online)</td>\n",
       "    </tr>\n",
       "    <tr>\n",
       "      <th>3</th>\n",
       "      <td>Will Smith, Lady Gaga and Ben Affleck landed i...</td>\n",
       "      <td>ABC News</td>\n",
       "      <td>ABC News</td>\n",
       "      <td>abcnews.go.com</td>\n",
       "      <td></td>\n",
       "      <td>lean left</td>\n",
       "      <td>ABC News (Online)</td>\n",
       "    </tr>\n",
       "    <tr>\n",
       "      <th>4</th>\n",
       "      <td>Taiwan says 27 Chinese aircraft entered its ai...</td>\n",
       "      <td>ABC News</td>\n",
       "      <td>ABC News</td>\n",
       "      <td>abcnews.go.com</td>\n",
       "      <td></td>\n",
       "      <td>lean left</td>\n",
       "      <td>ABC News (Online)</td>\n",
       "    </tr>\n",
       "    <tr>\n",
       "      <th>...</th>\n",
       "      <td>...</td>\n",
       "      <td>...</td>\n",
       "      <td>...</td>\n",
       "      <td>...</td>\n",
       "      <td>...</td>\n",
       "      <td>...</td>\n",
       "      <td>...</td>\n",
       "    </tr>\n",
       "    <tr>\n",
       "      <th>520799</th>\n",
       "      <td>\"I’m quite concerned,\" warned Goldman's Abby J...</td>\n",
       "      <td>ZeroHedge</td>\n",
       "      <td>ZeroHedge</td>\n",
       "      <td>zerohedge.com</td>\n",
       "      <td></td>\n",
       "      <td>lean right</td>\n",
       "      <td>ZeroHedge</td>\n",
       "    </tr>\n",
       "    <tr>\n",
       "      <th>520800</th>\n",
       "      <td>A recent report by the Middle East Media Resea...</td>\n",
       "      <td>ZeroHedge</td>\n",
       "      <td>ZeroHedge</td>\n",
       "      <td>zerohedge.com</td>\n",
       "      <td></td>\n",
       "      <td>lean right</td>\n",
       "      <td>ZeroHedge</td>\n",
       "    </tr>\n",
       "    <tr>\n",
       "      <th>520801</th>\n",
       "      <td>It's that time again when Jeffrey Gundlach, th...</td>\n",
       "      <td>ZeroHedge</td>\n",
       "      <td>ZeroHedge</td>\n",
       "      <td>zerohedge.com</td>\n",
       "      <td></td>\n",
       "      <td>lean right</td>\n",
       "      <td>ZeroHedge</td>\n",
       "    </tr>\n",
       "    <tr>\n",
       "      <th>520802</th>\n",
       "      <td>As we discussed yesterday, when looking at the...</td>\n",
       "      <td>ZeroHedge</td>\n",
       "      <td>ZeroHedge</td>\n",
       "      <td>zerohedge.com</td>\n",
       "      <td></td>\n",
       "      <td>lean right</td>\n",
       "      <td>ZeroHedge</td>\n",
       "    </tr>\n",
       "    <tr>\n",
       "      <th>520803</th>\n",
       "      <td>Just before Wednesday's Putin-Xi virtual summi...</td>\n",
       "      <td>ZeroHedge</td>\n",
       "      <td>ZeroHedge</td>\n",
       "      <td>zerohedge.com</td>\n",
       "      <td></td>\n",
       "      <td>lean right</td>\n",
       "      <td>ZeroHedge</td>\n",
       "    </tr>\n",
       "  </tbody>\n",
       "</table>\n",
       "<p>520804 rows × 7 columns</p>\n",
       "</div>"
      ]
     },
     "execution_count": 2,
     "metadata": {},
     "output_type": "execute_result"
    }
   ],
   "execution_count": 2
  },
  {
   "cell_type": "markdown",
   "id": "3",
   "metadata": {},
   "source": [
    "Dropping useless columns."
   ]
  },
  {
   "cell_type": "code",
   "id": "4",
   "metadata": {
    "ExecuteTime": {
     "end_time": "2024-10-27T14:04:32.283228Z",
     "start_time": "2024-10-27T14:04:32.263267Z"
    }
   },
   "source": [
    "df = df.drop(columns=[\"outlet_name\", \"name\", \"tld\", \"filter\", \"allsides_name\"])"
   ],
   "outputs": [],
   "execution_count": 3
  },
  {
   "cell_type": "markdown",
   "id": "5",
   "metadata": {},
   "source": [
    "Renaming columns."
   ]
  },
  {
   "cell_type": "code",
   "id": "6",
   "metadata": {
    "ExecuteTime": {
     "end_time": "2024-10-27T14:04:32.360226Z",
     "start_time": "2024-10-27T14:04:32.289028Z"
    }
   },
   "source": [
    "df = df.rename(columns={\"content_preprocessed\": \"body\", \"allsides_rating\": \"leaning\"})"
   ],
   "outputs": [],
   "execution_count": 4
  },
  {
   "cell_type": "markdown",
   "id": "7",
   "metadata": {},
   "source": [
    "Categorizing the leaning column."
   ]
  },
  {
   "cell_type": "code",
   "id": "8",
   "metadata": {
    "ExecuteTime": {
     "end_time": "2024-10-27T14:04:32.448473Z",
     "start_time": "2024-10-27T14:04:32.428211Z"
    }
   },
   "source": [
    "df[\"leaning\"].unique()"
   ],
   "outputs": [
    {
     "data": {
      "text/plain": [
       "array(['lean left', 'center', 'right', 'left', 'lean right'], dtype=object)"
      ]
     },
     "execution_count": 5,
     "metadata": {},
     "output_type": "execute_result"
    }
   ],
   "execution_count": 5
  },
  {
   "cell_type": "code",
   "id": "9",
   "metadata": {
    "ExecuteTime": {
     "end_time": "2024-10-27T14:04:32.526166Z",
     "start_time": "2024-10-27T14:04:32.461610Z"
    }
   },
   "source": [
    "df[\"leaning\"] = df[\"leaning\"].replace({\"lean left\": \"left\", \"lean right\": \"right\"})\n",
    "df[\"leaning\"] = df[\"leaning\"].astype(\"category\")"
   ],
   "outputs": [],
   "execution_count": 6
  },
  {
   "cell_type": "markdown",
   "id": "10",
   "metadata": {},
   "source": [
    "Dropping rows with missing data."
   ]
  },
  {
   "cell_type": "code",
   "id": "11",
   "metadata": {
    "ExecuteTime": {
     "end_time": "2024-10-27T14:04:32.636124Z",
     "start_time": "2024-10-27T14:04:32.536022Z"
    }
   },
   "source": [
    "df = df.dropna()"
   ],
   "outputs": [],
   "execution_count": 7
  },
  {
   "cell_type": "markdown",
   "id": "12",
   "metadata": {},
   "source": [
    "Printing duplicates."
   ]
  },
  {
   "cell_type": "code",
   "id": "13",
   "metadata": {
    "ExecuteTime": {
     "end_time": "2024-10-27T14:04:33.565601Z",
     "start_time": "2024-10-27T14:04:32.649158Z"
    }
   },
   "source": [
    "df[df[\"body\"].duplicated(keep=False)]"
   ],
   "outputs": [
    {
     "data": {
      "text/plain": [
       "                                                     body leaning\n",
       "3       Will Smith, Lady Gaga and Ben Affleck landed i...    left\n",
       "20      Interest Successfully Added\\nWe'll notify you ...    left\n",
       "22      Interest Successfully Added\\nWe'll notify you ...    left\n",
       "23      Interest Successfully Added\\nWe'll notify you ...    left\n",
       "25      Nissan Concept 2020 Vision Gran Turismo Nissan...    left\n",
       "...                                                   ...     ...\n",
       "519702  Featured Photo Galleries\\nGreatest gun-toting ...   right\n",
       "519706  ** For in-depth results, click a county above....   right\n",
       "519726  Featured Photo Galleries\\nGreatest gun-toting ...   right\n",
       "519729  Featured Photo Galleries\\nGreatest gun-toting ...   right\n",
       "519731  Featured Photo Galleries\\nGreatest gun-toting ...   right\n",
       "\n",
       "[66886 rows x 2 columns]"
      ],
      "text/html": [
       "<div>\n",
       "<style scoped>\n",
       "    .dataframe tbody tr th:only-of-type {\n",
       "        vertical-align: middle;\n",
       "    }\n",
       "\n",
       "    .dataframe tbody tr th {\n",
       "        vertical-align: top;\n",
       "    }\n",
       "\n",
       "    .dataframe thead th {\n",
       "        text-align: right;\n",
       "    }\n",
       "</style>\n",
       "<table border=\"1\" class=\"dataframe\">\n",
       "  <thead>\n",
       "    <tr style=\"text-align: right;\">\n",
       "      <th></th>\n",
       "      <th>body</th>\n",
       "      <th>leaning</th>\n",
       "    </tr>\n",
       "  </thead>\n",
       "  <tbody>\n",
       "    <tr>\n",
       "      <th>3</th>\n",
       "      <td>Will Smith, Lady Gaga and Ben Affleck landed i...</td>\n",
       "      <td>left</td>\n",
       "    </tr>\n",
       "    <tr>\n",
       "      <th>20</th>\n",
       "      <td>Interest Successfully Added\\nWe'll notify you ...</td>\n",
       "      <td>left</td>\n",
       "    </tr>\n",
       "    <tr>\n",
       "      <th>22</th>\n",
       "      <td>Interest Successfully Added\\nWe'll notify you ...</td>\n",
       "      <td>left</td>\n",
       "    </tr>\n",
       "    <tr>\n",
       "      <th>23</th>\n",
       "      <td>Interest Successfully Added\\nWe'll notify you ...</td>\n",
       "      <td>left</td>\n",
       "    </tr>\n",
       "    <tr>\n",
       "      <th>25</th>\n",
       "      <td>Nissan Concept 2020 Vision Gran Turismo Nissan...</td>\n",
       "      <td>left</td>\n",
       "    </tr>\n",
       "    <tr>\n",
       "      <th>...</th>\n",
       "      <td>...</td>\n",
       "      <td>...</td>\n",
       "    </tr>\n",
       "    <tr>\n",
       "      <th>519702</th>\n",
       "      <td>Featured Photo Galleries\\nGreatest gun-toting ...</td>\n",
       "      <td>right</td>\n",
       "    </tr>\n",
       "    <tr>\n",
       "      <th>519706</th>\n",
       "      <td>** For in-depth results, click a county above....</td>\n",
       "      <td>right</td>\n",
       "    </tr>\n",
       "    <tr>\n",
       "      <th>519726</th>\n",
       "      <td>Featured Photo Galleries\\nGreatest gun-toting ...</td>\n",
       "      <td>right</td>\n",
       "    </tr>\n",
       "    <tr>\n",
       "      <th>519729</th>\n",
       "      <td>Featured Photo Galleries\\nGreatest gun-toting ...</td>\n",
       "      <td>right</td>\n",
       "    </tr>\n",
       "    <tr>\n",
       "      <th>519731</th>\n",
       "      <td>Featured Photo Galleries\\nGreatest gun-toting ...</td>\n",
       "      <td>right</td>\n",
       "    </tr>\n",
       "  </tbody>\n",
       "</table>\n",
       "<p>66886 rows × 2 columns</p>\n",
       "</div>"
      ]
     },
     "execution_count": 8,
     "metadata": {},
     "output_type": "execute_result"
    }
   ],
   "execution_count": 8
  },
  {
   "cell_type": "markdown",
   "id": "14",
   "metadata": {},
   "source": [
    "Dropping the duplicates."
   ]
  },
  {
   "cell_type": "code",
   "id": "15",
   "metadata": {
    "ExecuteTime": {
     "end_time": "2024-10-27T14:04:33.726014Z",
     "start_time": "2024-10-27T14:04:33.610693Z"
    }
   },
   "source": [
    "df = df.drop_duplicates(subset=\"body\")"
   ],
   "outputs": [],
   "execution_count": 9
  },
  {
   "metadata": {},
   "cell_type": "markdown",
   "source": "Replacing `<SENT_END>`s by spaces.",
   "id": "3e1986cbbf0ee862"
  },
  {
   "metadata": {
    "ExecuteTime": {
     "end_time": "2024-10-27T14:04:36.825520Z",
     "start_time": "2024-10-27T14:04:33.775876Z"
    }
   },
   "cell_type": "code",
   "source": "df[\"body\"] = df[\"body\"].str.replace(\"<SENT_END>\", \" \")",
   "id": "d81bc3c64601179e",
   "outputs": [],
   "execution_count": 10
  },
  {
   "cell_type": "markdown",
   "id": "16",
   "metadata": {},
   "source": [
    "Inspecting body length."
   ]
  },
  {
   "metadata": {
    "ExecuteTime": {
     "end_time": "2024-10-27T14:09:08.507613Z",
     "start_time": "2024-10-27T14:04:36.845488Z"
    }
   },
   "cell_type": "code",
   "source": [
    "df[\"body_length\"] = df[\"body\"].str.len()\n",
    "df[\"body_word_count\"] = df[\"body\"].str.split().str.len()\n",
    "df = df.sort_values(by=\"body_length\")\n",
    "df.head()"
   ],
   "id": "17",
   "outputs": [
    {
     "data": {
      "text/plain": [
       "                                                     body leaning  \\\n",
       "341484  “I know it was your idea, but it was my idea t...    left   \n",
       "24119   \"We would only do it if it was a challenge, bu...  center   \n",
       "341092  “Mom? For my birthday, can I have a jerk kid r...    left   \n",
       "356401  “I don’t tell you how to do your job—don’t tel...    left   \n",
       "351781  “I’ll go to my room and do my homework, but I ...    left   \n",
       "\n",
       "        body_length  body_word_count  \n",
       "341484           63               15  \n",
       "24119            65               15  \n",
       "341092           66               15  \n",
       "356401           67               15  \n",
       "351781           68               16  "
      ],
      "text/html": [
       "<div>\n",
       "<style scoped>\n",
       "    .dataframe tbody tr th:only-of-type {\n",
       "        vertical-align: middle;\n",
       "    }\n",
       "\n",
       "    .dataframe tbody tr th {\n",
       "        vertical-align: top;\n",
       "    }\n",
       "\n",
       "    .dataframe thead th {\n",
       "        text-align: right;\n",
       "    }\n",
       "</style>\n",
       "<table border=\"1\" class=\"dataframe\">\n",
       "  <thead>\n",
       "    <tr style=\"text-align: right;\">\n",
       "      <th></th>\n",
       "      <th>body</th>\n",
       "      <th>leaning</th>\n",
       "      <th>body_length</th>\n",
       "      <th>body_word_count</th>\n",
       "    </tr>\n",
       "  </thead>\n",
       "  <tbody>\n",
       "    <tr>\n",
       "      <th>341484</th>\n",
       "      <td>“I know it was your idea, but it was my idea t...</td>\n",
       "      <td>left</td>\n",
       "      <td>63</td>\n",
       "      <td>15</td>\n",
       "    </tr>\n",
       "    <tr>\n",
       "      <th>24119</th>\n",
       "      <td>\"We would only do it if it was a challenge, bu...</td>\n",
       "      <td>center</td>\n",
       "      <td>65</td>\n",
       "      <td>15</td>\n",
       "    </tr>\n",
       "    <tr>\n",
       "      <th>341092</th>\n",
       "      <td>“Mom? For my birthday, can I have a jerk kid r...</td>\n",
       "      <td>left</td>\n",
       "      <td>66</td>\n",
       "      <td>15</td>\n",
       "    </tr>\n",
       "    <tr>\n",
       "      <th>356401</th>\n",
       "      <td>“I don’t tell you how to do your job—don’t tel...</td>\n",
       "      <td>left</td>\n",
       "      <td>67</td>\n",
       "      <td>15</td>\n",
       "    </tr>\n",
       "    <tr>\n",
       "      <th>351781</th>\n",
       "      <td>“I’ll go to my room and do my homework, but I ...</td>\n",
       "      <td>left</td>\n",
       "      <td>68</td>\n",
       "      <td>16</td>\n",
       "    </tr>\n",
       "  </tbody>\n",
       "</table>\n",
       "</div>"
      ]
     },
     "execution_count": 11,
     "metadata": {},
     "output_type": "execute_result"
    }
   ],
   "execution_count": 11
  },
  {
   "metadata": {},
   "cell_type": "markdown",
   "source": "After inspection, articles with bodies shorter than 50 words seem to contain no political value. Removing them.",
   "id": "e4e69cee695204a6"
  },
  {
   "cell_type": "code",
   "id": "23",
   "metadata": {
    "ExecuteTime": {
     "end_time": "2024-10-27T14:09:18.918088Z",
     "start_time": "2024-10-27T14:09:08.633412Z"
    }
   },
   "source": [
    "body_word_count_lower_bound = 50\n",
    "df = df[df[\"body_word_count\"] >= body_word_count_lower_bound]\n",
    "# Ensuring to include the last (longest) item.\n",
    "downsampled = pd.concat([df[\"body_length\"].iloc[::100], df[\"body_length\"].tail(1)]).drop_duplicates()\n",
    "downsampled.plot.bar().xaxis.set_ticks([]);"
   ],
   "outputs": [
    {
     "data": {
      "text/plain": [
       "<Figure size 640x480 with 1 Axes>"
      ],
      "image/png": "[encoded data removed]"
     },
     "metadata": {},
     "output_type": "display_data"
    }
   ],
   "execution_count": 12
  },
  {
   "cell_type": "code",
   "id": "24",
   "metadata": {
    "ExecuteTime": {
     "end_time": "2024-10-27T14:09:18.960992Z",
     "start_time": "2024-10-27T14:09:18.956927Z"
    }
   },
   "source": [
    "df[\"body_length\"].mean()"
   ],
   "outputs": [
    {
     "data": {
      "text/plain": [
       "np.float64(4695.281589379658)"
      ]
     },
     "execution_count": 13,
     "metadata": {},
     "output_type": "execute_result"
    }
   ],
   "execution_count": 13
  },
  {
   "cell_type": "markdown",
   "id": "25",
   "metadata": {},
   "source": [
    "The leaning distribution."
   ]
  },
  {
   "cell_type": "code",
   "id": "26",
   "metadata": {
    "ExecuteTime": {
     "end_time": "2024-10-27T14:09:19.151547Z",
     "start_time": "2024-10-27T14:09:19.080014Z"
    }
   },
   "source": [
    "df.groupby(\"leaning\", observed=True).size().plot.pie(autopct=\"%1.1f%%\");"
   ],
   "outputs": [
    {
     "data": {
      "text/plain": [
       "<Figure size 640x480 with 1 Axes>"
      ],
      "image/png": "[encoded data removed]"
     },
     "metadata": {},
     "output_type": "display_data"
    }
   ],
   "execution_count": 14
  },
  {
   "cell_type": "markdown",
   "id": "27",
   "metadata": {},
   "source": [
    "The distribution of body length sums per leaning."
   ]
  },
  {
   "cell_type": "code",
   "id": "28",
   "metadata": {
    "ExecuteTime": {
     "end_time": "2024-10-27T14:09:19.245973Z",
     "start_time": "2024-10-27T14:09:19.167818Z"
    }
   },
   "source": [
    "df.groupby(\"leaning\", observed=True)[\"body_length\"].sum().plot.pie(autopct=\"%1.1f%%\", ylabel=\"\");"
   ],
   "outputs": [
    {
     "data": {
      "text/plain": [
       "<Figure size 640x480 with 1 Axes>"
      ],
      "image/png": "[encoded data removed]"
     },
     "metadata": {},
     "output_type": "display_data"
    }
   ],
   "execution_count": 15
  },
  {
   "cell_type": "markdown",
   "id": "29",
   "metadata": {},
   "source": [
    "Body length distribution of left leaning articles."
   ]
  },
  {
   "cell_type": "code",
   "id": "30",
   "metadata": {
    "ExecuteTime": {
     "end_time": "2024-10-27T14:09:24.634888Z",
     "start_time": "2024-10-27T14:09:19.320492Z"
    }
   },
   "source": [
    "df_leaning = df[df[\"leaning\"] == \"left\"]\n",
    "# Ensuring to include the last (longest) item.\n",
    "downsampled = pd.concat([df_leaning[\"body_length\"].iloc[::100], df_leaning[\"body_length\"].tail(1)]).drop_duplicates()\n",
    "downsampled.plot.bar().xaxis.set_ticks([]);"
   ],
   "outputs": [
    {
     "data": {
      "text/plain": [
       "<Figure size 640x480 with 1 Axes>"
      ],
      "image/png": "[encoded data removed]"
     },
     "metadata": {},
     "output_type": "display_data"
    }
   ],
   "execution_count": 16
  },
  {
   "cell_type": "markdown",
   "id": "31",
   "metadata": {},
   "source": "Body length distribution by leaning."
  },
  {
   "cell_type": "code",
   "id": "32",
   "metadata": {
    "ExecuteTime": {
     "end_time": "2024-10-27T14:09:24.837852Z",
     "start_time": "2024-10-27T14:09:24.684114Z"
    }
   },
   "source": [
    "plt.figure(figsize=(10, 6))\n",
    "\n",
    "for leaning in df[\"leaning\"].unique():\n",
    "    df_leaning = df[df[\"leaning\"] == leaning]\n",
    "    downsampled = pd.concat(\n",
    "        # Ensuring to include the last (longest) item.\n",
    "        [df_leaning[\"body_length\"].iloc[::100], df_leaning[\"body_length\"].tail(1)]\n",
    "    ).drop_duplicates().reset_index(drop=True)\n",
    "    plt.plot(downsampled, label=leaning)\n",
    "\n",
    "plt.xlabel(\"downsampled index\")\n",
    "plt.ylabel(\"body length\")\n",
    "plt.title(\"body length by political leaning\")\n",
    "plt.legend(title=\"leaning\")\n",
    "plt.show()"
   ],
   "outputs": [
    {
     "data": {
      "text/plain": [
       "<Figure size 1000x600 with 1 Axes>"
      ],
      "image/png": "[encoded data removed]"
     },
     "metadata": {},
     "output_type": "display_data"
    }
   ],
   "execution_count": 17
  },
  {
   "metadata": {
    "ExecuteTime": {
     "end_time": "2024-10-27T14:09:51.099366Z",
     "start_time": "2024-10-27T14:09:24.857213Z"
    }
   },
   "cell_type": "code",
   "source": "df.to_parquet(\"../preprocessed/commoncrawl_news_articles.parquet\")",
   "id": "35",
   "outputs": [],
   "execution_count": 18
  }
 ],
 "metadata": {
  "kernelspec": {
   "display_name": "Python 3",
   "language": "python",
   "name": "python3"
  },
  "language_info": {
   "codemirror_mode": {
    "name": "ipython",
    "version": 2
   },
   "file_extension": ".py",
   "mimetype": "text/x-python",
   "name": "python",
   "nbconvert_exporter": "python",
   "pygments_lexer": "ipython2",
   "version": "2.7.6"
  }
 },
 "nbformat": 4,
 "nbformat_minor": 5
}
