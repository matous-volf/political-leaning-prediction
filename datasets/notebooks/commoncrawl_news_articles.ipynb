{
 "cells": [
  {
   "cell_type": "code",
   "execution_count": null,
   "id": "0",
   "metadata": {},
   "outputs": [],
   "source": [
    "import sqlite3\n",
    "\n",
    "import numpy as np\n",
    "import pandas as pd"
   ]
  },
  {
   "cell_type": "markdown",
   "id": "1",
   "metadata": {},
   "source": [
    "Reading the raw dataset."
   ]
  },
  {
   "cell_type": "code",
   "execution_count": null,
   "id": "2",
   "metadata": {},
   "outputs": [],
   "source": [
    "connection = sqlite3.connect(\"../raw/commoncrawl_news_articles/articles.db\")\n",
    "\n",
    "df = pd.read_sql(\n",
    "    \"SELECT content_preprocessed, au.outlet_name FROM article_contents ac INNER JOIN article_urls au on ac.uuid = au.uuid WHERE language = 'en'\",\n",
    "    connection\n",
    ")\n",
    "\n",
    "outlets_df = pd.read_json(open(\"../raw/commoncrawl_news_articles/outlets.json\"))\n",
    "df = df.merge(outlets_df, how=\"outer\", left_on=\"outlet_name\", right_on=\"name\")\n",
    "df"
   ]
  },
  {
   "cell_type": "markdown",
   "id": "3",
   "metadata": {},
   "source": [
    "Dropping useless columns."
   ]
  },
  {
   "cell_type": "code",
   "execution_count": null,
   "id": "4",
   "metadata": {},
   "outputs": [],
   "source": [
    "df = df.drop(columns=[\"outlet_name\", \"name\", \"tld\", \"filter\", \"allsides_name\"])"
   ]
  },
  {
   "cell_type": "markdown",
   "id": "5",
   "metadata": {},
   "source": [
    "Renaming columns."
   ]
  },
  {
   "cell_type": "code",
   "execution_count": null,
   "id": "6",
   "metadata": {},
   "outputs": [],
   "source": [
    "df = df.rename(columns={\"content_preprocessed\": \"body\", \"allsides_rating\": \"leaning\"})"
   ]
  },
  {
   "cell_type": "markdown",
   "id": "7",
   "metadata": {},
   "source": [
    "Categorizing the leaning column."
   ]
  },
  {
   "cell_type": "code",
   "execution_count": null,
   "id": "8",
   "metadata": {},
   "outputs": [],
   "source": [
    "df[\"leaning\"].unique()"
   ]
  },
  {
   "cell_type": "code",
   "execution_count": null,
   "id": "9",
   "metadata": {},
   "outputs": [],
   "source": [
    "df[\"leaning\"] = df[\"leaning\"].replace({\"lean left\": \"left\", \"lean right\": \"right\"})\n",
    "df[\"leaning\"] = df[\"leaning\"].astype(\"category\")"
   ]
  },
  {
   "cell_type": "markdown",
   "id": "10",
   "metadata": {},
   "source": [
    "Dropping rows with missing data."
   ]
  },
  {
   "cell_type": "code",
   "execution_count": null,
   "id": "11",
   "metadata": {},
   "outputs": [],
   "source": [
    "df = df.dropna()"
   ]
  },
  {
   "cell_type": "markdown",
   "id": "12",
   "metadata": {},
   "source": [
    "Printing duplicates."
   ]
  },
  {
   "cell_type": "code",
   "execution_count": null,
   "id": "13",
   "metadata": {},
   "outputs": [],
   "source": [
    "df[df[\"body\"].duplicated(keep=False)]"
   ]
  },
  {
   "cell_type": "markdown",
   "id": "14",
   "metadata": {},
   "source": [
    "Dropping the duplicates."
   ]
  },
  {
   "cell_type": "code",
   "execution_count": null,
   "id": "15",
   "metadata": {},
   "outputs": [],
   "source": [
    "df = df.drop_duplicates(subset=\"body\")"
   ]
  },
  {
   "cell_type": "markdown",
   "id": "16",
   "metadata": {},
   "source": [
    "Inspecting body length."
   ]
  },
  {
   "cell_type": "code",
   "execution_count": null,
   "id": "17",
   "metadata": {},
   "outputs": [],
   "source": [
    "df[\"body_length\"] = df[\"body\"].str.len()\n",
    "df[\"body_word_count\"] = df[\"body\"].str.split().str.len()\n",
    "df = df.sort_values(by=\"body_length\")\n",
    "df.head()"
   ]
  },
  {
   "cell_type": "code",
   "execution_count": null,
   "id": "18",
   "metadata": {},
   "outputs": [],
   "source": [
    "df.tail()"
   ]
  },
  {
   "cell_type": "code",
   "execution_count": null,
   "id": "19",
   "metadata": {},
   "outputs": [],
   "source": [
    "# Ensuring to include the last (longest) item.\n",
    "downsampled = pd.concat([df[\"body_length\"].iloc[::100], df[\"body_length\"].iloc[[-1]]]).drop_duplicates()\n",
    "downsampled.plot.bar().xaxis.set_ticks([]);"
   ]
  },
  {
   "cell_type": "markdown",
   "id": "20",
   "metadata": {},
   "source": [
    "Calculating the bounds for body length."
   ]
  },
  {
   "cell_type": "code",
   "execution_count": null,
   "id": "21",
   "metadata": {},
   "outputs": [],
   "source": [
    "q1 = np.percentile(df[\"body_length\"], 25)\n",
    "q3 = np.percentile(df[\"body_length\"], 75)\n",
    "iqr = q3 - q1\n",
    "lower_bound_multiplier = 0.5\n",
    "upper_bound_multiplier = 9\n",
    "lower_bound = q1 - lower_bound_multiplier * iqr\n",
    "upper_bound = q3 + upper_bound_multiplier * iqr\n",
    "lower_bound, upper_bound"
   ]
  },
  {
   "cell_type": "markdown",
   "id": "22",
   "metadata": {},
   "source": [
    "Removing the outliers based on the body length."
   ]
  },
  {
   "cell_type": "code",
   "execution_count": null,
   "id": "23",
   "metadata": {},
   "outputs": [],
   "source": [
    "df = df[(df[\"body_length\"] >= lower_bound) & (df[\"body_length\"] <= upper_bound)]\n",
    "# Ensuring to include the last (longest) item.\n",
    "downsampled = pd.concat([df[\"body_length\"].iloc[::100], df[\"body_length\"].iloc[[-1]]]).drop_duplicates()\n",
    "downsampled.plot.bar().xaxis.set_ticks([]);"
   ]
  },
  {
   "cell_type": "code",
   "execution_count": null,
   "id": "24",
   "metadata": {},
   "outputs": [],
   "source": [
    "df[\"body_length\"].mean()"
   ]
  },
  {
   "cell_type": "markdown",
   "id": "25",
   "metadata": {},
   "source": [
    "The leaning distribution."
   ]
  },
  {
   "cell_type": "code",
   "execution_count": null,
   "id": "26",
   "metadata": {},
   "outputs": [],
   "source": [
    "df.groupby(\"leaning\", observed=True).size().plot.pie(autopct=\"%1.1f%%\");"
   ]
  },
  {
   "cell_type": "markdown",
   "id": "27",
   "metadata": {},
   "source": [
    "The distribution of body length sums per leaning."
   ]
  },
  {
   "cell_type": "code",
   "execution_count": null,
   "id": "28",
   "metadata": {},
   "outputs": [],
   "source": [
    "df.groupby(\"leaning\", observed=True)[\"body_length\"].sum().plot.pie(autopct=\"%1.1f%%\", ylabel=\"\");"
   ]
  },
  {
   "cell_type": "markdown",
   "id": "29",
   "metadata": {},
   "source": [
    "Body length distribution of left leaning articles."
   ]
  },
  {
   "cell_type": "code",
   "execution_count": null,
   "id": "30",
   "metadata": {},
   "outputs": [],
   "source": [
    "df_leaning = df[df[\"leaning\"] == \"left\"]\n",
    "# Ensuring to include the last (longest) item.\n",
    "downsampled = pd.concat([df_leaning[\"body_length\"].iloc[::100], df_leaning[\"body_length\"].iloc[[-1]]]).drop_duplicates()\n",
    "downsampled.plot.bar().xaxis.set_ticks([]);"
   ]
  },
  {
   "cell_type": "markdown",
   "id": "31",
   "metadata": {},
   "source": [
    "Body length distribution of center leaning articles."
   ]
  },
  {
   "cell_type": "code",
   "execution_count": null,
   "id": "32",
   "metadata": {},
   "outputs": [],
   "source": [
    "df_leaning = df[df[\"leaning\"] == \"center\"]\n",
    "# Ensuring to include the last (longest) item.\n",
    "downsampled = pd.concat([df_leaning[\"body_length\"].iloc[::100], df_leaning[\"body_length\"].iloc[[-1]]]).drop_duplicates()\n",
    "downsampled.plot.bar().xaxis.set_ticks([]);"
   ]
  },
  {
   "cell_type": "markdown",
   "id": "33",
   "metadata": {},
   "source": [
    "Body length distribution of right leaning articles."
   ]
  },
  {
   "cell_type": "code",
   "execution_count": null,
   "id": "34",
   "metadata": {},
   "outputs": [],
   "source": [
    "df_leaning = df[df[\"leaning\"] == \"right\"]\n",
    "# Ensuring to include the last (longest) item.\n",
    "downsampled = pd.concat([df_leaning[\"body_length\"].iloc[::100], df_leaning[\"body_length\"].iloc[[-1]]]).drop_duplicates()\n",
    "downsampled.plot.bar().xaxis.set_ticks([]);"
   ]
  },
  {
   "cell_type": "code",
   "execution_count": null,
   "id": "35",
   "metadata": {},
   "outputs": [],
   "source": [
    "df.to_parquet(\"../preprocessed/commoncrawl_news_articles.parquet\")"
   ]
  }
 ],
 "metadata": {
  "kernelspec": {
   "display_name": "Python 3",
   "language": "python",
   "name": "python3"
  },
  "language_info": {
   "codemirror_mode": {
    "name": "ipython",
    "version": 2
   },
   "file_extension": ".py",
   "mimetype": "text/x-python",
   "name": "python",
   "nbconvert_exporter": "python",
   "pygments_lexer": "ipython2",
   "version": "2.7.6"
  }
 },
 "nbformat": 4,
 "nbformat_minor": 5
}
