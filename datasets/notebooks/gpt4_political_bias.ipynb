{
 "cells": [
  {
   "cell_type": "code",
   "id": "0",
   "metadata": {
    "ExecuteTime": {
     "end_time": "2024-10-28T08:53:18.093125Z",
     "start_time": "2024-10-28T08:53:17.378737Z"
    }
   },
   "source": [
    "import pandas as pd\n",
    "from matplotlib import pyplot as plt"
   ],
   "outputs": [],
   "execution_count": 2
  },
  {
   "cell_type": "markdown",
   "id": "1",
   "metadata": {},
   "source": [
    "Reading the raw dataset."
   ]
  },
  {
   "cell_type": "code",
   "id": "2",
   "metadata": {
    "ExecuteTime": {
     "end_time": "2024-10-28T08:53:18.124847Z",
     "start_time": "2024-10-28T08:53:18.111764Z"
    }
   },
   "source": [
    "df = pd.read_csv(open(\"../raw/gpt4_political_bias.csv\"), encoding=\"utf-8\")\n",
    "df"
   ],
   "outputs": [
    {
     "data": {
      "text/plain": [
       "                                                  text  label\n",
       "0    The government should reduce taxes significant...      0\n",
       "1    Cutting welfare programs is necessary to encou...      0\n",
       "2    A strong military is essential for national se...      0\n",
       "3    Deregulation is crucial to promote free market...      0\n",
       "4    Traditional family values should be upheld to ...      0\n",
       "..                                                 ...    ...\n",
       "652  Promoting healthcare access is essential for r...      3\n",
       "653  Balanced economic policies should promote grow...      1\n",
       "654  Supporting moderate environmental policies can...      3\n",
       "655  Moderate public safety initiatives should bala...      1\n",
       "656  Encouraging balanced trade and economic polici...      1\n",
       "\n",
       "[657 rows x 2 columns]"
      ],
      "text/html": [
       "<div>\n",
       "<style scoped>\n",
       "    .dataframe tbody tr th:only-of-type {\n",
       "        vertical-align: middle;\n",
       "    }\n",
       "\n",
       "    .dataframe tbody tr th {\n",
       "        vertical-align: top;\n",
       "    }\n",
       "\n",
       "    .dataframe thead th {\n",
       "        text-align: right;\n",
       "    }\n",
       "</style>\n",
       "<table border=\"1\" class=\"dataframe\">\n",
       "  <thead>\n",
       "    <tr style=\"text-align: right;\">\n",
       "      <th></th>\n",
       "      <th>text</th>\n",
       "      <th>label</th>\n",
       "    </tr>\n",
       "  </thead>\n",
       "  <tbody>\n",
       "    <tr>\n",
       "      <th>0</th>\n",
       "      <td>The government should reduce taxes significant...</td>\n",
       "      <td>0</td>\n",
       "    </tr>\n",
       "    <tr>\n",
       "      <th>1</th>\n",
       "      <td>Cutting welfare programs is necessary to encou...</td>\n",
       "      <td>0</td>\n",
       "    </tr>\n",
       "    <tr>\n",
       "      <th>2</th>\n",
       "      <td>A strong military is essential for national se...</td>\n",
       "      <td>0</td>\n",
       "    </tr>\n",
       "    <tr>\n",
       "      <th>3</th>\n",
       "      <td>Deregulation is crucial to promote free market...</td>\n",
       "      <td>0</td>\n",
       "    </tr>\n",
       "    <tr>\n",
       "      <th>4</th>\n",
       "      <td>Traditional family values should be upheld to ...</td>\n",
       "      <td>0</td>\n",
       "    </tr>\n",
       "    <tr>\n",
       "      <th>...</th>\n",
       "      <td>...</td>\n",
       "      <td>...</td>\n",
       "    </tr>\n",
       "    <tr>\n",
       "      <th>652</th>\n",
       "      <td>Promoting healthcare access is essential for r...</td>\n",
       "      <td>3</td>\n",
       "    </tr>\n",
       "    <tr>\n",
       "      <th>653</th>\n",
       "      <td>Balanced economic policies should promote grow...</td>\n",
       "      <td>1</td>\n",
       "    </tr>\n",
       "    <tr>\n",
       "      <th>654</th>\n",
       "      <td>Supporting moderate environmental policies can...</td>\n",
       "      <td>3</td>\n",
       "    </tr>\n",
       "    <tr>\n",
       "      <th>655</th>\n",
       "      <td>Moderate public safety initiatives should bala...</td>\n",
       "      <td>1</td>\n",
       "    </tr>\n",
       "    <tr>\n",
       "      <th>656</th>\n",
       "      <td>Encouraging balanced trade and economic polici...</td>\n",
       "      <td>1</td>\n",
       "    </tr>\n",
       "  </tbody>\n",
       "</table>\n",
       "<p>657 rows × 2 columns</p>\n",
       "</div>"
      ]
     },
     "execution_count": 3,
     "metadata": {},
     "output_type": "execute_result"
    }
   ],
   "execution_count": 3
  },
  {
   "cell_type": "markdown",
   "id": "3",
   "metadata": {},
   "source": [
    "Renaming columns."
   ]
  },
  {
   "cell_type": "code",
   "id": "4",
   "metadata": {
    "ExecuteTime": {
     "end_time": "2024-10-28T08:53:18.196257Z",
     "start_time": "2024-10-28T08:53:18.192993Z"
    }
   },
   "source": [
    "df = df.rename(columns={\"text\": \"body\", \"label\": \"leaning\"})"
   ],
   "outputs": [],
   "execution_count": 4
  },
  {
   "cell_type": "markdown",
   "id": "5",
   "metadata": {},
   "source": [
    "Categorizing the leaning column."
   ]
  },
  {
   "cell_type": "code",
   "id": "6",
   "metadata": {
    "ExecuteTime": {
     "end_time": "2024-10-28T08:53:18.248510Z",
     "start_time": "2024-10-28T08:53:18.242981Z"
    }
   },
   "source": [
    "df[\"leaning\"].unique()"
   ],
   "outputs": [
    {
     "data": {
      "text/plain": [
       "array([0, 1, 2, 3, 4])"
      ]
     },
     "execution_count": 5,
     "metadata": {},
     "output_type": "execute_result"
    }
   ],
   "execution_count": 5
  },
  {
   "cell_type": "code",
   "id": "7",
   "metadata": {
    "ExecuteTime": {
     "end_time": "2024-10-28T08:53:18.346950Z",
     "start_time": "2024-10-28T08:53:18.339893Z"
    }
   },
   "source": [
    "df[\"leaning\"] = df[\"leaning\"].replace({0: \"right\", 1: \"right\", 2: \"center\", 3: \"left\", 4: \"left\"})\n",
    "df[\"leaning\"] = df[\"leaning\"].astype(\"category\")"
   ],
   "outputs": [],
   "execution_count": 6
  },
  {
   "cell_type": "markdown",
   "id": "8",
   "metadata": {},
   "source": [
    "Dropping rows with missing data."
   ]
  },
  {
   "cell_type": "code",
   "id": "9",
   "metadata": {
    "ExecuteTime": {
     "end_time": "2024-10-28T08:53:18.413592Z",
     "start_time": "2024-10-28T08:53:18.409649Z"
    }
   },
   "source": [
    "df = df.dropna()"
   ],
   "outputs": [],
   "execution_count": 7
  },
  {
   "cell_type": "markdown",
   "id": "10",
   "metadata": {},
   "source": [
    "Printing duplicates."
   ]
  },
  {
   "cell_type": "code",
   "id": "11",
   "metadata": {
    "ExecuteTime": {
     "end_time": "2024-10-28T08:53:18.495091Z",
     "start_time": "2024-10-28T08:53:18.481713Z"
    }
   },
   "source": [
    "df[df[\"body\"].duplicated(keep=False)]"
   ],
   "outputs": [
    {
     "data": {
      "text/plain": [
       "                                                  body leaning\n",
       "80   Providing universal childcare can support work...    left\n",
       "84   Investing in mental health services is essenti...    left\n",
       "98   Supporting infrastructure development is key t...   right\n",
       "128  Implementing progressive tax reforms can reduc...    left\n",
       "132  Promoting equal opportunities in education is ...    left\n",
       "..                                                 ...     ...\n",
       "594  Encouraging sustainable practices through mode...   right\n",
       "600  Supporting moderate innovation policies can dr...   right\n",
       "601  Promoting affordable healthcare is key to redu...    left\n",
       "604  Moderate public safety reforms should balance ...   right\n",
       "605  Encouraging balanced trade policies can boost ...   right\n",
       "\n",
       "[86 rows x 2 columns]"
      ],
      "text/html": [
       "<div>\n",
       "<style scoped>\n",
       "    .dataframe tbody tr th:only-of-type {\n",
       "        vertical-align: middle;\n",
       "    }\n",
       "\n",
       "    .dataframe tbody tr th {\n",
       "        vertical-align: top;\n",
       "    }\n",
       "\n",
       "    .dataframe thead th {\n",
       "        text-align: right;\n",
       "    }\n",
       "</style>\n",
       "<table border=\"1\" class=\"dataframe\">\n",
       "  <thead>\n",
       "    <tr style=\"text-align: right;\">\n",
       "      <th></th>\n",
       "      <th>body</th>\n",
       "      <th>leaning</th>\n",
       "    </tr>\n",
       "  </thead>\n",
       "  <tbody>\n",
       "    <tr>\n",
       "      <th>80</th>\n",
       "      <td>Providing universal childcare can support work...</td>\n",
       "      <td>left</td>\n",
       "    </tr>\n",
       "    <tr>\n",
       "      <th>84</th>\n",
       "      <td>Investing in mental health services is essenti...</td>\n",
       "      <td>left</td>\n",
       "    </tr>\n",
       "    <tr>\n",
       "      <th>98</th>\n",
       "      <td>Supporting infrastructure development is key t...</td>\n",
       "      <td>right</td>\n",
       "    </tr>\n",
       "    <tr>\n",
       "      <th>128</th>\n",
       "      <td>Implementing progressive tax reforms can reduc...</td>\n",
       "      <td>left</td>\n",
       "    </tr>\n",
       "    <tr>\n",
       "      <th>132</th>\n",
       "      <td>Promoting equal opportunities in education is ...</td>\n",
       "      <td>left</td>\n",
       "    </tr>\n",
       "    <tr>\n",
       "      <th>...</th>\n",
       "      <td>...</td>\n",
       "      <td>...</td>\n",
       "    </tr>\n",
       "    <tr>\n",
       "      <th>594</th>\n",
       "      <td>Encouraging sustainable practices through mode...</td>\n",
       "      <td>right</td>\n",
       "    </tr>\n",
       "    <tr>\n",
       "      <th>600</th>\n",
       "      <td>Supporting moderate innovation policies can dr...</td>\n",
       "      <td>right</td>\n",
       "    </tr>\n",
       "    <tr>\n",
       "      <th>601</th>\n",
       "      <td>Promoting affordable healthcare is key to redu...</td>\n",
       "      <td>left</td>\n",
       "    </tr>\n",
       "    <tr>\n",
       "      <th>604</th>\n",
       "      <td>Moderate public safety reforms should balance ...</td>\n",
       "      <td>right</td>\n",
       "    </tr>\n",
       "    <tr>\n",
       "      <th>605</th>\n",
       "      <td>Encouraging balanced trade policies can boost ...</td>\n",
       "      <td>right</td>\n",
       "    </tr>\n",
       "  </tbody>\n",
       "</table>\n",
       "<p>86 rows × 2 columns</p>\n",
       "</div>"
      ]
     },
     "execution_count": 8,
     "metadata": {},
     "output_type": "execute_result"
    }
   ],
   "execution_count": 8
  },
  {
   "cell_type": "markdown",
   "id": "12",
   "metadata": {},
   "source": [
    "Dropping the duplicates."
   ]
  },
  {
   "cell_type": "code",
   "id": "13",
   "metadata": {
    "ExecuteTime": {
     "end_time": "2024-10-28T08:53:18.560498Z",
     "start_time": "2024-10-28T08:53:18.556556Z"
    }
   },
   "source": [
    "df = df.drop_duplicates(subset=\"body\")"
   ],
   "outputs": [],
   "execution_count": 9
  },
  {
   "cell_type": "markdown",
   "id": "14",
   "metadata": {},
   "source": [
    "Inspecting body length."
   ]
  },
  {
   "cell_type": "code",
   "id": "15",
   "metadata": {
    "ExecuteTime": {
     "end_time": "2024-10-28T08:53:18.628117Z",
     "start_time": "2024-10-28T08:53:18.607892Z"
    }
   },
   "source": [
    "df[\"body_length\"] = df[\"body\"].str.len()\n",
    "df[\"body_word_count\"] = df[\"body\"].str.split().str.len()\n",
    "df = df.sort_values(by=\"body_length\")\n",
    "df.head()"
   ],
   "outputs": [
    {
     "data": {
      "text/plain": [
       "                                                  body leaning  body_length  \\\n",
       "304  Governance should balance economic freedom wit...  center           63   \n",
       "403  Deregulation of industries promotes competitio...   right           63   \n",
       "425  Supporting moderate tax reforms can enhance ec...   right           64   \n",
       "216  Economic policies should aim for both growth a...  center           65   \n",
       "106  Inclusive economic policies should address bot...  center           66   \n",
       "\n",
       "     body_word_count  \n",
       "304                8  \n",
       "403                7  \n",
       "425                8  \n",
       "216               10  \n",
       "106                9  "
      ],
      "text/html": [
       "<div>\n",
       "<style scoped>\n",
       "    .dataframe tbody tr th:only-of-type {\n",
       "        vertical-align: middle;\n",
       "    }\n",
       "\n",
       "    .dataframe tbody tr th {\n",
       "        vertical-align: top;\n",
       "    }\n",
       "\n",
       "    .dataframe thead th {\n",
       "        text-align: right;\n",
       "    }\n",
       "</style>\n",
       "<table border=\"1\" class=\"dataframe\">\n",
       "  <thead>\n",
       "    <tr style=\"text-align: right;\">\n",
       "      <th></th>\n",
       "      <th>body</th>\n",
       "      <th>leaning</th>\n",
       "      <th>body_length</th>\n",
       "      <th>body_word_count</th>\n",
       "    </tr>\n",
       "  </thead>\n",
       "  <tbody>\n",
       "    <tr>\n",
       "      <th>304</th>\n",
       "      <td>Governance should balance economic freedom wit...</td>\n",
       "      <td>center</td>\n",
       "      <td>63</td>\n",
       "      <td>8</td>\n",
       "    </tr>\n",
       "    <tr>\n",
       "      <th>403</th>\n",
       "      <td>Deregulation of industries promotes competitio...</td>\n",
       "      <td>right</td>\n",
       "      <td>63</td>\n",
       "      <td>7</td>\n",
       "    </tr>\n",
       "    <tr>\n",
       "      <th>425</th>\n",
       "      <td>Supporting moderate tax reforms can enhance ec...</td>\n",
       "      <td>right</td>\n",
       "      <td>64</td>\n",
       "      <td>8</td>\n",
       "    </tr>\n",
       "    <tr>\n",
       "      <th>216</th>\n",
       "      <td>Economic policies should aim for both growth a...</td>\n",
       "      <td>center</td>\n",
       "      <td>65</td>\n",
       "      <td>10</td>\n",
       "    </tr>\n",
       "    <tr>\n",
       "      <th>106</th>\n",
       "      <td>Inclusive economic policies should address bot...</td>\n",
       "      <td>center</td>\n",
       "      <td>66</td>\n",
       "      <td>9</td>\n",
       "    </tr>\n",
       "  </tbody>\n",
       "</table>\n",
       "</div>"
      ]
     },
     "execution_count": 10,
     "metadata": {},
     "output_type": "execute_result"
    }
   ],
   "execution_count": 10
  },
  {
   "cell_type": "code",
   "id": "16",
   "metadata": {
    "ExecuteTime": {
     "end_time": "2024-10-28T08:53:19.651336Z",
     "start_time": "2024-10-28T08:53:18.696128Z"
    }
   },
   "source": [
    "# Ensuring to include the last (longest) item.\n",
    "df[\"body_length\"].plot.bar().xaxis.set_ticks([])"
   ],
   "outputs": [
    {
     "data": {
      "text/plain": [
       "[]"
      ]
     },
     "execution_count": 11,
     "metadata": {},
     "output_type": "execute_result"
    },
    {
     "data": {
      "text/plain": [
       "<Figure size 640x480 with 1 Axes>"
      ],
      "image/png": "[encoded data removed]"
     },
     "metadata": {},
     "output_type": "display_data"
    }
   ],
   "execution_count": 11
  },
  {
   "cell_type": "code",
   "id": "17",
   "metadata": {
    "ExecuteTime": {
     "end_time": "2024-10-28T08:53:19.701938Z",
     "start_time": "2024-10-28T08:53:19.697435Z"
    }
   },
   "source": [
    "df[\"body_length\"].mean()"
   ],
   "outputs": [
    {
     "data": {
      "text/plain": [
       "np.float64(82.87581699346406)"
      ]
     },
     "execution_count": 12,
     "metadata": {},
     "output_type": "execute_result"
    }
   ],
   "execution_count": 12
  },
  {
   "cell_type": "markdown",
   "id": "18",
   "metadata": {},
   "source": [
    "The leaning distribution."
   ]
  },
  {
   "cell_type": "code",
   "id": "19",
   "metadata": {
    "ExecuteTime": {
     "end_time": "2024-10-28T08:53:19.785988Z",
     "start_time": "2024-10-28T08:53:19.732202Z"
    }
   },
   "source": [
    "df.groupby(\"leaning\", observed=True).size().plot.pie(autopct=\"%1.1f%%\");"
   ],
   "outputs": [
    {
     "data": {
      "text/plain": [
       "<Figure size 640x480 with 1 Axes>"
      ],
      "image/png": "[encoded data removed]"
     },
     "metadata": {},
     "output_type": "display_data"
    }
   ],
   "execution_count": 13
  },
  {
   "cell_type": "markdown",
   "id": "20",
   "metadata": {},
   "source": [
    "The distribution of body length sums per leaning."
   ]
  },
  {
   "cell_type": "code",
   "id": "21",
   "metadata": {
    "ExecuteTime": {
     "end_time": "2024-10-28T08:53:19.851223Z",
     "start_time": "2024-10-28T08:53:19.805675Z"
    }
   },
   "source": [
    "df.groupby(\"leaning\", observed=True)[\"body_length\"].sum().plot.pie(autopct=\"%1.1f%%\", ylabel=\"\");"
   ],
   "outputs": [
    {
     "data": {
      "text/plain": [
       "<Figure size 640x480 with 1 Axes>"
      ],
      "image/png": "[encoded data removed]"
     },
     "metadata": {},
     "output_type": "display_data"
    }
   ],
   "execution_count": 14
  },
  {
   "cell_type": "markdown",
   "id": "22",
   "metadata": {},
   "source": [
    "Body length distribution by leaning."
   ]
  },
  {
   "cell_type": "code",
   "id": "23",
   "metadata": {
    "ExecuteTime": {
     "end_time": "2024-10-28T08:53:19.995134Z",
     "start_time": "2024-10-28T08:53:19.877559Z"
    }
   },
   "source": [
    "plt.figure(figsize=(10, 6))\n",
    "\n",
    "for leaning in df[\"leaning\"].unique():\n",
    "    plt.plot(df[df[\"leaning\"] == leaning].reset_index(drop=True)[\"body_length\"], label=leaning)\n",
    "\n",
    "plt.xlabel(\"downsampled index\")\n",
    "plt.ylabel(\"body length\")\n",
    "plt.title(\"body length by political leaning\")\n",
    "plt.legend(title=\"leaning\")\n",
    "plt.show()"
   ],
   "outputs": [
    {
     "data": {
      "text/plain": [
       "<Figure size 1000x600 with 1 Axes>"
      ],
      "image/png": "[encoded data removed]"
     },
     "metadata": {},
     "output_type": "display_data"
    }
   ],
   "execution_count": 15
  },
  {
   "cell_type": "code",
   "id": "24",
   "metadata": {
    "ExecuteTime": {
     "end_time": "2024-10-28T08:53:20.029716Z",
     "start_time": "2024-10-28T08:53:20.008405Z"
    }
   },
   "source": "df.to_parquet(\"../preprocessed/gpt4_political_bias.parquet\")",
   "outputs": [
    {
     "data": {
      "text/plain": [
       "612"
      ]
     },
     "execution_count": 16,
     "metadata": {},
     "output_type": "execute_result"
    }
   ],
   "execution_count": 16
  }
 ],
 "metadata": {
  "kernelspec": {
   "display_name": "Python 3",
   "language": "python",
   "name": "python3"
  },
  "language_info": {
   "codemirror_mode": {
    "name": "ipython",
    "version": 2
   },
   "file_extension": ".py",
   "mimetype": "text/x-python",
   "name": "python",
   "nbconvert_exporter": "python",
   "pygments_lexer": "ipython2",
   "version": "2.7.6"
  }
 },
 "nbformat": 4,
 "nbformat_minor": 5
}
