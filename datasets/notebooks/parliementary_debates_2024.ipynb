{
 "cells": [
  {
   "cell_type": "code",
   "id": "0",
   "metadata": {
    "ExecuteTime": {
     "end_time": "2024-11-23T15:34:10.438039Z",
     "start_time": "2024-11-23T15:34:10.433272Z"
    }
   },
   "source": [
    "import pandas as pd\n",
    "from matplotlib import pyplot as plt"
   ],
   "outputs": [],
   "execution_count": 20
  },
  {
   "cell_type": "markdown",
   "id": "1",
   "metadata": {},
   "source": [
    "Reading the raw dataset."
   ]
  },
  {
   "cell_type": "code",
   "id": "2",
   "metadata": {
    "ExecuteTime": {
     "end_time": "2024-11-23T15:34:11.722724Z",
     "start_time": "2024-11-23T15:34:10.506173Z"
    }
   },
   "source": [
    "df = pd.read_csv(open(\"../raw/parliementary_debates_2024.tsv\"), sep=\"\\t\", encoding=\"utf-8\")\n",
    "df"
   ],
   "outputs": [
    {
     "data": {
      "text/plain": [
       "            id                           speaker sex  \\\n",
       "0      gb00000  af4af2005beaffb71b70b0c4dd2b4c1b   M   \n",
       "1      gb00001  77f2408f71f881219e1125e79b5a1ada   M   \n",
       "2      gb00002  d99fc5be5cd4dfa671fb49ecd8043522   M   \n",
       "3      gb00003  234848ad13c121d6c1bb410e807d95a6   M   \n",
       "4      gb00004  77f443ccf2fc1a2c0d7efa4739377ed3   F   \n",
       "...        ...                               ...  ..   \n",
       "24234  gb24234  4213a691fd1ebd2721bb0b7de661ea7a   M   \n",
       "24235  gb24235  4213a691fd1ebd2721bb0b7de661ea7a   M   \n",
       "24236  gb24236  8fdbc105e4ba465d5851bd950f8c65db   F   \n",
       "24237  gb24237  00706379643796d0a5071eeb4e203860   M   \n",
       "24238  gb24238  3796cca92be02b85edfdab8e728bd315   F   \n",
       "\n",
       "                                                    text  \\\n",
       "0      Does my right hon. Friend accept that the prob...   \n",
       "1      It is clearly progress that net migration from...   \n",
       "2      5. When she next plans to meet the independent...   \n",
       "3      9. What assistance her Department offers to pe...   \n",
       "4      10. How many Syrian refugees have been resettl...   \n",
       "...                                                  ...   \n",
       "24234  My Lords, there is an instant when you are thi...   \n",
       "24235  My Lords, my noble friend has just made a poin...   \n",
       "24236  My Lords, I declare an interest as my husband ...   \n",
       "24237  My Lords, what a pleasure and privilege to fol...   \n",
       "24238  My Lords, prosecution decisions lie with the D...   \n",
       "\n",
       "                                                 text_en  label  \n",
       "0      Does my right hon. Friend accept that the prob...      1  \n",
       "1      It is clearly progress that net migration from...      1  \n",
       "2      5. When she next plans to meet the independent...      0  \n",
       "3      9. What assistance her Department offers to pe...      0  \n",
       "4      10. How many Syrian refugees have been resettl...      0  \n",
       "...                                                  ...    ...  \n",
       "24234  My Lords, there is an instant when you are thi...      1  \n",
       "24235  My Lords, my noble friend has just made a poin...      1  \n",
       "24236  My Lords, I declare an interest as my husband ...      0  \n",
       "24237  My Lords, what a pleasure and privilege to fol...      1  \n",
       "24238  My Lords, prosecution decisions lie with the D...      1  \n",
       "\n",
       "[24239 rows x 6 columns]"
      ],
      "text/html": [
       "<div>\n",
       "<style scoped>\n",
       "    .dataframe tbody tr th:only-of-type {\n",
       "        vertical-align: middle;\n",
       "    }\n",
       "\n",
       "    .dataframe tbody tr th {\n",
       "        vertical-align: top;\n",
       "    }\n",
       "\n",
       "    .dataframe thead th {\n",
       "        text-align: right;\n",
       "    }\n",
       "</style>\n",
       "<table border=\"1\" class=\"dataframe\">\n",
       "  <thead>\n",
       "    <tr style=\"text-align: right;\">\n",
       "      <th></th>\n",
       "      <th>id</th>\n",
       "      <th>speaker</th>\n",
       "      <th>sex</th>\n",
       "      <th>text</th>\n",
       "      <th>text_en</th>\n",
       "      <th>label</th>\n",
       "    </tr>\n",
       "  </thead>\n",
       "  <tbody>\n",
       "    <tr>\n",
       "      <th>0</th>\n",
       "      <td>gb00000</td>\n",
       "      <td>af4af2005beaffb71b70b0c4dd2b4c1b</td>\n",
       "      <td>M</td>\n",
       "      <td>Does my right hon. Friend accept that the prob...</td>\n",
       "      <td>Does my right hon. Friend accept that the prob...</td>\n",
       "      <td>1</td>\n",
       "    </tr>\n",
       "    <tr>\n",
       "      <th>1</th>\n",
       "      <td>gb00001</td>\n",
       "      <td>77f2408f71f881219e1125e79b5a1ada</td>\n",
       "      <td>M</td>\n",
       "      <td>It is clearly progress that net migration from...</td>\n",
       "      <td>It is clearly progress that net migration from...</td>\n",
       "      <td>1</td>\n",
       "    </tr>\n",
       "    <tr>\n",
       "      <th>2</th>\n",
       "      <td>gb00002</td>\n",
       "      <td>d99fc5be5cd4dfa671fb49ecd8043522</td>\n",
       "      <td>M</td>\n",
       "      <td>5. When she next plans to meet the independent...</td>\n",
       "      <td>5. When she next plans to meet the independent...</td>\n",
       "      <td>0</td>\n",
       "    </tr>\n",
       "    <tr>\n",
       "      <th>3</th>\n",
       "      <td>gb00003</td>\n",
       "      <td>234848ad13c121d6c1bb410e807d95a6</td>\n",
       "      <td>M</td>\n",
       "      <td>9. What assistance her Department offers to pe...</td>\n",
       "      <td>9. What assistance her Department offers to pe...</td>\n",
       "      <td>0</td>\n",
       "    </tr>\n",
       "    <tr>\n",
       "      <th>4</th>\n",
       "      <td>gb00004</td>\n",
       "      <td>77f443ccf2fc1a2c0d7efa4739377ed3</td>\n",
       "      <td>F</td>\n",
       "      <td>10. How many Syrian refugees have been resettl...</td>\n",
       "      <td>10. How many Syrian refugees have been resettl...</td>\n",
       "      <td>0</td>\n",
       "    </tr>\n",
       "    <tr>\n",
       "      <th>...</th>\n",
       "      <td>...</td>\n",
       "      <td>...</td>\n",
       "      <td>...</td>\n",
       "      <td>...</td>\n",
       "      <td>...</td>\n",
       "      <td>...</td>\n",
       "    </tr>\n",
       "    <tr>\n",
       "      <th>24234</th>\n",
       "      <td>gb24234</td>\n",
       "      <td>4213a691fd1ebd2721bb0b7de661ea7a</td>\n",
       "      <td>M</td>\n",
       "      <td>My Lords, there is an instant when you are thi...</td>\n",
       "      <td>My Lords, there is an instant when you are thi...</td>\n",
       "      <td>1</td>\n",
       "    </tr>\n",
       "    <tr>\n",
       "      <th>24235</th>\n",
       "      <td>gb24235</td>\n",
       "      <td>4213a691fd1ebd2721bb0b7de661ea7a</td>\n",
       "      <td>M</td>\n",
       "      <td>My Lords, my noble friend has just made a poin...</td>\n",
       "      <td>My Lords, my noble friend has just made a poin...</td>\n",
       "      <td>1</td>\n",
       "    </tr>\n",
       "    <tr>\n",
       "      <th>24236</th>\n",
       "      <td>gb24236</td>\n",
       "      <td>8fdbc105e4ba465d5851bd950f8c65db</td>\n",
       "      <td>F</td>\n",
       "      <td>My Lords, I declare an interest as my husband ...</td>\n",
       "      <td>My Lords, I declare an interest as my husband ...</td>\n",
       "      <td>0</td>\n",
       "    </tr>\n",
       "    <tr>\n",
       "      <th>24237</th>\n",
       "      <td>gb24237</td>\n",
       "      <td>00706379643796d0a5071eeb4e203860</td>\n",
       "      <td>M</td>\n",
       "      <td>My Lords, what a pleasure and privilege to fol...</td>\n",
       "      <td>My Lords, what a pleasure and privilege to fol...</td>\n",
       "      <td>1</td>\n",
       "    </tr>\n",
       "    <tr>\n",
       "      <th>24238</th>\n",
       "      <td>gb24238</td>\n",
       "      <td>3796cca92be02b85edfdab8e728bd315</td>\n",
       "      <td>F</td>\n",
       "      <td>My Lords, prosecution decisions lie with the D...</td>\n",
       "      <td>My Lords, prosecution decisions lie with the D...</td>\n",
       "      <td>1</td>\n",
       "    </tr>\n",
       "  </tbody>\n",
       "</table>\n",
       "<p>24239 rows × 6 columns</p>\n",
       "</div>"
      ]
     },
     "execution_count": 21,
     "metadata": {},
     "output_type": "execute_result"
    }
   ],
   "execution_count": 21
  },
  {
   "cell_type": "markdown",
   "id": "3",
   "metadata": {},
   "source": [
    "Dropping useless columns."
   ]
  },
  {
   "cell_type": "code",
   "id": "4",
   "metadata": {
    "ExecuteTime": {
     "end_time": "2024-11-23T15:34:11.762056Z",
     "start_time": "2024-11-23T15:34:11.758282Z"
    }
   },
   "source": "df = df.drop(columns=[\"id\", \"speaker\", \"sex\", \"text_en\"])",
   "outputs": [],
   "execution_count": 22
  },
  {
   "cell_type": "markdown",
   "id": "5",
   "metadata": {},
   "source": [
    "Renaming columns."
   ]
  },
  {
   "cell_type": "code",
   "id": "6",
   "metadata": {
    "ExecuteTime": {
     "end_time": "2024-11-23T15:34:11.808151Z",
     "start_time": "2024-11-23T15:34:11.803715Z"
    }
   },
   "source": "df = df.rename(columns={\"text\": \"body\", \"label\": \"leaning\"})",
   "outputs": [],
   "execution_count": 23
  },
  {
   "cell_type": "markdown",
   "id": "7",
   "metadata": {},
   "source": [
    "Categorizing the leaning column."
   ]
  },
  {
   "cell_type": "code",
   "id": "8",
   "metadata": {
    "ExecuteTime": {
     "end_time": "2024-11-23T15:34:11.909033Z",
     "start_time": "2024-11-23T15:34:11.904741Z"
    }
   },
   "source": [
    "df[\"leaning\"].unique()"
   ],
   "outputs": [
    {
     "data": {
      "text/plain": [
       "array([1, 0])"
      ]
     },
     "execution_count": 24,
     "metadata": {},
     "output_type": "execute_result"
    }
   ],
   "execution_count": 24
  },
  {
   "cell_type": "code",
   "id": "9",
   "metadata": {
    "ExecuteTime": {
     "end_time": "2024-11-23T15:34:11.991341Z",
     "start_time": "2024-11-23T15:34:11.982439Z"
    }
   },
   "source": [
    "df[\"leaning\"] = df[\"leaning\"].replace({0: \"left\", 1: \"right\"})\n",
    "df[\"leaning\"] = df[\"leaning\"].astype(\"category\")"
   ],
   "outputs": [],
   "execution_count": 25
  },
  {
   "cell_type": "markdown",
   "id": "10",
   "metadata": {},
   "source": [
    "Dropping rows with missing data."
   ]
  },
  {
   "cell_type": "code",
   "id": "11",
   "metadata": {
    "ExecuteTime": {
     "end_time": "2024-11-23T15:34:12.068765Z",
     "start_time": "2024-11-23T15:34:12.059852Z"
    }
   },
   "source": [
    "df = df.dropna()"
   ],
   "outputs": [],
   "execution_count": 26
  },
  {
   "cell_type": "markdown",
   "id": "12",
   "metadata": {},
   "source": [
    "Printing duplicates."
   ]
  },
  {
   "cell_type": "code",
   "id": "13",
   "metadata": {
    "ExecuteTime": {
     "end_time": "2024-11-23T15:34:12.180351Z",
     "start_time": "2024-11-23T15:34:12.116914Z"
    }
   },
   "source": [
    "df[df[\"body\"].duplicated(keep=False)]"
   ],
   "outputs": [
    {
     "data": {
      "text/plain": [
       "Empty DataFrame\n",
       "Columns: [body, leaning]\n",
       "Index: []"
      ],
      "text/html": [
       "<div>\n",
       "<style scoped>\n",
       "    .dataframe tbody tr th:only-of-type {\n",
       "        vertical-align: middle;\n",
       "    }\n",
       "\n",
       "    .dataframe tbody tr th {\n",
       "        vertical-align: top;\n",
       "    }\n",
       "\n",
       "    .dataframe thead th {\n",
       "        text-align: right;\n",
       "    }\n",
       "</style>\n",
       "<table border=\"1\" class=\"dataframe\">\n",
       "  <thead>\n",
       "    <tr style=\"text-align: right;\">\n",
       "      <th></th>\n",
       "      <th>body</th>\n",
       "      <th>leaning</th>\n",
       "    </tr>\n",
       "  </thead>\n",
       "  <tbody>\n",
       "  </tbody>\n",
       "</table>\n",
       "</div>"
      ]
     },
     "execution_count": 27,
     "metadata": {},
     "output_type": "execute_result"
    }
   ],
   "execution_count": 27
  },
  {
   "cell_type": "markdown",
   "id": "18",
   "metadata": {},
   "source": [
    "Inspecting body length."
   ]
  },
  {
   "cell_type": "code",
   "id": "19",
   "metadata": {
    "ExecuteTime": {
     "end_time": "2024-11-23T15:34:13.053863Z",
     "start_time": "2024-11-23T15:34:12.251534Z"
    }
   },
   "source": [
    "df[\"body_length\"] = df[\"body\"].str.len()\n",
    "df[\"body_word_count\"] = df[\"body\"].str.split().str.len()\n",
    "df = df.sort_values(by=\"body_length\")\n",
    "df.head()"
   ],
   "outputs": [
    {
     "data": {
      "text/plain": [
       "                                                    body leaning  body_length  \\\n",
       "7732   The clear impression given by today’s announce...    left          496   \n",
       "7740   My Lords, many of those who are self-employed ...    left          496   \n",
       "21102  Does the Chancellor agree with the <PARTY> par...    left          497   \n",
       "3724   My Lords, this is an absolute abdication of re...    left          497   \n",
       "3312   17. Does my right hon. Friend agree that the f...   right          497   \n",
       "\n",
       "       body_word_count  \n",
       "7732                84  \n",
       "7740                87  \n",
       "21102               83  \n",
       "3724                78  \n",
       "3312                90  "
      ],
      "text/html": [
       "<div>\n",
       "<style scoped>\n",
       "    .dataframe tbody tr th:only-of-type {\n",
       "        vertical-align: middle;\n",
       "    }\n",
       "\n",
       "    .dataframe tbody tr th {\n",
       "        vertical-align: top;\n",
       "    }\n",
       "\n",
       "    .dataframe thead th {\n",
       "        text-align: right;\n",
       "    }\n",
       "</style>\n",
       "<table border=\"1\" class=\"dataframe\">\n",
       "  <thead>\n",
       "    <tr style=\"text-align: right;\">\n",
       "      <th></th>\n",
       "      <th>body</th>\n",
       "      <th>leaning</th>\n",
       "      <th>body_length</th>\n",
       "      <th>body_word_count</th>\n",
       "    </tr>\n",
       "  </thead>\n",
       "  <tbody>\n",
       "    <tr>\n",
       "      <th>7732</th>\n",
       "      <td>The clear impression given by today’s announce...</td>\n",
       "      <td>left</td>\n",
       "      <td>496</td>\n",
       "      <td>84</td>\n",
       "    </tr>\n",
       "    <tr>\n",
       "      <th>7740</th>\n",
       "      <td>My Lords, many of those who are self-employed ...</td>\n",
       "      <td>left</td>\n",
       "      <td>496</td>\n",
       "      <td>87</td>\n",
       "    </tr>\n",
       "    <tr>\n",
       "      <th>21102</th>\n",
       "      <td>Does the Chancellor agree with the &lt;PARTY&gt; par...</td>\n",
       "      <td>left</td>\n",
       "      <td>497</td>\n",
       "      <td>83</td>\n",
       "    </tr>\n",
       "    <tr>\n",
       "      <th>3724</th>\n",
       "      <td>My Lords, this is an absolute abdication of re...</td>\n",
       "      <td>left</td>\n",
       "      <td>497</td>\n",
       "      <td>78</td>\n",
       "    </tr>\n",
       "    <tr>\n",
       "      <th>3312</th>\n",
       "      <td>17. Does my right hon. Friend agree that the f...</td>\n",
       "      <td>right</td>\n",
       "      <td>497</td>\n",
       "      <td>90</td>\n",
       "    </tr>\n",
       "  </tbody>\n",
       "</table>\n",
       "</div>"
      ]
     },
     "execution_count": 28,
     "metadata": {},
     "output_type": "execute_result"
    }
   ],
   "execution_count": 28
  },
  {
   "cell_type": "code",
   "id": "22",
   "metadata": {
    "ExecuteTime": {
     "end_time": "2024-11-23T15:34:13.231453Z",
     "start_time": "2024-11-23T15:34:13.227990Z"
    }
   },
   "source": [
    "df[\"body_length\"].mean()"
   ],
   "outputs": [
    {
     "data": {
      "text/plain": [
       "np.float64(2539.4363628862575)"
      ]
     },
     "execution_count": 29,
     "metadata": {},
     "output_type": "execute_result"
    }
   ],
   "execution_count": 29
  },
  {
   "cell_type": "markdown",
   "id": "23",
   "metadata": {},
   "source": [
    "The leaning distribution."
   ]
  },
  {
   "cell_type": "code",
   "id": "24",
   "metadata": {
    "ExecuteTime": {
     "end_time": "2024-11-23T15:34:13.325069Z",
     "start_time": "2024-11-23T15:34:13.277504Z"
    }
   },
   "source": [
    "df.groupby(\"leaning\", observed=True).size().plot.pie(autopct=\"%1.1f%%\");"
   ],
   "outputs": [
    {
     "data": {
      "text/plain": [
       "<Figure size 640x480 with 1 Axes>"
      ],
      "image/png": "[encoded data removed]"
     },
     "metadata": {},
     "output_type": "display_data"
    }
   ],
   "execution_count": 30
  },
  {
   "cell_type": "markdown",
   "id": "25",
   "metadata": {},
   "source": [
    "The distribution of body length sums per leaning."
   ]
  },
  {
   "cell_type": "code",
   "id": "26",
   "metadata": {
    "ExecuteTime": {
     "end_time": "2024-11-23T15:34:13.412363Z",
     "start_time": "2024-11-23T15:34:13.375081Z"
    }
   },
   "source": [
    "df.groupby(\"leaning\", observed=True)[\"body_length\"].sum().plot.pie(autopct=\"%1.1f%%\", ylabel=\"\");"
   ],
   "outputs": [
    {
     "data": {
      "text/plain": [
       "<Figure size 640x480 with 1 Axes>"
      ],
      "image/png": "[encoded data removed]"
     },
     "metadata": {},
     "output_type": "display_data"
    }
   ],
   "execution_count": 31
  },
  {
   "cell_type": "markdown",
   "id": "27",
   "metadata": {},
   "source": [
    "Body length distribution by leaning."
   ]
  },
  {
   "cell_type": "code",
   "id": "28",
   "metadata": {
    "ExecuteTime": {
     "end_time": "2024-11-23T15:34:13.637155Z",
     "start_time": "2024-11-23T15:34:13.455589Z"
    }
   },
   "source": [
    "plt.figure(figsize=(10, 6))\n",
    "\n",
    "for leaning in df[\"leaning\"].unique():\n",
    "    df_leaning = df[df[\"leaning\"] == leaning]\n",
    "    downsampled = pd.concat(\n",
    "        # Ensuring to include the last (longest) item.\n",
    "        [df_leaning[\"body_length\"].iloc[::100], df_leaning[\"body_length\"].tail(1)]\n",
    "    ).drop_duplicates().reset_index(drop=True)\n",
    "    plt.plot(downsampled, label=leaning)\n",
    "\n",
    "plt.xlabel(\"downsampled index\")\n",
    "plt.ylabel(\"body length\")\n",
    "plt.title(\"body length by political leaning\")\n",
    "plt.legend(title=\"leaning\")\n",
    "plt.show()"
   ],
   "outputs": [
    {
     "data": {
      "text/plain": [
       "<Figure size 1000x600 with 1 Axes>"
      ],
      "image/png": "[encoded data removed]"
     },
     "metadata": {},
     "output_type": "display_data"
    }
   ],
   "execution_count": 32
  },
  {
   "cell_type": "code",
   "id": "29",
   "metadata": {
    "ExecuteTime": {
     "end_time": "2024-11-23T15:34:14.027209Z",
     "start_time": "2024-11-23T15:34:13.646303Z"
    }
   },
   "source": "df.to_parquet(\"../preprocessed/parliament_speeches_2024.parquet\")",
   "outputs": [],
   "execution_count": 33
  }
 ],
 "metadata": {
  "kernelspec": {
   "display_name": "Python 3",
   "language": "python",
   "name": "python3"
  },
  "language_info": {
   "codemirror_mode": {
    "name": "ipython",
    "version": 2
   },
   "file_extension": ".py",
   "mimetype": "text/x-python",
   "name": "python",
   "nbconvert_exporter": "python",
   "pygments_lexer": "ipython2",
   "version": "2.7.6"
  }
 },
 "nbformat": 4,
 "nbformat_minor": 5
}
