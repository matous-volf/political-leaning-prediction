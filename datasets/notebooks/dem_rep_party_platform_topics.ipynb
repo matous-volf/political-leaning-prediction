{
 "cells": [
  {
   "metadata": {},
   "cell_type": "code",
   "outputs": [],
   "execution_count": null,
   "source": [
    "import pandas as pd\n",
    "from datasets import load_dataset, concatenate_datasets\n",
    "from matplotlib import pyplot as plt"
   ],
   "id": "14153bfbd1df8484"
  },
  {
   "metadata": {},
   "cell_type": "markdown",
   "source": "Reading the raw dataset.",
   "id": "f718e1c564c4dd7f"
  },
  {
   "metadata": {},
   "cell_type": "code",
   "outputs": [],
   "execution_count": null,
   "source": [
    "ds = load_dataset(\"mlburnham/dem_rep_party_platform_topics\")\n",
    "df = concatenate_datasets(ds.values()).to_pandas()\n",
    "df"
   ],
   "id": "abf939e6bc56b2d9"
  },
  {
   "metadata": {},
   "cell_type": "markdown",
   "source": "Dropping useless columns.",
   "id": "d77fcd548a679d95"
  },
  {
   "metadata": {},
   "cell_type": "code",
   "outputs": [],
   "execution_count": null,
   "source": "df = df.drop(columns=[\"target\", \"hypothesis\", \"entailment\", \"validation_label\", \"validation_source\"])",
   "id": "ef060d904edca6c8"
  },
  {
   "metadata": {},
   "cell_type": "markdown",
   "source": "Renaming columns.",
   "id": "62e8650a39d3cb2e"
  },
  {
   "metadata": {},
   "cell_type": "code",
   "outputs": [],
   "execution_count": null,
   "source": "df = df.rename(columns={\"premise\": \"body\", \"dataset\": \"leaning\"})",
   "id": "b9b9858eeed8352d"
  },
  {
   "metadata": {},
   "cell_type": "markdown",
   "source": "Categorizing the leaning column.",
   "id": "eecfddb7466ca4a5"
  },
  {
   "metadata": {},
   "cell_type": "code",
   "outputs": [],
   "execution_count": null,
   "source": "df[\"leaning\"].unique()",
   "id": "a068d14af39db026"
  },
  {
   "metadata": {},
   "cell_type": "code",
   "outputs": [],
   "execution_count": null,
   "source": [
    "df[\"leaning\"] = df[\"leaning\"].replace({\"Dem. Party Platforms\": \"left\", \"Rep. Party Platforms\": \"right\"})\n",
    "df[\"leaning\"] = df[\"leaning\"].astype(\"category\")"
   ],
   "id": "409a58165e52813c"
  },
  {
   "metadata": {},
   "cell_type": "markdown",
   "source": "Dropping rows with missing data.",
   "id": "44704be0b9f14fbd"
  },
  {
   "metadata": {},
   "cell_type": "code",
   "outputs": [],
   "execution_count": null,
   "source": "df = df.dropna()",
   "id": "cd6e2b2c11492d2f"
  },
  {
   "metadata": {},
   "cell_type": "markdown",
   "source": "Printing duplicates.",
   "id": "8640d1048b58f8e"
  },
  {
   "metadata": {},
   "cell_type": "code",
   "outputs": [],
   "execution_count": null,
   "source": "df[df[\"body\"].duplicated(keep=False)]",
   "id": "520934f4ca3d8e2d"
  },
  {
   "metadata": {},
   "cell_type": "markdown",
   "source": "Dropping the duplicates.",
   "id": "33b8e2ee5c6a9862"
  },
  {
   "metadata": {},
   "cell_type": "code",
   "outputs": [],
   "execution_count": null,
   "source": "df = df.drop_duplicates(subset=\"body\")",
   "id": "b8c0a59ed54dea79"
  },
  {
   "metadata": {},
   "cell_type": "markdown",
   "source": "Inspecting body length.",
   "id": "166cce9ec79132fe"
  },
  {
   "metadata": {},
   "cell_type": "code",
   "outputs": [],
   "execution_count": null,
   "source": [
    "df[\"body_length\"] = df[\"body\"].str.len()\n",
    "df[\"body_word_count\"] = df[\"body\"].str.split().str.len()\n",
    "df = df.sort_values(by=\"body_length\")\n",
    "df.head()"
   ],
   "id": "9e1bcce045294815"
  },
  {
   "metadata": {},
   "cell_type": "code",
   "outputs": [],
   "execution_count": null,
   "source": "df[\"body_length\"].mean()",
   "id": "ed2c042b38d12cc6"
  },
  {
   "metadata": {},
   "cell_type": "markdown",
   "source": "The leaning distribution.",
   "id": "82927cf192c2d1af"
  },
  {
   "metadata": {},
   "cell_type": "code",
   "outputs": [],
   "execution_count": null,
   "source": "df.groupby(\"leaning\", observed=True).size().plot.pie(autopct=\"%1.1f%%\");",
   "id": "a31012d250acf3f8"
  },
  {
   "metadata": {},
   "cell_type": "markdown",
   "source": "The distribution of body length sums per leaning.",
   "id": "9fab209a049c153"
  },
  {
   "metadata": {},
   "cell_type": "code",
   "outputs": [],
   "execution_count": null,
   "source": "df.groupby(\"leaning\", observed=True)[\"body_length\"].sum().plot.pie(autopct=\"%1.1f%%\", ylabel=\"\");",
   "id": "a15e6f67d673fdca"
  },
  {
   "metadata": {},
   "cell_type": "markdown",
   "source": "Body length distribution by leaning.",
   "id": "c08ec69ff5003058"
  },
  {
   "metadata": {},
   "cell_type": "code",
   "outputs": [],
   "execution_count": null,
   "source": [
    "plt.figure(figsize=(10, 6))\n",
    "\n",
    "for leaning in df[\"leaning\"].unique():\n",
    "    df_leaning = df[df[\"leaning\"] == leaning]\n",
    "    downsampled = pd.concat(\n",
    "        # Ensuring to include the last (longest) item.\n",
    "        [df_leaning[\"body_length\"].iloc[::100], df_leaning[\"body_length\"].tail(1)]\n",
    "    ).drop_duplicates().reset_index(drop=True)\n",
    "    plt.plot(downsampled, label=leaning)\n",
    "\n",
    "plt.xlabel(\"downsampled index\")\n",
    "plt.ylabel(\"body length\")\n",
    "plt.title(\"body length by political leaning\")\n",
    "plt.legend(title=\"leaning\")\n",
    "plt.show()"
   ],
   "id": "ec692bcd676e64a0"
  },
  {
   "metadata": {},
   "cell_type": "code",
   "outputs": [],
   "execution_count": null,
   "source": "df.to_parquet(\"../preprocessed/dem_rep_party_platform_topics.parquet\")",
   "id": "c390182db74824d"
  },
  {
   "metadata": {},
   "cell_type": "code",
   "outputs": [],
   "execution_count": null,
   "source": "df",
   "id": "c9939bcc7a34aea4"
  }
 ],
 "metadata": {},
 "nbformat": 5,
 "nbformat_minor": 9
}
