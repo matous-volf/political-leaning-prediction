{
 "cells": [
  {
   "metadata": {
    "ExecuteTime": {
     "end_time": "2024-11-28T15:07:11.464574Z",
     "start_time": "2024-11-28T15:07:09.601060Z"
    }
   },
   "cell_type": "code",
   "source": [
    "import pandas as pd\n",
    "from datasets import load_dataset, concatenate_datasets\n",
    "from matplotlib import pyplot as plt"
   ],
   "id": "14153bfbd1df8484",
   "outputs": [],
   "execution_count": 1
  },
  {
   "metadata": {},
   "cell_type": "markdown",
   "source": "Reading the raw dataset.",
   "id": "f718e1c564c4dd7f"
  },
  {
   "metadata": {
    "ExecuteTime": {
     "end_time": "2024-11-28T15:07:15.748928Z",
     "start_time": "2024-11-28T15:07:11.490242Z"
    }
   },
   "cell_type": "code",
   "source": [
    "ds = load_dataset(\n",
    "    \"mlburnham/dem_rep_party_platform_topics\",\n",
    "    revision=\"08af680e8575e47c4f49e69bc458c5a423b8376b\"\n",
    ")\n",
    "df = concatenate_datasets(ds.values()).to_pandas()\n",
    "df"
   ],
   "id": "abf939e6bc56b2d9",
   "outputs": [
    {
     "data": {
      "text/plain": [
       "README.md:   0%|          | 0.00/799 [00:00<?, ?B/s]"
      ],
      "application/vnd.jupyter.widget-view+json": {
       "version_major": 2,
       "version_minor": 0,
       "model_id": "db556f33cdf04e308d2a64efb83d03ca"
      }
     },
     "metadata": {},
     "output_type": "display_data"
    },
    {
     "data": {
      "text/plain": [
       "(…)-00000-of-00001-6f3e426c1bd48c74.parquet:   0%|          | 0.00/3.71M [00:00<?, ?B/s]"
      ],
      "application/vnd.jupyter.widget-view+json": {
       "version_major": 2,
       "version_minor": 0,
       "model_id": "6419cec84ba04e219632c1fa739e785f"
      }
     },
     "metadata": {},
     "output_type": "display_data"
    },
    {
     "data": {
      "text/plain": [
       "(…)-00000-of-00001-c4fd45720d03eaae.parquet:   0%|          | 0.00/1.14M [00:00<?, ?B/s]"
      ],
      "application/vnd.jupyter.widget-view+json": {
       "version_major": 2,
       "version_minor": 0,
       "model_id": "4578be35081749409b485ca75f86bd4f"
      }
     },
     "metadata": {},
     "output_type": "display_data"
    },
    {
     "data": {
      "text/plain": [
       "Generating train split:   0%|          | 0/15438 [00:00<?, ? examples/s]"
      ],
      "application/vnd.jupyter.widget-view+json": {
       "version_major": 2,
       "version_minor": 0,
       "model_id": "7c80a796ecfc4fec9fe714b263cf1289"
      }
     },
     "metadata": {},
     "output_type": "display_data"
    },
    {
     "data": {
      "text/plain": [
       "Generating test split:   0%|          | 0/4734 [00:00<?, ? examples/s]"
      ],
      "application/vnd.jupyter.widget-view+json": {
       "version_major": 2,
       "version_minor": 0,
       "model_id": "9fece5a91b8349d5b9fb9c39384c28cd"
      }
     },
     "metadata": {},
     "output_type": "display_data"
    },
    {
     "data": {
      "text/plain": [
       "                                                 premise  \\\n",
       "0      Ours is the party under which this nation befo...   \n",
       "1      Ours is the party under whose leadership farm ...   \n",
       "2      Ours is the party which first proclaimed that ...   \n",
       "3      Before the end of the war the Democratic admin...   \n",
       "4      We pledge our best endeavors to conclude treat...   \n",
       "...                                                  ...   \n",
       "20167  We emphatically reject U.N. Agenda 21 as erosi...   \n",
       "20168  The advance of political freedom and entrepren...   \n",
       "20169  Radical Islamic terrorism poses an existential...   \n",
       "20170  Cybersecurity in an Insecure World. Cyber atta...   \n",
       "20171  Confronting Internet Tyranny. Internet firewal...   \n",
       "\n",
       "                      target                                 hypothesis  \\\n",
       "0                foreign aid            This text is about foreign aid.   \n",
       "1                agriculture            This text is about agriculture.   \n",
       "2      international affairs  This text is about international affairs.   \n",
       "3      international affairs  This text is about international affairs.   \n",
       "4      international affairs  This text is about international affairs.   \n",
       "...                      ...                                        ...   \n",
       "20167         exchange rates         This text is about exchange rates.   \n",
       "20168       tariff & imports       This text is about tariff & imports.   \n",
       "20169                 police                 This text is about police.   \n",
       "20170   fair labor standards   This text is about fair labor standards.   \n",
       "20171   court administration   This text is about court administration.   \n",
       "\n",
       "       entailment  validation_label               dataset   validation_source  \n",
       "0               0                 0  Dem. Party Platforms  GPT-4-1106-preview  \n",
       "1               0                 0  Dem. Party Platforms  GPT-4-1106-preview  \n",
       "2               0                 0  Dem. Party Platforms  GPT-4-1106-preview  \n",
       "3               0                 0  Dem. Party Platforms  GPT-4-1106-preview  \n",
       "4               0                 0  Dem. Party Platforms  GPT-4-1106-preview  \n",
       "...           ...               ...                   ...                 ...  \n",
       "20167           1                 1  Rep. Party Platforms  GPT-4-1106-preview  \n",
       "20168           1                 1  Rep. Party Platforms  GPT-4-1106-preview  \n",
       "20169           1                 1  Rep. Party Platforms  GPT-4-1106-preview  \n",
       "20170           1                 1  Rep. Party Platforms  GPT-4-1106-preview  \n",
       "20171           1                 1  Rep. Party Platforms  GPT-4-1106-preview  \n",
       "\n",
       "[20172 rows x 7 columns]"
      ],
      "text/html": [
       "<div>\n",
       "<style scoped>\n",
       "    .dataframe tbody tr th:only-of-type {\n",
       "        vertical-align: middle;\n",
       "    }\n",
       "\n",
       "    .dataframe tbody tr th {\n",
       "        vertical-align: top;\n",
       "    }\n",
       "\n",
       "    .dataframe thead th {\n",
       "        text-align: right;\n",
       "    }\n",
       "</style>\n",
       "<table border=\"1\" class=\"dataframe\">\n",
       "  <thead>\n",
       "    <tr style=\"text-align: right;\">\n",
       "      <th></th>\n",
       "      <th>premise</th>\n",
       "      <th>target</th>\n",
       "      <th>hypothesis</th>\n",
       "      <th>entailment</th>\n",
       "      <th>validation_label</th>\n",
       "      <th>dataset</th>\n",
       "      <th>validation_source</th>\n",
       "    </tr>\n",
       "  </thead>\n",
       "  <tbody>\n",
       "    <tr>\n",
       "      <th>0</th>\n",
       "      <td>Ours is the party under which this nation befo...</td>\n",
       "      <td>foreign aid</td>\n",
       "      <td>This text is about foreign aid.</td>\n",
       "      <td>0</td>\n",
       "      <td>0</td>\n",
       "      <td>Dem. Party Platforms</td>\n",
       "      <td>GPT-4-1106-preview</td>\n",
       "    </tr>\n",
       "    <tr>\n",
       "      <th>1</th>\n",
       "      <td>Ours is the party under whose leadership farm ...</td>\n",
       "      <td>agriculture</td>\n",
       "      <td>This text is about agriculture.</td>\n",
       "      <td>0</td>\n",
       "      <td>0</td>\n",
       "      <td>Dem. Party Platforms</td>\n",
       "      <td>GPT-4-1106-preview</td>\n",
       "    </tr>\n",
       "    <tr>\n",
       "      <th>2</th>\n",
       "      <td>Ours is the party which first proclaimed that ...</td>\n",
       "      <td>international affairs</td>\n",
       "      <td>This text is about international affairs.</td>\n",
       "      <td>0</td>\n",
       "      <td>0</td>\n",
       "      <td>Dem. Party Platforms</td>\n",
       "      <td>GPT-4-1106-preview</td>\n",
       "    </tr>\n",
       "    <tr>\n",
       "      <th>3</th>\n",
       "      <td>Before the end of the war the Democratic admin...</td>\n",
       "      <td>international affairs</td>\n",
       "      <td>This text is about international affairs.</td>\n",
       "      <td>0</td>\n",
       "      <td>0</td>\n",
       "      <td>Dem. Party Platforms</td>\n",
       "      <td>GPT-4-1106-preview</td>\n",
       "    </tr>\n",
       "    <tr>\n",
       "      <th>4</th>\n",
       "      <td>We pledge our best endeavors to conclude treat...</td>\n",
       "      <td>international affairs</td>\n",
       "      <td>This text is about international affairs.</td>\n",
       "      <td>0</td>\n",
       "      <td>0</td>\n",
       "      <td>Dem. Party Platforms</td>\n",
       "      <td>GPT-4-1106-preview</td>\n",
       "    </tr>\n",
       "    <tr>\n",
       "      <th>...</th>\n",
       "      <td>...</td>\n",
       "      <td>...</td>\n",
       "      <td>...</td>\n",
       "      <td>...</td>\n",
       "      <td>...</td>\n",
       "      <td>...</td>\n",
       "      <td>...</td>\n",
       "    </tr>\n",
       "    <tr>\n",
       "      <th>20167</th>\n",
       "      <td>We emphatically reject U.N. Agenda 21 as erosi...</td>\n",
       "      <td>exchange rates</td>\n",
       "      <td>This text is about exchange rates.</td>\n",
       "      <td>1</td>\n",
       "      <td>1</td>\n",
       "      <td>Rep. Party Platforms</td>\n",
       "      <td>GPT-4-1106-preview</td>\n",
       "    </tr>\n",
       "    <tr>\n",
       "      <th>20168</th>\n",
       "      <td>The advance of political freedom and entrepren...</td>\n",
       "      <td>tariff &amp; imports</td>\n",
       "      <td>This text is about tariff &amp; imports.</td>\n",
       "      <td>1</td>\n",
       "      <td>1</td>\n",
       "      <td>Rep. Party Platforms</td>\n",
       "      <td>GPT-4-1106-preview</td>\n",
       "    </tr>\n",
       "    <tr>\n",
       "      <th>20169</th>\n",
       "      <td>Radical Islamic terrorism poses an existential...</td>\n",
       "      <td>police</td>\n",
       "      <td>This text is about police.</td>\n",
       "      <td>1</td>\n",
       "      <td>1</td>\n",
       "      <td>Rep. Party Platforms</td>\n",
       "      <td>GPT-4-1106-preview</td>\n",
       "    </tr>\n",
       "    <tr>\n",
       "      <th>20170</th>\n",
       "      <td>Cybersecurity in an Insecure World. Cyber atta...</td>\n",
       "      <td>fair labor standards</td>\n",
       "      <td>This text is about fair labor standards.</td>\n",
       "      <td>1</td>\n",
       "      <td>1</td>\n",
       "      <td>Rep. Party Platforms</td>\n",
       "      <td>GPT-4-1106-preview</td>\n",
       "    </tr>\n",
       "    <tr>\n",
       "      <th>20171</th>\n",
       "      <td>Confronting Internet Tyranny. Internet firewal...</td>\n",
       "      <td>court administration</td>\n",
       "      <td>This text is about court administration.</td>\n",
       "      <td>1</td>\n",
       "      <td>1</td>\n",
       "      <td>Rep. Party Platforms</td>\n",
       "      <td>GPT-4-1106-preview</td>\n",
       "    </tr>\n",
       "  </tbody>\n",
       "</table>\n",
       "<p>20172 rows × 7 columns</p>\n",
       "</div>"
      ]
     },
     "execution_count": 2,
     "metadata": {},
     "output_type": "execute_result"
    }
   ],
   "execution_count": 2
  },
  {
   "metadata": {},
   "cell_type": "markdown",
   "source": "Dropping useless columns.",
   "id": "d77fcd548a679d95"
  },
  {
   "metadata": {
    "ExecuteTime": {
     "end_time": "2024-11-28T15:07:15.916983Z",
     "start_time": "2024-11-28T15:07:15.910775Z"
    }
   },
   "cell_type": "code",
   "source": "df = df.drop(columns=[\"target\", \"hypothesis\", \"entailment\", \"validation_label\", \"validation_source\"])",
   "id": "ef060d904edca6c8",
   "outputs": [],
   "execution_count": 3
  },
  {
   "metadata": {},
   "cell_type": "markdown",
   "source": "Renaming columns.",
   "id": "62e8650a39d3cb2e"
  },
  {
   "metadata": {
    "ExecuteTime": {
     "end_time": "2024-11-28T15:07:15.959191Z",
     "start_time": "2024-11-28T15:07:15.954559Z"
    }
   },
   "cell_type": "code",
   "source": "df = df.rename(columns={\"premise\": \"body\", \"dataset\": \"leaning\"})",
   "id": "b9b9858eeed8352d",
   "outputs": [],
   "execution_count": 4
  },
  {
   "metadata": {},
   "cell_type": "markdown",
   "source": "Categorizing the leaning column.",
   "id": "eecfddb7466ca4a5"
  },
  {
   "metadata": {
    "ExecuteTime": {
     "end_time": "2024-11-28T15:07:16.061861Z",
     "start_time": "2024-11-28T15:07:16.055941Z"
    }
   },
   "cell_type": "code",
   "source": "df[\"leaning\"].unique()",
   "id": "a068d14af39db026",
   "outputs": [
    {
     "data": {
      "text/plain": [
       "array(['Dem. Party Platforms', 'Rep. Party Platforms'], dtype=object)"
      ]
     },
     "execution_count": 5,
     "metadata": {},
     "output_type": "execute_result"
    }
   ],
   "execution_count": 5
  },
  {
   "metadata": {
    "ExecuteTime": {
     "end_time": "2024-11-28T15:07:16.119240Z",
     "start_time": "2024-11-28T15:07:16.107585Z"
    }
   },
   "cell_type": "code",
   "source": [
    "df[\"leaning\"] = df[\"leaning\"].replace({\"Dem. Party Platforms\": \"left\", \"Rep. Party Platforms\": \"right\"})\n",
    "df[\"leaning\"] = df[\"leaning\"].astype(\"category\")"
   ],
   "id": "409a58165e52813c",
   "outputs": [],
   "execution_count": 6
  },
  {
   "metadata": {},
   "cell_type": "markdown",
   "source": "Dropping rows with missing data.",
   "id": "44704be0b9f14fbd"
  },
  {
   "metadata": {
    "ExecuteTime": {
     "end_time": "2024-11-28T15:07:16.185719Z",
     "start_time": "2024-11-28T15:07:16.179616Z"
    }
   },
   "cell_type": "code",
   "source": "df = df.dropna()",
   "id": "cd6e2b2c11492d2f",
   "outputs": [],
   "execution_count": 7
  },
  {
   "metadata": {},
   "cell_type": "markdown",
   "source": "Printing duplicates.",
   "id": "8640d1048b58f8e"
  },
  {
   "metadata": {
    "ExecuteTime": {
     "end_time": "2024-11-28T15:07:16.273283Z",
     "start_time": "2024-11-28T15:07:16.255948Z"
    }
   },
   "cell_type": "code",
   "source": "df[df[\"body\"].duplicated(keep=False)]",
   "id": "520934f4ca3d8e2d",
   "outputs": [
    {
     "data": {
      "text/plain": [
       "                                                    body leaning\n",
       "0      Ours is the party under which this nation befo...    left\n",
       "2      Ours is the party which first proclaimed that ...    left\n",
       "3      Before the end of the war the Democratic admin...    left\n",
       "4      We pledge our best endeavors to conclude treat...    left\n",
       "5      We shall strive to conclude treaties with the ...    left\n",
       "...                                                  ...     ...\n",
       "20165  Our continued participation in the United Nati...   right\n",
       "20167  We emphatically reject U.N. Agenda 21 as erosi...   right\n",
       "20169  Radical Islamic terrorism poses an existential...   right\n",
       "20170  Cybersecurity in an Insecure World. Cyber atta...   right\n",
       "20171  Confronting Internet Tyranny. Internet firewal...   right\n",
       "\n",
       "[17228 rows x 2 columns]"
      ],
      "text/html": [
       "<div>\n",
       "<style scoped>\n",
       "    .dataframe tbody tr th:only-of-type {\n",
       "        vertical-align: middle;\n",
       "    }\n",
       "\n",
       "    .dataframe tbody tr th {\n",
       "        vertical-align: top;\n",
       "    }\n",
       "\n",
       "    .dataframe thead th {\n",
       "        text-align: right;\n",
       "    }\n",
       "</style>\n",
       "<table border=\"1\" class=\"dataframe\">\n",
       "  <thead>\n",
       "    <tr style=\"text-align: right;\">\n",
       "      <th></th>\n",
       "      <th>body</th>\n",
       "      <th>leaning</th>\n",
       "    </tr>\n",
       "  </thead>\n",
       "  <tbody>\n",
       "    <tr>\n",
       "      <th>0</th>\n",
       "      <td>Ours is the party under which this nation befo...</td>\n",
       "      <td>left</td>\n",
       "    </tr>\n",
       "    <tr>\n",
       "      <th>2</th>\n",
       "      <td>Ours is the party which first proclaimed that ...</td>\n",
       "      <td>left</td>\n",
       "    </tr>\n",
       "    <tr>\n",
       "      <th>3</th>\n",
       "      <td>Before the end of the war the Democratic admin...</td>\n",
       "      <td>left</td>\n",
       "    </tr>\n",
       "    <tr>\n",
       "      <th>4</th>\n",
       "      <td>We pledge our best endeavors to conclude treat...</td>\n",
       "      <td>left</td>\n",
       "    </tr>\n",
       "    <tr>\n",
       "      <th>5</th>\n",
       "      <td>We shall strive to conclude treaties with the ...</td>\n",
       "      <td>left</td>\n",
       "    </tr>\n",
       "    <tr>\n",
       "      <th>...</th>\n",
       "      <td>...</td>\n",
       "      <td>...</td>\n",
       "    </tr>\n",
       "    <tr>\n",
       "      <th>20165</th>\n",
       "      <td>Our continued participation in the United Nati...</td>\n",
       "      <td>right</td>\n",
       "    </tr>\n",
       "    <tr>\n",
       "      <th>20167</th>\n",
       "      <td>We emphatically reject U.N. Agenda 21 as erosi...</td>\n",
       "      <td>right</td>\n",
       "    </tr>\n",
       "    <tr>\n",
       "      <th>20169</th>\n",
       "      <td>Radical Islamic terrorism poses an existential...</td>\n",
       "      <td>right</td>\n",
       "    </tr>\n",
       "    <tr>\n",
       "      <th>20170</th>\n",
       "      <td>Cybersecurity in an Insecure World. Cyber atta...</td>\n",
       "      <td>right</td>\n",
       "    </tr>\n",
       "    <tr>\n",
       "      <th>20171</th>\n",
       "      <td>Confronting Internet Tyranny. Internet firewal...</td>\n",
       "      <td>right</td>\n",
       "    </tr>\n",
       "  </tbody>\n",
       "</table>\n",
       "<p>17228 rows × 2 columns</p>\n",
       "</div>"
      ]
     },
     "execution_count": 8,
     "metadata": {},
     "output_type": "execute_result"
    }
   ],
   "execution_count": 8
  },
  {
   "metadata": {},
   "cell_type": "markdown",
   "source": "Dropping the duplicates.",
   "id": "33b8e2ee5c6a9862"
  },
  {
   "metadata": {
    "ExecuteTime": {
     "end_time": "2024-11-28T15:07:16.314066Z",
     "start_time": "2024-11-28T15:07:16.307748Z"
    }
   },
   "cell_type": "code",
   "source": "df = df.drop_duplicates(subset=\"body\")",
   "id": "b8c0a59ed54dea79",
   "outputs": [],
   "execution_count": 9
  },
  {
   "metadata": {},
   "cell_type": "markdown",
   "source": "Inspecting body length.",
   "id": "166cce9ec79132fe"
  },
  {
   "metadata": {
    "ExecuteTime": {
     "end_time": "2024-11-28T15:07:16.489340Z",
     "start_time": "2024-11-28T15:07:16.410855Z"
    }
   },
   "cell_type": "code",
   "source": [
    "df[\"body_length\"] = df[\"body\"].str.len()\n",
    "df[\"body_word_count\"] = df[\"body\"].str.split().str.len()\n",
    "df = df.sort_values(by=\"body_length\")\n",
    "df.head()"
   ],
   "id": "9e1bcce045294815",
   "outputs": [
    {
     "data": {
      "text/plain": [
       "                                                    body leaning  body_length  \\\n",
       "6285   We must pay down the debt to keep interest rat...    left           53   \n",
       "15360  For a veteran, a job is more than a source of ...   right           53   \n",
       "5486   To an entrepreneur, it means a shot at a new b...    left           54   \n",
       "2037   We believe in equal pay for equal work and pay...    left           54   \n",
       "5306   As we enter the 1980s, we must enact grand jur...    left           55   \n",
       "\n",
       "       body_word_count  \n",
       "6285                11  \n",
       "15360               12  \n",
       "5486                11  \n",
       "2037                11  \n",
       "5306                11  "
      ],
      "text/html": [
       "<div>\n",
       "<style scoped>\n",
       "    .dataframe tbody tr th:only-of-type {\n",
       "        vertical-align: middle;\n",
       "    }\n",
       "\n",
       "    .dataframe tbody tr th {\n",
       "        vertical-align: top;\n",
       "    }\n",
       "\n",
       "    .dataframe thead th {\n",
       "        text-align: right;\n",
       "    }\n",
       "</style>\n",
       "<table border=\"1\" class=\"dataframe\">\n",
       "  <thead>\n",
       "    <tr style=\"text-align: right;\">\n",
       "      <th></th>\n",
       "      <th>body</th>\n",
       "      <th>leaning</th>\n",
       "      <th>body_length</th>\n",
       "      <th>body_word_count</th>\n",
       "    </tr>\n",
       "  </thead>\n",
       "  <tbody>\n",
       "    <tr>\n",
       "      <th>6285</th>\n",
       "      <td>We must pay down the debt to keep interest rat...</td>\n",
       "      <td>left</td>\n",
       "      <td>53</td>\n",
       "      <td>11</td>\n",
       "    </tr>\n",
       "    <tr>\n",
       "      <th>15360</th>\n",
       "      <td>For a veteran, a job is more than a source of ...</td>\n",
       "      <td>right</td>\n",
       "      <td>53</td>\n",
       "      <td>12</td>\n",
       "    </tr>\n",
       "    <tr>\n",
       "      <th>5486</th>\n",
       "      <td>To an entrepreneur, it means a shot at a new b...</td>\n",
       "      <td>left</td>\n",
       "      <td>54</td>\n",
       "      <td>11</td>\n",
       "    </tr>\n",
       "    <tr>\n",
       "      <th>2037</th>\n",
       "      <td>We believe in equal pay for equal work and pay...</td>\n",
       "      <td>left</td>\n",
       "      <td>54</td>\n",
       "      <td>11</td>\n",
       "    </tr>\n",
       "    <tr>\n",
       "      <th>5306</th>\n",
       "      <td>As we enter the 1980s, we must enact grand jur...</td>\n",
       "      <td>left</td>\n",
       "      <td>55</td>\n",
       "      <td>11</td>\n",
       "    </tr>\n",
       "  </tbody>\n",
       "</table>\n",
       "</div>"
      ]
     },
     "execution_count": 10,
     "metadata": {},
     "output_type": "execute_result"
    }
   ],
   "execution_count": 10
  },
  {
   "metadata": {
    "ExecuteTime": {
     "end_time": "2024-11-28T15:07:16.566124Z",
     "start_time": "2024-11-28T15:07:16.561063Z"
    }
   },
   "cell_type": "code",
   "source": "df[\"body_length\"].mean()",
   "id": "ed2c042b38d12cc6",
   "outputs": [
    {
     "data": {
      "text/plain": [
       "np.float64(390.1289150372037)"
      ]
     },
     "execution_count": 11,
     "metadata": {},
     "output_type": "execute_result"
    }
   ],
   "execution_count": 11
  },
  {
   "metadata": {},
   "cell_type": "markdown",
   "source": "The leaning distribution.",
   "id": "82927cf192c2d1af"
  },
  {
   "metadata": {
    "ExecuteTime": {
     "end_time": "2024-11-28T15:07:16.740121Z",
     "start_time": "2024-11-28T15:07:16.620367Z"
    }
   },
   "cell_type": "code",
   "source": "df.groupby(\"leaning\", observed=True).size().plot.pie(autopct=\"%1.1f%%\");",
   "id": "a31012d250acf3f8",
   "outputs": [
    {
     "data": {
      "text/plain": [
       "<Figure size 640x480 with 1 Axes>"
      ],
      "image/png": "[encoded data removed]"
     },
     "metadata": {},
     "output_type": "display_data"
    }
   ],
   "execution_count": 12
  },
  {
   "metadata": {},
   "cell_type": "markdown",
   "source": "The distribution of body length sums per leaning.",
   "id": "9fab209a049c153"
  },
  {
   "metadata": {
    "ExecuteTime": {
     "end_time": "2024-11-28T15:07:16.853920Z",
     "start_time": "2024-11-28T15:07:16.786454Z"
    }
   },
   "cell_type": "code",
   "source": "df.groupby(\"leaning\", observed=True)[\"body_length\"].sum().plot.pie(autopct=\"%1.1f%%\", ylabel=\"\");",
   "id": "a15e6f67d673fdca",
   "outputs": [
    {
     "data": {
      "text/plain": [
       "<Figure size 640x480 with 1 Axes>"
      ],
      "image/png": "[encoded data removed]"
     },
     "metadata": {},
     "output_type": "display_data"
    }
   ],
   "execution_count": 13
  },
  {
   "metadata": {},
   "cell_type": "markdown",
   "source": "Body length distribution by leaning.",
   "id": "c08ec69ff5003058"
  },
  {
   "metadata": {
    "ExecuteTime": {
     "end_time": "2024-11-28T15:07:17.095066Z",
     "start_time": "2024-11-28T15:07:16.889527Z"
    }
   },
   "cell_type": "code",
   "source": [
    "plt.figure(figsize=(10, 6))\n",
    "\n",
    "for leaning in df[\"leaning\"].unique():\n",
    "    df_leaning = df[df[\"leaning\"] == leaning]\n",
    "    downsampled = pd.concat(\n",
    "        # Ensuring to include the last (longest) item.\n",
    "        [df_leaning[\"body_length\"].iloc[::100], df_leaning[\"body_length\"].tail(1)]\n",
    "    ).drop_duplicates().reset_index(drop=True)\n",
    "    plt.plot(downsampled, label=leaning)\n",
    "\n",
    "plt.xlabel(\"downsampled index\")\n",
    "plt.ylabel(\"body length\")\n",
    "plt.title(\"body length by political leaning\")\n",
    "plt.legend(title=\"leaning\")\n",
    "plt.show()"
   ],
   "id": "ec692bcd676e64a0",
   "outputs": [
    {
     "data": {
      "text/plain": [
       "<Figure size 1000x600 with 1 Axes>"
      ],
      "image/png": "[encoded data removed]"
     },
     "metadata": {},
     "output_type": "display_data"
    }
   ],
   "execution_count": 14
  },
  {
   "metadata": {
    "ExecuteTime": {
     "end_time": "2024-11-28T15:07:17.140567Z",
     "start_time": "2024-11-28T15:07:17.101852Z"
    }
   },
   "cell_type": "code",
   "source": "df.to_parquet(\"../preprocessed/dem_rep_party_platform_topics.parquet\")",
   "id": "c390182db74824d",
   "outputs": [],
   "execution_count": 15
  },
  {
   "metadata": {
    "ExecuteTime": {
     "end_time": "2024-11-28T15:07:17.161805Z",
     "start_time": "2024-11-28T15:07:17.153499Z"
    }
   },
   "cell_type": "code",
   "source": "df",
   "id": "c9939bcc7a34aea4",
   "outputs": [
    {
     "data": {
      "text/plain": [
       "                                                    body leaning  body_length  \\\n",
       "6285   We must pay down the debt to keep interest rat...    left           53   \n",
       "15360  For a veteran, a job is more than a source of ...   right           53   \n",
       "5486   To an entrepreneur, it means a shot at a new b...    left           54   \n",
       "2037   We believe in equal pay for equal work and pay...    left           54   \n",
       "5306   As we enter the 1980s, we must enact grand jur...    left           55   \n",
       "...                                                  ...     ...          ...   \n",
       "3137   Honoring Indigenous Tribal Nations We have a p...    left         5404   \n",
       "2679   Preventing the Spread and Use of Weapons of Ma...    left         5798   \n",
       "779    The last ten years have seen a massive shift i...    left         6058   \n",
       "3499    We also support Indian Tribal jurisdiction ov...    left         6335   \n",
       "1796   In an age of about 50,000 nuclear weapons, how...    left         7806   \n",
       "\n",
       "       body_word_count  \n",
       "6285                11  \n",
       "15360               12  \n",
       "5486                11  \n",
       "2037                11  \n",
       "5306                11  \n",
       "...                ...  \n",
       "3137               796  \n",
       "2679               899  \n",
       "779                940  \n",
       "3499               904  \n",
       "1796              1213  \n",
       "\n",
       "[11558 rows x 4 columns]"
      ],
      "text/html": [
       "<div>\n",
       "<style scoped>\n",
       "    .dataframe tbody tr th:only-of-type {\n",
       "        vertical-align: middle;\n",
       "    }\n",
       "\n",
       "    .dataframe tbody tr th {\n",
       "        vertical-align: top;\n",
       "    }\n",
       "\n",
       "    .dataframe thead th {\n",
       "        text-align: right;\n",
       "    }\n",
       "</style>\n",
       "<table border=\"1\" class=\"dataframe\">\n",
       "  <thead>\n",
       "    <tr style=\"text-align: right;\">\n",
       "      <th></th>\n",
       "      <th>body</th>\n",
       "      <th>leaning</th>\n",
       "      <th>body_length</th>\n",
       "      <th>body_word_count</th>\n",
       "    </tr>\n",
       "  </thead>\n",
       "  <tbody>\n",
       "    <tr>\n",
       "      <th>6285</th>\n",
       "      <td>We must pay down the debt to keep interest rat...</td>\n",
       "      <td>left</td>\n",
       "      <td>53</td>\n",
       "      <td>11</td>\n",
       "    </tr>\n",
       "    <tr>\n",
       "      <th>15360</th>\n",
       "      <td>For a veteran, a job is more than a source of ...</td>\n",
       "      <td>right</td>\n",
       "      <td>53</td>\n",
       "      <td>12</td>\n",
       "    </tr>\n",
       "    <tr>\n",
       "      <th>5486</th>\n",
       "      <td>To an entrepreneur, it means a shot at a new b...</td>\n",
       "      <td>left</td>\n",
       "      <td>54</td>\n",
       "      <td>11</td>\n",
       "    </tr>\n",
       "    <tr>\n",
       "      <th>2037</th>\n",
       "      <td>We believe in equal pay for equal work and pay...</td>\n",
       "      <td>left</td>\n",
       "      <td>54</td>\n",
       "      <td>11</td>\n",
       "    </tr>\n",
       "    <tr>\n",
       "      <th>5306</th>\n",
       "      <td>As we enter the 1980s, we must enact grand jur...</td>\n",
       "      <td>left</td>\n",
       "      <td>55</td>\n",
       "      <td>11</td>\n",
       "    </tr>\n",
       "    <tr>\n",
       "      <th>...</th>\n",
       "      <td>...</td>\n",
       "      <td>...</td>\n",
       "      <td>...</td>\n",
       "      <td>...</td>\n",
       "    </tr>\n",
       "    <tr>\n",
       "      <th>3137</th>\n",
       "      <td>Honoring Indigenous Tribal Nations We have a p...</td>\n",
       "      <td>left</td>\n",
       "      <td>5404</td>\n",
       "      <td>796</td>\n",
       "    </tr>\n",
       "    <tr>\n",
       "      <th>2679</th>\n",
       "      <td>Preventing the Spread and Use of Weapons of Ma...</td>\n",
       "      <td>left</td>\n",
       "      <td>5798</td>\n",
       "      <td>899</td>\n",
       "    </tr>\n",
       "    <tr>\n",
       "      <th>779</th>\n",
       "      <td>The last ten years have seen a massive shift i...</td>\n",
       "      <td>left</td>\n",
       "      <td>6058</td>\n",
       "      <td>940</td>\n",
       "    </tr>\n",
       "    <tr>\n",
       "      <th>3499</th>\n",
       "      <td>We also support Indian Tribal jurisdiction ov...</td>\n",
       "      <td>left</td>\n",
       "      <td>6335</td>\n",
       "      <td>904</td>\n",
       "    </tr>\n",
       "    <tr>\n",
       "      <th>1796</th>\n",
       "      <td>In an age of about 50,000 nuclear weapons, how...</td>\n",
       "      <td>left</td>\n",
       "      <td>7806</td>\n",
       "      <td>1213</td>\n",
       "    </tr>\n",
       "  </tbody>\n",
       "</table>\n",
       "<p>11558 rows × 4 columns</p>\n",
       "</div>"
      ]
     },
     "execution_count": 16,
     "metadata": {},
     "output_type": "execute_result"
    }
   ],
   "execution_count": 16
  }
 ],
 "metadata": {
  "kernelspec": {
   "name": "python3",
   "language": "python",
   "display_name": "Python 3 (ipykernel)"
  }
 },
 "nbformat": 5,
 "nbformat_minor": 9
}
