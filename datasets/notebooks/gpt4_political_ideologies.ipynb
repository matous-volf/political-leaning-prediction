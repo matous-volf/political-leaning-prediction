{
 "cells": [
  {
   "cell_type": "code",
   "id": "0",
   "metadata": {},
   "source": [
    "import pandas as pd\n",
    "from datasets import load_dataset, concatenate_datasets\n",
    "from matplotlib import pyplot as plt"
   ],
   "outputs": [],
   "execution_count": null
  },
  {
   "cell_type": "markdown",
   "id": "1",
   "metadata": {},
   "source": [
    "Reading the raw dataset."
   ]
  },
  {
   "cell_type": "code",
   "id": "2",
   "metadata": {},
   "source": [
    "ds = load_dataset(\n",
    "    \"JyotiNayak/political_ideologies\",\n",
    "    revision=\"f748ec8a7cbbf916453ba489fdc9766b9e4f19c8\"\n",
    ")\n",
    "df = concatenate_datasets(ds.values()).to_pandas()\n",
    "df = df.set_index(\"__index_level_0__\").rename_axis(None)\n",
    "df"
   ],
   "outputs": [],
   "execution_count": null
  },
  {
   "cell_type": "markdown",
   "id": "3",
   "metadata": {},
   "source": [
    "Dropping useless columns."
   ]
  },
  {
   "cell_type": "code",
   "id": "4",
   "metadata": {},
   "source": "df = df.drop(columns=[\"issue_type\"])",
   "outputs": [],
   "execution_count": null
  },
  {
   "cell_type": "markdown",
   "id": "5",
   "metadata": {},
   "source": [
    "Renaming columns."
   ]
  },
  {
   "cell_type": "code",
   "id": "6",
   "metadata": {},
   "source": "df = df.rename(columns={\"statement\": \"body\", \"label\": \"leaning\"})",
   "outputs": [],
   "execution_count": null
  },
  {
   "cell_type": "markdown",
   "id": "7",
   "metadata": {},
   "source": [
    "Categorizing the leaning column."
   ]
  },
  {
   "cell_type": "code",
   "id": "8",
   "metadata": {},
   "source": [
    "df[\"leaning\"].unique()"
   ],
   "outputs": [],
   "execution_count": null
  },
  {
   "cell_type": "code",
   "id": "9",
   "metadata": {},
   "source": [
    "df[\"leaning\"] = df[\"leaning\"].replace({0: \"right\", 1: \"left\"})\n",
    "df[\"leaning\"] = df[\"leaning\"].astype(\"category\")"
   ],
   "outputs": [],
   "execution_count": null
  },
  {
   "cell_type": "markdown",
   "id": "10",
   "metadata": {},
   "source": [
    "Dropping rows with missing data."
   ]
  },
  {
   "cell_type": "code",
   "id": "11",
   "metadata": {},
   "source": [
    "df = df.dropna()"
   ],
   "outputs": [],
   "execution_count": null
  },
  {
   "cell_type": "markdown",
   "id": "12",
   "metadata": {},
   "source": [
    "Printing duplicates."
   ]
  },
  {
   "cell_type": "code",
   "id": "13",
   "metadata": {},
   "source": [
    "df[df[\"body\"].duplicated(keep=False)]"
   ],
   "outputs": [],
   "execution_count": null
  },
  {
   "cell_type": "markdown",
   "id": "18",
   "metadata": {},
   "source": [
    "Inspecting body length."
   ]
  },
  {
   "cell_type": "code",
   "id": "19",
   "metadata": {},
   "source": [
    "df[\"body_length\"] = df[\"body\"].str.len()\n",
    "df[\"body_word_count\"] = df[\"body\"].str.split().str.len()\n",
    "df = df.sort_values(by=\"body_length\")\n",
    "df.head()"
   ],
   "outputs": [],
   "execution_count": null
  },
  {
   "cell_type": "code",
   "id": "22",
   "metadata": {},
   "source": [
    "df[\"body_length\"].mean()"
   ],
   "outputs": [],
   "execution_count": null
  },
  {
   "cell_type": "markdown",
   "id": "23",
   "metadata": {},
   "source": [
    "The leaning distribution."
   ]
  },
  {
   "cell_type": "code",
   "id": "24",
   "metadata": {},
   "source": [
    "df.groupby(\"leaning\", observed=True).size().plot.pie(autopct=\"%1.1f%%\");"
   ],
   "outputs": [],
   "execution_count": null
  },
  {
   "cell_type": "markdown",
   "id": "25",
   "metadata": {},
   "source": [
    "The distribution of body length sums per leaning."
   ]
  },
  {
   "cell_type": "code",
   "id": "26",
   "metadata": {},
   "source": [
    "df.groupby(\"leaning\", observed=True)[\"body_length\"].sum().plot.pie(autopct=\"%1.1f%%\", ylabel=\"\");"
   ],
   "outputs": [],
   "execution_count": null
  },
  {
   "cell_type": "markdown",
   "id": "27",
   "metadata": {},
   "source": [
    "Body length distribution by leaning."
   ]
  },
  {
   "cell_type": "code",
   "id": "28",
   "metadata": {},
   "source": [
    "plt.figure(figsize=(10, 6))\n",
    "\n",
    "for leaning in df[\"leaning\"].unique():\n",
    "    df_leaning = df[df[\"leaning\"] == leaning]\n",
    "    downsampled = pd.concat(\n",
    "        # Ensuring to include the last (longest) item.\n",
    "        [df_leaning[\"body_length\"].iloc[::100], df_leaning[\"body_length\"].tail(1)]\n",
    "    ).drop_duplicates().reset_index(drop=True)\n",
    "    plt.plot(downsampled, label=leaning)\n",
    "\n",
    "plt.xlabel(\"downsampled index\")\n",
    "plt.ylabel(\"body length\")\n",
    "plt.title(\"body length by political leaning\")\n",
    "plt.legend(title=\"leaning\")\n",
    "plt.show()"
   ],
   "outputs": [],
   "execution_count": null
  },
  {
   "cell_type": "code",
   "id": "29",
   "metadata": {},
   "source": "df.to_parquet(\"../preprocessed/gpt4_political_ideologies.parquet\")",
   "outputs": [],
   "execution_count": null
  }
 ],
 "metadata": {
  "kernelspec": {
   "display_name": "Python 3",
   "language": "python",
   "name": "python3"
  },
  "language_info": {
   "codemirror_mode": {
    "name": "ipython",
    "version": 2
   },
   "file_extension": ".py",
   "mimetype": "text/x-python",
   "name": "python",
   "nbconvert_exporter": "python",
   "pygments_lexer": "ipython2",
   "version": "2.7.6"
  }
 },
 "nbformat": 4,
 "nbformat_minor": 5
}
