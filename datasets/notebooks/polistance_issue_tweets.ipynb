{
 "cells": [
  {
   "cell_type": "code",
   "id": "0",
   "metadata": {
    "ExecuteTime": {
     "end_time": "2024-11-28T15:14:28.946388Z",
     "start_time": "2024-11-28T15:14:27.670034Z"
    }
   },
   "source": [
    "import pandas as pd\n",
    "from datasets import load_dataset, concatenate_datasets\n",
    "from matplotlib import pyplot as plt"
   ],
   "outputs": [],
   "execution_count": 1
  },
  {
   "cell_type": "markdown",
   "id": "1",
   "metadata": {},
   "source": [
    "Reading the raw dataset."
   ]
  },
  {
   "cell_type": "code",
   "id": "2",
   "metadata": {
    "ExecuteTime": {
     "end_time": "2024-11-28T15:14:32.571530Z",
     "start_time": "2024-11-28T15:14:28.954589Z"
    }
   },
   "source": [
    "ds = load_dataset(\n",
    "    \"mlburnham/polistance_issue_tweets\",\n",
    "    revision=\"fa7d01a3ab1a2e563506f0b5d422b394d975a8d9\"\n",
    ")\n",
    "df = concatenate_datasets(ds.values()).to_pandas()\n",
    "df"
   ],
   "outputs": [
    {
     "data": {
      "text/plain": [
       "README.md:   0%|          | 0.00/857 [00:00<?, ?B/s]"
      ],
      "application/vnd.jupyter.widget-view+json": {
       "version_major": 2,
       "version_minor": 0,
       "model_id": "3cc1c38f6e4f42148245ae6d89bdb218"
      }
     },
     "metadata": {},
     "output_type": "display_data"
    },
    {
     "data": {
      "text/plain": [
       "train-00000-of-00001.parquet:   0%|          | 0.00/1.20M [00:00<?, ?B/s]"
      ],
      "application/vnd.jupyter.widget-view+json": {
       "version_major": 2,
       "version_minor": 0,
       "model_id": "74aee507dcd947429fe84c00d3b92762"
      }
     },
     "metadata": {},
     "output_type": "display_data"
    },
    {
     "data": {
      "text/plain": [
       "test-00000-of-00001.parquet:   0%|          | 0.00/163k [00:00<?, ?B/s]"
      ],
      "application/vnd.jupyter.widget-view+json": {
       "version_major": 2,
       "version_minor": 0,
       "model_id": "2da59b0f8a904069ac8544aafa99ec2c"
      }
     },
     "metadata": {},
     "output_type": "display_data"
    },
    {
     "data": {
      "text/plain": [
       "Generating train split:   0%|          | 0/10087 [00:00<?, ? examples/s]"
      ],
      "application/vnd.jupyter.widget-view+json": {
       "version_major": 2,
       "version_minor": 0,
       "model_id": "9ffef76cb0214828a2f8a821d0292bc9"
      }
     },
     "metadata": {},
     "output_type": "display_data"
    },
    {
     "data": {
      "text/plain": [
       "Generating test split:   0%|          | 0/1242 [00:00<?, ? examples/s]"
      ],
      "application/vnd.jupyter.widget-view+json": {
       "version_major": 2,
       "version_minor": 0,
       "model_id": "f45aaa3aa5504b6daefa01fb16d93e43"
      }
     },
     "metadata": {},
     "output_type": "display_data"
    },
    {
     "data": {
      "text/plain": [
       "            username                                            premise  \\\n",
       "0        SenBobCasey  My heart also breaks for the families who have...   \n",
       "1         SenTedCruz  The objective of the Democrats radical gun con...   \n",
       "2         SenTedCruz  The fact is, Democrats don't want Americans to...   \n",
       "3       SenFeinstein  President Biden has done what he can by execut...   \n",
       "4      SenBlumenthal  Emergency red flag lawscourt orders that enabl...   \n",
       "...              ...                                                ...   \n",
       "11324  RepLoriTrahan  In 2021, 4 MILLION children nationwide were li...   \n",
       "11325  RepDavidTrone  The expanded Child Tax Credit lifted 5.3 milli...   \n",
       "11326  RepJasonSmith  Washington Democrats have broken the Child Tax...   \n",
       "11327  RepJasonSmith  Democrats took the Child Tax Credit &amp; turn...   \n",
       "11328  RepJasonSmith  Making Democrats' 2021 Child Tax Credit perman...   \n",
       "\n",
       "            party                        topic  \\\n",
       "0        Democrat                  gun control   \n",
       "1      Republican                  gun control   \n",
       "2      Republican                  gun control   \n",
       "3        Democrat                  gun control   \n",
       "4        Democrat                  gun control   \n",
       "...           ...                          ...   \n",
       "11324    Democrat  the Child Tax Credit or CTC   \n",
       "11325    Democrat  the Child Tax Credit or CTC   \n",
       "11326  Republican  the Child Tax Credit or CTC   \n",
       "11327  Republican  the Child Tax Credit or CTC   \n",
       "11328  Republican  the Child Tax Credit or CTC   \n",
       "\n",
       "                                              hypothesis  label  \\\n",
       "0           The author of this text opposes gun control.      1   \n",
       "1           The author of this text opposes gun control.      2   \n",
       "2           The author of this text opposes gun control.      2   \n",
       "3          The author of this text supports gun control.      1   \n",
       "4           The author of this text opposes gun control.      1   \n",
       "...                                                  ...    ...   \n",
       "11324  The author of this text opposes the child tax ...      1   \n",
       "11325  The author of this text opposes the child tax ...      1   \n",
       "11326  The author of this text supports the child tax...      2   \n",
       "11327  The author of this text supports the child tax...      2   \n",
       "11328  The author of this text supports the child tax...      2   \n",
       "\n",
       "       validated_label  entailment  validation_source  \n",
       "0                    1           1              human  \n",
       "1                    2           0              human  \n",
       "2                    2           0              human  \n",
       "3                    1           0  gpt-4o-2024-05-13  \n",
       "4                    1           1              human  \n",
       "...                ...         ...                ...  \n",
       "11324                1           1  gpt-4o-2024-05-13  \n",
       "11325                1           1  gpt-4o-2024-05-13  \n",
       "11326                2           1  gpt-4o-2024-05-13  \n",
       "11327                2           1  gpt-4o-2024-05-13  \n",
       "11328                2           1  gpt-4o-2024-05-13  \n",
       "\n",
       "[11329 rows x 9 columns]"
      ],
      "text/html": [
       "<div>\n",
       "<style scoped>\n",
       "    .dataframe tbody tr th:only-of-type {\n",
       "        vertical-align: middle;\n",
       "    }\n",
       "\n",
       "    .dataframe tbody tr th {\n",
       "        vertical-align: top;\n",
       "    }\n",
       "\n",
       "    .dataframe thead th {\n",
       "        text-align: right;\n",
       "    }\n",
       "</style>\n",
       "<table border=\"1\" class=\"dataframe\">\n",
       "  <thead>\n",
       "    <tr style=\"text-align: right;\">\n",
       "      <th></th>\n",
       "      <th>username</th>\n",
       "      <th>premise</th>\n",
       "      <th>party</th>\n",
       "      <th>topic</th>\n",
       "      <th>hypothesis</th>\n",
       "      <th>label</th>\n",
       "      <th>validated_label</th>\n",
       "      <th>entailment</th>\n",
       "      <th>validation_source</th>\n",
       "    </tr>\n",
       "  </thead>\n",
       "  <tbody>\n",
       "    <tr>\n",
       "      <th>0</th>\n",
       "      <td>SenBobCasey</td>\n",
       "      <td>My heart also breaks for the families who have...</td>\n",
       "      <td>Democrat</td>\n",
       "      <td>gun control</td>\n",
       "      <td>The author of this text opposes gun control.</td>\n",
       "      <td>1</td>\n",
       "      <td>1</td>\n",
       "      <td>1</td>\n",
       "      <td>human</td>\n",
       "    </tr>\n",
       "    <tr>\n",
       "      <th>1</th>\n",
       "      <td>SenTedCruz</td>\n",
       "      <td>The objective of the Democrats radical gun con...</td>\n",
       "      <td>Republican</td>\n",
       "      <td>gun control</td>\n",
       "      <td>The author of this text opposes gun control.</td>\n",
       "      <td>2</td>\n",
       "      <td>2</td>\n",
       "      <td>0</td>\n",
       "      <td>human</td>\n",
       "    </tr>\n",
       "    <tr>\n",
       "      <th>2</th>\n",
       "      <td>SenTedCruz</td>\n",
       "      <td>The fact is, Democrats don't want Americans to...</td>\n",
       "      <td>Republican</td>\n",
       "      <td>gun control</td>\n",
       "      <td>The author of this text opposes gun control.</td>\n",
       "      <td>2</td>\n",
       "      <td>2</td>\n",
       "      <td>0</td>\n",
       "      <td>human</td>\n",
       "    </tr>\n",
       "    <tr>\n",
       "      <th>3</th>\n",
       "      <td>SenFeinstein</td>\n",
       "      <td>President Biden has done what he can by execut...</td>\n",
       "      <td>Democrat</td>\n",
       "      <td>gun control</td>\n",
       "      <td>The author of this text supports gun control.</td>\n",
       "      <td>1</td>\n",
       "      <td>1</td>\n",
       "      <td>0</td>\n",
       "      <td>gpt-4o-2024-05-13</td>\n",
       "    </tr>\n",
       "    <tr>\n",
       "      <th>4</th>\n",
       "      <td>SenBlumenthal</td>\n",
       "      <td>Emergency red flag lawscourt orders that enabl...</td>\n",
       "      <td>Democrat</td>\n",
       "      <td>gun control</td>\n",
       "      <td>The author of this text opposes gun control.</td>\n",
       "      <td>1</td>\n",
       "      <td>1</td>\n",
       "      <td>1</td>\n",
       "      <td>human</td>\n",
       "    </tr>\n",
       "    <tr>\n",
       "      <th>...</th>\n",
       "      <td>...</td>\n",
       "      <td>...</td>\n",
       "      <td>...</td>\n",
       "      <td>...</td>\n",
       "      <td>...</td>\n",
       "      <td>...</td>\n",
       "      <td>...</td>\n",
       "      <td>...</td>\n",
       "      <td>...</td>\n",
       "    </tr>\n",
       "    <tr>\n",
       "      <th>11324</th>\n",
       "      <td>RepLoriTrahan</td>\n",
       "      <td>In 2021, 4 MILLION children nationwide were li...</td>\n",
       "      <td>Democrat</td>\n",
       "      <td>the Child Tax Credit or CTC</td>\n",
       "      <td>The author of this text opposes the child tax ...</td>\n",
       "      <td>1</td>\n",
       "      <td>1</td>\n",
       "      <td>1</td>\n",
       "      <td>gpt-4o-2024-05-13</td>\n",
       "    </tr>\n",
       "    <tr>\n",
       "      <th>11325</th>\n",
       "      <td>RepDavidTrone</td>\n",
       "      <td>The expanded Child Tax Credit lifted 5.3 milli...</td>\n",
       "      <td>Democrat</td>\n",
       "      <td>the Child Tax Credit or CTC</td>\n",
       "      <td>The author of this text opposes the child tax ...</td>\n",
       "      <td>1</td>\n",
       "      <td>1</td>\n",
       "      <td>1</td>\n",
       "      <td>gpt-4o-2024-05-13</td>\n",
       "    </tr>\n",
       "    <tr>\n",
       "      <th>11326</th>\n",
       "      <td>RepJasonSmith</td>\n",
       "      <td>Washington Democrats have broken the Child Tax...</td>\n",
       "      <td>Republican</td>\n",
       "      <td>the Child Tax Credit or CTC</td>\n",
       "      <td>The author of this text supports the child tax...</td>\n",
       "      <td>2</td>\n",
       "      <td>2</td>\n",
       "      <td>1</td>\n",
       "      <td>gpt-4o-2024-05-13</td>\n",
       "    </tr>\n",
       "    <tr>\n",
       "      <th>11327</th>\n",
       "      <td>RepJasonSmith</td>\n",
       "      <td>Democrats took the Child Tax Credit &amp;amp; turn...</td>\n",
       "      <td>Republican</td>\n",
       "      <td>the Child Tax Credit or CTC</td>\n",
       "      <td>The author of this text supports the child tax...</td>\n",
       "      <td>2</td>\n",
       "      <td>2</td>\n",
       "      <td>1</td>\n",
       "      <td>gpt-4o-2024-05-13</td>\n",
       "    </tr>\n",
       "    <tr>\n",
       "      <th>11328</th>\n",
       "      <td>RepJasonSmith</td>\n",
       "      <td>Making Democrats' 2021 Child Tax Credit perman...</td>\n",
       "      <td>Republican</td>\n",
       "      <td>the Child Tax Credit or CTC</td>\n",
       "      <td>The author of this text supports the child tax...</td>\n",
       "      <td>2</td>\n",
       "      <td>2</td>\n",
       "      <td>1</td>\n",
       "      <td>gpt-4o-2024-05-13</td>\n",
       "    </tr>\n",
       "  </tbody>\n",
       "</table>\n",
       "<p>11329 rows × 9 columns</p>\n",
       "</div>"
      ]
     },
     "execution_count": 2,
     "metadata": {},
     "output_type": "execute_result"
    }
   ],
   "execution_count": 2
  },
  {
   "cell_type": "markdown",
   "id": "3",
   "metadata": {},
   "source": [
    "Dropping useless columns."
   ]
  },
  {
   "cell_type": "code",
   "id": "4",
   "metadata": {
    "ExecuteTime": {
     "end_time": "2024-11-28T15:14:32.739779Z",
     "start_time": "2024-11-28T15:14:32.736023Z"
    }
   },
   "source": "df = df.drop(columns=[\"username\", \"party\", \"topic\", \"hypothesis\", \"label\", \"entailment\", \"validation_source\"])",
   "outputs": [],
   "execution_count": 3
  },
  {
   "cell_type": "markdown",
   "id": "5",
   "metadata": {},
   "source": [
    "Renaming columns."
   ]
  },
  {
   "cell_type": "code",
   "id": "6",
   "metadata": {
    "ExecuteTime": {
     "end_time": "2024-11-28T15:14:32.761796Z",
     "start_time": "2024-11-28T15:14:32.757279Z"
    }
   },
   "source": "df = df.rename(columns={\"premise\": \"body\", \"validated_label\": \"leaning\"})",
   "outputs": [],
   "execution_count": 4
  },
  {
   "cell_type": "markdown",
   "id": "7",
   "metadata": {},
   "source": [
    "Categorizing the leaning column."
   ]
  },
  {
   "cell_type": "code",
   "id": "8",
   "metadata": {
    "ExecuteTime": {
     "end_time": "2024-11-28T15:14:32.820302Z",
     "start_time": "2024-11-28T15:14:32.815750Z"
    }
   },
   "source": [
    "df[\"leaning\"].unique()"
   ],
   "outputs": [
    {
     "data": {
      "text/plain": [
       "array([1, 2])"
      ]
     },
     "execution_count": 5,
     "metadata": {},
     "output_type": "execute_result"
    }
   ],
   "execution_count": 5
  },
  {
   "cell_type": "code",
   "id": "9",
   "metadata": {
    "ExecuteTime": {
     "end_time": "2024-11-28T15:14:32.877782Z",
     "start_time": "2024-11-28T15:14:32.870849Z"
    }
   },
   "source": [
    "df[\"leaning\"] = df[\"leaning\"].replace({1: \"left\", 2: \"right\"})\n",
    "df[\"leaning\"] = df[\"leaning\"].astype(\"category\")"
   ],
   "outputs": [],
   "execution_count": 6
  },
  {
   "cell_type": "markdown",
   "id": "10",
   "metadata": {},
   "source": [
    "Dropping rows with missing data."
   ]
  },
  {
   "cell_type": "code",
   "id": "11",
   "metadata": {
    "ExecuteTime": {
     "end_time": "2024-11-28T15:14:32.934907Z",
     "start_time": "2024-11-28T15:14:32.929920Z"
    }
   },
   "source": [
    "df = df.dropna()"
   ],
   "outputs": [],
   "execution_count": 7
  },
  {
   "cell_type": "markdown",
   "id": "12",
   "metadata": {},
   "source": [
    "Printing duplicates."
   ]
  },
  {
   "cell_type": "code",
   "id": "13",
   "metadata": {
    "ExecuteTime": {
     "end_time": "2024-11-28T15:14:32.992661Z",
     "start_time": "2024-11-28T15:14:32.981214Z"
    }
   },
   "source": [
    "df[df[\"body\"].duplicated(keep=False)]"
   ],
   "outputs": [
    {
     "data": {
      "text/plain": [
       "                                                    body leaning\n",
       "55     Raising the minimum wage. Protecting voting ri...    left\n",
       "60     This is no surprise. The filibuster rule enabl...    left\n",
       "137    Getting rid of the filibuster isnt just about ...    left\n",
       "254    End the filibuster and protect voting rights. ...    left\n",
       "257    PresidentBidens failed border policiesreach al...   right\n",
       "...                                                  ...     ...\n",
       "10867  While the very rich get richer, working class ...    left\n",
       "11031  Our work to expand the #ChildTaxCredit is alre...    left\n",
       "11075  Monday, November , is the last day for eligibl...    left\n",
       "11129  TODAY, NOVEMBER , is the *LAST* day for eligib...    left\n",
       "11301  And it grows stronger by the day!\\n\\nLet's fin...    left\n",
       "\n",
       "[234 rows x 2 columns]"
      ],
      "text/html": [
       "<div>\n",
       "<style scoped>\n",
       "    .dataframe tbody tr th:only-of-type {\n",
       "        vertical-align: middle;\n",
       "    }\n",
       "\n",
       "    .dataframe tbody tr th {\n",
       "        vertical-align: top;\n",
       "    }\n",
       "\n",
       "    .dataframe thead th {\n",
       "        text-align: right;\n",
       "    }\n",
       "</style>\n",
       "<table border=\"1\" class=\"dataframe\">\n",
       "  <thead>\n",
       "    <tr style=\"text-align: right;\">\n",
       "      <th></th>\n",
       "      <th>body</th>\n",
       "      <th>leaning</th>\n",
       "    </tr>\n",
       "  </thead>\n",
       "  <tbody>\n",
       "    <tr>\n",
       "      <th>55</th>\n",
       "      <td>Raising the minimum wage. Protecting voting ri...</td>\n",
       "      <td>left</td>\n",
       "    </tr>\n",
       "    <tr>\n",
       "      <th>60</th>\n",
       "      <td>This is no surprise. The filibuster rule enabl...</td>\n",
       "      <td>left</td>\n",
       "    </tr>\n",
       "    <tr>\n",
       "      <th>137</th>\n",
       "      <td>Getting rid of the filibuster isnt just about ...</td>\n",
       "      <td>left</td>\n",
       "    </tr>\n",
       "    <tr>\n",
       "      <th>254</th>\n",
       "      <td>End the filibuster and protect voting rights. ...</td>\n",
       "      <td>left</td>\n",
       "    </tr>\n",
       "    <tr>\n",
       "      <th>257</th>\n",
       "      <td>PresidentBidens failed border policiesreach al...</td>\n",
       "      <td>right</td>\n",
       "    </tr>\n",
       "    <tr>\n",
       "      <th>...</th>\n",
       "      <td>...</td>\n",
       "      <td>...</td>\n",
       "    </tr>\n",
       "    <tr>\n",
       "      <th>10867</th>\n",
       "      <td>While the very rich get richer, working class ...</td>\n",
       "      <td>left</td>\n",
       "    </tr>\n",
       "    <tr>\n",
       "      <th>11031</th>\n",
       "      <td>Our work to expand the #ChildTaxCredit is alre...</td>\n",
       "      <td>left</td>\n",
       "    </tr>\n",
       "    <tr>\n",
       "      <th>11075</th>\n",
       "      <td>Monday, November , is the last day for eligibl...</td>\n",
       "      <td>left</td>\n",
       "    </tr>\n",
       "    <tr>\n",
       "      <th>11129</th>\n",
       "      <td>TODAY, NOVEMBER , is the *LAST* day for eligib...</td>\n",
       "      <td>left</td>\n",
       "    </tr>\n",
       "    <tr>\n",
       "      <th>11301</th>\n",
       "      <td>And it grows stronger by the day!\\n\\nLet's fin...</td>\n",
       "      <td>left</td>\n",
       "    </tr>\n",
       "  </tbody>\n",
       "</table>\n",
       "<p>234 rows × 2 columns</p>\n",
       "</div>"
      ]
     },
     "execution_count": 8,
     "metadata": {},
     "output_type": "execute_result"
    }
   ],
   "execution_count": 8
  },
  {
   "cell_type": "markdown",
   "id": "14",
   "metadata": {},
   "source": [
    "Dropping the duplicates."
   ]
  },
  {
   "cell_type": "code",
   "id": "15",
   "metadata": {
    "ExecuteTime": {
     "end_time": "2024-11-28T15:14:33.146555Z",
     "start_time": "2024-11-28T15:14:33.140542Z"
    }
   },
   "source": [
    "df = df.drop_duplicates(subset=\"body\")"
   ],
   "outputs": [],
   "execution_count": 9
  },
  {
   "cell_type": "markdown",
   "id": "18",
   "metadata": {},
   "source": [
    "Inspecting body length."
   ]
  },
  {
   "cell_type": "code",
   "id": "19",
   "metadata": {
    "ExecuteTime": {
     "end_time": "2024-11-28T15:14:33.257769Z",
     "start_time": "2024-11-28T15:14:33.191982Z"
    }
   },
   "source": [
    "df[\"body_length\"] = df[\"body\"].str.len()\n",
    "df[\"body_word_count\"] = df[\"body\"].str.split().str.len()\n",
    "df = df.sort_values(by=\"body_length\")\n",
    "df.head()"
   ],
   "outputs": [
    {
     "data": {
      "text/plain": [
       "                         body leaning  body_length  body_word_count\n",
       "496                    #NAME?    left            6                1\n",
       "1629        BANS OFF OUR GUNS   right           17                4\n",
       "3407      Abortion is murder.   right           19                3\n",
       "2861    #AbortionIsHealthcare    left           21                1\n",
       "3166  Abortion is Healthcare.    left           23                3"
      ],
      "text/html": [
       "<div>\n",
       "<style scoped>\n",
       "    .dataframe tbody tr th:only-of-type {\n",
       "        vertical-align: middle;\n",
       "    }\n",
       "\n",
       "    .dataframe tbody tr th {\n",
       "        vertical-align: top;\n",
       "    }\n",
       "\n",
       "    .dataframe thead th {\n",
       "        text-align: right;\n",
       "    }\n",
       "</style>\n",
       "<table border=\"1\" class=\"dataframe\">\n",
       "  <thead>\n",
       "    <tr style=\"text-align: right;\">\n",
       "      <th></th>\n",
       "      <th>body</th>\n",
       "      <th>leaning</th>\n",
       "      <th>body_length</th>\n",
       "      <th>body_word_count</th>\n",
       "    </tr>\n",
       "  </thead>\n",
       "  <tbody>\n",
       "    <tr>\n",
       "      <th>496</th>\n",
       "      <td>#NAME?</td>\n",
       "      <td>left</td>\n",
       "      <td>6</td>\n",
       "      <td>1</td>\n",
       "    </tr>\n",
       "    <tr>\n",
       "      <th>1629</th>\n",
       "      <td>BANS OFF OUR GUNS</td>\n",
       "      <td>right</td>\n",
       "      <td>17</td>\n",
       "      <td>4</td>\n",
       "    </tr>\n",
       "    <tr>\n",
       "      <th>3407</th>\n",
       "      <td>Abortion is murder.</td>\n",
       "      <td>right</td>\n",
       "      <td>19</td>\n",
       "      <td>3</td>\n",
       "    </tr>\n",
       "    <tr>\n",
       "      <th>2861</th>\n",
       "      <td>#AbortionIsHealthcare</td>\n",
       "      <td>left</td>\n",
       "      <td>21</td>\n",
       "      <td>1</td>\n",
       "    </tr>\n",
       "    <tr>\n",
       "      <th>3166</th>\n",
       "      <td>Abortion is Healthcare.</td>\n",
       "      <td>left</td>\n",
       "      <td>23</td>\n",
       "      <td>3</td>\n",
       "    </tr>\n",
       "  </tbody>\n",
       "</table>\n",
       "</div>"
      ]
     },
     "execution_count": 10,
     "metadata": {},
     "output_type": "execute_result"
    }
   ],
   "execution_count": 10
  },
  {
   "cell_type": "markdown",
   "id": "20",
   "metadata": {},
   "source": "After inspection, articles with bodies shorter than 2 words seem to contain no political value. Removing them."
  },
  {
   "cell_type": "code",
   "id": "21",
   "metadata": {
    "ExecuteTime": {
     "end_time": "2024-11-28T15:14:33.741926Z",
     "start_time": "2024-11-28T15:14:33.320584Z"
    }
   },
   "source": [
    "body_word_count_lower_bound = 2\n",
    "df = df[df[\"body_word_count\"] >= body_word_count_lower_bound]\n",
    "# Ensuring to include the last (longest) item.\n",
    "downsampled = pd.concat([df[\"body_length\"].iloc[::100], df[\"body_length\"].tail(1)]).drop_duplicates()\n",
    "downsampled.plot.bar().xaxis.set_ticks([]);"
   ],
   "outputs": [
    {
     "data": {
      "text/plain": [
       "<Figure size 640x480 with 1 Axes>"
      ],
      "image/png": "[encoded data removed]"
     },
     "metadata": {},
     "output_type": "display_data"
    }
   ],
   "execution_count": 11
  },
  {
   "cell_type": "code",
   "id": "22",
   "metadata": {
    "ExecuteTime": {
     "end_time": "2024-11-28T15:14:33.787271Z",
     "start_time": "2024-11-28T15:14:33.782651Z"
    }
   },
   "source": [
    "df[\"body_length\"].mean()"
   ],
   "outputs": [
    {
     "data": {
      "text/plain": [
       "np.float64(197.05781584582442)"
      ]
     },
     "execution_count": 12,
     "metadata": {},
     "output_type": "execute_result"
    }
   ],
   "execution_count": 12
  },
  {
   "cell_type": "markdown",
   "id": "23",
   "metadata": {},
   "source": [
    "The leaning distribution."
   ]
  },
  {
   "cell_type": "code",
   "id": "24",
   "metadata": {
    "ExecuteTime": {
     "end_time": "2024-11-28T15:14:33.894567Z",
     "start_time": "2024-11-28T15:14:33.831068Z"
    }
   },
   "source": [
    "df.groupby(\"leaning\", observed=True).size().plot.pie(autopct=\"%1.1f%%\");"
   ],
   "outputs": [
    {
     "data": {
      "text/plain": [
       "<Figure size 640x480 with 1 Axes>"
      ],
      "image/png": "[encoded data removed]"
     },
     "metadata": {},
     "output_type": "display_data"
    }
   ],
   "execution_count": 13
  },
  {
   "cell_type": "markdown",
   "id": "25",
   "metadata": {},
   "source": [
    "The distribution of body length sums per leaning."
   ]
  },
  {
   "cell_type": "code",
   "id": "26",
   "metadata": {
    "ExecuteTime": {
     "end_time": "2024-11-28T15:14:34.000549Z",
     "start_time": "2024-11-28T15:14:33.929495Z"
    }
   },
   "source": [
    "df.groupby(\"leaning\", observed=True)[\"body_length\"].sum().plot.pie(autopct=\"%1.1f%%\", ylabel=\"\");"
   ],
   "outputs": [
    {
     "data": {
      "text/plain": [
       "<Figure size 640x480 with 1 Axes>"
      ],
      "image/png": "[encoded data removed]"
     },
     "metadata": {},
     "output_type": "display_data"
    }
   ],
   "execution_count": 14
  },
  {
   "cell_type": "markdown",
   "id": "27",
   "metadata": {},
   "source": [
    "Body length distribution by leaning."
   ]
  },
  {
   "cell_type": "code",
   "id": "28",
   "metadata": {
    "ExecuteTime": {
     "end_time": "2024-11-28T15:14:34.184414Z",
     "start_time": "2024-11-28T15:14:34.017870Z"
    }
   },
   "source": [
    "plt.figure(figsize=(10, 6))\n",
    "\n",
    "for leaning in df[\"leaning\"].unique():\n",
    "    df_leaning = df[df[\"leaning\"] == leaning]\n",
    "    downsampled = pd.concat(\n",
    "        # Ensuring to include the last (longest) item.\n",
    "        [df_leaning[\"body_length\"].iloc[::100], df_leaning[\"body_length\"].tail(1)]\n",
    "    ).drop_duplicates().reset_index(drop=True)\n",
    "    plt.plot(downsampled, label=leaning)\n",
    "\n",
    "plt.xlabel(\"downsampled index\")\n",
    "plt.ylabel(\"body length\")\n",
    "plt.title(\"body length by political leaning\")\n",
    "plt.legend(title=\"leaning\")\n",
    "plt.show()"
   ],
   "outputs": [
    {
     "data": {
      "text/plain": [
       "<Figure size 1000x600 with 1 Axes>"
      ],
      "image/png": "[encoded data removed]"
     },
     "metadata": {},
     "output_type": "display_data"
    }
   ],
   "execution_count": 15
  },
  {
   "cell_type": "code",
   "id": "29",
   "metadata": {
    "ExecuteTime": {
     "end_time": "2024-11-28T15:14:34.231668Z",
     "start_time": "2024-11-28T15:14:34.201958Z"
    }
   },
   "source": "df.to_parquet(\"../preprocessed/polistance_issue_tweets.parquet\")",
   "outputs": [],
   "execution_count": 16
  }
 ],
 "metadata": {
  "kernelspec": {
   "display_name": "Python 3",
   "language": "python",
   "name": "python3"
  },
  "language_info": {
   "codemirror_mode": {
    "name": "ipython",
    "version": 2
   },
   "file_extension": ".py",
   "mimetype": "text/x-python",
   "name": "python",
   "nbconvert_exporter": "python",
   "pygments_lexer": "ipython2",
   "version": "2.7.6"
  }
 },
 "nbformat": 4,
 "nbformat_minor": 5
}
