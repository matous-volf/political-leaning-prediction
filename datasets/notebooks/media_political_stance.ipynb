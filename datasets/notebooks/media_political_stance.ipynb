{
 "cells": [
  {
   "cell_type": "code",
   "id": "0",
   "metadata": {
    "ExecuteTime": {
     "end_time": "2024-11-23T17:05:47.708254Z",
     "start_time": "2024-11-23T17:05:46.848670Z"
    }
   },
   "source": [
    "import pandas as pd\n",
    "from matplotlib import pyplot as plt"
   ],
   "outputs": [],
   "execution_count": 1
  },
  {
   "cell_type": "markdown",
   "id": "1",
   "metadata": {},
   "source": [
    "Reading the raw dataset."
   ]
  },
  {
   "cell_type": "code",
   "id": "2",
   "metadata": {
    "ExecuteTime": {
     "end_time": "2024-11-23T17:06:15.598724Z",
     "start_time": "2024-11-23T17:05:47.722592Z"
    }
   },
   "source": [
    "df = pd.read_csv(\n",
    "    open(\"../raw/media_political_stance.tsv\"),\n",
    "    sep=\"\\t\",\n",
    "    header=None,\n",
    "    names=[\"topic10\", \"topic15\", \"stance\", \"oscarID\", \"url\", \"text\"],\n",
    "    encoding=\"utf-8\"\n",
    ")\n",
    "df"
   ],
   "outputs": [
    {
     "data": {
      "text/plain": [
       "       topic10 topic15 stance  \\\n",
       "0         10:6    15:5   left   \n",
       "1         10:0    15:9   left   \n",
       "2         10:3    15:7   left   \n",
       "3         10:7    15:7   left   \n",
       "4         10:5    15:2   left   \n",
       "...        ...     ...    ...   \n",
       "513797    10:2   15:11  right   \n",
       "513798    10:6    15:8  right   \n",
       "513799    10:5   15:13  right   \n",
       "513800    10:6    15:8  right   \n",
       "513801    10:6    15:8  right   \n",
       "\n",
       "                                                oscarID  \\\n",
       "0       <urn:uuid:00003ff6-6bdc-4e5f-95b6-b9cdf5a079f4>   \n",
       "1       <urn:uuid:00005e8e-6eac-46e3-80fa-f18379086266>   \n",
       "2       <urn:uuid:0000f5be-2015-4cb2-bb80-2d3544948e8a>   \n",
       "3       <urn:uuid:00012084-7e5e-4993-a723-4547c195f291>   \n",
       "4       <urn:uuid:00012e14-8c37-44f4-8179-2c8b24999acc>   \n",
       "...                                                 ...   \n",
       "513797  <urn:uuid:fffcd1ac-a04d-4a6c-b86f-53257e6c6906>   \n",
       "513798  <urn:uuid:fffd7925-53b1-4d0b-99c1-c51422646fa3>   \n",
       "513799  <urn:uuid:fffe046c-8448-4e32-aa29-f3db718669b4>   \n",
       "513800  <urn:uuid:fffe95b1-e48d-4fc3-8fcf-4052917cb996>   \n",
       "513801  <urn:uuid:ffff1668-5ef2-405f-bd06-5940a755c26a>   \n",
       "\n",
       "                                                      url  \\\n",
       "0       http://www.cnn.com/2008/CRIME/05/06/sect.leade...   \n",
       "1       https://www.washingtonpost.com/realestate/2016...   \n",
       "2       https://abcnews.go.com/blogs/politics/2011/12/...   \n",
       "3       https://www.cbsnews.com/news/poll-many-veteran...   \n",
       "4       https://www.usatoday.com/story/news/2017/07/27...   \n",
       "...                                                   ...   \n",
       "513797  https://www.breitbart.com/national-security/20...   \n",
       "513798                 https://www.wnd.com/2008/06/67678/   \n",
       "513799                 https://www.wnd.com/2008/05/65641/   \n",
       "513800  https://www.thegatewaypundit.com/2021/10/watch...   \n",
       "513801  https://www.theepochtimes.com/book-review-beco...   \n",
       "\n",
       "                                                     text  \n",
       "0       (CNN) -- The leader of an apocalyptic New Mexi...  \n",
       "1       The 308 condos at the planned 56-story Residen...  \n",
       "2       House Speaker John Boehner says he will move a...  \n",
       "3       More than half of 1,268 military veterans poll...  \n",
       "4       Since Election Day, President Trump’s business...  \n",
       "...                                                   ...  \n",
       "513797  President Donald Trump announced Sunday mornin...  \n",
       "513798  WASHINGTON – Polygamy and child brides may mak...  \n",
       "513799  A Catholic school has been given court permiss...  \n",
       "513800  WATCH: HOT MIC: Parents Call For Resignation A...  \n",
       "513801  Chelsea is a recent graduate of Saint Mary’s C...  \n",
       "\n",
       "[513802 rows x 6 columns]"
      ],
      "text/html": [
       "<div>\n",
       "<style scoped>\n",
       "    .dataframe tbody tr th:only-of-type {\n",
       "        vertical-align: middle;\n",
       "    }\n",
       "\n",
       "    .dataframe tbody tr th {\n",
       "        vertical-align: top;\n",
       "    }\n",
       "\n",
       "    .dataframe thead th {\n",
       "        text-align: right;\n",
       "    }\n",
       "</style>\n",
       "<table border=\"1\" class=\"dataframe\">\n",
       "  <thead>\n",
       "    <tr style=\"text-align: right;\">\n",
       "      <th></th>\n",
       "      <th>topic10</th>\n",
       "      <th>topic15</th>\n",
       "      <th>stance</th>\n",
       "      <th>oscarID</th>\n",
       "      <th>url</th>\n",
       "      <th>text</th>\n",
       "    </tr>\n",
       "  </thead>\n",
       "  <tbody>\n",
       "    <tr>\n",
       "      <th>0</th>\n",
       "      <td>10:6</td>\n",
       "      <td>15:5</td>\n",
       "      <td>left</td>\n",
       "      <td>&lt;urn:uuid:00003ff6-6bdc-4e5f-95b6-b9cdf5a079f4&gt;</td>\n",
       "      <td>http://www.cnn.com/2008/CRIME/05/06/sect.leade...</td>\n",
       "      <td>(CNN) -- The leader of an apocalyptic New Mexi...</td>\n",
       "    </tr>\n",
       "    <tr>\n",
       "      <th>1</th>\n",
       "      <td>10:0</td>\n",
       "      <td>15:9</td>\n",
       "      <td>left</td>\n",
       "      <td>&lt;urn:uuid:00005e8e-6eac-46e3-80fa-f18379086266&gt;</td>\n",
       "      <td>https://www.washingtonpost.com/realestate/2016...</td>\n",
       "      <td>The 308 condos at the planned 56-story Residen...</td>\n",
       "    </tr>\n",
       "    <tr>\n",
       "      <th>2</th>\n",
       "      <td>10:3</td>\n",
       "      <td>15:7</td>\n",
       "      <td>left</td>\n",
       "      <td>&lt;urn:uuid:0000f5be-2015-4cb2-bb80-2d3544948e8a&gt;</td>\n",
       "      <td>https://abcnews.go.com/blogs/politics/2011/12/...</td>\n",
       "      <td>House Speaker John Boehner says he will move a...</td>\n",
       "    </tr>\n",
       "    <tr>\n",
       "      <th>3</th>\n",
       "      <td>10:7</td>\n",
       "      <td>15:7</td>\n",
       "      <td>left</td>\n",
       "      <td>&lt;urn:uuid:00012084-7e5e-4993-a723-4547c195f291&gt;</td>\n",
       "      <td>https://www.cbsnews.com/news/poll-many-veteran...</td>\n",
       "      <td>More than half of 1,268 military veterans poll...</td>\n",
       "    </tr>\n",
       "    <tr>\n",
       "      <th>4</th>\n",
       "      <td>10:5</td>\n",
       "      <td>15:2</td>\n",
       "      <td>left</td>\n",
       "      <td>&lt;urn:uuid:00012e14-8c37-44f4-8179-2c8b24999acc&gt;</td>\n",
       "      <td>https://www.usatoday.com/story/news/2017/07/27...</td>\n",
       "      <td>Since Election Day, President Trump’s business...</td>\n",
       "    </tr>\n",
       "    <tr>\n",
       "      <th>...</th>\n",
       "      <td>...</td>\n",
       "      <td>...</td>\n",
       "      <td>...</td>\n",
       "      <td>...</td>\n",
       "      <td>...</td>\n",
       "      <td>...</td>\n",
       "    </tr>\n",
       "    <tr>\n",
       "      <th>513797</th>\n",
       "      <td>10:2</td>\n",
       "      <td>15:11</td>\n",
       "      <td>right</td>\n",
       "      <td>&lt;urn:uuid:fffcd1ac-a04d-4a6c-b86f-53257e6c6906&gt;</td>\n",
       "      <td>https://www.breitbart.com/national-security/20...</td>\n",
       "      <td>President Donald Trump announced Sunday mornin...</td>\n",
       "    </tr>\n",
       "    <tr>\n",
       "      <th>513798</th>\n",
       "      <td>10:6</td>\n",
       "      <td>15:8</td>\n",
       "      <td>right</td>\n",
       "      <td>&lt;urn:uuid:fffd7925-53b1-4d0b-99c1-c51422646fa3&gt;</td>\n",
       "      <td>https://www.wnd.com/2008/06/67678/</td>\n",
       "      <td>WASHINGTON – Polygamy and child brides may mak...</td>\n",
       "    </tr>\n",
       "    <tr>\n",
       "      <th>513799</th>\n",
       "      <td>10:5</td>\n",
       "      <td>15:13</td>\n",
       "      <td>right</td>\n",
       "      <td>&lt;urn:uuid:fffe046c-8448-4e32-aa29-f3db718669b4&gt;</td>\n",
       "      <td>https://www.wnd.com/2008/05/65641/</td>\n",
       "      <td>A Catholic school has been given court permiss...</td>\n",
       "    </tr>\n",
       "    <tr>\n",
       "      <th>513800</th>\n",
       "      <td>10:6</td>\n",
       "      <td>15:8</td>\n",
       "      <td>right</td>\n",
       "      <td>&lt;urn:uuid:fffe95b1-e48d-4fc3-8fcf-4052917cb996&gt;</td>\n",
       "      <td>https://www.thegatewaypundit.com/2021/10/watch...</td>\n",
       "      <td>WATCH: HOT MIC: Parents Call For Resignation A...</td>\n",
       "    </tr>\n",
       "    <tr>\n",
       "      <th>513801</th>\n",
       "      <td>10:6</td>\n",
       "      <td>15:8</td>\n",
       "      <td>right</td>\n",
       "      <td>&lt;urn:uuid:ffff1668-5ef2-405f-bd06-5940a755c26a&gt;</td>\n",
       "      <td>https://www.theepochtimes.com/book-review-beco...</td>\n",
       "      <td>Chelsea is a recent graduate of Saint Mary’s C...</td>\n",
       "    </tr>\n",
       "  </tbody>\n",
       "</table>\n",
       "<p>513802 rows × 6 columns</p>\n",
       "</div>"
      ]
     },
     "execution_count": 2,
     "metadata": {},
     "output_type": "execute_result"
    }
   ],
   "execution_count": 2
  },
  {
   "cell_type": "markdown",
   "id": "3",
   "metadata": {},
   "source": [
    "Dropping useless columns."
   ]
  },
  {
   "cell_type": "code",
   "id": "4",
   "metadata": {
    "ExecuteTime": {
     "end_time": "2024-11-23T17:06:15.755501Z",
     "start_time": "2024-11-23T17:06:15.730653Z"
    }
   },
   "source": "df = df.drop(columns=[\"topic10\", \"topic15\", \"oscarID\", \"url\"])",
   "outputs": [],
   "execution_count": 3
  },
  {
   "cell_type": "markdown",
   "id": "5",
   "metadata": {},
   "source": [
    "Renaming columns."
   ]
  },
  {
   "cell_type": "code",
   "id": "6",
   "metadata": {
    "ExecuteTime": {
     "end_time": "2024-11-23T17:06:15.817492Z",
     "start_time": "2024-11-23T17:06:15.787021Z"
    }
   },
   "source": "df = df.rename(columns={\"text\": \"body\", \"stance\": \"leaning\"})",
   "outputs": [],
   "execution_count": 4
  },
  {
   "metadata": {},
   "cell_type": "markdown",
   "source": "Dropping rows with missing data.",
   "id": "42d4acec5ff49263"
  },
  {
   "metadata": {
    "ExecuteTime": {
     "end_time": "2024-11-23T17:06:15.987080Z",
     "start_time": "2024-11-23T17:06:15.873935Z"
    }
   },
   "cell_type": "code",
   "source": "df = df.dropna()",
   "id": "60a44b5871d3dac3",
   "outputs": [],
   "execution_count": 5
  },
  {
   "cell_type": "markdown",
   "id": "7",
   "metadata": {},
   "source": [
    "Categorizing the leaning column."
   ]
  },
  {
   "cell_type": "code",
   "id": "8",
   "metadata": {
    "ExecuteTime": {
     "end_time": "2024-11-23T17:06:16.036897Z",
     "start_time": "2024-11-23T17:06:16.018485Z"
    }
   },
   "source": "df[\"leaning\"].unique()",
   "outputs": [
    {
     "data": {
      "text/plain": [
       "array(['left', 'right'], dtype=object)"
      ]
     },
     "execution_count": 6,
     "metadata": {},
     "output_type": "execute_result"
    }
   ],
   "execution_count": 6
  },
  {
   "cell_type": "code",
   "id": "9",
   "metadata": {
    "ExecuteTime": {
     "end_time": "2024-11-23T17:06:16.123422Z",
     "start_time": "2024-11-23T17:06:16.082259Z"
    }
   },
   "source": "df[\"leaning\"] = df[\"leaning\"].astype(\"category\")",
   "outputs": [],
   "execution_count": 7
  },
  {
   "cell_type": "markdown",
   "id": "12",
   "metadata": {},
   "source": [
    "Printing duplicates."
   ]
  },
  {
   "cell_type": "code",
   "id": "13",
   "metadata": {
    "ExecuteTime": {
     "end_time": "2024-11-23T17:06:17.229997Z",
     "start_time": "2024-11-23T17:06:16.138308Z"
    }
   },
   "source": "df[df[\"body\"].duplicated(keep=False)]",
   "outputs": [
    {
     "data": {
      "text/plain": [
       "       leaning                                               body\n",
       "9         left  The Intercept pursues the stories others don’t...\n",
       "24        left  All the latest on dysfunction in Donald Trump'...\n",
       "42        left  ........NY Post's Kyle Smith on VP Kamala Harr...\n",
       "62        left  Two top Senate leaders declared Tuesday that t...\n",
       "64        left  (CNN) Cutting taxes for the rich helps the poo...\n",
       "...        ...                                                ...\n",
       "513699   right   Supreme Court <NS> Published October 15 <NS> ...\n",
       "513705   right  The Washington Free Beacon's morning email lay...\n",
       "513707   right  GOP staffer Elizabeth Lauten got fired for pok...\n",
       "513709   right  One week ago, May 28, 2011, RT correspondent a...\n",
       "513757   right  A Texas abortionist has admitted that he has a...\n",
       "\n",
       "[47902 rows x 2 columns]"
      ],
      "text/html": [
       "<div>\n",
       "<style scoped>\n",
       "    .dataframe tbody tr th:only-of-type {\n",
       "        vertical-align: middle;\n",
       "    }\n",
       "\n",
       "    .dataframe tbody tr th {\n",
       "        vertical-align: top;\n",
       "    }\n",
       "\n",
       "    .dataframe thead th {\n",
       "        text-align: right;\n",
       "    }\n",
       "</style>\n",
       "<table border=\"1\" class=\"dataframe\">\n",
       "  <thead>\n",
       "    <tr style=\"text-align: right;\">\n",
       "      <th></th>\n",
       "      <th>leaning</th>\n",
       "      <th>body</th>\n",
       "    </tr>\n",
       "  </thead>\n",
       "  <tbody>\n",
       "    <tr>\n",
       "      <th>9</th>\n",
       "      <td>left</td>\n",
       "      <td>The Intercept pursues the stories others don’t...</td>\n",
       "    </tr>\n",
       "    <tr>\n",
       "      <th>24</th>\n",
       "      <td>left</td>\n",
       "      <td>All the latest on dysfunction in Donald Trump'...</td>\n",
       "    </tr>\n",
       "    <tr>\n",
       "      <th>42</th>\n",
       "      <td>left</td>\n",
       "      <td>........NY Post's Kyle Smith on VP Kamala Harr...</td>\n",
       "    </tr>\n",
       "    <tr>\n",
       "      <th>62</th>\n",
       "      <td>left</td>\n",
       "      <td>Two top Senate leaders declared Tuesday that t...</td>\n",
       "    </tr>\n",
       "    <tr>\n",
       "      <th>64</th>\n",
       "      <td>left</td>\n",
       "      <td>(CNN) Cutting taxes for the rich helps the poo...</td>\n",
       "    </tr>\n",
       "    <tr>\n",
       "      <th>...</th>\n",
       "      <td>...</td>\n",
       "      <td>...</td>\n",
       "    </tr>\n",
       "    <tr>\n",
       "      <th>513699</th>\n",
       "      <td>right</td>\n",
       "      <td>Supreme Court &lt;NS&gt; Published October 15 &lt;NS&gt; ...</td>\n",
       "    </tr>\n",
       "    <tr>\n",
       "      <th>513705</th>\n",
       "      <td>right</td>\n",
       "      <td>The Washington Free Beacon's morning email lay...</td>\n",
       "    </tr>\n",
       "    <tr>\n",
       "      <th>513707</th>\n",
       "      <td>right</td>\n",
       "      <td>GOP staffer Elizabeth Lauten got fired for pok...</td>\n",
       "    </tr>\n",
       "    <tr>\n",
       "      <th>513709</th>\n",
       "      <td>right</td>\n",
       "      <td>One week ago, May 28, 2011, RT correspondent a...</td>\n",
       "    </tr>\n",
       "    <tr>\n",
       "      <th>513757</th>\n",
       "      <td>right</td>\n",
       "      <td>A Texas abortionist has admitted that he has a...</td>\n",
       "    </tr>\n",
       "  </tbody>\n",
       "</table>\n",
       "<p>47902 rows × 2 columns</p>\n",
       "</div>"
      ]
     },
     "execution_count": 8,
     "metadata": {},
     "output_type": "execute_result"
    }
   ],
   "execution_count": 8
  },
  {
   "metadata": {},
   "cell_type": "markdown",
   "source": "Dropping the duplicates.",
   "id": "f33618f32f7dbe38"
  },
  {
   "metadata": {
    "ExecuteTime": {
     "end_time": "2024-11-23T17:06:17.410867Z",
     "start_time": "2024-11-23T17:06:17.276548Z"
    }
   },
   "cell_type": "code",
   "source": "df = df.drop_duplicates(subset=\"body\")",
   "id": "1e9d4908548e6223",
   "outputs": [],
   "execution_count": 9
  },
  {
   "metadata": {},
   "cell_type": "markdown",
   "source": "Removing the new paragraph token from the bodies.",
   "id": "76bb06802024e21f"
  },
  {
   "metadata": {
    "ExecuteTime": {
     "end_time": "2024-11-23T17:06:21.103872Z",
     "start_time": "2024-11-23T17:06:17.469691Z"
    }
   },
   "cell_type": "code",
   "source": "df[\"body\"] = df[\"body\"].str.replace(\" <NS>\", \"\")",
   "id": "1bcd3295f7637d35",
   "outputs": [],
   "execution_count": 10
  },
  {
   "cell_type": "markdown",
   "id": "18",
   "metadata": {},
   "source": [
    "Inspecting body length."
   ]
  },
  {
   "cell_type": "code",
   "id": "19",
   "metadata": {
    "ExecuteTime": {
     "end_time": "2024-11-23T17:12:39.084463Z",
     "start_time": "2024-11-23T17:06:21.135776Z"
    }
   },
   "source": [
    "df[\"body_length\"] = df[\"body\"].str.len()\n",
    "df[\"body_word_count\"] = df[\"body\"].str.split().str.len()\n",
    "df = df.sort_values(by=\"body_length\")\n",
    "df.head()"
   ],
   "outputs": [
    {
     "data": {
      "text/plain": [
       "       leaning                                               body  \\\n",
       "348489   right  WND Staff Recent Posts WND news editors compil...   \n",
       "158910    left  Covid vaccines: India is one of the world's to...   \n",
       "118001    left  New Delhi air pollution has hit record levels ...   \n",
       "7582      left  Robert De Niro has some choice words for his F...   \n",
       "49370     left  Huawei is building 5G in Russia and China. Thi...   \n",
       "\n",
       "        body_length  body_word_count  \n",
       "348489           72               12  \n",
       "158910           98               20  \n",
       "118001           98               20  \n",
       "7582             98               19  \n",
       "49370            98               20  "
      ],
      "text/html": [
       "<div>\n",
       "<style scoped>\n",
       "    .dataframe tbody tr th:only-of-type {\n",
       "        vertical-align: middle;\n",
       "    }\n",
       "\n",
       "    .dataframe tbody tr th {\n",
       "        vertical-align: top;\n",
       "    }\n",
       "\n",
       "    .dataframe thead th {\n",
       "        text-align: right;\n",
       "    }\n",
       "</style>\n",
       "<table border=\"1\" class=\"dataframe\">\n",
       "  <thead>\n",
       "    <tr style=\"text-align: right;\">\n",
       "      <th></th>\n",
       "      <th>leaning</th>\n",
       "      <th>body</th>\n",
       "      <th>body_length</th>\n",
       "      <th>body_word_count</th>\n",
       "    </tr>\n",
       "  </thead>\n",
       "  <tbody>\n",
       "    <tr>\n",
       "      <th>348489</th>\n",
       "      <td>right</td>\n",
       "      <td>WND Staff Recent Posts WND news editors compil...</td>\n",
       "      <td>72</td>\n",
       "      <td>12</td>\n",
       "    </tr>\n",
       "    <tr>\n",
       "      <th>158910</th>\n",
       "      <td>left</td>\n",
       "      <td>Covid vaccines: India is one of the world's to...</td>\n",
       "      <td>98</td>\n",
       "      <td>20</td>\n",
       "    </tr>\n",
       "    <tr>\n",
       "      <th>118001</th>\n",
       "      <td>left</td>\n",
       "      <td>New Delhi air pollution has hit record levels ...</td>\n",
       "      <td>98</td>\n",
       "      <td>20</td>\n",
       "    </tr>\n",
       "    <tr>\n",
       "      <th>7582</th>\n",
       "      <td>left</td>\n",
       "      <td>Robert De Niro has some choice words for his F...</td>\n",
       "      <td>98</td>\n",
       "      <td>19</td>\n",
       "    </tr>\n",
       "    <tr>\n",
       "      <th>49370</th>\n",
       "      <td>left</td>\n",
       "      <td>Huawei is building 5G in Russia and China. Thi...</td>\n",
       "      <td>98</td>\n",
       "      <td>20</td>\n",
       "    </tr>\n",
       "  </tbody>\n",
       "</table>\n",
       "</div>"
      ]
     },
     "execution_count": 11,
     "metadata": {},
     "output_type": "execute_result"
    }
   ],
   "execution_count": 11
  },
  {
   "cell_type": "code",
   "id": "22",
   "metadata": {
    "ExecuteTime": {
     "end_time": "2024-11-23T17:13:51.665224Z",
     "start_time": "2024-11-23T17:13:51.655230Z"
    }
   },
   "source": [
    "df[\"body_length\"].mean()"
   ],
   "outputs": [
    {
     "data": {
      "text/plain": [
       "np.float64(4212.2793842924175)"
      ]
     },
     "execution_count": 12,
     "metadata": {},
     "output_type": "execute_result"
    }
   ],
   "execution_count": 12
  },
  {
   "cell_type": "markdown",
   "id": "23",
   "metadata": {},
   "source": [
    "The leaning distribution."
   ]
  },
  {
   "cell_type": "code",
   "id": "24",
   "metadata": {
    "ExecuteTime": {
     "end_time": "2024-11-23T17:13:51.979563Z",
     "start_time": "2024-11-23T17:13:51.676709Z"
    }
   },
   "source": [
    "df.groupby(\"leaning\", observed=True).size().plot.pie(autopct=\"%1.1f%%\");"
   ],
   "outputs": [
    {
     "data": {
      "text/plain": [
       "<Figure size 640x480 with 1 Axes>"
      ],
      "image/png": "[encoded data removed]"
     },
     "metadata": {},
     "output_type": "display_data"
    }
   ],
   "execution_count": 13
  },
  {
   "cell_type": "markdown",
   "id": "25",
   "metadata": {},
   "source": [
    "The distribution of body length sums per leaning."
   ]
  },
  {
   "cell_type": "code",
   "id": "26",
   "metadata": {
    "ExecuteTime": {
     "end_time": "2024-11-23T17:13:52.147878Z",
     "start_time": "2024-11-23T17:13:51.994667Z"
    }
   },
   "source": [
    "df.groupby(\"leaning\", observed=True)[\"body_length\"].sum().plot.pie(autopct=\"%1.1f%%\", ylabel=\"\");"
   ],
   "outputs": [
    {
     "data": {
      "text/plain": [
       "<Figure size 640x480 with 1 Axes>"
      ],
      "image/png": "[encoded data removed]"
     },
     "metadata": {},
     "output_type": "display_data"
    }
   ],
   "execution_count": 14
  },
  {
   "cell_type": "markdown",
   "id": "27",
   "metadata": {},
   "source": [
    "Body length distribution by leaning."
   ]
  },
  {
   "cell_type": "code",
   "id": "28",
   "metadata": {
    "ExecuteTime": {
     "end_time": "2024-11-23T17:13:52.549029Z",
     "start_time": "2024-11-23T17:13:52.160307Z"
    }
   },
   "source": [
    "plt.figure(figsize=(10, 6))\n",
    "\n",
    "for leaning in df[\"leaning\"].unique():\n",
    "    df_leaning = df[df[\"leaning\"] == leaning]\n",
    "    downsampled = pd.concat(\n",
    "        # Ensuring to include the last (longest) item.\n",
    "        [df_leaning[\"body_length\"].iloc[::100], df_leaning[\"body_length\"].tail(1)]\n",
    "    ).drop_duplicates().reset_index(drop=True)\n",
    "    plt.plot(downsampled, label=leaning)\n",
    "\n",
    "plt.xlabel(\"downsampled index\")\n",
    "plt.ylabel(\"body length\")\n",
    "plt.title(\"body length by political leaning\")\n",
    "plt.legend(title=\"leaning\")\n",
    "plt.show()"
   ],
   "outputs": [
    {
     "data": {
      "text/plain": [
       "<Figure size 1000x600 with 1 Axes>"
      ],
      "image/png": "[encoded data removed]"
     },
     "metadata": {},
     "output_type": "display_data"
    }
   ],
   "execution_count": 15
  },
  {
   "metadata": {
    "ExecuteTime": {
     "end_time": "2024-11-23T17:14:27.463248Z",
     "start_time": "2024-11-23T17:13:52.561718Z"
    }
   },
   "cell_type": "code",
   "source": "df.to_parquet(\"../preprocessed/media_political_stance.parquet\")",
   "id": "29",
   "outputs": [],
   "execution_count": 16
  }
 ],
 "metadata": {
  "kernelspec": {
   "display_name": "Python 3",
   "language": "python",
   "name": "python3"
  },
  "language_info": {
   "codemirror_mode": {
    "name": "ipython",
    "version": 2
   },
   "file_extension": ".py",
   "mimetype": "text/x-python",
   "name": "python",
   "nbconvert_exporter": "python",
   "pygments_lexer": "ipython2",
   "version": "2.7.6"
  }
 },
 "nbformat": 4,
 "nbformat_minor": 5
}
