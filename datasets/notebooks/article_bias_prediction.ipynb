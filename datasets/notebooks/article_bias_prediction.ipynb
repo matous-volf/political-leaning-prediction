{
 "cells": [
  {
   "cell_type": "code",
   "id": "0",
   "metadata": {
    "ExecuteTime": {
     "end_time": "2024-10-27T10:41:09.332140Z",
     "start_time": "2024-10-27T10:41:09.327349Z"
    }
   },
   "source": [
    "import json\n",
    "import os\n",
    "\n",
    "import pandas as pd\n",
    "from matplotlib import pyplot as plt"
   ],
   "outputs": [],
   "execution_count": 58
  },
  {
   "cell_type": "markdown",
   "id": "1",
   "metadata": {},
   "source": [
    "Reading the raw dataset."
   ]
  },
  {
   "cell_type": "code",
   "id": "2",
   "metadata": {
    "ExecuteTime": {
     "end_time": "2024-10-27T10:41:16.367662Z",
     "start_time": "2024-10-27T10:41:09.453769Z"
    }
   },
   "source": [
    "DATASET_DIRECTORY = \"../raw/article_bias_prediction\"\n",
    "data = []\n",
    "for filename in os.listdir(DATASET_DIRECTORY):\n",
    "    filepath = os.path.join(DATASET_DIRECTORY, filename)\n",
    "    with open(filepath, \"r\") as file:\n",
    "        data.append(json.load(file))\n",
    "\n",
    "df = pd.DataFrame(data)\n",
    "df"
   ],
   "outputs": [
    {
     "data": {
      "text/plain": [
       "                            topic            source  bias  \\\n",
       "0                  foreign_policy    Foreign Policy     1   \n",
       "1                republican_party    CNN (Web News)     0   \n",
       "2                             fbi          The Hill     1   \n",
       "3                             epa  Washington Times     2   \n",
       "4                       elections    CNN (Web News)     0   \n",
       "...                           ...               ...   ...   \n",
       "37549              foreign_policy    CNN (Web News)     0   \n",
       "37550          religion_and_faith  Washington Times     2   \n",
       "37551  gun_control_and_gun_rights  Washington Times     2   \n",
       "37552                   elections          Politico     0   \n",
       "37553                 coronavirus            Reason     2   \n",
       "\n",
       "                                                     url  \\\n",
       "0      https://foreignpolicy.com/2020/07/08/russia-in...   \n",
       "1      http://politicalticker.blogs.cnn.com/2013/10/2...   \n",
       "2      https://thehill.com/homenews/senate/474170-hor...   \n",
       "3      http://www.washingtontimes.com/news/2013/jun/2...   \n",
       "4      http://politicalticker.blogs.cnn.com/2012/09/2...   \n",
       "...                                                  ...   \n",
       "37549  http://www.cnn.com/2017/04/07/politics/un-secu...   \n",
       "37550  http://www.washingtontimes.com/news/2013/may/1...   \n",
       "37551  http://www.washingtontimes.com/news/2013/apr/1...   \n",
       "37552  http://www.politico.com/story/2016/07/republic...   \n",
       "37553  https://reason.com/2020/05/24/the-cdcs-new-bes...   \n",
       "\n",
       "                                                   title        date  \\\n",
       "0         Why India and Russia Are Going to Stay Friends  2020-07-08   \n",
       "1      Cruz to CNN: ‘I don’t work for the party bosse...  2013-10-20   \n",
       "2      Horowitz offers troubling picture of FBI's Tru...  2019-12-11   \n",
       "3      Newly released emails show EPA director's exte...  2013-06-02   \n",
       "4      Some Romney backers still frustrated with stat...  2012-09-21   \n",
       "...                                                  ...         ...   \n",
       "37549     Haley to UN: US 'prepared to do more' in Syria  2017-04-07   \n",
       "37550  MANESS: Denying American soldiers the faith of...  2013-05-14   \n",
       "37551  Toomey: Open question whether background-check...  2013-04-14   \n",
       "37552              GOP operatives dread Trump convention  2016-07-12   \n",
       "37553  The CDC's New 'Best Estimate' Implies a COVID-...  2020-05-24   \n",
       "\n",
       "                                                 authors  \\\n",
       "0      Emily Tamkin, Robbie Gramer, Darcy Palder, Jus...   \n",
       "1                                                          \n",
       "2                                                          \n",
       "3                                          Stephen Dinan   \n",
       "4                                                          \n",
       "...                                                  ...   \n",
       "37549                    Richard Roth, Kristina Sgueglia   \n",
       "37550                                         Rob Maness   \n",
       "37551                                   David Sherfinski   \n",
       "37552  Alex Isenstadt, Kyle Cheney, Doug Palmer, Matt...   \n",
       "37553  Jacob Sullum, Scott Shackford, Eugene Volokh, ...   \n",
       "\n",
       "                                                 content  \\\n",
       "0      In December 1971 , India and Pakistan fought f...   \n",
       "1      ( CNN ) - Back in his home state after the reo...   \n",
       "2      Department of Justice Inspector General Michae...   \n",
       "3      Richard Windsor never existed at the EPA , but...   \n",
       "4      Washington ( CNN ) - Some financial backers of...   \n",
       "...                                                  ...   \n",
       "37549  ( CNN ) US Ambassador to the United Nations Ni...   \n",
       "37550  As a former military commander both at home an...   \n",
       "37551  Lawmakers on both sides of a proposal to expan...   \n",
       "37552  Each presidential election year , Republicans ...   \n",
       "37553  According to the Centers for Disease Control a...   \n",
       "\n",
       "                                        content_original  \\\n",
       "0      In December 1971, India and Pakistan fought fo...   \n",
       "1      6 years ago\\n\\n(CNN) - Back in his home state ...   \n",
       "2      Department of Justice Inspector General Michae...   \n",
       "3      Richard Windsor never existed at the EPA, but ...   \n",
       "4      7 years ago\\n\\nWashington (CNN) - Some financi...   \n",
       "...                                                  ...   \n",
       "37549  (CNN) US Ambassador to the United Nations Nikk...   \n",
       "37550  ANALYSIS/OPINION:\\n\\nAs a former military comm...   \n",
       "37551  Lawmakers on both sides of a proposal to expan...   \n",
       "37552  Each presidential election year, Republicans e...   \n",
       "37553  According to the Centers for Disease Control a...   \n",
       "\n",
       "                              source_url bias_text                ID  \n",
       "0                  www.foreignpolicy.com    center  DiZK3jCOBd9zyThS  \n",
       "1      www.politicalticker.blogs.cnn.com      left  6VcntpPK8ZAZABEl  \n",
       "2                        www.thehill.com    center  m4fCkEGKsTYXzVtc  \n",
       "3                www.washingtontimes.com     right  ocb9Pwn70st4hH2h  \n",
       "4      www.politicalticker.blogs.cnn.com      left  9bcxLaeRtkaztETJ  \n",
       "...                                  ...       ...               ...  \n",
       "37549                        www.cnn.com      left  44MQqr7YozfYMHbc  \n",
       "37550            www.washingtontimes.com     right  7kQk57ZOcRcD4L2L  \n",
       "37551            www.washingtontimes.com     right  NTYlHyPZvcdlI7Ha  \n",
       "37552                   www.politico.com      left  zofbhJuOEkQDyfTX  \n",
       "37553                     www.reason.com     right  UM45EozIq7xjyUUG  \n",
       "\n",
       "[37554 rows x 12 columns]"
      ],
      "text/html": [
       "<div>\n",
       "<style scoped>\n",
       "    .dataframe tbody tr th:only-of-type {\n",
       "        vertical-align: middle;\n",
       "    }\n",
       "\n",
       "    .dataframe tbody tr th {\n",
       "        vertical-align: top;\n",
       "    }\n",
       "\n",
       "    .dataframe thead th {\n",
       "        text-align: right;\n",
       "    }\n",
       "</style>\n",
       "<table border=\"1\" class=\"dataframe\">\n",
       "  <thead>\n",
       "    <tr style=\"text-align: right;\">\n",
       "      <th></th>\n",
       "      <th>topic</th>\n",
       "      <th>source</th>\n",
       "      <th>bias</th>\n",
       "      <th>url</th>\n",
       "      <th>title</th>\n",
       "      <th>date</th>\n",
       "      <th>authors</th>\n",
       "      <th>content</th>\n",
       "      <th>content_original</th>\n",
       "      <th>source_url</th>\n",
       "      <th>bias_text</th>\n",
       "      <th>ID</th>\n",
       "    </tr>\n",
       "  </thead>\n",
       "  <tbody>\n",
       "    <tr>\n",
       "      <th>0</th>\n",
       "      <td>foreign_policy</td>\n",
       "      <td>Foreign Policy</td>\n",
       "      <td>1</td>\n",
       "      <td>https://foreignpolicy.com/2020/07/08/russia-in...</td>\n",
       "      <td>Why India and Russia Are Going to Stay Friends</td>\n",
       "      <td>2020-07-08</td>\n",
       "      <td>Emily Tamkin, Robbie Gramer, Darcy Palder, Jus...</td>\n",
       "      <td>In December 1971 , India and Pakistan fought f...</td>\n",
       "      <td>In December 1971, India and Pakistan fought fo...</td>\n",
       "      <td>www.foreignpolicy.com</td>\n",
       "      <td>center</td>\n",
       "      <td>DiZK3jCOBd9zyThS</td>\n",
       "    </tr>\n",
       "    <tr>\n",
       "      <th>1</th>\n",
       "      <td>republican_party</td>\n",
       "      <td>CNN (Web News)</td>\n",
       "      <td>0</td>\n",
       "      <td>http://politicalticker.blogs.cnn.com/2013/10/2...</td>\n",
       "      <td>Cruz to CNN: ‘I don’t work for the party bosse...</td>\n",
       "      <td>2013-10-20</td>\n",
       "      <td></td>\n",
       "      <td>( CNN ) - Back in his home state after the reo...</td>\n",
       "      <td>6 years ago\\n\\n(CNN) - Back in his home state ...</td>\n",
       "      <td>www.politicalticker.blogs.cnn.com</td>\n",
       "      <td>left</td>\n",
       "      <td>6VcntpPK8ZAZABEl</td>\n",
       "    </tr>\n",
       "    <tr>\n",
       "      <th>2</th>\n",
       "      <td>fbi</td>\n",
       "      <td>The Hill</td>\n",
       "      <td>1</td>\n",
       "      <td>https://thehill.com/homenews/senate/474170-hor...</td>\n",
       "      <td>Horowitz offers troubling picture of FBI's Tru...</td>\n",
       "      <td>2019-12-11</td>\n",
       "      <td></td>\n",
       "      <td>Department of Justice Inspector General Michae...</td>\n",
       "      <td>Department of Justice Inspector General Michae...</td>\n",
       "      <td>www.thehill.com</td>\n",
       "      <td>center</td>\n",
       "      <td>m4fCkEGKsTYXzVtc</td>\n",
       "    </tr>\n",
       "    <tr>\n",
       "      <th>3</th>\n",
       "      <td>epa</td>\n",
       "      <td>Washington Times</td>\n",
       "      <td>2</td>\n",
       "      <td>http://www.washingtontimes.com/news/2013/jun/2...</td>\n",
       "      <td>Newly released emails show EPA director's exte...</td>\n",
       "      <td>2013-06-02</td>\n",
       "      <td>Stephen Dinan</td>\n",
       "      <td>Richard Windsor never existed at the EPA , but...</td>\n",
       "      <td>Richard Windsor never existed at the EPA, but ...</td>\n",
       "      <td>www.washingtontimes.com</td>\n",
       "      <td>right</td>\n",
       "      <td>ocb9Pwn70st4hH2h</td>\n",
       "    </tr>\n",
       "    <tr>\n",
       "      <th>4</th>\n",
       "      <td>elections</td>\n",
       "      <td>CNN (Web News)</td>\n",
       "      <td>0</td>\n",
       "      <td>http://politicalticker.blogs.cnn.com/2012/09/2...</td>\n",
       "      <td>Some Romney backers still frustrated with stat...</td>\n",
       "      <td>2012-09-21</td>\n",
       "      <td></td>\n",
       "      <td>Washington ( CNN ) - Some financial backers of...</td>\n",
       "      <td>7 years ago\\n\\nWashington (CNN) - Some financi...</td>\n",
       "      <td>www.politicalticker.blogs.cnn.com</td>\n",
       "      <td>left</td>\n",
       "      <td>9bcxLaeRtkaztETJ</td>\n",
       "    </tr>\n",
       "    <tr>\n",
       "      <th>...</th>\n",
       "      <td>...</td>\n",
       "      <td>...</td>\n",
       "      <td>...</td>\n",
       "      <td>...</td>\n",
       "      <td>...</td>\n",
       "      <td>...</td>\n",
       "      <td>...</td>\n",
       "      <td>...</td>\n",
       "      <td>...</td>\n",
       "      <td>...</td>\n",
       "      <td>...</td>\n",
       "      <td>...</td>\n",
       "    </tr>\n",
       "    <tr>\n",
       "      <th>37549</th>\n",
       "      <td>foreign_policy</td>\n",
       "      <td>CNN (Web News)</td>\n",
       "      <td>0</td>\n",
       "      <td>http://www.cnn.com/2017/04/07/politics/un-secu...</td>\n",
       "      <td>Haley to UN: US 'prepared to do more' in Syria</td>\n",
       "      <td>2017-04-07</td>\n",
       "      <td>Richard Roth, Kristina Sgueglia</td>\n",
       "      <td>( CNN ) US Ambassador to the United Nations Ni...</td>\n",
       "      <td>(CNN) US Ambassador to the United Nations Nikk...</td>\n",
       "      <td>www.cnn.com</td>\n",
       "      <td>left</td>\n",
       "      <td>44MQqr7YozfYMHbc</td>\n",
       "    </tr>\n",
       "    <tr>\n",
       "      <th>37550</th>\n",
       "      <td>religion_and_faith</td>\n",
       "      <td>Washington Times</td>\n",
       "      <td>2</td>\n",
       "      <td>http://www.washingtontimes.com/news/2013/may/1...</td>\n",
       "      <td>MANESS: Denying American soldiers the faith of...</td>\n",
       "      <td>2013-05-14</td>\n",
       "      <td>Rob Maness</td>\n",
       "      <td>As a former military commander both at home an...</td>\n",
       "      <td>ANALYSIS/OPINION:\\n\\nAs a former military comm...</td>\n",
       "      <td>www.washingtontimes.com</td>\n",
       "      <td>right</td>\n",
       "      <td>7kQk57ZOcRcD4L2L</td>\n",
       "    </tr>\n",
       "    <tr>\n",
       "      <th>37551</th>\n",
       "      <td>gun_control_and_gun_rights</td>\n",
       "      <td>Washington Times</td>\n",
       "      <td>2</td>\n",
       "      <td>http://www.washingtontimes.com/news/2013/apr/1...</td>\n",
       "      <td>Toomey: Open question whether background-check...</td>\n",
       "      <td>2013-04-14</td>\n",
       "      <td>David Sherfinski</td>\n",
       "      <td>Lawmakers on both sides of a proposal to expan...</td>\n",
       "      <td>Lawmakers on both sides of a proposal to expan...</td>\n",
       "      <td>www.washingtontimes.com</td>\n",
       "      <td>right</td>\n",
       "      <td>NTYlHyPZvcdlI7Ha</td>\n",
       "    </tr>\n",
       "    <tr>\n",
       "      <th>37552</th>\n",
       "      <td>elections</td>\n",
       "      <td>Politico</td>\n",
       "      <td>0</td>\n",
       "      <td>http://www.politico.com/story/2016/07/republic...</td>\n",
       "      <td>GOP operatives dread Trump convention</td>\n",
       "      <td>2016-07-12</td>\n",
       "      <td>Alex Isenstadt, Kyle Cheney, Doug Palmer, Matt...</td>\n",
       "      <td>Each presidential election year , Republicans ...</td>\n",
       "      <td>Each presidential election year, Republicans e...</td>\n",
       "      <td>www.politico.com</td>\n",
       "      <td>left</td>\n",
       "      <td>zofbhJuOEkQDyfTX</td>\n",
       "    </tr>\n",
       "    <tr>\n",
       "      <th>37553</th>\n",
       "      <td>coronavirus</td>\n",
       "      <td>Reason</td>\n",
       "      <td>2</td>\n",
       "      <td>https://reason.com/2020/05/24/the-cdcs-new-bes...</td>\n",
       "      <td>The CDC's New 'Best Estimate' Implies a COVID-...</td>\n",
       "      <td>2020-05-24</td>\n",
       "      <td>Jacob Sullum, Scott Shackford, Eugene Volokh, ...</td>\n",
       "      <td>According to the Centers for Disease Control a...</td>\n",
       "      <td>According to the Centers for Disease Control a...</td>\n",
       "      <td>www.reason.com</td>\n",
       "      <td>right</td>\n",
       "      <td>UM45EozIq7xjyUUG</td>\n",
       "    </tr>\n",
       "  </tbody>\n",
       "</table>\n",
       "<p>37554 rows × 12 columns</p>\n",
       "</div>"
      ]
     },
     "execution_count": 59,
     "metadata": {},
     "output_type": "execute_result"
    }
   ],
   "execution_count": 59
  },
  {
   "cell_type": "markdown",
   "id": "3",
   "metadata": {},
   "source": [
    "Dropping useless columns. The content column is\n",
    "> the processed and tokenized content, which is used as input to the different models\n",
    "\n",
    "and so the original content can be dropped."
   ]
  },
  {
   "cell_type": "code",
   "id": "4",
   "metadata": {
    "ExecuteTime": {
     "end_time": "2024-10-27T10:41:16.407806Z",
     "start_time": "2024-10-27T10:41:16.402126Z"
    }
   },
   "source": [
    "df = df.drop(columns=[\"topic\", \"bias\", \"source\", \"url\", \"date\", \"authors\", \"content_original\", \"source_url\", \"ID\"])"
   ],
   "outputs": [],
   "execution_count": 60
  },
  {
   "cell_type": "markdown",
   "id": "5",
   "metadata": {},
   "source": [
    "Renaming and reordering columns."
   ]
  },
  {
   "cell_type": "code",
   "id": "6",
   "metadata": {
    "ExecuteTime": {
     "end_time": "2024-10-27T10:41:16.446175Z",
     "start_time": "2024-10-27T10:41:16.430763Z"
    }
   },
   "source": [
    "df = df.rename(columns={\"content\": \"body\", \"bias_text\": \"leaning\"})\n",
    "df = df[[\"title\", \"body\", \"leaning\"]].copy()"
   ],
   "outputs": [],
   "execution_count": 61
  },
  {
   "cell_type": "markdown",
   "id": "7",
   "metadata": {},
   "source": [
    "Categorizing the leaning column."
   ]
  },
  {
   "cell_type": "code",
   "id": "8",
   "metadata": {
    "ExecuteTime": {
     "end_time": "2024-10-27T10:41:16.504726Z",
     "start_time": "2024-10-27T10:41:16.494772Z"
    }
   },
   "source": [
    "df[\"leaning\"] = df[\"leaning\"].astype(\"category\")"
   ],
   "outputs": [],
   "execution_count": 62
  },
  {
   "metadata": {},
   "cell_type": "markdown",
   "source": "Dropping rows with missing data.",
   "id": "51cc894edb94c2c9"
  },
  {
   "metadata": {
    "ExecuteTime": {
     "end_time": "2024-10-27T12:32:12.296758Z",
     "start_time": "2024-10-27T12:32:12.288481Z"
    }
   },
   "cell_type": "code",
   "outputs": [],
   "execution_count": 80,
   "source": "df = df.dropna(subset=[\"body\", \"leaning\"])",
   "id": "da96a8bec56937fd"
  },
  {
   "cell_type": "markdown",
   "id": "9",
   "metadata": {},
   "source": [
    "Printing duplicates."
   ]
  },
  {
   "cell_type": "code",
   "id": "10",
   "metadata": {
    "ExecuteTime": {
     "end_time": "2024-10-27T10:41:16.665792Z",
     "start_time": "2024-10-27T10:41:16.565555Z"
    }
   },
   "source": [
    "df[df[\"body\"].duplicated(keep=False)]"
   ],
   "outputs": [
    {
     "data": {
      "text/plain": [
       "Empty DataFrame\n",
       "Columns: [title, body, leaning]\n",
       "Index: []"
      ],
      "text/html": [
       "<div>\n",
       "<style scoped>\n",
       "    .dataframe tbody tr th:only-of-type {\n",
       "        vertical-align: middle;\n",
       "    }\n",
       "\n",
       "    .dataframe tbody tr th {\n",
       "        vertical-align: top;\n",
       "    }\n",
       "\n",
       "    .dataframe thead th {\n",
       "        text-align: right;\n",
       "    }\n",
       "</style>\n",
       "<table border=\"1\" class=\"dataframe\">\n",
       "  <thead>\n",
       "    <tr style=\"text-align: right;\">\n",
       "      <th></th>\n",
       "      <th>title</th>\n",
       "      <th>body</th>\n",
       "      <th>leaning</th>\n",
       "    </tr>\n",
       "  </thead>\n",
       "  <tbody>\n",
       "  </tbody>\n",
       "</table>\n",
       "</div>"
      ]
     },
     "execution_count": 63,
     "metadata": {},
     "output_type": "execute_result"
    }
   ],
   "execution_count": 63
  },
  {
   "cell_type": "markdown",
   "id": "11",
   "metadata": {},
   "source": [
    "Dropping the duplicates."
   ]
  },
  {
   "cell_type": "code",
   "id": "12",
   "metadata": {
    "ExecuteTime": {
     "end_time": "2024-10-27T10:41:16.737558Z",
     "start_time": "2024-10-27T10:41:16.727507Z"
    }
   },
   "source": [
    "df = df.drop_duplicates(subset=\"body\")"
   ],
   "outputs": [],
   "execution_count": 64
  },
  {
   "cell_type": "markdown",
   "id": "13",
   "metadata": {},
   "source": [
    "Inspecting body length."
   ]
  },
  {
   "cell_type": "code",
   "id": "14",
   "metadata": {
    "ExecuteTime": {
     "end_time": "2024-10-27T10:41:19.934596Z",
     "start_time": "2024-10-27T10:41:16.783384Z"
    }
   },
   "source": [
    "df[\"body_length\"] = df[\"body\"].str.len()\n",
    "df[\"body_word_count\"] = df[\"body\"].str.split().str.len()\n",
    "df = df.sort_values(by=\"body_length\")\n",
    "df.head()"
   ],
   "outputs": [
    {
     "data": {
      "text/plain": [
       "                                                   title  \\\n",
       "6903   Reports: US Airstrike Kills 3 Top ISIS Militants    \n",
       "27100  Obama Irate as Senate Votes Down Background Ch...   \n",
       "30085  Obama's IRS Moves to Close Down Political Spee...   \n",
       "19244  Obama Defends Immigration Delay: The Politics ...   \n",
       "32716  Presidential Double Take: The Difference Four ...   \n",
       "\n",
       "                                                    body leaning  body_length  \\\n",
       "6903   Do You Approve of Obama 's Handling of Foreign...   right          131   \n",
       "27100  Do You Support Background Checks on Gun Buyers...   right          137   \n",
       "30085  Do You Approve Or Disapprove of President Obam...   right          185   \n",
       "19244  President Barack Obama on Saturday blamed the ...   right          204   \n",
       "32716  Presidential Double Take : The Difference Four...  center          309   \n",
       "\n",
       "       body_word_count  \n",
       "6903                26  \n",
       "27100               26  \n",
       "30085               34  \n",
       "19244               36  \n",
       "32716               63  "
      ],
      "text/html": [
       "<div>\n",
       "<style scoped>\n",
       "    .dataframe tbody tr th:only-of-type {\n",
       "        vertical-align: middle;\n",
       "    }\n",
       "\n",
       "    .dataframe tbody tr th {\n",
       "        vertical-align: top;\n",
       "    }\n",
       "\n",
       "    .dataframe thead th {\n",
       "        text-align: right;\n",
       "    }\n",
       "</style>\n",
       "<table border=\"1\" class=\"dataframe\">\n",
       "  <thead>\n",
       "    <tr style=\"text-align: right;\">\n",
       "      <th></th>\n",
       "      <th>title</th>\n",
       "      <th>body</th>\n",
       "      <th>leaning</th>\n",
       "      <th>body_length</th>\n",
       "      <th>body_word_count</th>\n",
       "    </tr>\n",
       "  </thead>\n",
       "  <tbody>\n",
       "    <tr>\n",
       "      <th>6903</th>\n",
       "      <td>Reports: US Airstrike Kills 3 Top ISIS Militants</td>\n",
       "      <td>Do You Approve of Obama 's Handling of Foreign...</td>\n",
       "      <td>right</td>\n",
       "      <td>131</td>\n",
       "      <td>26</td>\n",
       "    </tr>\n",
       "    <tr>\n",
       "      <th>27100</th>\n",
       "      <td>Obama Irate as Senate Votes Down Background Ch...</td>\n",
       "      <td>Do You Support Background Checks on Gun Buyers...</td>\n",
       "      <td>right</td>\n",
       "      <td>137</td>\n",
       "      <td>26</td>\n",
       "    </tr>\n",
       "    <tr>\n",
       "      <th>30085</th>\n",
       "      <td>Obama's IRS Moves to Close Down Political Spee...</td>\n",
       "      <td>Do You Approve Or Disapprove of President Obam...</td>\n",
       "      <td>right</td>\n",
       "      <td>185</td>\n",
       "      <td>34</td>\n",
       "    </tr>\n",
       "    <tr>\n",
       "      <th>19244</th>\n",
       "      <td>Obama Defends Immigration Delay: The Politics ...</td>\n",
       "      <td>President Barack Obama on Saturday blamed the ...</td>\n",
       "      <td>right</td>\n",
       "      <td>204</td>\n",
       "      <td>36</td>\n",
       "    </tr>\n",
       "    <tr>\n",
       "      <th>32716</th>\n",
       "      <td>Presidential Double Take: The Difference Four ...</td>\n",
       "      <td>Presidential Double Take : The Difference Four...</td>\n",
       "      <td>center</td>\n",
       "      <td>309</td>\n",
       "      <td>63</td>\n",
       "    </tr>\n",
       "  </tbody>\n",
       "</table>\n",
       "</div>"
      ]
     },
     "execution_count": 65,
     "metadata": {},
     "output_type": "execute_result"
    }
   ],
   "execution_count": 65
  },
  {
   "cell_type": "markdown",
   "id": "19",
   "metadata": {},
   "source": "After inspection, articles with bodies shorter than 40 words seem to contain no political value. Removing them."
  },
  {
   "cell_type": "code",
   "id": "20",
   "metadata": {
    "ExecuteTime": {
     "end_time": "2024-10-27T10:41:21.228214Z",
     "start_time": "2024-10-27T10:41:20.469289Z"
    }
   },
   "source": [
    "body_word_count_lower_bound = 40\n",
    "df = df[df[\"body_word_count\"] >= body_word_count_lower_bound]\n",
    "# Ensuring to include the last (longest) item.\n",
    "downsampled = pd.concat([df[\"body_length\"].iloc[::100], df[\"body_length\"].tail(1)]).drop_duplicates()\n",
    "downsampled.plot.bar().xaxis.set_ticks([]);"
   ],
   "outputs": [
    {
     "data": {
      "text/plain": [
       "<Figure size 640x480 with 1 Axes>"
      ],
      "image/png": "[encoded data removed]"
     },
     "metadata": {},
     "output_type": "display_data"
    }
   ],
   "execution_count": 66
  },
  {
   "cell_type": "code",
   "id": "21",
   "metadata": {
    "ExecuteTime": {
     "end_time": "2024-10-27T10:41:21.350272Z",
     "start_time": "2024-10-27T10:41:21.346613Z"
    }
   },
   "source": [
    "df[\"body_length\"].mean()"
   ],
   "outputs": [
    {
     "data": {
      "text/plain": [
       "np.float64(5848.397443408789)"
      ]
     },
     "execution_count": 67,
     "metadata": {},
     "output_type": "execute_result"
    }
   ],
   "execution_count": 67
  },
  {
   "cell_type": "markdown",
   "id": "22",
   "metadata": {},
   "source": [
    "The leaning distribution."
   ]
  },
  {
   "cell_type": "code",
   "id": "23",
   "metadata": {
    "ExecuteTime": {
     "end_time": "2024-10-27T10:41:21.468989Z",
     "start_time": "2024-10-27T10:41:21.424682Z"
    }
   },
   "source": [
    "df.groupby(\"leaning\", observed=True).size().plot.pie(autopct=\"%1.1f%%\");"
   ],
   "outputs": [
    {
     "data": {
      "text/plain": [
       "<Figure size 640x480 with 1 Axes>"
      ],
      "image/png": "[encoded data removed]"
     },
     "metadata": {},
     "output_type": "display_data"
    }
   ],
   "execution_count": 68
  },
  {
   "cell_type": "markdown",
   "id": "24",
   "metadata": {},
   "source": [
    "The distribution of body length sums per leaning."
   ]
  },
  {
   "cell_type": "code",
   "id": "25",
   "metadata": {
    "ExecuteTime": {
     "end_time": "2024-10-27T10:41:21.540363Z",
     "start_time": "2024-10-27T10:41:21.494649Z"
    }
   },
   "source": [
    "df.groupby(\"leaning\", observed=True)[\"body_length\"].sum().plot.pie(autopct=\"%1.1f%%\", ylabel=\"\");"
   ],
   "outputs": [
    {
     "data": {
      "text/plain": [
       "<Figure size 640x480 with 1 Axes>"
      ],
      "image/png": "[encoded data removed]"
     },
     "metadata": {},
     "output_type": "display_data"
    }
   ],
   "execution_count": 69
  },
  {
   "cell_type": "markdown",
   "id": "26",
   "metadata": {},
   "source": "Body length distribution by leaning."
  },
  {
   "cell_type": "code",
   "id": "27",
   "metadata": {
    "ExecuteTime": {
     "end_time": "2024-10-27T12:20:06.697769Z",
     "start_time": "2024-10-27T12:20:06.558247Z"
    }
   },
   "source": [
    "plt.figure(figsize=(10, 6))\n",
    "\n",
    "for leaning in df[\"leaning\"].unique():\n",
    "    df_leaning = df[df[\"leaning\"] == leaning]\n",
    "    downsampled = pd.concat(\n",
    "        # Ensuring to include the last (longest) item.\n",
    "        [df_leaning[\"body_length\"].iloc[::100], df_leaning[\"body_length\"].tail(1)]\n",
    "    ).drop_duplicates().reset_index(drop=True)\n",
    "    plt.plot(downsampled, label=leaning)\n",
    "\n",
    "plt.xlabel(\"downsampled index\")\n",
    "plt.ylabel(\"body length\")\n",
    "plt.title(\"body length by political leaning\")\n",
    "plt.legend(title=\"leaning\")\n",
    "plt.show()"
   ],
   "outputs": [
    {
     "name": "stdout",
     "output_type": "stream",
     "text": [
      "10815\n",
      "13730\n",
      "13005\n"
     ]
    },
    {
     "data": {
      "text/plain": [
       "<Figure size 1000x600 with 1 Axes>"
      ],
      "image/png": "[encoded data removed]"
     },
     "metadata": {},
     "output_type": "display_data"
    }
   ],
   "execution_count": 73
  },
  {
   "cell_type": "code",
   "id": "32",
   "metadata": {
    "ExecuteTime": {
     "end_time": "2024-10-27T10:41:22.973742Z",
     "start_time": "2024-10-27T10:41:21.714589Z"
    }
   },
   "source": [
    "df.to_parquet(\"../preprocessed/article_bias_prediction.parquet\")"
   ],
   "outputs": [],
   "execution_count": 71
  }
 ],
 "metadata": {
  "kernelspec": {
   "display_name": "Python 3 (ipykernel)",
   "language": "python",
   "name": "python3"
  },
  "language_info": {
   "codemirror_mode": {
    "name": "ipython",
    "version": 3
   },
   "file_extension": ".py",
   "mimetype": "text/x-python",
   "name": "python",
   "nbconvert_exporter": "python",
   "pygments_lexer": "ipython3",
   "version": "3.12.7"
  }
 },
 "nbformat": 4,
 "nbformat_minor": 5
}
