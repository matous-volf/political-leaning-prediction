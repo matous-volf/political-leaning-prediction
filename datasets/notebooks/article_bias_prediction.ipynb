{
 "cells": [
  {
   "cell_type": "code",
   "id": "0",
   "metadata": {
    "ExecuteTime": {
     "end_time": "2024-10-16T16:55:15.853099Z",
     "start_time": "2024-10-16T16:55:15.849598Z"
    }
   },
   "source": [
    "import json\n",
    "import os\n",
    "from io import StringIO\n",
    "\n",
    "import numpy as np\n",
    "import pandas as pd"
   ],
   "outputs": [],
   "execution_count": 65
  },
  {
   "cell_type": "markdown",
   "id": "1",
   "metadata": {},
   "source": [
    "Reading the raw dataset."
   ]
  },
  {
   "cell_type": "code",
   "id": "2",
   "metadata": {
    "ExecuteTime": {
     "end_time": "2024-10-16T16:55:24.233960Z",
     "start_time": "2024-10-16T16:55:15.913691Z"
    }
   },
   "source": [
    "directory = \"../raw/article_bias_prediction\"\n",
    "data = []\n",
    "for i, filename in enumerate(os.listdir(directory)):\n",
    "    filepath = os.path.join(directory, filename)\n",
    "    with open(filepath, \"r\") as file:\n",
    "        data.append(json.load(file))\n",
    "\n",
    "df = pd.DataFrame(data)\n",
    "df"
   ],
   "outputs": [
    {
     "data": {
      "text/plain": [
       "                    topic                 source  bias  \\\n",
       "0      justice_department        Fox Online News     2   \n",
       "1             immigration              USA TODAY     1   \n",
       "2                us_house              USA TODAY     1   \n",
       "3               elections               Townhall     2   \n",
       "4             immigration               Fox News     2   \n",
       "...                   ...                    ...   ...   \n",
       "37549            politics              USA TODAY     1   \n",
       "37550           us_senate                    Vox     0   \n",
       "37551                 fbi        Fox Online News     2   \n",
       "37552               world        Fox Online News     2   \n",
       "37553         immigration  New York Times - News     0   \n",
       "\n",
       "                                                     url  \\\n",
       "0      http://www.foxnews.com/politics/2014/01/14/tea...   \n",
       "1      http://www.usatoday.com/story/news/politics/20...   \n",
       "2      https://www.usatoday.com/story/news/politics/2...   \n",
       "3      https://townhall.com/notebook/bethbaumann/2018...   \n",
       "4      http://www.foxnews.com/us/2013/08/12/surge-mex...   \n",
       "...                                                  ...   \n",
       "37549  http://www.usatoday.com/story/theoval/2015/05/...   \n",
       "37550  https://www.vox.com/policy-and-politics/2019/1...   \n",
       "37551  http://www.foxnews.com/us/2014/10/08/fbi-seeks...   \n",
       "37552  http://www.foxnews.com/world/2014/02/21/ukrain...   \n",
       "37553  https://www.nytimes.com/2020/03/05/sunday-revi...   \n",
       "\n",
       "                                                   title        date  \\\n",
       "0      Sham? DOJ under fire amid claims IRS probe unl...  2014-01-14   \n",
       "1       Senators aiming for 70 votes on immigration bill  2013-04-25   \n",
       "2      House passes tax bill, again and with fixes, s...  2017-12-20   \n",
       "3      Sen. Dianne Feinstein Fails to Receive Califor...  2018-02-25   \n",
       "4      Agencies buying hotel rooms for surge of Mexic...  2013-08-12   \n",
       "...                                                  ...         ...   \n",
       "37549    Beau Biden honored by presidents Obama, Clinton  2015-05-31   \n",
       "37550  William Barr, Trump’s nominee to serve as atto...  2019-01-15   \n",
       "37551  Who is this masked man? FBI seeks public's hel...  2014-10-08   \n",
       "37552  Fresh violence flares in Ukraine as president ...  2014-02-21   \n",
       "37553                              The Open Borders Trap  2020-03-05   \n",
       "\n",
       "                                                 authors  \\\n",
       "0                                                          \n",
       "1                                             Alan Gomez   \n",
       "2                                                          \n",
       "3      Beth Baumann, Matt Vespa, \"Cortney OBrien\", Ti...   \n",
       "4                          William La Jeunesse, In March   \n",
       "...                                                  ...   \n",
       "37549                                                      \n",
       "37550  Matthew Yglesias, Alissa Wilkinson, Sigal Samu...   \n",
       "37551                                                      \n",
       "37552                                                      \n",
       "37553                                      Jason Deparle   \n",
       "\n",
       "                                                 content  \\\n",
       "0      The Justice Department is facing mounting crit...   \n",
       "1      Schumer says security enhancements in bill `` ...   \n",
       "2      WASHINGTON — In an unusual do-over vote , the ...   \n",
       "3      During the California Democratic Party 's annu...   \n",
       "4      EXCLUSIVE : A sudden influx of illegal immigra...   \n",
       "...                                                  ...   \n",
       "37549  The last two Democratic presidents -- Barack O...   \n",
       "37550  The US Department of Justice is shut down this...   \n",
       "37551  A masked jihadist who alternates seamlessly be...   \n",
       "37552  Shots rang out and tension remained high in th...   \n",
       "37553  This reluctance to articulate immigration ’ s ...   \n",
       "\n",
       "                                        content_original        source_url  \\\n",
       "0      The Justice Department is facing mounting crit...   www.foxnews.com   \n",
       "1      Sen. Charles Schumer, D-N.Y., and Sen. John Mc...  www.usatoday.com   \n",
       "2      Deirdre Shesgreen\\n\\nUSA TODAY\\n\\nWASHINGTON —...  www.usatoday.com   \n",
       "3      During the California Democratic Party's annua...  www.townhall.com   \n",
       "4      EXCLUSIVE: A sudden influx of illegal immigran...   www.foxnews.com   \n",
       "...                                                  ...               ...   \n",
       "37549  David Jackson\\n\\nUSA TODAY\\n\\nThe last two Dem...  www.usatoday.com   \n",
       "37550  The US Department of Justice is shut down this...       www.vox.com   \n",
       "37551  A masked jihadist who alternates seamlessly be...   www.foxnews.com   \n",
       "37552  Shots rang out and tension remained high in th...   www.foxnews.com   \n",
       "37553  This reluctance to articulate immigration’s be...   www.nytimes.com   \n",
       "\n",
       "      bias_text                ID  \n",
       "0         right  JeZWeFJcWcdY179c  \n",
       "1        center  ZvUXHGCmSccFtz6C  \n",
       "2        center  8VrBFh087O1j9sUk  \n",
       "3         right  LPF6bWOJsxysBpVz  \n",
       "4         right  q7t0WLxgROpyM5es  \n",
       "...         ...               ...  \n",
       "37549    center  nq3yC4Gn4Wc1LUM1  \n",
       "37550      left  OyAcuZTBVD96RngT  \n",
       "37551     right  t7bTs9oR2KmbvAvT  \n",
       "37552     right  l6iVch5Jmjtzm9er  \n",
       "37553      left  zejzst1m5OYGYw8M  \n",
       "\n",
       "[37554 rows x 12 columns]"
      ],
      "text/html": [
       "<div>\n",
       "<style scoped>\n",
       "    .dataframe tbody tr th:only-of-type {\n",
       "        vertical-align: middle;\n",
       "    }\n",
       "\n",
       "    .dataframe tbody tr th {\n",
       "        vertical-align: top;\n",
       "    }\n",
       "\n",
       "    .dataframe thead th {\n",
       "        text-align: right;\n",
       "    }\n",
       "</style>\n",
       "<table border=\"1\" class=\"dataframe\">\n",
       "  <thead>\n",
       "    <tr style=\"text-align: right;\">\n",
       "      <th></th>\n",
       "      <th>topic</th>\n",
       "      <th>source</th>\n",
       "      <th>bias</th>\n",
       "      <th>url</th>\n",
       "      <th>title</th>\n",
       "      <th>date</th>\n",
       "      <th>authors</th>\n",
       "      <th>content</th>\n",
       "      <th>content_original</th>\n",
       "      <th>source_url</th>\n",
       "      <th>bias_text</th>\n",
       "      <th>ID</th>\n",
       "    </tr>\n",
       "  </thead>\n",
       "  <tbody>\n",
       "    <tr>\n",
       "      <th>0</th>\n",
       "      <td>justice_department</td>\n",
       "      <td>Fox Online News</td>\n",
       "      <td>2</td>\n",
       "      <td>http://www.foxnews.com/politics/2014/01/14/tea...</td>\n",
       "      <td>Sham? DOJ under fire amid claims IRS probe unl...</td>\n",
       "      <td>2014-01-14</td>\n",
       "      <td></td>\n",
       "      <td>The Justice Department is facing mounting crit...</td>\n",
       "      <td>The Justice Department is facing mounting crit...</td>\n",
       "      <td>www.foxnews.com</td>\n",
       "      <td>right</td>\n",
       "      <td>JeZWeFJcWcdY179c</td>\n",
       "    </tr>\n",
       "    <tr>\n",
       "      <th>1</th>\n",
       "      <td>immigration</td>\n",
       "      <td>USA TODAY</td>\n",
       "      <td>1</td>\n",
       "      <td>http://www.usatoday.com/story/news/politics/20...</td>\n",
       "      <td>Senators aiming for 70 votes on immigration bill</td>\n",
       "      <td>2013-04-25</td>\n",
       "      <td>Alan Gomez</td>\n",
       "      <td>Schumer says security enhancements in bill `` ...</td>\n",
       "      <td>Sen. Charles Schumer, D-N.Y., and Sen. John Mc...</td>\n",
       "      <td>www.usatoday.com</td>\n",
       "      <td>center</td>\n",
       "      <td>ZvUXHGCmSccFtz6C</td>\n",
       "    </tr>\n",
       "    <tr>\n",
       "      <th>2</th>\n",
       "      <td>us_house</td>\n",
       "      <td>USA TODAY</td>\n",
       "      <td>1</td>\n",
       "      <td>https://www.usatoday.com/story/news/politics/2...</td>\n",
       "      <td>House passes tax bill, again and with fixes, s...</td>\n",
       "      <td>2017-12-20</td>\n",
       "      <td></td>\n",
       "      <td>WASHINGTON — In an unusual do-over vote , the ...</td>\n",
       "      <td>Deirdre Shesgreen\\n\\nUSA TODAY\\n\\nWASHINGTON —...</td>\n",
       "      <td>www.usatoday.com</td>\n",
       "      <td>center</td>\n",
       "      <td>8VrBFh087O1j9sUk</td>\n",
       "    </tr>\n",
       "    <tr>\n",
       "      <th>3</th>\n",
       "      <td>elections</td>\n",
       "      <td>Townhall</td>\n",
       "      <td>2</td>\n",
       "      <td>https://townhall.com/notebook/bethbaumann/2018...</td>\n",
       "      <td>Sen. Dianne Feinstein Fails to Receive Califor...</td>\n",
       "      <td>2018-02-25</td>\n",
       "      <td>Beth Baumann, Matt Vespa, \"Cortney OBrien\", Ti...</td>\n",
       "      <td>During the California Democratic Party 's annu...</td>\n",
       "      <td>During the California Democratic Party's annua...</td>\n",
       "      <td>www.townhall.com</td>\n",
       "      <td>right</td>\n",
       "      <td>LPF6bWOJsxysBpVz</td>\n",
       "    </tr>\n",
       "    <tr>\n",
       "      <th>4</th>\n",
       "      <td>immigration</td>\n",
       "      <td>Fox News</td>\n",
       "      <td>2</td>\n",
       "      <td>http://www.foxnews.com/us/2013/08/12/surge-mex...</td>\n",
       "      <td>Agencies buying hotel rooms for surge of Mexic...</td>\n",
       "      <td>2013-08-12</td>\n",
       "      <td>William La Jeunesse, In March</td>\n",
       "      <td>EXCLUSIVE : A sudden influx of illegal immigra...</td>\n",
       "      <td>EXCLUSIVE: A sudden influx of illegal immigran...</td>\n",
       "      <td>www.foxnews.com</td>\n",
       "      <td>right</td>\n",
       "      <td>q7t0WLxgROpyM5es</td>\n",
       "    </tr>\n",
       "    <tr>\n",
       "      <th>...</th>\n",
       "      <td>...</td>\n",
       "      <td>...</td>\n",
       "      <td>...</td>\n",
       "      <td>...</td>\n",
       "      <td>...</td>\n",
       "      <td>...</td>\n",
       "      <td>...</td>\n",
       "      <td>...</td>\n",
       "      <td>...</td>\n",
       "      <td>...</td>\n",
       "      <td>...</td>\n",
       "      <td>...</td>\n",
       "    </tr>\n",
       "    <tr>\n",
       "      <th>37549</th>\n",
       "      <td>politics</td>\n",
       "      <td>USA TODAY</td>\n",
       "      <td>1</td>\n",
       "      <td>http://www.usatoday.com/story/theoval/2015/05/...</td>\n",
       "      <td>Beau Biden honored by presidents Obama, Clinton</td>\n",
       "      <td>2015-05-31</td>\n",
       "      <td></td>\n",
       "      <td>The last two Democratic presidents -- Barack O...</td>\n",
       "      <td>David Jackson\\n\\nUSA TODAY\\n\\nThe last two Dem...</td>\n",
       "      <td>www.usatoday.com</td>\n",
       "      <td>center</td>\n",
       "      <td>nq3yC4Gn4Wc1LUM1</td>\n",
       "    </tr>\n",
       "    <tr>\n",
       "      <th>37550</th>\n",
       "      <td>us_senate</td>\n",
       "      <td>Vox</td>\n",
       "      <td>0</td>\n",
       "      <td>https://www.vox.com/policy-and-politics/2019/1...</td>\n",
       "      <td>William Barr, Trump’s nominee to serve as atto...</td>\n",
       "      <td>2019-01-15</td>\n",
       "      <td>Matthew Yglesias, Alissa Wilkinson, Sigal Samu...</td>\n",
       "      <td>The US Department of Justice is shut down this...</td>\n",
       "      <td>The US Department of Justice is shut down this...</td>\n",
       "      <td>www.vox.com</td>\n",
       "      <td>left</td>\n",
       "      <td>OyAcuZTBVD96RngT</td>\n",
       "    </tr>\n",
       "    <tr>\n",
       "      <th>37551</th>\n",
       "      <td>fbi</td>\n",
       "      <td>Fox Online News</td>\n",
       "      <td>2</td>\n",
       "      <td>http://www.foxnews.com/us/2014/10/08/fbi-seeks...</td>\n",
       "      <td>Who is this masked man? FBI seeks public's hel...</td>\n",
       "      <td>2014-10-08</td>\n",
       "      <td></td>\n",
       "      <td>A masked jihadist who alternates seamlessly be...</td>\n",
       "      <td>A masked jihadist who alternates seamlessly be...</td>\n",
       "      <td>www.foxnews.com</td>\n",
       "      <td>right</td>\n",
       "      <td>t7bTs9oR2KmbvAvT</td>\n",
       "    </tr>\n",
       "    <tr>\n",
       "      <th>37552</th>\n",
       "      <td>world</td>\n",
       "      <td>Fox Online News</td>\n",
       "      <td>2</td>\n",
       "      <td>http://www.foxnews.com/world/2014/02/21/ukrain...</td>\n",
       "      <td>Fresh violence flares in Ukraine as president ...</td>\n",
       "      <td>2014-02-21</td>\n",
       "      <td></td>\n",
       "      <td>Shots rang out and tension remained high in th...</td>\n",
       "      <td>Shots rang out and tension remained high in th...</td>\n",
       "      <td>www.foxnews.com</td>\n",
       "      <td>right</td>\n",
       "      <td>l6iVch5Jmjtzm9er</td>\n",
       "    </tr>\n",
       "    <tr>\n",
       "      <th>37553</th>\n",
       "      <td>immigration</td>\n",
       "      <td>New York Times - News</td>\n",
       "      <td>0</td>\n",
       "      <td>https://www.nytimes.com/2020/03/05/sunday-revi...</td>\n",
       "      <td>The Open Borders Trap</td>\n",
       "      <td>2020-03-05</td>\n",
       "      <td>Jason Deparle</td>\n",
       "      <td>This reluctance to articulate immigration ’ s ...</td>\n",
       "      <td>This reluctance to articulate immigration’s be...</td>\n",
       "      <td>www.nytimes.com</td>\n",
       "      <td>left</td>\n",
       "      <td>zejzst1m5OYGYw8M</td>\n",
       "    </tr>\n",
       "  </tbody>\n",
       "</table>\n",
       "<p>37554 rows × 12 columns</p>\n",
       "</div>"
      ]
     },
     "execution_count": 66,
     "metadata": {},
     "output_type": "execute_result"
    }
   ],
   "execution_count": 66
  },
  {
   "cell_type": "markdown",
   "id": "3",
   "metadata": {},
   "source": [
    "Dropping useless columns. The content column is\n",
    "> the processed and tokenized content, which is used as input to the different models\n",
    "\n",
    "and so the original content can be dropped."
   ]
  },
  {
   "cell_type": "code",
   "id": "4",
   "metadata": {
    "ExecuteTime": {
     "end_time": "2024-10-16T16:55:24.301791Z",
     "start_time": "2024-10-16T16:55:24.290979Z"
    }
   },
   "source": "df = df.drop(columns=[\"topic\", \"bias\", \"source\", \"url\", \"date\", \"authors\", \"content_original\", \"source_url\", \"ID\"])",
   "outputs": [],
   "execution_count": 67
  },
  {
   "cell_type": "markdown",
   "id": "5",
   "metadata": {},
   "source": [
    "Renaming and reordering columns."
   ]
  },
  {
   "cell_type": "code",
   "id": "6",
   "metadata": {
    "ExecuteTime": {
     "end_time": "2024-10-16T16:55:24.393360Z",
     "start_time": "2024-10-16T16:55:24.371688Z"
    }
   },
   "source": [
    "df = df.rename(columns={\"content\": \"body\", \"bias_text\": \"leaning\"})\n",
    "df = df[[\"title\", \"body\", \"leaning\"]].copy()"
   ],
   "outputs": [],
   "execution_count": 68
  },
  {
   "cell_type": "markdown",
   "id": "7",
   "metadata": {},
   "source": [
    "Categorizing the leaning column."
   ]
  },
  {
   "cell_type": "code",
   "id": "8",
   "metadata": {
    "ExecuteTime": {
     "end_time": "2024-10-16T16:55:24.440508Z",
     "start_time": "2024-10-16T16:55:24.429737Z"
    }
   },
   "source": "df[\"leaning\"] = df[\"leaning\"].astype(\"category\")",
   "outputs": [],
   "execution_count": 69
  },
  {
   "cell_type": "markdown",
   "id": "9",
   "metadata": {},
   "source": [
    "Printing duplicates."
   ]
  },
  {
   "cell_type": "code",
   "id": "10",
   "metadata": {
    "ExecuteTime": {
     "end_time": "2024-10-16T16:55:24.671880Z",
     "start_time": "2024-10-16T16:55:24.492469Z"
    }
   },
   "source": [
    "df[df[\"body\"].duplicated(keep=False)]"
   ],
   "outputs": [
    {
     "data": {
      "text/plain": [
       "Empty DataFrame\n",
       "Columns: [title, body, leaning]\n",
       "Index: []"
      ],
      "text/html": [
       "<div>\n",
       "<style scoped>\n",
       "    .dataframe tbody tr th:only-of-type {\n",
       "        vertical-align: middle;\n",
       "    }\n",
       "\n",
       "    .dataframe tbody tr th {\n",
       "        vertical-align: top;\n",
       "    }\n",
       "\n",
       "    .dataframe thead th {\n",
       "        text-align: right;\n",
       "    }\n",
       "</style>\n",
       "<table border=\"1\" class=\"dataframe\">\n",
       "  <thead>\n",
       "    <tr style=\"text-align: right;\">\n",
       "      <th></th>\n",
       "      <th>title</th>\n",
       "      <th>body</th>\n",
       "      <th>leaning</th>\n",
       "    </tr>\n",
       "  </thead>\n",
       "  <tbody>\n",
       "  </tbody>\n",
       "</table>\n",
       "</div>"
      ]
     },
     "execution_count": 70,
     "metadata": {},
     "output_type": "execute_result"
    }
   ],
   "execution_count": 70
  },
  {
   "cell_type": "markdown",
   "id": "11",
   "metadata": {},
   "source": [
    "Dropping the duplicates."
   ]
  },
  {
   "cell_type": "code",
   "id": "12",
   "metadata": {
    "ExecuteTime": {
     "end_time": "2024-10-16T16:55:24.855734Z",
     "start_time": "2024-10-16T16:55:24.840258Z"
    }
   },
   "source": [
    "df = df.drop_duplicates(subset=\"body\")"
   ],
   "outputs": [],
   "execution_count": 71
  },
  {
   "cell_type": "markdown",
   "id": "13",
   "metadata": {},
   "source": [
    "Inspecting body length."
   ]
  },
  {
   "cell_type": "code",
   "id": "14",
   "metadata": {
    "ExecuteTime": {
     "end_time": "2024-10-16T16:55:29.468337Z",
     "start_time": "2024-10-16T16:55:24.884598Z"
    }
   },
   "source": [
    "df[\"body_length\"] = df[\"body\"].str.len()\n",
    "df[\"body_word_count\"] = df[\"body\"].str.split().str.len()\n",
    "df.sort_values(by=\"body_length\", ascending=False).head()"
   ],
   "outputs": [
    {
     "data": {
      "text/plain": [
       "                                                   title  \\\n",
       "541                         'It Is Time for Reparations'   \n",
       "21458  The Billion-Dollar Disinformation Campaign to ...   \n",
       "6248   What states are opening up, and when? States a...   \n",
       "14183                            Michael Cohen Testifies   \n",
       "503                                      The Second Term   \n",
       "\n",
       "                                                    body leaning  body_length  \\\n",
       "541    Black Americans protesting the violation of th...    left        53992   \n",
       "21458  Updated at 2:30 p.m . ET on February 10 , 2020...    left        53289   \n",
       "6248   Some experts believe the United States has pas...  center        52449   \n",
       "14183  President Trump Donald John TrumpGOP senators ...  center        51367   \n",
       "503    In November , 1984 , President Ronald Reagan w...    left        50644   \n",
       "\n",
       "       body_word_count  \n",
       "541               9703  \n",
       "21458             9695  \n",
       "6248              9330  \n",
       "14183             9661  \n",
       "503               9597  "
      ],
      "text/html": [
       "<div>\n",
       "<style scoped>\n",
       "    .dataframe tbody tr th:only-of-type {\n",
       "        vertical-align: middle;\n",
       "    }\n",
       "\n",
       "    .dataframe tbody tr th {\n",
       "        vertical-align: top;\n",
       "    }\n",
       "\n",
       "    .dataframe thead th {\n",
       "        text-align: right;\n",
       "    }\n",
       "</style>\n",
       "<table border=\"1\" class=\"dataframe\">\n",
       "  <thead>\n",
       "    <tr style=\"text-align: right;\">\n",
       "      <th></th>\n",
       "      <th>title</th>\n",
       "      <th>body</th>\n",
       "      <th>leaning</th>\n",
       "      <th>body_length</th>\n",
       "      <th>body_word_count</th>\n",
       "    </tr>\n",
       "  </thead>\n",
       "  <tbody>\n",
       "    <tr>\n",
       "      <th>541</th>\n",
       "      <td>'It Is Time for Reparations'</td>\n",
       "      <td>Black Americans protesting the violation of th...</td>\n",
       "      <td>left</td>\n",
       "      <td>53992</td>\n",
       "      <td>9703</td>\n",
       "    </tr>\n",
       "    <tr>\n",
       "      <th>21458</th>\n",
       "      <td>The Billion-Dollar Disinformation Campaign to ...</td>\n",
       "      <td>Updated at 2:30 p.m . ET on February 10 , 2020...</td>\n",
       "      <td>left</td>\n",
       "      <td>53289</td>\n",
       "      <td>9695</td>\n",
       "    </tr>\n",
       "    <tr>\n",
       "      <th>6248</th>\n",
       "      <td>What states are opening up, and when? States a...</td>\n",
       "      <td>Some experts believe the United States has pas...</td>\n",
       "      <td>center</td>\n",
       "      <td>52449</td>\n",
       "      <td>9330</td>\n",
       "    </tr>\n",
       "    <tr>\n",
       "      <th>14183</th>\n",
       "      <td>Michael Cohen Testifies</td>\n",
       "      <td>President Trump Donald John TrumpGOP senators ...</td>\n",
       "      <td>center</td>\n",
       "      <td>51367</td>\n",
       "      <td>9661</td>\n",
       "    </tr>\n",
       "    <tr>\n",
       "      <th>503</th>\n",
       "      <td>The Second Term</td>\n",
       "      <td>In November , 1984 , President Ronald Reagan w...</td>\n",
       "      <td>left</td>\n",
       "      <td>50644</td>\n",
       "      <td>9597</td>\n",
       "    </tr>\n",
       "  </tbody>\n",
       "</table>\n",
       "</div>"
      ]
     },
     "execution_count": 72,
     "metadata": {},
     "output_type": "execute_result"
    }
   ],
   "execution_count": 72
  },
  {
   "cell_type": "code",
   "id": "15",
   "metadata": {
    "ExecuteTime": {
     "end_time": "2024-10-16T16:55:30.470769Z",
     "start_time": "2024-10-16T16:55:30.450821Z"
    }
   },
   "source": "df.sort_values(by=\"body_length\").head()",
   "outputs": [
    {
     "data": {
      "text/plain": [
       "                                                   title  \\\n",
       "20724  Reports: US Airstrike Kills 3 Top ISIS Militants    \n",
       "29475  Obama Irate as Senate Votes Down Background Ch...   \n",
       "2523   Obama's IRS Moves to Close Down Political Spee...   \n",
       "33787  Obama Defends Immigration Delay: The Politics ...   \n",
       "56     Presidential Double Take: The Difference Four ...   \n",
       "\n",
       "                                                    body leaning  body_length  \\\n",
       "20724  Do You Approve of Obama 's Handling of Foreign...   right          131   \n",
       "29475  Do You Support Background Checks on Gun Buyers...   right          137   \n",
       "2523   Do You Approve Or Disapprove of President Obam...   right          185   \n",
       "33787  President Barack Obama on Saturday blamed the ...   right          204   \n",
       "56     Presidential Double Take : The Difference Four...  center          309   \n",
       "\n",
       "       body_word_count  \n",
       "20724               26  \n",
       "29475               26  \n",
       "2523                34  \n",
       "33787               36  \n",
       "56                  63  "
      ],
      "text/html": [
       "<div>\n",
       "<style scoped>\n",
       "    .dataframe tbody tr th:only-of-type {\n",
       "        vertical-align: middle;\n",
       "    }\n",
       "\n",
       "    .dataframe tbody tr th {\n",
       "        vertical-align: top;\n",
       "    }\n",
       "\n",
       "    .dataframe thead th {\n",
       "        text-align: right;\n",
       "    }\n",
       "</style>\n",
       "<table border=\"1\" class=\"dataframe\">\n",
       "  <thead>\n",
       "    <tr style=\"text-align: right;\">\n",
       "      <th></th>\n",
       "      <th>title</th>\n",
       "      <th>body</th>\n",
       "      <th>leaning</th>\n",
       "      <th>body_length</th>\n",
       "      <th>body_word_count</th>\n",
       "    </tr>\n",
       "  </thead>\n",
       "  <tbody>\n",
       "    <tr>\n",
       "      <th>20724</th>\n",
       "      <td>Reports: US Airstrike Kills 3 Top ISIS Militants</td>\n",
       "      <td>Do You Approve of Obama 's Handling of Foreign...</td>\n",
       "      <td>right</td>\n",
       "      <td>131</td>\n",
       "      <td>26</td>\n",
       "    </tr>\n",
       "    <tr>\n",
       "      <th>29475</th>\n",
       "      <td>Obama Irate as Senate Votes Down Background Ch...</td>\n",
       "      <td>Do You Support Background Checks on Gun Buyers...</td>\n",
       "      <td>right</td>\n",
       "      <td>137</td>\n",
       "      <td>26</td>\n",
       "    </tr>\n",
       "    <tr>\n",
       "      <th>2523</th>\n",
       "      <td>Obama's IRS Moves to Close Down Political Spee...</td>\n",
       "      <td>Do You Approve Or Disapprove of President Obam...</td>\n",
       "      <td>right</td>\n",
       "      <td>185</td>\n",
       "      <td>34</td>\n",
       "    </tr>\n",
       "    <tr>\n",
       "      <th>33787</th>\n",
       "      <td>Obama Defends Immigration Delay: The Politics ...</td>\n",
       "      <td>President Barack Obama on Saturday blamed the ...</td>\n",
       "      <td>right</td>\n",
       "      <td>204</td>\n",
       "      <td>36</td>\n",
       "    </tr>\n",
       "    <tr>\n",
       "      <th>56</th>\n",
       "      <td>Presidential Double Take: The Difference Four ...</td>\n",
       "      <td>Presidential Double Take : The Difference Four...</td>\n",
       "      <td>center</td>\n",
       "      <td>309</td>\n",
       "      <td>63</td>\n",
       "    </tr>\n",
       "  </tbody>\n",
       "</table>\n",
       "</div>"
      ]
     },
     "execution_count": 73,
     "metadata": {},
     "output_type": "execute_result"
    }
   ],
   "execution_count": 73
  },
  {
   "metadata": {
    "ExecuteTime": {
     "end_time": "2024-10-16T16:55:34.073765Z",
     "start_time": "2024-10-16T16:55:30.565625Z"
    }
   },
   "cell_type": "code",
   "source": [
    "body_length = df[\"body_length\"].sort_values()\n",
    "# Ensuring to include the last (longest) item.\n",
    "downsampled = pd.concat([body_length.iloc[::100], body_length.iloc[[-1]]]).drop_duplicates()\n",
    "downsampled.plot.bar();"
   ],
   "id": "35947385c9267524",
   "outputs": [
    {
     "data": {
      "text/plain": [
       "<Figure size 640x480 with 1 Axes>"
      ],
      "image/png": "[encoded data removed]"
     },
     "metadata": {},
     "output_type": "display_data"
    }
   ],
   "execution_count": 74
  },
  {
   "cell_type": "markdown",
   "id": "16",
   "metadata": {},
   "source": [
    "Calculating the bounds for body length."
   ]
  },
  {
   "cell_type": "code",
   "id": "17",
   "metadata": {
    "ExecuteTime": {
     "end_time": "2024-10-16T16:55:34.467441Z",
     "start_time": "2024-10-16T16:55:34.461786Z"
    }
   },
   "source": [
    "q1 = np.percentile(df[\"body_length\"], 25)\n",
    "q3 = np.percentile(df[\"body_length\"], 75)\n",
    "iqr = q3 - q1\n",
    "lower_bound_multiplier = 0.5\n",
    "upper_bound_multiplier = 9\n",
    "lower_bound = q1 - lower_bound_multiplier * iqr\n",
    "upper_bound = q3 + upper_bound_multiplier * iqr\n",
    "lower_bound, upper_bound"
   ],
   "outputs": [
    {
     "data": {
      "text/plain": [
       "(np.float64(1522.5), np.float64(40005.0))"
      ]
     },
     "execution_count": 75,
     "metadata": {},
     "output_type": "execute_result"
    }
   ],
   "execution_count": 75
  },
  {
   "cell_type": "markdown",
   "id": "18",
   "metadata": {},
   "source": [
    "Removing the outliers based on the body length."
   ]
  },
  {
   "cell_type": "code",
   "id": "19",
   "metadata": {
    "ExecuteTime": {
     "end_time": "2024-10-16T16:55:37.776893Z",
     "start_time": "2024-10-16T16:55:34.494633Z"
    }
   },
   "source": [
    "df = df[(df[\"body_length\"] >= lower_bound) & (df[\"body_length\"] <= upper_bound)]\n",
    "body_length = df[\"body_length\"].sort_values()\n",
    "# Ensuring to include the last (longest) item.\n",
    "downsampled = pd.concat([body_length.iloc[::100], body_length.iloc[[-1]]]).drop_duplicates()\n",
    "downsampled.plot.bar();"
   ],
   "outputs": [
    {
     "data": {
      "text/plain": [
       "<Figure size 640x480 with 1 Axes>"
      ],
      "image/png": "[encoded data removed]"
     },
     "metadata": {},
     "output_type": "display_data"
    }
   ],
   "execution_count": 76
  },
  {
   "cell_type": "markdown",
   "id": "20",
   "metadata": {},
   "source": [
    "The leaning distribution."
   ]
  },
  {
   "cell_type": "code",
   "id": "21",
   "metadata": {
    "ExecuteTime": {
     "end_time": "2024-10-16T16:55:37.885609Z",
     "start_time": "2024-10-16T16:55:37.786366Z"
    }
   },
   "source": [
    "df.groupby(\"leaning\", observed=True).size().plot.pie(autopct=\"%1.1f%%\");"
   ],
   "outputs": [
    {
     "data": {
      "text/plain": [
       "<Figure size 640x480 with 1 Axes>"
      ],
      "image/png": "[encoded data removed]"
     },
     "metadata": {},
     "output_type": "display_data"
    }
   ],
   "execution_count": 77
  },
  {
   "cell_type": "code",
   "id": "22",
   "metadata": {
    "ExecuteTime": {
     "end_time": "2024-10-16T16:55:44.257346Z",
     "start_time": "2024-10-16T16:55:37.902095Z"
    }
   },
   "source": "df.to_csv(\"../preprocessed/article_bias_prediction.csv\")",
   "outputs": [],
   "execution_count": 78
  }
 ],
 "metadata": {
  "kernelspec": {
   "display_name": "Python 3",
   "language": "python",
   "name": "python3"
  },
  "language_info": {
   "codemirror_mode": {
    "name": "ipython",
    "version": 2
   },
   "file_extension": ".py",
   "mimetype": "text/x-python",
   "name": "python",
   "nbconvert_exporter": "python",
   "pygments_lexer": "ipython2",
   "version": "2.7.6"
  }
 },
 "nbformat": 4,
 "nbformat_minor": 5
}
