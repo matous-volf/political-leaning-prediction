{
 "cells": [
  {
   "cell_type": "code",
   "id": "0",
   "metadata": {
    "ExecuteTime": {
     "end_time": "2024-10-27T12:39:34.211216Z",
     "start_time": "2024-10-27T12:39:34.208719Z"
    }
   },
   "source": [
    "from io import StringIO\n",
    "\n",
    "import pandas as pd\n",
    "from matplotlib import pyplot as plt"
   ],
   "outputs": [],
   "execution_count": 62
  },
  {
   "cell_type": "markdown",
   "id": "1",
   "metadata": {},
   "source": [
    "Reading the raw dataset."
   ]
  },
  {
   "cell_type": "code",
   "id": "2",
   "metadata": {
    "ExecuteTime": {
     "end_time": "2024-10-27T12:39:34.705407Z",
     "start_time": "2024-10-27T12:39:34.296198Z"
    }
   },
   "source": [
    "json_array = \"[\"\n",
    "with open(\"../raw/webis_news_bias_20.json\") as f:\n",
    "    json_array += \",\".join(line for line in f)\n",
    "json_array += \"]\"\n",
    "\n",
    "df = pd.read_json(StringIO(json_array))\n",
    "df"
   ],
   "outputs": [
    {
     "data": {
      "text/plain": [
       "                source                                              title  \\\n",
       "0             Fox News  Trump blasts Howard Schultz, says ex-Starbucks...   \n",
       "1            USA TODAY  Trump blasts former Starbucks CEO Howard Schul...   \n",
       "2     Washington Times  Mick Mulvaney: Trump to secure border 'with or...   \n",
       "3     Washington Times  Trump says 'we'll do the emergency' if border ...   \n",
       "4             BBC News  Trump backs down to end painful shutdown tempo...   \n",
       "...                ...                                                ...   \n",
       "7770          Politico                   Ann Romney's task: Humanize Mitt   \n",
       "7771  Washington Times               'Mittigator' to make case for Romney   \n",
       "7772          Fox News  Convention-bound Ryan slams Obama for presidin...   \n",
       "7773          Politico                Ryan seeks comfort of Ron Paul fans   \n",
       "7774    CNN (Web News)    Paul to supporters: 2012 the start of a new era   \n",
       "\n",
       "      event_id adfontes_fair adfontes_political    allsides_bias  \\\n",
       "0            0          bias               bias   From the Right   \n",
       "1            0          bias            neutral  From the Center   \n",
       "2            0          bias            neutral   From the Right   \n",
       "3            0          bias            neutral   From the Right   \n",
       "4            0          bias            neutral  From the Center   \n",
       "...        ...           ...                ...              ...   \n",
       "7770         0          bias            neutral    From the Left   \n",
       "7771         0          bias            neutral   From the Right   \n",
       "7772         0          bias               bias   From the Right   \n",
       "7773         0          bias            neutral    From the Left   \n",
       "7774         0          bias            neutral    From the Left   \n",
       "\n",
       "                                                content  \\\n",
       "0     Obama administration alum Roger Fisk and Repub...   \n",
       "1     WASHINGTON – President Donald Trump took a swi...   \n",
       "2     Acting White House chief of staff Mick Mulvane...   \n",
       "3     President Trump repeated his vow Friday to dec...   \n",
       "4     President Donald Trump has yielded to politica...   \n",
       "...                                                 ...   \n",
       "7770  TAMPA, Fla. — Ann Romney will take to the podi...   \n",
       "7771  She is a gracious warrior with a kind face, a ...   \n",
       "7772  Republican VP pick on 'Special Report'\\nMaking...   \n",
       "7773  Paul Ryan said Monday he expects Ron Paul supp...   \n",
       "7774  Tampa, Florida (CNN) \\- As Rep. Ron Paul's thi...   \n",
       "\n",
       "                                                   misc  \n",
       "0     {'time': '2019-01-28 16:10:44.680484', 'topics...  \n",
       "1     {'time': 'None', 'topics': 'Election: Presiden...  \n",
       "2     {'time': 'None', 'topics': 'White House', 'aut...  \n",
       "3     {'time': 'None', 'topics': 'White House, Polit...  \n",
       "4     {'time': '2019-01-26 00:00:00', 'topics': 'Whi...  \n",
       "...                                                 ...  \n",
       "7770  {'time': '2012-08-28 04:59:14', 'topics': 'Ele...  \n",
       "7771  {'time': 'None', 'topics': 'Election: Presiden...  \n",
       "7772  {'time': '2012-08-27 00:00:00', 'topics': 'Ele...  \n",
       "7773  {'time': '2012-08-27 15:52:45', 'topics': 'Ele...  \n",
       "7774  {'time': '2012-08-26 00:00:00', 'topics': 'Ele...  \n",
       "\n",
       "[7775 rows x 8 columns]"
      ],
      "text/html": [
       "<div>\n",
       "<style scoped>\n",
       "    .dataframe tbody tr th:only-of-type {\n",
       "        vertical-align: middle;\n",
       "    }\n",
       "\n",
       "    .dataframe tbody tr th {\n",
       "        vertical-align: top;\n",
       "    }\n",
       "\n",
       "    .dataframe thead th {\n",
       "        text-align: right;\n",
       "    }\n",
       "</style>\n",
       "<table border=\"1\" class=\"dataframe\">\n",
       "  <thead>\n",
       "    <tr style=\"text-align: right;\">\n",
       "      <th></th>\n",
       "      <th>source</th>\n",
       "      <th>title</th>\n",
       "      <th>event_id</th>\n",
       "      <th>adfontes_fair</th>\n",
       "      <th>adfontes_political</th>\n",
       "      <th>allsides_bias</th>\n",
       "      <th>content</th>\n",
       "      <th>misc</th>\n",
       "    </tr>\n",
       "  </thead>\n",
       "  <tbody>\n",
       "    <tr>\n",
       "      <th>0</th>\n",
       "      <td>Fox News</td>\n",
       "      <td>Trump blasts Howard Schultz, says ex-Starbucks...</td>\n",
       "      <td>0</td>\n",
       "      <td>bias</td>\n",
       "      <td>bias</td>\n",
       "      <td>From the Right</td>\n",
       "      <td>Obama administration alum Roger Fisk and Repub...</td>\n",
       "      <td>{'time': '2019-01-28 16:10:44.680484', 'topics...</td>\n",
       "    </tr>\n",
       "    <tr>\n",
       "      <th>1</th>\n",
       "      <td>USA TODAY</td>\n",
       "      <td>Trump blasts former Starbucks CEO Howard Schul...</td>\n",
       "      <td>0</td>\n",
       "      <td>bias</td>\n",
       "      <td>neutral</td>\n",
       "      <td>From the Center</td>\n",
       "      <td>WASHINGTON – President Donald Trump took a swi...</td>\n",
       "      <td>{'time': 'None', 'topics': 'Election: Presiden...</td>\n",
       "    </tr>\n",
       "    <tr>\n",
       "      <th>2</th>\n",
       "      <td>Washington Times</td>\n",
       "      <td>Mick Mulvaney: Trump to secure border 'with or...</td>\n",
       "      <td>0</td>\n",
       "      <td>bias</td>\n",
       "      <td>neutral</td>\n",
       "      <td>From the Right</td>\n",
       "      <td>Acting White House chief of staff Mick Mulvane...</td>\n",
       "      <td>{'time': 'None', 'topics': 'White House', 'aut...</td>\n",
       "    </tr>\n",
       "    <tr>\n",
       "      <th>3</th>\n",
       "      <td>Washington Times</td>\n",
       "      <td>Trump says 'we'll do the emergency' if border ...</td>\n",
       "      <td>0</td>\n",
       "      <td>bias</td>\n",
       "      <td>neutral</td>\n",
       "      <td>From the Right</td>\n",
       "      <td>President Trump repeated his vow Friday to dec...</td>\n",
       "      <td>{'time': 'None', 'topics': 'White House, Polit...</td>\n",
       "    </tr>\n",
       "    <tr>\n",
       "      <th>4</th>\n",
       "      <td>BBC News</td>\n",
       "      <td>Trump backs down to end painful shutdown tempo...</td>\n",
       "      <td>0</td>\n",
       "      <td>bias</td>\n",
       "      <td>neutral</td>\n",
       "      <td>From the Center</td>\n",
       "      <td>President Donald Trump has yielded to politica...</td>\n",
       "      <td>{'time': '2019-01-26 00:00:00', 'topics': 'Whi...</td>\n",
       "    </tr>\n",
       "    <tr>\n",
       "      <th>...</th>\n",
       "      <td>...</td>\n",
       "      <td>...</td>\n",
       "      <td>...</td>\n",
       "      <td>...</td>\n",
       "      <td>...</td>\n",
       "      <td>...</td>\n",
       "      <td>...</td>\n",
       "      <td>...</td>\n",
       "    </tr>\n",
       "    <tr>\n",
       "      <th>7770</th>\n",
       "      <td>Politico</td>\n",
       "      <td>Ann Romney's task: Humanize Mitt</td>\n",
       "      <td>0</td>\n",
       "      <td>bias</td>\n",
       "      <td>neutral</td>\n",
       "      <td>From the Left</td>\n",
       "      <td>TAMPA, Fla. — Ann Romney will take to the podi...</td>\n",
       "      <td>{'time': '2012-08-28 04:59:14', 'topics': 'Ele...</td>\n",
       "    </tr>\n",
       "    <tr>\n",
       "      <th>7771</th>\n",
       "      <td>Washington Times</td>\n",
       "      <td>'Mittigator' to make case for Romney</td>\n",
       "      <td>0</td>\n",
       "      <td>bias</td>\n",
       "      <td>neutral</td>\n",
       "      <td>From the Right</td>\n",
       "      <td>She is a gracious warrior with a kind face, a ...</td>\n",
       "      <td>{'time': 'None', 'topics': 'Election: Presiden...</td>\n",
       "    </tr>\n",
       "    <tr>\n",
       "      <th>7772</th>\n",
       "      <td>Fox News</td>\n",
       "      <td>Convention-bound Ryan slams Obama for presidin...</td>\n",
       "      <td>0</td>\n",
       "      <td>bias</td>\n",
       "      <td>bias</td>\n",
       "      <td>From the Right</td>\n",
       "      <td>Republican VP pick on 'Special Report'\\nMaking...</td>\n",
       "      <td>{'time': '2012-08-27 00:00:00', 'topics': 'Ele...</td>\n",
       "    </tr>\n",
       "    <tr>\n",
       "      <th>7773</th>\n",
       "      <td>Politico</td>\n",
       "      <td>Ryan seeks comfort of Ron Paul fans</td>\n",
       "      <td>0</td>\n",
       "      <td>bias</td>\n",
       "      <td>neutral</td>\n",
       "      <td>From the Left</td>\n",
       "      <td>Paul Ryan said Monday he expects Ron Paul supp...</td>\n",
       "      <td>{'time': '2012-08-27 15:52:45', 'topics': 'Ele...</td>\n",
       "    </tr>\n",
       "    <tr>\n",
       "      <th>7774</th>\n",
       "      <td>CNN (Web News)</td>\n",
       "      <td>Paul to supporters: 2012 the start of a new era</td>\n",
       "      <td>0</td>\n",
       "      <td>bias</td>\n",
       "      <td>neutral</td>\n",
       "      <td>From the Left</td>\n",
       "      <td>Tampa, Florida (CNN) \\- As Rep. Ron Paul's thi...</td>\n",
       "      <td>{'time': '2012-08-26 00:00:00', 'topics': 'Ele...</td>\n",
       "    </tr>\n",
       "  </tbody>\n",
       "</table>\n",
       "<p>7775 rows × 8 columns</p>\n",
       "</div>"
      ]
     },
     "execution_count": 63,
     "metadata": {},
     "output_type": "execute_result"
    }
   ],
   "execution_count": 63
  },
  {
   "cell_type": "markdown",
   "id": "3",
   "metadata": {},
   "source": [
    "Dropping useless columns."
   ]
  },
  {
   "cell_type": "code",
   "id": "4",
   "metadata": {
    "ExecuteTime": {
     "end_time": "2024-10-27T12:39:34.748809Z",
     "start_time": "2024-10-27T12:39:34.745322Z"
    }
   },
   "source": [
    "df = df.drop(columns=[\"source\", \"event_id\", \"adfontes_fair\", \"adfontes_political\", \"misc\"])"
   ],
   "outputs": [],
   "execution_count": 64
  },
  {
   "cell_type": "markdown",
   "id": "5",
   "metadata": {},
   "source": [
    "Renaming and reordering columns."
   ]
  },
  {
   "cell_type": "code",
   "id": "6",
   "metadata": {
    "ExecuteTime": {
     "end_time": "2024-10-27T12:39:34.788192Z",
     "start_time": "2024-10-27T12:39:34.782481Z"
    }
   },
   "source": [
    "df = df.rename(columns={\"content\": \"body\", \"allsides_bias\": \"leaning\"})\n",
    "df = df[[\"title\", \"body\", \"leaning\"]].copy()"
   ],
   "outputs": [],
   "execution_count": 65
  },
  {
   "cell_type": "markdown",
   "id": "7",
   "metadata": {},
   "source": [
    "Categorizing the leaning column."
   ]
  },
  {
   "cell_type": "code",
   "id": "8",
   "metadata": {
    "ExecuteTime": {
     "end_time": "2024-10-27T12:39:34.828302Z",
     "start_time": "2024-10-27T12:39:34.823107Z"
    }
   },
   "source": [
    "df[\"leaning\"] = df[\"leaning\"].astype(\"category\")\n",
    "df[\"leaning\"] = df[\"leaning\"].cat.rename_categories(\n",
    "    {\"From the Left\": \"left\", \"From the Center\": \"center\", \"From the Right\": \"right\"}\n",
    ")"
   ],
   "outputs": [],
   "execution_count": 66
  },
  {
   "metadata": {},
   "cell_type": "markdown",
   "source": "Dropping rows with missing data.",
   "id": "efd8f3e6d13a8778"
  },
  {
   "metadata": {
    "ExecuteTime": {
     "end_time": "2024-10-27T12:30:42.801894Z",
     "start_time": "2024-10-27T12:30:42.794691Z"
    }
   },
   "cell_type": "code",
   "outputs": [],
   "execution_count": 56,
   "source": "df = df.dropna()",
   "id": "935abe4a1fd7e376"
  },
  {
   "cell_type": "markdown",
   "id": "9",
   "metadata": {},
   "source": [
    "Printing duplicates."
   ]
  },
  {
   "cell_type": "code",
   "id": "10",
   "metadata": {
    "ExecuteTime": {
     "end_time": "2024-10-27T12:39:34.939622Z",
     "start_time": "2024-10-27T12:39:34.910799Z"
    }
   },
   "source": [
    "df[df[\"body\"].duplicated(keep=False)]"
   ],
   "outputs": [
    {
     "data": {
      "text/plain": [
       "                                                  title  \\\n",
       "14    Trump delays State of the Union Address until ...   \n",
       "15    Trump delays State of the Union Address until ...   \n",
       "133   Pelosi: ‘Open Discussion’ Whether Trump Can Be...   \n",
       "134   Pelosi: ‘Open Discussion’ Whether Trump Can Be...   \n",
       "197   James Mattis quitting as defense secretary, ci...   \n",
       "...                                                 ...   \n",
       "7538  Last jobs report before election shows economy...   \n",
       "7628                   Romney Dominates In First Debate   \n",
       "7632                   Romney Dominates In First Debate   \n",
       "7677  'Fast and Furious' report slaps 14 at Justice,...   \n",
       "7678  'Fast and Furious' report slaps 14 at Justice,...   \n",
       "\n",
       "                                                   body leaning  \n",
       "14    WASHINGTON (Reuters) - U.S. President Donald T...   right  \n",
       "15    WASHINGTON (Reuters) - U.S. President Donald T...  center  \n",
       "133   Representative Nancy Pelosi (D., Calif.), who ...   right  \n",
       "134   Representative Nancy Pelosi (D., Calif.), who ...    left  \n",
       "197   Defense Secretary James Mattis, the last of a ...   right  \n",
       "...                                                 ...     ...  \n",
       "7538  Oct. 25, 2012: A sign attracts job-seekers dur...   right  \n",
       "7628  Who was that man, and what has he done with Mi...   right  \n",
       "7632  Who was that man, and what has he done with Mi...   right  \n",
       "7677  More than a dozen Justice Department and Burea...    left  \n",
       "7678  More than a dozen Justice Department and Burea...    left  \n",
       "\n",
       "[90 rows x 3 columns]"
      ],
      "text/html": [
       "<div>\n",
       "<style scoped>\n",
       "    .dataframe tbody tr th:only-of-type {\n",
       "        vertical-align: middle;\n",
       "    }\n",
       "\n",
       "    .dataframe tbody tr th {\n",
       "        vertical-align: top;\n",
       "    }\n",
       "\n",
       "    .dataframe thead th {\n",
       "        text-align: right;\n",
       "    }\n",
       "</style>\n",
       "<table border=\"1\" class=\"dataframe\">\n",
       "  <thead>\n",
       "    <tr style=\"text-align: right;\">\n",
       "      <th></th>\n",
       "      <th>title</th>\n",
       "      <th>body</th>\n",
       "      <th>leaning</th>\n",
       "    </tr>\n",
       "  </thead>\n",
       "  <tbody>\n",
       "    <tr>\n",
       "      <th>14</th>\n",
       "      <td>Trump delays State of the Union Address until ...</td>\n",
       "      <td>WASHINGTON (Reuters) - U.S. President Donald T...</td>\n",
       "      <td>right</td>\n",
       "    </tr>\n",
       "    <tr>\n",
       "      <th>15</th>\n",
       "      <td>Trump delays State of the Union Address until ...</td>\n",
       "      <td>WASHINGTON (Reuters) - U.S. President Donald T...</td>\n",
       "      <td>center</td>\n",
       "    </tr>\n",
       "    <tr>\n",
       "      <th>133</th>\n",
       "      <td>Pelosi: ‘Open Discussion’ Whether Trump Can Be...</td>\n",
       "      <td>Representative Nancy Pelosi (D., Calif.), who ...</td>\n",
       "      <td>right</td>\n",
       "    </tr>\n",
       "    <tr>\n",
       "      <th>134</th>\n",
       "      <td>Pelosi: ‘Open Discussion’ Whether Trump Can Be...</td>\n",
       "      <td>Representative Nancy Pelosi (D., Calif.), who ...</td>\n",
       "      <td>left</td>\n",
       "    </tr>\n",
       "    <tr>\n",
       "      <th>197</th>\n",
       "      <td>James Mattis quitting as defense secretary, ci...</td>\n",
       "      <td>Defense Secretary James Mattis, the last of a ...</td>\n",
       "      <td>right</td>\n",
       "    </tr>\n",
       "    <tr>\n",
       "      <th>...</th>\n",
       "      <td>...</td>\n",
       "      <td>...</td>\n",
       "      <td>...</td>\n",
       "    </tr>\n",
       "    <tr>\n",
       "      <th>7538</th>\n",
       "      <td>Last jobs report before election shows economy...</td>\n",
       "      <td>Oct. 25, 2012: A sign attracts job-seekers dur...</td>\n",
       "      <td>right</td>\n",
       "    </tr>\n",
       "    <tr>\n",
       "      <th>7628</th>\n",
       "      <td>Romney Dominates In First Debate</td>\n",
       "      <td>Who was that man, and what has he done with Mi...</td>\n",
       "      <td>right</td>\n",
       "    </tr>\n",
       "    <tr>\n",
       "      <th>7632</th>\n",
       "      <td>Romney Dominates In First Debate</td>\n",
       "      <td>Who was that man, and what has he done with Mi...</td>\n",
       "      <td>right</td>\n",
       "    </tr>\n",
       "    <tr>\n",
       "      <th>7677</th>\n",
       "      <td>'Fast and Furious' report slaps 14 at Justice,...</td>\n",
       "      <td>More than a dozen Justice Department and Burea...</td>\n",
       "      <td>left</td>\n",
       "    </tr>\n",
       "    <tr>\n",
       "      <th>7678</th>\n",
       "      <td>'Fast and Furious' report slaps 14 at Justice,...</td>\n",
       "      <td>More than a dozen Justice Department and Burea...</td>\n",
       "      <td>left</td>\n",
       "    </tr>\n",
       "  </tbody>\n",
       "</table>\n",
       "<p>90 rows × 3 columns</p>\n",
       "</div>"
      ]
     },
     "execution_count": 67,
     "metadata": {},
     "output_type": "execute_result"
    }
   ],
   "execution_count": 67
  },
  {
   "cell_type": "markdown",
   "id": "11",
   "metadata": {},
   "source": [
    "Dropping the duplicates."
   ]
  },
  {
   "cell_type": "code",
   "id": "12",
   "metadata": {
    "ExecuteTime": {
     "end_time": "2024-10-27T12:39:35.037137Z",
     "start_time": "2024-10-27T12:39:35.031800Z"
    }
   },
   "source": [
    "df = df.drop_duplicates(subset=\"body\")"
   ],
   "outputs": [],
   "execution_count": 68
  },
  {
   "cell_type": "markdown",
   "id": "13",
   "metadata": {},
   "source": [
    "Inspecting body length."
   ]
  },
  {
   "cell_type": "code",
   "id": "14",
   "metadata": {
    "ExecuteTime": {
     "end_time": "2024-10-27T12:39:35.584886Z",
     "start_time": "2024-10-27T12:39:35.078958Z"
    }
   },
   "source": [
    "df[\"body_length\"] = df[\"body\"].str.len()\n",
    "df[\"body_word_count\"] = df[\"body\"].str.split().str.len()\n",
    "df = df.sort_values(by=\"body_length\")\n",
    "df.head()"
   ],
   "outputs": [
    {
     "data": {
      "text/plain": [
       "                                                  title  \\\n",
       "4841  State Dept. spokeswoman sparks Twitter war wit...   \n",
       "4890     President Obama Is Fired Up and Ready to Tweet   \n",
       "4748  Donald Trump is showing a side of the GOP that...   \n",
       "1957  Incredible New Year's Celebrations Around The ...   \n",
       "2553  Senate blocks Trump from making recess appoint...   \n",
       "\n",
       "                                                   body leaning  body_length  \\\n",
       "4841                                              (CNN)    left            5   \n",
       "4890            — President Obama (@POTUS) May 18, 2015    left           39   \n",
       "4748  Like this video? Subscribe to Vox on YouTube.\\...    left          105   \n",
       "1957  From the London Eye to Athens’ Acropolis, here...    left          134   \n",
       "2553  The Senate blocked President Trump from being ...  center          144   \n",
       "\n",
       "      body_word_count  \n",
       "4841                1  \n",
       "4890                7  \n",
       "4748               19  \n",
       "1957               22  \n",
       "2553               22  "
      ],
      "text/html": [
       "<div>\n",
       "<style scoped>\n",
       "    .dataframe tbody tr th:only-of-type {\n",
       "        vertical-align: middle;\n",
       "    }\n",
       "\n",
       "    .dataframe tbody tr th {\n",
       "        vertical-align: top;\n",
       "    }\n",
       "\n",
       "    .dataframe thead th {\n",
       "        text-align: right;\n",
       "    }\n",
       "</style>\n",
       "<table border=\"1\" class=\"dataframe\">\n",
       "  <thead>\n",
       "    <tr style=\"text-align: right;\">\n",
       "      <th></th>\n",
       "      <th>title</th>\n",
       "      <th>body</th>\n",
       "      <th>leaning</th>\n",
       "      <th>body_length</th>\n",
       "      <th>body_word_count</th>\n",
       "    </tr>\n",
       "  </thead>\n",
       "  <tbody>\n",
       "    <tr>\n",
       "      <th>4841</th>\n",
       "      <td>State Dept. spokeswoman sparks Twitter war wit...</td>\n",
       "      <td>(CNN)</td>\n",
       "      <td>left</td>\n",
       "      <td>5</td>\n",
       "      <td>1</td>\n",
       "    </tr>\n",
       "    <tr>\n",
       "      <th>4890</th>\n",
       "      <td>President Obama Is Fired Up and Ready to Tweet</td>\n",
       "      <td>— President Obama (@POTUS) May 18, 2015</td>\n",
       "      <td>left</td>\n",
       "      <td>39</td>\n",
       "      <td>7</td>\n",
       "    </tr>\n",
       "    <tr>\n",
       "      <th>4748</th>\n",
       "      <td>Donald Trump is showing a side of the GOP that...</td>\n",
       "      <td>Like this video? Subscribe to Vox on YouTube.\\...</td>\n",
       "      <td>left</td>\n",
       "      <td>105</td>\n",
       "      <td>19</td>\n",
       "    </tr>\n",
       "    <tr>\n",
       "      <th>1957</th>\n",
       "      <td>Incredible New Year's Celebrations Around The ...</td>\n",
       "      <td>From the London Eye to Athens’ Acropolis, here...</td>\n",
       "      <td>left</td>\n",
       "      <td>134</td>\n",
       "      <td>22</td>\n",
       "    </tr>\n",
       "    <tr>\n",
       "      <th>2553</th>\n",
       "      <td>Senate blocks Trump from making recess appoint...</td>\n",
       "      <td>The Senate blocked President Trump from being ...</td>\n",
       "      <td>center</td>\n",
       "      <td>144</td>\n",
       "      <td>22</td>\n",
       "    </tr>\n",
       "  </tbody>\n",
       "</table>\n",
       "</div>"
      ]
     },
     "execution_count": 69,
     "metadata": {},
     "output_type": "execute_result"
    }
   ],
   "execution_count": 69
  },
  {
   "cell_type": "markdown",
   "id": "19",
   "metadata": {},
   "source": "After inspection, articles with bodies shorter than 30 words seem to contain no political value. Removing them."
  },
  {
   "cell_type": "code",
   "id": "20",
   "metadata": {
    "ExecuteTime": {
     "end_time": "2024-10-27T12:39:37.013638Z",
     "start_time": "2024-10-27T12:39:35.718804Z"
    }
   },
   "source": [
    "body_word_count_lower_bound = 30\n",
    "df = df[df[\"body_word_count\"] >= body_word_count_lower_bound]\n",
    "# Ensuring to include the last (longest) item.\n",
    "downsampled = pd.concat([df[\"body_length\"].iloc[::10], df[\"body_length\"].tail(1)]).drop_duplicates()\n",
    "downsampled.plot.bar().xaxis.set_ticks([]);"
   ],
   "outputs": [
    {
     "data": {
      "text/plain": [
       "<Figure size 640x480 with 1 Axes>"
      ],
      "image/png": "[encoded data removed]"
     },
     "metadata": {},
     "output_type": "display_data"
    }
   ],
   "execution_count": 70
  },
  {
   "cell_type": "code",
   "id": "21",
   "metadata": {
    "ExecuteTime": {
     "end_time": "2024-10-27T12:39:37.065736Z",
     "start_time": "2024-10-27T12:39:37.062284Z"
    }
   },
   "source": [
    "df[\"body_length\"].mean()"
   ],
   "outputs": [
    {
     "data": {
      "text/plain": [
       "np.float64(5006.947811447812)"
      ]
     },
     "execution_count": 71,
     "metadata": {},
     "output_type": "execute_result"
    }
   ],
   "execution_count": 71
  },
  {
   "cell_type": "markdown",
   "id": "22",
   "metadata": {},
   "source": [
    "The leaning distribution."
   ]
  },
  {
   "cell_type": "code",
   "id": "23",
   "metadata": {
    "ExecuteTime": {
     "end_time": "2024-10-27T12:39:37.366022Z",
     "start_time": "2024-10-27T12:39:37.324157Z"
    }
   },
   "source": [
    "df.groupby(\"leaning\", observed=True).size().plot.pie(autopct=\"%1.1f%%\");"
   ],
   "outputs": [
    {
     "data": {
      "text/plain": [
       "<Figure size 640x480 with 1 Axes>"
      ],
      "image/png": "[encoded data removed]"
     },
     "metadata": {},
     "output_type": "display_data"
    }
   ],
   "execution_count": 72
  },
  {
   "cell_type": "markdown",
   "id": "24",
   "metadata": {},
   "source": [
    "The distribution of body length sums per leaning."
   ]
  },
  {
   "cell_type": "code",
   "id": "25",
   "metadata": {
    "ExecuteTime": {
     "end_time": "2024-10-27T12:39:37.429584Z",
     "start_time": "2024-10-27T12:39:37.387486Z"
    }
   },
   "source": [
    "df.groupby(\"leaning\", observed=True)[\"body_length\"].sum().plot.pie(autopct=\"%1.1f%%\", ylabel=\"\");"
   ],
   "outputs": [
    {
     "data": {
      "text/plain": [
       "<Figure size 640x480 with 1 Axes>"
      ],
      "image/png": "[encoded data removed]"
     },
     "metadata": {},
     "output_type": "display_data"
    }
   ],
   "execution_count": 73
  },
  {
   "cell_type": "markdown",
   "id": "26",
   "metadata": {},
   "source": "Body length distribution by leaning."
  },
  {
   "cell_type": "code",
   "id": "27",
   "metadata": {
    "ExecuteTime": {
     "end_time": "2024-10-27T12:39:37.562298Z",
     "start_time": "2024-10-27T12:39:37.454595Z"
    }
   },
   "source": [
    "plt.figure(figsize=(10, 6))\n",
    "\n",
    "for leaning in df[\"leaning\"].unique():\n",
    "    df_leaning = df[df[\"leaning\"] == leaning]\n",
    "    downsampled = pd.concat(\n",
    "        # Ensuring to include the last (longest) item.\n",
    "        [df_leaning[\"body_length\"].iloc[::10], df_leaning[\"body_length\"].tail(1)]\n",
    "    ).drop_duplicates().reset_index(drop=True)\n",
    "    plt.plot(downsampled, label=leaning)\n",
    "\n",
    "plt.xlabel(\"downsampled index\")\n",
    "plt.ylabel(\"body length\")\n",
    "plt.title(\"body length by political leaning\")\n",
    "plt.legend(title=\"leaning\")\n",
    "plt.show()"
   ],
   "outputs": [
    {
     "name": "stdout",
     "output_type": "stream",
     "text": [
      "3656\n",
      "2832\n",
      "1234\n"
     ]
    },
    {
     "data": {
      "text/plain": [
       "<Figure size 1000x600 with 1 Axes>"
      ],
      "image/png": "[encoded data removed]"
     },
     "metadata": {},
     "output_type": "display_data"
    }
   ],
   "execution_count": 74
  },
  {
   "cell_type": "code",
   "id": "32",
   "metadata": {
    "ExecuteTime": {
     "end_time": "2024-10-27T12:39:37.856581Z",
     "start_time": "2024-10-27T12:39:37.575058Z"
    }
   },
   "source": [
    "df.to_parquet(\"../preprocessed/webis_news_bias_20.parquet\")"
   ],
   "outputs": [],
   "execution_count": 75
  }
 ],
 "metadata": {
  "kernelspec": {
   "display_name": "Python 3",
   "language": "python",
   "name": "python3"
  },
  "language_info": {
   "codemirror_mode": {
    "name": "ipython",
    "version": 2
   },
   "file_extension": ".py",
   "mimetype": "text/x-python",
   "name": "python",
   "nbconvert_exporter": "python",
   "pygments_lexer": "ipython2",
   "version": "2.7.6"
  }
 },
 "nbformat": 4,
 "nbformat_minor": 5
}
