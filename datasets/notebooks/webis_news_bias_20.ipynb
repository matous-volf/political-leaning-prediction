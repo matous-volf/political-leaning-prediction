{
 "cells": [
  {
   "cell_type": "code",
   "execution_count": null,
   "id": "0",
   "metadata": {},
   "outputs": [],
   "source": [
    "from io import StringIO\n",
    "\n",
    "import numpy as np\n",
    "import pandas as pd"
   ]
  },
  {
   "cell_type": "markdown",
   "id": "1",
   "metadata": {},
   "source": [
    "Reading the raw dataset."
   ]
  },
  {
   "cell_type": "code",
   "execution_count": null,
   "id": "2",
   "metadata": {},
   "outputs": [],
   "source": [
    "json_array = \"[\"\n",
    "with open(\"../raw/webis_news_bias_20.json\") as f:\n",
    "    json_array += \",\".join(line for line in f)\n",
    "json_array += \"]\"\n",
    "\n",
    "df = pd.read_json(StringIO(json_array))\n",
    "df"
   ]
  },
  {
   "cell_type": "markdown",
   "id": "3",
   "metadata": {},
   "source": [
    "Dropping useless columns."
   ]
  },
  {
   "cell_type": "code",
   "execution_count": null,
   "id": "4",
   "metadata": {},
   "outputs": [],
   "source": [
    "df = df.drop(columns=[\"source\", \"event_id\", \"adfontes_fair\", \"adfontes_political\", \"misc\"])"
   ]
  },
  {
   "cell_type": "markdown",
   "id": "5",
   "metadata": {},
   "source": [
    "Renaming and reordering columns."
   ]
  },
  {
   "cell_type": "code",
   "execution_count": null,
   "id": "6",
   "metadata": {},
   "outputs": [],
   "source": [
    "df = df.rename(columns={\"content\": \"body\", \"allsides_bias\": \"leaning\"})\n",
    "df = df[[\"title\", \"body\", \"leaning\"]].copy()"
   ]
  },
  {
   "cell_type": "markdown",
   "id": "7",
   "metadata": {},
   "source": [
    "Categorizing the leaning column."
   ]
  },
  {
   "cell_type": "code",
   "execution_count": null,
   "id": "8",
   "metadata": {},
   "outputs": [],
   "source": [
    "df[\"leaning\"] = df[\"leaning\"].astype(\"category\")\n",
    "df[\"leaning\"] = df[\"leaning\"].cat.rename_categories(\n",
    "    {\"From the Left\": \"left\", \"From the Center\": \"center\", \"From the Right\": \"right\"}\n",
    ")"
   ]
  },
  {
   "cell_type": "markdown",
   "id": "9",
   "metadata": {},
   "source": [
    "Printing duplicates."
   ]
  },
  {
   "cell_type": "code",
   "execution_count": null,
   "id": "10",
   "metadata": {},
   "outputs": [],
   "source": [
    "df[df[\"body\"].duplicated(keep=False)]"
   ]
  },
  {
   "cell_type": "markdown",
   "id": "11",
   "metadata": {},
   "source": [
    "Dropping the duplicates."
   ]
  },
  {
   "cell_type": "code",
   "execution_count": null,
   "id": "12",
   "metadata": {},
   "outputs": [],
   "source": [
    "df = df.drop_duplicates(subset=\"body\")"
   ]
  },
  {
   "cell_type": "markdown",
   "id": "13",
   "metadata": {},
   "source": [
    "Inspecting body length."
   ]
  },
  {
   "cell_type": "code",
   "execution_count": null,
   "id": "14",
   "metadata": {},
   "outputs": [],
   "source": [
    "df[\"body_length\"] = df[\"body\"].str.len()\n",
    "df[\"body_word_count\"] = df[\"body\"].str.split().str.len()\n",
    "df = df.sort_values(by=\"body_length\")\n",
    "df.head()"
   ]
  },
  {
   "cell_type": "code",
   "execution_count": null,
   "id": "15",
   "metadata": {},
   "outputs": [],
   "source": [
    "df.tail()"
   ]
  },
  {
   "cell_type": "code",
   "execution_count": null,
   "id": "16",
   "metadata": {},
   "outputs": [],
   "source": [
    "# Ensuring to include the last (longest) item.\n",
    "downsampled = pd.concat([df[\"body_length\"].iloc[::100], df[\"body_length\"].iloc[[-1]]]).drop_duplicates()\n",
    "downsampled.plot.bar().xaxis.set_ticks([]);"
   ]
  },
  {
   "cell_type": "markdown",
   "id": "17",
   "metadata": {},
   "source": [
    "Calculating the bounds for body length."
   ]
  },
  {
   "cell_type": "code",
   "execution_count": null,
   "id": "18",
   "metadata": {},
   "outputs": [],
   "source": [
    "q1 = np.percentile(df[\"body_length\"], 25)\n",
    "q3 = np.percentile(df[\"body_length\"], 75)\n",
    "iqr = q3 - q1\n",
    "lower_bound_multiplier = 0.5\n",
    "upper_bound_multiplier = 9\n",
    "lower_bound = q1 - lower_bound_multiplier * iqr\n",
    "upper_bound = q3 + upper_bound_multiplier * iqr\n",
    "lower_bound, upper_bound"
   ]
  },
  {
   "cell_type": "markdown",
   "id": "19",
   "metadata": {},
   "source": [
    "Removing the outliers based on the body length."
   ]
  },
  {
   "cell_type": "code",
   "execution_count": null,
   "id": "20",
   "metadata": {},
   "outputs": [],
   "source": [
    "df = df[(df[\"body_length\"] >= lower_bound) & (df[\"body_length\"] <= upper_bound)]\n",
    "# Ensuring to include the last (longest) item.\n",
    "downsampled = pd.concat([df[\"body_length\"].iloc[::100], df[\"body_length\"].iloc[[-1]]]).drop_duplicates()\n",
    "downsampled.plot.bar().xaxis.set_ticks([]);"
   ]
  },
  {
   "cell_type": "code",
   "execution_count": null,
   "id": "21",
   "metadata": {},
   "outputs": [],
   "source": [
    "df[\"body_length\"].mean()"
   ]
  },
  {
   "cell_type": "markdown",
   "id": "22",
   "metadata": {},
   "source": [
    "The leaning distribution."
   ]
  },
  {
   "cell_type": "code",
   "execution_count": null,
   "id": "23",
   "metadata": {},
   "outputs": [],
   "source": [
    "df.groupby(\"leaning\", observed=True).size().plot.pie(autopct=\"%1.1f%%\");"
   ]
  },
  {
   "cell_type": "markdown",
   "id": "24",
   "metadata": {},
   "source": [
    "The distribution of body length sums per leaning."
   ]
  },
  {
   "cell_type": "code",
   "execution_count": null,
   "id": "25",
   "metadata": {},
   "outputs": [],
   "source": [
    "df.groupby(\"leaning\", observed=True)[\"body_length\"].sum().plot.pie(autopct=\"%1.1f%%\", ylabel=\"\");"
   ]
  },
  {
   "cell_type": "markdown",
   "id": "26",
   "metadata": {},
   "source": [
    "Body length distribution of left leaning articles."
   ]
  },
  {
   "cell_type": "code",
   "execution_count": null,
   "id": "27",
   "metadata": {},
   "outputs": [],
   "source": [
    "df_leaning = df[df[\"leaning\"] == \"left\"]\n",
    "# Ensuring to include the last (longest) item.\n",
    "downsampled = pd.concat([df_leaning[\"body_length\"].iloc[::100], df_leaning[\"body_length\"].iloc[[-1]]]).drop_duplicates()\n",
    "downsampled.plot.bar().xaxis.set_ticks([]);"
   ]
  },
  {
   "cell_type": "markdown",
   "id": "28",
   "metadata": {},
   "source": [
    "Body length distribution of center leaning articles."
   ]
  },
  {
   "cell_type": "code",
   "execution_count": null,
   "id": "29",
   "metadata": {},
   "outputs": [],
   "source": [
    "df_leaning = df[df[\"leaning\"] == \"center\"]\n",
    "# Ensuring to include the last (longest) item.\n",
    "downsampled = pd.concat([df_leaning[\"body_length\"].iloc[::100], df_leaning[\"body_length\"].iloc[[-1]]]).drop_duplicates()\n",
    "downsampled.plot.bar().xaxis.set_ticks([]);"
   ]
  },
  {
   "cell_type": "markdown",
   "id": "30",
   "metadata": {},
   "source": [
    "Body length distribution of right leaning articles."
   ]
  },
  {
   "cell_type": "code",
   "execution_count": null,
   "id": "31",
   "metadata": {},
   "outputs": [],
   "source": [
    "df_leaning = df[df[\"leaning\"] == \"right\"]\n",
    "# Ensuring to include the last (longest) item.\n",
    "downsampled = pd.concat([df_leaning[\"body_length\"].iloc[::100], df_leaning[\"body_length\"].iloc[[-1]]]).drop_duplicates()\n",
    "downsampled.plot.bar().xaxis.set_ticks([]);"
   ]
  },
  {
   "cell_type": "code",
   "execution_count": null,
   "id": "32",
   "metadata": {},
   "outputs": [],
   "source": [
    "df.to_parquet(\"../preprocessed/webis_news_bias_20.parquet\")"
   ]
  }
 ],
 "metadata": {
  "kernelspec": {
   "display_name": "Python 3",
   "language": "python",
   "name": "python3"
  },
  "language_info": {
   "codemirror_mode": {
    "name": "ipython",
    "version": 2
   },
   "file_extension": ".py",
   "mimetype": "text/x-python",
   "name": "python",
   "nbconvert_exporter": "python",
   "pygments_lexer": "ipython2",
   "version": "2.7.6"
  }
 },
 "nbformat": 4,
 "nbformat_minor": 5
}
