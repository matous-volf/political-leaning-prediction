{
 "cells": [
  {
   "cell_type": "code",
   "id": "initial_id",
   "metadata": {
    "collapsed": true,
    "ExecuteTime": {
     "end_time": "2024-10-13T19:46:28.290735Z",
     "start_time": "2024-10-13T19:46:27.843008Z"
    }
   },
   "source": [
    "from io import StringIO\n",
    "import pandas as pd\n",
    "import numpy as np"
   ],
   "outputs": [],
   "execution_count": 1
  },
  {
   "metadata": {},
   "cell_type": "markdown",
   "source": "Reading the JSON:",
   "id": "e2d6eb7b8eb5ceb7"
  },
  {
   "metadata": {
    "ExecuteTime": {
     "end_time": "2024-10-13T18:04:49.002636Z",
     "start_time": "2024-10-13T18:04:48.567240Z"
    }
   },
   "cell_type": "code",
   "source": [
    "json_array = \"[\"\n",
    "with open(\"raw/webis_news_bias_20.json\") as f:\n",
    "    json_array += \",\".join(line for line in f)\n",
    "json_array += \"]\"\n",
    "\n",
    "df = pd.read_json(StringIO(json_array))\n",
    "df"
   ],
   "id": "39621b02c5594a15",
   "outputs": [
    {
     "data": {
      "text/plain": [
       "                source                                              title  \\\n",
       "0             Fox News  Trump blasts Howard Schultz, says ex-Starbucks...   \n",
       "1            USA TODAY  Trump blasts former Starbucks CEO Howard Schul...   \n",
       "2     Washington Times  Mick Mulvaney: Trump to secure border 'with or...   \n",
       "3     Washington Times  Trump says 'we'll do the emergency' if border ...   \n",
       "4             BBC News  Trump backs down to end painful shutdown tempo...   \n",
       "...                ...                                                ...   \n",
       "7770          Politico                   Ann Romney's task: Humanize Mitt   \n",
       "7771  Washington Times               'Mittigator' to make case for Romney   \n",
       "7772          Fox News  Convention-bound Ryan slams Obama for presidin...   \n",
       "7773          Politico                Ryan seeks comfort of Ron Paul fans   \n",
       "7774    CNN (Web News)    Paul to supporters: 2012 the start of a new era   \n",
       "\n",
       "      event_id adfontes_fair adfontes_political    allsides_bias  \\\n",
       "0            0          bias               bias   From the Right   \n",
       "1            0          bias            neutral  From the Center   \n",
       "2            0          bias            neutral   From the Right   \n",
       "3            0          bias            neutral   From the Right   \n",
       "4            0          bias            neutral  From the Center   \n",
       "...        ...           ...                ...              ...   \n",
       "7770         0          bias            neutral    From the Left   \n",
       "7771         0          bias            neutral   From the Right   \n",
       "7772         0          bias               bias   From the Right   \n",
       "7773         0          bias            neutral    From the Left   \n",
       "7774         0          bias            neutral    From the Left   \n",
       "\n",
       "                                                content  \\\n",
       "0     Obama administration alum Roger Fisk and Repub...   \n",
       "1     WASHINGTON – President Donald Trump took a swi...   \n",
       "2     Acting White House chief of staff Mick Mulvane...   \n",
       "3     President Trump repeated his vow Friday to dec...   \n",
       "4     President Donald Trump has yielded to politica...   \n",
       "...                                                 ...   \n",
       "7770  TAMPA, Fla. — Ann Romney will take to the podi...   \n",
       "7771  She is a gracious warrior with a kind face, a ...   \n",
       "7772  Republican VP pick on 'Special Report'\\nMaking...   \n",
       "7773  Paul Ryan said Monday he expects Ron Paul supp...   \n",
       "7774  Tampa, Florida (CNN) \\- As Rep. Ron Paul's thi...   \n",
       "\n",
       "                                                   misc  \n",
       "0     {'time': '2019-01-28 16:10:44.680484', 'topics...  \n",
       "1     {'time': 'None', 'topics': 'Election: Presiden...  \n",
       "2     {'time': 'None', 'topics': 'White House', 'aut...  \n",
       "3     {'time': 'None', 'topics': 'White House, Polit...  \n",
       "4     {'time': '2019-01-26 00:00:00', 'topics': 'Whi...  \n",
       "...                                                 ...  \n",
       "7770  {'time': '2012-08-28 04:59:14', 'topics': 'Ele...  \n",
       "7771  {'time': 'None', 'topics': 'Election: Presiden...  \n",
       "7772  {'time': '2012-08-27 00:00:00', 'topics': 'Ele...  \n",
       "7773  {'time': '2012-08-27 15:52:45', 'topics': 'Ele...  \n",
       "7774  {'time': '2012-08-26 00:00:00', 'topics': 'Ele...  \n",
       "\n",
       "[7775 rows x 8 columns]"
      ],
      "text/html": [
       "<div>\n",
       "<style scoped>\n",
       "    .dataframe tbody tr th:only-of-type {\n",
       "        vertical-align: middle;\n",
       "    }\n",
       "\n",
       "    .dataframe tbody tr th {\n",
       "        vertical-align: top;\n",
       "    }\n",
       "\n",
       "    .dataframe thead th {\n",
       "        text-align: right;\n",
       "    }\n",
       "</style>\n",
       "<table border=\"1\" class=\"dataframe\">\n",
       "  <thead>\n",
       "    <tr style=\"text-align: right;\">\n",
       "      <th></th>\n",
       "      <th>source</th>\n",
       "      <th>title</th>\n",
       "      <th>event_id</th>\n",
       "      <th>adfontes_fair</th>\n",
       "      <th>adfontes_political</th>\n",
       "      <th>allsides_bias</th>\n",
       "      <th>content</th>\n",
       "      <th>misc</th>\n",
       "    </tr>\n",
       "  </thead>\n",
       "  <tbody>\n",
       "    <tr>\n",
       "      <th>0</th>\n",
       "      <td>Fox News</td>\n",
       "      <td>Trump blasts Howard Schultz, says ex-Starbucks...</td>\n",
       "      <td>0</td>\n",
       "      <td>bias</td>\n",
       "      <td>bias</td>\n",
       "      <td>From the Right</td>\n",
       "      <td>Obama administration alum Roger Fisk and Repub...</td>\n",
       "      <td>{'time': '2019-01-28 16:10:44.680484', 'topics...</td>\n",
       "    </tr>\n",
       "    <tr>\n",
       "      <th>1</th>\n",
       "      <td>USA TODAY</td>\n",
       "      <td>Trump blasts former Starbucks CEO Howard Schul...</td>\n",
       "      <td>0</td>\n",
       "      <td>bias</td>\n",
       "      <td>neutral</td>\n",
       "      <td>From the Center</td>\n",
       "      <td>WASHINGTON – President Donald Trump took a swi...</td>\n",
       "      <td>{'time': 'None', 'topics': 'Election: Presiden...</td>\n",
       "    </tr>\n",
       "    <tr>\n",
       "      <th>2</th>\n",
       "      <td>Washington Times</td>\n",
       "      <td>Mick Mulvaney: Trump to secure border 'with or...</td>\n",
       "      <td>0</td>\n",
       "      <td>bias</td>\n",
       "      <td>neutral</td>\n",
       "      <td>From the Right</td>\n",
       "      <td>Acting White House chief of staff Mick Mulvane...</td>\n",
       "      <td>{'time': 'None', 'topics': 'White House', 'aut...</td>\n",
       "    </tr>\n",
       "    <tr>\n",
       "      <th>3</th>\n",
       "      <td>Washington Times</td>\n",
       "      <td>Trump says 'we'll do the emergency' if border ...</td>\n",
       "      <td>0</td>\n",
       "      <td>bias</td>\n",
       "      <td>neutral</td>\n",
       "      <td>From the Right</td>\n",
       "      <td>President Trump repeated his vow Friday to dec...</td>\n",
       "      <td>{'time': 'None', 'topics': 'White House, Polit...</td>\n",
       "    </tr>\n",
       "    <tr>\n",
       "      <th>4</th>\n",
       "      <td>BBC News</td>\n",
       "      <td>Trump backs down to end painful shutdown tempo...</td>\n",
       "      <td>0</td>\n",
       "      <td>bias</td>\n",
       "      <td>neutral</td>\n",
       "      <td>From the Center</td>\n",
       "      <td>President Donald Trump has yielded to politica...</td>\n",
       "      <td>{'time': '2019-01-26 00:00:00', 'topics': 'Whi...</td>\n",
       "    </tr>\n",
       "    <tr>\n",
       "      <th>...</th>\n",
       "      <td>...</td>\n",
       "      <td>...</td>\n",
       "      <td>...</td>\n",
       "      <td>...</td>\n",
       "      <td>...</td>\n",
       "      <td>...</td>\n",
       "      <td>...</td>\n",
       "      <td>...</td>\n",
       "    </tr>\n",
       "    <tr>\n",
       "      <th>7770</th>\n",
       "      <td>Politico</td>\n",
       "      <td>Ann Romney's task: Humanize Mitt</td>\n",
       "      <td>0</td>\n",
       "      <td>bias</td>\n",
       "      <td>neutral</td>\n",
       "      <td>From the Left</td>\n",
       "      <td>TAMPA, Fla. — Ann Romney will take to the podi...</td>\n",
       "      <td>{'time': '2012-08-28 04:59:14', 'topics': 'Ele...</td>\n",
       "    </tr>\n",
       "    <tr>\n",
       "      <th>7771</th>\n",
       "      <td>Washington Times</td>\n",
       "      <td>'Mittigator' to make case for Romney</td>\n",
       "      <td>0</td>\n",
       "      <td>bias</td>\n",
       "      <td>neutral</td>\n",
       "      <td>From the Right</td>\n",
       "      <td>She is a gracious warrior with a kind face, a ...</td>\n",
       "      <td>{'time': 'None', 'topics': 'Election: Presiden...</td>\n",
       "    </tr>\n",
       "    <tr>\n",
       "      <th>7772</th>\n",
       "      <td>Fox News</td>\n",
       "      <td>Convention-bound Ryan slams Obama for presidin...</td>\n",
       "      <td>0</td>\n",
       "      <td>bias</td>\n",
       "      <td>bias</td>\n",
       "      <td>From the Right</td>\n",
       "      <td>Republican VP pick on 'Special Report'\\nMaking...</td>\n",
       "      <td>{'time': '2012-08-27 00:00:00', 'topics': 'Ele...</td>\n",
       "    </tr>\n",
       "    <tr>\n",
       "      <th>7773</th>\n",
       "      <td>Politico</td>\n",
       "      <td>Ryan seeks comfort of Ron Paul fans</td>\n",
       "      <td>0</td>\n",
       "      <td>bias</td>\n",
       "      <td>neutral</td>\n",
       "      <td>From the Left</td>\n",
       "      <td>Paul Ryan said Monday he expects Ron Paul supp...</td>\n",
       "      <td>{'time': '2012-08-27 15:52:45', 'topics': 'Ele...</td>\n",
       "    </tr>\n",
       "    <tr>\n",
       "      <th>7774</th>\n",
       "      <td>CNN (Web News)</td>\n",
       "      <td>Paul to supporters: 2012 the start of a new era</td>\n",
       "      <td>0</td>\n",
       "      <td>bias</td>\n",
       "      <td>neutral</td>\n",
       "      <td>From the Left</td>\n",
       "      <td>Tampa, Florida (CNN) \\- As Rep. Ron Paul's thi...</td>\n",
       "      <td>{'time': '2012-08-26 00:00:00', 'topics': 'Ele...</td>\n",
       "    </tr>\n",
       "  </tbody>\n",
       "</table>\n",
       "<p>7775 rows × 8 columns</p>\n",
       "</div>"
      ]
     },
     "execution_count": 284,
     "metadata": {},
     "output_type": "execute_result"
    }
   ],
   "execution_count": 284
  },
  {
   "metadata": {},
   "cell_type": "markdown",
   "source": "Dropping useless columns:",
   "id": "499e4ecf8f153753"
  },
  {
   "metadata": {
    "ExecuteTime": {
     "end_time": "2024-10-13T18:04:49.084669Z",
     "start_time": "2024-10-13T18:04:49.072730Z"
    }
   },
   "cell_type": "code",
   "source": "df.drop(columns=[\"source\", \"event_id\", \"adfontes_fair\", \"adfontes_political\", \"misc\"], inplace=True)",
   "id": "85bc52c9d6f688b5",
   "outputs": [],
   "execution_count": 285
  },
  {
   "metadata": {},
   "cell_type": "markdown",
   "source": "Renaming and categorizing the leaning column:",
   "id": "ff74b5886a73a114"
  },
  {
   "metadata": {
    "ExecuteTime": {
     "end_time": "2024-10-13T18:04:49.154641Z",
     "start_time": "2024-10-13T18:04:49.145853Z"
    }
   },
   "cell_type": "code",
   "source": [
    "df.rename(columns={\"allsides_bias\": \"leaning\"}, inplace=True)\n",
    "df[\"leaning\"] = df[\"leaning\"].astype(\"category\")\n",
    "df[\"leaning\"] = df[\"leaning\"].cat.rename_categories(\n",
    "    {\"From the Left\": \"left\", \"From the Center\": \"center\", \"From the Right\": \"right\"}\n",
    ")"
   ],
   "id": "53824a785418f400",
   "outputs": [],
   "execution_count": 286
  },
  {
   "metadata": {},
   "cell_type": "markdown",
   "source": "Reordering the columns:",
   "id": "5465e1bf966d20c5"
  },
  {
   "metadata": {
    "ExecuteTime": {
     "end_time": "2024-10-13T18:04:49.208578Z",
     "start_time": "2024-10-13T18:04:49.196966Z"
    }
   },
   "cell_type": "code",
   "source": [
    "df = df[[\"title\", \"content\", \"leaning\"]].copy()\n",
    "df"
   ],
   "id": "5881d81f1b833784",
   "outputs": [
    {
     "data": {
      "text/plain": [
       "                                                  title  \\\n",
       "0     Trump blasts Howard Schultz, says ex-Starbucks...   \n",
       "1     Trump blasts former Starbucks CEO Howard Schul...   \n",
       "2     Mick Mulvaney: Trump to secure border 'with or...   \n",
       "3     Trump says 'we'll do the emergency' if border ...   \n",
       "4     Trump backs down to end painful shutdown tempo...   \n",
       "...                                                 ...   \n",
       "7770                   Ann Romney's task: Humanize Mitt   \n",
       "7771               'Mittigator' to make case for Romney   \n",
       "7772  Convention-bound Ryan slams Obama for presidin...   \n",
       "7773                Ryan seeks comfort of Ron Paul fans   \n",
       "7774    Paul to supporters: 2012 the start of a new era   \n",
       "\n",
       "                                                content leaning  \n",
       "0     Obama administration alum Roger Fisk and Repub...   right  \n",
       "1     WASHINGTON – President Donald Trump took a swi...  center  \n",
       "2     Acting White House chief of staff Mick Mulvane...   right  \n",
       "3     President Trump repeated his vow Friday to dec...   right  \n",
       "4     President Donald Trump has yielded to politica...  center  \n",
       "...                                                 ...     ...  \n",
       "7770  TAMPA, Fla. — Ann Romney will take to the podi...    left  \n",
       "7771  She is a gracious warrior with a kind face, a ...   right  \n",
       "7772  Republican VP pick on 'Special Report'\\nMaking...   right  \n",
       "7773  Paul Ryan said Monday he expects Ron Paul supp...    left  \n",
       "7774  Tampa, Florida (CNN) \\- As Rep. Ron Paul's thi...    left  \n",
       "\n",
       "[7775 rows x 3 columns]"
      ],
      "text/html": [
       "<div>\n",
       "<style scoped>\n",
       "    .dataframe tbody tr th:only-of-type {\n",
       "        vertical-align: middle;\n",
       "    }\n",
       "\n",
       "    .dataframe tbody tr th {\n",
       "        vertical-align: top;\n",
       "    }\n",
       "\n",
       "    .dataframe thead th {\n",
       "        text-align: right;\n",
       "    }\n",
       "</style>\n",
       "<table border=\"1\" class=\"dataframe\">\n",
       "  <thead>\n",
       "    <tr style=\"text-align: right;\">\n",
       "      <th></th>\n",
       "      <th>title</th>\n",
       "      <th>content</th>\n",
       "      <th>leaning</th>\n",
       "    </tr>\n",
       "  </thead>\n",
       "  <tbody>\n",
       "    <tr>\n",
       "      <th>0</th>\n",
       "      <td>Trump blasts Howard Schultz, says ex-Starbucks...</td>\n",
       "      <td>Obama administration alum Roger Fisk and Repub...</td>\n",
       "      <td>right</td>\n",
       "    </tr>\n",
       "    <tr>\n",
       "      <th>1</th>\n",
       "      <td>Trump blasts former Starbucks CEO Howard Schul...</td>\n",
       "      <td>WASHINGTON – President Donald Trump took a swi...</td>\n",
       "      <td>center</td>\n",
       "    </tr>\n",
       "    <tr>\n",
       "      <th>2</th>\n",
       "      <td>Mick Mulvaney: Trump to secure border 'with or...</td>\n",
       "      <td>Acting White House chief of staff Mick Mulvane...</td>\n",
       "      <td>right</td>\n",
       "    </tr>\n",
       "    <tr>\n",
       "      <th>3</th>\n",
       "      <td>Trump says 'we'll do the emergency' if border ...</td>\n",
       "      <td>President Trump repeated his vow Friday to dec...</td>\n",
       "      <td>right</td>\n",
       "    </tr>\n",
       "    <tr>\n",
       "      <th>4</th>\n",
       "      <td>Trump backs down to end painful shutdown tempo...</td>\n",
       "      <td>President Donald Trump has yielded to politica...</td>\n",
       "      <td>center</td>\n",
       "    </tr>\n",
       "    <tr>\n",
       "      <th>...</th>\n",
       "      <td>...</td>\n",
       "      <td>...</td>\n",
       "      <td>...</td>\n",
       "    </tr>\n",
       "    <tr>\n",
       "      <th>7770</th>\n",
       "      <td>Ann Romney's task: Humanize Mitt</td>\n",
       "      <td>TAMPA, Fla. — Ann Romney will take to the podi...</td>\n",
       "      <td>left</td>\n",
       "    </tr>\n",
       "    <tr>\n",
       "      <th>7771</th>\n",
       "      <td>'Mittigator' to make case for Romney</td>\n",
       "      <td>She is a gracious warrior with a kind face, a ...</td>\n",
       "      <td>right</td>\n",
       "    </tr>\n",
       "    <tr>\n",
       "      <th>7772</th>\n",
       "      <td>Convention-bound Ryan slams Obama for presidin...</td>\n",
       "      <td>Republican VP pick on 'Special Report'\\nMaking...</td>\n",
       "      <td>right</td>\n",
       "    </tr>\n",
       "    <tr>\n",
       "      <th>7773</th>\n",
       "      <td>Ryan seeks comfort of Ron Paul fans</td>\n",
       "      <td>Paul Ryan said Monday he expects Ron Paul supp...</td>\n",
       "      <td>left</td>\n",
       "    </tr>\n",
       "    <tr>\n",
       "      <th>7774</th>\n",
       "      <td>Paul to supporters: 2012 the start of a new era</td>\n",
       "      <td>Tampa, Florida (CNN) \\- As Rep. Ron Paul's thi...</td>\n",
       "      <td>left</td>\n",
       "    </tr>\n",
       "  </tbody>\n",
       "</table>\n",
       "<p>7775 rows × 3 columns</p>\n",
       "</div>"
      ]
     },
     "execution_count": 287,
     "metadata": {},
     "output_type": "execute_result"
    }
   ],
   "execution_count": 287
  },
  {
   "metadata": {},
   "cell_type": "markdown",
   "source": "Printing duplicates:",
   "id": "bba4aa39fde4b1cb"
  },
  {
   "metadata": {
    "ExecuteTime": {
     "end_time": "2024-10-13T18:04:49.310661Z",
     "start_time": "2024-10-13T18:04:49.281832Z"
    }
   },
   "cell_type": "code",
   "source": "df[df[\"content\"].duplicated(keep=False)]",
   "id": "b53a4fe6460a91d4",
   "outputs": [
    {
     "data": {
      "text/plain": [
       "                                                  title  \\\n",
       "14    Trump delays State of the Union Address until ...   \n",
       "15    Trump delays State of the Union Address until ...   \n",
       "133   Pelosi: ‘Open Discussion’ Whether Trump Can Be...   \n",
       "134   Pelosi: ‘Open Discussion’ Whether Trump Can Be...   \n",
       "197   James Mattis quitting as defense secretary, ci...   \n",
       "...                                                 ...   \n",
       "7538  Last jobs report before election shows economy...   \n",
       "7628                   Romney Dominates In First Debate   \n",
       "7632                   Romney Dominates In First Debate   \n",
       "7677  'Fast and Furious' report slaps 14 at Justice,...   \n",
       "7678  'Fast and Furious' report slaps 14 at Justice,...   \n",
       "\n",
       "                                                content leaning  \n",
       "14    WASHINGTON (Reuters) - U.S. President Donald T...   right  \n",
       "15    WASHINGTON (Reuters) - U.S. President Donald T...  center  \n",
       "133   Representative Nancy Pelosi (D., Calif.), who ...   right  \n",
       "134   Representative Nancy Pelosi (D., Calif.), who ...    left  \n",
       "197   Defense Secretary James Mattis, the last of a ...   right  \n",
       "...                                                 ...     ...  \n",
       "7538  Oct. 25, 2012: A sign attracts job-seekers dur...   right  \n",
       "7628  Who was that man, and what has he done with Mi...   right  \n",
       "7632  Who was that man, and what has he done with Mi...   right  \n",
       "7677  More than a dozen Justice Department and Burea...    left  \n",
       "7678  More than a dozen Justice Department and Burea...    left  \n",
       "\n",
       "[90 rows x 3 columns]"
      ],
      "text/html": [
       "<div>\n",
       "<style scoped>\n",
       "    .dataframe tbody tr th:only-of-type {\n",
       "        vertical-align: middle;\n",
       "    }\n",
       "\n",
       "    .dataframe tbody tr th {\n",
       "        vertical-align: top;\n",
       "    }\n",
       "\n",
       "    .dataframe thead th {\n",
       "        text-align: right;\n",
       "    }\n",
       "</style>\n",
       "<table border=\"1\" class=\"dataframe\">\n",
       "  <thead>\n",
       "    <tr style=\"text-align: right;\">\n",
       "      <th></th>\n",
       "      <th>title</th>\n",
       "      <th>content</th>\n",
       "      <th>leaning</th>\n",
       "    </tr>\n",
       "  </thead>\n",
       "  <tbody>\n",
       "    <tr>\n",
       "      <th>14</th>\n",
       "      <td>Trump delays State of the Union Address until ...</td>\n",
       "      <td>WASHINGTON (Reuters) - U.S. President Donald T...</td>\n",
       "      <td>right</td>\n",
       "    </tr>\n",
       "    <tr>\n",
       "      <th>15</th>\n",
       "      <td>Trump delays State of the Union Address until ...</td>\n",
       "      <td>WASHINGTON (Reuters) - U.S. President Donald T...</td>\n",
       "      <td>center</td>\n",
       "    </tr>\n",
       "    <tr>\n",
       "      <th>133</th>\n",
       "      <td>Pelosi: ‘Open Discussion’ Whether Trump Can Be...</td>\n",
       "      <td>Representative Nancy Pelosi (D., Calif.), who ...</td>\n",
       "      <td>right</td>\n",
       "    </tr>\n",
       "    <tr>\n",
       "      <th>134</th>\n",
       "      <td>Pelosi: ‘Open Discussion’ Whether Trump Can Be...</td>\n",
       "      <td>Representative Nancy Pelosi (D., Calif.), who ...</td>\n",
       "      <td>left</td>\n",
       "    </tr>\n",
       "    <tr>\n",
       "      <th>197</th>\n",
       "      <td>James Mattis quitting as defense secretary, ci...</td>\n",
       "      <td>Defense Secretary James Mattis, the last of a ...</td>\n",
       "      <td>right</td>\n",
       "    </tr>\n",
       "    <tr>\n",
       "      <th>...</th>\n",
       "      <td>...</td>\n",
       "      <td>...</td>\n",
       "      <td>...</td>\n",
       "    </tr>\n",
       "    <tr>\n",
       "      <th>7538</th>\n",
       "      <td>Last jobs report before election shows economy...</td>\n",
       "      <td>Oct. 25, 2012: A sign attracts job-seekers dur...</td>\n",
       "      <td>right</td>\n",
       "    </tr>\n",
       "    <tr>\n",
       "      <th>7628</th>\n",
       "      <td>Romney Dominates In First Debate</td>\n",
       "      <td>Who was that man, and what has he done with Mi...</td>\n",
       "      <td>right</td>\n",
       "    </tr>\n",
       "    <tr>\n",
       "      <th>7632</th>\n",
       "      <td>Romney Dominates In First Debate</td>\n",
       "      <td>Who was that man, and what has he done with Mi...</td>\n",
       "      <td>right</td>\n",
       "    </tr>\n",
       "    <tr>\n",
       "      <th>7677</th>\n",
       "      <td>'Fast and Furious' report slaps 14 at Justice,...</td>\n",
       "      <td>More than a dozen Justice Department and Burea...</td>\n",
       "      <td>left</td>\n",
       "    </tr>\n",
       "    <tr>\n",
       "      <th>7678</th>\n",
       "      <td>'Fast and Furious' report slaps 14 at Justice,...</td>\n",
       "      <td>More than a dozen Justice Department and Burea...</td>\n",
       "      <td>left</td>\n",
       "    </tr>\n",
       "  </tbody>\n",
       "</table>\n",
       "<p>90 rows × 3 columns</p>\n",
       "</div>"
      ]
     },
     "execution_count": 288,
     "metadata": {},
     "output_type": "execute_result"
    }
   ],
   "execution_count": 288
  },
  {
   "metadata": {},
   "cell_type": "markdown",
   "source": "Dropping the duplicates:",
   "id": "b8706efc527042c4"
  },
  {
   "metadata": {
    "ExecuteTime": {
     "end_time": "2024-10-13T18:04:49.367874Z",
     "start_time": "2024-10-13T18:04:49.361844Z"
    }
   },
   "cell_type": "code",
   "source": "df.drop_duplicates(subset=\"content\", inplace=True)",
   "id": "f7db3de6e1cb4e84",
   "outputs": [],
   "execution_count": 289
  },
  {
   "metadata": {},
   "cell_type": "markdown",
   "source": "Inspecting content length:",
   "id": "14c1f5bed0ccf91e"
  },
  {
   "metadata": {
    "ExecuteTime": {
     "end_time": "2024-10-13T18:04:50.283937Z",
     "start_time": "2024-10-13T18:04:49.460172Z"
    }
   },
   "cell_type": "code",
   "source": [
    "df[\"content_length\"] = df[\"content\"].str.len()\n",
    "df[\"content_word_count\"] = df[\"content\"].str.split().str.len()\n",
    "df.sort_values(by=\"content_length\", ascending=False).head()"
   ],
   "id": "e6bf63bc83e7dd03",
   "outputs": [
    {
     "data": {
      "text/plain": [
       "                                                  title  \\\n",
       "5311  Zephyr Teachout, Hands Up United and John Oliv...   \n",
       "3327  The Perfect Weapon: How Russian Cyberpower Inv...   \n",
       "4385         Obama’s State of the Union wins and losses   \n",
       "2807                                                      \n",
       "881                          David Hogg, After Parkland   \n",
       "\n",
       "                                                content leaning  \\\n",
       "5311  You will receive occasional promotional offers...    left   \n",
       "3327  WASHINGTON — When Special Agent Adrian Hawkins...    left   \n",
       "4385  For six consecutive years, President Barack Ob...    left   \n",
       "2807  Former FBI director James Comey’s testimony in...  center   \n",
       "881   At 2:30 on February 14, David Hogg was not yet...    left   \n",
       "\n",
       "      content_length  content_word_count  \n",
       "5311          439509               69312  \n",
       "3327           46681                7627  \n",
       "4385           44838                7395  \n",
       "2807           43326                7116  \n",
       "881            40913                7155  "
      ],
      "text/html": [
       "<div>\n",
       "<style scoped>\n",
       "    .dataframe tbody tr th:only-of-type {\n",
       "        vertical-align: middle;\n",
       "    }\n",
       "\n",
       "    .dataframe tbody tr th {\n",
       "        vertical-align: top;\n",
       "    }\n",
       "\n",
       "    .dataframe thead th {\n",
       "        text-align: right;\n",
       "    }\n",
       "</style>\n",
       "<table border=\"1\" class=\"dataframe\">\n",
       "  <thead>\n",
       "    <tr style=\"text-align: right;\">\n",
       "      <th></th>\n",
       "      <th>title</th>\n",
       "      <th>content</th>\n",
       "      <th>leaning</th>\n",
       "      <th>content_length</th>\n",
       "      <th>content_word_count</th>\n",
       "    </tr>\n",
       "  </thead>\n",
       "  <tbody>\n",
       "    <tr>\n",
       "      <th>5311</th>\n",
       "      <td>Zephyr Teachout, Hands Up United and John Oliv...</td>\n",
       "      <td>You will receive occasional promotional offers...</td>\n",
       "      <td>left</td>\n",
       "      <td>439509</td>\n",
       "      <td>69312</td>\n",
       "    </tr>\n",
       "    <tr>\n",
       "      <th>3327</th>\n",
       "      <td>The Perfect Weapon: How Russian Cyberpower Inv...</td>\n",
       "      <td>WASHINGTON — When Special Agent Adrian Hawkins...</td>\n",
       "      <td>left</td>\n",
       "      <td>46681</td>\n",
       "      <td>7627</td>\n",
       "    </tr>\n",
       "    <tr>\n",
       "      <th>4385</th>\n",
       "      <td>Obama’s State of the Union wins and losses</td>\n",
       "      <td>For six consecutive years, President Barack Ob...</td>\n",
       "      <td>left</td>\n",
       "      <td>44838</td>\n",
       "      <td>7395</td>\n",
       "    </tr>\n",
       "    <tr>\n",
       "      <th>2807</th>\n",
       "      <td></td>\n",
       "      <td>Former FBI director James Comey’s testimony in...</td>\n",
       "      <td>center</td>\n",
       "      <td>43326</td>\n",
       "      <td>7116</td>\n",
       "    </tr>\n",
       "    <tr>\n",
       "      <th>881</th>\n",
       "      <td>David Hogg, After Parkland</td>\n",
       "      <td>At 2:30 on February 14, David Hogg was not yet...</td>\n",
       "      <td>left</td>\n",
       "      <td>40913</td>\n",
       "      <td>7155</td>\n",
       "    </tr>\n",
       "  </tbody>\n",
       "</table>\n",
       "</div>"
      ]
     },
     "execution_count": 290,
     "metadata": {},
     "output_type": "execute_result"
    }
   ],
   "execution_count": 290
  },
  {
   "metadata": {
    "ExecuteTime": {
     "end_time": "2024-10-13T18:04:50.717689Z",
     "start_time": "2024-10-13T18:04:50.707590Z"
    }
   },
   "cell_type": "code",
   "source": "df.sort_values(by=\"content_length\").head()",
   "id": "9e4777b88c813eff",
   "outputs": [
    {
     "data": {
      "text/plain": [
       "                                                  title  \\\n",
       "4841  State Dept. spokeswoman sparks Twitter war wit...   \n",
       "4890     President Obama Is Fired Up and Ready to Tweet   \n",
       "4748  Donald Trump is showing a side of the GOP that...   \n",
       "1957  Incredible New Year's Celebrations Around The ...   \n",
       "2553  Senate blocks Trump from making recess appoint...   \n",
       "\n",
       "                                                content leaning  \\\n",
       "4841                                              (CNN)    left   \n",
       "4890            — President Obama (@POTUS) May 18, 2015    left   \n",
       "4748  Like this video? Subscribe to Vox on YouTube.\\...    left   \n",
       "1957  From the London Eye to Athens’ Acropolis, here...    left   \n",
       "2553  The Senate blocked President Trump from being ...  center   \n",
       "\n",
       "      content_length  content_word_count  \n",
       "4841               5                   1  \n",
       "4890              39                   7  \n",
       "4748             105                  19  \n",
       "1957             134                  22  \n",
       "2553             144                  22  "
      ],
      "text/html": [
       "<div>\n",
       "<style scoped>\n",
       "    .dataframe tbody tr th:only-of-type {\n",
       "        vertical-align: middle;\n",
       "    }\n",
       "\n",
       "    .dataframe tbody tr th {\n",
       "        vertical-align: top;\n",
       "    }\n",
       "\n",
       "    .dataframe thead th {\n",
       "        text-align: right;\n",
       "    }\n",
       "</style>\n",
       "<table border=\"1\" class=\"dataframe\">\n",
       "  <thead>\n",
       "    <tr style=\"text-align: right;\">\n",
       "      <th></th>\n",
       "      <th>title</th>\n",
       "      <th>content</th>\n",
       "      <th>leaning</th>\n",
       "      <th>content_length</th>\n",
       "      <th>content_word_count</th>\n",
       "    </tr>\n",
       "  </thead>\n",
       "  <tbody>\n",
       "    <tr>\n",
       "      <th>4841</th>\n",
       "      <td>State Dept. spokeswoman sparks Twitter war wit...</td>\n",
       "      <td>(CNN)</td>\n",
       "      <td>left</td>\n",
       "      <td>5</td>\n",
       "      <td>1</td>\n",
       "    </tr>\n",
       "    <tr>\n",
       "      <th>4890</th>\n",
       "      <td>President Obama Is Fired Up and Ready to Tweet</td>\n",
       "      <td>— President Obama (@POTUS) May 18, 2015</td>\n",
       "      <td>left</td>\n",
       "      <td>39</td>\n",
       "      <td>7</td>\n",
       "    </tr>\n",
       "    <tr>\n",
       "      <th>4748</th>\n",
       "      <td>Donald Trump is showing a side of the GOP that...</td>\n",
       "      <td>Like this video? Subscribe to Vox on YouTube.\\...</td>\n",
       "      <td>left</td>\n",
       "      <td>105</td>\n",
       "      <td>19</td>\n",
       "    </tr>\n",
       "    <tr>\n",
       "      <th>1957</th>\n",
       "      <td>Incredible New Year's Celebrations Around The ...</td>\n",
       "      <td>From the London Eye to Athens’ Acropolis, here...</td>\n",
       "      <td>left</td>\n",
       "      <td>134</td>\n",
       "      <td>22</td>\n",
       "    </tr>\n",
       "    <tr>\n",
       "      <th>2553</th>\n",
       "      <td>Senate blocks Trump from making recess appoint...</td>\n",
       "      <td>The Senate blocked President Trump from being ...</td>\n",
       "      <td>center</td>\n",
       "      <td>144</td>\n",
       "      <td>22</td>\n",
       "    </tr>\n",
       "  </tbody>\n",
       "</table>\n",
       "</div>"
      ]
     },
     "execution_count": 291,
     "metadata": {},
     "output_type": "execute_result"
    }
   ],
   "execution_count": 291
  },
  {
   "metadata": {},
   "cell_type": "markdown",
   "source": "Calculating the bounds for content length:",
   "id": "5323f5ae2811d098"
  },
  {
   "metadata": {
    "ExecuteTime": {
     "end_time": "2024-10-13T18:04:50.777022Z",
     "start_time": "2024-10-13T18:04:50.772027Z"
    }
   },
   "cell_type": "code",
   "source": [
    "q1 = np.percentile(df[\"content_length\"], 25)\n",
    "q3 = np.percentile(df[\"content_length\"], 75)\n",
    "iqr = q3 - q1\n",
    "lower_bound_multiplier = 0.5\n",
    "upper_bound_multiplier = 9\n",
    "lower_bound = q1 - lower_bound_multiplier * iqr\n",
    "upper_bound = q3 + upper_bound_multiplier * iqr\n",
    "lower_bound, upper_bound"
   ],
   "id": "62b6be1567d984c1",
   "outputs": [
    {
     "data": {
      "text/plain": [
       "(np.float64(887.5), np.float64(40005.25))"
      ]
     },
     "execution_count": 292,
     "metadata": {},
     "output_type": "execute_result"
    }
   ],
   "execution_count": 292
  },
  {
   "metadata": {},
   "cell_type": "markdown",
   "source": "Removing the outliers based on the content length:",
   "id": "9e2dc97e6457ff3e"
  },
  {
   "metadata": {
    "ExecuteTime": {
     "end_time": "2024-10-13T18:04:51.428993Z",
     "start_time": "2024-10-13T18:04:50.871632Z"
    }
   },
   "cell_type": "code",
   "source": [
    "df = df[(df[\"content_length\"] >= lower_bound) & (df[\"content_length\"] <= upper_bound)]\n",
    "content_length = df[\"content_length\"].sort_values()\n",
    "# Ensuring to include the last (longest) item.\n",
    "downsampled = pd.concat([content_length.iloc[::100], content_length.iloc[[-1]]]).drop_duplicates()\n",
    "downsampled.plot.bar()"
   ],
   "id": "9db0018035c3548f",
   "outputs": [
    {
     "data": {
      "text/plain": [
       "<Axes: >"
      ]
     },
     "execution_count": 293,
     "metadata": {},
     "output_type": "execute_result"
    },
    {
     "data": {
      "text/plain": [
       "<Figure size 640x480 with 1 Axes>"
      ],
      "image/png": "[encoded data removed]"
     },
     "metadata": {},
     "output_type": "display_data"
    }
   ],
   "execution_count": 293
  },
  {
   "metadata": {},
   "cell_type": "markdown",
   "source": "The leaning distribution:",
   "id": "1026544a88bb530"
  },
  {
   "metadata": {
    "ExecuteTime": {
     "end_time": "2024-10-13T18:04:51.566096Z",
     "start_time": "2024-10-13T18:04:51.503022Z"
    }
   },
   "cell_type": "code",
   "source": "df.groupby(\"leaning\", observed=True).size().plot.pie(autopct=\"%1.1f%%\");",
   "id": "ef58fbb946edfd59",
   "outputs": [
    {
     "data": {
      "text/plain": [
       "<Figure size 640x480 with 1 Axes>"
      ],
      "image/png": "[encoded data removed]"
     },
     "metadata": {},
     "output_type": "display_data"
    }
   ],
   "execution_count": 294
  },
  {
   "metadata": {
    "ExecuteTime": {
     "end_time": "2024-10-13T18:04:52.707475Z",
     "start_time": "2024-10-13T18:04:51.580758Z"
    }
   },
   "cell_type": "code",
   "source": "df.to_csv(\"preprocessed/webis_news_bias_20.csv\")",
   "id": "ab59ee4867f478e1",
   "outputs": [],
   "execution_count": 295
  },
  {
   "metadata": {
    "ExecuteTime": {
     "end_time": "2024-10-13T18:24:32.147115Z",
     "start_time": "2024-10-13T18:24:32.124012Z"
    }
   },
   "cell_type": "code",
   "source": [
    "mean_value = df[\"content_length\"].mean()\n",
    "\n",
    "# Find the row where the value is closest to the mean\n",
    "closest_row = df.iloc[(df[\"content_length\"] - mean_value).abs().idxmin()]\n",
    "\n",
    "closest_row\n"
   ],
   "id": "fd8f743cc1add55",
   "outputs": [
    {
     "data": {
      "text/plain": [
       "title                 Obama warns disabled veterans prolonged seques...\n",
       "content               Saturday, Aug.10, 2013: President Obama speaks...\n",
       "leaning                                                           right\n",
       "content_length                                                     3568\n",
       "content_word_count                                                  571\n",
       "Name: 6625, dtype: object"
      ]
     },
     "execution_count": 302,
     "metadata": {},
     "output_type": "execute_result"
    }
   ],
   "execution_count": 302
  }
 ],
 "metadata": {
  "kernelspec": {
   "display_name": "Python 3",
   "language": "python",
   "name": "python3"
  },
  "language_info": {
   "codemirror_mode": {
    "name": "ipython",
    "version": 2
   },
   "file_extension": ".py",
   "mimetype": "text/x-python",
   "name": "python",
   "nbconvert_exporter": "python",
   "pygments_lexer": "ipython2",
   "version": "2.7.6"
  }
 },
 "nbformat": 4,
 "nbformat_minor": 5
}
