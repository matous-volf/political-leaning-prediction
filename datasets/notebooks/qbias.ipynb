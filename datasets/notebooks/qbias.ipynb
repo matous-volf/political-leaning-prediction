{
 "cells": [
  {
   "cell_type": "code",
   "id": "0",
   "metadata": {
    "ExecuteTime": {
     "end_time": "2024-10-27T12:30:42.396664Z",
     "start_time": "2024-10-27T12:30:42.392173Z"
    }
   },
   "source": [
    "import pandas as pd\n",
    "from matplotlib import pyplot as plt"
   ],
   "outputs": [],
   "execution_count": 51
  },
  {
   "cell_type": "markdown",
   "id": "1",
   "metadata": {},
   "source": [
    "Reading the raw dataset."
   ]
  },
  {
   "cell_type": "code",
   "id": "2",
   "metadata": {
    "ExecuteTime": {
     "end_time": "2024-10-27T12:30:42.623374Z",
     "start_time": "2024-10-27T12:30:42.476057Z"
    }
   },
   "source": [
    "df = pd.read_csv(open(\"../raw/qbias.csv\"), encoding=\"utf-8\")\n",
    "df"
   ],
   "outputs": [
    {
     "data": {
      "text/plain": [
       "       Unnamed: 0                                              title  \\\n",
       "0               0           Gun Violence Over Fourth of July Weekend   \n",
       "1               1           Gun Violence Over Fourth of July Weekend   \n",
       "2               2           Gun Violence Over Fourth of July Weekend   \n",
       "3               3  Yellen Warns Congress of 'Economic Recession' ...   \n",
       "4               4  Yellen Warns Congress of 'Economic Recession' ...   \n",
       "...           ...                                                ...   \n",
       "21749       21749  Biden Seeks $30 Billion For Disaster Aid And R...   \n",
       "21750       21750  Biden Seeks $30 Billion For Disaster Aid And R...   \n",
       "21751       21751                      US House Condemns QAnon Group   \n",
       "21752       21752                      US House Condemns QAnon Group   \n",
       "21753       21753                      US House Condemns QAnon Group   \n",
       "\n",
       "                                                    tags  \\\n",
       "0      ['Protests', 'Fourth Of July', 'Gun Control An...   \n",
       "1      ['Protests', 'Fourth Of July', 'Gun Control An...   \n",
       "2      ['Protests', 'Fourth Of July', 'Gun Control An...   \n",
       "3      ['Janet Yellen', 'Debt Ceiling', 'Economic Pol...   \n",
       "4      ['Janet Yellen', 'Debt Ceiling', 'Economic Pol...   \n",
       "...                                                  ...   \n",
       "21749  ['Disaster', 'Joe Biden', 'Disaster Aid', 'Afg...   \n",
       "21750  ['Disaster', 'Joe Biden', 'Disaster Aid', 'Afg...   \n",
       "21751   ['US House', 'QAnon', 'Free Speech', 'Politics']   \n",
       "21752   ['US House', 'QAnon', 'Free Speech', 'Politics']   \n",
       "21753   ['US House', 'QAnon', 'Free Speech', 'Politics']   \n",
       "\n",
       "                                                 heading  \\\n",
       "0      Chicago Gun Violence Spikes and Increasingly F...   \n",
       "1      ‘Bullets just came from nowhere’: Fourth of Ju...   \n",
       "2      Dozens of shootings across US mark bloody July...   \n",
       "3      Federal Government Will Run Out of Cash on Oct...   \n",
       "4      Yellen tells Congress that U.S. will run out o...   \n",
       "...                                                  ...   \n",
       "21749  White House asks Congress to pass emergency fu...   \n",
       "21750  Biden wants $30B for disaster aid, Afghan rese...   \n",
       "21751  Seventeen Republican congressmen and Justin Am...   \n",
       "21752  Why did some Republicans balk at a resolution ...   \n",
       "21753  U.S. House condemns 'QAnon' conspiracy theory;...   \n",
       "\n",
       "                      source  \\\n",
       "0      New York Times (News)   \n",
       "1            Chicago Tribune   \n",
       "2       New York Post (News)   \n",
       "3            The Epoch Times   \n",
       "4            Washington Post   \n",
       "...                      ...   \n",
       "21749        Washington Post   \n",
       "21750    Washington Examiner   \n",
       "21751    Washington Examiner   \n",
       "21752      NBC News (Online)   \n",
       "21753                Reuters   \n",
       "\n",
       "                                                    text bias_rating  \n",
       "0      As Yasmin Miller drove home from a laundromat ...        left  \n",
       "1      As many Chicagoans were celebrating the Fourth...      center  \n",
       "2      The nation’s 4th of July weekend was marred by...       right  \n",
       "3      Treasury Secretary Janet Yellen on Tuesday war...       right  \n",
       "4      Treasury Secretary Janet Yellen on Tuesday tol...        left  \n",
       "...                                                  ...         ...  \n",
       "21749  The White House budget office Tuesday sent Con...        left  \n",
       "21750  The White House budget office on Tuesday urged...       right  \n",
       "21751  The House passed a resolution condemning the c...       right  \n",
       "21752  As many Americans came to realize in recent mo...        left  \n",
       "21753  The U.S. House of Representatives on Friday vo...      center  \n",
       "\n",
       "[21754 rows x 7 columns]"
      ],
      "text/html": [
       "<div>\n",
       "<style scoped>\n",
       "    .dataframe tbody tr th:only-of-type {\n",
       "        vertical-align: middle;\n",
       "    }\n",
       "\n",
       "    .dataframe tbody tr th {\n",
       "        vertical-align: top;\n",
       "    }\n",
       "\n",
       "    .dataframe thead th {\n",
       "        text-align: right;\n",
       "    }\n",
       "</style>\n",
       "<table border=\"1\" class=\"dataframe\">\n",
       "  <thead>\n",
       "    <tr style=\"text-align: right;\">\n",
       "      <th></th>\n",
       "      <th>Unnamed: 0</th>\n",
       "      <th>title</th>\n",
       "      <th>tags</th>\n",
       "      <th>heading</th>\n",
       "      <th>source</th>\n",
       "      <th>text</th>\n",
       "      <th>bias_rating</th>\n",
       "    </tr>\n",
       "  </thead>\n",
       "  <tbody>\n",
       "    <tr>\n",
       "      <th>0</th>\n",
       "      <td>0</td>\n",
       "      <td>Gun Violence Over Fourth of July Weekend</td>\n",
       "      <td>['Protests', 'Fourth Of July', 'Gun Control An...</td>\n",
       "      <td>Chicago Gun Violence Spikes and Increasingly F...</td>\n",
       "      <td>New York Times (News)</td>\n",
       "      <td>As Yasmin Miller drove home from a laundromat ...</td>\n",
       "      <td>left</td>\n",
       "    </tr>\n",
       "    <tr>\n",
       "      <th>1</th>\n",
       "      <td>1</td>\n",
       "      <td>Gun Violence Over Fourth of July Weekend</td>\n",
       "      <td>['Protests', 'Fourth Of July', 'Gun Control An...</td>\n",
       "      <td>‘Bullets just came from nowhere’: Fourth of Ju...</td>\n",
       "      <td>Chicago Tribune</td>\n",
       "      <td>As many Chicagoans were celebrating the Fourth...</td>\n",
       "      <td>center</td>\n",
       "    </tr>\n",
       "    <tr>\n",
       "      <th>2</th>\n",
       "      <td>2</td>\n",
       "      <td>Gun Violence Over Fourth of July Weekend</td>\n",
       "      <td>['Protests', 'Fourth Of July', 'Gun Control An...</td>\n",
       "      <td>Dozens of shootings across US mark bloody July...</td>\n",
       "      <td>New York Post (News)</td>\n",
       "      <td>The nation’s 4th of July weekend was marred by...</td>\n",
       "      <td>right</td>\n",
       "    </tr>\n",
       "    <tr>\n",
       "      <th>3</th>\n",
       "      <td>3</td>\n",
       "      <td>Yellen Warns Congress of 'Economic Recession' ...</td>\n",
       "      <td>['Janet Yellen', 'Debt Ceiling', 'Economic Pol...</td>\n",
       "      <td>Federal Government Will Run Out of Cash on Oct...</td>\n",
       "      <td>The Epoch Times</td>\n",
       "      <td>Treasury Secretary Janet Yellen on Tuesday war...</td>\n",
       "      <td>right</td>\n",
       "    </tr>\n",
       "    <tr>\n",
       "      <th>4</th>\n",
       "      <td>4</td>\n",
       "      <td>Yellen Warns Congress of 'Economic Recession' ...</td>\n",
       "      <td>['Janet Yellen', 'Debt Ceiling', 'Economic Pol...</td>\n",
       "      <td>Yellen tells Congress that U.S. will run out o...</td>\n",
       "      <td>Washington Post</td>\n",
       "      <td>Treasury Secretary Janet Yellen on Tuesday tol...</td>\n",
       "      <td>left</td>\n",
       "    </tr>\n",
       "    <tr>\n",
       "      <th>...</th>\n",
       "      <td>...</td>\n",
       "      <td>...</td>\n",
       "      <td>...</td>\n",
       "      <td>...</td>\n",
       "      <td>...</td>\n",
       "      <td>...</td>\n",
       "      <td>...</td>\n",
       "    </tr>\n",
       "    <tr>\n",
       "      <th>21749</th>\n",
       "      <td>21749</td>\n",
       "      <td>Biden Seeks $30 Billion For Disaster Aid And R...</td>\n",
       "      <td>['Disaster', 'Joe Biden', 'Disaster Aid', 'Afg...</td>\n",
       "      <td>White House asks Congress to pass emergency fu...</td>\n",
       "      <td>Washington Post</td>\n",
       "      <td>The White House budget office Tuesday sent Con...</td>\n",
       "      <td>left</td>\n",
       "    </tr>\n",
       "    <tr>\n",
       "      <th>21750</th>\n",
       "      <td>21750</td>\n",
       "      <td>Biden Seeks $30 Billion For Disaster Aid And R...</td>\n",
       "      <td>['Disaster', 'Joe Biden', 'Disaster Aid', 'Afg...</td>\n",
       "      <td>Biden wants $30B for disaster aid, Afghan rese...</td>\n",
       "      <td>Washington Examiner</td>\n",
       "      <td>The White House budget office on Tuesday urged...</td>\n",
       "      <td>right</td>\n",
       "    </tr>\n",
       "    <tr>\n",
       "      <th>21751</th>\n",
       "      <td>21751</td>\n",
       "      <td>US House Condemns QAnon Group</td>\n",
       "      <td>['US House', 'QAnon', 'Free Speech', 'Politics']</td>\n",
       "      <td>Seventeen Republican congressmen and Justin Am...</td>\n",
       "      <td>Washington Examiner</td>\n",
       "      <td>The House passed a resolution condemning the c...</td>\n",
       "      <td>right</td>\n",
       "    </tr>\n",
       "    <tr>\n",
       "      <th>21752</th>\n",
       "      <td>21752</td>\n",
       "      <td>US House Condemns QAnon Group</td>\n",
       "      <td>['US House', 'QAnon', 'Free Speech', 'Politics']</td>\n",
       "      <td>Why did some Republicans balk at a resolution ...</td>\n",
       "      <td>NBC News (Online)</td>\n",
       "      <td>As many Americans came to realize in recent mo...</td>\n",
       "      <td>left</td>\n",
       "    </tr>\n",
       "    <tr>\n",
       "      <th>21753</th>\n",
       "      <td>21753</td>\n",
       "      <td>US House Condemns QAnon Group</td>\n",
       "      <td>['US House', 'QAnon', 'Free Speech', 'Politics']</td>\n",
       "      <td>U.S. House condemns 'QAnon' conspiracy theory;...</td>\n",
       "      <td>Reuters</td>\n",
       "      <td>The U.S. House of Representatives on Friday vo...</td>\n",
       "      <td>center</td>\n",
       "    </tr>\n",
       "  </tbody>\n",
       "</table>\n",
       "<p>21754 rows × 7 columns</p>\n",
       "</div>"
      ]
     },
     "execution_count": 52,
     "metadata": {},
     "output_type": "execute_result"
    }
   ],
   "execution_count": 52
  },
  {
   "cell_type": "markdown",
   "id": "3",
   "metadata": {},
   "source": [
    "Dropping useless columns."
   ]
  },
  {
   "cell_type": "code",
   "id": "4",
   "metadata": {
    "ExecuteTime": {
     "end_time": "2024-10-27T12:30:42.660381Z",
     "start_time": "2024-10-27T12:30:42.656783Z"
    }
   },
   "source": [
    "df = df.drop(columns=[\"Unnamed: 0\", \"tags\", \"heading\", \"source\"])"
   ],
   "outputs": [],
   "execution_count": 53
  },
  {
   "cell_type": "markdown",
   "id": "5",
   "metadata": {},
   "source": [
    "Renaming columns."
   ]
  },
  {
   "cell_type": "code",
   "id": "6",
   "metadata": {
    "ExecuteTime": {
     "end_time": "2024-10-27T12:30:42.713686Z",
     "start_time": "2024-10-27T12:30:42.708963Z"
    }
   },
   "source": [
    "df = df.rename(columns={\"text\": \"body\", \"bias_rating\": \"leaning\"})"
   ],
   "outputs": [],
   "execution_count": 54
  },
  {
   "cell_type": "markdown",
   "id": "7",
   "metadata": {},
   "source": [
    "Categorizing the leaning column."
   ]
  },
  {
   "cell_type": "code",
   "id": "8",
   "metadata": {
    "ExecuteTime": {
     "end_time": "2024-10-27T12:30:42.754591Z",
     "start_time": "2024-10-27T12:30:42.749887Z"
    }
   },
   "source": [
    "df[\"leaning\"] = df[\"leaning\"].astype(\"category\")"
   ],
   "outputs": [],
   "execution_count": 55
  },
  {
   "cell_type": "markdown",
   "id": "9",
   "metadata": {},
   "source": [
    "Dropping rows with missing data."
   ]
  },
  {
   "cell_type": "code",
   "id": "10",
   "metadata": {
    "ExecuteTime": {
     "end_time": "2024-10-27T12:30:42.801894Z",
     "start_time": "2024-10-27T12:30:42.794691Z"
    }
   },
   "source": [
    "df = df.dropna()"
   ],
   "outputs": [],
   "execution_count": 56
  },
  {
   "cell_type": "markdown",
   "id": "11",
   "metadata": {},
   "source": [
    "Printing duplicates."
   ]
  },
  {
   "cell_type": "code",
   "id": "12",
   "metadata": {
    "ExecuteTime": {
     "end_time": "2024-10-27T12:30:42.864793Z",
     "start_time": "2024-10-27T12:30:42.849269Z"
    }
   },
   "source": [
    "df[df[\"body\"].duplicated(keep=False)]"
   ],
   "outputs": [
    {
     "data": {
      "text/plain": [
       "                                                   title  \\\n",
       "404            Secretary of Defense James Mattis Resigns   \n",
       "406            Secretary of Defense James Mattis Resigns   \n",
       "1994              Obama Will Leave Troops in Afghanistan   \n",
       "1996              Obama Will Leave Troops in Afghanistan   \n",
       "3624                          Back on the Campaign Trail   \n",
       "3625                          Back on the Campaign Trail   \n",
       "4768                          Second Year of Enrollments   \n",
       "5712                                   Wisconsin in Play   \n",
       "5714                                   Wisconsin in Play   \n",
       "5949                             House Approves Keystone   \n",
       "7382                 SCOTUS Rejects Gay Marriage Appeals   \n",
       "7383                 SCOTUS Rejects Gay Marriage Appeals   \n",
       "8282                 Media Coverage of Jobs Report Tweet   \n",
       "8283                 Media Coverage of Jobs Report Tweet   \n",
       "8514                             Obama Inauguration 2013   \n",
       "8716                           Signups Surpass 1 Million   \n",
       "8718                           Signups Surpass 1 Million   \n",
       "10249                        China Behind Hacking Attack   \n",
       "10251                        China Behind Hacking Attack   \n",
       "13751             White House Relationship With Pentagon   \n",
       "13753             White House Relationship With Pentagon   \n",
       "14157                       Job Openings at 13 Year High   \n",
       "14158                       Job Openings at 13 Year High   \n",
       "15043                  Army May Pursue Desertion Charges   \n",
       "15045                  Army May Pursue Desertion Charges   \n",
       "15497                            Israel Hamas Cease Fire   \n",
       "15499                            Israel Hamas Cease Fire   \n",
       "15528  China Retaliates After US Warning By Hiking Ta...   \n",
       "15529  China Retaliates After US Warning By Hiking Ta...   \n",
       "16795             Collins Will Vote No on Graham-Cassidy   \n",
       "16796             Collins Will Vote No on Graham-Cassidy   \n",
       "16864                   Storms Ravage Texas and Oklahoma   \n",
       "16866                   Storms Ravage Texas and Oklahoma   \n",
       "17928  CDC Says Vaccinated People Don't Have to Wear ...   \n",
       "17929  CDC Says Vaccinated People Don't Have to Wear ...   \n",
       "17930  CDC Says Vaccinated People Don't Have to Wear ...   \n",
       "17931  CDC Says Vaccinated People Don't Have to Wear ...   \n",
       "17932  CDC Says Vaccinated People Don't Have to Wear ...   \n",
       "17933  CDC Says Vaccinated People Don't Have to Wear ...   \n",
       "18737                     SC House Approves Flag Removal   \n",
       "18738                     SC House Approves Flag Removal   \n",
       "19015  Kavanaugh Accuser Open to Testifying if Certai...   \n",
       "19016  Kavanaugh Accuser Open to Testifying if Certai...   \n",
       "20077                                   Inauguration Day   \n",
       "20930   Ocasio-Cortez Says Pelosi and Schumer Need to Go   \n",
       "20932   Ocasio-Cortez Says Pelosi and Schumer Need to Go   \n",
       "21679  FBI Lawyer Suspected of Altering FISA Document...   \n",
       "21681  FBI Lawyer Suspected of Altering FISA Document...   \n",
       "\n",
       "                                                    body leaning  \n",
       "404    Defense Secretary James Mattis, the last of a ...   right  \n",
       "406    Defense Secretary James Mattis, the last of a ...    left  \n",
       "1994   President Barack Obama will keep 5,500 U.S. tr...   right  \n",
       "1996   President Barack Obama will keep 5,500 U.S. tr...    left  \n",
       "3624   President Barack Obama dives back into campaig...    left  \n",
       "3625   President Barack Obama dives back into campaig...   right  \n",
       "4768   The second sign-up season under President Bara...    left  \n",
       "5712   Wisconsin Republicans seem to have it all. Nat...   right  \n",
       "5714   Wisconsin Republicans seem to have it all. Nat...    left  \n",
       "5949   The second sign-up season under President Bara...  center  \n",
       "7382   The Supreme Court turned away appeals Monday f...   right  \n",
       "7383   The Supreme Court turned away appeals Monday f...    left  \n",
       "8282   President Donald Trump was briefed Thursday ni...   right  \n",
       "8283   President Donald Trump was briefed Thursday ni...    left  \n",
       "8514   Barack Obama assumed the presidency four years...    left  \n",
       "8716   A December surge propelled health care sign-up...    left  \n",
       "8718   A December surge propelled health care sign-up...    left  \n",
       "10249  China-based hackers are suspected of breaking ...    left  \n",
       "10251  China-based hackers are suspected of breaking ...   right  \n",
       "13751  On a trip to Afghanistan during President Bara...   right  \n",
       "13753  On a trip to Afghanistan during President Bara...    left  \n",
       "14157  U.S. employers in June advertised the most mon...    left  \n",
       "14158  U.S. employers in June advertised the most mon...   right  \n",
       "15043  U.S. Joint Chiefs Chairman Gen. Martin Dempsey...    left  \n",
       "15045  U.S. Joint Chiefs Chairman Gen. Martin Dempsey...   right  \n",
       "15497  Gaza residents cleared rubble and claimed vict...   right  \n",
       "15499  Gaza residents cleared rubble and claimed vict...    left  \n",
       "15528  China said on Monday it would impose higher ta...  center  \n",
       "15529  China said on Monday it would impose higher ta...   right  \n",
       "16795  Opposition from the senator from Maine leaves ...    left  \n",
       "16796  Opposition from the senator from Maine leaves ...  center  \n",
       "16864  Recovery teams were resuming the search early ...    left  \n",
       "16866  Recovery teams were resuming the search early ...   right  \n",
       "17928  Vaccinated Americans can now breathe a big, de...   right  \n",
       "17929  Fully vaccinated people can venture outdoors w...  center  \n",
       "17930  The Centers for Disease Control and Prevention...    left  \n",
       "17931  Vaccinated Americans can now breathe a big, de...   right  \n",
       "17932  Fully vaccinated people can venture outdoors w...  center  \n",
       "17933  The Centers for Disease Control and Prevention...    left  \n",
       "18737  More than 50 years after South Carolina raised...   right  \n",
       "18738  More than 50 years after South Carolina raised...    left  \n",
       "19015  Christine Blasey Ford is seeking answers to a ...    left  \n",
       "19016  Christine Blasey Ford is seeking answers to a ...   right  \n",
       "20077  Barack Obama assumed the presidency four years...    left  \n",
       "20930  Representative Alexandria Ocasio-Cortez (D., N...   right  \n",
       "20932  Representative Alexandria Ocasio-Cortez (D., N...    left  \n",
       "21679  WASHINGTON (AP) — President Donald Trump on Fr...    left  \n",
       "21681  WASHINGTON (AP) — President Donald Trump on Fr...    left  "
      ],
      "text/html": [
       "<div>\n",
       "<style scoped>\n",
       "    .dataframe tbody tr th:only-of-type {\n",
       "        vertical-align: middle;\n",
       "    }\n",
       "\n",
       "    .dataframe tbody tr th {\n",
       "        vertical-align: top;\n",
       "    }\n",
       "\n",
       "    .dataframe thead th {\n",
       "        text-align: right;\n",
       "    }\n",
       "</style>\n",
       "<table border=\"1\" class=\"dataframe\">\n",
       "  <thead>\n",
       "    <tr style=\"text-align: right;\">\n",
       "      <th></th>\n",
       "      <th>title</th>\n",
       "      <th>body</th>\n",
       "      <th>leaning</th>\n",
       "    </tr>\n",
       "  </thead>\n",
       "  <tbody>\n",
       "    <tr>\n",
       "      <th>404</th>\n",
       "      <td>Secretary of Defense James Mattis Resigns</td>\n",
       "      <td>Defense Secretary James Mattis, the last of a ...</td>\n",
       "      <td>right</td>\n",
       "    </tr>\n",
       "    <tr>\n",
       "      <th>406</th>\n",
       "      <td>Secretary of Defense James Mattis Resigns</td>\n",
       "      <td>Defense Secretary James Mattis, the last of a ...</td>\n",
       "      <td>left</td>\n",
       "    </tr>\n",
       "    <tr>\n",
       "      <th>1994</th>\n",
       "      <td>Obama Will Leave Troops in Afghanistan</td>\n",
       "      <td>President Barack Obama will keep 5,500 U.S. tr...</td>\n",
       "      <td>right</td>\n",
       "    </tr>\n",
       "    <tr>\n",
       "      <th>1996</th>\n",
       "      <td>Obama Will Leave Troops in Afghanistan</td>\n",
       "      <td>President Barack Obama will keep 5,500 U.S. tr...</td>\n",
       "      <td>left</td>\n",
       "    </tr>\n",
       "    <tr>\n",
       "      <th>3624</th>\n",
       "      <td>Back on the Campaign Trail</td>\n",
       "      <td>President Barack Obama dives back into campaig...</td>\n",
       "      <td>left</td>\n",
       "    </tr>\n",
       "    <tr>\n",
       "      <th>3625</th>\n",
       "      <td>Back on the Campaign Trail</td>\n",
       "      <td>President Barack Obama dives back into campaig...</td>\n",
       "      <td>right</td>\n",
       "    </tr>\n",
       "    <tr>\n",
       "      <th>4768</th>\n",
       "      <td>Second Year of Enrollments</td>\n",
       "      <td>The second sign-up season under President Bara...</td>\n",
       "      <td>left</td>\n",
       "    </tr>\n",
       "    <tr>\n",
       "      <th>5712</th>\n",
       "      <td>Wisconsin in Play</td>\n",
       "      <td>Wisconsin Republicans seem to have it all. Nat...</td>\n",
       "      <td>right</td>\n",
       "    </tr>\n",
       "    <tr>\n",
       "      <th>5714</th>\n",
       "      <td>Wisconsin in Play</td>\n",
       "      <td>Wisconsin Republicans seem to have it all. Nat...</td>\n",
       "      <td>left</td>\n",
       "    </tr>\n",
       "    <tr>\n",
       "      <th>5949</th>\n",
       "      <td>House Approves Keystone</td>\n",
       "      <td>The second sign-up season under President Bara...</td>\n",
       "      <td>center</td>\n",
       "    </tr>\n",
       "    <tr>\n",
       "      <th>7382</th>\n",
       "      <td>SCOTUS Rejects Gay Marriage Appeals</td>\n",
       "      <td>The Supreme Court turned away appeals Monday f...</td>\n",
       "      <td>right</td>\n",
       "    </tr>\n",
       "    <tr>\n",
       "      <th>7383</th>\n",
       "      <td>SCOTUS Rejects Gay Marriage Appeals</td>\n",
       "      <td>The Supreme Court turned away appeals Monday f...</td>\n",
       "      <td>left</td>\n",
       "    </tr>\n",
       "    <tr>\n",
       "      <th>8282</th>\n",
       "      <td>Media Coverage of Jobs Report Tweet</td>\n",
       "      <td>President Donald Trump was briefed Thursday ni...</td>\n",
       "      <td>right</td>\n",
       "    </tr>\n",
       "    <tr>\n",
       "      <th>8283</th>\n",
       "      <td>Media Coverage of Jobs Report Tweet</td>\n",
       "      <td>President Donald Trump was briefed Thursday ni...</td>\n",
       "      <td>left</td>\n",
       "    </tr>\n",
       "    <tr>\n",
       "      <th>8514</th>\n",
       "      <td>Obama Inauguration 2013</td>\n",
       "      <td>Barack Obama assumed the presidency four years...</td>\n",
       "      <td>left</td>\n",
       "    </tr>\n",
       "    <tr>\n",
       "      <th>8716</th>\n",
       "      <td>Signups Surpass 1 Million</td>\n",
       "      <td>A December surge propelled health care sign-up...</td>\n",
       "      <td>left</td>\n",
       "    </tr>\n",
       "    <tr>\n",
       "      <th>8718</th>\n",
       "      <td>Signups Surpass 1 Million</td>\n",
       "      <td>A December surge propelled health care sign-up...</td>\n",
       "      <td>left</td>\n",
       "    </tr>\n",
       "    <tr>\n",
       "      <th>10249</th>\n",
       "      <td>China Behind Hacking Attack</td>\n",
       "      <td>China-based hackers are suspected of breaking ...</td>\n",
       "      <td>left</td>\n",
       "    </tr>\n",
       "    <tr>\n",
       "      <th>10251</th>\n",
       "      <td>China Behind Hacking Attack</td>\n",
       "      <td>China-based hackers are suspected of breaking ...</td>\n",
       "      <td>right</td>\n",
       "    </tr>\n",
       "    <tr>\n",
       "      <th>13751</th>\n",
       "      <td>White House Relationship With Pentagon</td>\n",
       "      <td>On a trip to Afghanistan during President Bara...</td>\n",
       "      <td>right</td>\n",
       "    </tr>\n",
       "    <tr>\n",
       "      <th>13753</th>\n",
       "      <td>White House Relationship With Pentagon</td>\n",
       "      <td>On a trip to Afghanistan during President Bara...</td>\n",
       "      <td>left</td>\n",
       "    </tr>\n",
       "    <tr>\n",
       "      <th>14157</th>\n",
       "      <td>Job Openings at 13 Year High</td>\n",
       "      <td>U.S. employers in June advertised the most mon...</td>\n",
       "      <td>left</td>\n",
       "    </tr>\n",
       "    <tr>\n",
       "      <th>14158</th>\n",
       "      <td>Job Openings at 13 Year High</td>\n",
       "      <td>U.S. employers in June advertised the most mon...</td>\n",
       "      <td>right</td>\n",
       "    </tr>\n",
       "    <tr>\n",
       "      <th>15043</th>\n",
       "      <td>Army May Pursue Desertion Charges</td>\n",
       "      <td>U.S. Joint Chiefs Chairman Gen. Martin Dempsey...</td>\n",
       "      <td>left</td>\n",
       "    </tr>\n",
       "    <tr>\n",
       "      <th>15045</th>\n",
       "      <td>Army May Pursue Desertion Charges</td>\n",
       "      <td>U.S. Joint Chiefs Chairman Gen. Martin Dempsey...</td>\n",
       "      <td>right</td>\n",
       "    </tr>\n",
       "    <tr>\n",
       "      <th>15497</th>\n",
       "      <td>Israel Hamas Cease Fire</td>\n",
       "      <td>Gaza residents cleared rubble and claimed vict...</td>\n",
       "      <td>right</td>\n",
       "    </tr>\n",
       "    <tr>\n",
       "      <th>15499</th>\n",
       "      <td>Israel Hamas Cease Fire</td>\n",
       "      <td>Gaza residents cleared rubble and claimed vict...</td>\n",
       "      <td>left</td>\n",
       "    </tr>\n",
       "    <tr>\n",
       "      <th>15528</th>\n",
       "      <td>China Retaliates After US Warning By Hiking Ta...</td>\n",
       "      <td>China said on Monday it would impose higher ta...</td>\n",
       "      <td>center</td>\n",
       "    </tr>\n",
       "    <tr>\n",
       "      <th>15529</th>\n",
       "      <td>China Retaliates After US Warning By Hiking Ta...</td>\n",
       "      <td>China said on Monday it would impose higher ta...</td>\n",
       "      <td>right</td>\n",
       "    </tr>\n",
       "    <tr>\n",
       "      <th>16795</th>\n",
       "      <td>Collins Will Vote No on Graham-Cassidy</td>\n",
       "      <td>Opposition from the senator from Maine leaves ...</td>\n",
       "      <td>left</td>\n",
       "    </tr>\n",
       "    <tr>\n",
       "      <th>16796</th>\n",
       "      <td>Collins Will Vote No on Graham-Cassidy</td>\n",
       "      <td>Opposition from the senator from Maine leaves ...</td>\n",
       "      <td>center</td>\n",
       "    </tr>\n",
       "    <tr>\n",
       "      <th>16864</th>\n",
       "      <td>Storms Ravage Texas and Oklahoma</td>\n",
       "      <td>Recovery teams were resuming the search early ...</td>\n",
       "      <td>left</td>\n",
       "    </tr>\n",
       "    <tr>\n",
       "      <th>16866</th>\n",
       "      <td>Storms Ravage Texas and Oklahoma</td>\n",
       "      <td>Recovery teams were resuming the search early ...</td>\n",
       "      <td>right</td>\n",
       "    </tr>\n",
       "    <tr>\n",
       "      <th>17928</th>\n",
       "      <td>CDC Says Vaccinated People Don't Have to Wear ...</td>\n",
       "      <td>Vaccinated Americans can now breathe a big, de...</td>\n",
       "      <td>right</td>\n",
       "    </tr>\n",
       "    <tr>\n",
       "      <th>17929</th>\n",
       "      <td>CDC Says Vaccinated People Don't Have to Wear ...</td>\n",
       "      <td>Fully vaccinated people can venture outdoors w...</td>\n",
       "      <td>center</td>\n",
       "    </tr>\n",
       "    <tr>\n",
       "      <th>17930</th>\n",
       "      <td>CDC Says Vaccinated People Don't Have to Wear ...</td>\n",
       "      <td>The Centers for Disease Control and Prevention...</td>\n",
       "      <td>left</td>\n",
       "    </tr>\n",
       "    <tr>\n",
       "      <th>17931</th>\n",
       "      <td>CDC Says Vaccinated People Don't Have to Wear ...</td>\n",
       "      <td>Vaccinated Americans can now breathe a big, de...</td>\n",
       "      <td>right</td>\n",
       "    </tr>\n",
       "    <tr>\n",
       "      <th>17932</th>\n",
       "      <td>CDC Says Vaccinated People Don't Have to Wear ...</td>\n",
       "      <td>Fully vaccinated people can venture outdoors w...</td>\n",
       "      <td>center</td>\n",
       "    </tr>\n",
       "    <tr>\n",
       "      <th>17933</th>\n",
       "      <td>CDC Says Vaccinated People Don't Have to Wear ...</td>\n",
       "      <td>The Centers for Disease Control and Prevention...</td>\n",
       "      <td>left</td>\n",
       "    </tr>\n",
       "    <tr>\n",
       "      <th>18737</th>\n",
       "      <td>SC House Approves Flag Removal</td>\n",
       "      <td>More than 50 years after South Carolina raised...</td>\n",
       "      <td>right</td>\n",
       "    </tr>\n",
       "    <tr>\n",
       "      <th>18738</th>\n",
       "      <td>SC House Approves Flag Removal</td>\n",
       "      <td>More than 50 years after South Carolina raised...</td>\n",
       "      <td>left</td>\n",
       "    </tr>\n",
       "    <tr>\n",
       "      <th>19015</th>\n",
       "      <td>Kavanaugh Accuser Open to Testifying if Certai...</td>\n",
       "      <td>Christine Blasey Ford is seeking answers to a ...</td>\n",
       "      <td>left</td>\n",
       "    </tr>\n",
       "    <tr>\n",
       "      <th>19016</th>\n",
       "      <td>Kavanaugh Accuser Open to Testifying if Certai...</td>\n",
       "      <td>Christine Blasey Ford is seeking answers to a ...</td>\n",
       "      <td>right</td>\n",
       "    </tr>\n",
       "    <tr>\n",
       "      <th>20077</th>\n",
       "      <td>Inauguration Day</td>\n",
       "      <td>Barack Obama assumed the presidency four years...</td>\n",
       "      <td>left</td>\n",
       "    </tr>\n",
       "    <tr>\n",
       "      <th>20930</th>\n",
       "      <td>Ocasio-Cortez Says Pelosi and Schumer Need to Go</td>\n",
       "      <td>Representative Alexandria Ocasio-Cortez (D., N...</td>\n",
       "      <td>right</td>\n",
       "    </tr>\n",
       "    <tr>\n",
       "      <th>20932</th>\n",
       "      <td>Ocasio-Cortez Says Pelosi and Schumer Need to Go</td>\n",
       "      <td>Representative Alexandria Ocasio-Cortez (D., N...</td>\n",
       "      <td>left</td>\n",
       "    </tr>\n",
       "    <tr>\n",
       "      <th>21679</th>\n",
       "      <td>FBI Lawyer Suspected of Altering FISA Document...</td>\n",
       "      <td>WASHINGTON (AP) — President Donald Trump on Fr...</td>\n",
       "      <td>left</td>\n",
       "    </tr>\n",
       "    <tr>\n",
       "      <th>21681</th>\n",
       "      <td>FBI Lawyer Suspected of Altering FISA Document...</td>\n",
       "      <td>WASHINGTON (AP) — President Donald Trump on Fr...</td>\n",
       "      <td>left</td>\n",
       "    </tr>\n",
       "  </tbody>\n",
       "</table>\n",
       "</div>"
      ]
     },
     "execution_count": 57,
     "metadata": {},
     "output_type": "execute_result"
    }
   ],
   "execution_count": 57
  },
  {
   "cell_type": "markdown",
   "id": "13",
   "metadata": {},
   "source": [
    "Dropping the duplicates."
   ]
  },
  {
   "cell_type": "code",
   "id": "14",
   "metadata": {
    "ExecuteTime": {
     "end_time": "2024-10-27T12:30:42.935388Z",
     "start_time": "2024-10-27T12:30:42.928719Z"
    }
   },
   "source": [
    "df = df.drop_duplicates(subset=\"body\")"
   ],
   "outputs": [],
   "execution_count": 58
  },
  {
   "cell_type": "markdown",
   "id": "15",
   "metadata": {},
   "source": [
    "Inspecting body length."
   ]
  },
  {
   "cell_type": "code",
   "id": "16",
   "metadata": {
    "ExecuteTime": {
     "end_time": "2024-10-27T12:30:43.138118Z",
     "start_time": "2024-10-27T12:30:42.982796Z"
    }
   },
   "source": [
    "df[\"body_length\"] = df[\"body\"].str.len()\n",
    "df[\"body_word_count\"] = df[\"body\"].str.split().str.len()\n",
    "df = df.sort_values(by=\"body_length\")\n",
    "df.head()"
   ],
   "outputs": [
    {
     "data": {
      "text/plain": [
       "                                                   title  \\\n",
       "14767                                  Happy 4th of July   \n",
       "3437                     Benghazi Emails Raise Questions   \n",
       "17088  Mueller Says Trump is Currently Not Criminal T...   \n",
       "10771    Nancy Pelosi Gives 8 Hour Speech on House Floor   \n",
       "16345                            Trump’s Speech on Islam   \n",
       "\n",
       "                       body leaning  body_length  body_word_count  \n",
       "14767                 Video    left            5                1  \n",
       "3437              Cover up.   right            9                2  \n",
       "17088            Game over?   right           10                2  \n",
       "10771        She persisted.    left           14                2  \n",
       "16345  What could go wrong?    left           20                4  "
      ],
      "text/html": [
       "<div>\n",
       "<style scoped>\n",
       "    .dataframe tbody tr th:only-of-type {\n",
       "        vertical-align: middle;\n",
       "    }\n",
       "\n",
       "    .dataframe tbody tr th {\n",
       "        vertical-align: top;\n",
       "    }\n",
       "\n",
       "    .dataframe thead th {\n",
       "        text-align: right;\n",
       "    }\n",
       "</style>\n",
       "<table border=\"1\" class=\"dataframe\">\n",
       "  <thead>\n",
       "    <tr style=\"text-align: right;\">\n",
       "      <th></th>\n",
       "      <th>title</th>\n",
       "      <th>body</th>\n",
       "      <th>leaning</th>\n",
       "      <th>body_length</th>\n",
       "      <th>body_word_count</th>\n",
       "    </tr>\n",
       "  </thead>\n",
       "  <tbody>\n",
       "    <tr>\n",
       "      <th>14767</th>\n",
       "      <td>Happy 4th of July</td>\n",
       "      <td>Video</td>\n",
       "      <td>left</td>\n",
       "      <td>5</td>\n",
       "      <td>1</td>\n",
       "    </tr>\n",
       "    <tr>\n",
       "      <th>3437</th>\n",
       "      <td>Benghazi Emails Raise Questions</td>\n",
       "      <td>Cover up.</td>\n",
       "      <td>right</td>\n",
       "      <td>9</td>\n",
       "      <td>2</td>\n",
       "    </tr>\n",
       "    <tr>\n",
       "      <th>17088</th>\n",
       "      <td>Mueller Says Trump is Currently Not Criminal T...</td>\n",
       "      <td>Game over?</td>\n",
       "      <td>right</td>\n",
       "      <td>10</td>\n",
       "      <td>2</td>\n",
       "    </tr>\n",
       "    <tr>\n",
       "      <th>10771</th>\n",
       "      <td>Nancy Pelosi Gives 8 Hour Speech on House Floor</td>\n",
       "      <td>She persisted.</td>\n",
       "      <td>left</td>\n",
       "      <td>14</td>\n",
       "      <td>2</td>\n",
       "    </tr>\n",
       "    <tr>\n",
       "      <th>16345</th>\n",
       "      <td>Trump’s Speech on Islam</td>\n",
       "      <td>What could go wrong?</td>\n",
       "      <td>left</td>\n",
       "      <td>20</td>\n",
       "      <td>4</td>\n",
       "    </tr>\n",
       "  </tbody>\n",
       "</table>\n",
       "</div>"
      ]
     },
     "execution_count": 59,
     "metadata": {},
     "output_type": "execute_result"
    }
   ],
   "execution_count": 59
  },
  {
   "cell_type": "markdown",
   "id": "21",
   "metadata": {},
   "source": "After inspection, articles with bodies shorter than 4 words seem to contain no political value. Removing them."
  },
  {
   "cell_type": "code",
   "id": "22",
   "metadata": {
    "ExecuteTime": {
     "end_time": "2024-10-27T12:30:43.593716Z",
     "start_time": "2024-10-27T12:30:43.283055Z"
    }
   },
   "source": [
    "body_word_count_lower_bound = 4\n",
    "df = df[df[\"body_word_count\"] >= body_word_count_lower_bound]\n",
    "# Ensuring to include the last (longest) item.\n",
    "downsampled = pd.concat([df[\"body_length\"].iloc[::100], df[\"body_length\"].tail(1)]).drop_duplicates()\n",
    "downsampled.plot.bar().xaxis.set_ticks([]);"
   ],
   "outputs": [
    {
     "data": {
      "text/plain": [
       "<Figure size 640x480 with 1 Axes>"
      ],
      "image/png": "[encoded data removed]"
     },
     "metadata": {},
     "output_type": "display_data"
    }
   ],
   "execution_count": 60
  },
  {
   "cell_type": "code",
   "id": "23",
   "metadata": {
    "ExecuteTime": {
     "end_time": "2024-10-27T12:30:43.648910Z",
     "start_time": "2024-10-27T12:30:43.644001Z"
    }
   },
   "source": [
    "df[\"body_length\"].mean()"
   ],
   "outputs": [
    {
     "data": {
      "text/plain": [
       "np.float64(413.64356435643566)"
      ]
     },
     "execution_count": 61,
     "metadata": {},
     "output_type": "execute_result"
    }
   ],
   "execution_count": 61
  },
  {
   "cell_type": "markdown",
   "id": "24",
   "metadata": {},
   "source": [
    "The leaning distribution."
   ]
  },
  {
   "cell_type": "code",
   "id": "25",
   "metadata": {
    "ExecuteTime": {
     "end_time": "2024-10-27T12:30:43.786201Z",
     "start_time": "2024-10-27T12:30:43.717400Z"
    }
   },
   "source": [
    "df.groupby(\"leaning\", observed=True).size().plot.pie(autopct=\"%1.1f%%\");"
   ],
   "outputs": [
    {
     "data": {
      "text/plain": [
       "<Figure size 640x480 with 1 Axes>"
      ],
      "image/png": "[encoded data removed]"
     },
     "metadata": {},
     "output_type": "display_data"
    }
   ],
   "execution_count": 62
  },
  {
   "cell_type": "markdown",
   "id": "26",
   "metadata": {},
   "source": [
    "The distribution of body length sums per leaning."
   ]
  },
  {
   "cell_type": "code",
   "id": "27",
   "metadata": {
    "ExecuteTime": {
     "end_time": "2024-10-27T12:30:43.838319Z",
     "start_time": "2024-10-27T12:30:43.797908Z"
    }
   },
   "source": [
    "df.groupby(\"leaning\", observed=True)[\"body_length\"].sum().plot.pie(autopct=\"%1.1f%%\", ylabel=\"\");"
   ],
   "outputs": [
    {
     "data": {
      "text/plain": [
       "<Figure size 640x480 with 1 Axes>"
      ],
      "image/png": "[encoded data removed]"
     },
     "metadata": {},
     "output_type": "display_data"
    }
   ],
   "execution_count": 63
  },
  {
   "cell_type": "markdown",
   "id": "28",
   "metadata": {},
   "source": "Body length distribution by leaning."
  },
  {
   "cell_type": "code",
   "id": "29",
   "metadata": {
    "ExecuteTime": {
     "end_time": "2024-10-27T12:30:43.974376Z",
     "start_time": "2024-10-27T12:30:43.865993Z"
    }
   },
   "source": [
    "plt.figure(figsize=(10, 6))\n",
    "\n",
    "for leaning in df[\"leaning\"].unique():\n",
    "    df_leaning = df[df[\"leaning\"] == leaning]\n",
    "    downsampled = pd.concat(\n",
    "        # Ensuring to include the last (longest) item.\n",
    "        [df_leaning[\"body_length\"].iloc[::100], df_leaning[\"body_length\"].tail(1)]\n",
    "    ).drop_duplicates().reset_index(drop=True)\n",
    "    plt.plot(downsampled, label=leaning)\n",
    "\n",
    "plt.xlabel(\"downsampled index\")\n",
    "plt.ylabel(\"body length\")\n",
    "plt.title(\"body length by political leaning\")\n",
    "plt.legend(title=\"leaning\")\n",
    "plt.show()"
   ],
   "outputs": [
    {
     "data": {
      "text/plain": [
       "<Figure size 1000x600 with 1 Axes>"
      ],
      "image/png": "[encoded data removed]"
     },
     "metadata": {},
     "output_type": "display_data"
    }
   ],
   "execution_count": 64
  },
  {
   "cell_type": "code",
   "id": "34",
   "metadata": {
    "ExecuteTime": {
     "end_time": "2024-10-27T12:30:44.055640Z",
     "start_time": "2024-10-27T12:30:43.989426Z"
    }
   },
   "source": [
    "df.to_parquet(\"../preprocessed/qbias.parquet\")"
   ],
   "outputs": [],
   "execution_count": 65
  }
 ],
 "metadata": {
  "kernelspec": {
   "display_name": "Python 3",
   "language": "python",
   "name": "python3"
  },
  "language_info": {
   "codemirror_mode": {
    "name": "ipython",
    "version": 2
   },
   "file_extension": ".py",
   "mimetype": "text/x-python",
   "name": "python",
   "nbconvert_exporter": "python",
   "pygments_lexer": "ipython2",
   "version": "2.7.6"
  }
 },
 "nbformat": 4,
 "nbformat_minor": 5
}
