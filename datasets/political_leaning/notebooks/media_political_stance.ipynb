{
 "cells": [
  {
   "cell_type": "code",
   "id": "0",
   "metadata": {
    "ExecuteTime": {
     "end_time": "2025-02-22T08:08:23.873570Z",
     "start_time": "2025-02-22T08:08:21.970352Z"
    }
   },
   "source": [
    "import numpy as np\n",
    "import pandas as pd\n",
    "from matplotlib import pyplot as plt\n",
    "\n",
    "from utils.dataset_utils import PoliticalLeaningDataset"
   ],
   "outputs": [],
   "execution_count": 1
  },
  {
   "cell_type": "markdown",
   "id": "1",
   "metadata": {},
   "source": [
    "Reading the raw dataset."
   ]
  },
  {
   "cell_type": "code",
   "id": "2",
   "metadata": {
    "ExecuteTime": {
     "end_time": "2025-02-22T08:08:49.760886Z",
     "start_time": "2025-02-22T08:08:23.883492Z"
    }
   },
   "source": [
    "df = pd.read_csv(\n",
    "    open(\"../raw/media_political_stance.tsv\"),\n",
    "    sep=\"\\t\",\n",
    "    header=None,\n",
    "    names=[\"topic10\", \"topic15\", \"stance\", \"oscarID\", \"url\", \"text\"],\n",
    "    encoding=\"utf-8\"\n",
    ")\n",
    "df"
   ],
   "outputs": [
    {
     "data": {
      "text/plain": [
       "       topic10 topic15 stance  \\\n",
       "0         10:6    15:5   left   \n",
       "1         10:0    15:9   left   \n",
       "2         10:3    15:7   left   \n",
       "3         10:7    15:7   left   \n",
       "4         10:5    15:2   left   \n",
       "...        ...     ...    ...   \n",
       "513797    10:2   15:11  right   \n",
       "513798    10:6    15:8  right   \n",
       "513799    10:5   15:13  right   \n",
       "513800    10:6    15:8  right   \n",
       "513801    10:6    15:8  right   \n",
       "\n",
       "                                                oscarID  \\\n",
       "0       <urn:uuid:00003ff6-6bdc-4e5f-95b6-b9cdf5a079f4>   \n",
       "1       <urn:uuid:00005e8e-6eac-46e3-80fa-f18379086266>   \n",
       "2       <urn:uuid:0000f5be-2015-4cb2-bb80-2d3544948e8a>   \n",
       "3       <urn:uuid:00012084-7e5e-4993-a723-4547c195f291>   \n",
       "4       <urn:uuid:00012e14-8c37-44f4-8179-2c8b24999acc>   \n",
       "...                                                 ...   \n",
       "513797  <urn:uuid:fffcd1ac-a04d-4a6c-b86f-53257e6c6906>   \n",
       "513798  <urn:uuid:fffd7925-53b1-4d0b-99c1-c51422646fa3>   \n",
       "513799  <urn:uuid:fffe046c-8448-4e32-aa29-f3db718669b4>   \n",
       "513800  <urn:uuid:fffe95b1-e48d-4fc3-8fcf-4052917cb996>   \n",
       "513801  <urn:uuid:ffff1668-5ef2-405f-bd06-5940a755c26a>   \n",
       "\n",
       "                                                      url  \\\n",
       "0       http://www.cnn.com/2008/CRIME/05/06/sect.leade...   \n",
       "1       https://www.washingtonpost.com/realestate/2016...   \n",
       "2       https://abcnews.go.com/blogs/politics/2011/12/...   \n",
       "3       https://www.cbsnews.com/news/poll-many-veteran...   \n",
       "4       https://www.usatoday.com/story/news/2017/07/27...   \n",
       "...                                                   ...   \n",
       "513797  https://www.breitbart.com/national-security/20...   \n",
       "513798                 https://www.wnd.com/2008/06/67678/   \n",
       "513799                 https://www.wnd.com/2008/05/65641/   \n",
       "513800  https://www.thegatewaypundit.com/2021/10/watch...   \n",
       "513801  https://www.theepochtimes.com/book-review-beco...   \n",
       "\n",
       "                                                     text  \n",
       "0       (CNN) -- The leader of an apocalyptic New Mexi...  \n",
       "1       The 308 condos at the planned 56-story Residen...  \n",
       "2       House Speaker John Boehner says he will move a...  \n",
       "3       More than half of 1,268 military veterans poll...  \n",
       "4       Since Election Day, President Trump’s business...  \n",
       "...                                                   ...  \n",
       "513797  President Donald Trump announced Sunday mornin...  \n",
       "513798  WASHINGTON – Polygamy and child brides may mak...  \n",
       "513799  A Catholic school has been given court permiss...  \n",
       "513800  WATCH: HOT MIC: Parents Call For Resignation A...  \n",
       "513801  Chelsea is a recent graduate of Saint Mary’s C...  \n",
       "\n",
       "[513802 rows x 6 columns]"
      ],
      "text/html": [
       "<div>\n",
       "<style scoped>\n",
       "    .dataframe tbody tr th:only-of-type {\n",
       "        vertical-align: middle;\n",
       "    }\n",
       "\n",
       "    .dataframe tbody tr th {\n",
       "        vertical-align: top;\n",
       "    }\n",
       "\n",
       "    .dataframe thead th {\n",
       "        text-align: right;\n",
       "    }\n",
       "</style>\n",
       "<table border=\"1\" class=\"dataframe\">\n",
       "  <thead>\n",
       "    <tr style=\"text-align: right;\">\n",
       "      <th></th>\n",
       "      <th>topic10</th>\n",
       "      <th>topic15</th>\n",
       "      <th>stance</th>\n",
       "      <th>oscarID</th>\n",
       "      <th>url</th>\n",
       "      <th>text</th>\n",
       "    </tr>\n",
       "  </thead>\n",
       "  <tbody>\n",
       "    <tr>\n",
       "      <th>0</th>\n",
       "      <td>10:6</td>\n",
       "      <td>15:5</td>\n",
       "      <td>left</td>\n",
       "      <td>&lt;urn:uuid:00003ff6-6bdc-4e5f-95b6-b9cdf5a079f4&gt;</td>\n",
       "      <td>http://www.cnn.com/2008/CRIME/05/06/sect.leade...</td>\n",
       "      <td>(CNN) -- The leader of an apocalyptic New Mexi...</td>\n",
       "    </tr>\n",
       "    <tr>\n",
       "      <th>1</th>\n",
       "      <td>10:0</td>\n",
       "      <td>15:9</td>\n",
       "      <td>left</td>\n",
       "      <td>&lt;urn:uuid:00005e8e-6eac-46e3-80fa-f18379086266&gt;</td>\n",
       "      <td>https://www.washingtonpost.com/realestate/2016...</td>\n",
       "      <td>The 308 condos at the planned 56-story Residen...</td>\n",
       "    </tr>\n",
       "    <tr>\n",
       "      <th>2</th>\n",
       "      <td>10:3</td>\n",
       "      <td>15:7</td>\n",
       "      <td>left</td>\n",
       "      <td>&lt;urn:uuid:0000f5be-2015-4cb2-bb80-2d3544948e8a&gt;</td>\n",
       "      <td>https://abcnews.go.com/blogs/politics/2011/12/...</td>\n",
       "      <td>House Speaker John Boehner says he will move a...</td>\n",
       "    </tr>\n",
       "    <tr>\n",
       "      <th>3</th>\n",
       "      <td>10:7</td>\n",
       "      <td>15:7</td>\n",
       "      <td>left</td>\n",
       "      <td>&lt;urn:uuid:00012084-7e5e-4993-a723-4547c195f291&gt;</td>\n",
       "      <td>https://www.cbsnews.com/news/poll-many-veteran...</td>\n",
       "      <td>More than half of 1,268 military veterans poll...</td>\n",
       "    </tr>\n",
       "    <tr>\n",
       "      <th>4</th>\n",
       "      <td>10:5</td>\n",
       "      <td>15:2</td>\n",
       "      <td>left</td>\n",
       "      <td>&lt;urn:uuid:00012e14-8c37-44f4-8179-2c8b24999acc&gt;</td>\n",
       "      <td>https://www.usatoday.com/story/news/2017/07/27...</td>\n",
       "      <td>Since Election Day, President Trump’s business...</td>\n",
       "    </tr>\n",
       "    <tr>\n",
       "      <th>...</th>\n",
       "      <td>...</td>\n",
       "      <td>...</td>\n",
       "      <td>...</td>\n",
       "      <td>...</td>\n",
       "      <td>...</td>\n",
       "      <td>...</td>\n",
       "    </tr>\n",
       "    <tr>\n",
       "      <th>513797</th>\n",
       "      <td>10:2</td>\n",
       "      <td>15:11</td>\n",
       "      <td>right</td>\n",
       "      <td>&lt;urn:uuid:fffcd1ac-a04d-4a6c-b86f-53257e6c6906&gt;</td>\n",
       "      <td>https://www.breitbart.com/national-security/20...</td>\n",
       "      <td>President Donald Trump announced Sunday mornin...</td>\n",
       "    </tr>\n",
       "    <tr>\n",
       "      <th>513798</th>\n",
       "      <td>10:6</td>\n",
       "      <td>15:8</td>\n",
       "      <td>right</td>\n",
       "      <td>&lt;urn:uuid:fffd7925-53b1-4d0b-99c1-c51422646fa3&gt;</td>\n",
       "      <td>https://www.wnd.com/2008/06/67678/</td>\n",
       "      <td>WASHINGTON – Polygamy and child brides may mak...</td>\n",
       "    </tr>\n",
       "    <tr>\n",
       "      <th>513799</th>\n",
       "      <td>10:5</td>\n",
       "      <td>15:13</td>\n",
       "      <td>right</td>\n",
       "      <td>&lt;urn:uuid:fffe046c-8448-4e32-aa29-f3db718669b4&gt;</td>\n",
       "      <td>https://www.wnd.com/2008/05/65641/</td>\n",
       "      <td>A Catholic school has been given court permiss...</td>\n",
       "    </tr>\n",
       "    <tr>\n",
       "      <th>513800</th>\n",
       "      <td>10:6</td>\n",
       "      <td>15:8</td>\n",
       "      <td>right</td>\n",
       "      <td>&lt;urn:uuid:fffe95b1-e48d-4fc3-8fcf-4052917cb996&gt;</td>\n",
       "      <td>https://www.thegatewaypundit.com/2021/10/watch...</td>\n",
       "      <td>WATCH: HOT MIC: Parents Call For Resignation A...</td>\n",
       "    </tr>\n",
       "    <tr>\n",
       "      <th>513801</th>\n",
       "      <td>10:6</td>\n",
       "      <td>15:8</td>\n",
       "      <td>right</td>\n",
       "      <td>&lt;urn:uuid:ffff1668-5ef2-405f-bd06-5940a755c26a&gt;</td>\n",
       "      <td>https://www.theepochtimes.com/book-review-beco...</td>\n",
       "      <td>Chelsea is a recent graduate of Saint Mary’s C...</td>\n",
       "    </tr>\n",
       "  </tbody>\n",
       "</table>\n",
       "<p>513802 rows × 6 columns</p>\n",
       "</div>"
      ]
     },
     "execution_count": 2,
     "metadata": {},
     "output_type": "execute_result"
    }
   ],
   "execution_count": 2
  },
  {
   "cell_type": "markdown",
   "id": "3",
   "metadata": {},
   "source": [
    "Dropping useless columns."
   ]
  },
  {
   "cell_type": "code",
   "id": "4",
   "metadata": {
    "ExecuteTime": {
     "end_time": "2025-02-22T08:08:50.170954Z",
     "start_time": "2025-02-22T08:08:50.145401Z"
    }
   },
   "source": "df = df.drop(columns=[\"topic10\", \"topic15\", \"oscarID\", \"url\"])",
   "outputs": [],
   "execution_count": 3
  },
  {
   "cell_type": "markdown",
   "id": "5",
   "metadata": {},
   "source": "Renaming and reordering columns."
  },
  {
   "cell_type": "code",
   "id": "6",
   "metadata": {
    "ExecuteTime": {
     "end_time": "2025-02-22T08:08:50.337999Z",
     "start_time": "2025-02-22T08:08:50.230133Z"
    }
   },
   "source": [
    "df = df.rename(columns={\"text\": \"body\", \"stance\": \"leaning\"})\n",
    "df = df[[\"body\", \"leaning\"]].copy()"
   ],
   "outputs": [],
   "execution_count": 4
  },
  {
   "cell_type": "markdown",
   "id": "7",
   "metadata": {},
   "source": "Categorizing the leaning label column."
  },
  {
   "cell_type": "code",
   "id": "8",
   "metadata": {
    "ExecuteTime": {
     "end_time": "2025-02-22T08:08:50.370846Z",
     "start_time": "2025-02-22T08:08:50.347212Z"
    }
   },
   "source": "df[\"leaning\"].unique()",
   "outputs": [
    {
     "data": {
      "text/plain": [
       "array(['left', nan, 'right'], dtype=object)"
      ]
     },
     "execution_count": 5,
     "metadata": {},
     "output_type": "execute_result"
    }
   ],
   "execution_count": 5
  },
  {
   "metadata": {
    "ExecuteTime": {
     "end_time": "2025-02-22T08:08:50.445809Z",
     "start_time": "2025-02-22T08:08:50.399215Z"
    }
   },
   "cell_type": "code",
   "source": "df[\"leaning\"] = df[\"leaning\"].astype(\"category\")",
   "id": "cf59afcf148ae0c9",
   "outputs": [],
   "execution_count": 6
  },
  {
   "metadata": {},
   "cell_type": "markdown",
   "source": "Adding the politicalness label column.",
   "id": "94d59d04542c399e"
  },
  {
   "metadata": {
    "ExecuteTime": {
     "end_time": "2025-02-22T08:08:50.547760Z",
     "start_time": "2025-02-22T08:08:50.472899Z"
    }
   },
   "cell_type": "code",
   "source": "df[\"politicalness\"] = pd.Categorical([\"political\"] * len(df))",
   "id": "c78360b32c4d2e7f",
   "outputs": [],
   "execution_count": 7
  },
  {
   "metadata": {},
   "cell_type": "markdown",
   "source": "Stripping the bodies.",
   "id": "fd4227bab7c3fb8b"
  },
  {
   "metadata": {
    "ExecuteTime": {
     "end_time": "2025-02-22T08:08:51.148272Z",
     "start_time": "2025-02-22T08:08:50.575062Z"
    }
   },
   "cell_type": "code",
   "source": "df[\"body\"] = (df[\"body\"].str.strip()).replace(\"\", np.nan)",
   "id": "70d6863f9fb9ddf4",
   "outputs": [],
   "execution_count": 8
  },
  {
   "metadata": {},
   "cell_type": "markdown",
   "source": "Dropping rows with missing data.",
   "id": "9517e81e090393a8"
  },
  {
   "metadata": {
    "ExecuteTime": {
     "end_time": "2025-02-22T08:08:51.333272Z",
     "start_time": "2025-02-22T08:08:51.186968Z"
    }
   },
   "cell_type": "code",
   "source": "df = df.dropna()",
   "id": "9161f0c8e9964af1",
   "outputs": [],
   "execution_count": 9
  },
  {
   "cell_type": "markdown",
   "id": "12",
   "metadata": {},
   "source": "Printing body duplicates."
  },
  {
   "cell_type": "code",
   "id": "13",
   "metadata": {
    "ExecuteTime": {
     "end_time": "2025-02-22T08:08:52.684469Z",
     "start_time": "2025-02-22T08:08:51.365100Z"
    }
   },
   "source": "df[df[\"body\"].duplicated(keep=False)]",
   "outputs": [
    {
     "data": {
      "text/plain": [
       "                                                     body leaning  \\\n",
       "9       The Intercept pursues the stories others don’t...    left   \n",
       "24      All the latest on dysfunction in Donald Trump'...    left   \n",
       "42      ........NY Post's Kyle Smith on VP Kamala Harr...    left   \n",
       "62      Two top Senate leaders declared Tuesday that t...    left   \n",
       "64      (CNN) Cutting taxes for the rich helps the poo...    left   \n",
       "...                                                   ...     ...   \n",
       "513699  Supreme Court <NS> Published October 15 <NS> P...   right   \n",
       "513705  The Washington Free Beacon's morning email lay...   right   \n",
       "513707  GOP staffer Elizabeth Lauten got fired for pok...   right   \n",
       "513709  One week ago, May 28, 2011, RT correspondent a...   right   \n",
       "513757  A Texas abortionist has admitted that he has a...   right   \n",
       "\n",
       "       politicalness  \n",
       "9          political  \n",
       "24         political  \n",
       "42         political  \n",
       "62         political  \n",
       "64         political  \n",
       "...              ...  \n",
       "513699     political  \n",
       "513705     political  \n",
       "513707     political  \n",
       "513709     political  \n",
       "513757     political  \n",
       "\n",
       "[47902 rows x 3 columns]"
      ],
      "text/html": [
       "<div>\n",
       "<style scoped>\n",
       "    .dataframe tbody tr th:only-of-type {\n",
       "        vertical-align: middle;\n",
       "    }\n",
       "\n",
       "    .dataframe tbody tr th {\n",
       "        vertical-align: top;\n",
       "    }\n",
       "\n",
       "    .dataframe thead th {\n",
       "        text-align: right;\n",
       "    }\n",
       "</style>\n",
       "<table border=\"1\" class=\"dataframe\">\n",
       "  <thead>\n",
       "    <tr style=\"text-align: right;\">\n",
       "      <th></th>\n",
       "      <th>body</th>\n",
       "      <th>leaning</th>\n",
       "      <th>politicalness</th>\n",
       "    </tr>\n",
       "  </thead>\n",
       "  <tbody>\n",
       "    <tr>\n",
       "      <th>9</th>\n",
       "      <td>The Intercept pursues the stories others don’t...</td>\n",
       "      <td>left</td>\n",
       "      <td>political</td>\n",
       "    </tr>\n",
       "    <tr>\n",
       "      <th>24</th>\n",
       "      <td>All the latest on dysfunction in Donald Trump'...</td>\n",
       "      <td>left</td>\n",
       "      <td>political</td>\n",
       "    </tr>\n",
       "    <tr>\n",
       "      <th>42</th>\n",
       "      <td>........NY Post's Kyle Smith on VP Kamala Harr...</td>\n",
       "      <td>left</td>\n",
       "      <td>political</td>\n",
       "    </tr>\n",
       "    <tr>\n",
       "      <th>62</th>\n",
       "      <td>Two top Senate leaders declared Tuesday that t...</td>\n",
       "      <td>left</td>\n",
       "      <td>political</td>\n",
       "    </tr>\n",
       "    <tr>\n",
       "      <th>64</th>\n",
       "      <td>(CNN) Cutting taxes for the rich helps the poo...</td>\n",
       "      <td>left</td>\n",
       "      <td>political</td>\n",
       "    </tr>\n",
       "    <tr>\n",
       "      <th>...</th>\n",
       "      <td>...</td>\n",
       "      <td>...</td>\n",
       "      <td>...</td>\n",
       "    </tr>\n",
       "    <tr>\n",
       "      <th>513699</th>\n",
       "      <td>Supreme Court &lt;NS&gt; Published October 15 &lt;NS&gt; P...</td>\n",
       "      <td>right</td>\n",
       "      <td>political</td>\n",
       "    </tr>\n",
       "    <tr>\n",
       "      <th>513705</th>\n",
       "      <td>The Washington Free Beacon's morning email lay...</td>\n",
       "      <td>right</td>\n",
       "      <td>political</td>\n",
       "    </tr>\n",
       "    <tr>\n",
       "      <th>513707</th>\n",
       "      <td>GOP staffer Elizabeth Lauten got fired for pok...</td>\n",
       "      <td>right</td>\n",
       "      <td>political</td>\n",
       "    </tr>\n",
       "    <tr>\n",
       "      <th>513709</th>\n",
       "      <td>One week ago, May 28, 2011, RT correspondent a...</td>\n",
       "      <td>right</td>\n",
       "      <td>political</td>\n",
       "    </tr>\n",
       "    <tr>\n",
       "      <th>513757</th>\n",
       "      <td>A Texas abortionist has admitted that he has a...</td>\n",
       "      <td>right</td>\n",
       "      <td>political</td>\n",
       "    </tr>\n",
       "  </tbody>\n",
       "</table>\n",
       "<p>47902 rows × 3 columns</p>\n",
       "</div>"
      ]
     },
     "execution_count": 10,
     "metadata": {},
     "output_type": "execute_result"
    }
   ],
   "execution_count": 10
  },
  {
   "metadata": {},
   "cell_type": "markdown",
   "source": "Dropping the body duplicates.",
   "id": "f33618f32f7dbe38"
  },
  {
   "metadata": {
    "ExecuteTime": {
     "end_time": "2025-02-22T08:08:52.947019Z",
     "start_time": "2025-02-22T08:08:52.754949Z"
    }
   },
   "cell_type": "code",
   "source": "df = df.drop_duplicates(subset=\"body\")",
   "id": "1e9d4908548e6223",
   "outputs": [],
   "execution_count": 11
  },
  {
   "metadata": {},
   "cell_type": "markdown",
   "source": "Removing the new paragraph token from the bodies.",
   "id": "76bb06802024e21f"
  },
  {
   "metadata": {
    "ExecuteTime": {
     "end_time": "2025-02-22T08:08:57.428805Z",
     "start_time": "2025-02-22T08:08:52.988585Z"
    }
   },
   "cell_type": "code",
   "source": "df[\"body\"] = df[\"body\"].str.replace(\" <NS>\", \"\")",
   "id": "1bcd3295f7637d35",
   "outputs": [],
   "execution_count": 12
  },
  {
   "cell_type": "markdown",
   "id": "18",
   "metadata": {},
   "source": "Inspecting the body length."
  },
  {
   "cell_type": "code",
   "id": "19",
   "metadata": {
    "jupyter": {
     "is_executing": true
    },
    "ExecuteTime": {
     "start_time": "2025-02-22T08:08:57.446601Z"
    }
   },
   "source": [
    "df[\"body_length\"] = df[\"body\"].fillna(\"\").str.len()\n",
    "df[\"body_word_count\"] = df[\"body\"].fillna(\"\").str.split().str.len()\n",
    "df = df.sort_values(by=\"body_length\")\n",
    "df.head()"
   ],
   "outputs": [],
   "execution_count": null
  },
  {
   "metadata": {},
   "cell_type": "markdown",
   "source": "Downsampling the dataset.",
   "id": "81660932b32d3e62"
  },
  {
   "metadata": {},
   "cell_type": "code",
   "source": [
    "SAMPLE_SIZE = 100_000\n",
    "\n",
    "dataset = PoliticalLeaningDataset(\"media_political_stance\", df)\n",
    "df = dataset.take_even_class_distribution_sample(SAMPLE_SIZE).dataframe"
   ],
   "id": "5e300638252cde80",
   "outputs": [],
   "execution_count": null
  },
  {
   "metadata": {},
   "cell_type": "markdown",
   "source": "Inspecting the body word count median.",
   "id": "cea481013a76b7ac"
  },
  {
   "metadata": {},
   "cell_type": "code",
   "source": "df[\"body_word_count\"].median()",
   "id": "ed3b6b4bba601011",
   "outputs": [],
   "execution_count": null
  },
  {
   "cell_type": "markdown",
   "id": "23",
   "metadata": {},
   "source": [
    "The leaning distribution."
   ]
  },
  {
   "cell_type": "code",
   "id": "24",
   "metadata": {},
   "source": "df.groupby(\"leaning\", observed=True).size().plot.pie(autopct=\"%1.1f%%\");",
   "outputs": [],
   "execution_count": null
  },
  {
   "cell_type": "markdown",
   "id": "25",
   "metadata": {},
   "source": [
    "The distribution of body length sums per leaning."
   ]
  },
  {
   "cell_type": "code",
   "id": "26",
   "metadata": {},
   "source": "df.groupby(\"leaning\", observed=True)[\"body_length\"].sum().plot.pie(autopct=\"%1.1f%%\", ylabel=\"\");",
   "outputs": [],
   "execution_count": null
  },
  {
   "cell_type": "markdown",
   "id": "27",
   "metadata": {},
   "source": "The body length distribution by leaning."
  },
  {
   "cell_type": "code",
   "id": "28",
   "metadata": {},
   "source": [
    "plt.figure(figsize=(10, 6))\n",
    "\n",
    "for leaning in df[\"leaning\"].unique():\n",
    "    df_leaning = df[df[\"leaning\"] == leaning]\n",
    "    downsampled = pd.concat(\n",
    "        # Ensuring to include the last (longest) item.\n",
    "        [df_leaning[\"body_length\"].iloc[::100], df_leaning[\"body_length\"].tail(1)]\n",
    "    ).drop_duplicates().reset_index(drop=True)\n",
    "    plt.plot(downsampled, label=leaning)\n",
    "\n",
    "plt.xlabel(\"downsampled index\")\n",
    "plt.ylabel(\"body length\")\n",
    "plt.title(\"body length by political leaning\")\n",
    "plt.legend(title=\"leaning\")\n",
    "plt.show()"
   ],
   "outputs": [],
   "execution_count": null
  },
  {
   "metadata": {},
   "cell_type": "code",
   "source": "df.to_parquet(\"../preprocessed/media_political_stance.parquet\")",
   "id": "29",
   "outputs": [],
   "execution_count": null
  }
 ],
 "metadata": {
  "kernelspec": {
   "display_name": "Python 3",
   "language": "python",
   "name": "python3"
  },
  "language_info": {
   "codemirror_mode": {
    "name": "ipython",
    "version": 2
   },
   "file_extension": ".py",
   "mimetype": "text/x-python",
   "name": "python",
   "nbconvert_exporter": "python",
   "pygments_lexer": "ipython2",
   "version": "2.7.6"
  }
 },
 "nbformat": 4,
 "nbformat_minor": 5
}
