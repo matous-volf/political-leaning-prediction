{
 "cells": [
  {
   "cell_type": "code",
   "id": "0",
   "metadata": {},
   "source": [
    "from pathlib import Path\n",
    "\n",
    "import kagglehub\n",
    "import numpy as np\n",
    "import pandas as pd\n"
   ],
   "outputs": [],
   "execution_count": null
  },
  {
   "cell_type": "markdown",
   "id": "1",
   "metadata": {},
   "source": [
    "Reading the raw dataset."
   ]
  },
  {
   "cell_type": "code",
   "id": "2",
   "metadata": {},
   "source": [
    "path = kagglehub.dataset_download(\n",
    "    \"nbandhi/political-podcasts-listing-with-audio-links/versions/1\"\n",
    ")\n",
    "df = pd.read_csv(open(Path(path, \"politicalpodcasts.csv\")), encoding=\"utf-8\")\n",
    "df = df.set_index(\"Unnamed: 0\").rename_axis(None)\n",
    "df\n"
   ],
   "outputs": [],
   "execution_count": null
  },
  {
   "cell_type": "markdown",
   "id": "3",
   "metadata": {},
   "source": [
    "Dropping useless columns."
   ]
  },
  {
   "cell_type": "code",
   "id": "4",
   "metadata": {},
   "source": [
    "df = df.drop(columns=[\"podcaster\", \"pub_date\", \"pod_link\"])\n"
   ],
   "outputs": [],
   "execution_count": null
  },
  {
   "cell_type": "markdown",
   "id": "5",
   "metadata": {},
   "source": "Renaming and reordering columns."
  },
  {
   "cell_type": "code",
   "id": "6",
   "metadata": {},
   "source": [
    "df = df.rename(columns={\"abstract\": \"body\", \"type\": \"leaning\"})\n",
    "df = df[[\"title\", \"body\", \"leaning\"]].copy()\n"
   ],
   "outputs": [],
   "execution_count": null
  },
  {
   "cell_type": "markdown",
   "id": "7",
   "metadata": {},
   "source": "Categorizing the leaning label column."
  },
  {
   "cell_type": "code",
   "id": "8",
   "metadata": {},
   "source": [
    "df[\"leaning\"].unique()\n"
   ],
   "outputs": [],
   "execution_count": null
  },
  {
   "metadata": {},
   "cell_type": "code",
   "source": [
    "df[\"leaning\"] = df[\"leaning\"].replace({\"liberal\": \"left\", \"conservative\": \"right\"})\n",
    "df[\"leaning\"] = df[\"leaning\"].astype(\"category\")\n"
   ],
   "id": "a622e96331561a86",
   "outputs": [],
   "execution_count": null
  },
  {
   "metadata": {},
   "cell_type": "markdown",
   "source": "Adding the politicalness label column.",
   "id": "4d63f09143fb623b"
  },
  {
   "metadata": {},
   "cell_type": "code",
   "source": [
    "df[\"politicalness\"] = pd.Categorical([\"political\"] * len(df))\n"
   ],
   "id": "d83b208dc8caca3d",
   "outputs": [],
   "execution_count": null
  },
  {
   "metadata": {},
   "cell_type": "markdown",
   "source": "Stripping the bodies.",
   "id": "86a76dc182be6477"
  },
  {
   "metadata": {},
   "cell_type": "code",
   "source": [
    "df[\"body\"] = (df[\"body\"].str.strip()).replace(\"\", np.nan)\n"
   ],
   "id": "9b3181fc47411a09",
   "outputs": [],
   "execution_count": null
  },
  {
   "cell_type": "markdown",
   "id": "10",
   "metadata": {},
   "source": [
    "Dropping rows with missing data."
   ]
  },
  {
   "cell_type": "code",
   "id": "11",
   "metadata": {},
   "source": [
    "df = df.dropna()\n"
   ],
   "outputs": [],
   "execution_count": null
  },
  {
   "cell_type": "markdown",
   "id": "12",
   "metadata": {},
   "source": "Printing body duplicates."
  },
  {
   "cell_type": "code",
   "id": "13",
   "metadata": {},
   "source": [
    "df[df[\"body\"].duplicated(keep=False)]\n"
   ],
   "outputs": [],
   "execution_count": null
  },
  {
   "cell_type": "markdown",
   "id": "14",
   "metadata": {},
   "source": "Dropping the body duplicates."
  },
  {
   "cell_type": "code",
   "id": "15",
   "metadata": {},
   "source": [
    "df = df.drop_duplicates(subset=\"body\")\n"
   ],
   "outputs": [],
   "execution_count": null
  },
  {
   "cell_type": "markdown",
   "id": "18",
   "metadata": {},
   "source": "Inspecting the title and the body length."
  },
  {
   "cell_type": "code",
   "id": "19",
   "metadata": {},
   "source": [
    "df[\"title_length\"] = df[\"title\"].fillna(\"\").str.len()\n",
    "df[\"title_word_count\"] = df[\"title\"].fillna(\"\").str.split().str.len()\n",
    "df[\"body_length\"] = df[\"body\"].fillna(\"\").str.len()\n",
    "df[\"body_word_count\"] = df[\"body\"].fillna(\"\").str.split().str.len()\n",
    "df = df.sort_values(by=\"body_length\")\n",
    "df.head()\n"
   ],
   "outputs": [],
   "execution_count": null
  },
  {
   "cell_type": "markdown",
   "id": "20",
   "metadata": {},
   "source": "After the inspection, rows with bodies shorter than 6 words seem to contain no political value. Removing them."
  },
  {
   "cell_type": "code",
   "id": "21",
   "metadata": {},
   "source": [
    "body_word_count_lower_bound = 6\n",
    "df = df[df[\"body_word_count\"] >= body_word_count_lower_bound]\n"
   ],
   "outputs": [],
   "execution_count": null
  },
  {
   "cell_type": "code",
   "id": "29",
   "metadata": {},
   "source": [
    "df.to_parquet(\"../preprocessed/political_podcasts.parquet\")\n"
   ],
   "outputs": [],
   "execution_count": null
  }
 ],
 "metadata": {
  "kernelspec": {
   "display_name": "Python 3",
   "language": "python",
   "name": "python3"
  },
  "language_info": {
   "codemirror_mode": {
    "name": "ipython",
    "version": 2
   },
   "file_extension": ".py",
   "mimetype": "text/x-python",
   "name": "python",
   "nbconvert_exporter": "python",
   "pygments_lexer": "ipython2",
   "version": "2.7.6"
  }
 },
 "nbformat": 4,
 "nbformat_minor": 5
}