{
 "cells": [
  {
   "cell_type": "code",
   "id": "0",
   "metadata": {},
   "source": [
    "import numpy as np\n",
    "import pandas as pd\n",
    "from datasets import concatenate_datasets, load_dataset\n",
    "from matplotlib import pyplot as plt\n",
    "\n",
    "from utils.dataset_utils import PoliticalLeaningDataset"
   ],
   "outputs": [],
   "execution_count": null
  },
  {
   "cell_type": "markdown",
   "id": "1",
   "metadata": {},
   "source": [
    "Reading the raw dataset."
   ]
  },
  {
   "cell_type": "code",
   "id": "2",
   "metadata": {},
   "source": [
    "ds = load_dataset(\n",
    "    \"Jacobvs/PoliticalTweets\",\n",
    "    revision=\"1ddaa14beed79edda621fdd72ad22fd654d760b3\"\n",
    ")\n",
    "df = concatenate_datasets(ds.values()).to_pandas()\n",
    "df = df.set_index(\"index\").rename_axis(None)\n",
    "df"
   ],
   "outputs": [],
   "execution_count": null
  },
  {
   "cell_type": "markdown",
   "id": "3",
   "metadata": {},
   "source": [
    "Dropping useless columns."
   ]
  },
  {
   "cell_type": "code",
   "id": "4",
   "metadata": {},
   "source": "df = df.drop(columns=[\"id\", \"username\", \"labels\"])",
   "outputs": [],
   "execution_count": null
  },
  {
   "cell_type": "markdown",
   "id": "5",
   "metadata": {},
   "source": [
    "Renaming columns."
   ]
  },
  {
   "cell_type": "code",
   "id": "6",
   "metadata": {},
   "source": "df = df.rename(columns={\"text\": \"body\", \"party\": \"leaning\"})",
   "outputs": [],
   "execution_count": null
  },
  {
   "cell_type": "markdown",
   "id": "7",
   "metadata": {},
   "source": "Categorizing the leaning label column."
  },
  {
   "cell_type": "code",
   "id": "8",
   "metadata": {},
   "source": "df[\"leaning\"].unique()",
   "outputs": [],
   "execution_count": null
  },
  {
   "metadata": {},
   "cell_type": "code",
   "source": [
    "df[\"leaning\"] = df[\"leaning\"].replace({\"Democrat\": \"left\", \"Republican\": \"right\"})\n",
    "df[\"leaning\"] = df[\"leaning\"].astype(\"category\")"
   ],
   "id": "f03b8e1223b50f7f",
   "outputs": [],
   "execution_count": null
  },
  {
   "metadata": {},
   "cell_type": "markdown",
   "source": "Adding the politicalness label column.",
   "id": "6166e5c7dede6b60"
  },
  {
   "metadata": {},
   "cell_type": "code",
   "source": "df[\"politicalness\"] = pd.Categorical([\"political\"] * len(df))",
   "id": "979485b79e2dfe24",
   "outputs": [],
   "execution_count": null
  },
  {
   "metadata": {},
   "cell_type": "markdown",
   "source": "Stripping the bodies.",
   "id": "5985ea4ffb764728"
  },
  {
   "metadata": {},
   "cell_type": "code",
   "source": "df[\"body\"] = (df[\"body\"].str.strip()).replace(\"\", np.nan)",
   "id": "4a7d2341b7bd4310",
   "outputs": [],
   "execution_count": null
  },
  {
   "cell_type": "markdown",
   "id": "10",
   "metadata": {},
   "source": [
    "Dropping rows with missing data."
   ]
  },
  {
   "cell_type": "code",
   "id": "11",
   "metadata": {},
   "source": [
    "df = df.dropna()"
   ],
   "outputs": [],
   "execution_count": null
  },
  {
   "cell_type": "markdown",
   "id": "12",
   "metadata": {},
   "source": "Printing body duplicates."
  },
  {
   "cell_type": "code",
   "id": "13",
   "metadata": {},
   "source": [
    "df[df[\"body\"].duplicated(keep=False)]"
   ],
   "outputs": [],
   "execution_count": null
  },
  {
   "cell_type": "markdown",
   "id": "14",
   "metadata": {},
   "source": "Dropping the body duplicates."
  },
  {
   "cell_type": "code",
   "id": "15",
   "metadata": {},
   "source": [
    "df = df.drop_duplicates(subset=\"body\")"
   ],
   "outputs": [],
   "execution_count": null
  },
  {
   "cell_type": "markdown",
   "id": "18",
   "metadata": {},
   "source": "Inspecting the body length."
  },
  {
   "cell_type": "code",
   "id": "19",
   "metadata": {},
   "source": [
    "df[\"body_length\"] = df[\"body\"].fillna(\"\").str.len()\n",
    "df[\"body_word_count\"] = df[\"body\"].fillna(\"\").str.split().str.len()\n",
    "df = df.sort_values(by=\"body_length\")\n",
    "df.head()"
   ],
   "outputs": [],
   "execution_count": null
  },
  {
   "cell_type": "markdown",
   "id": "20",
   "metadata": {},
   "source": "After the inspection, rows with bodies shorter than 2 words seem to contain no political value. Removing them."
  },
  {
   "cell_type": "code",
   "id": "21",
   "metadata": {},
   "source": [
    "body_word_count_lower_bound = 2\n",
    "df = df[df[\"body_word_count\"] >= body_word_count_lower_bound]"
   ],
   "outputs": [],
   "execution_count": null
  },
  {
   "metadata": {},
   "cell_type": "markdown",
   "source": "Downsampling the dataset.",
   "id": "36c0eace495cede6"
  },
  {
   "metadata": {},
   "cell_type": "code",
   "source": [
    "SAMPLE_SIZE = 100_000\n",
    "\n",
    "dataset = PoliticalLeaningDataset(\"political_tweets\", df)\n",
    "df = dataset.take_even_class_sample_by_size(SAMPLE_SIZE).dataframe"
   ],
   "id": "ecbb5667874f17d2",
   "outputs": [],
   "execution_count": null
  },
  {
   "cell_type": "code",
   "id": "29",
   "metadata": {},
   "source": "df.to_parquet(\"../preprocessed/political_tweets.parquet\")",
   "outputs": [],
   "execution_count": null
  }
 ],
 "metadata": {
  "kernelspec": {
   "display_name": "Python 3",
   "language": "python",
   "name": "python3"
  },
  "language_info": {
   "codemirror_mode": {
    "name": "ipython",
    "version": 2
   },
   "file_extension": ".py",
   "mimetype": "text/x-python",
   "name": "python",
   "nbconvert_exporter": "python",
   "pygments_lexer": "ipython2",
   "version": "2.7.6"
  }
 },
 "nbformat": 4,
 "nbformat_minor": 5
}
