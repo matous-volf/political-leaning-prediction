{
 "cells": [
  {
   "cell_type": "code",
   "id": "0",
   "metadata": {},
   "source": [
    "import numpy as np\n",
    "\n",
    "import pandas as pd\n"
   ],
   "outputs": [],
   "execution_count": null
  },
  {
   "cell_type": "markdown",
   "id": "1",
   "metadata": {},
   "source": [
    "Reading the raw dataset."
   ]
  },
  {
   "metadata": {},
   "cell_type": "code",
   "source": [
    "df = pd.read_json(open(\"../raw/webis_news_bias_20.json\"), lines=True)\n",
    "df\n"
   ],
   "id": "2",
   "outputs": [],
   "execution_count": null
  },
  {
   "cell_type": "markdown",
   "id": "3",
   "metadata": {},
   "source": [
    "Dropping useless columns."
   ]
  },
  {
   "cell_type": "code",
   "id": "4",
   "metadata": {},
   "source": [
    "df = df.drop(\n",
    "    columns=[\n",
    "        \"source\",\n",
    "        \"event_id\",\n",
    "        \"adfontes_fair\",\n",
    "        \"adfontes_political\",\n",
    "        \"misc\",\n",
    "    ]\n",
    ")\n"
   ],
   "outputs": [],
   "execution_count": null
  },
  {
   "cell_type": "markdown",
   "id": "5",
   "metadata": {},
   "source": [
    "Renaming and reordering columns."
   ]
  },
  {
   "cell_type": "code",
   "id": "6",
   "metadata": {},
   "source": [
    "df = df.rename(columns={\"content\": \"body\", \"allsides_bias\": \"leaning\"})\n",
    "df = df[[\"title\", \"body\", \"leaning\"]].copy()\n"
   ],
   "outputs": [],
   "execution_count": null
  },
  {
   "cell_type": "markdown",
   "id": "7",
   "metadata": {},
   "source": "Categorizing the leaning label column."
  },
  {
   "metadata": {},
   "cell_type": "code",
   "source": [
    "df[\"leaning\"] = df[\"leaning\"].astype(\"category\")\n",
    "df[\"leaning\"] = df[\"leaning\"].cat.rename_categories(\n",
    "    {\n",
    "        \"From the Left\": \"left\",\n",
    "        \"From the Center\": \"center\",\n",
    "        \"From the Right\": \"right\",\n",
    "    }\n",
    ")\n"
   ],
   "id": "31bd35148f01512b",
   "outputs": [],
   "execution_count": null
  },
  {
   "metadata": {},
   "cell_type": "markdown",
   "source": "Adding the politicalness label column.",
   "id": "19ea018f10f54886"
  },
  {
   "metadata": {},
   "cell_type": "code",
   "source": [
    "df[\"politicalness\"] = pd.Categorical([\"political\"] * len(df))\n"
   ],
   "id": "2371fecef04c3c39",
   "outputs": [],
   "execution_count": null
  },
  {
   "metadata": {},
   "cell_type": "markdown",
   "source": "Stripping the titles and the bodies.",
   "id": "4e0044d046648d48"
  },
  {
   "metadata": {},
   "cell_type": "code",
   "source": [
    "df[\"title\"] = (df[\"title\"].str.strip()).replace(\"\", np.nan)\n",
    "df[\"body\"] = (df[\"body\"].str.strip()).replace(\"\", np.nan)\n"
   ],
   "id": "bc13576999c0abaf",
   "outputs": [],
   "execution_count": null
  },
  {
   "metadata": {},
   "cell_type": "markdown",
   "source": "Dropping rows missing either the leaning or both the title and the body.",
   "id": "6db389b06471c88f"
  },
  {
   "metadata": {},
   "cell_type": "code",
   "source": [
    "df = df.dropna(subset=[\"leaning\"])\n",
    "df = df.dropna(subset=[\"title\", \"body\"], how=\"all\")\n"
   ],
   "id": "4d2c31382e724db6",
   "outputs": [],
   "execution_count": null
  },
  {
   "metadata": {},
   "cell_type": "markdown",
   "source": "Printing body duplicates.",
   "id": "f6ec4797cd3b57"
  },
  {
   "metadata": {},
   "cell_type": "code",
   "source": [
    "df[df[\"body\"].duplicated(keep=False)]\n"
   ],
   "id": "65863daf1c49684e",
   "outputs": [],
   "execution_count": null
  },
  {
   "cell_type": "markdown",
   "id": "13",
   "metadata": {},
   "source": "Dropping the body duplicates."
  },
  {
   "cell_type": "code",
   "id": "14",
   "metadata": {},
   "source": [
    "df = df.drop_duplicates(subset=\"body\")\n"
   ],
   "outputs": [],
   "execution_count": null
  },
  {
   "cell_type": "markdown",
   "id": "15",
   "metadata": {},
   "source": "Inspecting the title and the body length."
  },
  {
   "metadata": {},
   "cell_type": "code",
   "source": [
    "df[\"title_length\"] = df[\"title\"].fillna(\"\").str.len()\n",
    "df[\"title_word_count\"] = df[\"title\"].fillna(\"\").str.split().str.len()\n",
    "df[\"body_length\"] = df[\"body\"].fillna(\"\").str.len()\n",
    "df[\"body_word_count\"] = df[\"body\"].fillna(\"\").str.split().str.len()\n",
    "df = df.sort_values(by=\"body_length\")\n",
    "df.head()\n"
   ],
   "id": "f1615f417c35c4c",
   "outputs": [],
   "execution_count": null
  },
  {
   "cell_type": "markdown",
   "id": "17",
   "metadata": {},
   "source": "After the inspection, rows with bodies shorter than 30 words seem to contain no political value. Removing them."
  },
  {
   "cell_type": "code",
   "id": "18",
   "metadata": {},
   "source": [
    "body_word_count_lower_bound = 30\n",
    "df = df[df[\"body_word_count\"] >= body_word_count_lower_bound]\n"
   ],
   "outputs": [],
   "execution_count": null
  },
  {
   "cell_type": "code",
   "id": "26",
   "metadata": {},
   "source": [
    "df.to_parquet(\"../preprocessed/webis_news_bias_20.parquet\")\n"
   ],
   "outputs": [],
   "execution_count": null
  }
 ],
 "metadata": {
  "kernelspec": {
   "display_name": "Python 3",
   "language": "python",
   "name": "python3"
  },
  "language_info": {
   "codemirror_mode": {
    "name": "ipython",
    "version": 2
   },
   "file_extension": ".py",
   "mimetype": "text/x-python",
   "name": "python",
   "nbconvert_exporter": "python",
   "pygments_lexer": "ipython2",
   "version": "2.7.6"
  }
 },
 "nbformat": 4,
 "nbformat_minor": 5
}