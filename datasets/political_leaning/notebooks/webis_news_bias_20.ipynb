{
 "cells": [
  {
   "cell_type": "code",
   "id": "0",
   "metadata": {},
   "source": [
    "import numpy as np\n",
    "\n",
    "import pandas as pd\n",
    "from matplotlib import pyplot as plt"
   ],
   "outputs": [],
   "execution_count": null
  },
  {
   "cell_type": "markdown",
   "id": "1",
   "metadata": {},
   "source": [
    "Reading the raw dataset."
   ]
  },
  {
   "metadata": {},
   "cell_type": "code",
   "source": [
    "df = pd.read_json(open(\"../raw/webis_news_bias_20.json\"), lines=True)\n",
    "df"
   ],
   "id": "2",
   "outputs": [],
   "execution_count": null
  },
  {
   "cell_type": "markdown",
   "id": "3",
   "metadata": {},
   "source": [
    "Dropping useless columns."
   ]
  },
  {
   "cell_type": "code",
   "id": "4",
   "metadata": {},
   "source": [
    "df = df.drop(columns=[\"source\", \"event_id\", \"adfontes_fair\", \"adfontes_political\", \"misc\"])"
   ],
   "outputs": [],
   "execution_count": null
  },
  {
   "cell_type": "markdown",
   "id": "5",
   "metadata": {},
   "source": [
    "Renaming and reordering columns."
   ]
  },
  {
   "cell_type": "code",
   "id": "6",
   "metadata": {},
   "source": [
    "df = df.rename(columns={\"content\": \"body\", \"allsides_bias\": \"political_leaning\"})\n",
    "df = df[[\"title\", \"body\", \"political_leaning\"]].copy()"
   ],
   "outputs": [],
   "execution_count": null
  },
  {
   "cell_type": "markdown",
   "id": "7",
   "metadata": {},
   "source": [
    "Categorizing the leaning column."
   ]
  },
  {
   "cell_type": "code",
   "id": "8",
   "metadata": {},
   "source": [
    "df[\"political_leaning\"] = df[\"political_leaning\"].astype(\"category\")\n",
    "df[\"political_leaning\"] = df[\"political_leaning\"].cat.rename_categories(\n",
    "    {\"From the Left\": \"left\", \"From the Center\": \"center\", \"From the Right\": \"right\"}\n",
    ")"
   ],
   "outputs": [],
   "execution_count": null
  },
  {
   "metadata": {},
   "cell_type": "markdown",
   "source": "Stripping the titles and the bodies.",
   "id": "4454d0765e7276d4"
  },
  {
   "metadata": {},
   "cell_type": "code",
   "source": [
    "df[\"title\"] = (df[\"title\"].str.strip()).replace(\"\", np.nan)\n",
    "df[\"body\"] = (df[\"body\"].str.strip()).replace(\"\", np.nan)"
   ],
   "id": "37fb38dcd4f741aa",
   "outputs": [],
   "execution_count": null
  },
  {
   "metadata": {},
   "cell_type": "markdown",
   "source": "Dropping rows missing either the leaning or both the title and the body.",
   "id": "6db389b06471c88f"
  },
  {
   "metadata": {},
   "cell_type": "code",
   "source": [
    "df = df.dropna(subset=[\"political_leaning\"])\n",
    "df = df.dropna(subset=[\"title\", \"body\"], how=\"all\")"
   ],
   "id": "4d2c31382e724db6",
   "outputs": [],
   "execution_count": null
  },
  {
   "metadata": {},
   "cell_type": "markdown",
   "source": "Printing body duplicates.",
   "id": "f6ec4797cd3b57"
  },
  {
   "metadata": {},
   "cell_type": "code",
   "source": "df[df[\"body\"].duplicated(keep=False)]",
   "id": "65863daf1c49684e",
   "outputs": [],
   "execution_count": null
  },
  {
   "cell_type": "markdown",
   "id": "13",
   "metadata": {},
   "source": "Dropping the body duplicates."
  },
  {
   "cell_type": "code",
   "id": "14",
   "metadata": {},
   "source": [
    "df = df.drop_duplicates(subset=\"body\")"
   ],
   "outputs": [],
   "execution_count": null
  },
  {
   "cell_type": "markdown",
   "id": "15",
   "metadata": {},
   "source": "Inspecting the title and the body length."
  },
  {
   "metadata": {},
   "cell_type": "code",
   "source": [
    "df[\"title_length\"] = df[\"title\"].str.len()\n",
    "df[\"title_word_count\"] = df[\"title\"].str.split().str.len()\n",
    "df[\"body_length\"] = df[\"body\"].str.len()\n",
    "df[\"body_word_count\"] = df[\"body\"].str.split().str.len()\n",
    "df = df.sort_values(by=\"body_length\")\n",
    "df.head()"
   ],
   "id": "f1615f417c35c4c",
   "outputs": [],
   "execution_count": null
  },
  {
   "cell_type": "markdown",
   "id": "17",
   "metadata": {},
   "source": "After the inspection, rows with bodies shorter than 30 words seem to contain no political value. Removing them."
  },
  {
   "cell_type": "code",
   "id": "18",
   "metadata": {},
   "source": [
    "body_word_count_lower_bound = 30\n",
    "df = df[df[\"body_word_count\"] >= body_word_count_lower_bound]\n",
    "# Ensuring to include the last (longest) item.\n",
    "downsampled = pd.concat([df[\"body_length\"].iloc[::10], df[\"body_length\"].tail(1)]).drop_duplicates()\n",
    "downsampled.plot.bar().xaxis.set_ticks([]);"
   ],
   "outputs": [],
   "execution_count": null
  },
  {
   "metadata": {},
   "cell_type": "code",
   "source": "df[\"title_length\"].mean()",
   "id": "54c996544c4e4a6b",
   "outputs": [],
   "execution_count": null
  },
  {
   "cell_type": "code",
   "id": "19",
   "metadata": {},
   "source": [
    "df[\"body_length\"].mean()"
   ],
   "outputs": [],
   "execution_count": null
  },
  {
   "cell_type": "markdown",
   "id": "20",
   "metadata": {},
   "source": [
    "The leaning distribution."
   ]
  },
  {
   "cell_type": "code",
   "id": "21",
   "metadata": {},
   "source": "df.groupby(\"political_leaning\", observed=True).size().plot.pie(autopct=\"%1.1f%%\");",
   "outputs": [],
   "execution_count": null
  },
  {
   "cell_type": "markdown",
   "id": "22",
   "metadata": {},
   "source": [
    "The distribution of body length sums per leaning."
   ]
  },
  {
   "cell_type": "code",
   "id": "23",
   "metadata": {},
   "source": "df.groupby(\"political_leaning\", observed=True)[\"body_length\"].sum().plot.pie(autopct=\"%1.1f%%\", ylabel=\"\");",
   "outputs": [],
   "execution_count": null
  },
  {
   "cell_type": "markdown",
   "id": "24",
   "metadata": {},
   "source": "The body length distribution by leaning."
  },
  {
   "cell_type": "code",
   "id": "25",
   "metadata": {},
   "source": [
    "plt.figure(figsize=(10, 6))\n",
    "\n",
    "for leaning in df[\"political_leaning\"].unique():\n",
    "    df_leaning = df[df[\"political_leaning\"] == leaning]\n",
    "    downsampled = pd.concat(\n",
    "        # Ensuring to include the last (longest) item.\n",
    "        [df_leaning[\"body_length\"].iloc[::10], df_leaning[\"body_length\"].tail(1)]\n",
    "    ).drop_duplicates().reset_index(drop=True)\n",
    "    plt.plot(downsampled, label=leaning)\n",
    "\n",
    "plt.xlabel(\"downsampled index\")\n",
    "plt.ylabel(\"body length\")\n",
    "plt.title(\"body length by political political_leaning\")\n",
    "plt.legend(title=\"political_leaning\")\n",
    "plt.show()"
   ],
   "outputs": [],
   "execution_count": null
  },
  {
   "cell_type": "code",
   "id": "26",
   "metadata": {},
   "source": "df.to_parquet(\"../preprocessed/webis_news_bias_20.parquet\")",
   "outputs": [],
   "execution_count": null
  }
 ],
 "metadata": {
  "kernelspec": {
   "display_name": "Python 3",
   "language": "python",
   "name": "python3"
  },
  "language_info": {
   "codemirror_mode": {
    "name": "ipython",
    "version": 2
   },
   "file_extension": ".py",
   "mimetype": "text/x-python",
   "name": "python",
   "nbconvert_exporter": "python",
   "pygments_lexer": "ipython2",
   "version": "2.7.6"
  }
 },
 "nbformat": 4,
 "nbformat_minor": 5
}
