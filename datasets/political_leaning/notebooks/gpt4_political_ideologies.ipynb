{
 "cells": [
  {
   "cell_type": "code",
   "id": "0",
   "metadata": {},
   "source": [
    "import numpy as np\n",
    "import pandas as pd\n",
    "from datasets import concatenate_datasets, load_dataset\n"
   ],
   "outputs": [],
   "execution_count": null
  },
  {
   "cell_type": "markdown",
   "id": "1",
   "metadata": {},
   "source": [
    "Reading the raw dataset."
   ]
  },
  {
   "cell_type": "code",
   "id": "2",
   "metadata": {},
   "source": [
    "ds = load_dataset(\n",
    "    \"JyotiNayak/political_ideologies\",\n",
    "    revision=\"f748ec8a7cbbf916453ba489fdc9766b9e4f19c8\",\n",
    ")\n",
    "df = concatenate_datasets(ds.values()).to_pandas()\n",
    "df = df.set_index(\"__index_level_0__\").rename_axis(None)\n",
    "df\n"
   ],
   "outputs": [],
   "execution_count": null
  },
  {
   "cell_type": "markdown",
   "id": "3",
   "metadata": {},
   "source": [
    "Dropping useless columns."
   ]
  },
  {
   "cell_type": "code",
   "id": "4",
   "metadata": {},
   "source": [
    "df = df.drop(columns=[\"issue_type\"])\n"
   ],
   "outputs": [],
   "execution_count": null
  },
  {
   "cell_type": "markdown",
   "id": "5",
   "metadata": {},
   "source": [
    "Renaming columns."
   ]
  },
  {
   "cell_type": "code",
   "id": "6",
   "metadata": {},
   "source": [
    "df = df.rename(columns={\"statement\": \"body\", \"label\": \"leaning\"})\n"
   ],
   "outputs": [],
   "execution_count": null
  },
  {
   "cell_type": "markdown",
   "id": "7",
   "metadata": {},
   "source": "Categorizing the leaning label column."
  },
  {
   "cell_type": "code",
   "id": "8",
   "metadata": {},
   "source": [
    "df[\"leaning\"].unique()\n"
   ],
   "outputs": [],
   "execution_count": null
  },
  {
   "metadata": {},
   "cell_type": "code",
   "source": [
    "df[\"leaning\"] = df[\"leaning\"].replace({0: \"right\", 1: \"left\"})\n",
    "df[\"leaning\"] = df[\"leaning\"].astype(\"category\")\n"
   ],
   "id": "bf3a9a682cf52291",
   "outputs": [],
   "execution_count": null
  },
  {
   "metadata": {},
   "cell_type": "markdown",
   "source": "Adding the politicalness label column.",
   "id": "7ec49a3b1f43de3a"
  },
  {
   "metadata": {},
   "cell_type": "code",
   "source": [
    "df[\"politicalness\"] = pd.Categorical([\"political\"] * len(df))\n"
   ],
   "id": "84fe43441f7508fe",
   "outputs": [],
   "execution_count": null
  },
  {
   "metadata": {},
   "cell_type": "markdown",
   "source": "Stripping the bodies.",
   "id": "d7d586f00ce145d6"
  },
  {
   "metadata": {},
   "cell_type": "code",
   "source": [
    "df[\"body\"] = (df[\"body\"].str.strip()).replace(\"\", np.nan)\n"
   ],
   "id": "78ae854291838490",
   "outputs": [],
   "execution_count": null
  },
  {
   "cell_type": "markdown",
   "id": "10",
   "metadata": {},
   "source": [
    "Dropping rows with missing data."
   ]
  },
  {
   "cell_type": "code",
   "id": "11",
   "metadata": {},
   "source": [
    "df = df.dropna()\n"
   ],
   "outputs": [],
   "execution_count": null
  },
  {
   "cell_type": "markdown",
   "id": "12",
   "metadata": {},
   "source": "Printing body duplicates."
  },
  {
   "cell_type": "code",
   "id": "13",
   "metadata": {},
   "source": [
    "df[df[\"body\"].duplicated(keep=False)]\n"
   ],
   "outputs": [],
   "execution_count": null
  },
  {
   "cell_type": "markdown",
   "id": "18",
   "metadata": {},
   "source": "Inspecting the body length."
  },
  {
   "cell_type": "code",
   "id": "19",
   "metadata": {},
   "source": [
    "df[\"body_length\"] = df[\"body\"].fillna(\"\").str.len()\n",
    "df[\"body_word_count\"] = df[\"body\"].fillna(\"\").str.split().str.len()\n",
    "df = df.sort_values(by=\"body_length\")\n",
    "df.head()\n"
   ],
   "outputs": [],
   "execution_count": null
  },
  {
   "cell_type": "code",
   "id": "29",
   "metadata": {},
   "source": [
    "df.to_parquet(\"../preprocessed/gpt4_political_ideologies.parquet\")\n"
   ],
   "outputs": [],
   "execution_count": null
  }
 ],
 "metadata": {
  "kernelspec": {
   "display_name": "Python 3",
   "language": "python",
   "name": "python3"
  },
  "language_info": {
   "codemirror_mode": {
    "name": "ipython",
    "version": 2
   },
   "file_extension": ".py",
   "mimetype": "text/x-python",
   "name": "python",
   "nbconvert_exporter": "python",
   "pygments_lexer": "ipython2",
   "version": "2.7.6"
  }
 },
 "nbformat": 4,
 "nbformat_minor": 5
}