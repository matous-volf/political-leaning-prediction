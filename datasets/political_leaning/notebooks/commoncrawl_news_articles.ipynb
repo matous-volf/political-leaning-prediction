{
 "cells": [
  {
   "cell_type": "code",
   "id": "0",
   "metadata": {},
   "source": [
    "import sqlite3\n",
    "\n",
    "import numpy as np\n",
    "import pandas as pd\n",
    "from matplotlib import pyplot as plt\n",
    "\n",
    "from utils.dataset_utils import PoliticalLeaningDataset"
   ],
   "outputs": [],
   "execution_count": null
  },
  {
   "cell_type": "markdown",
   "id": "1",
   "metadata": {},
   "source": [
    "Reading the raw dataset."
   ]
  },
  {
   "cell_type": "code",
   "id": "2",
   "metadata": {},
   "source": [
    "connection = sqlite3.connect(\"../raw/commoncrawl_news_articles/articles.db\")\n",
    "\n",
    "df = pd.read_sql(\n",
    "    \"SELECT content_preprocessed, au.outlet_name FROM article_contents ac INNER JOIN article_urls au on ac.uuid = au.uuid WHERE language = 'en'\",\n",
    "    connection\n",
    ")\n",
    "\n",
    "outlets_df = pd.read_json(open(\"../raw/commoncrawl_news_articles/outlets.json\"))\n",
    "df = df.merge(outlets_df, how=\"outer\", left_on=\"outlet_name\", right_on=\"name\")\n",
    "df"
   ],
   "outputs": [],
   "execution_count": null
  },
  {
   "cell_type": "markdown",
   "id": "3",
   "metadata": {},
   "source": [
    "Dropping useless columns."
   ]
  },
  {
   "cell_type": "code",
   "id": "4",
   "metadata": {},
   "source": [
    "df = df.drop(columns=[\"outlet_name\", \"name\", \"tld\", \"filter\", \"allsides_name\"])"
   ],
   "outputs": [],
   "execution_count": null
  },
  {
   "cell_type": "markdown",
   "id": "5",
   "metadata": {},
   "source": [
    "Renaming columns."
   ]
  },
  {
   "cell_type": "code",
   "id": "6",
   "metadata": {},
   "source": "df = df.rename(columns={\"content_preprocessed\": \"body\", \"allsides_rating\": \"leaning\"})",
   "outputs": [],
   "execution_count": null
  },
  {
   "cell_type": "markdown",
   "id": "7",
   "metadata": {},
   "source": "Categorizing the leaning label column."
  },
  {
   "cell_type": "code",
   "id": "8",
   "metadata": {},
   "source": "df[\"leaning\"].unique()",
   "outputs": [],
   "execution_count": null
  },
  {
   "cell_type": "code",
   "id": "9",
   "metadata": {},
   "source": [
    "df[\"leaning\"] = df[\"leaning\"].replace({\"lean left\": \"left\", \"lean right\": \"right\"})\n",
    "df[\"leaning\"] = df[\"leaning\"].astype(\"category\")"
   ],
   "outputs": [],
   "execution_count": null
  },
  {
   "metadata": {},
   "cell_type": "markdown",
   "source": "Adding the politicalness label column.",
   "id": "9b07c84d19436a6f"
  },
  {
   "metadata": {},
   "cell_type": "code",
   "source": "df[\"politicalness\"] = pd.Categorical([\"political\"] * len(df))",
   "id": "6ba58f44c0f4c7fb",
   "outputs": [],
   "execution_count": null
  },
  {
   "metadata": {},
   "cell_type": "markdown",
   "source": "Stripping the bodies.",
   "id": "587e5fd6ecad88c5"
  },
  {
   "metadata": {},
   "cell_type": "code",
   "source": "df[\"body\"] = (df[\"body\"].str.strip()).replace(\"\", np.nan)",
   "id": "1c9af7a2b9c4727d",
   "outputs": [],
   "execution_count": null
  },
  {
   "cell_type": "markdown",
   "id": "10",
   "metadata": {},
   "source": [
    "Dropping rows with missing data."
   ]
  },
  {
   "cell_type": "code",
   "id": "11",
   "metadata": {},
   "source": [
    "df = df.dropna()"
   ],
   "outputs": [],
   "execution_count": null
  },
  {
   "cell_type": "markdown",
   "id": "12",
   "metadata": {},
   "source": "Printing body duplicates."
  },
  {
   "cell_type": "code",
   "id": "13",
   "metadata": {},
   "source": [
    "df[df[\"body\"].duplicated(keep=False)]"
   ],
   "outputs": [],
   "execution_count": null
  },
  {
   "cell_type": "markdown",
   "id": "14",
   "metadata": {},
   "source": "Dropping the body duplicates."
  },
  {
   "cell_type": "code",
   "id": "15",
   "metadata": {},
   "source": [
    "df = df.drop_duplicates(subset=\"body\")"
   ],
   "outputs": [],
   "execution_count": null
  },
  {
   "cell_type": "markdown",
   "id": "16",
   "metadata": {},
   "source": [
    "Replacing `<SENT_END>`s by spaces."
   ]
  },
  {
   "cell_type": "code",
   "id": "17",
   "metadata": {},
   "source": [
    "df[\"body\"] = df[\"body\"].str.replace(\"<SENT_END>\", \" \")"
   ],
   "outputs": [],
   "execution_count": null
  },
  {
   "cell_type": "markdown",
   "id": "18",
   "metadata": {},
   "source": "Inspecting the body length."
  },
  {
   "cell_type": "code",
   "id": "19",
   "metadata": {},
   "source": [
    "df[\"body_length\"] = df[\"body\"].str.len()\n",
    "df[\"body_word_count\"] = df[\"body\"].str.split().str.len()\n",
    "df = df.sort_values(by=\"body_length\")\n",
    "df.head()"
   ],
   "outputs": [],
   "execution_count": null
  },
  {
   "cell_type": "markdown",
   "id": "20",
   "metadata": {},
   "source": "After the inspection, rows with bodies shorter than 50 words seem to contain no political value. Removing them."
  },
  {
   "cell_type": "code",
   "id": "21",
   "metadata": {},
   "source": [
    "body_word_count_lower_bound = 50\n",
    "df = df[df[\"body_word_count\"] >= body_word_count_lower_bound]\n",
    "# Ensuring to include the last (longest) item.\n",
    "downsampled = pd.concat([df[\"body_length\"].iloc[::100], df[\"body_length\"].tail(1)]).drop_duplicates()\n",
    "downsampled.plot.bar().xaxis.set_ticks([]);"
   ],
   "outputs": [],
   "execution_count": null
  },
  {
   "metadata": {},
   "cell_type": "markdown",
   "source": "Downsampling the dataset.",
   "id": "ef815488829a1a54"
  },
  {
   "metadata": {},
   "cell_type": "code",
   "source": [
    "SAMPLE_SIZE = 100_000\n",
    "\n",
    "dataset = PoliticalLeaningDataset(\"commoncrawl_news_articles\", df)\n",
    "df = dataset.take_even_class_distribution_sample(SAMPLE_SIZE).dataframe"
   ],
   "id": "e2de8a089a683d6e",
   "outputs": [],
   "execution_count": null
  },
  {
   "metadata": {},
   "cell_type": "markdown",
   "source": "Inspecting the body length mean.",
   "id": "a8e98befe4c07c5b"
  },
  {
   "cell_type": "code",
   "id": "22",
   "metadata": {},
   "source": [
    "df[\"body_length\"].mean()"
   ],
   "outputs": [],
   "execution_count": null
  },
  {
   "cell_type": "markdown",
   "id": "23",
   "metadata": {},
   "source": [
    "The leaning distribution."
   ]
  },
  {
   "cell_type": "code",
   "id": "24",
   "metadata": {},
   "source": "df.groupby(\"leaning\", observed=True).size().plot.pie(autopct=\"%1.1f%%\");",
   "outputs": [],
   "execution_count": null
  },
  {
   "cell_type": "markdown",
   "id": "25",
   "metadata": {},
   "source": [
    "The distribution of body length sums per leaning."
   ]
  },
  {
   "cell_type": "code",
   "id": "26",
   "metadata": {},
   "source": "df.groupby(\"leaning\", observed=True)[\"body_length\"].sum().plot.pie(autopct=\"%1.1f%%\", ylabel=\"\");",
   "outputs": [],
   "execution_count": null
  },
  {
   "cell_type": "markdown",
   "id": "27",
   "metadata": {},
   "source": "The body length distribution by leaning."
  },
  {
   "cell_type": "code",
   "id": "28",
   "metadata": {},
   "source": [
    "plt.figure(figsize=(10, 6))\n",
    "\n",
    "for leaning in df[\"leaning\"].unique():\n",
    "    df_leaning = df[df[\"leaning\"] == leaning]\n",
    "    downsampled = pd.concat(\n",
    "        # Ensuring to include the last (longest) item.\n",
    "        [df_leaning[\"body_length\"].iloc[::100], df_leaning[\"body_length\"].tail(1)]\n",
    "    ).drop_duplicates().reset_index(drop=True)\n",
    "    plt.plot(downsampled, label=leaning)\n",
    "\n",
    "plt.xlabel(\"downsampled index\")\n",
    "plt.ylabel(\"body length\")\n",
    "plt.title(\"body length by political leaning\")\n",
    "plt.legend(title=\"leaning\")\n",
    "plt.show()"
   ],
   "outputs": [],
   "execution_count": null
  },
  {
   "cell_type": "code",
   "id": "29",
   "metadata": {},
   "source": "df.to_parquet(\"../preprocessed/commoncrawl_news_articles.parquet\")",
   "outputs": [],
   "execution_count": null
  }
 ],
 "metadata": {
  "kernelspec": {
   "display_name": "Python 3",
   "language": "python",
   "name": "python3"
  },
  "language_info": {
   "codemirror_mode": {
    "name": "ipython",
    "version": 2
   },
   "file_extension": ".py",
   "mimetype": "text/x-python",
   "name": "python",
   "nbconvert_exporter": "python",
   "pygments_lexer": "ipython2",
   "version": "2.7.6"
  }
 },
 "nbformat": 4,
 "nbformat_minor": 5
}
