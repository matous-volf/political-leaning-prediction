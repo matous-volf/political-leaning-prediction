{
 "cells": [
  {
   "metadata": {},
   "cell_type": "code",
   "source": [
    "import numpy as np\n",
    "import pandas as pd\n",
    "from datasets import concatenate_datasets, load_dataset\n"
   ],
   "id": "48dabd229e35c845",
   "outputs": [],
   "execution_count": null
  },
  {
   "cell_type": "markdown",
   "id": "1",
   "metadata": {},
   "source": [
    "Reading the raw dataset."
   ]
  },
  {
   "cell_type": "code",
   "id": "2",
   "metadata": {},
   "source": [
    "ds = load_dataset(\n",
    "    \"cajcodes/political-bias\",\n",
    "    revision=\"f24cd353b9c4a69c274fab4e43610ad90b1ae0d2\",\n",
    ")\n",
    "df = concatenate_datasets(ds.values()).to_pandas()\n",
    "df\n"
   ],
   "outputs": [],
   "execution_count": null
  },
  {
   "cell_type": "markdown",
   "id": "3",
   "metadata": {},
   "source": [
    "Renaming columns."
   ]
  },
  {
   "cell_type": "code",
   "id": "4",
   "metadata": {},
   "source": [
    "df = df.rename(columns={\"text\": \"body\", \"label\": \"leaning\"})\n"
   ],
   "outputs": [],
   "execution_count": null
  },
  {
   "cell_type": "markdown",
   "id": "5",
   "metadata": {},
   "source": "Categorizing the leaning label column."
  },
  {
   "cell_type": "code",
   "id": "6",
   "metadata": {},
   "source": [
    "df[\"leaning\"].unique()\n"
   ],
   "outputs": [],
   "execution_count": null
  },
  {
   "metadata": {},
   "cell_type": "code",
   "source": [
    "df[\"leaning\"] = df[\"leaning\"].replace(\n",
    "    {0: \"right\", 1: \"right\", 2: \"center\", 3: \"left\", 4: \"left\"}\n",
    ")\n",
    "df[\"leaning\"] = df[\"leaning\"].astype(\"category\")\n"
   ],
   "id": "e1875d3e8bb39e1c",
   "outputs": [],
   "execution_count": null
  },
  {
   "metadata": {},
   "cell_type": "markdown",
   "source": "Adding the politicalness label column.",
   "id": "c295f6b3d9ff5672"
  },
  {
   "metadata": {},
   "cell_type": "code",
   "source": [
    "df[\"politicalness\"] = pd.Categorical([\"political\"] * len(df))\n"
   ],
   "id": "9c0e750c81050014",
   "outputs": [],
   "execution_count": null
  },
  {
   "metadata": {},
   "cell_type": "markdown",
   "source": "Stripping the bodies.",
   "id": "6f002d95eb567a59"
  },
  {
   "metadata": {},
   "cell_type": "code",
   "source": [
    "df[\"body\"] = (df[\"body\"].str.strip()).replace(\"\", np.nan)\n"
   ],
   "id": "3e484e1d3c18dcbb",
   "outputs": [],
   "execution_count": null
  },
  {
   "cell_type": "markdown",
   "id": "8",
   "metadata": {},
   "source": [
    "Dropping rows with missing data."
   ]
  },
  {
   "cell_type": "code",
   "id": "9",
   "metadata": {},
   "source": [
    "df = df.dropna()\n"
   ],
   "outputs": [],
   "execution_count": null
  },
  {
   "cell_type": "markdown",
   "id": "10",
   "metadata": {},
   "source": "Printing body duplicates."
  },
  {
   "cell_type": "code",
   "id": "11",
   "metadata": {},
   "source": [
    "df[df[\"body\"].duplicated(keep=False)]\n"
   ],
   "outputs": [],
   "execution_count": null
  },
  {
   "cell_type": "markdown",
   "id": "12",
   "metadata": {},
   "source": "Dropping the body duplicates."
  },
  {
   "cell_type": "code",
   "id": "13",
   "metadata": {},
   "source": [
    "df = df.drop_duplicates(subset=\"body\")\n"
   ],
   "outputs": [],
   "execution_count": null
  },
  {
   "cell_type": "markdown",
   "id": "14",
   "metadata": {},
   "source": "Inspecting the body length."
  },
  {
   "cell_type": "code",
   "id": "15",
   "metadata": {},
   "source": [
    "df[\"body_length\"] = df[\"body\"].fillna(\"\").str.len()\n",
    "df[\"body_word_count\"] = df[\"body\"].fillna(\"\").str.split().str.len()\n",
    "df = df.sort_values(by=\"body_length\")\n",
    "df.head()\n"
   ],
   "outputs": [],
   "execution_count": null
  },
  {
   "cell_type": "code",
   "id": "24",
   "metadata": {},
   "source": [
    "df.to_parquet(\"../preprocessed/gpt4_political_bias.parquet\")\n"
   ],
   "outputs": [],
   "execution_count": null
  }
 ],
 "metadata": {
  "kernelspec": {
   "display_name": "Python 3",
   "language": "python",
   "name": "python3"
  },
  "language_info": {
   "codemirror_mode": {
    "name": "ipython",
    "version": 2
   },
   "file_extension": ".py",
   "mimetype": "text/x-python",
   "name": "python",
   "nbconvert_exporter": "python",
   "pygments_lexer": "ipython2",
   "version": "2.7.6"
  }
 },
 "nbformat": 4,
 "nbformat_minor": 5
}
