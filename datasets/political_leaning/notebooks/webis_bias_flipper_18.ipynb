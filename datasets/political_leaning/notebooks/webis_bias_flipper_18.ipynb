{
 "cells": [
  {
   "metadata": {},
   "cell_type": "code",
   "source": [
    "import csv\n",
    "from io import StringIO\n",
    "\n",
    "import numpy as np\n",
    "import pandas as pd\n",
    "from matplotlib import pyplot as plt\n",
    "from pandas import Series\n"
   ],
   "id": "4c51f41436612ab1",
   "outputs": [],
   "execution_count": null
  },
  {
   "metadata": {},
   "cell_type": "markdown",
   "source": "Reading the raw dataset. Some rows (e.g. line 1010) contain complex nested quotes and commas, which requires modifying each line before passing it to `pandas.read_csv()`. The outer quotes get replaced by an arbitrary (`\\u2603`, the snowman) character, which is then specified as the quote character used for parsing.",
   "id": "8ee4ed7151b33132"
  },
  {
   "metadata": {},
   "cell_type": "code",
   "source": [
    "csv.field_size_limit(4 * 131072)  # 4 times the default\n",
    "\n",
    "with open(\n",
    "    \"../raw/webis_bias_flipper_18.csv\", mode=\"r\", encoding=\"utf-8\"\n",
    ") as file:\n",
    "    modified_lines = (\n",
    "        \"\\u2603\".join(\n",
    "            line.replace('\",\"', \"\\u2603,\\u2603\")\n",
    "            .replace('\"', \"\\u2603\", 1)\n",
    "            .rsplit('\"', 1)\n",
    "        )\n",
    "        for line in file\n",
    "    )\n",
    "    df = pd.read_csv(\n",
    "        StringIO(\"\".join(modified_lines)),\n",
    "        quotechar=\"\\u2603\",\n",
    "        encoding=\"utf-8\",\n",
    "        engine=\"python\",\n",
    "    )\n",
    "df\n"
   ],
   "id": "c0fae3b951306a27",
   "outputs": [],
   "execution_count": null
  },
  {
   "cell_type": "markdown",
   "id": "3",
   "metadata": {},
   "source": [
    "Comparison of the body column (from AllSides) versus the original body column (from the news portals). The text volume of the original columns is much higher, probably because AllSides cuts the length. This means the title and body columns can be dropped and the original ones will be used."
   ]
  },
  {
   "cell_type": "code",
   "id": "4",
   "metadata": {},
   "source": [
    "pd.Series(\n",
    "    [df[\"original_body\"].str.len().sum(), df[\"body\"].str.len().sum()],\n",
    "    index=[\"original body\", \"body\"],\n",
    ").plot.pie(autopct=\"%1.1f%%\")\n"
   ],
   "outputs": [],
   "execution_count": null
  },
  {
   "cell_type": "markdown",
   "id": "5",
   "metadata": {},
   "source": [
    "Dropping useless columns."
   ]
  },
  {
   "cell_type": "code",
   "id": "6",
   "metadata": {},
   "source": [
    "df = df.drop(columns=[\"story_id\", \"title\", \"body\", \"source\"])\n"
   ],
   "outputs": [],
   "execution_count": null
  },
  {
   "cell_type": "markdown",
   "id": "7",
   "metadata": {},
   "source": [
    "Renaming and reordering columns."
   ]
  },
  {
   "cell_type": "code",
   "id": "8",
   "metadata": {},
   "source": [
    "df = df.rename(\n",
    "    columns={\n",
    "        \"original_title\": \"title\",\n",
    "        \"original_body\": \"body\",\n",
    "        \"bias\": \"leaning\",\n",
    "    }\n",
    ")\n",
    "df = df[[\"title\", \"body\", \"leaning\"]].copy()\n"
   ],
   "outputs": [],
   "execution_count": null
  },
  {
   "cell_type": "markdown",
   "id": "9",
   "metadata": {},
   "source": "Categorizing the leaning label column."
  },
  {
   "metadata": {},
   "cell_type": "code",
   "source": [
    "df[\"leaning\"] = df[\"leaning\"].astype(\"category\")\n",
    "df[\"leaning\"] = df[\"leaning\"].cat.rename_categories(\n",
    "    {\n",
    "        \"From the Left\": \"left\",\n",
    "        \"From the Center\": \"center\",\n",
    "        \"From the Right\": \"right\",\n",
    "    }\n",
    ")\n"
   ],
   "id": "defa7906f5b17ca9",
   "outputs": [],
   "execution_count": null
  },
  {
   "metadata": {},
   "cell_type": "markdown",
   "source": "Adding the politicalness label column.",
   "id": "a6756f67d94973f3"
  },
  {
   "metadata": {},
   "cell_type": "code",
   "source": [
    "df[\"politicalness\"] = pd.Categorical([\"political\"] * len(df))\n"
   ],
   "id": "a459689bf504e0a7",
   "outputs": [],
   "execution_count": null
  },
  {
   "metadata": {},
   "cell_type": "markdown",
   "source": "Stripping the titles and the bodies.",
   "id": "2ab01465464da514"
  },
  {
   "metadata": {},
   "cell_type": "code",
   "source": [
    "df[\"title\"] = (df[\"title\"].str.strip()).replace(\"\", np.nan)\n",
    "df[\"body\"] = (df[\"body\"].str.strip()).replace(\"\", np.nan)\n"
   ],
   "id": "226c567c7f184906",
   "outputs": [],
   "execution_count": null
  },
  {
   "metadata": {},
   "cell_type": "markdown",
   "source": "Dropping rows missing either the leaning or both the title and the body.",
   "id": "9027d7d9cbfe4695"
  },
  {
   "metadata": {},
   "cell_type": "code",
   "source": [
    "df = df.dropna(subset=[\"leaning\"])\n",
    "df = df.dropna(subset=[\"title\", \"body\"], how=\"all\")\n"
   ],
   "id": "6a709eed1679b9ae",
   "outputs": [],
   "execution_count": null
  },
  {
   "metadata": {},
   "cell_type": "markdown",
   "source": "Printing body duplicates.",
   "id": "ae6b923bc414402d"
  },
  {
   "metadata": {},
   "cell_type": "code",
   "source": [
    "df[df[\"body\"].duplicated(keep=False)]\n"
   ],
   "id": "f0a7da53d8cc6d53",
   "outputs": [],
   "execution_count": null
  },
  {
   "cell_type": "markdown",
   "id": "15",
   "metadata": {},
   "source": "Dropping the body duplicates."
  },
  {
   "cell_type": "code",
   "id": "16",
   "metadata": {},
   "source": [
    "df = df.drop_duplicates(subset=\"body\")\n"
   ],
   "outputs": [],
   "execution_count": null
  },
  {
   "cell_type": "markdown",
   "id": "17",
   "metadata": {},
   "source": "Inspecting the title and the body length."
  },
  {
   "metadata": {},
   "cell_type": "code",
   "source": [
    "df[\"title_length\"] = df[\"title\"].fillna(\"\").str.len()\n",
    "df[\"title_word_count\"] = df[\"title\"].fillna(\"\").str.split().str.len()\n",
    "df[\"body_length\"] = df[\"body\"].fillna(\"\").str.len()\n",
    "df[\"body_word_count\"] = df[\"body\"].fillna(\"\").str.split().str.len()\n",
    "df = df.sort_values(by=\"body_length\")\n",
    "df.head()\n"
   ],
   "id": "cd38527c210a258",
   "outputs": [],
   "execution_count": null
  },
  {
   "cell_type": "markdown",
   "id": "19",
   "metadata": {},
   "source": "After the inspection, rows with bodies shorter than 15 words seem to contain no political value. Removing them."
  },
  {
   "metadata": {},
   "cell_type": "code",
   "source": [
    "body_word_count_lower_bound = 15\n",
    "df = df[df[\"body_word_count\"] >= body_word_count_lower_bound]\n"
   ],
   "id": "1ab77e5646911620",
   "outputs": [],
   "execution_count": null
  },
  {
   "cell_type": "code",
   "id": "28",
   "metadata": {},
   "source": [
    "df.to_parquet(\"../preprocessed/webis_bias_flipper_18.parquet\")\n"
   ],
   "outputs": [],
   "execution_count": null
  }
 ],
 "metadata": {
  "kernelspec": {
   "display_name": "Python 3",
   "language": "python",
   "name": "python3"
  },
  "language_info": {
   "codemirror_mode": {
    "name": "ipython",
    "version": 2
   },
   "file_extension": ".py",
   "mimetype": "text/x-python",
   "name": "python",
   "nbconvert_exporter": "python",
   "pygments_lexer": "ipython2",
   "version": "2.7.6"
  }
 },
 "nbformat": 4,
 "nbformat_minor": 5
}