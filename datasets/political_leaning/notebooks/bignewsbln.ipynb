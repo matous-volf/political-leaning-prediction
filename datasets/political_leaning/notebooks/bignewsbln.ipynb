{
 "cells": [
  {
   "cell_type": "code",
   "id": "0",
   "metadata": {},
   "source": [
    "import gc\n",
    "from pathlib import Path\n",
    "\n",
    "import numpy as np\n",
    "import pandas as pd\n",
    "\n",
    "from utils.dataset_utils import PoliticalLeaningDataset\n"
   ],
   "outputs": [],
   "execution_count": null
  },
  {
   "cell_type": "markdown",
   "id": "1",
   "metadata": {},
   "source": [
    "Reading the raw dataset."
   ]
  },
  {
   "cell_type": "code",
   "id": "2",
   "metadata": {},
   "source": [
    "df_left = pd.read_json(\n",
    "    open(Path(\"../raw/bignewsbln/BIGNEWSBLN_left.json\")), encoding=\"utf-8\"\n",
    ")\n",
    "df_left\n"
   ],
   "outputs": [],
   "execution_count": null
  },
  {
   "cell_type": "code",
   "id": "8767bbeda1837b59",
   "metadata": {},
   "source": [
    "df_center = pd.read_json(\n",
    "    open(Path(\"../raw/bignewsbln/BIGNEWSBLN_center.json\")), encoding=\"utf-8\"\n",
    ")\n",
    "df_center\n"
   ],
   "outputs": [],
   "execution_count": null
  },
  {
   "cell_type": "code",
   "id": "9607b10549dda31e",
   "metadata": {},
   "source": [
    "df_right = pd.read_json(\n",
    "    open(Path(\"../raw/bignewsbln/BIGNEWSBLN_right.json\")), encoding=\"utf-8\"\n",
    ")\n",
    "df_right\n"
   ],
   "outputs": [],
   "execution_count": null
  },
  {
   "cell_type": "markdown",
   "id": "fdc055760a9d74c2",
   "metadata": {},
   "source": [
    "Adding the leaning label column."
   ]
  },
  {
   "cell_type": "code",
   "id": "5fcef115c8086336",
   "metadata": {
    "jupyter": {
     "is_executing": true
    }
   },
   "source": [
    "df_left[\"leaning\"] = [\"left\"] * len(df_left)\n",
    "df_center[\"leaning\"] = [\"center\"] * len(df_center)\n",
    "df_right[\"leaning\"] = [\"right\"] * len(df_right)\n",
    "df = pd.concat([df_left, df_center, df_right])\n",
    "del df_left\n",
    "del df_center\n",
    "del df_right\n",
    "gc.collect()\n",
    "df[\"leaning\"] = df[\"leaning\"].astype(\"category\")\n"
   ],
   "outputs": [],
   "execution_count": null
  },
  {
   "cell_type": "markdown",
   "id": "f800d536cbd5d58",
   "metadata": {},
   "source": [
    "Adding the politicalness label column."
   ]
  },
  {
   "cell_type": "code",
   "id": "22b637b0c44a0dfe",
   "metadata": {},
   "source": [
    "df[\"politicalness\"] = pd.Categorical([\"political\"] * len(df))\n"
   ],
   "outputs": [],
   "execution_count": null
  },
  {
   "cell_type": "markdown",
   "id": "3",
   "metadata": {},
   "source": [
    "Dropping useless columns."
   ]
  },
  {
   "cell_type": "code",
   "id": "4",
   "metadata": {},
   "source": [
    "df = df.drop(columns=[\"date\", \"url\", \"source\", \"html\"])\n"
   ],
   "outputs": [],
   "execution_count": null
  },
  {
   "cell_type": "markdown",
   "id": "5",
   "metadata": {},
   "source": [
    "Renaming and reordering columns."
   ]
  },
  {
   "cell_type": "code",
   "id": "6",
   "metadata": {},
   "source": [
    "df = df.rename(columns={\"text\": \"body\"})\n",
    "df = df[[\"title\", \"body\", \"leaning\", \"politicalness\"]].copy()\n"
   ],
   "outputs": [],
   "execution_count": null
  },
  {
   "cell_type": "markdown",
   "id": "f7bfa64c80db4da",
   "metadata": {},
   "source": [
    "Joining the body parts."
   ]
  },
  {
   "cell_type": "code",
   "id": "f72ebf0bda7a3585",
   "metadata": {},
   "source": [
    "df[\"body\"] = df[\"body\"].apply(lambda body_parts: \" \".join(body_parts))\n"
   ],
   "outputs": [],
   "execution_count": null
  },
  {
   "cell_type": "markdown",
   "id": "e335b06f31439be4",
   "metadata": {},
   "source": [
    "Stripping the titles and the bodies."
   ]
  },
  {
   "cell_type": "code",
   "id": "522bf2c428e06d21",
   "metadata": {},
   "source": [
    "df[\"title\"] = (df[\"title\"].str.strip()).replace(\"\", np.nan)\n",
    "df[\"body\"] = (df[\"body\"].str.strip()).replace(\"\", np.nan)\n"
   ],
   "outputs": [],
   "execution_count": null
  },
  {
   "cell_type": "markdown",
   "id": "9",
   "metadata": {},
   "source": [
    "Dropping rows missing either the leaning or both the title and the body."
   ]
  },
  {
   "cell_type": "code",
   "id": "10",
   "metadata": {
    "jupyter": {
     "is_executing": true
    }
   },
   "source": [
    "df = df.dropna(subset=[\"leaning\"])\n",
    "df = df.dropna(subset=[\"title\", \"body\"], how=\"all\")\n"
   ],
   "outputs": [],
   "execution_count": null
  },
  {
   "cell_type": "markdown",
   "id": "11",
   "metadata": {},
   "source": [
    "Printing body duplicates."
   ]
  },
  {
   "cell_type": "code",
   "id": "12",
   "metadata": {},
   "source": [
    "df[df[\"body\"].duplicated(keep=False)]\n"
   ],
   "outputs": [],
   "execution_count": null
  },
  {
   "cell_type": "markdown",
   "id": "13",
   "metadata": {},
   "source": [
    "Dropping the body duplicates."
   ]
  },
  {
   "cell_type": "code",
   "id": "14",
   "metadata": {},
   "source": [
    "df = df.drop_duplicates(subset=\"body\")\n"
   ],
   "outputs": [],
   "execution_count": null
  },
  {
   "cell_type": "markdown",
   "id": "15",
   "metadata": {},
   "source": [
    "Inspecting the title and the body length."
   ]
  },
  {
   "cell_type": "code",
   "id": "16",
   "metadata": {},
   "source": [
    "df[\"title_length\"] = df[\"title\"].fillna(\"\").str.len()\n",
    "df[\"title_word_count\"] = df[\"title\"].fillna(\"\").str.split().str.len()\n",
    "df[\"body_length\"] = df[\"body\"].fillna(\"\").str.len()\n",
    "df[\"body_word_count\"] = df[\"body\"].fillna(\"\").str.split().str.len()\n",
    "df = df.sort_values(by=\"body_length\")\n",
    "df.head()\n"
   ],
   "outputs": [],
   "execution_count": null
  },
  {
   "metadata": {},
   "cell_type": "markdown",
   "source": "Downsampling the dataset.",
   "id": "b086e4392b921cae"
  },
  {
   "cell_type": "code",
   "id": "1445c759-8e07-4ea3-b94e-0b437fe09001",
   "metadata": {},
   "source": [
    "SAMPLE_SIZE = 100_000\n",
    "\n",
    "dataset = PoliticalLeaningDataset(\"bignewsbln\", df)\n",
    "df = dataset.take_even_class_sample_by_size(SAMPLE_SIZE).dataframe\n"
   ],
   "outputs": [],
   "execution_count": null
  },
  {
   "cell_type": "code",
   "id": "26",
   "metadata": {},
   "source": [
    "df.to_parquet(\"../preprocessed/bignewsbln.parquet\")\n"
   ],
   "outputs": [],
   "execution_count": null
  }
 ],
 "metadata": {
  "kernelspec": {
   "display_name": "Python 3 (ipykernel)",
   "language": "python",
   "name": "python3"
  },
  "language_info": {
   "codemirror_mode": {
    "name": "ipython",
    "version": 3
   },
   "file_extension": ".py",
   "mimetype": "text/x-python",
   "name": "python",
   "nbconvert_exporter": "python",
   "pygments_lexer": "ipython3",
   "version": "3.12.8"
  }
 },
 "nbformat": 4,
 "nbformat_minor": 5
}